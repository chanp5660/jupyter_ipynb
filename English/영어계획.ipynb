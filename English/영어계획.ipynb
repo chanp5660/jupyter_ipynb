{
 "cells": [
  {
   "attachments": {},
   "cell_type": "markdown",
   "metadata": {},
   "source": [
    "---  \n",
    "layout: post  \n",
    "current: post  \n",
    "cover:  assets/built/images/영어.png  \n",
    "navigation: True  \n",
    "title: 영어계획   \n",
    "date: 2023-04-27 00:00:00 +0900  \n",
    "tags: [English]  \n",
    "class: post-template  \n",
    "subclass: 'post tag-python'  \n",
    "author: chanp5660  \n",
    "---  \n",
    " "
   ]
  },
  {
   "attachments": {},
   "cell_type": "markdown",
   "metadata": {},
   "source": [
    "# 영어계획\n",
    "\n",
    "chatgpt를 이용하여 영어를 배웁니다.  \n",
    "그 과정을 블로그에 기록합니다.\n",
    "\n",
    "[영어 구동사 암기하지 않아도 돼요 💥 이제 Chat GPT로 뇌에 새기세요 [3step 공부법]](https://www.youtube.com/watch?v=rGcRb_YNs_M&list=LL&index=11)  \n",
    "[ChatGPT와 회화 연습 시 99%가 몰라서 놓치는 최적의 세팅법](https://www.youtube.com/watch?v=n_zhNMrNZI0)"
   ]
  }
 ],
 "metadata": {
  "language_info": {
   "name": "python"
  },
  "orig_nbformat": 4
 },
 "nbformat": 4,
 "nbformat_minor": 2
}
