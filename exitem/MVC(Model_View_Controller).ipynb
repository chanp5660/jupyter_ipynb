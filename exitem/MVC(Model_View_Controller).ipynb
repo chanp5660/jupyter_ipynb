{
 "cells": [
  {
   "attachments": {},
   "cell_type": "markdown",
   "metadata": {},
   "source": [
    "---  \n",
    "layout: post  \n",
    "current: post  \n",
    "cover:  assets/built/images/MVC.png  \n",
    "navigation: True  \n",
    "title: MVC(Model View Controller)   \n",
    "date: 2023-04-27 00:00:00 +0900  \n",
    "tags: [exitem,TIL]  \n",
    "class: post-template  \n",
    "subclass: 'post tag-python'  \n",
    "author: chanp5660  \n",
    "---  \n",
    " "
   ]
  },
  {
   "attachments": {},
   "cell_type": "markdown",
   "metadata": {},
   "source": [
    "# MVC(Model View Controller)\n",
    "\n",
    "소프트웨어 아키텍처 모델 중 하나로, 사용자 인터페이스와 애플리케이션 데이터와의 상호작용을 관리하는데 사용됩니다.   \n",
    "MVC는 대규모 응용 프로그램의 개발 및 유지 보수를 용이하게 하며, 유연성과 확장성을 제공합니다.\n",
    "\n",
    "MVC 모델에서 뷰와 모델은 서로에 대해 알지 못하며, 컨트롤러가 중개자 역할을 수행합니다.  \n",
    "이는 뷰와 모델 간의 결합도를 낮추어 애플리케이션의 유지 보수 및 확장성을 높이는데 큰 도움을 줍니다.   \n",
    "또한, 하나의 모델에 여러 개의 뷰를 연결할 수 있으므로, MVC는 유연성이 뛰어나고 재사용성이 높은 아키텍처 모델입니다.\n",
    "\n",
    "## 구성 요소\n",
    "\n",
    "### Model\n",
    "\n",
    "- 모델은 애플리케이션 데이터와 관련된 부분입니다.  \n",
    "- 데이터를 표현하고, 데이터를 읽고 쓰는 작업을 수행합니다.  \n",
    "- 비즈니스 로직을 포함하고, 데이터에 대한 유효성 검사와 같은 중요한 작업을 수행합니다.\n",
    "\n",
    "### View\n",
    "\n",
    "- 뷰는 사용자 인터페이스의 시각적인 부분입니다.\n",
    "- 사용자가 보는 모든 것을 담당하며, 사용자가 애플리케이션에서 수행하는 작업을 제어합니다.  \n",
    "- 예를 들아, 뷰는 사용자에게 데이터를 표시하고, 사용자의 입력을 수신하여 애플리케이션의 상태를 변경합니다.\n",
    "\n",
    "### Controller\n",
    "\n",
    "- 컨트롤러는 뷰와 모델 사이의 중개자 역할을 합니다.\n",
    "- 사용자의 입력을 받고, 이를 모델에 전달합니다.\n",
    "- 그리고 모델이 새로운 데이터를 반환하면, 컨트롤러는 해당 데이터를 뷰에 전달하여 사용자 인터페이스를 업데이트합니다."
   ]
  }
 ],
 "metadata": {
  "language_info": {
   "name": "python"
  },
  "orig_nbformat": 4
 },
 "nbformat": 4,
 "nbformat_minor": 2
}
