{
 "cells": [
  {
   "cell_type": "markdown",
   "id": "be3c68d2-f8ca-40c2-a171-077f4966e51d",
   "metadata": {},
   "source": [
    "---  \n",
    "layout: post  \n",
    "current: post  \n",
    "cover:  assets/built/images/github-logo.png  \n",
    "navigation: True  \n",
    "title: jekyll-git 설정 및 수정   \n",
    "date: 2022-07-14 02:08:00 +0900  \n",
    "tags: [exitem]  \n",
    "class: post-template   \n",
    "subclass: 'post tag-python'  \n",
    "author: chanp5660   \n",
    "---  \n",
    "\n",
    "{% include githubblog-table-of-contents.html %}  "
   ]
  },
  {
   "cell_type": "markdown",
   "id": "bcd918eb-68a4-4a31-948a-c3f75707ad35",
   "metadata": {},
   "source": [
    "# jekyll-git 설정 및 수정\n",
    "\n",
    "---\n",
    "# 깃허브 블로그 따라하기 유투브\n",
    "https://www.youtube.com/watch?v=2ClW2LdqP30 유투브\n",
    "\n",
    "https://moon9342.github.io/jekyll-start 사이트\n",
    "\n"
   ]
  },
  {
   "cell_type": "markdown",
   "id": "d782fb3f-ad7d-40fd-874f-e0e870f30326",
   "metadata": {
    "tags": []
   },
   "source": [
    "## Jekyll 기반의 GitHub Page 생성(1) - 환경설정  \n",
    "https://www.youtube.com/watch?v=2ClW2LdqP30  \n"
   ]
  },
  {
   "cell_type": "markdown",
   "id": "77c7dce3-33e5-4ea0-80b9-3c17f41e2417",
   "metadata": {},
   "source": [
    "## Jekyll 기반의 GitHub Page 생성(2) - 블로그 수정 영상 (환경설정파일 수정)  \n",
    "https://www.youtube.com/watch?v=OO5IZrx1ZVE\n"
   ]
  },
  {
   "cell_type": "markdown",
   "id": "9c619cd3-4026-448d-b238-b79f7353f771",
   "metadata": {},
   "source": [
    "- posts에 date 끝네 +0900 을 붙여야 업데이트가 된다.\n",
    "- gulp 명령어가 실행이 안되면 터미널에 npm install --global gulp-cli 를 실행\n",
    "- rough 테마 종류 보는 사이트 : https://spsarolkar.github.io/rouge-theme-preview/\n"
   ]
  },
  {
   "cell_type": "markdown",
   "id": "5e65b96e-6b3b-4ba1-ae86-f221b35641ec",
   "metadata": {},
   "source": [
    "-"
   ]
  }
 ],
 "metadata": {
  "kernelspec": {
   "display_name": "Python 3 (ipykernel)",
   "language": "python",
   "name": "python3"
  },
  "language_info": {
   "codemirror_mode": {
    "name": "ipython",
    "version": 3
   },
   "file_extension": ".py",
   "mimetype": "text/x-python",
   "name": "python",
   "nbconvert_exporter": "python",
   "pygments_lexer": "ipython3",
   "version": "3.7.13"
  }
 },
 "nbformat": 4,
 "nbformat_minor": 5
}
