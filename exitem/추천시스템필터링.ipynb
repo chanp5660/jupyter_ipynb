{
 "cells": [
  {
   "attachments": {},
   "cell_type": "markdown",
   "id": "38d03b16-af7b-4e75-85f3-6c119de2dbc1",
   "metadata": {},
   "source": [
    "---  \n",
    "layout: post  \n",
    "current: post  \n",
    "cover:  assets/built/images/추천시스템필터링.png  \n",
    "navigation: True  \n",
    "title: 추천시스템필터링   \n",
    "date: 2023-03-05 00:00:00 +0900  \n",
    "tags: [exitem,TIL]  \n",
    "class: post-template  \n",
    "subclass: 'post tag-python'  \n",
    "author: chanp5660  \n",
    "---  \n",
    " "
   ]
  },
  {
   "attachments": {},
   "cell_type": "markdown",
   "id": "7b6d9e25-2d0e-4c5a-910f-19ed72959352",
   "metadata": {},
   "source": [
    "# 추천시스템 필터링\n",
    "\n",
    "크게 협업 필터링과 콘텐츠 기반 필터링으로 나뉜다. 두가지 방법을 같이 사용하는 하이브리드 방식이 가장 많이 사용된다."
   ]
  },
  {
   "cell_type": "markdown",
   "id": "310eef7f-792b-4455-8201-1b1cd41226e2",
   "metadata": {},
   "source": [
    "### 협업 필터링\n",
    "\n",
    "- 사용자들의 과거 행동 데이터를 분석하여, 유사한 취향과 관심사를 가진 사용자들을 찾아내어 추천을 제공하는 방식\n",
    "- 목적에 따라 2가지로 나뉨\n",
    "    - 사용자 기반 협업 필터링(User-Based Collaborative Filtering)\n",
    "    - 상품 기반 협업 필터링(Item-Based Collaborative Filtering)\n",
    "\n",
    "### 콘텐츠 기반 필터링\n",
    "\n",
    "- 사용자가 이전에 선호한 콘텐츠의 특성을 분석하여 유사한 특성의 다른 콘텐츠를 추천하는 방식\n",
    "\n",
    "### 하이브리드 방식(Hybrid Recommender Systems)\n",
    "- 최근에는 위 두 가지 방식을 결합한 방법이 많이 사용\n",
    "- 협업 필터링과 콘텐츠 기반 필터링을 조합하여 추천 정확도를 높이는 방식\n",
    "- 추천 시스템에서는 사용자의 행동 데이터(구매 이력, 검색 기록 등)를 분석하여  \n",
    "새로운 아이템을 추천하는 방법으로 콜드 스타트(cold start) 문제를 해결할 수 있는 방법\n",
    "- 이 방법은 새로운 사용자나 새로운 아이템에 대한 추천을 제공하기 위해 사용"
   ]
  }
 ],
 "metadata": {
  "kernelspec": {
   "display_name": "Python 3 (ipykernel)",
   "language": "python",
   "name": "python3"
  },
  "language_info": {
   "codemirror_mode": {
    "name": "ipython",
    "version": 3
   },
   "file_extension": ".py",
   "mimetype": "text/x-python",
   "name": "python",
   "nbconvert_exporter": "python",
   "pygments_lexer": "ipython3",
   "version": "3.7.13"
  }
 },
 "nbformat": 4,
 "nbformat_minor": 5
}
