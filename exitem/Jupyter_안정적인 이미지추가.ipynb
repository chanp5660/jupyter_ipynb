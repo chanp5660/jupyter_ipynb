{
 "cells": [
  {
   "cell_type": "markdown",
   "id": "4cc90347-03e6-4cec-85db-1566f063e938",
   "metadata": {},
   "source": [
    "---  \n",
    "layout: post  \n",
    "current: post  \n",
    "cover:  assets/built/images/jupyter-logo.png  \n",
    "navigation: True  \n",
    "title: Jupyter-안정적인 이미지추가   \n",
    "date: 2022-07-18 12:12:00 +0900  \n",
    "tags: [exitem]  \n",
    "class: post-template  \n",
    "subclass: 'post tag-python'  \n",
    "author: chanp5660  \n",
    "---  "
   ]
  },
  {
   "cell_type": "markdown",
   "id": "b8038fb4-7c68-406f-a5fc-9285e45f124c",
   "metadata": {},
   "source": [
    "# Jupyter-안정적인 이미지추가  \n",
    "\n",
    "> local에서 Jupyter를 이용할때는 괜찮았지만 블로그에 업로드를 하거나 파일들을 정리할 때 경로도 변경해주어야 하는 번거로움이 있어 찾게 되었다. 또 이미지의 크기로 상황에 따라 다르게 해야하므로 같이 추가했다.  \n",
    "\n",
    "- 안정적 : 이미지를 보관하지 않아도 git issue 이용하여 링크로 보관하고 있어 링크만 있으면 돼서 안정적이다.  \n",
    "- 크기 조절 : HTML 언어에서  \\<img src= \"git issue 링크\"> 를 이용해 이미지 크기를 조절한다.\n",
    "\n",
    "\n",
    "1. git issue 에서 링크 얻기  \n",
    "- 본인의 github의 Repositories 를 클릭한다.\n",
    "\n",
    "<img src=\"https://user-images.githubusercontent.com/46266247/179441187-d883d11e-9d47-4132-9a8e-31734b565c9e.png\" width=\"100%\">\n",
    "\n",
    "- Repositorties 중 하나를 클릭한다.(없을수도 있는데 해당 Reposiory의 Setting에서 issue 부분을 추가할 수 있다.)\n",
    "\n",
    "<img src=\"https://user-images.githubusercontent.com/46266247/179441319-f579f561-cb5d-45a6-b35e-09e60d97e6a3.png\" width=\"100%\">  \n",
    "\n",
    "- Issue 클릭 후 New Issue 를 클릭한다.\n",
    "\n",
    "<img src=\"https://user-images.githubusercontent.com/46266247/179441496-389e667d-5eeb-47fe-b977-bf924531c757.png\" width=\"100%\">\n",
    "\n",
    "- 이미지 추가\n",
    "    - 드래그 : Write 부분에 드래그에서 이미지를 넣어준다.\n",
    "    - 클릭 : 아래 이미지의 빨간색 네모 부분을 클릭하여 파일을 찾아 넣어준다.  \n",
    "    \n",
    "<img src=\"https://user-images.githubusercontent.com/46266247/179441785-db0ba525-a615-4dae-b95b-87b384166310.png\" width=\"100%\">\n",
    "\n",
    "- 링크 복사 : 소괄호 () 부분을 드래그하여 복사해준다.\n",
    "    - !\\[파일이름](새로 생긴 주소 여기 부분)\n",
    "    - 예시 : !\\[tempsnip](https://user-images.githubusercontent.com/46266247/179441785-db0ba525-a615-4dae-b95b-87b384166310.png)\n",
    "        - https://user-images.githubusercontent.com/46266247/179441785-db0ba525-a615-4dae-b95b-87b384166310.png  \n",
    "        \n",
    "- 아래 형식에 따라 주피터 원하는 곳에 넣어준다. width 부분으로 크기를 조절하면 된다.\n",
    "    - \\<img src=\"복사한 부분\" width=\"퍼센트로 적는게 편하다.\">\n",
    "    - 예시 : \\<img src=\"https://user-images.githubusercontent.com/46266247/179441785-db0ba525-a615-4dae-b95b-87b384166310.png\" width=\"50%\">"
   ]
  },
  {
   "cell_type": "markdown",
   "id": "83c860b6-778f-4dc3-81f7-98e9d5adf8cd",
   "metadata": {},
   "source": [
    "# 이미지 추가 결과\n",
    "\n",
    "<img src=\"https://user-images.githubusercontent.com/46266247/179441785-db0ba525-a615-4dae-b95b-87b384166310.png\" width=\"50%\">\n"
   ]
  }
 ],
 "metadata": {
  "kernelspec": {
   "display_name": "Python 3 (ipykernel)",
   "language": "python",
   "name": "python3"
  },
  "language_info": {
   "codemirror_mode": {
    "name": "ipython",
    "version": 3
   },
   "file_extension": ".py",
   "mimetype": "text/x-python",
   "name": "python",
   "nbconvert_exporter": "python",
   "pygments_lexer": "ipython3",
   "version": "3.7.13"
  }
 },
 "nbformat": 4,
 "nbformat_minor": 5
}
