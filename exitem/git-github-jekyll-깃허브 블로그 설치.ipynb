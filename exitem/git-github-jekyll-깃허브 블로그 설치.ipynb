{
 "cells": [
  {
   "cell_type": "markdown",
   "id": "ce9260e6-8ecb-47ac-bce9-d828ebfc7e1f",
   "metadata": {},
   "source": [
    "---  \n",
    "layout: post  \n",
    "current: post  \n",
    "cover:  assets/built/images/github-logo.png  \n",
    "navigation: True  \n",
    "title: 깃허브 블로그 추천 테마   \n",
    "date: 2022-07-14 02:08:00 +0900  \n",
    "tags: [github]  \n",
    "class: post-template   \n",
    "subclass: 'post tag-python'  \n",
    "author: chanp5660   \n",
    "---  \n"
   ]
  },
  {
   "cell_type": "markdown",
   "id": "608d2e09-57b1-443b-924c-a70adf820368",
   "metadata": {},
   "source": [
    "# 깃허브 블로그 추천 테마  \n",
    "\n",
    "- http://jekyllthemes.org/\n",
    "\n",
    "- https://jekyll-themes.com/free/   \n",
    "  \n",
    "    * 여기에서 minimalistic  \n",
    "    https://jekyll-themes.com/jekyll-theme-minimalistic/"
   ]
  },
  {
   "cell_type": "markdown",
   "id": "6a5a1433-980b-4cb5-9249-50185880aec9",
   "metadata": {},
   "source": [
    "## 블로그 기본 변경\n",
    "\n",
    "- _config.yml 수정\n",
    "    - 프로필 이미지 수정 \n",
    "    ![dog-gdd132e1b0_1920](https://user-images.githubusercontent.com/46266247/178733264-9c4d49e6-3698-4096-8da4-16318de6f27a.jpg)\n",
    "\n",
    "    - 파비콘 수정 (favicon, 탭에 뜨는 이미지 설정)\n",
    "    https://velog.io/@eona1301/Github-Blog-%ED%8C%8C%EB%B9%84%EC%BD%98Favicon-%EC%84%B8%ED%8C%85%ED%95%98%EA%B8%B0  \n",
    "    "
   ]
  },
  {
   "cell_type": "markdown",
   "id": "7101ade2-5ef4-4067-949d-72fea48d95c6",
   "metadata": {},
   "source": [
    "# 블로그 주소 설정\n",
    "\n",
    "https://ahnslab.com/21-how-to-start-github-blog/"
   ]
  },
  {
   "cell_type": "markdown",
   "id": "3498d083-60fe-4901-8cf3-6807bb19264e",
   "metadata": {},
   "source": [
    "# 쉽고 빠르게 GitHub 블로그  \n",
    "https://dreamgonfly.github.io/blog/jekyll-remote-theme/"
   ]
  },
  {
   "cell_type": "markdown",
   "id": "810a4959-b7cb-4b1b-9615-00d9b0e03476",
   "metadata": {},
   "source": [
    "# 개인 로컬 환경(windows)에서 GitHub Blog With jekyll 세팅하기\n",
    "  \n",
    "https://rerewww.github.io/setting/setting-jekyll-blog/"
   ]
  },
  {
   "cell_type": "markdown",
   "id": "f59ee30f-a3c5-4319-b3ee-d5e493d5e764",
   "metadata": {},
   "source": [
    "# git Git bash 연동  \n",
    "\n",
    "https://transferhwang.tistory.com/160"
   ]
  },
  {
   "cell_type": "markdown",
   "id": "deb1a970-b3d3-4458-beb0-6ecdae856568",
   "metadata": {},
   "source": [
    "# Minimal Mistakes 를 적용한 Github Page 만들기  \n",
    "https://pnurep.github.io/blogging/github-page-minimal-mistakes/#\n"
   ]
  },
  {
   "cell_type": "markdown",
   "id": "3ad3f48f-4c9c-4816-9b6a-92d9217e98aa",
   "metadata": {},
   "source": [
    "# 깃허브 블로그 따라하기 유투브  \n",
    "\n",
    "https://www.youtube.com/watch?v=2ClW2LdqP30  유투브\n",
    "\n",
    "https://moon9342.github.io/jekyll-start 사이트\n"
   ]
  },
  {
   "cell_type": "markdown",
   "id": "a99a3cf3-1423-4132-ace5-9c62e6a22697",
   "metadata": {},
   "source": [
    "## jekyll 실행 시킬 때 `require': cannot load such file -- webrick (LoadError) 오류가 난다면 bundle add webrick  \n",
    "https://junho85.pe.kr/1850"
   ]
  },
  {
   "cell_type": "markdown",
   "id": "650cd8a6-21d2-47e2-b59c-77303bbad1bf",
   "metadata": {},
   "source": [
    "# 주피터 노트북에서 MD 파일 보기  \n",
    "JupyterLab markdown rendering  \n",
    "https://www.youtube.com/watch?v=eQsRlqK-z1c"
   ]
  },
  {
   "cell_type": "code",
   "execution_count": null,
   "id": "b7191e86-e3be-44ff-8345-58845fea45b1",
   "metadata": {},
   "outputs": [],
   "source": []
  }
 ],
 "metadata": {
  "kernelspec": {
   "display_name": "Python 3 (ipykernel)",
   "language": "python",
   "name": "python3"
  },
  "language_info": {
   "codemirror_mode": {
    "name": "ipython",
    "version": 3
   },
   "file_extension": ".py",
   "mimetype": "text/x-python",
   "name": "python",
   "nbconvert_exporter": "python",
   "pygments_lexer": "ipython3",
   "version": "3.7.13"
  }
 },
 "nbformat": 4,
 "nbformat_minor": 5
}
