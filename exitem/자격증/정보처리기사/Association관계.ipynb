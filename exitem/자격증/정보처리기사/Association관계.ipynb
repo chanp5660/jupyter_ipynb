{
 "cells": [
  {
   "attachments": {},
   "cell_type": "markdown",
   "metadata": {},
   "source": [
    "---  \n",
    "layout: post  \n",
    "current: post  \n",
    "cover:  assets/built/images/Association관계.png  \n",
    "navigation: True  \n",
    "title: Association관계   \n",
    "date: 2023-04-25 00:00:00 +0900  \n",
    "tags: [exitem,정처기]  \n",
    "class: post-template  \n",
    "subclass: 'post tag-python'  \n",
    "author: chanp5660  \n",
    "---  \n",
    " "
   ]
  },
  {
   "attachments": {},
   "cell_type": "markdown",
   "metadata": {},
   "source": [
    "# Association 관계\n",
    "\n",
    "Association은 **객체 지향 프로그래밍**에서 **클래스 간의 관계**를 나타내는 개념 중 하나입니다.  \n",
    "**두 클래스**가 **서로 연관**되어 있는 경우, 이를 **Association 관계**라고 합니다.  \n",
    "\n",
    "두 클래스가 협력하여 작업을 수행하는 것을 의미하며, **클래스 간의 의존성**을 표현합니다.   \n",
    "\n",
    "단방향 또는 양방향일 수 있으며, 방향은 클래스 간의 의존성에 따라 결정됩니다.  \n",
    "또한, 단순히 두 클래스 사이의 관계를 나타내기만 하는 것이 아니라, 클래스 간의 데이터 전달 및 상호작용을 가능하게 합니다. \n",
    "\n",
    "두 객체 간의 연결성을 표현하기 때문에, 클래스 다이어그램에서는 객체들 간의 선으로 표시됩니다.  \n",
    "이 선은 객체 간의 관계를 나타내며, 관계의 종류에 따라 다양한 방식으로 표현될 수 있습니다.\n",
    "\n",
    "객체 지향 프로그래밍에서 중요한 개념 중 하나이며, 객체 지향 설계에서 클래스 간의 관계를 분석하고 모델링하는 데 사용됩니다.\n",
    "\n",
    "\n",
    "## 예시\n",
    "- 학생과 과목 클래스가 있을 때, 학생이 수강하는 과목과 과목을 수강하는 학생 사이에 Assocication 관계가 있을 수 있습니다.\n",
    "- 한 객체가 다른 객체를 사용하여 기능을 수행하거나, 한 객체가 다른 객체를 생성하거나, 다른 객체에게 메시지를 보내는 등의 상호작용이 가능합니다.\n",
    "\n",
    "\n",
    "## 종류\n",
    "- One-to-One (일대일) : 한 객체가 다른 객체와 연관되어 있으며, 반대로 다른 객체도 해당 객체와 연관되어 있는 경우\n",
    "- One-to-Many (일대다) : 한 객체가 여러 개의 다른 객체와 연관되어 있으며, 다른 객체는 해당 객체와 연관되어 있지 않은 경우\n",
    "- Many-to-Many (다대다) : 여러 개의 객체가 서로 연관되어 있으며, 서로가 일대일 또는 일대다 관계가 아닌 경우"
   ]
  }
 ],
 "metadata": {
  "language_info": {
   "name": "python"
  },
  "orig_nbformat": 4
 },
 "nbformat": 4,
 "nbformat_minor": 2
}
