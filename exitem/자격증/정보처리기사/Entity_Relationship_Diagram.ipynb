{
 "cells": [
  {
   "attachments": {},
   "cell_type": "markdown",
   "metadata": {},
   "source": [
    "---  \n",
    "layout: post  \n",
    "current: post  \n",
    "cover:  assets/built/images/ERD.png  \n",
    "navigation: True  \n",
    "title: ERD   \n",
    "date: 2023-04-19 00:00:00 +0900  \n",
    "tags: [exitem,정처기]  \n",
    "class: post-template  \n",
    "subclass: 'post tag-python'  \n",
    "author: chanp5660  \n",
    "---  \n",
    " "
   ]
  },
  {
   "attachments": {},
   "cell_type": "markdown",
   "metadata": {},
   "source": [
    "# Entity-Relationship Diagram ERD 개체 관계 다이어그램\n",
    "\n",
    "데이터 모델링 기술 중 하나로, 시스템에 필요한 데이터와 데이터 간의 관계를 시각적으로 표현하는 방법입니다.  \n",
    "세 가지 요소로 이루어져 있습니다.\n",
    "\n",
    "아래 세 가지 요소들을 사용하여 시스템의 데이터 구조를 시각적으로 표현합니다.  \n",
    "보통 개체를 직사각형으로 표시하고, 속성을 타원형으로 표시하며, 관계를 화살표로 표시합니다.  \n",
    "이렇게 사용하면 시스템의 데이터 구조를 쉽게 이해하고, 문제를 파악하고, 설계할 수 있습니다.  \n",
    "\n",
    "즉, ERD는 데이터 모델링 기술 중 하나로, 시스템에 필요한 데이터와 데이터 간의 관계를 시각적으로 표현하는 방법입니다.  \n",
    "객체, 속성, 관계 등의 요소를 사용하여 시스템의 데이터 구조를 설계하고, 문제를 파악하고, 시스템을 구현할 수 있습니다."
   ]
  },
  {
   "attachments": {},
   "cell_type": "markdown",
   "metadata": {},
   "source": [
    "## Entity(개체)\n",
    "\n",
    "시스템에서 저장되는 데이터의 종류를 나타내는 것으로, 보통 실제 세계에서 존재하는 개체를 표현합니다.  \n",
    "예를 들어, '학생'이나 '강의'와 같은 개체가 있을 수 있습니다.  \n",
    "\n",
    "## Attribute(속성)\n",
    "\n",
    "개체의 속성을 나타내는 것으로, 개체의 속성은 개체를 식별하거나 개체에 대한 정보를 나타냅니다.  \n",
    "예를 들어, '학생' 개체의 속성으로 '이름', '학번', '전공' 등이 있을 수 있습니다.  \n",
    "\n",
    "## Relationship(관계)\n",
    "\n",
    "개체 같의 연결을 나타내는 것으로, 개체 간의 관계는 일대일, 일대다, 다대다 등으로 표현할 수 있습니다.  \n",
    "예를 들어, '학생'과 '강의' 간의 관계는 일대다 관계로 표현할 수 있습니다."
   ]
  }
 ],
 "metadata": {
  "language_info": {
   "name": "python"
  },
  "orig_nbformat": 4
 },
 "nbformat": 4,
 "nbformat_minor": 2
}
