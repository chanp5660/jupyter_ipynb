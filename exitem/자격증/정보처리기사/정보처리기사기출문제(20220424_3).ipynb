{
 "cells": [
  {
   "attachments": {},
   "cell_type": "markdown",
   "metadata": {},
   "source": [
    "---  \n",
    "layout: post  \n",
    "current: post  \n",
    "cover:  assets/built/images/정보처리기사.png  \n",
    "navigation: True  \n",
    "title: 정보처리기사 기출문제 20220424_3   \n",
    "date: 2023-04-28 00:00:00 +0900  \n",
    "tags: [exitem,정처기]  \n",
    "class: post-template  \n",
    "subclass: 'post tag-python'  \n",
    "author: chanp5660  \n",
    "---  \n",
    " "
   ]
  },
  {
   "attachments": {},
   "cell_type": "markdown",
   "metadata": {},
   "source": [
    "# 정보처리기사 기출문제 부시기 20220424\n",
    "\n",
    "합격을 기원합니다."
   ]
  },
  {
   "attachments": {},
   "cell_type": "markdown",
   "metadata": {},
   "source": [
    "모든 자료는 [**전자문제집 CBT**](https://www.comcbt.com/)에서 제공됩니다."
   ]
  },
  {
   "attachments": {},
   "cell_type": "markdown",
   "metadata": {},
   "source": [
    "# 2과목 : 소프트웨어 개발 (21번~30번)"
   ]
  },
  {
   "attachments": {},
   "cell_type": "markdown",
   "metadata": {},
   "source": [
    "## 21. 통합 테스트(Integration Test)와 관련한 설명으로 *틀린* 것은?\n",
    "\n",
    "1. 시스템을 구성하는 모듈의 인터페이스와 결합을 테스트하는 것이다.\n",
    "2. 하향식 통합 테스트의 경우 넓이 우선(Breadth First)방식으로 테스트를 할 모듈을 선택할 수 있다.\n",
    "3. ***상향식 통합 테스트의 경우 시스템 구조도의 최상위에 있는 모듈을 먼저 구현하고 테스트한다.***\n",
    "4. 모듈 간의 인터페이스와 시스템의 동작이 정상적으로 잘되고 있는지를 빨리 파악하고자 할 때 상향식 보다는 하향식 통합 테스트를 사용하는 것이 좋다.\n",
    "\n",
    "**문제 해설**  \n",
    "\n",
    "- 상향식 통합 테스트 (Bottom Up Integration Test)\n",
    "    - 프로그램의 하위 모듈에서 상위 모듈 방향으로 통합\n",
    "    - 하나의 주요 제어 모듈과 관련된 종속 모듈의 그룹인 클러스터(Cluster) 필요\n",
    "- 하향식 통합 테스트 (Top Down Intergration Test)\n",
    "    - 상위 모듈에서 하위 모듈 방향으로 통합\n",
    "    - 깊이 우선 통합법, 넓이 우선 통합법 사용\n",
    "    - 초기부터 사용자에게 시스템 구조를 보여줌  \n",
    "[해설작성자 : 전자공학도]\n",
    "\n",
    "**내 공부**  \n",
    "[**통합테스트**](https://chanp5660.github.io/통합테스트) 란?\n"
   ]
  },
  {
   "attachments": {},
   "cell_type": "markdown",
   "metadata": {},
   "source": [
    "## 22. 다음과 같이 레코드가 구성되어 있을 때, 이진 검색 방법으로 14를 찾을 경우 비교되는 횟수는?  \n",
    "\n",
    "```\n",
    "1 2 3 4 5 6 7 8 9 10 11 12 13 14 15\n",
    "```\n",
    "\n",
    "1. 2\n",
    "2. ***3***\n",
    "3. 4\n",
    "4. 5\n",
    "\n",
    "**문제 해설**  \n",
    "\n",
    "- 이진 탐색 동작 방식\n",
    "    1. 배열의 중간 값을 찾음\n",
    "    2. 중간 값과 검색 값을 비교\n",
    "        1. 중간 값이 검색 값과 같으면 끝.\n",
    "        2. 중간 값보다 검색 값이 크다면 오른쪽 구간을 탐색\n",
    "        3. 중간 값보다 검색 값이 작다면 왼쪽 구간을 탐색\n",
    "    3. 값을 찾거나 간격이 비었을 때까지 반복  \n",
    "    \n",
    "[해설 작성자 : 전자공학도]"
   ]
  }
 ],
 "metadata": {
  "language_info": {
   "name": "python"
  },
  "orig_nbformat": 4
 },
 "nbformat": 4,
 "nbformat_minor": 2
}
