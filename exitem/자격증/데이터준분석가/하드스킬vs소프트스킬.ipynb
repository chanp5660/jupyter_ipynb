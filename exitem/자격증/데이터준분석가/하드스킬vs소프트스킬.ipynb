{
 "cells": [
  {
   "attachments": {},
   "cell_type": "markdown",
   "metadata": {},
   "source": [
    "---  \n",
    "layout: post  \n",
    "current: post  \n",
    "cover:  assets/built/images/하드스킬vs소프트스킬.png  \n",
    "navigation: True  \n",
    "title: 하드 스킬 VS 소프트 스킬   \n",
    "date: 2023-05-15 00:00:00 +0900  \n",
    "tags: [exitem,Adsp]  \n",
    "class: post-template  \n",
    "subclass: 'post tag-python'  \n",
    "author: chanp5660  \n",
    "---  \n",
    " "
   ]
  },
  {
   "attachments": {},
   "cell_type": "markdown",
   "metadata": {},
   "source": [
    "# 하드 스킬 VS 소프트 스킬\n",
    "\n",
    "## 하드 스킬(Hard Skills)\n",
    "\n",
    "**측정 가능하고 구체적인 기술**을 나타냅니다.  \n",
    "이는 특정 작업을 수행하기 위해 교육, 훈련, 또는 경험을 통해 습득한 기술입니다.  \n",
    "\n",
    "주로 학위, 자격증, 수리적 능력, 컴퓨터 프로그래밍, 외국어 구사 등과 같은 전문적인 분야에 속하는 기술을 의미합니다.  \n",
    "측정 가능하며, 정확한 프로세스에 기반하여 개발됩니다.  \n",
    "\n",
    "예를 들어, 의사의 수술 기술, 회계사의 재무 분석 능력, 프로그래머의 코딩 기술 등이 하드 스킬의 예입니다.\n",
    "\n",
    "## 소프트 스킬(Soft Skills)\n",
    "\n",
    "개인의 인성, 태도, 커뮤니케이션 능력, 리더십, 문제 해결 능력 등과 같은 **비기술적인 기술**을 나타냅니다.  \n",
    "사회적, 대인 관계 및 조직 내에서 효과적으로 작업하고 협업하기 위해 필요한 기술입니다.  \n",
    "이러한 스킬은 팀워크, 대화, 리더십, 시간 관리, 문제 해결, 유연성, 커뮤니케이션, 적응력, 창의성 등과 같은 영역을 포함합니다.  \n",
    "주로 사회적인 상호작용과 관련되어 있으며, 협업과 리더십 능력을 향상시키는 데 중요합니다. \n",
    "\n",
    "\n",
    "[***참고하기 좋은 사이트***](https://asana.com/ko/resources/hard-skills-vs-soft-skills)"
   ]
  }
 ],
 "metadata": {
  "language_info": {
   "name": "python"
  },
  "orig_nbformat": 4
 },
 "nbformat": 4,
 "nbformat_minor": 2
}
