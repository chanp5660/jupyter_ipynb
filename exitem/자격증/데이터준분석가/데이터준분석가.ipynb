{
 "cells": [
  {
   "attachments": {},
   "cell_type": "markdown",
   "metadata": {},
   "source": [
    "---  \n",
    "layout: post  \n",
    "current: post  \n",
    "cover:  assets/built/images/데이터준분석가.png  \n",
    "navigation: True  \n",
    "title: 데이터준분석가   \n",
    "date: 2023-04-20 00:00:00 +0900  \n",
    "tags: [exitem,Adsp]  \n",
    "class: post-template  \n",
    "subclass: 'post tag-python'  \n",
    "author: chanp5660  \n",
    "---  \n",
    " "
   ]
  },
  {
   "attachments": {},
   "cell_type": "markdown",
   "metadata": {},
   "source": [
    "# 데이터준분석가 ADsP 데이터의 이해\n",
    "\n",
    "데이터분석 준전문가(ADsP : Advanced Data Analytics Semi-Professional)란 데이터 이해에 대한 기본지식을 바탕으로 데이터분석 기획 및 데이터분석 등의 직무를 수행하는 실무자를 말한다.\n",
    "\n",
    "ADsP에 대한 자세한 정보를 [**링크**](https://www.dataq.or.kr/www/sub/a_06.do)에서 제공합니다.\n",
    "\n",
    "목적 : 데이터준분석가와 관련된 용어들에 대해 공부를 해보겠습니다."
   ]
  },
  {
   "attachments": {},
   "cell_type": "markdown",
   "metadata": {},
   "source": [
    "- [**데이터형태(정성, 정량)**](https://chanp5660.github.io/데이터형태_정성_정량) 란?\n",
    "- [**암묵지와 형식지**](https://chanp5660.github.io/암묵지와형식지) 란?\n",
    "- [**SQL 집계함수**](https://chanp5660.github.io/SQL집계함수) 란?\n",
    "- [**DIKW 피라미드**](https://chanp5660.github.io/DIKW피라미드) 란?\n",
    "- [**데이터베이스**](https://chanp5660.github.io/데이터베이스) 란?\n",
    "- [**하드 스킬 VS 소프트 스킬**](https://chanp5660.github.io/하드스킬vs소프트스킬) 이란?\n",
    "- [**빅데이터와 인문학**](https://chanp5660.github.io/빅데이터와인문학) 이란?\n",
    "- [**분석 방법**](https://chanp5660.github.io/분석방법) 이란?\n",
    "- [**분석 기회 발굴 범위**](https://chanp5660.github.io/분석기회발굴범위) 란?\n",
    "- [**STEEP**](https://chanp5660.github.io/STEEP) 란?\n",
    "- [**분석 프로젝트 관리**](https://chanp5660.github.io/분석프로젝트관리) 란?\n",
    "- [**분석 과제관리 프로세스**](https://chanp5660.github.io/분석과제관리프로세스) 란?\n",
    "- [**풀(pool)**](https://chanp5660.github.io/풀(pool)) 이란?"
   ]
  }
 ],
 "metadata": {
  "language_info": {
   "name": "python"
  },
  "orig_nbformat": 4
 },
 "nbformat": 4,
 "nbformat_minor": 2
}
