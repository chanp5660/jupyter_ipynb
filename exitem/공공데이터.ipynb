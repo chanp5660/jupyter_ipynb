{
 "cells": [
  {
   "attachments": {},
   "cell_type": "markdown",
   "id": "296a52f7-9dcd-43c9-8f6b-641db06fb85f",
   "metadata": {},
   "source": [
    "---  \n",
    "layout: post  \n",
    "current: post  \n",
    "cover:  assets/built/images/공공데이터.png  \n",
    "navigation: True  \n",
    "title: 공공데이터   \n",
    "date: 2023-03-05 00:00:00 +0900  \n",
    "tags: [exitem,TIL]  \n",
    "class: post-template  \n",
    "subclass: 'post tag-python'  \n",
    "author: chanp5660  \n",
    "---  \n",
    " "
   ]
  },
  {
   "cell_type": "markdown",
   "id": "8b034f42-10ce-438b-97d9-cdad9f7e9e27",
   "metadata": {},
   "source": [
    "# 공공데이터 모음\n",
    "\n",
    "> 기본적으로 무료로 얻을 수 있는 빅데이터 사이트를 기억하기 위해 기록  \n",
    "데이터를 자세히 봐야겠지만 대략적인 요약과 가능할만한 간단한 아이디어를 추가 작성"
   ]
  },
  {
   "cell_type": "markdown",
   "id": "9bc04651-748d-4ea8-9474-75545a64d9b4",
   "metadata": {},
   "source": [
    "## 공공데이터 포털\n",
    "- [https://www.data.go.kr/index.do](https://www.data.go.kr/index.do)  \n",
    "- 공공데이터포털은 공공기관이 생성 또는 취득하여 관리하고 있는 공공데이터를 한 곳에서 제공하는 통합 창구\n",
    "- 포털에서는 국민이 쉽고편리하게 공공데이터를 이용할 수 있도록 파일데이터, 오픈API, 시각화 등 다양한 방식으로 제공하고 있으며, 누구라도 쉽고 편리한 검색을통해 원하는 공공데이터를 빠르고 정확하게 찾을 수 있음"
   ]
  },
  {
   "cell_type": "markdown",
   "id": "3b98c556-827d-4248-9eef-e6f98998c7cf",
   "metadata": {
    "tags": []
   },
   "source": [
    "## 한국문화관광연구원 문화관광 데이터\n",
    "- [https://www.data.go.kr/data/15052709/fileData.do](https://www.data.go.kr/data/15052709/fileData.do)\n",
    "- 한국의 여행지, 문화유산, 축제, 먹거리 등의 정보를 제공\n",
    "- 콘텐츠 기반 필터링 방식으로 추천 시스템을 만드는데 활용 가능"
   ]
  },
  {
   "cell_type": "markdown",
   "id": "9bbfa8f5-7536-4b94-86c8-41aac7b701c3",
   "metadata": {},
   "source": [
    "## 한국도로공사 도로교통공단 교통사고 분석 시스템 데이터\n",
    "- [https://taas.koroad.or.kr/api/](https://taas.koroad.or.kr/api/)\n",
    "- 교통사고 발생 정보를 제공\n",
    "- 협업 필터링 방식으로 추천 시스템을 만드는데 활용 가능\n",
    "- 교통사고가 발생했을 때 같은 조건의 관련 정보 제공"
   ]
  },
  {
   "cell_type": "markdown",
   "id": "2e7a2361-cfc9-4e20-ac62-3ce9340118d4",
   "metadata": {},
   "source": [
    "## 서울시 열린데이터광장\n",
    "- [https://data.seoul.go.kr/together/guide/useGuide.do#sample-code-4](https://data.seoul.go.kr/together/guide/useGuide.do#sample-code-4)\n",
    "- 서울시에서 제공하는 다양한 데이터를 포함\n",
    "- 서울시민을 대상으로 한 추천 시스템을 만드는데 활용 가능"
   ]
  },
  {
   "cell_type": "markdown",
   "id": "daaa9a21-d4cc-418e-8a8a-550f2b8772bb",
   "metadata": {},
   "source": [
    "## 국가 통계 포털 KOSIS\n",
    "- [https://kosis.kr/index/index.do](https://kosis.kr/index/index.do)\n",
    "- 대한민국의 다양한 통계 자료를 제공\n",
    "- 콘텐츠 기반 필터링 방식으로 추천 시스템을 만드는데 활용 가능"
   ]
  },
  {
   "cell_type": "markdown",
   "id": "59b13037-a7e1-4459-bb72-63e95b7502f1",
   "metadata": {},
   "source": [
    "## 한국부동산원 경매물건 데이터\n",
    "- [https://www.reb.or.kr/reb/cm/cntnts/cntntsView.do?mi=9626&cntntsId=1114](https://www.reb.or.kr/reb/cm/cntnts/cntntsView.do?mi=9626&cntntsId=1114)\n",
    "- 오피스텔 가격동향, 매입자 연령대별 부동산거래, 실거래가격지수 등을 제공\n",
    "- 부동산 거래하기 위한 가격을 추천해주는 시스템을 만드는게 활용 가능"
   ]
  },
  {
   "cell_type": "markdown",
   "id": "977d5ca9-a67c-484a-b19c-9ac5146450bf",
   "metadata": {},
   "source": [
    "## 한국환경공단 에어코리아 대기오염정보\n",
    "- [https://www.data.go.kr/tcs/dss/selectApiDataDetailView.do?publicDataPk=15073861](https://www.data.go.kr/tcs/dss/selectApiDataDetailView.do?publicDataPk=15073861)\n",
    "- 대기오염 측정 정보를 제공\n",
    "- 지리정보(측정소별) 기반 추천 시스템을 만드는데 활용 가능"
   ]
  },
  {
   "cell_type": "markdown",
   "id": "297034d4-15cf-4ba6-be86-a2dfbbfd1827",
   "metadata": {},
   "source": [
    "## 한국교통안전공단 - 자동차 결함 정보\n",
    "- [https://www.kotsa.or.kr/portal/contents.do?menuCode=03030200](https://www.kotsa.or.kr/portal/contents.do?menuCode=03030200)\n",
    "- 자동차 결함 정보를 제공\n",
    "- 협업 필터링 방식으로 추천 시스템을 만드는데 활용 가능"
   ]
  },
  {
   "cell_type": "markdown",
   "id": "1792f1d7-dce4-4336-873c-259d226e6045",
   "metadata": {},
   "source": [
    "## AI Hub\n"
   ]
  }
 ],
 "metadata": {
  "kernelspec": {
   "display_name": "Python 3 (ipykernel)",
   "language": "python",
   "name": "python3"
  },
  "language_info": {
   "codemirror_mode": {
    "name": "ipython",
    "version": 3
   },
   "file_extension": ".py",
   "mimetype": "text/x-python",
   "name": "python",
   "nbconvert_exporter": "python",
   "pygments_lexer": "ipython3",
   "version": "3.7.13"
  }
 },
 "nbformat": 4,
 "nbformat_minor": 5
}
