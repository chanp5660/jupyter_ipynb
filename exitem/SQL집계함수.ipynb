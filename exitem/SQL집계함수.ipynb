{
 "cells": [
  {
   "attachments": {},
   "cell_type": "markdown",
   "metadata": {},
   "source": [
    "---  \n",
    "layout: post  \n",
    "current: post  \n",
    "cover:  assets/built/images/SQL집계함수.png  \n",
    "navigation: True  \n",
    "title: SQL 집계함수   \n",
    "date: 2023-04-28 00:00:00 +0900  \n",
    "tags: [exitem,TIL]  \n",
    "class: post-template  \n",
    "subclass: 'post tag-python'  \n",
    "author: chanp5660  \n",
    "---  \n",
    " "
   ]
  },
  {
   "attachments": {},
   "cell_type": "markdown",
   "metadata": {},
   "source": [
    "# SQL 집계함수 (aggregate function)\n",
    "\n",
    "데이터베이스에서 데이터를 검색하고 집계하여 요약 정보를 제공하는 함수입니다.  \n",
    "집계 함수는 데이터를 그룹화하고, 각 그룹에 대한 집계 값을 계산합니다.  \n",
    "일반적으로 GROUP BY 구문과 함께 사용됩니다.\n",
    "\n",
    "집계함수는 데이터를 검색하고 요약하는 데 매우 유용합니다.  \n",
    "그룹화된 데이터의 평균, 합계, 최대값, 최소값 등을 계산할 수 있으며, 이를 활용하여 보고서나 대시보드 등을 작성하는 데 사용될 수 있습니다.\n",
    "\n",
    "# 종류\n",
    "\n",
    "## SUM 함수\n",
    "\n",
    "주어진 열의 모든 값의 합계를 반환합니다.\n",
    "\n",
    "```\n",
    "SELECT SUM(sales) FROM orders;\n",
    "```\n",
    "\n",
    "## COUNT 함수\n",
    "\n",
    "주어진 열의 모든 값의 개수를 반환합니다.\n",
    "\n",
    "```\n",
    "SELECT COUNT(*) FROM cutomers;\n",
    "```\n",
    "\n",
    "## AVG 함수\n",
    "\n",
    "주어진 열의 모든 값의 평균 값을 반환합니다.\n",
    "\n",
    "```\n",
    "SELECT AVG(price) FROM products;\n",
    "```\n",
    "\n",
    "## MAX 함수\n",
    "\n",
    "주어진 열의 최대 값을 반환합니다.\n",
    "\n",
    "```\n",
    "SELECT MAX(salary) FROM employees;\n",
    "```\n",
    "\n",
    "## MIN 함수\n",
    "\n",
    "주어진 열의 최소 값을 반환합니다.\n",
    "\n",
    "```\n",
    "SELECT MIN(price) FROM products;\n",
    "```"
   ]
  }
 ],
 "metadata": {
  "language_info": {
   "name": "python"
  },
  "orig_nbformat": 4
 },
 "nbformat": 4,
 "nbformat_minor": 2
}
