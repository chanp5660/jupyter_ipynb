{
 "cells": [
  {
   "cell_type": "markdown",
   "id": "5ed81688-7d9c-462c-a683-f8e6d000ca6d",
   "metadata": {},
   "source": [
    "---  \n",
    "layout: post  \n",
    "current: post  \n",
    "cover:  assets/built/images/Python_Warning무시.png  \n",
    "navigation: True  \n",
    "title: TIL-Python Warning무시   \n",
    "date: 2023-03-07 00:00:00 +0900  \n",
    "tags: [exitem,TIL]  \n",
    "class: post-template  \n",
    "subclass: 'post tag-python'  \n",
    "author: chanp5660  \n",
    "---  \n",
    " "
   ]
  },
  {
   "cell_type": "markdown",
   "id": "c9fa4621-46a7-4f2b-a6b3-95ec7403b05d",
   "metadata": {},
   "source": [
    "# Python Warning 무시하는 방법\n",
    "\n",
    "> 블로그에 ipynb을 올릴 때 머신러닝의 경우 모델 학습할 때 경고가 너무 많이 출력됩니다. 이를 처리하는 방법을 알아봅니다."
   ]
  },
  {
   "cell_type": "markdown",
   "id": "edb0a0da-d219-4f73-a76c-6dc743910ef2",
   "metadata": {},
   "source": [
    "## 경고를 아예 무시하는 방법\n",
    "- warnings 모듈을 사용하여 모든 경고 메시지를 무시\n",
    "- 코드를 실행하면 프로그램 전체에서 경고 메시지를 무시\n",
    "- 이 방법은 경고 메시지가 중요하지 않거나 무시할 수 있는 경우에만 사용하는 것이 좋습니다.\n",
    "\n",
    "```{python}\n",
    "import warnings\n",
    "warnings.filterwarnings(\"ignore\")\n",
    "```\n"
   ]
  },
  {
   "cell_type": "markdown",
   "id": "e0b40a79-d140-4a22-bda9-5b6a9d67a277",
   "metadata": {},
   "source": [
    "## 경고를 무시하는 대신 로그에 적는 방법\n",
    "- 코드를 실행하면 모든 경고 메시지가 로그로 저장\n",
    "- 경고 메시지를 무시하지 않으면서도 콘솔 출력을 깨끗하게 유지\n",
    "\n",
    "```{python}\n",
    "import logging\n",
    "logging.captureWarnings(True)\n",
    "```\n"
   ]
  }
 ],
 "metadata": {
  "kernelspec": {
   "display_name": "Python 3 (ipykernel)",
   "language": "python",
   "name": "python3"
  },
  "language_info": {
   "codemirror_mode": {
    "name": "ipython",
    "version": 3
   },
   "file_extension": ".py",
   "mimetype": "text/x-python",
   "name": "python",
   "nbconvert_exporter": "python",
   "pygments_lexer": "ipython3",
   "version": "3.7.13"
  }
 },
 "nbformat": 4,
 "nbformat_minor": 5
}
