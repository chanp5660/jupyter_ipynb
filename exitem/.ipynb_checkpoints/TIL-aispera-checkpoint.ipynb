{
 "cells": [
  {
   "cell_type": "markdown",
   "id": "f5c0d48f-cef5-4795-8368-2012adf65ba4",
   "metadata": {},
   "source": [
    "---  \n",
    "layout: post  \n",
    "current: post  \n",
    "cover:  assets/built/images/aispera.png  \n",
    "navigation: True  \n",
    "title: TIL-에이아이스페라   \n",
    "date: 2023-02-10 00:00:00 +0900  \n",
    "tags: [exitem,TIL]  \n",
    "class: post-template  \n",
    "subclass: 'post tag-python'  \n",
    "author: chanp5660  \n",
    "---  \n",
    " "
   ]
  },
  {
   "cell_type": "markdown",
   "id": "a8dae861-ddbd-4e30-b606-988a162059c5",
   "metadata": {},
   "source": [
    "# 에이아이스페라\n",
    "\n",
    "> 섬세함하고 분위기가 좋은 느낌  \n",
    "\n",
    "> 사원들 사이의 분위기가 좋을 것 같다는 생각이 든다. 특히 모든 업무는 서면으로 한다는 것이 서로의 오해를 줄이려는 고민으로 보여 섬세함이 보이는 부분이었다. 멘토멘티가 어떻게 작용하는지 모르겠지만 본인의 업무를 발전 시킬 수 있는 기회도 보이는 것 같아 섬세함이 감동인 느낌이다."
   ]
  },
  {
   "cell_type": "markdown",
   "id": "3a619212-0dc2-43ac-8e5a-e89bdea62ae2",
   "metadata": {},
   "source": [
    "# 에이아이스페라(AI Spera) 기본 정보\n",
    "[공식 사이트 참조](https://www.aispera.com/company?page=ceo)"
   ]
  },
  {
   "cell_type": "markdown",
   "id": "e674f0ee-70f6-4224-ba48-9e45fbc9a3cc",
   "metadata": {},
   "source": [
    "## 연혁\n",
    "[사이트](https://www.aispera.com/company?page=ceo) (엄청 길다. 궁금하면 차근차근 읽어보는 것도 대단하다고 느껴짐. 미국, 일본까지 진출한 기업, 다수의 국내 주식회사와의 파트너)\n",
    "\n",
    "## 사이트 주요 상품\n",
    "\n",
    "- 머신러닝, 부정탐지 기술이 집약된 사이버 위협 인텔리전스 제품들로 사용중인 플랫폼과 비즈니스에 적용하거나, 니즈에 맞게 커스터마이징하여 손쉽게 사용할 수 있습니다.\n",
    "\n",
    "- [Criminal IP](https://www.aispera.com/products?product=cip)\n",
    "    - 전세계 IP 주소에 대한 사이버 위협 인텔리전스(Cyver Threat Intelligence, CTI) 정보를 제공하는 검색엔진 서비스\n",
    "    \n",
    "- [Criminal IP ASM](https://www.aispera.com/products?product=asm)\n",
    "    - 사이버 위협 인텔리전스 기반의 IT 위협 탐지 기업 공격표면관리 자동화 솔루션\n",
    "    \n",
    "- [The Minsim](https://www.aispera.com/products?product=mis)\n",
    "    - 자연어 분석 기술을 통한 커뮤니티 분석으로 비즈니스 동향을 모니터링하는 서비스\n",
    "    \n",
    "- [Fraud Account](https://www.aispera.com/products?product=fa)\n",
    "    - 자연어처리를 통한 커뮤니티 사기 글 수집으로 금융거래사기 및 이상거래를 탐지하는 서비스\n",
    "\n",
    "- [Pitection](https://www.aispera.com/products?product=pit)\n",
    "    - 인공지능 자동 모니터링으로 전 세계 불법서버, 저작권 위반 서버 및 불법프로그램 유포 사이트를 탐지하는 저작권 침해 탐지 서비스\n"
   ]
  }
 ],
 "metadata": {
  "kernelspec": {
   "display_name": "Python 3 (ipykernel)",
   "language": "python",
   "name": "python3"
  },
  "language_info": {
   "codemirror_mode": {
    "name": "ipython",
    "version": 3
   },
   "file_extension": ".py",
   "mimetype": "text/x-python",
   "name": "python",
   "nbconvert_exporter": "python",
   "pygments_lexer": "ipython3",
   "version": "3.7.13"
  }
 },
 "nbformat": 4,
 "nbformat_minor": 5
}
