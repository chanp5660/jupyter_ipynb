{
 "cells": [
  {
   "cell_type": "markdown",
   "id": "4c02d244-4093-4398-8c7a-41bbb619bb79",
   "metadata": {},
   "source": [
    "---  \n",
    "layout: post  \n",
    "current: post  \n",
    "cover:  assets/built/images/Kaggle.png  \n",
    "navigation: True  \n",
    "title: TIL-Kaggle   \n",
    "date: 2023-03-10 00:00:00 +0900  \n",
    "tags: [exitem,TIL]  \n",
    "class: post-template  \n",
    "subclass: 'post tag-python'  \n",
    "author: chanp5660  \n",
    "---  \n",
    " "
   ]
  },
  {
   "cell_type": "markdown",
   "id": "28bbe419-6c5c-4403-bba5-7a561f805933",
   "metadata": {},
   "source": [
    "# Kaggle\n",
    "\n"
   ]
  },
  {
   "cell_type": "markdown",
   "id": "913006ac-0144-4c91-be6a-ea68023a39a5",
   "metadata": {
    "tags": []
   },
   "source": [
    "## 정의\n",
    "\n",
    "- 실제 데이터 세트로 작업하는 실용적인 기술 습득\n",
    "- 자신의 포트폴리오 프로젝트 개발\n",
    "- Kaggle 커뮤니티를 만나고 성장\n",
    "- 새로운 도메인 또는 모델 유형에 대한 경험을 얻음\n",
    "- 최고 성능의 머신으로 최신 정보를 얻을 수 있음"
   ]
  },
  {
   "cell_type": "markdown",
   "id": "c74d36e8-e51e-4e31-9df5-03ef767e6dd1",
   "metadata": {},
   "source": [
    "## 순서\n",
    "\n",
    "- 문제 정의\n",
    "- 학습 데이터 받기\n",
    "- 기계학습 모델 개발\n",
    "- 테스트 데이터 평가 및 제출\n",
    "- 순위표에 표시"
   ]
  },
  {
   "cell_type": "markdown",
   "id": "e2c31ffe-350c-4bc6-a13b-847cefdd0540",
   "metadata": {},
   "source": [
    "## 실제 연습\n",
    "\n",
    "- [Kaggle 사이트 접속](https://www.kaggle.com/)\n",
    "- 데이터 다운로드\n",
    "- 모델 개발"
   ]
  },
  {
   "cell_type": "code",
   "execution_count": null,
   "id": "8081bbbe-d53d-452f-8f16-32d84c6ede65",
   "metadata": {},
   "outputs": [],
   "source": []
  }
 ],
 "metadata": {
  "kernelspec": {
   "display_name": "Python 3 (ipykernel)",
   "language": "python",
   "name": "python3"
  },
  "language_info": {
   "codemirror_mode": {
    "name": "ipython",
    "version": 3
   },
   "file_extension": ".py",
   "mimetype": "text/x-python",
   "name": "python",
   "nbconvert_exporter": "python",
   "pygments_lexer": "ipython3",
   "version": "3.7.13"
  }
 },
 "nbformat": 4,
 "nbformat_minor": 5
}
