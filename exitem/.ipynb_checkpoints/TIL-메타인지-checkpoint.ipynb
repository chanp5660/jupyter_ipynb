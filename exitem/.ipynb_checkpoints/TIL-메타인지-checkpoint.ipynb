{
 "cells": [
  {
   "cell_type": "markdown",
   "id": "6196e94c-2b42-48a0-ad37-b74d6346a243",
   "metadata": {},
   "source": [
    "---\n",
    "layout: post  \n",
    "current: post  \n",
    "cover:  assets/built/images/메타인지.png  \n",
    "navigation: True  \n",
    "title: TIL-메타인지   \n",
    "date: 2023-03-11 00:00:00 +0900  \n",
    "tags: [exitem]  \n",
    "class: post-template  \n",
    "subclass: 'post tag-python'  \n",
    "author: chanp5660  \n",
    "---"
   ]
  },
  {
   "cell_type": "markdown",
   "id": "b4cdc232-570e-4d70-a62f-07c346d1e036",
   "metadata": {},
   "source": [
    "# 메타인지란?"
   ]
  },
  {
   "cell_type": "markdown",
   "id": "b06311f7-dd6f-416d-afd5-947c3f5fe140",
   "metadata": {},
   "source": [
    "- 인간의 인지적 능력 중 하나입니다.\n",
    "- 자신의 인지 과정을 인식하고 이해하는 것입니다.\n",
    "- 우리가 더 나은 결정을 내리고, 행동을 개선하며, 문제를 해결하는 데 도움이 됩니다.\n",
    "- 메타인지를 배우는 것은 인간의 발달 과정에서 중요한 부분입니다.\n",
    "- 아이들은 어린 시절에 메타인지적 능력을 발달시키기 시작합니다.\n",
    "    - 이를 통해 자신의 행동을 개선하고, 자신의 인지 과정을 이해합니다.\n",
    "- 성인이 되면서도 메타인지적 능력을 발전시키는 것은 중요합니다.\n",
    "    - 삶의 다양한 상황에서 더 나은 결정을 내리고, 성취를 이루기 위한 인지적 능력을 향상시키는 데 도움이 됩니다.\n",
    "- 메타인지를 배우는 것은 시간과 노력이 필요합니다. \n",
    "    - 하지만, 일상적인 상황에서 메타인지를 연습합니다.\n",
    "    - 또, 자신의 생각과 행동을 개선합니다.\n",
    "    - 또, 자신에 대한 인식을 높입니다.\n",
    "    - 또, 더 나은 결정을 내리는 데 도움이 됩니다."
   ]
  },
  {
   "cell_type": "markdown",
   "id": "2a15af67-afe8-478f-9564-17c8f39f9d80",
   "metadata": {},
   "source": [
    "# 메타인지 학습 방법"
   ]
  },
  {
   "cell_type": "markdown",
   "id": "f63159dd-c469-472c-b800-d87b30c18be1",
   "metadata": {},
   "source": [
    "1. 자신의 생각과 행동에 주의를 기울이는 것입니다.\n",
    "    - 일상적인 상황에서 자신의 행동을 관찰하고, 왜 그렇게 행동하는지, 어떤 생각이나 감정이 그것을 초래했는지를 이해합니다.\n",
    "    - 이렇게 하면 자신의 행동에 대한 책임감이 높아지고, 자신의 생각과 감정을 더 잘 이해할 수 있습니다.\n",
    "2. 질문하는 것입니다.\n",
    "    - 자신에게 질문을 하고, 왜 그렇게 생각하는지, 왜 그렇게 행동하는지를 자문합니다.\n",
    "    - 이렇게 하면 자신의 생각과 행동을 더 잘 이해하게 되고, 더 나은 결정을 내리는 데 도움이 됩니다.\n",
    "3. 일기를 쓰는 것입니다.\n",
    "    - 일기를 쓰면서 자신의 생각과 강점을 기록하고, 이들을 분석하며, 자신의 인지 과정을 이해하는 데 도움이 됩니다.   \n",
    "    - 이렇게 하면 자신의 감정을 더 잘 이해하고, 그것을 다루는 방법을 찾는 데 도움이 됩니다.\n",
    "4. 타인의 시선을 이용하는 것입니다.\n",
    "    - 자신의 생각과 행동을 타인과 공유하고, 타인의 반응을 관찰하여 자신의 행동과 생각을 개선하는 방법을 찾을 수 있습니다.\n",
    "    - 타인의 시선을 이용하여 자신의 인지 과정을 더 잘 이해할 수 있습니다."
   ]
  }
 ],
 "metadata": {
  "kernelspec": {
   "display_name": "Python 3 (ipykernel)",
   "language": "python",
   "name": "python3"
  },
  "language_info": {
   "codemirror_mode": {
    "name": "ipython",
    "version": 3
   },
   "file_extension": ".py",
   "mimetype": "text/x-python",
   "name": "python",
   "nbconvert_exporter": "python",
   "pygments_lexer": "ipython3",
   "version": "3.7.13"
  }
 },
 "nbformat": 4,
 "nbformat_minor": 5
}
