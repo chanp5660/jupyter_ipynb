{
 "cells": [
  {
   "cell_type": "markdown",
   "id": "21a10d66-2c4d-401a-beeb-51f7b5e8bc66",
   "metadata": {},
   "source": [
    "---  \n",
    "layout: post  \n",
    "current: post  \n",
    "cover:  assets/built/images/Notion.png  \n",
    "navigation: True  \n",
    "title: TIL-Notion   \n",
    "date: 2023-03-05 00:00:00 +0900  \n",
    "tags: [exitem,TIL]  \n",
    "class: post-template  \n",
    "subclass: 'post tag-python'  \n",
    "author: chanp5660  \n",
    "---  \n",
    " "
   ]
  },
  {
   "cell_type": "markdown",
   "id": "6920eeef-124c-470b-b959-67ec3e5a5e3b",
   "metadata": {},
   "source": [
    "# Slack\n",
    "\n",
    "> ChapGPT 기반으로 작성됨"
   ]
  },
  {
   "cell_type": "markdown",
   "id": "db585542-5318-4282-95ef-9045b0176969",
   "metadata": {},
   "source": [
    "- [https://slack.com/intl/ko-kr/](https://slack.com/intl/ko-kr/) 해당 링크에서 가입 후 사용\n",
    "- 데스크탑, 모바일 앱도 있음\n",
    "- 간단하게 말하면 회사내 카카오톡"
   ]
  },
  {
   "cell_type": "markdown",
   "id": "3069375e-2272-43c9-900f-3dc030b56fca",
   "metadata": {},
   "source": [
    "- 팀 커뮤니케이션 및 협업 도구\n",
    "- 팀이나 조직 내에서 대화, 파일 공유, 프로젝트 관리 및 협업을 돕는 데 사용\n",
    "- 간단한 인터페이스와 사용하기 쉬운 기능을 제공하여 즉각적인 메시지 전송과 파일 공유를 가능하게 함\n",
    "- 다양한 채널을 사용하여 대화를 구성할 수 있으며, 사용자는 특정 토픽이나 관심사에 따라 다른 채널에 참여\n",
    "- 다른 앱과의 통합을 지원하여 팀이 다른 도구나 서비스를 사용하면서도 팀 내에서 통신할 수 있음\n",
    "- 예를 들어, Google Drive, Trello, GitHub 등과 Slack을 연동하여 팀이 Slack에서 작업을 보거나 공유\n",
    "- Slack은 무료 버전과 유료 버전이 있으며, 유료 버전은 추가 기능과 보안 기능을 제공"
   ]
  }
 ],
 "metadata": {
  "kernelspec": {
   "display_name": "Python 3 (ipykernel)",
   "language": "python",
   "name": "python3"
  },
  "language_info": {
   "codemirror_mode": {
    "name": "ipython",
    "version": 3
   },
   "file_extension": ".py",
   "mimetype": "text/x-python",
   "name": "python",
   "nbconvert_exporter": "python",
   "pygments_lexer": "ipython3",
   "version": "3.7.13"
  }
 },
 "nbformat": 4,
 "nbformat_minor": 5
}
