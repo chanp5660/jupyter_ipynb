{
 "cells": [
  {
   "cell_type": "markdown",
   "id": "f5c0d48f-cef5-4795-8368-2012adf65ba4",
   "metadata": {},
   "source": [
    "---  \n",
    "layout: post  \n",
    "current: post  \n",
    "cover:  assets/built/images/데이터비.png  \n",
    "navigation: True  \n",
    "title: TIL-데이터비   \n",
    "date: 2023-02-10 00:00:00 +0900  \n",
    "tags: [exitem,TIL]  \n",
    "class: post-template  \n",
    "subclass: 'post tag-python'  \n",
    "author: chanp5660  \n",
    "---  \n",
    " "
   ]
  },
  {
   "cell_type": "markdown",
   "id": "a8dae861-ddbd-4e30-b606-988a162059c5",
   "metadata": {},
   "source": [
    "# 데이터비\n",
    "\n",
    "> 걱정이 되는 회사  \n",
    "\n",
    "> 설립된지 5년차가 되고 있는 회사로서 지금은 사원수가 적기도하고 아직 커가는 회사인 듯하다. 나도 아직 영어가 능숙하지 않아서 (물론,,, 국어도 뭐.. 잘하는 건 아니지만) 번역기만 쓰다가 실수한 적이 많은데 그 부분에 있어 잘 쓰일 것 같다. 하지만 파파고와 구글번역등 데이터 자체를 크게 다루어 밀어붙이는 대형회사들이 있다. 물론 영문 교정이랑 번역이랑은 차이가 있다면 있지만 번역의 성능이 좋으면 충분히 대체될 가능성이 있을 것 같아 걱정이 되긴 한다. 내가 잘라서 걱정이 되는게 아니라 내 회사라고 가정해보고 걱정이 되는 것이다.\n"
   ]
  },
  {
   "cell_type": "markdown",
   "id": "b9aaf459-54f1-4f93-b946-e1e1151c9649",
   "metadata": {},
   "source": [
    "# 데이터비 기본 정보\n",
    "[공식 데이터비 사이트 참조](https://www.engram.us/ko/about-us)\n",
    "\n",
    "- 비원어민들이 영어를 사용하는데 느끼는 불편함을 해결하기 위해 AI 기반 자동 영문 교정 서비스 <span style=\"color:red\">Engram</span>을 개발하였습니다.\n",
    "- 2023년 1월, Engram으로 새롭게 태어났습니다.\n",
    "- 주소 : 04147 서울특별시 마포구 백범로31길 21, 서울창업허브 본관 607호\n",
    "- 사원수 : 5명\n",
    "# 역사\n",
    "- 2018년 8월 (주)데이터비 설립\n",
    "- 2021년 6월 하나벤처스 주최 스타트업 경진대회 우수상\n",
    "- 2021년 10월 AI 기반 자동 영문 교정 서비스 Pcanpi 출시\n",
    "- 2022년 9월 TryEverything 2022 코리아챌린지 장려상 수상\n",
    "- 2023년 1월 \"Pcanpi\"에서 \"Engram\"으로 서비스명을 변경\n",
    "    - \"pcanpi\"는 달콤한 디저트 피칸파이를 연상하면서 붙인 이름\n",
    "    - 영문 교정 서비스라는 회사의 본질을 설명해주지 못해 변경\n",
    "    - En : 국가별 코드, gram : 문법 및 가벼운 무게\n",
    "    - 뜻 : 손쉽게 하는 영어"
   ]
  },
  {
   "cell_type": "markdown",
   "id": "38b9d127-12c7-47b9-b9b1-867d8a7e394b",
   "metadata": {},
   "source": [
    "# 실제 사용 후기\n",
    "\n",
    "- 본 블로그 가장 위에 적힌 [부분](#데이터비)을 파파고로 번역한 후 교정해보겠습니다.\n",
    "\n",
    "- 파파고 번역  \n",
    "> As a company that has been established for five years, it seems to have a small number of employees and is still growing. I am not good at English yet. I'm not good at it, but I've made a lot of mistakes using only a translator, and I think it'll be used well in that part. However, there are large companies such as Papago and Google Translation that are pushing ahead with the data itself. Of course, there is a difference between English correction and translation, but I am worried that if the performance of translation is good, it may be replaced sufficiently. I'm not worried because I cut it, I'm worried because I assume it's my company.\n",
    "\n",
    "\n",
    "- 영어 교정\n",
    "<img alt=\"Engram\" src=\"https://user-images.githubusercontent.com/46266247/218095812-50f01cf8-23df-40b4-9d61-f5cae3f40e93.png\">\n",
    "\n",
    "- 어색한 문장이 없을 정도로 파파고 번역이 잘 되어 있어서 큰 문제가 없었다.\n",
    "- 물론 다양한 상황이 존재하겠지만 어느정도의 성능차이를 보여주지 않는다면 소비가 늘어날지 의문이 생기긴 하다."
   ]
  }
 ],
 "metadata": {
  "kernelspec": {
   "display_name": "Python 3 (ipykernel)",
   "language": "python",
   "name": "python3"
  },
  "language_info": {
   "codemirror_mode": {
    "name": "ipython",
    "version": 3
   },
   "file_extension": ".py",
   "mimetype": "text/x-python",
   "name": "python",
   "nbconvert_exporter": "python",
   "pygments_lexer": "ipython3",
   "version": "3.7.13"
  }
 },
 "nbformat": 4,
 "nbformat_minor": 5
}
