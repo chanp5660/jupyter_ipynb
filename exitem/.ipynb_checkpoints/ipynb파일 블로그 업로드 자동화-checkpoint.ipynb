{
 "cells": [
  {
   "cell_type": "markdown",
   "id": "70d4da57-b76b-49e4-9eeb-4190bc4152d4",
   "metadata": {},
   "source": [
    "---  \n",
    "layout: post  \n",
    "current: post  \n",
    "cover:  assets/built/images/exitem-logo.png  \n",
    "navigation: True  \n",
    "title: ipynb 파일 블로그 업로드 자동화   \n",
    "date: 2022-07-20 03:40:00 +0900  \n",
    "tags: [exitem]  \n",
    "class: post-template  \n",
    "subclass: 'post tag-python'  \n",
    "author: chanp5660  \n",
    "---  "
   ]
  },
  {
   "cell_type": "markdown",
   "id": "918f934f-7790-4d1f-bda6-25e27670bd6c",
   "metadata": {},
   "source": [
    "# ipynb 파일 블로그 업로드 자동화\n",
    "\n",
    "---\n",
    "주로 사용하는 ipynb으로 블로그에 업로드 하려면 \n",
    "1. markdown 형식으로 변경\n",
    "2. 해당 파일을 포스팅 될 위치에 옮겨준다.\n",
    "3. 로컬 블로그에 업로드 해준다.\n",
    "4. 깃허브에 PUSH 해준다.  \n",
    "\n",
    "위와 같은 과정을 진행해야 하는데... 1번에서는 필요한 파일만 변경하고 옮겨주었는데 컴퓨터가 고생하는 대신 클릭한번으로 해결하기 위해서 찾아본 방법이다. python 파일을 만들어 배치 파일로 실행하는 방법으로 진행해본다.\n",
    "\n",
    "---"
   ]
  },
  {
   "cell_type": "markdown",
   "id": "57b13294-fb7a-43e6-8782-6a118eb2ab3e",
   "metadata": {},
   "source": [
    "## 목표\n",
    "\n",
    "> \"주피터랩_원본\"에 있는 ipynb 파일들을 md 파일로 변형하여 모두 \"exitem\"에 맞는 경로에 넣기\n",
    "\n",
    "목표 결과 \n",
    "\n",
    "- 주피터랩_원본\n",
    "    - exitem\n",
    "        - ....ipynb\n",
    "        - ....ipynb\n",
    "    - github\n",
    "        - ....ipynb\n",
    "        - ....ipynb\n",
    "    - python\n",
    "        - ....ipynb\n",
    "        - ....ipynb  \n",
    "        \n",
    "위의 폴더에 있는 내용을 변형 후 아래 파일 위치로 이동(원래 파일일 있을 경우 덮어쓰기)\n",
    "- \\_posts\n",
    "    - exitem\n",
    "        - ....mb\n",
    "        - ....mb\n",
    "    - github\n",
    "        - ....mb\n",
    "        - ....mb\n",
    "    - python\n",
    "        - ....mb\n",
    "        - ....mb\n",
    "\n"
   ]
  },
  {
   "cell_type": "markdown",
   "id": "3d30f817-2d76-4934-926d-3d22449c07e9",
   "metadata": {},
   "source": [
    "## 해결 방법  \n",
    "\n",
    "- ipynb 이 위치한 모든 경로 탐색\n",
    "    - 하위 디렉처리 검색을 쉽게 해주는 **os.walk** - [점프투파이썬](https://wikidocs.net/39)  \n",
    "\n",
    "- nbconvert 로 ipynb 에서 md 형식으로 변경  \n",
    "    - python에서 유닉스 명령어 실행하는 방법 subprocess( **call** ) [참조](https://code.tutsplus.com/ko/articles/how-to-run-unix-commands-in-your-python-program--cms-25926)\n",
    "    - nbconvert 로 ipynb 에서 md 형식으로 변경 [참조](https://cheris8.github.io/etc/MD-Jupyter-to-Markdown/)  \n",
    "\n",
    "- cmd에서 경로 띄어쓰기 인식\n",
    "    - 경로 중 띄어쓰기가 있으면 경로 양쪽에 \"\" 를 추가해주면 된다.[참조](http://choesin.com/windows-%EB%AA%85%EB%A0%B9-%EC%A4%84%EC%97%90%EC%84%9C-%ED%8C%8C%EC%9D%BC-%EA%B2%BD%EB%A1%9C%EC%9D%98-%EA%B3%B5%EB%B0%B1%EC%9D%84-%EC%9D%B4%EC%8A%A4%EC%BC%80%EC%9D%B4%ED%94%84%ED%95%98%EB%8A%94)\n",
    "        \n"
   ]
  },
  {
   "cell_type": "markdown",
   "id": "3dd41e67-bd22-4d9b-9753-5088716f8f04",
   "metadata": {},
   "source": [
    "```python\n",
    "import os\n",
    "from subprocess import call\n",
    "Before_path = \"C:/Users/tkd8484/Desktop/chanp5660/주피터랩_원본\"\n",
    "After_path = \"C:/Users/tkd8484/Desktop/chanp5660/blogmaker/_posts\"\n",
    "\n",
    "jekyll_upload_path = \"C:/Users/tkd8484/Desktop/chanp5660/blogmaker\"\n",
    "Github_upload_path = \"C:/Users/tkd8484/Desktop/chanp5660/[GitHubPage]\"\n",
    "branch_ID = \"master\"\n",
    "\n",
    "MASSAGE = input(\"commit massage를 입력해주세요.\")\n",
    "CH_JEKYLL = input(\"jekll 업로드 해야하나요?(y,n)\")\n",
    "for (path,dir,files) in os.walk(Before_path):\n",
    "    if \".\" in path:continue\n",
    "    for filename in files:\n",
    "        if not filename.endswith(\".ipynb\"): # ipynb 파일만 변경한다.\n",
    "            continue\n",
    "        before_ipynb = f\"{path}/{filename}\" # 기존 ipynb 경로\n",
    "        before_md = before_ipynb.replace(\".ipynb\",\".md\") # 변환된 md 경로 \n",
    "        after_md = before_md.replace(Before_path,After_path) # 이동될 경로 \n",
    "        #print(f\"before_ipynb : {before_ipynb}\\nbefore_md : {before_md}\\nafter_path : {after_md}\\n\")\n",
    "        \n",
    "        \n",
    "        COMMAND_convert = f'jupyter nbconvert --to markdown \"{before_ipynb}\"' # 변환 코드\n",
    "        if call(COMMAND_convert) :# 변환 실행\n",
    "            print(\"--------------jupyter nbconvert --to markdown ERROR-------------\")\n",
    "            print(f\"before_ipynb : {before_ipynb}\\nbefore_md : {before_md}\\nafter_path : {after_md}\\n\")\n",
    "            \n",
    "            \n",
    "        COMMAND_mv = f'mv \"{before_md}\" \"{after_md}\"' # 이동 코드\n",
    "        if call(COMMAND_mv) : # 이동 실행\n",
    "            print(\"--------------mv ERROR-------------\")\n",
    "            print(f\"before_ipynb : {before_ipynb}\\nbefore_md : {before_md}\\nafter_path : {after_md}\\n\")\n",
    "\n",
    "        print(f\"{after_md} 저장완료\")\n",
    "```"
   ]
  },
  {
   "cell_type": "markdown",
   "id": "3de0b833-5d4f-4a3a-972c-98b4da61d6a4",
   "metadata": {},
   "source": [
    "- ipynb 파일에서 md 파일로 변경되었으니 지킬 블로그에 업로드\n",
    "\n",
    "bash\n",
    "```bash\n",
    "call cd C:\\Users\\tkd8484\\Desktop\\chanp5660\\blogmaker\n",
    "call bundle exec jekyll serve\n",
    "```\n"
   ]
  },
  {
   "cell_type": "markdown",
   "id": "93c06abb-efdf-4d78-b6c7-702f1b82c2f1",
   "metadata": {},
   "source": [
    "```python\n",
    "if CH_JEKYLL==\"y\":\n",
    "    os.chdir(jekyll_upload_path) # change directory\n",
    "    if call(\"bundle exec jekyll serve\"):\n",
    "        print(\"------------ERROR jekyll--------------\")\n",
    "```"
   ]
  },
  {
   "cell_type": "markdown",
   "id": "29602aec-1c7f-4c59-b0bf-45504a3ac704",
   "metadata": {},
   "source": [
    "- git을 이용하려면 .git 이 있는 해당폴더로 직접 이동해야하므로 경로를 이동해서 git을 업로드 한다.\n",
    "    - 폴더 내에 이미 git이 원격 설정 되어 있어야 한다."
   ]
  },
  {
   "cell_type": "markdown",
   "id": "d1978110-ce9a-4d66-90d3-592cacc8b975",
   "metadata": {},
   "source": [
    "```python\n",
    "os.chdir(Github_upload_path) # change directory\n",
    "\n",
    "if call(\"git remote -v\"):\n",
    "    print(\"------------ERROR git remote -v------------\")\n",
    "    \n",
    "if call(\"git add -A\"):\n",
    "    print(\"------------ERROR git add -A------------\")\n",
    "    \n",
    "COMMAND_commit_m = f'git commit -m \"{MASSAGE}\"'\n",
    "if call(COMMAND_commit_m):\n",
    "    print(f'------------ERROR {COMMAND_commit_m}------------')\n",
    "    \n",
    "CAMMAND_push = f\"git push origin {branch_ID}\"\n",
    "if call(f\"git push origin {CAMMAND_push}\"):\n",
    "    print(f\"------------ERROR git push origin {CAMMAND_push}------------\")\n",
    "```"
   ]
  },
  {
   "cell_type": "markdown",
   "id": "1801ecd4-b9ef-4ffe-98f9-7bd74f111aa4",
   "metadata": {},
   "source": [
    "## jupyter lab에서 python 파일로 변경하고 배치 파일로 실행하기\n",
    "\n",
    "- jupyter lab에서 실행할 파일에서 File - Save and Export Notebook As ... - Executable Script 실행한다.\n",
    "- \"다운로드\" 경로에 저장되며 실행할 수 있는 .py 파일이다.\n",
    "- 하지만 중간에 jupyter 명령어는 가상환경에서 실행한 함수이므로 배치파일로 가상환경을 킨 상태에서 파일을 실행한다."
   ]
  },
  {
   "cell_type": "markdown",
   "id": "091c5f3f-2327-4271-9077-afd1b38afe9f",
   "metadata": {},
   "source": [
    "<img src=\"https://user-images.githubusercontent.com/46266247/180014200-3f339a44-6849-4be3-92c5-d15dfab22db4.png\" width=\"60%\">"
   ]
  },
  {
   "cell_type": "markdown",
   "id": "160d0f4e-fd0b-4cac-95b1-cd6414a75ba9",
   "metadata": {},
   "source": [
    "- 배치 파일 생성 (Github_upload_auto.bat)\n",
    "\n",
    "```bash\n",
    "set root=C:\\Users\\tkd8484\\anaconda3\n",
    "call %root%\\Scripts\\activate.bat %root%\n",
    "call conda activate chanp5660\n",
    "call \"C:\\Users\\tkd8484\\Desktop\\chanp5660\\2022-07-20-ipynb파일 블로그 업로드 자동화.py\"\n",
    "\n",
    "pause\n",
    "```"
   ]
  },
  {
   "cell_type": "markdown",
   "id": "c935719b-aae8-4420-b470-1bf3352df123",
   "metadata": {},
   "source": [
    "## 결론\n",
    "\n",
    "- ipynb에서 md 파일로 모두 바꾸는건 자동화 성공\n",
    "- 중간에 bundle exec jekyll serve 명령어가 실행되지 않아서 지킬업로드를 따로 해주고 github upload로 배치파일을 따로 만들어주었다.\n",
    "\n",
    "- 총 실행파일 3개\n",
    "    - 실행_ipynb_to_md.bat     :       **ipynb에서 md 파일로 변경 및 이동**\n",
    "    - 실행_Github_127.bat      :       **jekyll 업로드**\n",
    "    - 실행_Github_upload       :       **깃허브 업로드(버전저장)**"
   ]
  },
  {
   "cell_type": "markdown",
   "id": "a16e0e9c-4283-4e62-bd78-10efd8f452cd",
   "metadata": {},
   "source": [
    "---"
   ]
  },
  {
   "cell_type": "markdown",
   "id": "a416098a-6b41-4975-97ed-e3678c93e6ad",
   "metadata": {},
   "source": [
    "---"
   ]
  },
  {
   "cell_type": "markdown",
   "id": "2cf64403-d98e-4613-8dd7-04f8b09a7698",
   "metadata": {},
   "source": [
    "# ipynb 파일 블로그 업로드 자동화 version2"
   ]
  },
  {
   "cell_type": "markdown",
   "id": "2453ddab-30aa-4ed3-baed-2e608b8bd64d",
   "metadata": {},
   "source": [
    "- 기존의 코딩의 문제점 모든 파일을 새로 다시 생성하고 추가한다.\n",
    "    - git에서 버전관리가 쉽지 않다.\n",
    "    - ipynb to md.bat 실행 시간이 오래걸린다.\n",
    "    \n",
    "-> 따라서 최종 변경된 파일의 업로드 시간 이후에 파일만 변경하여 업로드 한다."
   ]
  },
  {
   "cell_type": "markdown",
   "id": "88c44dc4-d5ec-4d9d-b61e-3a3853650581",
   "metadata": {},
   "source": [
    "## 파일 수정 정보 읽기 os.psth.getmtime\n"
   ]
  },
  {
   "cell_type": "code",
   "execution_count": 182,
   "id": "ac61fa5d-8a4e-45be-a5a1-61637bd2e9a5",
   "metadata": {},
   "outputs": [
    {
     "name": "stdout",
     "output_type": "stream",
     "text": [
      "가장 최근 업로드 20220721 , 04:26 이므로 그 이후로 업로드 한다.\n",
      "C:/Users/tkd8484/Desktop/chanp5660/blogmaker/_posts\\exitem/2022-07-20-ipynb파일 블로그 업로드 자동화.md 저장완료\n"
     ]
    }
   ],
   "source": [
    "import os\n",
    "import datetime as dt\n",
    "from subprocess import call\n",
    "Path_Checktime = \"C:/Users/tkd8484/Desktop/chanp5660/blogmaker\" # md 파일의 제일 상위 위치\n",
    "\n",
    "\n",
    "##### md 최근 수정된 날짜 시간을 확인해서 그 이후로만 ipynb -> md  #####\n",
    "modified_date_list= []\n",
    "for (path,dir,files) in os.walk(Path_Checktime):\n",
    "    if \".\" in path:continue\n",
    "    for filename in files:\n",
    "        if not filename.endswith(\".md\"):continue # md 파일만 변경한다.\n",
    "            \n",
    "        modified_date = os.path.getmtime(f'{path}/{filename}')\n",
    "        modified_date_list.append(modified_date)\n",
    "\n",
    "MAX_M_DATE = max(modified_date_list)\n",
    "MAX_M_DATE_str = dt.datetime.fromtimestamp(MAX_M_DATE).strftime(\"%Y%m%d , %H:%M\")\n",
    "print(f\"가장 최근 업로드 {MAX_M_DATE_str} 이므로 그 이후로 업로드 한다.\")\n",
    "\n",
    "\n",
    "Before_path = \"C:/Users/tkd8484/Desktop/chanp5660/주피터랩_원본\" # ipynb 위치\n",
    "After_path = \"C:/Users/tkd8484/Desktop/chanp5660/blogmaker/_posts\" # 포스팅 위치\n",
    "Index_path = \"C:/Users/tkd8484/Desktop/chanp5660/blogmaker/about\" # index.md 위치\n",
    "\n",
    "for (path,dir,files) in os.walk(Before_path):\n",
    "    if \".\" in path:continue\n",
    "    if [\"index.ipynb\"] == files:continue # about 파일은 수동으로 해야한다. 경로가 다르기 때문에 \n",
    "    for filename in files:\n",
    "        if not filename.endswith(\".ipynb\"):continue # ipynb 파일만 변경한다.\n",
    "            \n",
    "        before_ipynb = f\"{path}/{filename}\" # 기존 ipynb 경로\n",
    "        \n",
    "        if MAX_M_DATE >= os.path.getmtime(before_ipynb):  # md 파일들 중 최근 업로드 시간보다 크면 수정이 된 상태\n",
    "            continue\n",
    "        before_md = before_ipynb.replace(\".ipynb\",\".md\") # 변환된 md 경로 \n",
    "        \n",
    "        if filename == \"index.ipynb\":\n",
    "            after_md = before_md.replace(Before_path, Index_path) # Index.md 이동될 경로 \n",
    "        else:\n",
    "            after_md = before_md.replace(Before_path, After_path) # 그 외 이동될 경로 \n",
    "        \n",
    "        COMMAND_convert = f'jupyter nbconvert --to markdown \"{before_ipynb}\"' # 변환 코드\n",
    "        if call(COMMAND_convert) :# 변환 실행\n",
    "            print(\"--------------jupyter nbconvert --to markdown ERROR-------------\")\n",
    "            print(f\"before_ipynb : {before_ipynb}\\nbefore_md : {before_md}\\nafter_path : {after_md}\\n\")\n",
    "            \n",
    "            \n",
    "        COMMAND_mv = f'mv \"{before_md}\" \"{after_md}\"' # 이동 코드\n",
    "        if call(COMMAND_mv) : # 이동 실행\n",
    "            print(\"--------------mv ERROR-------------\")\n",
    "            print(f\"before_ipynb : {before_ipynb}\\nbefore_md : {before_md}\\nafter_path : {after_md}\\n\")\n",
    "\n",
    "        print(f\"{after_md} 저장완료\")"
   ]
  },
  {
   "cell_type": "markdown",
   "id": "0b855e36-421e-4925-b720-7802eb1613f0",
   "metadata": {},
   "source": [
    "# 결론  \n",
    "\n",
    "- 한번 클릭이 아니라 3번 클릭으로 반자동화 업로드\n",
    "- 그래도 기존의 클릭 횟수 타자를 확줄여 편의성을 증가 시켰다."
   ]
  }
 ],
 "metadata": {
  "kernelspec": {
   "display_name": "Python 3 (ipykernel)",
   "language": "python",
   "name": "python3"
  },
  "language_info": {
   "codemirror_mode": {
    "name": "ipython",
    "version": 3
   },
   "file_extension": ".py",
   "mimetype": "text/x-python",
   "name": "python",
   "nbconvert_exporter": "python",
   "pygments_lexer": "ipython3",
   "version": "3.7.13"
  }
 },
 "nbformat": 4,
 "nbformat_minor": 5
}
