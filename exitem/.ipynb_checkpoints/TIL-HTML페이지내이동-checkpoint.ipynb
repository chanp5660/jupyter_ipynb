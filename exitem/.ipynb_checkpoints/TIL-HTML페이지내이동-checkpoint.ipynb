{
 "cells": [
  {
   "cell_type": "markdown",
   "id": "9e3f00d3-6d7e-40b0-ae19-9c76f0f797cc",
   "metadata": {},
   "source": [
    "---  \n",
    "layout: post  \n",
    "current: post  \n",
    "cover:  assets/built/images/HTML페이지내이동.png  \n",
    "navigation: True  \n",
    "title: TIL-HTML 페이지 내 이동   \n",
    "date: 2023-03-06 00:00:00 +0900  \n",
    "tags: [exitem,TIL]  \n",
    "class: post-template  \n",
    "subclass: 'post tag-python'  \n",
    "author: chanp5660  \n",
    "---  \n",
    " "
   ]
  },
  {
   "cell_type": "markdown",
   "id": "349e06d5-1527-4266-8bef-280e1ae7cb68",
   "metadata": {},
   "source": [
    "<a name=\"want\"></a>\n",
    "# HTML 페이지 내 이동"
   ]
  },
  {
   "cell_type": "markdown",
   "id": "ea9a29eb-f5a5-4481-b6d6-9803663302f5",
   "metadata": {},
   "source": [
    "- github blog는 jekyll을 이용하기 때문에 결론적으로 HTML을 이용하여 만들어진다.\n",
    "- 마크다운 내 이동 링크는 작동하지 않기 때문에 HTML을 사용하여 이동하게 한다.\n"
   ]
  },
  {
   "cell_type": "markdown",
   "id": "da9e272f-2c5c-4aad-a65b-f98c810f0ec5",
   "metadata": {},
   "source": [
    "## a 태그를 이용하는 방법\n",
    "- a 태그를 이용해서 name 을 정해 원하는 곳으로 이동한다.\n",
    "- 기존에 있는 글에 a 태그를 감싸는 것도 좋지만 원하는 빈공간에 작성하는게 헷갈리지 않고 좋다.\n",
    "\n",
    "## 예시\n",
    "\n",
    "- 코드   \n",
    "\n",
    "```{html}\n",
    "<a href=\"#want\">제목으로 이동</a> // 원하는 빈공간에 작성\n",
    "\n",
    "<a name=\"want\"></a> // 이동할 위치에 작성\n",
    "```  \n",
    "\n",
    "- <a href=\"#want\">제목으로 이동</a>"
   ]
  }
 ],
 "metadata": {
  "kernelspec": {
   "display_name": "Python 3 (ipykernel)",
   "language": "python",
   "name": "python3"
  },
  "language_info": {
   "codemirror_mode": {
    "name": "ipython",
    "version": 3
   },
   "file_extension": ".py",
   "mimetype": "text/x-python",
   "name": "python",
   "nbconvert_exporter": "python",
   "pygments_lexer": "ipython3",
   "version": "3.7.13"
  }
 },
 "nbformat": 4,
 "nbformat_minor": 5
}
