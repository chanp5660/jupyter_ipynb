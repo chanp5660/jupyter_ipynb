{
 "cells": [
  {
   "cell_type": "markdown",
   "id": "92ea737c-ea80-4fe8-a080-690301e8ddf1",
   "metadata": {},
   "source": [
    "---  \n",
    "layout: post  \n",
    "current: post  \n",
    "cover:  assets/built/images/github-logo.png  \n",
    "navigation: True  \n",
    "title: 깃허브블로그(1)-ipynb포스팅   \n",
    "date: 2022-07-17 02:08:00 +0900  \n",
    "tags: [github]  \n",
    "class: post-template   \n",
    "subclass: 'post tag-python'  \n",
    "author: chanp5660   \n",
    "---  \n",
    "\n",
    "{% include githubblog-table-of-contents.html %}  "
   ]
  },
  {
   "cell_type": "markdown",
   "id": "9599cd3e-c74d-4c8f-bea5-5bc8fdb7a162",
   "metadata": {},
   "source": [
    "# 깃허브블로그(1)-ipynb포스팅"
   ]
  },
  {
   "cell_type": "markdown",
   "id": "370102e7-5d11-445b-9aed-79a3425e96ef",
   "metadata": {},
   "source": [
    "\n",
    ">어떤 사람들이 필요한 블로그인가?  \n",
    "    - ipynb형식 포스팅을 하려고 하는 사람    \n",
    "    - 기존 준비 : githubio 블로그, jekell 테마 사용하는 사람, ipynb 형식 파일을 만들 수 있는 사람\n"
   ]
  },
  {
   "cell_type": "markdown",
   "id": "9ec8fd91-7375-47d9-bbc4-05770743f193",
   "metadata": {},
   "source": [
    "## ipynb 파일 생성"
   ]
  },
  {
   "cell_type": "markdown",
   "id": "dfa170ce-4731-4a9a-b2ef-f74839d29f2e",
   "metadata": {},
   "source": [
    "- jekell 포스팅 형태에서는 ipynb 파일 이름이 yyyy-mm-dd-제목.ipynb 형식으로 저장한다.\n",
    "- 예를 들어 본 블로그는 \"2022-07-16-깃허브블로그(1)-ipynb포스팅.ipynb\" 으로 생성한다."
   ]
  },
  {
   "cell_type": "markdown",
   "id": "1c9dbb39-4901-4ea0-be3b-ef61db1fc500",
   "metadata": {},
   "source": [
    "## ipynb to md in jupyterlab  \n",
    "- githubio 포스팅은 md(markdown)형식으로 포스팅을 해야하므로 ipynb 형식을 md 형식으로 변경해주어야한다.\n",
    "- jupyter lab에서는 해당 파일을 실행 후 File => Save and Export Notebook As... => Markdown 을 클릭하면 로컬 다운로드에 md 파일로 생성된다."
   ]
  },
  {
   "cell_type": "markdown",
   "id": "e8f14ac6-266f-404f-b295-0641cc163467",
   "metadata": {},
   "source": [
    "<img src=\"https://user-images.githubusercontent.com/46266247/179354050-316fed8c-9080-456b-bc11-11cbe8d462de.png\" width=\"50%\"> <img src=\"https://user-images.githubusercontent.com/46266247/179354094-02898f8f-392b-4c5c-945b-f21b167b91d7.png\" width=\"20%\">\n"
   ]
  },
  {
   "cell_type": "markdown",
   "id": "8bbd061b-d1d1-4553-a3c8-2a70d1ecdc1e",
   "metadata": {},
   "source": [
    "## ipynb to md in command, Anaconda Prompt  \n",
    "- **nbconvert** 는 ipynb(jupyter notebook) 파일 형식을 markdown 파일로 변경할 때 사용할 수 있는 프로그램이다.\n",
    "- 설치(본인이 설치되는 걸로 아무거나 해도 된다.)\n",
    "    - pip install nbconvert\n",
    "    - conda install nbconvert\n",
    "- jupyter nbconvert --to markdown [ipynb형식 파일 이름]\n",
    "    - 예시 : jupyter nbconvert --to markdown \"2022-07-16-깃허브블로그(1)-ipynb포스팅.ipynb\"\n",
    "\n",
    "- 같은 폴더에 같은 이름으로 md 파일이 생성된다."
   ]
  }
 ],
 "metadata": {
  "kernelspec": {
   "display_name": "Python 3 (ipykernel)",
   "language": "python",
   "name": "python3"
  },
  "language_info": {
   "codemirror_mode": {
    "name": "ipython",
    "version": 3
   },
   "file_extension": ".py",
   "mimetype": "text/x-python",
   "name": "python",
   "nbconvert_exporter": "python",
   "pygments_lexer": "ipython3",
   "version": "3.10.4"
  }
 },
 "nbformat": 4,
 "nbformat_minor": 5
}
