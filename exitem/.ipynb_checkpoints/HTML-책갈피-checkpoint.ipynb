{
 "cells": [
  {
   "cell_type": "markdown",
   "id": "5418b036-83ba-415b-9141-5e60e99a3035",
   "metadata": {},
   "source": [
    "---\n",
    "layout: post  \n",
    "current: post  \n",
    "cover:  assets/built/images/html-logo.png  \n",
    "navigation: True  \n",
    "title: HTML-책갈피   \n",
    "date: 2022-07-21 15:06:00 +0900  \n",
    "tags: [exitem]  \n",
    "class: post-template  \n",
    "subclass: 'post tag-python'  \n",
    "author: chanp5660  \n",
    "---"
   ]
  },
  {
   "cell_type": "markdown",
   "id": "106ceab7-11be-42ef-89a1-a58e5b21aa2f",
   "metadata": {},
   "source": [
    "# HTML-책갈피  \n",
    "\n",
    "> jupyter page 내에서는 (원하는 제목)[#헤드네임] 으로 원하는 곳으로 이동할 수 있다. 하지만 블로그를 만드면서 ipynb을 그대로 사용하고 싶어서 방법을 찾아보았다.\n",
    "\n",
    "- [jupyter page 내 링크 이동 참조 블로그](https://jojelly.tistory.com/115?category=952057)\n",
    "- [HTML 내 책갈피 이동 참조 블로그](https://heekng.tistory.com/44)\n",
    "\n",
    "\n"
   ]
  },
  {
   "cell_type": "markdown",
   "id": "cc7d197a-c2a1-4217-9356-83ed1959f113",
   "metadata": {},
   "source": [
    "## 간단한 설명\n",
    "\n",
    "- 클릭할 부분의 코드\n",
    "    - 한글 및 띄어쓰기가 안된다.  \n",
    "    - 링크의 시작은 #으로 한다.\n",
    "    <br>    \n",
    "    <br> \n",
    "    \n",
    "    ```html\n",
    "    <a href=\"#A_go\">A</a>\n",
    "    ```\n",
    "<br>\n",
    "\n",
    "- 클릭하면 이동될 위치의 코드  \n",
    "    - 링크 주소에서 # 부분은 제외하고 적어주면 된다.\n",
    "    - 아직까지 에러가 발생한 상황은 없었고 아무곳이나 넣어주어도 된다.  \n",
    "    <br>    \n",
    "    <br>  \n",
    "    \n",
    "    ```html  \n",
    "    <p id=\"A_go\"></p>\n",
    "\n",
    "    ## A\n",
    "\n",
    "    여기는 A라는 내용의 문단입니다.\n",
    "    ```\n"
   ]
  },
  {
   "cell_type": "markdown",
   "id": "7614a1b6-effd-4bc7-8694-c03441881184",
   "metadata": {},
   "source": [
    "---\n",
    "## 실전 예시\n",
    "\n",
    "- 목차 아래 A, B, C 를 차례대로 눌러 확인해본다."
   ]
  },
  {
   "cell_type": "markdown",
   "id": "a3fe526e-ab0a-4215-bf01-e326232eb068",
   "metadata": {},
   "source": [
    "### 목차 작성\n",
    "\n",
    "- <a href=\"#A_go\">A</a>\n",
    "- <a href=\"#B_go\">B</a>\n",
    "- <a href=\"#C_go\">C</a>\n",
    "\n",
    "실제 코드  \n",
    "\n",
    "```markdown\n",
    "- <a href=\"#A_go\">A</a>\n",
    "- <a href=\"#B_go\">B</a>\n",
    "- <a href=\"#C_go\">C</a>\n",
    "```\n"
   ]
  },
  {
   "cell_type": "markdown",
   "id": "07734006-8971-440f-8950-5eb65464d5a4",
   "metadata": {},
   "source": [
    "<p id=\"A_go\"></p>\n",
    "\n",
    "## A\n",
    "\n",
    "여기는 A라는 내용의 문단입니다.\n",
    "\n",
    "실제 코드   \n",
    "\n",
    "```html\n",
    "<p id=\"A_go\"></p>\n",
    "\n",
    "## A\n",
    "\n",
    "여기는 A라는 내용의 문단입니다.\n",
    "```\n",
    "\n",
    "---\n",
    "---\n",
    "---"
   ]
  },
  {
   "cell_type": "markdown",
   "id": "1c584781-33b6-4332-8202-8455fbc57f93",
   "metadata": {},
   "source": [
    "<p id=\"B_go\"></p>\n",
    "\n",
    "## B\n",
    "\n",
    "여기는 B라는 내용의 문단입니다.\n",
    "\n",
    "\n",
    "실제 코드   \n",
    "\n",
    "```html\n",
    "<p id=\"B_go\"></p>\n",
    "\n",
    "## B\n",
    "\n",
    "여기는 B라는 내용의 문단입니다.\n",
    "```\n",
    "\n",
    "---\n",
    "---\n",
    "---"
   ]
  },
  {
   "cell_type": "markdown",
   "id": "5b5b9362-2c33-47f6-b425-575946aff2cf",
   "metadata": {
    "tags": []
   },
   "source": [
    "<p id=\"C_go\"></p>\n",
    "\n",
    "## C\n",
    "\n",
    "여기는 C라는 내용의 문단입니다.\n",
    "\n",
    "\n",
    "실제 코드   \n",
    "\n",
    "```html\n",
    "<p id=\"C_go\"></p>\n",
    "\n",
    "## C\n",
    "\n",
    "여기는 C라는 내용의 문단입니다.\n",
    "```\n",
    "\n",
    "---\n",
    "---\n",
    "---"
   ]
  },
  {
   "cell_type": "markdown",
   "id": "80ec84b8-294b-4c4c-ad17-62f836e9b2b1",
   "metadata": {},
   "source": [
    "# 결론 \n",
    "\n",
    "- 이렇게 하면 주피터 내에서 뿐만 아니라 블로그에서도 이동하는 것을 볼 수 있다."
   ]
  }
 ],
 "metadata": {
  "kernelspec": {
   "display_name": "Python 3 (ipykernel)",
   "language": "python",
   "name": "python3"
  },
  "language_info": {
   "codemirror_mode": {
    "name": "ipython",
    "version": 3
   },
   "file_extension": ".py",
   "mimetype": "text/x-python",
   "name": "python",
   "nbconvert_exporter": "python",
   "pygments_lexer": "ipython3",
   "version": "3.7.13"
  }
 },
 "nbformat": 4,
 "nbformat_minor": 5
}
