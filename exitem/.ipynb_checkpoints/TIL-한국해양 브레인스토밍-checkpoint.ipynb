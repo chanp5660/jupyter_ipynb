{
 "cells": [
  {
   "cell_type": "markdown",
   "id": "f7097a3e-b58a-4f98-93dc-f843a6070a68",
   "metadata": {},
   "source": [
    "---  \n",
    "layout: post  \n",
    "current: post  \n",
    "cover:  assets/built/images/한국해양기상기술.png  \n",
    "navigation: True  \n",
    "title: TIL-한국해양브레인스토밍   \n",
    "date: 2023-03-29 00:00:00 +0900  \n",
    "tags: [exitem,TIL]  \n",
    "class: post-template  \n",
    "subclass: 'post tag-python'  \n",
    "author: chanp5660  \n",
    "---  \n",
    " "
   ]
  },
  {
   "cell_type": "markdown",
   "id": "e120af12-b191-46ae-8ae9-a09cfcc03733",
   "metadata": {},
   "source": [
    "# 한국 해양 브레인스토밍"
   ]
  },
  {
   "cell_type": "markdown",
   "id": "c7edfdf0-9fa1-4ee4-80cf-fde2e7d23a23",
   "metadata": {},
   "source": [
    "## 선박"
   ]
  },
  {
   "cell_type": "markdown",
   "id": "bd1446d0-6331-4614-b7d3-ae46412da79b",
   "metadata": {},
   "source": [
    "### 스마트 선박 개발\n",
    "한국은 사물인터넷(IoT), 빅데이터, 인공지능(AI) 등 첨단 기술을 활용해 운항을 최적화하고 안전성을 높이는 스마트 선박 개발에 투자하고 있다."
   ]
  },
  {
   "cell_type": "markdown",
   "id": "63d8ee41-d26e-4779-a3bd-81188c5b87d9",
   "metadata": {},
   "source": [
    "### 자율운항선박\n",
    "한국도 승무원 없이 운항할 수 있는 선박인 자율운항선 개발에 박차를 가하고 있다. 이러한 선박은 운항 비용을 줄이고 안전성을 향상시킬 수 있으며 한국은 이러한 노력을 지원하기 위해 센서, AI 및 머신 러닝과 같은 기술에 투자하고 있습니다."
   ]
  },
  {
   "cell_type": "markdown",
   "id": "29a7572f-add2-4be1-b2da-4aa11a3107e2",
   "metadata": {},
   "source": [
    "### 친환경 운송\n",
    "한국은 \"녹색\" 기술 개발을 통해 운송이 환경에 미치는 영향을 줄이기 위해 노력하고 있습니다. 여기에는 액화 천연 가스(LNG) 및 수소와 같은 대체 연료의 사용과 에너지 효율적인 선박 설계 개발이 포함됩니다."
   ]
  },
  {
   "cell_type": "markdown",
   "id": "70fcd7f3-5cab-490a-a865-4c7912bc7b6d",
   "metadata": {},
   "source": [
    "## 재생 에너지"
   ]
  },
  {
   "cell_type": "markdown",
   "id": "3dc45fd7-e678-4ff6-912c-d583be4e679d",
   "metadata": {},
   "source": [
    "### 해상 풍력 발전 단지\n",
    "한국은 해상 풍력 발전 단지를 신재생 에너지원으로 적극 개발하고 있습니다. 한국은 2030년까지 12GW의 해상풍력을 설치한다는 목표를 세웠고, 이 목표를 지원하기 위해 신기술 연구개발에 투자하고 있다."
   ]
  },
  {
   "cell_type": "markdown",
   "id": "1d19edac-8a04-4ab3-98a1-4d4f8de9632b",
   "metadata": {},
   "source": [
    "### 해양 재생 에너지\n",
    "한국은 해상 풍력 발전소 외에도 파도 및 조력 에너지와 같은 다른 형태의 해양 재생 에너지에 투자하고 있습니다. 이러한 기술은 파도와 해류의 힘을 이용하여 전기를 생성합니다."
   ]
  },
  {
   "cell_type": "markdown",
   "id": "a37b7c46-05e9-4161-9daa-4332726c966f",
   "metadata": {},
   "source": [
    "## 항만 인프라"
   ]
  },
  {
   "cell_type": "markdown",
   "id": "06a6aad8-73fa-43cd-91ce-0814cef6a271",
   "metadata": {},
   "source": [
    "### 항만 인프라 개발\n",
    "한국은 효율성과 경쟁력을 향상시키기 위해 항만 인프라 개발에 투자하고 있습니다. 여기에는 항구의 확장 및 현대화는 물론 세계 무역을 지원하기 위한 새로운 물류 허브 개발이 포함됩니다."
   ]
  },
  {
   "cell_type": "markdown",
   "id": "8f26b189-e718-4d21-8133-a7f86f239e7f",
   "metadata": {},
   "source": [
    "### 크루즈 산업\n",
    "한국은 세계 시장에서 메이저 플레이어가 되는 것을 목표로 크루즈 산업 발전에 투자하고 있습니다. 여기에는 새로운 항만 시설 및 인프라 개발, 크루즈 승객 유치를 위한 한국 문화 및 관광 홍보가 포함됩니다."
   ]
  },
  {
   "cell_type": "markdown",
   "id": "db5f194e-920f-488e-9da9-ce9d04196d3f",
   "metadata": {},
   "source": [
    "### 해양 안전 및 보안\n",
    "한국은 해양 안전 및 보안을 강화하기 위해 기술 및 인프라에 투자하고 있습니다. 여기에는 고급 내비게이션 및 통신 시스템의 개발은 물론 불법 복제 및 밀수와 같은 위협을 해결하기 위한 감시 및 대응 기능의 배치가 포함됩니다.    "
   ]
  },
  {
   "cell_type": "markdown",
   "id": "4a46de70-8f9c-4693-8b2e-726d5c313fa3",
   "metadata": {},
   "source": [
    "## 생명공학"
   ]
  },
  {
   "cell_type": "markdown",
   "id": "b6c851c2-fdc6-4197-be95-5abae7eac2fe",
   "metadata": {},
   "source": [
    "### 해양 생명공학\n",
    "한국은 해양 생물과 그 화합물을 의약품, 식품, 화장품 등의 용도로 사용하는 해양 생명공학 개발에도 투자하고 있습니다."
   ]
  },
  {
   "cell_type": "markdown",
   "id": "34e47133-c81b-4f82-a4aa-9d5357c83e4e",
   "metadata": {},
   "source": [
    "### 해양 자원 관리\n",
    "한국은 경제 발전을 지원하는 동시에 해양 생태계 보호에 중점을 두고 해양 자원을 지속 가능하게 관리하기 위해 노력하고 있습니다. 여기에는 해양 자원 및 활동을 매핑하고 관리하는 것과 관련된 해양 공간 계획과 같은 이니셔티브가 포함됩니다."
   ]
  },
  {
   "cell_type": "markdown",
   "id": "d2b7cbe2-6d3e-43a4-85ce-d76f2eb7c5f0",
   "metadata": {},
   "source": [
    "# 뉴스"
   ]
  },
  {
   "cell_type": "markdown",
   "id": "590f6d4f-469e-4cc2-abb0-0000ecdf0afa",
   "metadata": {},
   "source": [
    "[2022년 해양과학기술 10대 뉴스는?](http://www.hdhy.co.kr/news/articleView.html?idxno=18117)"
   ]
  },
  {
   "cell_type": "markdown",
   "id": "fbc0c6c3-7b2e-42e2-bc80-baeaa6de9a57",
   "metadata": {},
   "source": [
    "[부산시 데이터 기반 스마트양식 기술 선점화 전략 모색 外](https://ilyo.co.kr/?ac=article_view&entry_id=439785)"
   ]
  },
  {
   "cell_type": "markdown",
   "id": "13a7fc55-02c7-430e-986e-35343ab3d7e0",
   "metadata": {},
   "source": [
    "## 논문\n",
    "\n",
    "- 채정훈 외 \"해양 센서 데이터에 대한 딥러닝: 리뷰\" 이 백서에서는 해양학, 기상학 및 지리 공간 데이터를 포함하여 해양 센서 데이터 분석에서 딥 러닝 응용 프로그램에 대한 개요를 제공합니다.\n",
    "- Tengfei Xue et al.의 \"해양 원격 감지를 위한 기계 학습: 응용, 과제 및 전망\". 이 백서에서는 해양 색상, 해수면 온도 및 해양 바람 필드를 포함하여 해양 원격 감지에서 기계 학습의 응용 프로그램을 검토합니다.\n",
    "- Sunke Schmidtko 외의 \"해양학의 인공 지능 및 기계 학습: 현재 응용 프로그램 및 과제\". 이 백서는 데이터 전처리, 데이터 분석 및 데이터 동화를 포함하여 해양학에서 인공 지능 및 기계 학습의 현재 상태에 대한 포괄적인 검토를 제공합니다.\n",
    "- \"해양 데이터 분석을 위한 딥러닝: 고주파 레이더 데이터를 사용한 사례 연구\" 조성진 외. 본 논문은 해류 매핑을 위한 고주파 레이더 데이터에 딥러닝을 적용한 사례 연구를 제시한다.\n",
    "- Annette Stahl 및 Jörn Kohlus의 \"해양 데이터 분석을 위한 기계 학습 기술: 검토\". 이 백서는 클러스터링, 분류 및 회귀를 포함하여 해양 데이터 분석에 사용되는 기계 학습 기술에 대한 리뷰를 제공합니다."
   ]
  }
 ],
 "metadata": {
  "kernelspec": {
   "display_name": "Python 3 (ipykernel)",
   "language": "python",
   "name": "python3"
  },
  "language_info": {
   "codemirror_mode": {
    "name": "ipython",
    "version": 3
   },
   "file_extension": ".py",
   "mimetype": "text/x-python",
   "name": "python",
   "nbconvert_exporter": "python",
   "pygments_lexer": "ipython3",
   "version": "3.7.13"
  }
 },
 "nbformat": 4,
 "nbformat_minor": 5
}
