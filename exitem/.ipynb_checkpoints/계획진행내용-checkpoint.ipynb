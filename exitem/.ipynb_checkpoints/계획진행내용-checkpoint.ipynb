{
 "cells": [
  {
   "cell_type": "markdown",
   "id": "6453a043-9896-46c5-929b-274863d400e6",
   "metadata": {},
   "source": [
    "---\n",
    "layout: post  \n",
    "current: post  \n",
    "cover:  assets/built/images/계획진행내용.png  \n",
    "navigation: True  \n",
    "title: 계획진행내용  \n",
    "date: 2023-02-28 00:00:00 +0900  \n",
    "tags: [exitem]  \n",
    "class: post-template  \n",
    "subclass: 'post tag-python'  \n",
    "author: chanp5660  \n",
    "---"
   ]
  },
  {
   "cell_type": "markdown",
   "id": "e66e631d-6746-4f57-8270-22a205a66b41",
   "metadata": {
    "tags": []
   },
   "source": [
    "## 계획 진행 내용\n",
    "\n",
    "\n",
    "### 논문\n",
    "> 아직 안함\n",
    "    \n",
    "- 논문 이해를 위한 수학 지식\n",
    "    > 아직 안함\n",
    "- 구현을 위한 코딩 능력\n",
    "    - [코딩테스트](https://chanp5660.github.io/CodingTestList)\n",
    "        > 기업에 자주 출제되는 문제로 작성\n",
    "            - 문자열순열확인 진행중 \n",
    "    - [python](https://chanp5660.github.io/Python-List)\n",
    "        > 아직 안함\n",
    "### 인공지능(머신러닝, 딥러닝) 이론 지식\n",
    "- [인공지능](https://chanp5660.github.io/AI-List)\n",
    "    > 의사결정트리 작성\n",
    "### 개발적 역량(Docker, Linux, git)\n",
    "> 아직 안함\n",
    "### 도메인 관련 지식\n",
    "> 경험이 필요함\n",
    "### 프로젝트\n",
    "> Kaggle에서 시작해보려고 함"
   ]
  }
 ],
 "metadata": {
  "kernelspec": {
   "display_name": "Python 3 (ipykernel)",
   "language": "python",
   "name": "python3"
  },
  "language_info": {
   "codemirror_mode": {
    "name": "ipython",
    "version": 3
   },
   "file_extension": ".py",
   "mimetype": "text/x-python",
   "name": "python",
   "nbconvert_exporter": "python",
   "pygments_lexer": "ipython3",
   "version": "3.7.13"
  }
 },
 "nbformat": 4,
 "nbformat_minor": 5
}
