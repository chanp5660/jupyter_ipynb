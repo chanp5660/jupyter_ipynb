{
 "cells": [
  {
   "cell_type": "markdown",
   "id": "383fa0af-f4b1-4cce-8f9b-de0bb2a8cdf1",
   "metadata": {},
   "source": [
    "---  \n",
    "layout: post  \n",
    "current: post  \n",
    "cover:  assets/built/images/액션파워.png  \n",
    "navigation: True  \n",
    "title: TIL-액션파워   \n",
    "date: 2023-02-20 00:00:00 +0900  \n",
    "tags: [exitem,TIL]  \n",
    "class: post-template  \n",
    "subclass: 'post tag-python'  \n",
    "author: chanp5660  \n",
    "---  \n",
    " "
   ]
  },
  {
   "cell_type": "markdown",
   "id": "adee1344-3669-47b8-a339-5633469bd173",
   "metadata": {},
   "source": [
    "# 액션파워\n",
    "\n",
    "> 국내 최초 음성 인식 기술 활용 인공지능 받아쓰기 타이틀\n",
    "\n",
    "> 간단한 알람 설정, 메모, 네비게이션 등 음성인식을 자주 쓰는데 이 분야에서 경쟁사 중에서도 최초 최고인 것은 큰 장점으로 생각되고 충분히 성장 가능성 있는 아이템이다. 내 전공과도 비슷한 경향이 있으며 음성으로 받고 그것을 분석하는 것으로 하면 회사에 도움이 될 것 같다."
   ]
  },
  {
   "cell_type": "markdown",
   "id": "0f1ca24e-1ec9-467d-86bf-961f921a1108",
   "metadata": {},
   "source": [
    "# 액션파워\n",
    "\n",
    "[공식 사이트](https://actionpower.kr/)\n",
    "\n",
    "- 2016년 설립  \n",
    "- 서비스 앱 **다글로**\n",
    "    - 2019년 4월 출시, 2017년 국내 최초로 음성 인식 기술을 활용하여 만든 인공지능 받아쓰기 서비스    \n",
    "  \n",
    "- 사원수 : 47명(2023.1 기준)\n",
    "    - <span style=\"color:blue\">인원수가 빠르게 늘고 있는 것 같으며 퇴사자는 적은것으로 보다 체계가 잘 잡혀 있는 것 같다.</span>  \n",
    "    \n",
    "- 가장 최근 [뉴스](https://actionpower.kr/article/13)\n",
    "```\n",
    "올해 AI 스타트업 100 명단\n",
    "AI 솔루션 기업 ‘강세’\n",
    "```\n",
    "\n",
    "\n",
    "# 연혁\n",
    "\n",
    "- 2021 \n",
    "    - 11\n",
    "        - 시리즈 A 133억 원 투자 유치\n",
    "        - 삼성금융 Open Collaboration 우수상 수상\n",
    "        - 대한민국 ICT대상 과학기술정보통신부 장관상 수상\n",
    "- 2020\n",
    "    - 08\n",
    "        - NH Digital Challenge+ 4기 선정\n",
    "    - 06\n",
    "        - 하나은행 1Q Agile Lab 10기 선정\n",
    "    - 04\n",
    "        - 산업자원통상부 조선해양산업핵심기술개발사업 산업기술혁신사업 과제 선정\n",
    "- 2019\n",
    "    - 11\n",
    "        - 대한민국 모바일어워드 우수상 수상\n",
    "    - 10\n",
    "        - 하나벤처스 Pre-A 투자유치\n",
    "    - 04\n",
    "        - 다글로(분야별 특화 음성인식 받아쓰기) 출시\n",
    "- 2018\n",
    "    - 12\n",
    "        - TIPS 프로그램 선정\n",
    "    - 06\n",
    "        - 스프링캠프 Seed 투자유치\n",
    "    - 04\n",
    "        - AWS AI Startup Challenge 수상\n",
    "- 2017\n",
    "    - 12\n",
    "        - 리뷰와이저(음성인식 받아쓰기) 출시\n",
    "- 2016\n",
    "    - 01\n",
    "        - 액션파워 설립"
   ]
  }
 ],
 "metadata": {
  "kernelspec": {
   "display_name": "Python 3 (ipykernel)",
   "language": "python",
   "name": "python3"
  },
  "language_info": {
   "codemirror_mode": {
    "name": "ipython",
    "version": 3
   },
   "file_extension": ".py",
   "mimetype": "text/x-python",
   "name": "python",
   "nbconvert_exporter": "python",
   "pygments_lexer": "ipython3",
   "version": "3.7.13"
  }
 },
 "nbformat": 4,
 "nbformat_minor": 5
}
