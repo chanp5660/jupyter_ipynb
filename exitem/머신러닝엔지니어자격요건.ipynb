{
 "cells": [
  {
   "attachments": {},
   "cell_type": "markdown",
   "id": "259d3c8f-6b90-4b4d-bb3b-417984311769",
   "metadata": {},
   "source": [
    "---  \n",
    "layout: post  \n",
    "current: post  \n",
    "cover:  assets/built/images/ML자격.png  \n",
    "navigation: True  \n",
    "title: 머신러닝 엔지니어 자격요건   \n",
    "date: 2023-02-11 00:00:00 +0900  \n",
    "tags: [exitem,TIL]  \n",
    "class: post-template  \n",
    "subclass: 'post tag-python'  \n",
    "author: chanp5660  \n",
    "---  \n",
    " "
   ]
  },
  {
   "cell_type": "markdown",
   "id": "adb74d7c-fd1f-4484-93d5-62f91bd793ca",
   "metadata": {},
   "source": [
    "# 머신러닝 엔지니어 자격요건\n",
    "\n",
    "> 최신 채용공고를 보면서 어떤 자격을 요하는지 정리하며 채우는 기록을 하기 위해 작성  \n",
    "회사마다 다르지만 그래도 공통적인 것부터 채워가는 느낌으로 해보는 것으로 진행한다.  \n",
    "급하게 하지 말고 한걸음부터 하자"
   ]
  },
  {
   "cell_type": "markdown",
   "id": "d586c611-9b68-402f-9902-56b4d51eb1cb",
   "metadata": {},
   "source": [
    "# 지원 자격\n",
    "\n",
    "\n",
    "- 프로그래밍 언어\n",
    "    - python\n",
    "    - C, C++\n",
    "- 개발 환경\n",
    "    - Linux\n",
    "- 머신러닝/딥러닝 관련 지식 보유자\n",
    "- 딥러닝 프레임워트 활용 가능자\n",
    "    - Tensorflow, keras\n",
    "    - Pytorch\n",
    "\n",
    "- 석사 졸업 이상 혹은 인공지능 응용 연구 경력 2년 이상\n",
    "- 타 개발팀과의 협업 및 의사소통이 원활한 분\n",
    "- 최신 연구들을 따라가면서 구현하고 공부하고 공유하는 것을 좋아하시는 분\n",
    "\n"
   ]
  },
  {
   "cell_type": "markdown",
   "id": "ef1c51f0-65e9-411e-9af5-9868a396cdfa",
   "metadata": {},
   "source": [
    "\n",
    "# 우대 조건\n",
    "\n",
    "- 인공지능 분야 논문 저자\n",
    "- Git 등의 협업 툴에 능숙한 분\n",
    "- 리눅스 기반 운영체제에 능숙한 분\n",
    "- 최신 인공지능 논문을 읽고 구현할 수 있는 분\n",
    "- 인공지능 관련 Data Challenge 순위권 이내 입상 이력이 있으신 분\n",
    "- 인공지능 관련(산업공학, 컴퓨터공학, 데이터사이언스, 통계학 등) 전공(전공 석사 졸업 이상이신 분)\n",
    "- 시계열 데이터에 대한 전문적인 지식을 보유하신 분"
   ]
  }
 ],
 "metadata": {
  "kernelspec": {
   "display_name": "Python 3 (ipykernel)",
   "language": "python",
   "name": "python3"
  },
  "language_info": {
   "codemirror_mode": {
    "name": "ipython",
    "version": 3
   },
   "file_extension": ".py",
   "mimetype": "text/x-python",
   "name": "python",
   "nbconvert_exporter": "python",
   "pygments_lexer": "ipython3",
   "version": "3.7.13"
  }
 },
 "nbformat": 4,
 "nbformat_minor": 5
}
