{
 "cells": [
  {
   "attachments": {},
   "cell_type": "markdown",
   "id": "eed045fa-87bd-482e-9467-dd3d39c6565e",
   "metadata": {},
   "source": [
    "---  \n",
    "layout: post  \n",
    "current: post  \n",
    "cover:  assets/built/images/TFIDF.png  \n",
    "navigation: True  \n",
    "title: TF-IDF   \n",
    "date: 2023-03-14 00:00:00 +0900  \n",
    "tags: [exitem,TIL]  \n",
    "class: post-template  \n",
    "subclass: 'post tag-python'  \n",
    "author: chanp5660  \n",
    "---  \n",
    " "
   ]
  },
  {
   "cell_type": "markdown",
   "id": "c16f0a91-7e23-4302-a11c-f2409ad574f6",
   "metadata": {},
   "source": [
    "# TF-IDF (용어 빈도 - 역 문서 빈도)\n",
    "\n",
    "- TF-IDF; Term Frequency-Inverse Document Frequency'\n",
    "- 정보 검색에서 **문서의 내용**을 **수치화**하는 데에 사용되는 방법입니다. \n",
    "- 단어의 빈도와 문서 내에서의 출현 빈도를 고려하여 **각 단어**에 대한 **가중치**를 계산합니다.\n",
    "- 문서 검색, 정보 검색, 문서 분류 등의 분야에서 널리 사용되는 기법입니다. \n",
    "- 다양한 자연어 처리 기술에서 활용됩니다."
   ]
  },
  {
   "cell_type": "markdown",
   "id": "d1ff1519-7a83-4e50-8a56-67529b2fc660",
   "metadata": {},
   "source": [
    "## 개념\n",
    "\n",
    "- Term Frequency(TF)\n",
    "    - 문서에서 단어가 얼마나 자주 나타나는지를 측정합니다.\n",
    "    - 각 단어의 TF는 **해당 단어**가 **문서**에 **나타나는 빈도**를 나타냅니다.\n",
    "- Inverse Document Frequecncy(IDF)\n",
    "    - **전체 문서 집합**에서 **단어**가 얼마나 **희귀**한지를 측정합니다.\n",
    "    - IDF는 문서 내에서 단어가 나타날 때마다 **역수**를 취하여 계산됩니다.\n",
    "    - 즉, 문서 집합에서 자주 나타나는 단어에는 낮은 가중치가 부여되고, 드물기 나타나는 단어에는 높은 가중치가 부여됩니다.\n",
    "   "
   ]
  },
  {
   "cell_type": "markdown",
   "id": "b550d165-7b8b-44ec-bfeb-0090eebf690e",
   "metadata": {},
   "source": [
    "## 계산\n",
    "\n",
    "- 각 단어의 **TF**와 **IDF**를 **곱**하여 계산됩니다.\n",
    "    - 이 값은 각 단어의 중요도를 나타냅니다.\n",
    "- **높은 TF-IDF** 값을 가지는 단어는 문서의 **주요 특징을 잘 나타내는 단어**라고 할 수 있습니다.\n",
    "- 이를 통해 문서 검색 등에서 관련성이 높은 문서를 더 잘 찾을 수 있습니다."
   ]
  },
  {
   "cell_type": "markdown",
   "id": "12a094cf-aa49-493e-bbd6-2c270f0b7926",
   "metadata": {},
   "source": [
    "## 예시\n",
    "\n",
    "- dog 라는 단어가 문서에서 5번 나타났습니다.\n",
    "- 전체 문서 집합에서 dog 라는 단어가 드물게 나타났다면, TF-IDF 값은 높아집니다.\n",
    "- 이는 단어가 문서의 특징을 잘 나타내는 중요한 단어라는 것을 나타내며, 이를 통해 이 문서가 dog과 관련이 높다는 것을 나타내는 검색 결과에서 상위에 나타날 수 있게 됩니다."
   ]
  },
  {
   "cell_type": "markdown",
   "id": "d21b7c9d-966f-4c16-a90b-5885dacdb743",
   "metadata": {},
   "source": [
    "## 활용\n",
    "\n",
    "- 단어의 빈도수를 고려하기 때문에, 자주 나타나는 단어에 대해서는 높은 가중치를 부여하고, 드물게 나타나는 단어에 대해서는 높은 가중치를 부여합니다.\n",
    "    - 이러한 방식은 다른 기술과 함께 사용될 때 좋은 결과를 낼 수 있습니다.\n",
    "- **불용어 제거**에도 사용할 수 있습니다.\n",
    "    - 자주 나타나지만 분석에 필요하지 않은 단어들을 제거하고, 중요한 단어들에 대해서만 TF-IDF 가중치를 계산하여 분석을 수행할 수 있습니다.\n",
    "- 다른 기술과 결합하여 **토픽 모델링**이나 **감성 분석** 등의 작업에서도 활용됩니다. \n",
    "    - 이러한 분야에서도 TF-IDF를 활용하여 각 단어의 중요도를 계산하고, 이를 바탕으로 분석을 수행합니다."
   ]
  },
  {
   "cell_type": "markdown",
   "id": "b4d94938-69bb-47ba-bc9c-4c1aa858cd2b",
   "metadata": {},
   "source": [
    "## 한계\n",
    "\n",
    "- **동음이의어**나 **유사어**의 처리에 대해서는 **한계**가 있습니다.\n",
    "    - 이러한 문제를 해결하기 위해서는 **단어 임베딩**(word embedding) 등의 기술을 함께 사용해야 합니다.\n",
    "- **긴 문서**에서는 **단어의 빈도수**가 **과도하게 높아져서**, 가중치가 높은 단어가 **특별한 의미**를 **가지지 않는** 경우도 있습니다."
   ]
  }
 ],
 "metadata": {
  "kernelspec": {
   "display_name": "Python 3 (ipykernel)",
   "language": "python",
   "name": "python3"
  },
  "language_info": {
   "codemirror_mode": {
    "name": "ipython",
    "version": 3
   },
   "file_extension": ".py",
   "mimetype": "text/x-python",
   "name": "python",
   "nbconvert_exporter": "python",
   "pygments_lexer": "ipython3",
   "version": "3.7.13"
  }
 },
 "nbformat": 4,
 "nbformat_minor": 5
}
