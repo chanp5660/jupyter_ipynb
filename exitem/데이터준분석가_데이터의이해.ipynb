{
 "cells": [
  {
   "attachments": {},
   "cell_type": "markdown",
   "metadata": {},
   "source": [
    "---  \n",
    "layout: post  \n",
    "current: post  \n",
    "cover:  assets/built/images/데이터준분석가.png  \n",
    "navigation: True  \n",
    "title: 데이터준분석가   \n",
    "date: 2023-04-20 00:00:00 +0900  \n",
    "tags: [exitem,TIL]  \n",
    "class: post-template  \n",
    "subclass: 'post tag-python'  \n",
    "author: chanp5660  \n",
    "---  \n",
    " "
   ]
  },
  {
   "attachments": {},
   "cell_type": "markdown",
   "metadata": {},
   "source": [
    "# 데이터준분석가 ADsP 데이터의 이해\n",
    "\n",
    "데이터분석 준전문가(ADsP : Advanced Data Analytics Semi-Professional)란 데이터 이해에 대한 기본지식을 바탕으로 데이터분석 기획 및 데이터분석 등의 직무를 수행하는 실무자를 말한다.\n",
    "\n",
    "ADsP에 대한 자세한 정보를 [**링크**](https://www.dataq.or.kr/www/sub/a_06.do)에서 제공합니다.\n",
    "\n",
    "목적 : 데이터준분석가와 관련된 용어들에 대해 공부를 해보겠습니다."
   ]
  },
  {
   "attachments": {},
   "cell_type": "markdown",
   "metadata": {},
   "source": [
    "- [**데이터형태(정성, 정량)**](https://chanp5660.github.io/데이터형태_정성_정량) 란?\n",
    "- [**암묵지와 형식지**](https://chanp5660.github.io/암묵지와형식지) 란?\n",
    "- [**SQL 집계함수**](https://chanp5660.github.io/SQL집계함수) 란?"
   ]
  },
  {
   "attachments": {},
   "cell_type": "markdown",
   "metadata": {},
   "source": [
    "## DIKW 피라미드(Data Information Knowledge Wisdom)\n",
    "\n",
    "개인이나 조직이 정보를 이해하고 활용하는 과정을 보여줍니다.\n",
    "\n",
    "피라미드의 목적은 데이터를 수집하고 분석한 후, 정보를 추출하고 이를 지식으로 바꾸는 과정을 거쳐 지혜를 얻는 것이 목표입니다.\n",
    "\n",
    "- D, Data : 개별 데이터 자체로는 의미가 중요하지 않은 객관적인 사실로 숫자, 문자, 기호 등의 형태로 표현된 단순한 사실이나 정보입니다.  \n",
    "예를 들어, 날씨 정보, 주시 시장의 가격 등이 데이터의 예시입니다.\n",
    "- I, Information : 데이터의 가공, 처리와 데이터간 연관 관계 속에서 의미가 도출된 것으로 데이터가 무엇을 의미하는지를 설명하는 것입니다.  \n",
    "예를 들어, 일기예보가 '내일은 맑은'이라는 데이터를 정보로 변환합니다.  \n",
    "- K, Knowledge : 데이터를 통해 도출된 다양한 정보를 구조화하여 유의미한 정보를 분류하고 개인적인 경험을 결합시켜 고유의 지식으로 내재화된 것입니다.  \n",
    "예를 들어, 일기예보에서 '맑음'이 내일 물건을 건조시키기 좋은 기상 조건이라는 지식을 얻을 수 있습니다.\n",
    "- W, Wisdom : 지식을 활용하여 의사결정이나 문제 해결에 대한 지혜를 얻는 것입니다. 지혜는 지식을 응용하여 문제를 해결하는 것으로, 조직이나 개인이 지식을 기반으로 비즈니스나 생활 전반에 걸치 의사결정을 내리는 것을 돕습니다."
   ]
  }
 ],
 "metadata": {
  "language_info": {
   "name": "python"
  },
  "orig_nbformat": 4
 },
 "nbformat": 4,
 "nbformat_minor": 2
}
