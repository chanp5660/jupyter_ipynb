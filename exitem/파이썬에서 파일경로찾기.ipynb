{
 "cells": [
  {
   "attachments": {},
   "cell_type": "markdown",
   "id": "19ccc56a-d2bf-494f-8346-17e9658b0089",
   "metadata": {
    "tags": []
   },
   "source": [
    "---  \n",
    "layout: post  \n",
    "current: post  \n",
    "cover:  assets/built/images/파일경로찾기.png  \n",
    "navigation: True  \n",
    "title: 파이썬에서 파일경로찾기   \n",
    "date: 2023-03-07 00:00:00 +0900  \n",
    "tags: [exitem,TIL]  \n",
    "class: post-template  \n",
    "subclass: 'post tag-python'  \n",
    "author: chanp5660  \n",
    "---  \n",
    " "
   ]
  },
  {
   "attachments": {},
   "cell_type": "markdown",
   "id": "6a493af6-7303-4194-adb0-1cb4853c35c7",
   "metadata": {},
   "source": [
    "# python을 이용하여 파일 경로 찾기\n",
    "\n",
    "파일들을 여러개를 반복적으로 해야될 일이면 매우 귀찮습니다. 따라서 파일이 생길 때마다 반복해줘야하는 동작들을 자동화 해주는 프로그램을 작성하겠습니다."
   ]
  },
  {
   "attachments": {},
   "cell_type": "markdown",
   "id": "58749e3f-3dd0-4e10-b9ed-a9608fb646b2",
   "metadata": {},
   "source": [
    "## 원하는 폴더의 파일들을 알고 싶을 때\n",
    "\n",
    "항상 다루던 폴더가 있으면 파일을 일일히 불러오는게 아니라 한번에 폴더 내 모든 파일을 불러올 수 있다."
   ]
  },
  {
   "cell_type": "code",
   "execution_count": 11,
   "id": "e76f0563-a660-4f34-87db-fe2ab2365d55",
   "metadata": {},
   "outputs": [
    {
     "name": "stdout",
     "output_type": "stream",
     "text": [
      "['.ipynb_checkpoints', 'ai', 'devskill', 'exitem', 'List', 'math', 'programing', 'project']\n"
     ]
    }
   ],
   "source": [
    "import os\n",
    "\n",
    "folder_path = \"../../drive-download-20230206T024359Z-001/HTML_DATAFRAME/_posts\" # 원하는 폴더 경로\n",
    "print(os.listdir(folder_path))"
   ]
  },
  {
   "attachments": {},
   "cell_type": "markdown",
   "id": "28e130fc-ced8-4834-9ad5-d1775cc7f93e",
   "metadata": {},
   "source": [
    "## 폴더의 모든 하위 파일들을 알고 싶을 때\n",
    "\n",
    "단순히 폴더 안의 내용을 알고 싶은 것이 아니라 폴더 내에 존재하는 모든 파일 경로를 알고 싶을 때"
   ]
  },
  {
   "cell_type": "code",
   "execution_count": 27,
   "id": "0506ea91-56a4-45bc-a4b2-f609ecc61975",
   "metadata": {},
   "outputs": [],
   "source": [
    "import os\n",
    "\n",
    "folder_path = \"../../drive-download-20230206T024359Z-001/HTML_DATAFRAME/_posts\" # 원하는 폴더 경로\n",
    "file_paths = []  # 파일 경로를 저장할 빈 리스트를 만듭니다.\n",
    "\n",
    "for root, dirs, files in os.walk(folder_path):\n",
    "    for file in files:\n",
    "        file_path = os.path.join(root, file)\n",
    "        file_paths.append(file_path)"
   ]
  },
  {
   "cell_type": "code",
   "execution_count": 28,
   "id": "4a15a44c-1a8d-4a44-b60f-051855a81f74",
   "metadata": {},
   "outputs": [
    {
     "name": "stdout",
     "output_type": "stream",
     "text": [
      "107\n"
     ]
    }
   ],
   "source": [
    "print(len(file_paths))"
   ]
  },
  {
   "cell_type": "code",
   "execution_count": 36,
   "id": "91ad6fda-095d-4ebb-81ef-516ad159c66e",
   "metadata": {},
   "outputs": [
    {
     "name": "stdout",
     "output_type": "stream",
     "text": [
      "../../drive-download-20230206T024359Z-001/HTML_DATAFRAME/_posts\\ai\\2023-02-06-머신러닝 워크플로우.md\n",
      "../../drive-download-20230206T024359Z-001/HTML_DATAFRAME/_posts\\ai\\2023-02-13-로지스틱회귀.md\n",
      "../../drive-download-20230206T024359Z-001/HTML_DATAFRAME/_posts\\ai\\2023-02-17-결정경계.md\n",
      "../../drive-download-20230206T024359Z-001/HTML_DATAFRAME/_posts\\ai\\2023-02-17-선형분류.md\n",
      "../../drive-download-20230206T024359Z-001/HTML_DATAFRAME/_posts\\ai\\2023-02-17-손실함수.md\n"
     ]
    }
   ],
   "source": [
    "for i in file_paths[:5]:\n",
    "    print(i)"
   ]
  },
  {
   "cell_type": "markdown",
   "id": "45b6355a-5df5-4e4e-8e3a-74061c74d9e0",
   "metadata": {},
   "source": [
    "- 이렇게 원하는 폴더의 하위 모든 파일의 경로를 얻을 수 있다."
   ]
  }
 ],
 "metadata": {
  "kernelspec": {
   "display_name": "Python 3 (ipykernel)",
   "language": "python",
   "name": "python3"
  },
  "language_info": {
   "codemirror_mode": {
    "name": "ipython",
    "version": 3
   },
   "file_extension": ".py",
   "mimetype": "text/x-python",
   "name": "python",
   "nbconvert_exporter": "python",
   "pygments_lexer": "ipython3",
   "version": "3.7.13"
  }
 },
 "nbformat": 4,
 "nbformat_minor": 5
}
