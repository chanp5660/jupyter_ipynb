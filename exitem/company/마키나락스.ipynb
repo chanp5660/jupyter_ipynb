{
 "cells": [
  {
   "attachments": {},
   "cell_type": "markdown",
   "id": "3c106f88-244d-4e3b-bbdf-10ef7bc0ed5f",
   "metadata": {},
   "source": [
    "---  \n",
    "layout: post  \n",
    "current: post  \n",
    "cover:  assets/built/images/마키나락스.png  \n",
    "navigation: True  \n",
    "title: 마키나락스   \n",
    "date: 2023-02-19 00:00:00 +0900  \n",
    "tags: [exitem,Company]  \n",
    "class: post-template  \n",
    "subclass: 'post tag-python'  \n",
    "author: chanp5660  \n",
    "---  \n",
    " "
   ]
  },
  {
   "cell_type": "markdown",
   "id": "7440c6e5-d71e-4fa0-b4b3-471f71fd96b1",
   "metadata": {},
   "source": [
    "# 마키나락스\n",
    "\n",
    "> 산업용 AI 적용, 확실한 비전\n",
    "\n",
    "> 회사의 목표가 확실해 보이고 소비자 입장에서도 확실하게 원하는 바를 말할 수 있도록 사이트가 정리가 잘 되어 있고 심플하다. 사원수도 안정적으로 늘고 있다. AI 엔지니어를 기본적으로 많이 뽑고 있다. 최근 뉴스에서 보아도 AI를 기반으로 산업용으로 바로 적용하여 발전가능성이 높아 앞으로도 쭉 성장할 것으로 보인다."
   ]
  },
  {
   "cell_type": "markdown",
   "id": "8389b4e9-3b81-4fb7-b750-d01b3b66fb74",
   "metadata": {},
   "source": [
    "# 마키나락스 MakinaRocks 기본 정보\n",
    "\n",
    "[원티드](https://www.wanted.co.kr/wd/142631), [사람인](https://www.saramin.co.kr/zf_user/company-info/view/csn/M25lOC9pVDhWY0lSVHV3VUpZNDF1Zz09/company_nm/(%EC%A3%BC)%EB%A7%88%ED%82%A4%EB%82%98%EB%9D%BD%EC%8A%A4), [공식사이트 참조](https://www.makinarocks.ai/)\n"
   ]
  },
  {
   "cell_type": "markdown",
   "id": "2dc096af-1d02-41fa-80c4-c1f019dcdc93",
   "metadata": {},
   "source": [
    "- 2017년12월12일 설립( 업력 7년차 )\n",
    "- 산업용 AI 솔루션과 플랫폼을 개발, 제공하는 AI 스타트업 마키나락스"
   ]
  },
  {
   "cell_type": "markdown",
   "id": "876735e0-d41c-4e9b-b6bd-090a6e6b2e7a",
   "metadata": {},
   "source": [
    "- 상품\n",
    "    - [Link](https://www.makinarocks.ai/product/link/)\n",
    "        - 데이터 사이언티스트가 친숙하게 사용하는 주피터랩(jupyterlab)의 확장 프로그램으로, 가독성 있는 파이프라인을 만들어 쉽게 공유할 수 있는 AI/ML 모델 개발 도구입니다.\n",
    "    - [Runway](https://www.makinarocks.ai/product/runway/)\n",
    "        - 모델 개발, 배포, 모니터링을 하나의 플랫폼으로 통합하여 지속적인 개발과 안정적 운영이 가능한 MLOps 플랫폼입니다."
   ]
  },
  {
   "cell_type": "markdown",
   "id": "87439a2c-b4ed-4d30-8bf6-a12d0c6a073f",
   "metadata": {},
   "source": [
    "- ML/DL, 강화학습 기술을 기반으로 한 Core ML 역량과 Enterpise MLOps 제품을 기반으로, 제조 및 산업 분야에서 다수의 AI 적용 사례를 만들어가고 있습니다.\n",
    "- 사원수 : 83 (2022.12 기준)\n",
    "    - <span style=\"color:blue\">입사자 수는 꾸준하고 퇴사자 수는 적은편으로 안정적으로 성장하는 것으로 보인다.</span>    "
   ]
  },
  {
   "cell_type": "markdown",
   "id": "0d91b88b-8476-4022-ba86-e6a81ce1f45a",
   "metadata": {},
   "source": [
    "\n",
    "\n",
    "        \n"
   ]
  },
  {
   "cell_type": "markdown",
   "id": "b26473b6-755f-4a29-93db-d134638a675e",
   "metadata": {},
   "source": [
    "- 가장 최근 관련 [뉴스](http://jmagazine.joins.com/forbes/view/337339)  \n",
    "> 최근 마이크로소프트가 인공지능 연구소 ‘오픈AI’에 최대 100억 달러(한화 12조4800억원) 규모의 투자를 고려하고 있다는 소식에 업계가 술렁였다. IT업계에 대한 국내외 투자가 예전 같지 않은 상황에서 AI 분야만큼은 가능성을 봤기 때문이다. 한국에도 기술력으로 이미 세계시장에 눈도장을 찍은 AI 기업이 있다. 산업 현장에 맞춤형 AI 기술을 도입해 제조 혁신을 이루겠다는 ‘마키나락스’다."
   ]
  },
  {
   "cell_type": "markdown",
   "id": "d9215471-ab06-4b27-83dd-6c86d627f43d",
   "metadata": {},
   "source": [
    "\n",
    "# 연혁\n",
    "\n",
    "- 2022\n",
    "    - NOV\n",
    "        - 엔터프라이즈 ML옵스 플랫폼 마키나락스 런웨이(Runway™) 공개\n",
    "    - OCT\n",
    "        - 'Korea AI Startup 100' 2년 연속 선정\n",
    "    - JUL\n",
    "        - CB인사이트 '세계 50대 첨단 제조 스타트업' 선정\n",
    "    - MAY\n",
    "        - 마키나락스 링크(Link™) 커뮤니티 버전 출시\n",
    "    - MAR\n",
    "        - 마키나락스 링크(Link™) 베타 서비스 시작\n",
    "- 2021\n",
    "    - OCT\n",
    "        - Korea AI Startup 100 선정\n",
    "    - SEP\n",
    "        - Kubernetes Certified Service Provider 선정\n",
    "    - JUN\n",
    "        - 세계경제포럼(World Economic Forum) 기술선도기업 선정\n",
    "- 2020\n",
    "    - DEC\n",
    "        - 과학기술정보통신부 주관 대한민국 4차 산업혁명대상 ‘창업진흥원장상’ 수상\n",
    "    - NOV\n",
    "        - 지능정보산업협회-PWC 주관 ‘2021 Emerging AIX Top100’ 선정\n",
    "    - NOV\n",
    "        - 신용보증기금 혁신 아이콘 4기 선정\n",
    "    - SEP\n",
    "        - NVIDIA Inception Program 멤버 선정\n",
    "    - JUL\n",
    "        - 120억 원 규모 Series A 투자 유치 (LG테크놀로지벤처스, 현대자동차, 어플라이드 벤처스, 산업은행)\n",
    "- 2019\n",
    "    - MAY\n",
    "        - 네이버 D2 Startup Factory (D2SF) 데모데이 참가\n",
    "    - JAN\n",
    "        - 마키나락스 첫 특허 등록 (ANOMALY DETECTION, 10-1940029)\n",
    "- 2018\n",
    "    - MAY\n",
    "        - Seed Round 투자 유치 (SK텔레콤, 현대자동차, 네이버 D2 스타트업 팩토리)\n",
    "    - MAR\n",
    "        - 마키나락스 미국 법인 설립 (Silicon Valley)\n",
    "- 2017\n",
    "    - DEC\n",
    "        - 마카니락스 한국 법인 설립 (Seoul)"
   ]
  }
 ],
 "metadata": {
  "kernelspec": {
   "display_name": "Python 3 (ipykernel)",
   "language": "python",
   "name": "python3"
  },
  "language_info": {
   "codemirror_mode": {
    "name": "ipython",
    "version": 3
   },
   "file_extension": ".py",
   "mimetype": "text/x-python",
   "name": "python",
   "nbconvert_exporter": "python",
   "pygments_lexer": "ipython3",
   "version": "3.7.13"
  }
 },
 "nbformat": 4,
 "nbformat_minor": 5
}
