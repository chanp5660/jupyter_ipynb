{
 "cells": [
  {
   "attachments": {},
   "cell_type": "markdown",
   "id": "f5c0d48f-cef5-4795-8368-2012adf65ba4",
   "metadata": {},
   "source": [
    "---  \n",
    "layout: post  \n",
    "current: post  \n",
    "cover:  assets/built/images/비즈데이터.png  \n",
    "navigation: True  \n",
    "title: 비즈데이터   \n",
    "date: 2023-02-13 00:00:00 +0900  \n",
    "tags: [exitem,Company]  \n",
    "class: post-template  \n",
    "subclass: 'post tag-python'  \n",
    "author: chanp5660  \n",
    "---  \n",
    " "
   ]
  },
  {
   "cell_type": "markdown",
   "id": "a8dae861-ddbd-4e30-b606-988a162059c5",
   "metadata": {},
   "source": [
    "# 비즈데이터"
   ]
  },
  {
   "cell_type": "markdown",
   "id": "ab3b1786-5cf3-41fe-b95c-67d36d260add",
   "metadata": {},
   "source": [
    "> 시스템이 체계적으로 잘 되어 있어 굉장히 안정적이다.\n",
    "\n",
    "> 사이트에 정리해놓은 연혁, 조직도, 프로젝트, 기술 등을 보고 들어가서 단지 빈자리를 매꾸는 것이 아닌 하나의 기술직을 맡아 일을 하는 것 같아 나와 회사 모두의 발전이 보이는 것 같다. 그리고 많은 협력사가 존재하고 이 회사를 믿고 맡기고 있는지 느껴지고 공기업도 있는 것 같아 믿음이 간다.\n"
   ]
  },
  {
   "cell_type": "markdown",
   "id": "fc3747a8-be1e-4bff-b9a7-f6a86ec059c3",
   "metadata": {},
   "source": [
    "# 비즈데이터 기본 정보\n",
    "\n",
    "[사람인 참조](https://www.saramin.co.kr/zf_user/company-info/view/csn/VTF3ZWw0ZHV4MDJ4b1BJdkE4b0NHUT09/company_nm/(주)비즈데이터) 와 [공식 사이트 참조](http://bizdata.kr/)\n",
    "\n",
    "- 2014년 5월 26일 설립 ( 10년차 )\n",
    "- 기업형태 : 중소기업\n",
    "- 사원수: 71명(2022.12월 기준)\n",
    "    - <span style=\"color:blue\">입사자 수에 비해 퇴사자 수가 적은 것은 꽤 안정적으로 크고 있는 것 같다.</span>\n",
    "- 솔루션을 기반으로 환경, 비즈니스 인텔리전스, 스마트공장, 컨설팅 분야에서 서비스를 제공하고 있습니다.\n",
    "- GI(Green Intelligence) : 비즈데이터의 자율운영 플랫폼을 기반으로 상수, 하수 등의 환경분야에서 AI기반의 자율운영 서비스를 제공합니다.\n",
    "- BI(Businuess Intelligence) : 최신 데이터에 기반한 기업경영활동이 이루어질 수 있도록 통합 빅데이터 플랫폼을 기반으로 비즈니스 분석 서비스를 제공합니다.\n",
    "- 스마트 팩토리 : 생산관련 데이터를 실시간으로 수집 분석하여 데이터 기반으로 공장경여관리를 디지털화 할 수 있도록 스마트 공장을 구축합니다.\n",
    "- 컨설팅 : 데이터에 기반하여 기업이 성장할 수 있도록 산업전문가, 공공협력채널, 경영분석 전문가들이 협업하여 컨설팅 서비스를 제공합니다."
   ]
  },
  {
   "cell_type": "markdown",
   "id": "d0bea481-6738-4033-a7e1-b4736fa8f660",
   "metadata": {},
   "source": [
    "# 연혁\n",
    "\n",
    "[공식 사이트](http://bizdata.kr/40)\n",
    "\n",
    "# 프로젝트\n",
    "\n",
    "[공식 사이트](http://bizdata.kr/41)\n",
    "- <span style=\"color:blue\"> 자연, 주변 등의 다양한 도메인을 다루는게 느껴진다.</span>"
   ]
  },
  {
   "cell_type": "markdown",
   "id": "8d3e52e5-d9bc-4291-b893-05f994c57e5a",
   "metadata": {},
   "source": [
    "# 조직도\n",
    "\n",
    "<img alt=\"회사조직도\" src=\"https://user-images.githubusercontent.com/46266247/218439814-ee61f971-6b0a-40a8-aa75-61626958c951.png\" width=\"100%\" height=\"100%\" >\n",
    "\n",
    "- <span style=\"color:blue\">기술 수준의 비율을 맞추려고 노력하는 모습으로 보이며 앞으로의 기술직의 부족은 없다고 생각된다. 굉장히 안정적이다.</span>"
   ]
  }
 ],
 "metadata": {
  "kernelspec": {
   "display_name": "Python 3 (ipykernel)",
   "language": "python",
   "name": "python3"
  },
  "language_info": {
   "codemirror_mode": {
    "name": "ipython",
    "version": 3
   },
   "file_extension": ".py",
   "mimetype": "text/x-python",
   "name": "python",
   "nbconvert_exporter": "python",
   "pygments_lexer": "ipython3",
   "version": "3.7.13"
  }
 },
 "nbformat": 4,
 "nbformat_minor": 5
}
