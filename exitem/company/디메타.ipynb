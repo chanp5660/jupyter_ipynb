{
 "cells": [
  {
   "attachments": {},
   "cell_type": "markdown",
   "id": "120051a6-0b56-4c61-9a7e-785c1e2d1590",
   "metadata": {},
   "source": [
    "---  \n",
    "layout: post  \n",
    "current: post  \n",
    "cover:  assets/built/images/디메타.png  \n",
    "navigation: True  \n",
    "title: 디메타   \n",
    "date: 2023-03-14 00:00:00 +0900  \n",
    "tags: [exitem,Company]  \n",
    "class: post-template  \n",
    "subclass: 'post tag-python'  \n",
    "author: chanp5660  \n",
    "---  \n",
    " "
   ]
  },
  {
   "cell_type": "markdown",
   "id": "28a18ac1-f156-4387-8842-181112ab90ad",
   "metadata": {},
   "source": [
    "# 디메타"
   ]
  },
  {
   "cell_type": "markdown",
   "id": "52f180eb-e781-4a56-953d-4a13dd92ad93",
   "metadata": {},
   "source": [
    "> 운송 및 물류 분야 시장 강자를 목표\n",
    "\n",
    "> 철도분야를 시작으로해서 운송 및 물류 분야 시장의 강자를 목표를 하고 있습니다. 회사에 제가 필요한 부분은 AI 를 기반으로 하는 회사 시스템을 통해 시스템 개발을 목적으로 하는 것 같습니다. 따라서 주요한 직무로는 서비를 제공하기 위한 현재 시스템의 AI 와 그 중 컴퓨터 비젼 관련으로 질문이 나올 것 같습니다. 질문해주시는 부분에 대해서는 차분하게 대답하면서 아는 것들로 정직하게 대답하고 오겠습니다."
   ]
  },
  {
   "cell_type": "markdown",
   "id": "c5cda9c5-6fa6-40ab-a910-6339a9ae5651",
   "metadata": {},
   "source": [
    "# 디메타 기본 정보\n",
    "\n",
    "[공식 사이트](https://www.d-meta.ai/)\n",
    "\n",
    "- 이름 의미 : D-Meta Career\n",
    "    - Distruptive Technology provide Transcending service with AI\n",
    "- 2019년 1월 28일 설립\n",
    "- D-Meta.AI 는 철도신호제어 부문의 국내 Top 회사로부터 투자를 받아, 안정적이면서도 성장 가능성이 무궁한 철도분야를 시작으로 **운송 및 물류 분야 시장의 강자**를 **목표**로 합니다.\n",
    "- AI 기술력과 Top 엔지니어를 발판으로 모회사가 강자로 있는 **철도신호제어 분야**에서 **AI, 빅데이터, 디지털트윈**이 반영된 새로운 **시스템**을 **개발**하고 있습니다.\n",
    "- 당사의 목표는 **AI 기술**로 **최적의 시뮬레이션**을 할 수 있는 **철도관제 시스템을 개발**하고, 철도 시설물에 대한 다양한 검측 및 예측을 함으로써 **철도관제의 안전성과 최적성을 고도화**하고자 합니다.\n",
    "- 궁극적으로는 다양한 **다른 교통수단**과 **물류 부문**에 대해서도 **적용**할 수 있는 시스템으로 **개발**함으로써, 인류에게 보다 안전하고 최적화된 철도관제, 교통관제, 물류관제 구현에 이바지하고자 하며, 국내를 넘어 해외로도 진출하여 **5년 이내 IPO 상장**을 **계획**하고 있습니다."
   ]
  },
  {
   "cell_type": "markdown",
   "id": "e9041e7e-c81b-4614-a374-c5e3bda4f539",
   "metadata": {},
   "source": [
    "## 서비스\n",
    "\n",
    "- ARTEMIS (아르테미스)\n",
    "    - **A**I based **R**ailway and **T**rain **E**nvironment **M**anagement and **I**nformation **S**olution\n",
    "    - AI,Bigdata 기술을 기반으로 열차의 미래를 예측하고 **사고**를 미연에 **방지**하고 열차 **스케쥴**을 다양한 관점에서 **최적화**하여 보다 **안전**하고 **효율**적인 열차 관제를 지원하는 시스템\n",
    "- ARTEVA (아르테바)\n",
    "    - **A**I based **R**ailway and **T**rain **E**nvironment **V**ideo **A**nalytics solution\n",
    "    - AI, Bigdata 기술을 기반으로 **선로, 역사** 등의 **CCTV 비디오를 분석**하여 **이상상황 탐지** 등 안전관제를 지원하는 시스템 "
   ]
  },
  {
   "cell_type": "markdown",
   "id": "55d6291e-bdf9-4079-a914-aca936a4f76c",
   "metadata": {},
   "source": [
    "## 원티드 채용 공고 내용\n",
    "\n",
    "[https://www.wanted.co.kr/wd/139525](https://www.wanted.co.kr/wd/139525)\n",
    "\n",
    "- 주요업무\n",
    "    - 열차 운송 시스템 관련 Data Analysis 를 통한 예측 솔루션 개발\n",
    "    - Deep Learning 및 Computer Vision 기반의 열차 영상 분석 시스템 솔루션 개발\n",
    "    - Reinforcement Learning을 이용한 열차 운행 최적화 알고리즘 및 시스템 개발\n",
    "- 자격요건\n",
    "    - **Python**, C++ 를 사용하여 알고리즘 또는 시스템 개발 경험이 있으신 분\n",
    "    - **Artificial Intelligence / Computer Science / Data Science / Statistics / Electric Engineering 등 이 · 공 계열 학사 이상 학위 보유하신 분**\n",
    "    - **PyTorch, TensorFlow 와 같은 머신러닝 프레임워크 사용 경험이 있으신 분**\n",
    "    - **협업 및 의사소통이 원활하신 분**\n",
    "- 우대사항\n",
    "    - Artificial Intelligence / Computer Science / Data Science / Statistics / Electric Engineering 등 이 · 공 계열 석사 이상 학위 보유하신 분 \n",
    "    - **Deep learning**, Reinforcement Learning, Computer Vision based Image Processing 기반의 알고리즘 또는 시스템 개발 프로젝트 경력이 있으신 분 \n",
    "    - AI, Deep Learning, Machine Learning 관련 분야 학회 논문 1편 이상 보유하신 분 \n",
    "    - 최신 논문에 대한 빠른 이해 및 구현 능력이 있으신 분\n",
    "    - 교통/물류 관련 예측 및 최적화 프로젝트 경험 혹은 영상 관련 프로젝트 경험이 있으신 분\n",
    "- 채용절차\n",
    "    - 서류전형 → 실무 & 경영진 면접 → 코딩 테스트 → 최종합격\n",
    "    \n",
    "> <span style='color:blue'>내 생각  \n",
    "기본적인 자격요건이 충족되는데 회사가 원하는 신입은 컴퓨터비전을 경험해본 사람을 원하는 것 같아서 어떤 대화가 오갈지 설렘반 기대반이다.\n",
    "</span>\n"
   ]
  }
 ],
 "metadata": {
  "kernelspec": {
   "display_name": "Python 3 (ipykernel)",
   "language": "python",
   "name": "python3"
  },
  "language_info": {
   "codemirror_mode": {
    "name": "ipython",
    "version": 3
   },
   "file_extension": ".py",
   "mimetype": "text/x-python",
   "name": "python",
   "nbconvert_exporter": "python",
   "pygments_lexer": "ipython3",
   "version": "3.7.13"
  }
 },
 "nbformat": 4,
 "nbformat_minor": 5
}
