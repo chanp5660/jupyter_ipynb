{
 "cells": [
  {
   "attachments": {},
   "cell_type": "markdown",
   "id": "08a27387-f624-4e7b-b75d-97274e4e3a2e",
   "metadata": {},
   "source": [
    "---  \n",
    "layout: post  \n",
    "current: post  \n",
    "cover:  assets/built/images/tsne.png  \n",
    "navigation: True  \n",
    "title: t-SNE   \n",
    "date: 2023-03-28 00:00:00 +0900  \n",
    "tags: [exitem,TIL]  \n",
    "class: post-template  \n",
    "subclass: 'post tag-python'  \n",
    "author: chanp5660  \n",
    "---  \n",
    " "
   ]
  },
  {
   "attachments": {},
   "cell_type": "markdown",
   "id": "e2b320f2-8770-4e28-86a4-4e57f01fbf0e",
   "metadata": {},
   "source": [
    "# t-SNE\n",
    "\n",
    "t-Distributed Stochastic Neighbor Embedding의 약자"
   ]
  },
  {
   "attachments": {},
   "cell_type": "markdown",
   "id": "ebed60c0-7e1e-4ceb-b4ca-afc66f26fbfa",
   "metadata": {},
   "source": [
    "## 정의\n",
    "\n",
    "비선형 알고리즘 중 하나로 고차원 데이터를 저차원으로 임베딩하는 데 사용됩니다. 데이터 포인트 간의 유사도를 보존하면서 고차원 공간에서의 상대적인 거리를 저차원 공간으로 보존하는 방법을 찾습니다.\n",
    "\n"
   ]
  },
  {
   "attachments": {},
   "cell_type": "markdown",
   "id": "7e1e54c0-e23a-4480-b258-9815509787d4",
   "metadata": {},
   "source": [
    "## 사용\n",
    "\n",
    "시각화, 분류, 군집화 등 다양한 데이터 분석 작업에 유용하게 사용됩니다.\n"
   ]
  },
  {
   "attachments": {},
   "cell_type": "markdown",
   "id": "352e6da4-0383-4252-b0cb-8810ca94c97d",
   "metadata": {},
   "source": [
    "## 작동 방식\n",
    "\n",
    "1. 고차원 공간에서 각 데이터 포인트들 간의 거리를 계산합니다.\n",
    "    - 이 거리는 유사도 매트릭스(Similarity Matrix)라는 이름으로도 불립니다.\n",
    "2. 저차원 공간에서 각 데이터 포인트들 간의 거리를 계산합니다.\n",
    "    - 처음에는 무작위 선택한 값들로 시작하며, 이후에는 경사 하강법(Gradient Descent)을 사용하여 계속 업데이트 됩니다.\n",
    "3. 고차원 공간과 저차원 공간에서 각각의 데이터 포인트들을 비교합니다.\n",
    "    - 두 공간에서의 데이터 포인트 간 거리 차이(고차원 공간에서의 거리 - 저차원 공간에서의 거리)를 최소화하는 방향으로 임베딩을 조정합니다.\n",
    "4. 이전 단계를 반복하여 저차원 공간에서의 임베딩을 최적화합니다.\n",
    "\n",
    "\n"
   ]
  },
  {
   "attachments": {},
   "cell_type": "markdown",
   "id": "d839d90d-584a-401e-99e0-42b76cbbb4d9",
   "metadata": {},
   "source": [
    "## 특징\n",
    "\n",
    "고차원 데이터를 저차원으로 표현하면서도 이상치(outlier)나 군집(cluster)을 잘 보존하는 특징이 있습니다."
   ]
  },
  {
   "attachments": {},
   "cell_type": "markdown",
   "id": "7391a8c4-2037-42be-acd4-96d06d7bba5e",
   "metadata": {},
   "source": [
    "## 한계\n",
    "\n",
    "계산 복잡도가 높기 때문에 대규모 데이터셋에는 적용하기 어려울 수 있습니다.  \n",
    "초기값에 따라 결과가 달라질 수 있으며, 최적의 임베딩을 찾기 위해서는 여러번 실험해야 할 수 있습니다."
   ]
  },
  {
   "attachments": {},
   "cell_type": "markdown",
   "id": "8a55d67c",
   "metadata": {},
   "source": [
    "# 예시\n",
    "\n",
    "[신용카드사기탐지(Kaggle)](https://chanp5660.github.io/신용카드사기탐지(Kaggle)) 내용에 있는 코드"
   ]
  },
  {
   "cell_type": "code",
   "execution_count": null,
   "id": "8e8e53a9",
   "metadata": {},
   "outputs": [
    {
     "name": "stdout",
     "output_type": "stream",
     "text": [
      "Truncated SVD took 0.006 s\n",
      "[[-0.25397344 -0.4026077 ]\n",
      " [39.96986913 -5.54968943]\n",
      " [-0.42670461 -0.47991786]\n",
      " ...\n",
      " [-0.24530641 -0.29455811]\n",
      " [24.33797738 -4.63517225]\n",
      " [50.95163444 33.17574323]]\n"
     ]
    }
   ],
   "source": [
    "# TruncatedSVD\n",
    "t0 = time.time()\n",
    "X_reduced_svd = TruncatedSVD(n_components=2, algorithm='randomized', random_state=42).fit_transform(X.values)\n",
    "t1 = time.time()\n",
    "print(\"Truncated SVD took {:.2} s\".format(t1 - t0))\n",
    "\n",
    "print(X_reduced_svd)"
   ]
  }
 ],
 "metadata": {
  "kernelspec": {
   "display_name": "Python 3 (ipykernel)",
   "language": "python",
   "name": "python3"
  },
  "language_info": {
   "codemirror_mode": {
    "name": "ipython",
    "version": 3
   },
   "file_extension": ".py",
   "mimetype": "text/x-python",
   "name": "python",
   "nbconvert_exporter": "python",
   "pygments_lexer": "ipython3",
   "version": "3.7.13"
  }
 },
 "nbformat": 4,
 "nbformat_minor": 5
}
