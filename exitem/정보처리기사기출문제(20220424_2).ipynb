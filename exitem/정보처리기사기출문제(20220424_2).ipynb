{
 "cells": [
  {
   "attachments": {},
   "cell_type": "markdown",
   "metadata": {},
   "source": [
    "---  \n",
    "layout: post  \n",
    "current: post  \n",
    "cover:  assets/built/images/정보처리기사.png  \n",
    "navigation: True  \n",
    "title: 정보처리기사 기출문제 20220424_2   \n",
    "date: 2023-04-23 00:00:00 +0900  \n",
    "tags: [exitem,TIL]  \n",
    "class: post-template  \n",
    "subclass: 'post tag-python'  \n",
    "author: chanp5660  \n",
    "---  \n",
    " "
   ]
  },
  {
   "attachments": {},
   "cell_type": "markdown",
   "metadata": {},
   "source": [
    "# 정보처리기사 기출문제 부시기 20220424\n",
    "\n",
    "2023-04-17일인 오늘 큐넷을 통해 정보처리기사 필기 시험을 신청했습니다.   \n",
    "그동안 AI를 하면서 필요없는 자격증이라고 생각해서 그동안 도전해볼 생각도 안했습니다.   \n",
    "시험을 신청한 지금도 AI를 하기 위해서는 꼭 필요하다라는 생각이 드는 것은 아니고 있으면 좋을 것 같아서 이번에 도전하기로 했습니다.   \n",
    "\n",
    "시험 날짜는 5월 13일로 오늘이 지나면 25일 정도 남았습니다.   \n",
    "또 5월 20일에는 ADsP도 시험보는 상황으로 합격을 기준으로 공부를 하도록 하겠습니다.   \n",
    "이해를 하면서 하는게 기억에 오래 남아서 정리해가면서 공부를 진행하도록 하겠습니다.   \n",
    "합격을 기원합니다."
   ]
  },
  {
   "attachments": {},
   "cell_type": "markdown",
   "metadata": {},
   "source": [
    "모든 자료는 [**전자문제집 CBT**](https://www.comcbt.com/)에서 제공됩니다."
   ]
  },
  {
   "attachments": {},
   "cell_type": "markdown",
   "metadata": {},
   "source": [
    "# 1과목 : 소프트웨어 설계 (11번~20번)"
   ]
  },
  {
   "attachments": {},
   "cell_type": "markdown",
   "metadata": {},
   "source": [
    "## 11. 객체에 대한 설명으로 틀린 것은?\n",
    "\n",
    "1. 객체는 상태, 동작, 고유 식별자를 가진 모든 것이라 할 수 있다.\n",
    "2. ***객체는 공통 속성을 공유하는 클래스들의 집합니다.***\n",
    "3. 객체는 필요한 자료 구조와 이네 수행되는 함수들을 가진 하나의 독립된 존재이다.\n",
    "4. 객체의 상태는 속성값에 의해 정의된다.\n",
    "\n",
    "**문제 해설**  \n",
    "\n",
    "2. 클래스는 공통 속성을 공유하는 객체들의 집합이다.  \n",
    "[해설작성자 : 풋살은재밌어]\n"
   ]
  },
  {
   "attachments": {},
   "cell_type": "markdown",
   "metadata": {},
   "source": [
    "## 12. 속성과 관련된 연산(Operation)을 클래스 안에 묶어서 하나로 취급하는 것을 의미하는 객체지향 개념은?\n",
    "\n",
    "1. Inheritance\n",
    "2. Class\n",
    "3. ***Encapsulation***\n",
    "4. Association\n",
    "\n",
    "**문제 해설**  \n",
    "\n",
    "- 클래스 : 하나 이상의 유사한 객체들을 묶는다.\n",
    "- 캡슐화 : 서로 관련성이 많은 데이터들과 연산들을 묶는다.  \n",
    "[해설작성자 : comcbt.com 이용자]\n",
    "\n",
    "**내 공부**  \n",
    "\n",
    "- [**상속성(Inheritance)**](https://chanp5660.github.io/상속(Inheritance)) 이란?\n",
    "- [**연관(Association)**](https://chanp5660.github.io/Association관계) 이란? "
   ]
  },
  {
   "attachments": {},
   "cell_type": "markdown",
   "metadata": {},
   "source": [
    "## 13. 애자일(Agile) 프로세스 모델에 대한 설명으로 *틀린* 것은?\n",
    "\n",
    "1. ***변화에 대한 대응보다는 자세한 계획을 중심으로 소프트웨어를 개발한다.***\n",
    "2. 포르세스와 도구 중심이 아닌 개개인과의 상호소통을 통해 의견을 수렴한다.\n",
    "3. 협상과 계약보다는 고객과의 협력을 중시한다.\n",
    "4. 문서 중심이 아닌, 실행 가능한 소프트웨어를 중시한다.\n",
    "\n",
    "**문제 해설**  \n",
    "\n",
    "- 애자일 개발 프로세스 : 개발에 대한 개념적 방법론으로, 개발 프로젝트 기간을 짧은 주기로 나눠 반복적인 개발을 하는 것이 특징\n",
    "[애자일 선언문]  \n",
    "'프로세스, 도구 보다는 (사람과 상호작용)을   \n",
    "광범위한 문서 보다는 (실제 작동하는 제품)을  \n",
    "계약 협상보다는 (고객 협력)을  \n",
    "계획을 따르기 보다는 (변화 대응)을'  \n",
    "[해설작성자 : 서쳐]\n",
    "\n",
    "**내 공부**  \n",
    "- [**애자일방법론**](https://chanp5660.github.io/애자일방법론)이란?\n"
   ]
  },
  {
   "attachments": {},
   "cell_type": "markdown",
   "metadata": {},
   "source": [
    "## 14. 명백한 역할을 가지고 독립적으로 존재할 수 있는 시스템의 부분으로 넓은 의미에서는 재사용되는 모든 단위라고 볼 수 있으며, 인터페이스를 통해서만 접근할 수 있는 것은?  \n",
    "\n",
    "1. Model\n",
    "2. Sheet\n",
    "3. ***Component***\n",
    "4. Cell\n",
    "\n",
    "**문제 해설**  \n",
    "\n",
    "- 컴포넌트\n",
    "    - 프로그래밍에 있어 재사용이 가능한 각각의 독립된 모듈\n",
    "    - 특정 기능 수행을 위해 독립적으로 분리  \n",
    "[해설작성자 : 보호주의]\n",
    "\n",
    "**내 공부**   \n",
    "\n",
    "- [**컴포넌트**](https://chanp5660.github.io/컴포넌트)란?"
   ]
  },
  {
   "attachments": {},
   "cell_type": "markdown",
   "metadata": {},
   "source": [
    "## 15.GoF(Gans of Four) 디자인 패턴을 생성, 구조, 행동 패턴의 세 그룹으로 분류할 때, 구조 패턴이 아닌 것은?\n",
    "\n",
    "1. Adapter 패턴\n",
    "2. Bridge 패턴\n",
    "3. Builder 패턴\n",
    "4. Proxy 패턴\n",
    "\n",
    "**문제 해설**  \n",
    "\n",
    "[구조패턴]  \n",
    "- 어댑터\n",
    "- 브릿지\n",
    "- 컴포지트\n",
    "- 데코레이터\n",
    "- 퍼싸트\n",
    "- 플라이웨이트\n",
    "- 프록시  \n",
    "[해설작성자 : 아기재혁]\n",
    "\n",
    "**내 공부**  \n",
    "\n"
   ]
  }
 ],
 "metadata": {
  "language_info": {
   "name": "python"
  },
  "orig_nbformat": 4
 },
 "nbformat": 4,
 "nbformat_minor": 2
}
