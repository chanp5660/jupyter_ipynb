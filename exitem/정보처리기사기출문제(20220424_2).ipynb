{
 "cells": [
  {
   "attachments": {},
   "cell_type": "markdown",
   "metadata": {},
   "source": [
    "---  \n",
    "layout: post  \n",
    "current: post  \n",
    "cover:  assets/built/images/정보처리기사.png  \n",
    "navigation: True  \n",
    "title: 정보처리기사 기출문제 20220424_2   \n",
    "date: 2023-04-23 00:00:00 +0900  \n",
    "tags: [exitem,TIL]  \n",
    "class: post-template  \n",
    "subclass: 'post tag-python'  \n",
    "author: chanp5660  \n",
    "---  \n",
    " "
   ]
  },
  {
   "attachments": {},
   "cell_type": "markdown",
   "metadata": {},
   "source": [
    "# 정보처리기사 기출문제 부시기 20220424\n",
    "\n",
    "2023-04-17일인 오늘 큐넷을 통해 정보처리기사 필기 시험을 신청했습니다.   \n",
    "그동안 AI를 하면서 필요없는 자격증이라고 생각해서 그동안 도전해볼 생각도 안했습니다.   \n",
    "시험을 신청한 지금도 AI를 하기 위해서는 꼭 필요하다라는 생각이 드는 것은 아니고 있으면 좋을 것 같아서 이번에 도전하기로 했습니다.   \n",
    "\n",
    "시험 날짜는 5월 13일로 오늘이 지나면 25일 정도 남았습니다.   \n",
    "또 5월 20일에는 ADsP도 시험보는 상황으로 합격을 기준으로 공부를 하도록 하겠습니다.   \n",
    "이해를 하면서 하는게 기억에 오래 남아서 정리해가면서 공부를 진행하도록 하겠습니다.   \n",
    "합격을 기원합니다."
   ]
  },
  {
   "attachments": {},
   "cell_type": "markdown",
   "metadata": {},
   "source": [
    "모든 자료는 [**전자문제집 CBT**](https://www.comcbt.com/)에서 제공됩니다."
   ]
  },
  {
   "attachments": {},
   "cell_type": "markdown",
   "metadata": {},
   "source": [
    "# 1과목 : 소프트웨어 설계 (11번~20번)"
   ]
  },
  {
   "attachments": {},
   "cell_type": "markdown",
   "metadata": {},
   "source": [
    "## 11. 객체에 대한 설명으로 틀린 것은?\n",
    "\n",
    "1. 객체는 상태, 동작, 고유 식별자를 가진 모든 것이라 할 수 있다.\n",
    "2. ***객체는 공통 속성을 공유하는 클래스들의 집합니다.***\n",
    "3. 객체는 필요한 자료 구조와 이네 수행되는 함수들을 가진 하나의 독립된 존재이다.\n",
    "4. 객체의 상태는 속성값에 의해 정의된다.\n",
    "\n",
    "**문제 해설**  \n",
    "\n",
    "2. 클래스는 공통 속성을 공유하는 객체들의 집합이다.  \n",
    "[해설작성자 : 풋살은재밌어]\n"
   ]
  },
  {
   "attachments": {},
   "cell_type": "markdown",
   "metadata": {},
   "source": [
    "## 12. 속성과 관련된 연산(Operation)을 클래스 안에 묶어서 하나로 취급하는 것을 의미하는 객체지향 개념은?\n",
    "\n",
    "1. Inheritance\n",
    "2. Class\n",
    "3. ***Encapsulation***\n",
    "4. Association\n",
    "\n",
    "**문제 해설**  \n",
    "\n",
    "- 클래스 : 하나 이상의 유사한 객체들을 묶는다.\n",
    "- 캡슐화 : 서로 관련성이 많은 데이터들과 연산들을 묶는다.  \n",
    "[해설작성자 : comcbt.com 이용자]\n",
    "\n",
    "**내 공부**  \n",
    "\n",
    "- [**상속성(Inheritance)**](https://chanp5660.github.io/상속(Inheritance)) 이란?\n",
    "- [**연관(Association)**](https://chanp5660.github.io/Association관계) 이란? "
   ]
  }
 ],
 "metadata": {
  "language_info": {
   "name": "python"
  },
  "orig_nbformat": 4
 },
 "nbformat": 4,
 "nbformat_minor": 2
}
