{
 "cells": [
  {
   "attachments": {},
   "cell_type": "markdown",
   "metadata": {},
   "source": [
    "---  \n",
    "layout: post  \n",
    "current: post  \n",
    "cover:  assets/built/images/정보처리기사.png  \n",
    "navigation: True  \n",
    "title: 정보처리기사 기출문제 20220424_2   \n",
    "date: 2023-04-23 00:00:00 +0900  \n",
    "tags: [exitem,TIL]  \n",
    "class: post-template  \n",
    "subclass: 'post tag-python'  \n",
    "author: chanp5660  \n",
    "---  \n",
    " "
   ]
  },
  {
   "attachments": {},
   "cell_type": "markdown",
   "metadata": {},
   "source": [
    "# 정보처리기사 기출문제 부시기 20220424\n",
    "\n",
    "합격을 기원합니다."
   ]
  },
  {
   "attachments": {},
   "cell_type": "markdown",
   "metadata": {},
   "source": [
    "모든 자료는 [**전자문제집 CBT**](https://www.comcbt.com/)에서 제공됩니다."
   ]
  },
  {
   "attachments": {},
   "cell_type": "markdown",
   "metadata": {},
   "source": [
    "# 1과목 : 소프트웨어 설계 (11번~20번)"
   ]
  },
  {
   "attachments": {},
   "cell_type": "markdown",
   "metadata": {},
   "source": [
    "## 11. 객체에 대한 설명으로 틀린 것은?\n",
    "\n",
    "1. 객체는 상태, 동작, 고유 식별자를 가진 모든 것이라 할 수 있다.\n",
    "2. ***객체는 공통 속성을 공유하는 클래스들의 집합니다.***\n",
    "3. 객체는 필요한 자료 구조와 이네 수행되는 함수들을 가진 하나의 독립된 존재이다.\n",
    "4. 객체의 상태는 속성값에 의해 정의된다.\n",
    "\n",
    "**문제 해설**  \n",
    "\n",
    "2. 클래스는 공통 속성을 공유하는 객체들의 집합이다.  \n",
    "[해설작성자 : 풋살은재밌어]\n"
   ]
  },
  {
   "attachments": {},
   "cell_type": "markdown",
   "metadata": {},
   "source": [
    "## 12. 속성과 관련된 연산(Operation)을 클래스 안에 묶어서 하나로 취급하는 것을 의미하는 객체지향 개념은?\n",
    "\n",
    "1. Inheritance\n",
    "2. Class\n",
    "3. ***Encapsulation***\n",
    "4. Association\n",
    "\n",
    "**문제 해설**  \n",
    "\n",
    "- 클래스 : 하나 이상의 유사한 객체들을 묶는다.\n",
    "- 캡슐화 : 서로 관련성이 많은 데이터들과 연산들을 묶는다.  \n",
    "[해설작성자 : comcbt.com 이용자]\n",
    "\n",
    "**내 공부**  \n",
    "\n",
    "- [**상속성(Inheritance)**](https://chanp5660.github.io/상속(Inheritance)) 이란?\n",
    "- [**연관(Association)**](https://chanp5660.github.io/Association관계) 이란? "
   ]
  },
  {
   "attachments": {},
   "cell_type": "markdown",
   "metadata": {},
   "source": [
    "## 13. 애자일(Agile) 프로세스 모델에 대한 설명으로 *틀린* 것은?\n",
    "\n",
    "1. ***변화에 대한 대응보다는 자세한 계획을 중심으로 소프트웨어를 개발한다.***\n",
    "2. 포르세스와 도구 중심이 아닌 개개인과의 상호소통을 통해 의견을 수렴한다.\n",
    "3. 협상과 계약보다는 고객과의 협력을 중시한다.\n",
    "4. 문서 중심이 아닌, 실행 가능한 소프트웨어를 중시한다.\n",
    "\n",
    "**문제 해설**  \n",
    "\n",
    "- 애자일 개발 프로세스 : 개발에 대한 개념적 방법론으로, 개발 프로젝트 기간을 짧은 주기로 나눠 반복적인 개발을 하는 것이 특징\n",
    "[애자일 선언문]  \n",
    "'프로세스, 도구 보다는 (사람과 상호작용)을   \n",
    "광범위한 문서 보다는 (실제 작동하는 제품)을  \n",
    "계약 협상보다는 (고객 협력)을  \n",
    "계획을 따르기 보다는 (변화 대응)을'  \n",
    "[해설작성자 : 서쳐]\n",
    "\n",
    "**내 공부**  \n",
    "- [**애자일방법론**](https://chanp5660.github.io/애자일방법론)이란?\n"
   ]
  },
  {
   "attachments": {},
   "cell_type": "markdown",
   "metadata": {},
   "source": [
    "## 14. 명백한 역할을 가지고 독립적으로 존재할 수 있는 시스템의 부분으로 넓은 의미에서는 재사용되는 모든 단위라고 볼 수 있으며, 인터페이스를 통해서만 접근할 수 있는 것은?  \n",
    "\n",
    "1. Model\n",
    "2. Sheet\n",
    "3. ***Component***\n",
    "4. Cell\n",
    "\n",
    "**문제 해설**  \n",
    "\n",
    "- 컴포넌트\n",
    "    - 프로그래밍에 있어 재사용이 가능한 각각의 독립된 모듈\n",
    "    - 특정 기능 수행을 위해 독립적으로 분리  \n",
    "[해설작성자 : 보호주의]\n",
    "\n",
    "**내 공부**   \n",
    "\n",
    "- [**컴포넌트**](https://chanp5660.github.io/컴포넌트)란?"
   ]
  },
  {
   "attachments": {},
   "cell_type": "markdown",
   "metadata": {},
   "source": [
    "## 15. GoF(Gans of Four) 디자인 패턴을 생성, 구조, 행동 패턴의 세 그룹으로 분류할 때, 구조 패턴이 아닌 것은?\n",
    "\n",
    "1. Adapter 패턴\n",
    "2. Bridge 패턴\n",
    "3. Builder 패턴\n",
    "4. Proxy 패턴\n",
    "\n",
    "**문제 해설**  \n",
    "\n",
    "[구조패턴]  \n",
    "- 어댑터\n",
    "- 브릿지\n",
    "- 컴포지트\n",
    "- 데코레이터\n",
    "- 퍼싸트\n",
    "- 플라이웨이트\n",
    "- 프록시  \n",
    "[해설작성자 : 아기재혁]  \n",
    "\n",
    "\n",
    "* 생성패턴 : 객체를 생성하는 것에 대한 패턴\n",
    "    - 추상 팩토리 패턴(abstract factory), 빌더 패턴(builder), 팩토리 메소드 패턴(factory method), 프로토타입 패턴(prototype), 싱글톤(singleton)\n",
    "* 구조패턴 : 구조를 통해 확장성을 꾀하는 패턴\n",
    "    - 어댑터 패턴(adapter), 브릿지 패턴(bridge), 컴포지트 패턴(composite), 데코레이트 패턴(decorator), 퍼사드 패턴(facade), 플라이웨잇 패턴(flyseight), 프록시 패턴(proxy)\n",
    "* 행위 패턴 : 행위의 변경, 수정 등을 위한 패턴\n",
    "    - 역할 사슬 패턴(책임 연쇄, chain of reposibility), 커맨드 패턴(command), 인터프리터 패턴(interpreter), 이터레이터 패턴(반복자, iterator), 미디에이터 패턴(중재자, mediator), 메멘토 패턴(memento), 옵저버 패턴(observer), 상태 패턴(state), 전략 패턴(strategy), 템플릿 메소드 패턴(templete method), 비지터 패턴(방문자, visitor)  \n",
    "[해설작성자 : ㅈㅇㅎ]\n",
    "\n",
    "**내 공부**  \n",
    "- [**GoF**](https://chanp5660.github.io/GoF(Gang_of_Four)) 란?\n"
   ]
  },
  {
   "attachments": {},
   "cell_type": "markdown",
   "metadata": {},
   "source": [
    "## 16. UI와 관련된 기본 개념 중 하나로, 시스템의 상태와 사용자의 지시에 대한 효과를 보여주어 사용자가 명령에 대한 진행 상황과 표시된 내용을 해석할 수 있도록 도와주는 것은?\n",
    "\n",
    "1. ***Feedback***\n",
    "2. Posture\n",
    "3. Module\n",
    "4. Hash\n",
    "\n",
    "**문제 해설**  \n",
    "\n",
    "- 피드백(feedback) : 처리된 결과를 측정하고 목표에 도달되었는가를 검사하며 불충분할 경우 다시 입력하는 요소  \n",
    "[해설작성자 : 내일시험임..]\n",
    "\n",
    "**내 공부**  \n",
    "\n",
    "- 자세(Posture) : UI 디자인에서 Posture는 UI 요소들 간의 배치와 상호작용 방법을 의미합니다. 즉, UI 요소들이 화면 상에서 어떻게 위치하고, 어떤 기능을 수행하는지에 대한 전반적인 디자인 컨셉을 의미합니다.\n",
    "- 모듈(Module) : UI 디자인에서 Module은 하나 이상의 기능을 수행하는 UI 요소들의 집합입니다. 이러한 모듈은 독립적으로 사용될 수 있으며, 다른 모듈과 결합하여 더 복잡한 IO 디자인을 구성할 수 있습니다.\n",
    "- 해시(Hash) : UI 디자인과는 직접적인 관련이 없는 개념입니다. 해시는 데이터를 고정된 길이의 값으로 매핑하는 함수를 의미합니다. 예를 들어, 암호화와 검색 알고리즘에서 널리 사용됩니다. "
   ]
  },
  {
   "attachments": {},
   "cell_type": "markdown",
   "metadata": {},
   "source": [
    "## 17. UI의 종류로 멀티 터치(Multi-touch), 동작 인식(Gesture Recognition) 등 사용자의 자연스러운 움직임을 인식하여 서로 주고 받는 정보를 제공하는 사용자 인터페이스를 의미하는 것은?  \n",
    "\n",
    "1. GUI(Graphical User Interface)\n",
    "2. OUI(Organic User Interface)\n",
    "3. ***NUI(Natural User Interface)***\n",
    "4. CLI(Command Line Interface)\n",
    "\n",
    "**문제 해설**  \n",
    "\n",
    "- 사용자 인터페이스(UI, User Interface)의 구분\n",
    "    - CLI(Command Line Interface) : 텍스트 형태 인터페이스\n",
    "    - GUI(Graphical User Interface) : 마우스로 선택하여 작업하는 그래픽 환경 인터페이스\n",
    "    - NUI(Nature User Interface) : 사용자의 말이나 행동으로 기기 조작하는 인터페이스\n",
    "    - OUI(Organic User Interface) : 모든 사물과 사용자 간의 상호작용을 위한 인터페이스  \n",
    "    \n",
    "[해설작성자 : 밤진]\n"
   ]
  },
  {
   "attachments": {},
   "cell_type": "markdown",
   "metadata": {},
   "source": [
    "## 18. 소프트웨어 모델링과 관련한 설명으로 *틀린* 것은?\n",
    "\n",
    "1. ***모델링 작업의 결과물은 다른 모델링 작업에 영향을 줄 수 없다.***\n",
    "2. 구조적 방법론에서는 DFD(Data Flow Diagram), DD(Data Dictionary) 등을 사용하여 요구 사항의 결과를 표현한다.\n",
    "3. 객체지향 방법론에서는 UML 표기법을 사용한다.\n",
    "4. 소프트웨어 모델을 사용할 경우 개발될 소프트웨어에 대한 이해도 및 이해 당사자 간의 의사소통 향상에 도움이 된다.\n",
    "\n",
    "**문제 해설**  \n",
    "\n",
    "- 모델링 작업의 결과물은 다른 모델링 작업에 영향을 줄 수 있음.\n",
    "- 예) 유스케이스 명세로부터 필요한 요소들을 가져와 도메인 모델로 정리할 수 있음.  \n",
    "[해설 작성자 : 이예림]\n"
   ]
  },
  {
   "attachments": {},
   "cell_type": "markdown",
   "metadata": {},
   "source": [
    "## 19. 유스케이스 다이어그램(Use Case Diagram)에 관련된 내용으로 *틀린* 것은?\n",
    "\n",
    "1. ***시스템과 상호작용하는 외부시스템은 액터로 파악해서는 안된다.***\n",
    "2. 유스케이스는 사용자 측면에서의 요구사항으로, 사용자가 원하는 목표를 달성하기 위해 수행할 내용을 기술한다.\n",
    "3. 시스템 액터는 다른 프로젝트에서 이미 개발되어 사용되고 있으며, 본 시스템과 데이터를 주고받는 등 서로 연동되는 시스템을 말한다.\n",
    "4. 액터가 인식할 수 없는 시스템 내부의 기능을 하나의 유스케이스로 파악해서는 안된다.\n",
    "\n",
    "**문제 해설**  \n",
    "\n",
    "- 액터 : 시스템과 상호작용하는 모든 것(사람, 기계, 시스템 등)  \n",
    "[해설작성자 : 칼방이]  \n",
    "- 액터 : 시스템과 상호작용하는 모든 외부요소로, 사람이나 외부 시스템을 의미함  \n",
    "[해설작성자 : comcbt.com 이용자]\n",
    "\n",
    "**내 공부**  \n",
    "\n",
    "- [**유스케이스**](https://chanp5660.github.io/유스케이스) 란?"
   ]
  },
  {
   "attachments": {},
   "cell_type": "markdown",
   "metadata": {},
   "source": [
    "## 20. 소프트웨어 아키텍처 모델 중 MVC(Model-View-Controller)와 관련한 설명으로 *틀린* 것은?\n",
    "\n",
    "1. MVC 모델은 사용자 인터페이스를 담당하는 계층의 응집도를 높일 수 있고, 여러 개의 다른 UI를 만들어 그 사이에 결합도를 낮출 수 있다.\n",
    "2. ***모델(Model)은 뷰(View)와 제어(Controller) 사이에서 전달자 역할을 하며, 뷰마다 모델 서브시스템이 각각 하나씩 연결된다.***\n",
    "3. 뷰(View)는 모델(Model)에 있는 데이터를 사용자 인터페이스에 보이는 역할을 담당한다.\n",
    "4. 제어(Controller)는 모델(Model)에 명령을 보냄으로써 모델의 상태를 변경할 수 있다.  \n",
    "\n",
    "**문제 해설**  \n",
    "\n",
    "- 한개의 모델에 대해 여러 개의 뷰를 만들 수 있음  \n",
    "[해설작성자 : 밤진]\n",
    "- 모델은 서브 시스템의 핵심 기능과 데이터를 보관하며 MVC 패턴에서는 여러 개의 뷰를 만들 수 있으므로 한 개의 모델에 대해 여러 개의 뷰를 필요로 하는 대화형 어플리케이션에 적합하다.  \n",
    "[해설작성자 : 여름]\n",
    "\n",
    "**내 공부**\n",
    "\n",
    "[**MVC**](https://chanp5660.github.io/MVC(Model_View_Controller)) 란?"
   ]
  }
 ],
 "metadata": {
  "language_info": {
   "name": "python"
  },
  "orig_nbformat": 4
 },
 "nbformat": 4,
 "nbformat_minor": 2
}
