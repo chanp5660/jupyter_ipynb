{
 "cells": [
  {
   "cell_type": "markdown",
   "id": "a0713f6e-e57e-4c4e-b401-f2c035579290",
   "metadata": {},
   "source": [
    "---\n",
    "layout: post  \n",
    "current: post  \n",
    "cover:  assets/built/images/jekyll-logo.jpg  \n",
    "navigation: True  \n",
    "title: jekyll-목차추가하기  \n",
    "date: 2023-02-07 14:00:00 +0900  \n",
    "tags: [exitem]  \n",
    "class: post-template  \n",
    "subclass: 'post tag-python'  \n",
    "author: chanp5660  \n",
    "---\n"
   ]
  },
  {
   "cell_type": "markdown",
   "id": "74e226a9-bc43-45f2-a3a7-5cb5f0d0d2bc",
   "metadata": {},
   "source": [
    "# jekyll로 만든 깃허브 블로그에 목차 추가하기"
   ]
  },
  {
   "cell_type": "markdown",
   "id": "aa5c7f5a-0acc-4e45-9d24-7ceebb762e14",
   "metadata": {},
   "source": [
    "- ipynb 내에 \\{\\% include \"html 파일\"\\%\\}\n",
    "- 만들어진 블로그 내에 blogmaker-include 부분에 목차 html을 생성한다.\n",
    "- 예시 파일\n",
    "    - python에 관련된 부분이라 가정\n",
    "    - html 제목의 형태 \"원하는 제목\"-table-of-contents.html\n",
    "    - 최종 형태 : python-table-of-contents.html  \n",
    "    \n",
    "```html\n",
    "<span class=\"table-of-contents-list\">목차 설명 부분 </span>\n",
    "<ul class=\"table-of-contents-list\">\n",
    "    <li><a href=\"./깃허브-연습(파이썬-2)\">Python 강좌(1) - 목차만들기</a></li>\n",
    "    <li><a href=\"./파이썬-하이라이트-확인\">Python 강좌(2) - Python 하이라이트 확인</a></li>\n",
    "</ul>\n",
    "```\n",
    "\n",
    "- 예시파일 결과"
   ]
  },
  {
   "cell_type": "markdown",
   "id": "a846abd4-513c-49c7-98de-eec45b6dfafb",
   "metadata": {},
   "source": [
    "{% include python-table-of-contents.html %}"
   ]
  },
  {
   "cell_type": "markdown",
   "id": "8210b808-f79e-466f-a368-24455f3ce232",
   "metadata": {},
   "source": [
    "- 본 블로그의 수정을 위해 기록한 글"
   ]
  }
 ],
 "metadata": {
  "kernelspec": {
   "display_name": "Python 3 (ipykernel)",
   "language": "python",
   "name": "python3"
  },
  "language_info": {
   "codemirror_mode": {
    "name": "ipython",
    "version": 3
   },
   "file_extension": ".py",
   "mimetype": "text/x-python",
   "name": "python",
   "nbconvert_exporter": "python",
   "pygments_lexer": "ipython3",
   "version": "3.7.13"
  }
 },
 "nbformat": 4,
 "nbformat_minor": 5
}
