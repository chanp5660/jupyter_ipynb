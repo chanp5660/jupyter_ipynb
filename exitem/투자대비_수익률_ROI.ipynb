{
 "cells": [
  {
   "cell_type": "markdown",
   "metadata": {},
   "source": [
    "---  \n",
    "layout: post  \n",
    "current: post  \n",
    "cover:  assets/built/images/ROI.png  \n",
    "navigation: True  \n",
    "title: 투자대비 수익률(ROI)   \n",
    "date: 2023-08-20 00:00:00 +0900  \n",
    "tags: [exitem]  \n",
    "class: post-template  \n",
    "subclass: 'post tag-python'  \n",
    "author: chanp5660  \n",
    "---  \n",
    " "
   ]
  },
  {
   "cell_type": "markdown",
   "metadata": {},
   "source": [
    "# 투자대비 수익률(ROI)"
   ]
  },
  {
   "cell_type": "markdown",
   "metadata": {},
   "source": [
    "- ROI는 Return on Investment의 약자로 투자 수익률을 의미합니다. 투자가 수익 창출에 얼마나 효과적인지 측정하는 지표이며 모든 비즈니스에서 일반적으로 사용됩니다. ROI는 간단히 말해, 투자한 비용 대비 얻는 수익입니다.\n",
    "\n",
    "- ROI를 사용하여 투자의 효율성을 판단할 때는, 비용과 수익을 정확하게 산정하고, 투자 기간과 관련된 사항을 고려하여 종합적인 분석을 수행하는 것이 중요합니다."
   ]
  },
  {
   "cell_type": "markdown",
   "metadata": {},
   "source": [
    "## 공식\n",
    "ROI는 일반적으로 백분율(%)로 표시되며, 다음과 같은 공식으로 계산됩니다.\n",
    "\n",
    "- ROI = ((수익 - 투자액) / 투자액 ) * 100\n",
    "\n",
    "이때, '수익'은 투자로부터 얻은 총 수익을 나타내며, '투자액'은 실제로 투자한 금액을 나타냅니다. ROI가 양수인 경우, 투자로부터 얻은 수익이 투자액보다 많다는 의미이며, 음수인 경우 투자로부터 손실이 발생한 것을 나타냅니다.  "
   ]
  },
  {
   "cell_type": "markdown",
   "metadata": {},
   "source": [
    "## 특징\n",
    "\n",
    "- 간단한 비율 : ROI는 간단한 비율로 표시되므로, 빠르게 이해하고 비교할 수 있습니다.\n",
    "- 다목적 지표 : ROI는 투자의 성공 여부를 평가하는데 널리 사용되며, 다양한 유형의 투자나 프로젝트를 비교할 때 유용합니다.\n",
    "- 정석적인 측정 포함 불가 : ROI는 수치적인 결과를 비교하는데 사용되기 때문에, 정성적인 측정 요소는 고려하지 않습니다.\n",
    "- 투자의 시간적인 요소 고려 : ROI는 투자의 수익이 투자 기간 동안 얼마나 쌓이는지 반영하지 않습니다. 따라서 투자 기간이 길어지면 추가적인 분석이 필요합니다."
   ]
  },
  {
   "cell_type": "markdown",
   "metadata": {},
   "source": [
    "## 단점\n",
    "\n",
    "ROI는 수익과 투자액만을 고려하기 때문에, 투자에 따른 추가 비용이나 시간적인 요인 등을 고려하지 않습니다. 따라서 이러한 요소들을 고려해야할 때가 있습니다."
   ]
  }
 ],
 "metadata": {
  "language_info": {
   "name": "python"
  },
  "orig_nbformat": 4
 },
 "nbformat": 4,
 "nbformat_minor": 2
}
