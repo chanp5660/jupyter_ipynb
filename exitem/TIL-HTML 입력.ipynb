{
 "cells": [
  {
   "cell_type": "markdown",
   "id": "43b3b320-c009-498d-ae8d-eda94daa0fa5",
   "metadata": {},
   "source": [
    "---  \n",
    "layout: post  \n",
    "current: post  \n",
    "cover:  assets/built/images/HTML입력.png  \n",
    "navigation: True  \n",
    "title: TIL-HTML입력   \n",
    "date: 2023-03-10 00:00:00 +0900  \n",
    "tags: [exitem,TIL]  \n",
    "class: post-template  \n",
    "subclass: 'post tag-python'  \n",
    "author: chanp5660  \n",
    "---  \n",
    " "
   ]
  },
  {
   "cell_type": "markdown",
   "id": "a1dfcf52-e34f-41c9-a10b-e874c648f69b",
   "metadata": {},
   "source": [
    "# HTML 입력\n",
    "\n",
    "- HTML 내에서 입력을 받는 방법, 후에 입력 받은 정보로 python 코드를 실행 할 수 있도록 하려고 합니다."
   ]
  },
  {
   "cell_type": "markdown",
   "id": "2e740063-e41b-4e9f-971e-6a6a03fd1e69",
   "metadata": {},
   "source": [
    "## 코드 예제 및 실행"
   ]
  },
  {
   "cell_type": "markdown",
   "id": "0a7b4f69-e530-4de2-89d8-63a5231538b2",
   "metadata": {},
   "source": [
    "- HTML 내에서 이름, 이메일을 입력 받을 수 있도록 합니다."
   ]
  },
  {
   "cell_type": "markdown",
   "id": "87cacc14-1547-4020-b67d-618d923ed7ca",
   "metadata": {},
   "source": [
    "<form method=\"POST\" action=\"/submit\">\n",
    "  <label for=\"name\">Name:</label>\n",
    "  <input type=\"text\" id=\"name\" name=\"name\">\n",
    "  \n",
    "  <label for=\"email\">Email:</label>\n",
    "  <input type=\"email\" id=\"email\" name=\"email\">\n",
    "\n",
    "  <input type=\"submit\" value=\"Submit\">\n",
    "</form>"
   ]
  },
  {
   "cell_type": "markdown",
   "id": "6b88d462-069a-49b3-a580-b446abbb49bb",
   "metadata": {},
   "source": [
    "- python 코드 작성\n",
    "    - 해당 코드를 실행하면 로컬에서 서버가 열리면 해당 내용으로 입력을 받는다."
   ]
  },
  {
   "cell_type": "markdown",
   "id": "52fc526e-e15c-4644-a6a6-7bc5837e4cdd",
   "metadata": {},
   "source": [
    "```{python}\n",
    "from flask import Flask, request\n",
    "\n",
    "app = Flask(__name__)\n",
    "\n",
    "@app.route('/submit', methods=['POST'])\n",
    "def submit():\n",
    "    name = request.form['name']\n",
    "    email = request.form['email']\n",
    "    print('Name:', name)\n",
    "    print('Email:', email)\n",
    "    return 'Success!'\n",
    "\n",
    "if __name__ == '__main__':\n",
    "    app.run()\n",
    "```"
   ]
  },
  {
   "cell_type": "code",
   "execution_count": null,
   "id": "531fb424-f185-4f02-9e5f-15cebc8f4cfc",
   "metadata": {},
   "outputs": [],
   "source": [
    "from flask import Flask, request\n",
    "\n",
    "app = Flask(__name__)\n",
    "\n",
    "@app.route('/submit', methods=['POST'])\n",
    "def submit():\n",
    "    name = request.form['name']\n",
    "    email = request.form['email']\n",
    "    print('Name:', name)\n",
    "    print('Email:', email)\n",
    "    return 'Success!'\n",
    "\n",
    "if __name__ == '__main__':\n",
    "    app.run()"
   ]
  }
 ],
 "metadata": {
  "kernelspec": {
   "display_name": "Python 3 (ipykernel)",
   "language": "python",
   "name": "python3"
  },
  "language_info": {
   "codemirror_mode": {
    "name": "ipython",
    "version": 3
   },
   "file_extension": ".py",
   "mimetype": "text/x-python",
   "name": "python",
   "nbconvert_exporter": "python",
   "pygments_lexer": "ipython3",
   "version": "3.7.13"
  }
 },
 "nbformat": 4,
 "nbformat_minor": 5
}
