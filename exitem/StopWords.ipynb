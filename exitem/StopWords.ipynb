{
 "cells": [
  {
   "attachments": {},
   "cell_type": "markdown",
   "id": "62ee59ad-3dec-4f72-806d-a02945d21731",
   "metadata": {},
   "source": [
    "---  \n",
    "layout: post  \n",
    "current: post  \n",
    "cover:  assets/built/images/StopWords.png  \n",
    "navigation: True  \n",
    "title: Stop Words   \n",
    "date: 2023-03-13 00:00:00 +0900  \n",
    "tags: [exitem,TIL]  \n",
    "class: post-template  \n",
    "subclass: 'post tag-python'  \n",
    "author: chanp5660  \n",
    "---  \n",
    " "
   ]
  },
  {
   "cell_type": "markdown",
   "id": "6699925d-993f-4b7b-8c3a-45be02868777",
   "metadata": {},
   "source": [
    "# Stop Words 불용어"
   ]
  },
  {
   "cell_type": "markdown",
   "id": "a5e2a7d2-befe-4b2a-8aea-a1b144417da9",
   "metadata": {},
   "source": [
    "- 자연어 처리(NLP)에서 '불용어(Stop Words)'는 분석하려는 문서에서 **제거되는 일반적인 단어 또는 구문**입니다.\n",
    "- 이러한 단어는 일반적으로 문장에서 나타나지만, 문서의 내용을 이해하는 데 큰 도움이 되지 않거나 **분석에 불필요한 정보**를 제공합니다.\n",
    "- 따라서 이러한 단어를 **제거**함으로써 **분석의 정확성**을 **높일 수** 있습니다."
   ]
  },
  {
   "cell_type": "markdown",
   "id": "161da3ba-9fb2-4693-aa5e-35cc7059c12e",
   "metadata": {},
   "source": [
    "## 예시\n",
    "- 영어에서는 'the', 'a', 'an', 'in', 'on', 'of' 등이 일반적인 불용어입니다."
   ]
  },
  {
   "cell_type": "markdown",
   "id": "8d8e9d39-917a-4a30-9a39-c5a820d865c2",
   "metadata": {},
   "source": [
    "## 중요한 이유\n",
    "1. **불용어를 제거**함으로써 모델링 과정에서 처리해야 하는 **단어의 수를 줄일 수** 있습니다. \n",
    "    - 이는 모델링을 더 **빠르고 효율적**으로 만들 수 있습니다. \n",
    "2. 불용어를 제거하면 모델링 **결과의 정확도가 향상**됩니다. \n",
    "    - 모델링을 수행하는 동안 **고려해야 하는 단어의 수가 줄어**들기 때문입니다.\n",
    "3. 예를 들어, **문서의 유사도**를 계산한다고 가정합니다.\n",
    "    - **불용어가 큰 영향을 미치지 않는다면**, 문서의 **길이**가 **다른 경우**에도 문서 간의 유사도를 **측정**할 수 있습니다.\n",
    "4. 또 다른 예로, **감성 분석**과 같은 작업을 한다고 가정합니다.\n",
    "    - 문장에서 '그것' 또는 '이것'과 같은 **대명사**를 **불용어로 간주**하고 **제거**함으로써 분석 결과를 더욱 **정확**하게 만들 수 있습니다."
   ]
  },
  {
   "cell_type": "markdown",
   "id": "7312e16c-6e9a-4f88-8e7d-cc3e4e52ff74",
   "metadata": {},
   "source": [
    "## 주의\n",
    "\n",
    "- 불용어는 **분석하려는 언어**나 **분석 목적**에 따라 달라질 수 있습니다.\n",
    "- 따라서 분석하려는 데이터에 맞게 적절한 불용어 목록을 선정하는 것이 중요합니다.\n",
    "- 이러한 목록은 일반적으로 **언어별로 구축**되며, 대부분의 NLP 라이브러리에서는 불용어 목록을 제공하거나, 사용자 정의 불용어 목록을 지정할 수 있는 기능을 제공합니다.\n",
    "- 일부 상황에서는 불용어를 제거하지 않는 것이 더 나을 수 있습니다.\n",
    "    - 예를 들어, 문서의 길이가 짧은 경우, 불용어가 전체적인 문맥을 파악하는 데 필수적일 수 있습니다."
   ]
  }
 ],
 "metadata": {
  "kernelspec": {
   "display_name": "Python 3 (ipykernel)",
   "language": "python",
   "name": "python3"
  },
  "language_info": {
   "codemirror_mode": {
    "name": "ipython",
    "version": 3
   },
   "file_extension": ".py",
   "mimetype": "text/x-python",
   "name": "python",
   "nbconvert_exporter": "python",
   "pygments_lexer": "ipython3",
   "version": "3.7.13"
  }
 },
 "nbformat": 4,
 "nbformat_minor": 5
}
