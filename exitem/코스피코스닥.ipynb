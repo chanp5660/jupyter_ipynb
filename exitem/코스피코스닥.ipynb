{
 "cells": [
  {
   "attachments": {},
   "cell_type": "markdown",
   "id": "20abc7f6-ac6b-4d53-a2b5-62d6cb84a1e7",
   "metadata": {},
   "source": [
    "---  \n",
    "layout: post  \n",
    "current: post  \n",
    "cover:  assets/built/images/코스피코스닥.png  \n",
    "navigation: True  \n",
    "title: 코스피코스닥   \n",
    "date: 2023-03-12 00:00:00 +0900  \n",
    "tags: [exitem,TIL]  \n",
    "class: post-template  \n",
    "subclass: 'post tag-python'  \n",
    "author: chanp5660  \n",
    "---  \n",
    " "
   ]
  },
  {
   "cell_type": "markdown",
   "id": "bd9a7980-09cb-45f8-9daf-09446385ef05",
   "metadata": {},
   "source": [
    "# 코스피 코스닥\n",
    "\n",
    "> 코스피(KOSPI) 코스닥(KOSDAQ)은 한국 증권거래소(KRX)에서 운영하는 대표적인 주식시장입니다.  \n",
    "두 시장의 차이는 **상장 기업의 특성과 시장 규모, 시장 참여자의 투자성향 등**에서 차이가 날 수 있습니다."
   ]
  },
  {
   "cell_type": "markdown",
   "id": "76bb09f4-c534-4222-bb54-b3be41125f4a",
   "metadata": {},
   "source": [
    "## 상장 기업의 특성\n",
    "\n",
    "- 코스피\n",
    "    - 대기업들과 대형 중소기업들이 많이 상장되어 있습니다.\n",
    "    - 기업들은 안정적이고 예측 가능한 수익성을 가집니다.\n",
    "- 코스닥\n",
    "    - 기술 중심의 중소 기업들이 중심이 됩니다.\n",
    "    - 기업들은 높은 성장성과 수익성을 추구합니다."
   ]
  },
  {
   "cell_type": "markdown",
   "id": "5635ea14-633c-452b-bce7-4cdf082e3b4a",
   "metadata": {},
   "source": [
    "## 시장 규모\n",
    "- 코스피\n",
    "    - 시가총액 대비 거래량이 많아 시장 규모가 큽니다.\n",
    "    - 대표적인 대기업들이 많이 상장되어 있습니다.\n",
    "- 코스닥\n",
    "    - 거래량 대비 시가총액 비율이 낮아 시장 규모가 작습니다.\n",
    "  "
   ]
  },
  {
   "cell_type": "markdown",
   "id": "23d5df94-de81-4b59-ad8b-03d5277ff707",
   "metadata": {},
   "source": [
    "## 시장 참여자의 투자성향\n",
    "- 코스피\n",
    "    - 기관과 외국인 등 대형 투자자들의 참여가 많아 전체 시장의 흐름을 좌우하기도 합니다.\n",
    "- 코스닥\n",
    "    - 개인 투자자들의 참여가 많고, 기업의 신규 상장 과정이 빠르고 간소화되어 있다는 특징이 있습니다."
   ]
  }
 ],
 "metadata": {
  "kernelspec": {
   "display_name": "Python 3 (ipykernel)",
   "language": "python",
   "name": "python3"
  },
  "language_info": {
   "codemirror_mode": {
    "name": "ipython",
    "version": 3
   },
   "file_extension": ".py",
   "mimetype": "text/x-python",
   "name": "python",
   "nbconvert_exporter": "python",
   "pygments_lexer": "ipython3",
   "version": "3.7.13"
  }
 },
 "nbformat": 4,
 "nbformat_minor": 5
}
