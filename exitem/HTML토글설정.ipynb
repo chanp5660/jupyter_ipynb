{
 "cells": [
  {
   "attachments": {},
   "cell_type": "markdown",
   "id": "5ed81688-7d9c-462c-a683-f8e6d000ca6d",
   "metadata": {},
   "source": [
    "---  \n",
    "layout: post  \n",
    "current: post  \n",
    "cover:  assets/built/images/HTML토글설정.png  \n",
    "navigation: True  \n",
    "title: HTML 토글 설정   \n",
    "date: 2023-03-06 00:00:00 +0900  \n",
    "tags: [exitem,TIL]  \n",
    "class: post-template  \n",
    "subclass: 'post tag-python'  \n",
    "author: chanp5660  \n",
    "---  \n",
    " "
   ]
  },
  {
   "cell_type": "markdown",
   "id": "1610591d-7546-44ff-9127-e7c683f94c4d",
   "metadata": {
    "tags": []
   },
   "source": [
    "# HTML 토글 설정 (jekyll)\n",
    "\n",
    "- jekyll을 이용하여 깃허브 블로그를 운영하던 중에 토글을 사용하여 목차를 다루게 된다면 포스팅 상단부 쪽을 활용할 수 있을 것 같다.\n",
    "- 상단부가 길어질까봐 추가하지 못했었다.\n",
    "- 링크와 체크박스 등 마크다운의 기능을 이용할 수 있다.\n",
    "\n",
    "```{html}\n",
    "<details>\n",
    "<summary>python 예제 목차</summary>\n",
    "<div markdown=\"1\">\n",
    "\n",
    "- [ ] [선택정렬](https://chanp5660.github.io/선택정렬)\n",
    "- [ ] [삽입정렬](https://chanp5660.github.io/삽입정렬)\n",
    "- [ ] [버블정렬](https://chanp5660.github.io/버블정렬)\n",
    "- [ ] [병합정렬](https://chanp5660.github.io/병합정렬)\n",
    "- [ ] 힙정렬\n",
    "- [ ] 퀵정렬\n",
    "- [ ] 기수정렬\n",
    "\n",
    "</div>\n",
    "</details>\n",
    "```"
   ]
  },
  {
   "cell_type": "markdown",
   "id": "1f79e318-e36d-4e7c-8d0b-00b0015f9353",
   "metadata": {},
   "source": [
    "<details>\n",
    "<summary>python 예제 목차</summary>\n",
    "<div markdown=\"1\">\n",
    "\n",
    "- [ ] [선택정렬](https://chanp5660.github.io/선택정렬)\n",
    "- [ ] [삽입정렬](https://chanp5660.github.io/삽입정렬)\n",
    "- [ ] [버블정렬](https://chanp5660.github.io/버블정렬)\n",
    "- [ ] [병합정렬](https://chanp5660.github.io/병합정렬)\n",
    "- [ ] 힙정렬\n",
    "- [ ] 퀵정렬\n",
    "- [ ] 기수정렬\n",
    "\n",
    "</div>\n",
    "</details>"
   ]
  }
 ],
 "metadata": {
  "kernelspec": {
   "display_name": "Python 3 (ipykernel)",
   "language": "python",
   "name": "python3"
  },
  "language_info": {
   "codemirror_mode": {
    "name": "ipython",
    "version": 3
   },
   "file_extension": ".py",
   "mimetype": "text/x-python",
   "name": "python",
   "nbconvert_exporter": "python",
   "pygments_lexer": "ipython3",
   "version": "3.7.13"
  }
 },
 "nbformat": 4,
 "nbformat_minor": 5
}
