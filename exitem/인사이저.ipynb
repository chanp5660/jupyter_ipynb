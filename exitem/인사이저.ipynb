{
 "cells": [
  {
   "cell_type": "markdown",
   "id": "f5c0d48f-cef5-4795-8368-2012adf65ba4",
   "metadata": {},
   "source": [
    "---  \n",
    "layout: post  \n",
    "current: post  \n",
    "cover:  assets/built/images/인사이저.png  \n",
    "navigation: True  \n",
    "title: TIL-인사이저   \n",
    "date: 2023-02-13 00:00:00 +0900  \n",
    "tags: [exitem,TIL]  \n",
    "class: post-template  \n",
    "subclass: 'post tag-python'  \n",
    "author: chanp5660  \n",
    "---  \n",
    " "
   ]
  },
  {
   "cell_type": "markdown",
   "id": "a8dae861-ddbd-4e30-b606-988a162059c5",
   "metadata": {},
   "source": [
    "# 인사이저\n",
    "\n",
    "> 생각보다 기록이 없어서 알아보기 힘들다.  \n",
    "\n",
    "> 내가 판단할 수 있는 정보가 없었고 복지에 관련된 내용이 없어서 회사 분위기조차 파악이 되지 않았다. 부딪혀보자는 생각으로는 들어가서 배우는 느낌으로는 좋을 것 같다. 하지만 이것도 추측으로 아무것도 알수가 없다. 그리고 기록이 2020년 11월에 멈춰 있는 것으로 보아 지금은 안정?위험? 둘 중에 하나이므로 추가 정보가 있지 않는 이상 시도하기 어려울 것 같다. 직무는 내게 맞았던 것 같은데 아쉽다."
   ]
  },
  {
   "cell_type": "markdown",
   "id": "84c46fa9-1575-4ba4-8e5d-efe06301e7ec",
   "metadata": {},
   "source": [
    "# 인사이저 기본 정보\n",
    "\n",
    "[공식 사이트 참조](http://www.incizor.com/)\n",
    "\n",
    "- 크게 두가지 제품(Text Analytics, OCR)을 가지고 있다.\n",
    "- Text Analytics(텍스트분석)\n",
    "    - 문서더미에서 가치 창출, 인사이저에 맡기세요! 단순 키워드 기반 문서 분류부터 내용의 유사도를 통한 문서 클러스팅까지, 인사이저 고유의 기술력으로 문서를 분류해 드립니다.\n",
    "- OCR(아날로그 정보를 디지털 정보로 변환하는 기술)\n",
    "    - 아날로그 정보를 빠르고 정확하게 디지털 정보로 변환함으로써 데이터 활용성 향상 및 업무의 효율성 향상을 가져다 드립니다. 세계 최고 수준의 인사이저 AI OCR을 경험하세요.\n",
    "    \n",
    "- 2018년 4월 20일 설립 (업력 6년차)\n",
    "- 주소 : 서울 영등포구 은행로 29, 2층 13호 \n",
    "- 사업 내용 : 소프트웨어 개발,공급,정보처리 구축,컨설팅/기술,경영 자문/소프트웨어 임대\n",
    "- 사원수 : 6명 \n",
    "    - <span style=\"color:blue\">최근 입사자가 한명씩 늘고 있는데 퇴사자는 한명인 소규모 그룹이라 뭐라 판단하기가 어렵다.</span>\n",
    "\n",
    "## 연혁\n",
    "\n",
    "- 2020 \n",
    "    - 11\n",
    "        - 팁스(TIPS) 프로그램 선정\n",
    "- 2020\n",
    "    - 07\n",
    "        - 기관투자유치\n",
    "    - 04\n",
    "        - 네이버 클라우드 OCR 컴피턴시 파트너 선정\n",
    "    - 02\n",
    "        - 벤처인증\n",
    "- 2018\n",
    "    - 04\n",
    "        - (주)인사이저 설립"
   ]
  }
 ],
 "metadata": {
  "kernelspec": {
   "display_name": "Python 3 (ipykernel)",
   "language": "python",
   "name": "python3"
  },
  "language_info": {
   "codemirror_mode": {
    "name": "ipython",
    "version": 3
   },
   "file_extension": ".py",
   "mimetype": "text/x-python",
   "name": "python",
   "nbconvert_exporter": "python",
   "pygments_lexer": "ipython3",
   "version": "3.7.13"
  }
 },
 "nbformat": 4,
 "nbformat_minor": 5
}
