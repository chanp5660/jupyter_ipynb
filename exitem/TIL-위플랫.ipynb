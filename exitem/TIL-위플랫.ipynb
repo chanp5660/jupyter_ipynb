{
 "cells": [
  {
   "cell_type": "markdown",
   "id": "e7508ba5-dd3f-4359-bdb0-9b55a31d6b73",
   "metadata": {},
   "source": [
    "---  \n",
    "layout: post  \n",
    "current: post  \n",
    "cover:  assets/built/images/위플랫.png  \n",
    "navigation: True  \n",
    "title: TIL-위플랫   \n",
    "date: 2023-03-15 00:00:00 +0900  \n",
    "tags: [exitem,TIL]  \n",
    "class: post-template  \n",
    "subclass: 'post tag-python'  \n",
    "author: chanp5660  \n",
    "---  \n",
    " "
   ]
  },
  {
   "cell_type": "markdown",
   "id": "65f4332b-2415-418b-bc38-fe8381aef938",
   "metadata": {},
   "source": [
    "# 위플랫\n",
    "\n"
   ]
  },
  {
   "cell_type": "markdown",
   "id": "f3441f01-7342-40ec-a2a6-216d65f65a12",
   "metadata": {},
   "source": []
  },
  {
   "cell_type": "code",
   "execution_count": null,
   "id": "58a81614-5e9e-4703-bf00-3e520e7aa590",
   "metadata": {},
   "outputs": [],
   "source": []
  }
 ],
 "metadata": {
  "kernelspec": {
   "display_name": "Python 3 (ipykernel)",
   "language": "python",
   "name": "python3"
  },
  "language_info": {
   "codemirror_mode": {
    "name": "ipython",
    "version": 3
   },
   "file_extension": ".py",
   "mimetype": "text/x-python",
   "name": "python",
   "nbconvert_exporter": "python",
   "pygments_lexer": "ipython3",
   "version": "3.7.13"
  }
 },
 "nbformat": 4,
 "nbformat_minor": 5
}
