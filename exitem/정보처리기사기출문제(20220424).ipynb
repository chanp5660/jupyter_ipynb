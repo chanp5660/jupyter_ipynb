{
 "cells": [
  {
   "attachments": {},
   "cell_type": "markdown",
   "metadata": {},
   "source": [
    "---  \n",
    "layout: post  \n",
    "current: post  \n",
    "cover:  assets/built/images/정보처리기사.png  \n",
    "navigation: True  \n",
    "title: 정보처리기사 기출문제 20220424   \n",
    "date: 2023-04-17 00:00:00 +0900  \n",
    "tags: [exitem,TIL]  \n",
    "class: post-template  \n",
    "subclass: 'post tag-python'  \n",
    "author: chanp5660  \n",
    "---  \n",
    " "
   ]
  },
  {
   "attachments": {},
   "cell_type": "markdown",
   "metadata": {},
   "source": [
    "# 정보처리기사 기출문제 부시기 20220424\n",
    "\n",
    "2023-04-17일인 오늘 큐넷을 통해 정보처리기사 필기 시험을 신청했습니다.   \n",
    "그동안 AI를 하면서 필요없는 자격증이라고 생각해서 그동안 도전해볼 생각도 안했습니다.   \n",
    "시험을 신청한 지금도 AI를 하기 위해서는 꼭 필요하다라는 생각이 드는 것은 아니고 있으면 좋을 것 같아서 이번에 도전하기로 했습니다.   \n",
    "\n",
    "시험 날짜는 5월 13일로 오늘이 지나면 25일 정도 남았습니다.   \n",
    "또 5월 20일에는 ADsP도 시험보는 상황으로 합격을 기준으로 공부를 하도록 하겠습니다.   \n",
    "단지 이해를 하면서 하는게 기억에 오래 남아서 정리해가면서 공부를 진행하도록 하겠습니다.   \n",
    "합격을 기원합니다."
   ]
  },
  {
   "attachments": {},
   "cell_type": "markdown",
   "metadata": {},
   "source": [
    "모든 자료는 [전자문제집 CBT](www.combmt.com)에서 제공됩니다."
   ]
  },
  {
   "attachments": {},
   "cell_type": "markdown",
   "metadata": {},
   "source": [
    "# 1과목 : 소프트웨어 설계"
   ]
  },
  {
   "attachments": {},
   "cell_type": "markdown",
   "metadata": {},
   "source": [
    "## 1. UML 다이어그램 중 순차 다이어그램에 대한 설명으로 **틀린**것은?\n",
    "\n",
    "1. 객체 간의 동적 상호작용을 시간 개념을 중심으로 모델링 하는 것이다.  \n",
    "2. **주로 시스템의 정적 측변을 모델링하기 위해 사용한다.**\n",
    "3. 일반적으로 다이어그램의 수직 방향이 시간의 흐름을 나타낸다.\n",
    "4. 회귀 메시지(Self-Message), 제어블로(Statement block) 등으로 구성된다.\n",
    "\n",
    "<문제 해설>\n",
    "- 순차 다이어그램은 행위 다이어그램이므로 동적이고, 순차적인 포현을 위한 다이어그램이다. [해설작성자 : 두목넷]\n",
    "\n",
    "<내 공부>\n",
    "- UML 다이어그램이란?\n",
    "    - [TIL-UML다이어그램](https://chanp5660.github.io/TIL-UML다이어그램)\n",
    "    - 정의 : UML (Unified Modeling Language), 통합 모델링 언어라는 뜻으로 객체 지향 소프트웨어 엔지니어링 분야의 표준화된 범용 모델링 언어를 말합니다.\n"
   ]
  }
 ],
 "metadata": {
  "language_info": {
   "name": "python"
  },
  "orig_nbformat": 4
 },
 "nbformat": 4,
 "nbformat_minor": 2
}
