{
 "cells": [
  {
   "cell_type": "markdown",
   "id": "29ff1dbe-8a67-4152-844b-c57d4290ed23",
   "metadata": {},
   "source": [
    "---  \n",
    "layout: post  \n",
    "current: post  \n",
    "cover:  assets/built/images/github-logo.png  \n",
    "navigation: True  \n",
    "title: 깃허브블로그(2)-목차추가   \n",
    "date: 2022-07-17 02:08:00 +0900  \n",
    "tags: [exitem]  \n",
    "class: post-template  \n",
    "subclass: 'post tag-python'  \n",
    "author: chanp5660  \n",
    "---  \n",
    "\n",
    "{% include githubblog-table-of-contents.html %}  "
   ]
  },
  {
   "cell_type": "markdown",
   "id": "16ef6561-6b70-4fbe-bb69-46e54927cd7a",
   "metadata": {
    "tags": []
   },
   "source": [
    "# 깃허브블로그(2)-목차추가"
   ]
  },
  {
   "cell_type": "markdown",
   "id": "5992cb0c-9137-4460-8c72-31d746353faf",
   "metadata": {},
   "source": [
    "\n",
    "> 어떤 사람들이 필요한 블로그인가?  \n",
    "    - 포스팅 된 글의 시리즈를 가질 때 목차 설정하는 방법  \n",
    "    - 기존 준비 : [https://moon9342.github.io/](https://moon9342.github.io/) 블로그의 깃허브 블로그를 생성한 사람, 같은 주제로 포스팅된 글이 2개 이상 있어야 한다.\n"
   ]
  },
  {
   "cell_type": "markdown",
   "id": "63e87dbc-dfb5-4021-8d08-ae86a56a3812",
   "metadata": {},
   "source": [
    "## 목차 구성 HTML 파일 생성\n",
    "- root/_includes 폴더에 저장 ( 다른폴더에 해도 된다. )\n",
    "- 제목의 형식은 따로 없지만 블로그에 목차가 여러개이면 헷갈릴 수 있으므로 본인의 형식을 정하는 것도 좋다.\n",
    "    - 예시 : 형식이 \"주제-table-of-contents.html\" 이면 본 블로그 목차라면 \"githubblog-table-of-contens.html\"로 지정한다.\n",
    "- 아래 내용으로 html 내용을 채워준다.  \n",
    "\n",
    "```html\n",
    "<span class=\"table-of-contents-list\">Python 강좌는 여러 절로 구성되어 있습니다. </span>\n",
    "<ul class=\"table-of-contents-list\">\n",
    "    <li><a href=\"./python-basic\">Python 강좌(1) - Python 기본</a></li>\n",
    "    <li><a href=\"./python-control-statement\">Python 강좌(2) - Python 제어문</a></li>\n",
    "</ul>\n",
    "```"
   ]
  },
  {
   "cell_type": "markdown",
   "id": "b128fb94-b028-44e1-a513-61a2c2346821",
   "metadata": {},
   "source": [
    "- href 부분에는 포스팅 된 글의 날짜를 제외한 제목이다.  \n",
    "\n",
    "```html\n",
    "<li><a href=\"./python-basic\">Python 강좌(1) - Python 기본</a></li>\n",
    "```"
   ]
  },
  {
   "cell_type": "markdown",
   "id": "4bf45907-7fdd-4995-9149-3790557fc3d7",
   "metadata": {},
   "source": [
    "## CSS style 추가\n",
    "- 한번만 설정하면 되는 것으로 처음하는 사람은 [https://moon9342.github.io/jekyll-struct](https://moon9342.github.io/jekyll-struct) 를 참조"
   ]
  },
  {
   "cell_type": "markdown",
   "id": "5797b9dc-4822-45e7-8448-85a67f833a1a",
   "metadata": {},
   "source": [
    "## post안에 html 링크 추가\n",
    "- 포스트 안에 원하는 목차 위치에 해당 문구를 추가하면 된다.  \n",
    "- 형식  \n",
    "\n",
    "  <img src=\"https://user-images.githubusercontent.com/46266247/179366362-a4392897-8b0b-4b0b-b64f-66e63b8ea3da.png\" width=\"30%\">\n",
    "\n",
    "- 예시  \n",
    "\n",
    "  <img src=\"https://user-images.githubusercontent.com/46266247/179366390-f000ca7d-4f08-4173-9585-78e4b653e86f.png\" width=\"50%\">\n"
   ]
  },
  {
   "cell_type": "markdown",
   "id": "932500f5-f496-446a-ae74-22907ac44278",
   "metadata": {},
   "source": [
    "## 결과\n",
    "\n",
    "<img src=\"https://user-images.githubusercontent.com/46266247/179365355-379624c4-101b-4021-8d3d-70c8abdd294c.png\" width=\"70%\">\n"
   ]
  }
 ],
 "metadata": {
  "kernelspec": {
   "display_name": "Python 3 (ipykernel)",
   "language": "python",
   "name": "python3"
  },
  "language_info": {
   "codemirror_mode": {
    "name": "ipython",
    "version": 3
   },
   "file_extension": ".py",
   "mimetype": "text/x-python",
   "name": "python",
   "nbconvert_exporter": "python",
   "pygments_lexer": "ipython3",
   "version": "3.7.13"
  }
 },
 "nbformat": 4,
 "nbformat_minor": 5
}
