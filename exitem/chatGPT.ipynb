{
 "cells": [
  {
   "attachments": {},
   "cell_type": "markdown",
   "id": "f46c2c98-fca5-4cc2-a43e-ed9f22c8956c",
   "metadata": {},
   "source": [
    "---  \n",
    "layout: post  \n",
    "current: post  \n",
    "cover:  assets/built/images/챗.png  \n",
    "navigation: True  \n",
    "title: ChatGPT   \n",
    "date: 2023-03-04 00:00:00 +0900  \n",
    "tags: [exitem,TIL]  \n",
    "class: post-template  \n",
    "subclass: 'post tag-python'  \n",
    "author: chanp5660  \n",
    "---  \n",
    " "
   ]
  },
  {
   "cell_type": "markdown",
   "id": "644003c3-87b3-41dc-9ea9-cf354f2ca2eb",
   "metadata": {},
   "source": [
    "# ChatGPT\n",
    "\n",
    "> 기본적으로 ChatGPT를 이용하여 틀을 잡고 만들어갈 것"
   ]
  },
  {
   "cell_type": "markdown",
   "id": "590fbb14-14a2-4a6b-a8db-4dff392b7148",
   "metadata": {},
   "source": [
    "## 정의\n",
    "\n",
    "- 인공 지능 대화 모델\n",
    "    - OpenAI에서 훈련된 대규모 언어 모델로, 자연어 처리와 이해를 기반으로 인간과 대화를 나눌 수 있음\n",
    "    \n",
    "- ChatGPT는 텍스트 기반 대화를 지원합니다. \n",
    "    - 사용자가 제시한 질문이나 입력에 대해 적절한 답변을 제공\n",
    "    - 대화를 이어나가면서 자연스럽고 효과적인 대화를 지원\n",
    "    - 이를 위해 큰 데이터셋으로 학습된 다양한 언어 모델을 기반으로 하여, 사용자의 입력을 이해하고 응답을 생성\n",
    "    \n",
    "## 여러 분야에서의 활용 예  \n",
    "\n",
    "- 기본적으로 자동 응답 시스템을 다룬다.\n",
    "- 고객 서비스 \n",
    "- 인터넷 커뮤니티\n",
    "- 교육\n",
    "- 상담\n",
    "- 심리치료\n",
    "\n",
    "## 단점 및 한계점 \n",
    "- 학습 데이터에 기반한 응답을 생성하기 때문에, 가끔 예측할 수 없거나 잘못된 답변을 제공할 수 있음\n",
    "- ChatGPT는 언어 처리 능력에 기반하기 때문에, 시각이나 청각 등 다른 감각 분야에서는 지원하지 있음\n",
    "\n",
    "## 대처 및 발전\n",
    "- ChatGPT는 빠르게 발전하고 있으며, 더욱 정교한 기능과 능력을 갖춤\n",
    "- 앞으로도 ChatGPT와 같은 인공 지능 기술은 다양한 분야에서 발전하며 인간과 함께 발전"
   ]
  },
  {
   "cell_type": "markdown",
   "id": "c95269ae-4c90-4ae3-990a-48acd38596cb",
   "metadata": {},
   "source": [
    "## [Python에서 ChatGPT 이용](https://chanp5660.github.io/ChatGPT)"
   ]
  }
 ],
 "metadata": {
  "kernelspec": {
   "display_name": "Python 3 (ipykernel)",
   "language": "python",
   "name": "python3"
  },
  "language_info": {
   "codemirror_mode": {
    "name": "ipython",
    "version": 3
   },
   "file_extension": ".py",
   "mimetype": "text/x-python",
   "name": "python",
   "nbconvert_exporter": "python",
   "pygments_lexer": "ipython3",
   "version": "3.7.13"
  }
 },
 "nbformat": 4,
 "nbformat_minor": 5
}
