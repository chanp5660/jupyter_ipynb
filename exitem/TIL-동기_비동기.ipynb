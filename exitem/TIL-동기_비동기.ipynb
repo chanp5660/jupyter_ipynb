{
 "cells": [
  {
   "attachments": {},
   "cell_type": "markdown",
   "metadata": {},
   "source": [
    "---  \n",
    "layout: post  \n",
    "current: post  \n",
    "cover:  assets/built/images/동기_비동기.png  \n",
    "navigation: True  \n",
    "title: TIL-동기_비동기   \n",
    "date: 2023-04-18 00:00:00 +0900  \n",
    "tags: [exitem,TIL]  \n",
    "class: post-template  \n",
    "subclass: 'post tag-python'  \n",
    "author: chanp5660  \n",
    "---  \n",
    " "
   ]
  },
  {
   "attachments": {},
   "cell_type": "markdown",
   "metadata": {},
   "source": [
    "# 동기와 비동기의 차이\n",
    "\n",
    "가장 큰 차이는 프로그램 작업이 수행되는 방식과 작업이 완료될 때까지 대기해야 하는지 여부입니다."
   ]
  },
  {
   "attachments": {},
   "cell_type": "markdown",
   "metadata": {},
   "source": [
    "## 동기\n",
    "\n",
    "- 작업이 순차적으로 진행되는 방식입니다.\n",
    "- 즉, 하나의 작업이 완료되기 전까지는 다른 작업이 시작되지 않습니다.\n",
    "- 이 때문에 작업이 끝날 때까지 대기해야 하는 경우가 발생할 수 있습니다."
   ]
  },
  {
   "attachments": {},
   "cell_type": "markdown",
   "metadata": {},
   "source": [
    "## 비동기\n",
    "\n",
    "- 작업이 동시에 여러개 진행될 수 있는 방식입니다.\n",
    "- 즉, 하나의 작업이 완료될 때까지 다른 작업이 시작될 수 있습니다.\n",
    "- 이를 통해 작업이 끝날 때까지 대기하지 않고 다른 작업을 진행할 수 있어서, 전체적인 시스템의 성능이 향상될 수 있습니다."
   ]
  },
  {
   "attachments": {},
   "cell_type": "markdown",
   "metadata": {},
   "source": [
    "## 예시1\n",
    "\n",
    "- 웹 서버에서 클라이언트의 요청을 처리할 때, **동기** 방식은 클라이언트의 요청에 대한 응답을 처리하는 동안 다른 요청을 처리하지 않습니다.\n",
    "- 반면, 비동기 방식은 요청을 처리하는 동안 다른 요청을 처리할 수 있습니다. \n",
    "\n",
    "## 예시2\n",
    "\n",
    "- 파일을 읽어오는 작업을 수행할 때를 들 수 있습니다.\n",
    "- 동기 방식 : 파일을 읽어오는 작업이 끝날 때까지 대기해야 합니다.\n",
    "- 비동기 방식 : 파일을 읽어오는 작업을 백그라운드에서 수행하고, 작업이 끝나면 콜백 함수를 호출하여 결과를 처리할 수 있습니다.\n"
   ]
  }
 ],
 "metadata": {
  "language_info": {
   "name": "python"
  },
  "orig_nbformat": 4
 },
 "nbformat": 4,
 "nbformat_minor": 2
}
