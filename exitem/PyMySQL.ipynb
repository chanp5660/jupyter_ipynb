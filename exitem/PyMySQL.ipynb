{
 "cells": [
  {
   "attachments": {},
   "cell_type": "markdown",
   "id": "99f49902-94e0-459c-9d49-2559b464c0a9",
   "metadata": {},
   "source": [
    "---  \n",
    "layout: post  \n",
    "current: post  \n",
    "cover:  assets/built/images/PyMySQL.png  \n",
    "navigation: True  \n",
    "title: PyMySQL   \n",
    "date: 2023-03-15 00:00:00 +0900  \n",
    "tags: [exitem,TIL]  \n",
    "class: post-template  \n",
    "subclass: 'post tag-python'  \n",
    "author: chanp5660  \n",
    "---  \n",
    " "
   ]
  },
  {
   "cell_type": "markdown",
   "id": "3dbfc2eb-00c5-49a1-9d20-bf13383dd6f5",
   "metadata": {},
   "source": [
    "# PyMySQL\n",
    "\n",
    "> MySQL을 Python에서 사용하면서 데이터를 저장 및 관리를 하면 DB를 다룹니다."
   ]
  },
  {
   "cell_type": "markdown",
   "id": "d3313f2d-3221-401a-b640-f5edf05f623d",
   "metadata": {},
   "source": [
    "- [블로그 링크](https://dearmycode.tistory.com/15)에 사진과 함께 MySQL 설치 방법과 WorkBench 사용하는 방법이 나와있다."
   ]
  },
  {
   "cell_type": "markdown",
   "id": "57fb7332-2921-4b4c-85c3-93cde440ca67",
   "metadata": {},
   "source": [
    "## 연결"
   ]
  },
  {
   "cell_type": "code",
   "execution_count": 62,
   "id": "55f4dc89-69d2-4c00-83f3-c95d3b6e5592",
   "metadata": {},
   "outputs": [],
   "source": [
    "import pymysql\n",
    "\n",
    "# MySQL 서버에 연결합니다.\n",
    "conn = pymysql.connect(\n",
    "    host = '127.0.0.1', # 호스트 이름\n",
    "    port = 3306,\n",
    "    user = 'root', # 사용자 이름\n",
    "    password = 'alclssha12', # 비밀번호\n",
    "    db = 'sample', # 데이터베이스 이름\n",
    "    charset = 'utf8', # 인코딩 설정\n",
    "    cursorclass=pymysql.cursors.DictCursor  # 결과를 딕셔너리 형태로 받아옵니다.\n",
    ")"
   ]
  },
  {
   "cell_type": "markdown",
   "id": "974a7e61-2dd6-4bdd-b062-c1ed38a041fb",
   "metadata": {},
   "source": [
    "## 테이블 생성\n",
    "- 전체를 try로 감싸고 진행하는 것이 안전합니다.\n",
    "\n",
    "```{python}\n",
    "try:\n",
    "    --- 아래 코드 ---\n",
    "finally:\n",
    "    # 연결 종료\n",
    "    conn.close()\n",
    "```"
   ]
  },
  {
   "cell_type": "code",
   "execution_count": 63,
   "id": "66fdc5cf-6193-4e4e-a964-35e6f3d0516d",
   "metadata": {},
   "outputs": [],
   "source": [
    "# 테이블 생성 쿼리 실행\n",
    "with conn.cursor() as cursor:\n",
    "    # 쿼리 작성\n",
    "    sql = \"\"\"\n",
    "    CREATE TABLE IF NOT EXISTS `users` (\n",
    "        `id` int(11) NOT NULL AUTO_INCREMENT,\n",
    "        `name` varchar(50) NOT NULL,\n",
    "        `email` varchar(50) NOT NULL,\n",
    "        `age` int(11) NOT NULL,\n",
    "        PRIMARY KEY (`id`)\n",
    "    ) ENGINE=InnoDB DEFAULT CHARSET=utf8mb4 COLLATE=utf8mb4_unicode_ci\n",
    "    \"\"\"\n",
    "\n",
    "    # 쿼리 실행\n",
    "    cursor.execute(sql)"
   ]
  },
  {
   "cell_type": "markdown",
   "id": "8eaedf89-7fbe-4fc0-83ad-60e23a09b7bd",
   "metadata": {},
   "source": [
    "## 데이터 추가"
   ]
  },
  {
   "cell_type": "code",
   "execution_count": 64,
   "id": "11c497fa-c0f0-4343-a81e-19b2aded3aeb",
   "metadata": {},
   "outputs": [],
   "source": [
    "# 데이터 추가 쿼리 실행\n",
    "with conn.cursor() as cursor:\n",
    "    # 쿼리 작성\n",
    "    sql = \"INSERT INTO `users` (`name`, `email`, `age`) VALUES (%s, %s, %s)\"\n",
    "\n",
    "    # 데이터 추가\n",
    "    cursor.execute(sql, ('John Doe', 'john@example.com', 25))\n",
    "    cursor.execute(sql, ('Jane Doe', 'jane@example.com', 30))\n",
    "    cursor.execute(sql, ('Bob Smith', 'bob@example.com', 40))\n",
    "\n",
    "    # 변경사항 커밋\n",
    "    conn.commit()"
   ]
  },
  {
   "cell_type": "markdown",
   "id": "c54e4d1e-8f60-4efe-88db-b3effa0b75d6",
   "metadata": {},
   "source": [
    "## 데이터 조회"
   ]
  },
  {
   "cell_type": "code",
   "execution_count": 65,
   "id": "2a739701-2afe-4d3c-9fb6-baa683c6f60a",
   "metadata": {},
   "outputs": [
    {
     "name": "stdout",
     "output_type": "stream",
     "text": [
      "{'id': 22, 'name': 'John Doe', 'email': 'john@example.com', 'age': 25}\n",
      "{'id': 23, 'name': 'Jane Doe', 'email': 'jane@example.com', 'age': 30}\n",
      "{'id': 24, 'name': 'Bob Smith', 'email': 'bob@example.com', 'age': 40}\n",
      "{'id': 25, 'name': 'John Doe', 'email': 'john@example.com', 'age': 25}\n",
      "{'id': 26, 'name': 'Jane Doe', 'email': 'jane@example.com', 'age': 30}\n",
      "{'id': 27, 'name': 'Bob Smith', 'email': 'bob@example.com', 'age': 40}\n"
     ]
    }
   ],
   "source": [
    "# 데이터 조회 쿼리 실행\n",
    "with conn.cursor() as cursor:\n",
    "    # 쿼리 작성\n",
    "    sql = \"SELECT * FROM `users`\"\n",
    "\n",
    "    # 쿼리 실행\n",
    "    cursor.execute(sql)\n",
    "\n",
    "    # 결과 출력\n",
    "    results = cursor.fetchall()\n",
    "    for result in results:\n",
    "        print(result)"
   ]
  },
  {
   "cell_type": "markdown",
   "id": "eb1d2ec1-cc55-436c-b609-8908061267fe",
   "metadata": {},
   "source": [
    "## 데이터 수정"
   ]
  },
  {
   "cell_type": "code",
   "execution_count": 66,
   "id": "118d4075-7a3f-45a1-b90b-cbdb676e1aea",
   "metadata": {},
   "outputs": [],
   "source": [
    "# 데이터 수정\n",
    "with conn.cursor() as cursor:\n",
    "    # 특정 데이터 수정\n",
    "    sql = \"UPDATE `users` SET name=%s WHERE id=%s\"\n",
    "    cursor.execute(sql, (\"John\", 1))\n",
    "    conn.commit()"
   ]
  },
  {
   "cell_type": "markdown",
   "id": "583f8e6a-66c6-4dc8-ad4b-fbaf5b78e136",
   "metadata": {},
   "source": [
    "## 데이터 조회"
   ]
  },
  {
   "cell_type": "code",
   "execution_count": 67,
   "id": "23f471b1-a99c-405b-8635-0c6337f7ea65",
   "metadata": {},
   "outputs": [
    {
     "name": "stdout",
     "output_type": "stream",
     "text": [
      "{'id': 22, 'name': 'John Doe', 'email': 'john@example.com', 'age': 25}\n",
      "{'id': 23, 'name': 'Jane Doe', 'email': 'jane@example.com', 'age': 30}\n",
      "{'id': 24, 'name': 'Bob Smith', 'email': 'bob@example.com', 'age': 40}\n",
      "{'id': 25, 'name': 'John Doe', 'email': 'john@example.com', 'age': 25}\n",
      "{'id': 26, 'name': 'Jane Doe', 'email': 'jane@example.com', 'age': 30}\n",
      "{'id': 27, 'name': 'Bob Smith', 'email': 'bob@example.com', 'age': 40}\n"
     ]
    }
   ],
   "source": [
    "# 데이터 조회\n",
    "with conn.cursor() as cursor:\n",
    "    # 모든 데이터 조회\n",
    "    sql = \"SELECT * FROM `users`\"\n",
    "    cursor.execute(sql)\n",
    "    results = cursor.fetchall()\n",
    "    for row in results:\n",
    "        print(row)"
   ]
  },
  {
   "cell_type": "markdown",
   "id": "7f114489-9b9c-43fe-bea3-5d900b7646f6",
   "metadata": {},
   "source": [
    "## 데이터 삭제"
   ]
  },
  {
   "cell_type": "code",
   "execution_count": 68,
   "id": "1fdf6576-773b-42e1-a109-0585e63f3a5b",
   "metadata": {},
   "outputs": [],
   "source": [
    "# 데이터 삭제\n",
    "with conn.cursor() as cursor:\n",
    "    # 특정 데이터 삭제\n",
    "    sql = \"DELETE FROM `users` WHERE id=%s\"\n",
    "    cursor.execute(sql, (1,))\n",
    "    conn.commit()"
   ]
  },
  {
   "cell_type": "markdown",
   "id": "673ed3d9-e9a1-4cbc-9b08-170de0582706",
   "metadata": {},
   "source": [
    "## 연결 닫기"
   ]
  },
  {
   "cell_type": "code",
   "execution_count": 69,
   "id": "60cf590d-b356-4568-8876-69ba13e222ea",
   "metadata": {},
   "outputs": [],
   "source": [
    "# 연결 닫기\n",
    "conn.close()"
   ]
  },
  {
   "cell_type": "markdown",
   "id": "d5fa7ded-5e74-483e-b395-cc8b41ff38f9",
   "metadata": {},
   "source": [
    "---\n",
    "# 열 데이터 제약 조건\n",
    "\n",
    "- PK (Primary Key): 테이블에서 유일한 레코드를 식별하기 위한 기본 키(primary key)를 지정합니다.\n",
    "- NN (Not Null): 해당 칼럼이 null 값을 가질 수 없도록 제약 조건을 설정합니다.\n",
    "- UQ (Unique): 해당 칼럼의 값이 유일(unique)해야 함을 지정합니다.\n",
    "- B (Boolean): 해당 칼럼의 값이 참(true) 또는 거짓(false) 중 하나임을 지정합니다.\n",
    "- UN (Unsigned): 해당 칼럼의 값이 음수(negative)가 아니어야 함을 지정합니다.\n",
    "- ZF (Zero Fill): 해당 칼럼의 값이 0으로 채워지도록 설정합니다.\n",
    "- AI (Auto Increment): 해당 칼럼의 값이 자동으로 증가하도록 설정합니다.\n",
    "- G (Generated): 해당 칼럼의 값이 데이터베이스에 의해 자동으로 생성되도록 설정합니다."
   ]
  }
 ],
 "metadata": {
  "kernelspec": {
   "display_name": "Python 3 (ipykernel)",
   "language": "python",
   "name": "python3"
  },
  "language_info": {
   "codemirror_mode": {
    "name": "ipython",
    "version": 3
   },
   "file_extension": ".py",
   "mimetype": "text/x-python",
   "name": "python",
   "nbconvert_exporter": "python",
   "pygments_lexer": "ipython3",
   "version": "3.7.13"
  }
 },
 "nbformat": 4,
 "nbformat_minor": 5
}
