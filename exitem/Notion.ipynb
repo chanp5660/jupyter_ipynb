{
 "cells": [
  {
   "attachments": {},
   "cell_type": "markdown",
   "id": "89c3339f-3f89-4d58-809e-6726d8bbd566",
   "metadata": {},
   "source": [
    "---  \n",
    "layout: post  \n",
    "current: post  \n",
    "cover:  assets/built/images/Notion.png  \n",
    "navigation: True  \n",
    "title: Notion   \n",
    "date: 2023-03-05 00:00:00 +0900  \n",
    "tags: [exitem,TIL]  \n",
    "class: post-template  \n",
    "subclass: 'post tag-python'  \n",
    "author: chanp5660  \n",
    "---  \n",
    " "
   ]
  },
  {
   "cell_type": "markdown",
   "id": "933e4caa-acd7-45bc-ae81-7038f65927c2",
   "metadata": {},
   "source": [
    "# Notion\n",
    "\n",
    "> Notion AI를 기반으로 작성"
   ]
  },
  {
   "cell_type": "markdown",
   "id": "630a1d70-bd7e-4c31-b132-72248174c5d1",
   "metadata": {},
   "source": [
    "- [https://www.notion.so/](https://www.notion.so/) 에서 구글로 로그인 하면 된다."
   ]
  },
  {
   "cell_type": "markdown",
   "id": "b3803117-dbe4-410c-a517-d56aa9216869",
   "metadata": {},
   "source": [
    "## Notion에 대해\n",
    "\n",
    "Notion은 작업을 할 때 필요한 문서, 테이블, 체크리스트, 일정 등을 한 곳에서 모아 관리할 수 있는 작업 도구입니다.\n",
    "\n",
    "## Notion의 주요 기능\n",
    "\n",
    "- 문서, 테이블, 체크리스트, 일정 등의 통합\n",
    "- 협업 기능\n",
    "- 파일 첨부 기능\n",
    "- 체크리스트 기능"
   ]
  }
 ],
 "metadata": {
  "kernelspec": {
   "display_name": "Python 3 (ipykernel)",
   "language": "python",
   "name": "python3"
  },
  "language_info": {
   "codemirror_mode": {
    "name": "ipython",
    "version": 3
   },
   "file_extension": ".py",
   "mimetype": "text/x-python",
   "name": "python",
   "nbconvert_exporter": "python",
   "pygments_lexer": "ipython3",
   "version": "3.7.13"
  }
 },
 "nbformat": 4,
 "nbformat_minor": 5
}
