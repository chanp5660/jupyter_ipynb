{
 "cells": [
  {
   "cell_type": "markdown",
   "id": "4b01416c-650a-4fe4-a8f1-2cf6805d81b5",
   "metadata": {},
   "source": [
    "---  \n",
    "layout: post  \n",
    "current: post  \n",
    "cover:  assets/built/images/한국해양기상기술.png  \n",
    "navigation: True  \n",
    "title: TIL-한국기상브레인스토밍   \n",
    "date: 2023-03-29 00:00:00 +0900  \n",
    "tags: [exitem,TIL]  \n",
    "class: post-template  \n",
    "subclass: 'post tag-python'  \n",
    "author: chanp5660  \n",
    "---  \n",
    " "
   ]
  },
  {
   "cell_type": "markdown",
   "id": "f56613b4-d461-42a8-ae93-31c5fcbf1bcd",
   "metadata": {},
   "source": [
    "# 한국 기상 브레인스토밍"
   ]
  },
  {
   "cell_type": "markdown",
   "id": "3b933ab9-8c88-475e-9d6f-3335c98b1c76",
   "metadata": {},
   "source": [
    "## 하드웨어"
   ]
  },
  {
   "cell_type": "markdown",
   "id": "510b3622-5d82-4aa8-8e2a-7304a046da5c",
   "metadata": {},
   "source": [
    "### 기상예보용 슈퍼컴퓨팅\n",
    "한국은 기상예보용 슈퍼컴퓨터 개발에 투자하고 있습니다. 기상청은 수치예보와 기후모델링에 사용되는 고성능 컴퓨팅 시스템인 '해란'을 운영하고 있다."
   ]
  },
  {
   "cell_type": "markdown",
   "id": "73bca98c-ee27-42a6-8c26-79dc10282403",
   "metadata": {},
   "source": [
    "### 기상 레이더 및 관측 네트워크\n",
    "한국은 실시간 기상 데이터를 제공하는 광범위한 기상 레이더 및 관측소 네트워크를 보유하고 있습니다. 기상청은 기상예보의 정확도를 높이고 악천후 조기 경보를 제공하기 위해 이 네트워크를 지속적으로 확장 및 업그레이드하고 있습니다."
   ]
  },
  {
   "cell_type": "markdown",
   "id": "707323b2-9fcc-4fdb-8be5-80e1b7358be7",
   "metadata": {},
   "source": [
    "## AI"
   ]
  },
  {
   "cell_type": "markdown",
   "id": "b0778d42-8b58-4efe-845e-a7fca6e7a686",
   "metadata": {},
   "source": [
    "### 일기예보를 위한 인공지능\n",
    "한국도 일기예보를 위한 인공지능(AI) 활용에 투자하고 있습니다. 기상청은 머신러닝을 활용해 기상예보 정확도를 높이는 AI 기반 시스템 'WIIS(Weather Integrated Information System)'를 개발했다."
   ]
  },
  {
   "cell_type": "markdown",
   "id": "b0273444-4348-4747-945b-e2758868be95",
   "metadata": {},
   "source": [
    "## 대기 오염"
   ]
  },
  {
   "cell_type": "markdown",
   "id": "d165d924-1956-43e1-8551-fb3b333db315",
   "metadata": {},
   "source": [
    "### 대기 오염 예측\n",
    "한국은 개선된 대기 오염 예측 모델을 개발하기 위해 노력하고 있습니다. 이것은 특히 도시 지역에서 국가의 대기 오염 수준이 높기 때문에 중요합니다. 기상청은 실시간 데이터를 활용해 대기오염도를 예측하는 대기질 예보시스템을 운영하고 있다."
   ]
  },
  {
   "cell_type": "markdown",
   "id": "4c308b9e-a6a9-472c-8f17-0a1604f74c3c",
   "metadata": {},
   "source": [
    "## 재난"
   ]
  },
  {
   "cell_type": "markdown",
   "id": "5b88f7d7-3b6c-4d9d-bbed-9b02bf736553",
   "metadata": {},
   "source": [
    "### 재난 예방 및 대응\n",
    "한국은 태풍, 홍수, 산사태 등 기상 관련 재난을 포함한 재난 예방 및 대응 능력을 향상시키기 위해 노력하고 있습니다. 기상청은 실시간 기상정보를 제공하고 경보를 발령하여 인명과 재산을 보호합니다."
   ]
  },
  {
   "cell_type": "markdown",
   "id": "3d9af18c-217c-482e-949b-433be28f7ba4",
   "metadata": {},
   "source": [
    "## 농업"
   ]
  },
  {
   "cell_type": "markdown",
   "id": "60072e57-a066-4955-8157-3bbfbf775c41",
   "metadata": {},
   "source": [
    "### 농업 기상 예보\n",
    "한국은 농민의 요구에 맞는 기상 예보 시스템을 개발하고 있습니다. 기상청은 농업인의 현명한 판단을 돕기 위해 기상예보 및 농작물 관리정보를 제공하는 농업기상정보서비스를 운영하고 있습니다."
   ]
  },
  {
   "cell_type": "markdown",
   "id": "06a73b00-e8f9-463c-ba15-9d798723b2a4",
   "metadata": {},
   "source": [
    "## 교육"
   ]
  },
  {
   "cell_type": "markdown",
   "id": "65e5d40f-a3a3-4476-b144-7cd8af9839a8",
   "metadata": {},
   "source": [
    "### 기상 교육 및 아웃리치\n",
    "한국은 기상 및 기후 문제에 대한 대중의 이해를 높이기 위해 노력하고 있습니다. 기상청은 학교와 대중을 위한 교육 프로그램을 제공하고 있으며, 대중에게 기상 정보와 예보를 제공하기 위한 모바일 앱 및 기타 도구도 개발하고 있습니다."
   ]
  },
  {
   "cell_type": "markdown",
   "id": "6b0286f5-7109-4d42-95dc-e7549cd86377",
   "metadata": {},
   "source": [
    "## 기후변화 연구"
   ]
  },
  {
   "cell_type": "markdown",
   "id": "3d514cee-ad5b-49ec-b08f-f1aea581cb52",
   "metadata": {},
   "source": [
    "### 기후 변화 연구\n",
    "한국은 또한 기후 변화가 국가의 날씨 패턴에 미치는 영향에 대한 연구에 투자하고 있습니다. 기상청은 미래 기후 시나리오를 보다 정확하게 예측할 수 있는 기후모델 개발을 위해 노력하고 있으며, 기후변화가 농업, 수자원 및 기타 부문에 미치는 영향을 연구하고 있습니다."
   ]
  },
  {
   "cell_type": "markdown",
   "id": "02094785-18cc-48ca-ae7f-5fa6a200da48",
   "metadata": {},
   "source": [
    "### 기상 모니터링 및 연구 인프라\n",
    "한국은 기상 모니터링 및 연구 인프라 개발에 투자하고 있습니다. 기상청은 대기관측 및 측정을 위한 연구센터 및 시설을 운영하고 있으며, 자료수집 및 분석능력 향상을 위해 노력하고 있습니다."
   ]
  },
  {
   "cell_type": "markdown",
   "id": "1b85f605-c624-415c-8351-67ffe87908ae",
   "metadata": {},
   "source": [
    "## 우주기상"
   ]
  },
  {
   "cell_type": "markdown",
   "id": "70477185-20ef-40cd-8e8e-341b4e6a353d",
   "metadata": {},
   "source": [
    "### 우주기상예보\n",
    "한국도 우주기상예보 능력 개발에 투자하고 있다. 우주 기상은 통신 및 내비게이션 시스템은 물론 전력망 및 기타 중요한 인프라에 영향을 미칠 수 있습니다. 기상청은 우주 기상 현상과 그 영향을 예측하는 모델을 개발하기 위해 노력하고 있습니다."
   ]
  },
  {
   "cell_type": "markdown",
   "id": "6ee0f8c6-52eb-468c-9d83-b588f4e58ed3",
   "metadata": {},
   "source": [
    "## 뉴스"
   ]
  },
  {
   "cell_type": "markdown",
   "id": "9da57dfa-c22f-4b56-85c2-6e8601f493ec",
   "metadata": {},
   "source": [
    "2027년 항공기 착륙부터 이륙까지 단계별 기상예보 제공한다  \n",
    "[항공기 착륙부터 이륙까지 단계별 기상예보 제공한다](https://m.dongascience.com/news.php?idx=55206)"
   ]
  }
 ],
 "metadata": {
  "kernelspec": {
   "display_name": "Python 3 (ipykernel)",
   "language": "python",
   "name": "python3"
  },
  "language_info": {
   "codemirror_mode": {
    "name": "ipython",
    "version": 3
   },
   "file_extension": ".py",
   "mimetype": "text/x-python",
   "name": "python",
   "nbconvert_exporter": "python",
   "pygments_lexer": "ipython3",
   "version": "3.7.13"
  }
 },
 "nbformat": 4,
 "nbformat_minor": 5
}
