{
 "cells": [
  {
   "attachments": {},
   "cell_type": "markdown",
   "id": "29c81d84-50be-43c7-afef-2f496e497791",
   "metadata": {},
   "source": [
    "---  \n",
    "layout: post  \n",
    "current: post  \n",
    "cover:  assets/built/images/whiten.png  \n",
    "navigation: True  \n",
    "title: whiten   \n",
    "date: 2023-03-11 00:00:00 +0900  \n",
    "tags: [exitem,TIL]  \n",
    "class: post-template  \n",
    "subclass: 'post tag-python'  \n",
    "author: chanp5660  \n",
    "---  \n",
    " "
   ]
  },
  {
   "cell_type": "markdown",
   "id": "f3562e64-8495-4f17-990e-82cc194ee116",
   "metadata": {},
   "source": [
    "# 클러스터링에서 Whiten ?"
   ]
  },
  {
   "cell_type": "markdown",
   "id": "953c8868-5e0c-45d5-8c43-66af05200d2b",
   "metadata": {},
   "source": [
    "- 데이터를 더욱 효과적으로 클러스터링하기 위해 whiten이라는 전처리 기술을 사용합니다.\n",
    "    - 클러스터링은 비슷한 특징을 가진 데이터들을 그룹으로 묶는 기술입니다. \n",
    "- whiten 처리를 하면 데이터의 **스케일링**과 **정규화**를 수행하고, 각 변수간의 상관관계를 줄입니다.\n",
    "    - 이렇게 처리된 데이터는 클러스터링 알고리즘에서 더욱 정확하게 작동하게 됩니다.\n",
    "- 즉, whiten은 데이터를 변환하여 클러스터링 알고리즘의 성능을 높이는 기술입니다."
   ]
  },
  {
   "cell_type": "markdown",
   "id": "cec7dbad-c5a6-43aa-933d-0d2409c1448f",
   "metadata": {},
   "source": [
    "## 예시\n",
    "\n",
    "- 이차원의 데이터가 주어질 때, 그대로 클러스터링 알고리즘에 적용하면, 각 변수의 범위와 분산이 다르기 때문에 올바른 클러스터링 결과를 얻기 어렵습니다. 따라서 whiten 처리를 수행하여 데이터를 반환합니다.\n",
    "\n",
    "```\n",
    "[[1, 2],\n",
    " [2, 4],\n",
    " [3, 6],\n",
    " [4, 8]]\n",
    "```\n",
    "\n",
    "- 데이터를 whiten 처리하면, 데이터의 분산이 모두 1이 되고, 각 변수간의 상관관계가 제거 됩니다. 이전의 데이터를 whiten 처리한 결과는 아래와 같습니다.\n",
    "\n",
    "```\n",
    "[[-1.34164079, -1.34164079],\n",
    " [ 0.        ,  0.        ],\n",
    " [ 1.34164079,  1.34164079],\n",
    " [ 2.68328157,  2.68328157]]\n",
    "```\n",
    "\n",
    "- 변수간의 상관관계가 없어지고 분산이 같아지기 때문에 더욱 정확한 클러스터링 결과를 얻을 수 있습니다."
   ]
  }
 ],
 "metadata": {
  "kernelspec": {
   "display_name": "Python 3 (ipykernel)",
   "language": "python",
   "name": "python3"
  },
  "language_info": {
   "codemirror_mode": {
    "name": "ipython",
    "version": 3
   },
   "file_extension": ".py",
   "mimetype": "text/x-python",
   "name": "python",
   "nbconvert_exporter": "python",
   "pygments_lexer": "ipython3",
   "version": "3.7.13"
  }
 },
 "nbformat": 4,
 "nbformat_minor": 5
}
