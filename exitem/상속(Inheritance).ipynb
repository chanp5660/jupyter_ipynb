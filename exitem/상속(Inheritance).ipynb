{
 "cells": [
  {
   "attachments": {},
   "cell_type": "markdown",
   "metadata": {},
   "source": [
    "---  \n",
    "layout: post  \n",
    "current: post  \n",
    "cover:  assets/built/images/상속.png  \n",
    "navigation: True  \n",
    "title: 상속(Inheritance)   \n",
    "date: 2023-04-25 00:00:00 +0900  \n",
    "tags: [exitem,TIL]  \n",
    "class: post-template  \n",
    "subclass: 'post tag-python'  \n",
    "author: chanp5660  \n",
    "---  \n",
    " "
   ]
  },
  {
   "attachments": {},
   "cell_type": "markdown",
   "metadata": {},
   "source": [
    "# 상속 Inheritance 관계\n",
    "\n",
    "객체 지향 프로그램밍에서 클래스 간의 관계를 나태내는 개념 중 하나입니다.  \n",
    "한 클래스가 **다른 클래스에서 정의된 속성과 메서드를 상속**받는 것을 의미합니다.\n",
    "\n",
    "상속을 받는 클래스는 기존 클래스의 모든 속성과 메서드를 상속받으며, 이를 기반으로 새로운 속성과 메서드를 추가할 수 있습니다.  \n",
    "이를 통해 코드의 **재사용성**을 높이고, 중복된 코드를 제거하여 **코드의 유지보수성**을 높일 수 있습니다.\n",
    "\n",
    "상속 관계에서는 **부모 클래스**와 **자식 클래스**라는 개념이 존재합니다.  \n",
    "**부모 클래스**는 **상속을 제공**하는 클래스이며, **자식 클래스**는 **상속을 받는** 클래스입니다.   \n",
    "자식 클래스는 부모 클래스의 모든 속성과 메서드를 상속받으며, 이를 통해 새로운 기능을 추가하거나 부모 클래스의 기능을 변경할 수 있습니다.\n",
    "\n",
    "## 특징\n",
    "\n",
    "- 자식 클래스는 부모 클래스의 속성과 메서드를 상속받습니다.\n",
    "- 자식 클래스는 부모 클래스에서 정의된 메서드를 오버라이딩(Overriding)하여 수정할 수 있습니다.\n",
    "- 자식 클래스는 부모 클래스에서 정의된 메서드를 호출하거나 상속된 속성을 사용할 수 있습니다.\n",
    "- 자식 클래스는 부모 클래스와 같은 인터페이스를 가질 수 있으며, 다형성(Polymorphism)을 구현할 수 있습니다."
   ]
  }
 ],
 "metadata": {
  "language_info": {
   "name": "python"
  },
  "orig_nbformat": 4
 },
 "nbformat": 4,
 "nbformat_minor": 2
}
