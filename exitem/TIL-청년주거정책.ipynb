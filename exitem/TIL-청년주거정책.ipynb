{
 "cells": [
  {
   "cell_type": "markdown",
   "id": "f4ae4576-55d2-47e1-a9b1-d900ecb02a2f",
   "metadata": {},
   "source": [
    "---  \n",
    "layout: post  \n",
    "current: post  \n",
    "cover:  assets/built/images/청년주거정책.png  \n",
    "navigation: True  \n",
    "title: TIL-청년주거정책   \n",
    "date: 2023-03-23 00:00:00 +0900  \n",
    "tags: [exitem,TIL]  \n",
    "class: post-template  \n",
    "subclass: 'post tag-python'  \n",
    "author: chanp5660  \n",
    "---  \n",
    " "
   ]
  },
  {
   "cell_type": "markdown",
   "id": "0338836f-ecdd-4085-873d-f8b809ae58f2",
   "metadata": {},
   "source": [
    "# 청년주거정책\n",
    "\n",
    "서울살이를 하기 위한 청년주거정책에 대한 정보를 알아보고 정리합니다."
   ]
  },
  {
   "cell_type": "markdown",
   "id": "f7e066c4-0b4a-4801-a02d-b1ea5fba598a",
   "metadata": {},
   "source": [
    "[월세 10만원에 괜찮은 집에 사는 방법 | 청년주거정책 총정리](https://www.youtube.com/watch?v=5CfSOrQfsUk)라는 유투브에서 간단한 설명을 참고할 수 있습니다. "
   ]
  },
  {
   "cell_type": "markdown",
   "id": "b347ceb6-8183-4a56-9e5d-661c755b6fc2",
   "metadata": {},
   "source": [
    "## 중소기업 청년대출 (대출 대상 탈락)\n",
    "\n",
    "- [주택도시기금](https://nhuf.molit.go.kr/FP/FP05/FP0502/FP05020603.jsp) 링크를 참고할 수 있습니다.\n",
    "\n",
    "<img src='https://user-images.githubusercontent.com/46266247/227223984-a813d91e-32e0-41e7-8cdc-3e59b90e3353.png' width='100%'>"
   ]
  },
  {
   "cell_type": "markdown",
   "id": "c8aaca3c-c804-4640-a31d-39794e0dcee8",
   "metadata": {},
   "source": [
    "## LH 청년 전세 임대(신청 가능)\n",
    "- [LH](https://www.lh.or.kr/contents/cont.do?sCode=user&mId=234&mPid=231) 링크를 참고할 수 있습니다.  \n",
    "\n",
    "<img src='https://user-images.githubusercontent.com/46266247/227223635-7c59281d-b067-469d-900b-0f9105ca2d60.png' width=\"100%\">\n",
    "\n",
    "<img src='https://user-images.githubusercontent.com/46266247/227226341-0563ef55-d2fe-40db-a962-957f50a2b8ba.png' width='100%'>\n",
    "\n",
    "<img src='https://user-images.githubusercontent.com/46266247/227226716-bea27d92-3afc-4dc7-8a9a-fc3bc2f07de0.png' width='100%'>\n"
   ]
  },
  {
   "cell_type": "markdown",
   "id": "6361e690-7dc6-49a6-ab23-c2e9a9021a31",
   "metadata": {},
   "source": [
    "## 기숙사형 청년주택(신청가능)\n",
    "- [LH](https://www.lh.or.kr/contents/cont.do?sCode=user&mPid=231&mId=601&menuYear=) 링크를 참고할 수 있습니다.  \n",
    "\n",
    "<img src='https://user-images.githubusercontent.com/46266247/227227506-cddc2240-24e7-4a50-88a0-87eeb449f5a0.png' width='100%'>\n",
    "\n",
    "<img src='https://user-images.githubusercontent.com/46266247/227227714-920d99d1-4ceb-4ae3-a23e-06e28c28f94f.png' width='100%'>\n"
   ]
  },
  {
   "cell_type": "markdown",
   "id": "e6b4a072-fa8e-4dce-b7fe-e3803848ad41",
   "metadata": {},
   "source": [
    "## 청년매입임대주택(신청가능)\n",
    "- [LH](https://www.lh.or.kr/contents/cont.do?sCode=user&mPid=231&mId=233&menuYear=) 링크를 참고할 수 있습니다. \n",
    "\n",
    "\n",
    "<img src='https://user-images.githubusercontent.com/46266247/227228638-1fe46dfc-f089-4be0-80c9-971c945441cc.png' width='100%'>\n",
    "\n",
    "<img src='https://user-images.githubusercontent.com/46266247/227228872-c05d0661-deac-40f0-a83b-4d0d9a530d45.png' width='100%'> \n"
   ]
  },
  {
   "cell_type": "markdown",
   "id": "1a028e45-09c6-4850-9b7a-39010bea217a",
   "metadata": {},
   "source": [
    "## 행복주택(신청가능)\n",
    "- [LH](https://www.lh.or.kr/contents/cont.do?sCode=user&mPid=231&mId=232&menuYear=) 링크를 참고할 수 있습니다. \n",
    "\n",
    "\n",
    "<img src='https://user-images.githubusercontent.com/46266247/227229584-2310c8a0-8520-477d-88a1-17e104fea73c.png' width='100%'>  \n",
    "\n",
    "<img src='https://user-images.githubusercontent.com/46266247/227229758-931d523c-4a11-42f1-b1b7-96356a6aeb02.png' width='100%'>"
   ]
  },
  {
   "cell_type": "markdown",
   "id": "9f2d0a3d-04b5-4c86-8a6d-ed1a2e494928",
   "metadata": {},
   "source": [
    "## 역세권 청년주택(신청가능)\n",
    "\n",
    "- 상세 내용은 [역세권 청년주택](https://soco.seoul.go.kr/youth/main/contents.do?menuNo=400012) 링크에서 살펴볼 수 있습니다. \n",
    "\n",
    "- [자격 확인 링크](https://soco.seoul.go.kr/youth/pgm/home/yohome/supportYouth1.do?menuNo=400039)\n",
    "<img src='https://user-images.githubusercontent.com/46266247/227233599-e5fa44d6-bf0d-4ed6-8183-769a28d3287d.png' width='90%'>\n",
    "\n",
    "- [역세권 청년주택 공급현황 및 계획 링크](https://soco.seoul.go.kr/youth/main/contents.do?menuNo=400014)\n",
    "\n",
    "<img src='https://user-images.githubusercontent.com/46266247/227234554-b015dbe7-0d68-4ac1-af6e-10b6d9b289ec.png' width='100%'>"
   ]
  },
  {
   "cell_type": "markdown",
   "id": "6911fe91-8c42-4e13-9e19-15139e24b900",
   "metadata": {},
   "source": [
    "## 사회적주택(신청가능)\n",
    "\n",
    "- [사회주택플랫폼 링크](https://soco.seoul.go.kr/soHouse/main/contents.do?menuNo=300007)에서 자세한 내용을 살펴볼 수 있습니다.\n",
    "\n",
    "<img src='https://user-images.githubusercontent.com/46266247/227235890-982233c7-158b-48b1-94f8-2d2e4a2e7a38.png' width='100%'>\n",
    "\n",
    "- [내집찾기 링크](https://soco.seoul.go.kr/soHouse/pgm/home/sohome/list.do?menuNo=300006)에서 바로 신청해볼 수 있습니다.\n",
    "\n",
    "<img src='https://user-images.githubusercontent.com/46266247/227238721-22e6f20d-d02a-4b1e-818d-07fe595123b9.png' width='100%'>"
   ]
  }
 ],
 "metadata": {
  "kernelspec": {
   "display_name": "Python 3 (ipykernel)",
   "language": "python",
   "name": "python3"
  },
  "language_info": {
   "codemirror_mode": {
    "name": "ipython",
    "version": 3
   },
   "file_extension": ".py",
   "mimetype": "text/x-python",
   "name": "python",
   "nbconvert_exporter": "python",
   "pygments_lexer": "ipython3",
   "version": "3.7.13"
  }
 },
 "nbformat": 4,
 "nbformat_minor": 5
}
