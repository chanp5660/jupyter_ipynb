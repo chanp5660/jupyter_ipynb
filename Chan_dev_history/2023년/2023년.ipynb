{
 "cells": [
  {
   "attachments": {},
   "cell_type": "markdown",
   "metadata": {},
   "source": [
    "---  \n",
    "layout: post  \n",
    "current: post  \n",
    "cover:  assets/built/images/chan_dev_history.png  \n",
    "navigation: True  \n",
    "title: 자기 개발 기록 (2023년)   \n",
    "date: 2023-04-22 00:00:00 +0900  \n",
    "tags: [Chan_dev_history]  \n",
    "class: post-template  \n",
    "subclass: 'post tag-python'  \n",
    "author: chanp5660  \n",
    "---  \n",
    " "
   ]
  },
  {
   "attachments": {},
   "cell_type": "markdown",
   "metadata": {},
   "source": [
    "# 자기 개발 기록 (2023년)\n",
    "\n",
    "## 목적\n",
    "\n",
    "> 자기 개발 기록을 통해 성과, 반성, 배울 점을 얻습니다."
   ]
  },
  {
   "attachments": {},
   "cell_type": "markdown",
   "metadata": {},
   "source": [
    "## 2월 취업 준비\n",
    "[**자기 개발 기록(2023년2월) 바로가기**](https://chanp5660.github.io/2023년2월)\n",
    "> 이력서를 작성하여 회사에 지원하고 인공지능, python을 공부했습니다.\n",
    "\n",
    "## 3월 취업\n",
    "[**자기 개발 기록(2023년3월) 바로가기**](https://chanp5660.github.io/2023년3월)\n",
    "> 공부의 흐름 찾고 취업 면접, 코테 준비 및 인공지능, python을 공부했습니다.\n",
    "\n",
    "## 4월 신입\n",
    "[**자기 개발 기록(2023년4월) 바로가기**](https://chanp5660.github.io/2023년4월)\n",
    "> 신입으로 회사에 적응(회사 시스템, 개발 툴, 회사 동료)하고 자기 개발을 기록하며 꾸준하게 할 수 있도록 습관으로 만들었습니다."
   ]
  }
 ],
 "metadata": {
  "language_info": {
   "name": "python"
  },
  "orig_nbformat": 4
 },
 "nbformat": 4,
 "nbformat_minor": 2
}
