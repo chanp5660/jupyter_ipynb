{
 "cells": [
  {
   "attachments": {},
   "cell_type": "markdown",
   "metadata": {},
   "source": [
    "---  \n",
    "layout: post  \n",
    "current: post  \n",
    "cover:  assets/built/images/chan_dev_history.png  \n",
    "navigation: True  \n",
    "title: 자기 개발 기록 (2023년)   \n",
    "date: 2023-04-22 00:00:00 +0900  \n",
    "tags: [Chan_dev_history]  \n",
    "class: post-template  \n",
    "subclass: 'post tag-python'  \n",
    "author: chanp5660  \n",
    "---  \n",
    " "
   ]
  },
  {
   "attachments": {},
   "cell_type": "markdown",
   "metadata": {},
   "source": [
    "# 자기 개발 기록 (2023년)\n",
    "\n",
    "## 목적\n",
    "\n",
    "> 자기 개발 기록을 통해 성과, 반성, 배울 점을 얻습니다."
   ]
  },
  {
   "attachments": {},
   "cell_type": "markdown",
   "metadata": {},
   "source": [
    "## 2월 취업 준비\n",
    "[**자기 개발 기록(2023년2월) 바로가기**](https://chanp5660.github.io/2023년2월)\n",
    "> 이력서를 작성하여 회사에 지원하고 인공지능, python을 공부했습니다."
   ]
  },
  {
   "attachments": {},
   "cell_type": "markdown",
   "metadata": {},
   "source": [
    "## 3월 취업\n",
    "[**자기 개발 기록(2023년3월) 바로가기**](https://chanp5660.github.io/2023년3월)\n",
    "> 공부의 흐름 찾고 취업 면접, 코테 준비 및 인공지능, python을 공부했습니다."
   ]
  },
  {
   "attachments": {},
   "cell_type": "markdown",
   "metadata": {},
   "source": [
    "## 4월 신입\n",
    "[**자기 개발 기록(2023년4월) 바로가기**](https://chanp5660.github.io/2023년4월)\n",
    "> 신입으로 회사에 적응(회사 시스템, 개발 툴, 회사 동료)하고 자기 개발을 기록하며 꾸준하게 할 수 있도록 습관으로 만들었습니다."
   ]
  },
  {
   "attachments": {},
   "cell_type": "markdown",
   "metadata": {},
   "source": [
    "## 5월 자격증\n",
    "[**자기 개발 기록(2023년5월) 바로가기**](https://chanp5660.github.io/2023년5월)\n",
    "> 자격증을 취득한다고 전문가는 아니지만 본인을 간단하게 테스트를 할 수 있는 자격증(정보처리기사, 데이터분석준전문가)를 시험을 보았습니다."
   ]
  },
  {
   "attachments": {},
   "cell_type": "markdown",
   "metadata": {},
   "source": [
    "## 6월 자격증\n",
    "[**자기 개발 기록(2023년6월) 바로가기**](https://chanp5660.github.io/2023년6월)\n",
    "> 자격증을 취득한다고 전문가는 아니지만 본인을 간단하게 테스트를 할 수 있는 자격증(정보처리기사, 데이터분석준전문가, 빅데이터분석기사)를 시험을 보았습니다."
   ]
  },
  {
   "attachments": {},
   "cell_type": "markdown",
   "metadata": {},
   "source": [
    "## 7월 수산학회, 자격증\n",
    "[**자기 개발 기록(2023년7월) 바로가기**](https://chanp5660.github.io/2023년7월)\n",
    "> 통영 수산학회에 참관하여 해양 기술에 대한 최신 논문을 통해 도메인을 늘릴 수 있었습니다. 또한 자격증을 취득한다고 전문가는 아니지만 본인을 간단하게 테스트를 할 수 있는 자격증(정보처리기사, 데이터분석준전문가)를 시험을 보았습니다."
   ]
  }
 ],
 "metadata": {
  "language_info": {
   "name": "python"
  },
  "orig_nbformat": 4
 },
 "nbformat": 4,
 "nbformat_minor": 2
}
