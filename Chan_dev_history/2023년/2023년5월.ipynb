{
 "cells": [
  {
   "attachments": {},
   "cell_type": "markdown",
   "metadata": {},
   "source": [
    "---  \n",
    "layout: post  \n",
    "current: post  \n",
    "cover:  assets/built/images/chan_dev_history.png  \n",
    "navigation: True  \n",
    "title: 자기 개발 기록 (2023년5월)   \n",
    "date: 2023-05-13 00:00:00 +0900  \n",
    "tags: [Chan_dev_history]  \n",
    "class: post-template  \n",
    "subclass: 'post tag-python'  \n",
    "author: chanp5660  \n",
    "---  \n",
    " "
   ]
  },
  {
   "attachments": {},
   "cell_type": "markdown",
   "metadata": {},
   "source": [
    "# 자기 개발 기록 (2023년5월)\n",
    "\n",
    "## 목적\n",
    "\n",
    "> 자기 개발 기록을 통해 성과, 반성, 배울 점을 얻고 성장할 수 있도록 합니다."
   ]
  },
  {
   "attachments": {},
   "cell_type": "markdown",
   "metadata": {},
   "source": [
    "## 1주차 2023년 5월 1일 \n",
    "> 트랜스포머(인코더)\n",
    "\n",
    "<details>\n",
    "<summary><span style=\"color:blue;font-weight:bold\" >여기를 클릭하여 펼치기...</span></summary>\n",
    "<div markdown=\"1\">\n",
    "- 트랜스포머(인코더)\n",
    "    - 포지셔널 인코딩\n",
    "    \n",
    "---\n",
    "</div>\n",
    "</details>"
   ]
  },
  {
   "attachments": {},
   "cell_type": "markdown",
   "metadata": {},
   "source": [
    "## 2주차 2023년 5월 8일 \n",
    "> 정보처리기사, 익스트림 프로그래밍, DIKW 피라미드, 데이터베이스, 데이터사이언티스트\n",
    "\n",
    "<details>\n",
    "<summary><span style=\"color:blue;font-weight:bold\" >여기를 클릭하여 펼치기...</span></summary>\n",
    "<div markdown=\"1\">\n",
    "- 정보처리기사(블로그 포스팅)\n",
    "    - 익스트림 프로그래밍\n",
    "    - DIKW 피라미드\n",
    "    - 데이터베이스\n",
    "    - 데이터사이언티스트\n",
    "\n",
    "---\n",
    "</div>\n",
    "</details>"
   ]
  },
  {
   "attachments": {},
   "cell_type": "markdown",
   "metadata": {},
   "source": [
    "## 3주차 2023년 5월 15일 \n",
    "> 데이터분석준전문가, 분석기회 발굴범위, 분석 방법, 빅데이터와 인문학, 클라우딩 컴퓨팅, 하드 스킬, 소프트 스킬, STEEP, 분석 과제 관리 프로세스, 분석프로젝트관리, 분석 과제 관리 프로세스, 풀(pool)\n",
    "\n",
    "<details>\n",
    "<summary><span style=\"color:blue;font-weight:bold\" >여기를 클릭하여 펼치기...</span></summary>\n",
    "<div markdown=\"1\">\n",
    "- 데이터분석준전문가\n",
    "    - 분석기회 발굴범위\n",
    "    - 분석 방법\n",
    "    - 빅데이터와 인문학\n",
    "    - 클라우딩 컴퓨팅\n",
    "    - 하드 스킬 vs 소프트 스킬\n",
    "    - STEEP\n",
    "    - 분석 과제 관리 프로세스\n",
    "    - 분석프로젝트관리\n",
    "    - 풀(pool)\n",
    "\n",
    "---\n",
    "</div>\n",
    "</details>"
   ]
  },
  {
   "attachments": {},
   "cell_type": "markdown",
   "metadata": {},
   "source": [
    "## 4주차 2023년 5월 22일 \n",
    "> 특이사항 없음 "
   ]
  },
  {
   "attachments": {},
   "cell_type": "markdown",
   "metadata": {},
   "source": [
    "## 5주차 2023년 5월 29일 \n",
    "> 특이사항 없음"
   ]
  }
 ],
 "metadata": {
  "language_info": {
   "name": "python"
  },
  "orig_nbformat": 4
 },
 "nbformat": 4,
 "nbformat_minor": 2
}
