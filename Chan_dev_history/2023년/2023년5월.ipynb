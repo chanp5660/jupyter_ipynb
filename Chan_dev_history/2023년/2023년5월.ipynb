{
 "cells": [
  {
   "attachments": {},
   "cell_type": "markdown",
   "metadata": {},
   "source": [
    "---  \n",
    "layout: post  \n",
    "current: post  \n",
    "cover:  assets/built/images/chan_dev_history.png  \n",
    "navigation: True  \n",
    "title: 자기 개발 기록 (2023년5월)   \n",
    "date: 2023-05-13 00:00:00 +0900  \n",
    "tags: [Chan_dev_history]  \n",
    "class: post-template  \n",
    "subclass: 'post tag-python'  \n",
    "author: chanp5660  \n",
    "---  \n",
    " "
   ]
  },
  {
   "attachments": {},
   "cell_type": "markdown",
   "metadata": {},
   "source": [
    "# 자기 개발 기록 (2023년5월)\n",
    "\n",
    "## 목적\n",
    "\n",
    "> 자기 개발 기록을 통해 성과, 반성, 배울 점을 얻고 성장할 수 있도록 합니다."
   ]
  },
  {
   "attachments": {},
   "cell_type": "markdown",
   "metadata": {},
   "source": [
    "## 1주차 2023년 5월 1일 \n",
    "> 트랜스포머(인코더)\n",
    "\n",
    "<details>\n",
    "<summary><span style=\"color:blue;font-weight:bold\" >여기를 클릭하여 펼치기...</span></summary>\n",
    "<div markdown=\"1\">\n",
    "- 트랜스포머(인코더)\n",
    "    - 포지셔널 인코딩\n",
    "    \n",
    "---\n",
    "</div>\n",
    "</details>"
   ]
  },
  {
   "attachments": {},
   "cell_type": "markdown",
   "metadata": {},
   "source": [
    "## 2주차 2023년 5월 8일 \n",
    "> 정보처리기사, 익스트림 프로그래밍\n",
    "\n",
    "<details>\n",
    "<summary><span style=\"color:blue;font-weight:bold\" >여기를 클릭하여 펼치기...</span></summary>\n",
    "<div markdown=\"1\">\n",
    "- 정보처리기사(블로그 포스팅)\n",
    "    - 익스트림 프로그래밍\n",
    "    \n",
    "---\n",
    "</div>\n",
    "</details>"
   ]
  },
  {
   "attachments": {},
   "cell_type": "markdown",
   "metadata": {},
   "source": [
    "## 3주차 2023년 5월 15일 \n",
    "> \n",
    "\n",
    "<details>\n",
    "<summary><span style=\"color:blue;font-weight:bold\" >여기를 클릭하여 펼치기...</span></summary>\n",
    "<div markdown=\"1\">\n",
    "\n",
    "\n",
    "---\n",
    "</div>\n",
    "</details>"
   ]
  },
  {
   "attachments": {},
   "cell_type": "markdown",
   "metadata": {},
   "source": [
    "## 4주차 2023년 5월 22일 \n",
    "> \n",
    "\n",
    "<details>\n",
    "<summary><span style=\"color:blue;font-weight:bold\" >여기를 클릭하여 펼치기...</span></summary>\n",
    "<div markdown=\"1\">\n",
    "\n",
    "\n",
    "---\n",
    "</div>\n",
    "</details>"
   ]
  }
 ],
 "metadata": {
  "language_info": {
   "name": "python"
  },
  "orig_nbformat": 4
 },
 "nbformat": 4,
 "nbformat_minor": 2
}
