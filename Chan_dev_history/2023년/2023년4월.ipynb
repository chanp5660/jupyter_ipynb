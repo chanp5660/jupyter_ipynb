{
 "cells": [
  {
   "attachments": {},
   "cell_type": "markdown",
   "metadata": {},
   "source": [
    "---  \n",
    "layout: post  \n",
    "current: post  \n",
    "cover:  assets/built/images/chan_dev_history.png  \n",
    "navigation: True  \n",
    "title: 자기 개발 기록 (2023년4월)   \n",
    "date: 2023-04-22 00:00:00 +0900  \n",
    "tags: [Chan_dev_history]  \n",
    "class: post-template  \n",
    "subclass: 'post tag-python'  \n",
    "author: chanp5660  \n",
    "---  \n",
    " "
   ]
  },
  {
   "attachments": {},
   "cell_type": "markdown",
   "metadata": {},
   "source": [
    "# 자기 개발 기록 (2023년4월)\n",
    "\n",
    "## 목적\n",
    "\n",
    "> 자기 개발 기록을 통해 성과, 반성, 배울 점을 얻고 성장할 수 있도록 합니다."
   ]
  },
  {
   "attachments": {},
   "cell_type": "markdown",
   "metadata": {},
   "source": [
    "## 1주차 2023년 3월 27일 \n",
    "> 한국해양브레인스토밍, 한국기상브레인스토밍, t-SNE, 힙정렬, 신용카드 사기 탐지(Kaggle)\n",
    "\n",
    "<details>\n",
    "<summary><span style=\"color:blue;font-weight:bold\" >여기를 클릭하여 펼치기...</span></summary>\n",
    "<div markdown=\"1\">\n",
    "- 회사의 도메인 공부 (블로그포스팅)\n",
    "    - 한국해양브레인스토밍, 한국기상브레인스토밍\n",
    "- t-SNE (블로그포스팅)\n",
    "- 힙정렬 (블로그포스팅)\n",
    "- 신용카드 사기 탐지(Kaggle) (블로그포스팅)\n",
    "\n",
    "---\n",
    "</div>\n",
    "</details>"
   ]
  },
  {
   "attachments": {},
   "cell_type": "markdown",
   "metadata": {},
   "source": [
    "## 2주차 2023년 4월 3일 \n",
    "> Jira, 퀵정렬\n",
    "\n",
    "<details>\n",
    "<summary><span style=\"color:blue;font-weight:bold\" >여기를 클릭하여 펼치기...</span></summary>\n",
    "<div markdown=\"1\">\n",
    "- Jira (블로그포스팅)\n",
    "    - 회사에서 사용하는 협업툴로 Confluence와 같이 활용됩니다.\n",
    "- 퀵정렬 (블로그포스팅)\n",
    "\n",
    "\n",
    "---\n",
    "</div>\n",
    "</details>"
   ]
  },
  {
   "attachments": {},
   "cell_type": "markdown",
   "metadata": {},
   "source": [
    "## 3주차 2023년 4월 10일 \n",
    "> 공던지기, Imbalanced_data, 기수정렬\n",
    "\n",
    "<details>\n",
    "<summary><span style=\"color:blue;font-weight:bold\" >여기를 클릭하여 펼치기...</span></summary>\n",
    "<div markdown=\"1\">\n",
    "- Imbalanced data (블로그포스팅)\n",
    "- 공던지기 (블로그포스팅)\n",
    "- 기수정렬 (블로그포스팅)\n",
    "\n",
    "---\n",
    "</div>\n",
    "</details>"
   ]
  },
  {
   "attachments": {},
   "cell_type": "markdown",
   "metadata": {},
   "source": [
    "## 4주차 2023년 4월 17일 \n",
    "> 정보처리기사, 데이터준분석가(데이터의이해), UML다이어그램, MOM(Message Oriented Middleware), 구조적방법론, 동기_비동기, ERD, 애자일방법론, 유스케이스, 정보공학방법론, 다형성\n",
    "\n",
    "<details>\n",
    "<summary><span style=\"color:blue;font-weight:bold\" >여기를 클릭하여 펼치기...</span></summary>\n",
    "<div markdown=\"1\">\n",
    "- 정보처리기사 (블로그포스팅)\n",
    "    - UML다이어그램, MOM(Message Oriented Middleware), 구조적방법론, 동기_비동기, ERD, 애자일방법론, 유스케이스, 정보공학방법론, 다형성\n",
    "- 데이터준분석가(데이터의이해) (블로그포스팅) \n",
    "\n",
    "---\n",
    "</div>\n",
    "</details>"
   ]
  }
 ],
 "metadata": {
  "language_info": {
   "name": "python"
  },
  "orig_nbformat": 4
 },
 "nbformat": 4,
 "nbformat_minor": 2
}
