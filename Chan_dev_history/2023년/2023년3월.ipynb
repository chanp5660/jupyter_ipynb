{
 "cells": [
  {
   "attachments": {},
   "cell_type": "markdown",
   "metadata": {},
   "source": [
    "---  \n",
    "layout: post  \n",
    "current: post  \n",
    "cover:  assets/built/images/chan_dev_history.png  \n",
    "navigation: True  \n",
    "title: 자기 개발 기록 (2023년3월)   \n",
    "date: 2023-04-22 00:00:00 +0900  \n",
    "tags: [Chan_dev_history]  \n",
    "class: post-template  \n",
    "subclass: 'post tag-python'  \n",
    "author: chanp5660  \n",
    "---  \n",
    " "
   ]
  },
  {
   "attachments": {},
   "cell_type": "markdown",
   "metadata": {},
   "source": [
    "# 자기 개발 기록 (2023년3월)\n",
    "\n",
    "## 목적\n",
    "> 자기 개발 기록을 통해 성과, 반성, 배울 점을 얻고 성장할 수 있도록 합니다."
   ]
  },
  {
   "attachments": {},
   "cell_type": "markdown",
   "metadata": {},
   "source": [
    "## 1주차 2023년 2월 27일\n",
    "> 스터디카페, 면접, 문자열뒤집기, 문자열 압축, 문자열처리, 모듈_라이브러리_프레임워크, factions Fraction, math gcd, 깊이우선탐색, 너비우선탐색, 문자열매칭, 문자열비교, 문자열에서 숫자 추출, 문자열 회전, 분수의 덧셈, 버블정렬, 삽입정렬, 최빈값 구하기, Hash, 선택정렬, 선형회귀, 병합정렬, ChatGPT, ChatGPT(python), Notion, Slack, 공공데이터, 추천시스템 필터링\n",
    "\n",
    "<details>\n",
    "<summary><span style=\"color:blue;font-weight:bold\" >여기를 클릭하여 펼치기...</span></summary>\n",
    "<div markdown=\"1\">\n",
    "- 스터디카페\n",
    "    - 현재 사는 곳 지하에 자리 넓고 노트북 치기에도 부담되지 않은 음아존이 있는 스터디카페가 있어서 정액권을 끊고 공부를 했습니다.\n",
    "- 면접\n",
    "    - 준비는 부족하지만 어떤 준비를 해야하는지 알기 위해서 면접을 통해 질문을 받고 해당 질문을 기록하여 다음 면접을 대비했습니다.\n",
    "- 알고리즘(코딩테스트)(블로그포스팅)\n",
    "    - 문자열뒤집기, 문자열 압축, 문자열처리, 깊이우선탐색, 너비우선탐색, 문자열매칭, 문자열비교, 문자열에서 숫자 추출, 문자열 회전, 분수의 덧셈, 버블정렬, 삽입정렬, 최빈값 구하기, Hash, 선택정렬, 선형회귀, 병합정렬\n",
    "- Python(블로그포스팅)\n",
    "    - factions Fraction, math gcd\n",
    "- ChatGPT, ChatGPT(python) (블로그포스팅)\n",
    "- Notion(블로그포스팅)\n",
    "- Slack(블로그포스팅)\n",
    "- 공공데이터(블로그포스팅)\n",
    "- 추천시스템 필터링(블로그포스팅) \n",
    "\n",
    "---\n",
    "</div>\n",
    "</details>"
   ]
  },
  {
   "attachments": {},
   "cell_type": "markdown",
   "metadata": {},
   "source": [
    "## 2주차 2023년 3월 6일\n",
    "> HTML 토글 설정, HTML 페이지 내 이동, XGBoosting, HTML DataFrame 출력 조절, Python Warning 무시, 파이썬에서 파일경로 찾기, GradientDescent, HTML입력, Kaggle, Attention, SVD, whiten, 메타인지, KMeanscluster, FinanceDataReader, 코스피코스닥, 순서정하기, 주식투자-수집, 주식 투자\n",
    "\n",
    "<details>\n",
    "<summary><span style=\"color:blue;font-weight:bold\" >여기를 클릭하여 펼치기...</span></summary>\n",
    "<div markdown=\"1\">\n",
    "- HTML(블로그포스팅)\n",
    "    - HTML 토글 설정, HTML 페이지 내 이동, HTML DataFrame 출력 조절, HTML 입력\n",
    "- 머신러닝(블로그포스팅)\n",
    "    - XGBoosting, Attention, SVD, GradientDescent, whiten, KMeanscluster\n",
    "- Python Warning 무시(블로그포스팅)\n",
    "- 파이썬에서 파일경로 찾기(블로그포스팅)\n",
    "- Kaggle(블로그포스팅)\n",
    "- 토이프로젝트(블로그포스팅)\n",
    "    - 주식 투자, 주식투자-수집, 코스피코스닥, FinanceDataReader\n",
    "- 코딩테스트(블로그포스팅)\n",
    "- 순서정하기 \n",
    "\n",
    "---\n",
    "</div>\n",
    "</details>"
   ]
  },
  {
   "attachments": {},
   "cell_type": "markdown",
   "metadata": {},
   "source": [
    "## 3주차 2023년 3월 13일 \n",
    "> 이력 신청 가능 회사, Stop Words, TF-IDF, PyMySQL \n",
    "\n",
    "<details>\n",
    "<summary><span style=\"color:blue;font-weight:bold\" >여기를 클릭하여 펼치기...</span></summary>\n",
    "<div markdown=\"1\">\n",
    "- 이력 신청 가능 회사에 대해 공부를 하면서 요즘 어떤 회사들이 있고 어떤 아이템들이 존재하고 위치는 어디쪽에 모여있는 등의 회사 정보들을 얻었습니다. (블로그포스팅)\n",
    "    - 디메타\n",
    "- Stop Words(블로그포스팅)\n",
    "- TF-IDF(블로그포스팅)\n",
    "- PyMySQL(블로그포스팅) \n",
    "\n",
    "\n",
    "---\n",
    "</div>\n",
    "</details>"
   ]
  },
  {
   "attachments": {},
   "cell_type": "markdown",
   "metadata": {},
   "source": [
    "## 4주차 2023년 3월 20일 \n",
    "> 날짜시간(Pandas), 날짜시간(datetime), 청년주거정책\n",
    "\n",
    "<details>\n",
    "<summary><span style=\"color:blue;font-weight:bold\" >여기를 클릭하여 펼치기...</span></summary>\n",
    "<div markdown=\"1\">\n",
    "- 청년주거정책(블로그포스팅)\n",
    "    - 서울에 살려면 집을 구하려면 필요한 정보입니다.\n",
    "- 날짜시간(블로그포스팅)\n",
    "    - Pandas\n",
    "    - datetime  \n",
    "    \n",
    "---\n",
    "</div>\n",
    "</details>"
   ]
  }
 ],
 "metadata": {
  "language_info": {
   "name": "python"
  },
  "orig_nbformat": 4
 },
 "nbformat": 4,
 "nbformat_minor": 2
}
