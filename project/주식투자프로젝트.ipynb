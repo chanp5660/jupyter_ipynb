{
 "cells": [
  {
   "cell_type": "markdown",
   "id": "71357a17-dbf5-4371-815e-1d1a6e56dda6",
   "metadata": {
    "tags": []
   },
   "source": [
    "---\n",
    "layout: post  \n",
    "current: post  \n",
    "cover:  assets/built/images/주식투자.png  \n",
    "navigation: True  \n",
    "title: 주식 투자   \n",
    "date: 2023-03-12 00:00:00 +0900  \n",
    "tags: [project]  \n",
    "class: post-template  \n",
    "subclass: 'post tag-python'  \n",
    "author: chanp5660  \n",
    "---\n"
   ]
  },
  {
   "cell_type": "markdown",
   "id": "e1d79146-db2f-4990-af6e-13a61f8ee863",
   "metadata": {},
   "source": [
    "# 주식 투자 정보 프로젝트"
   ]
  },
  {
   "cell_type": "markdown",
   "id": "f46984a8-7ca9-45fa-ba3e-3c5cc15e068a",
   "metadata": {},
   "source": [
    "## 목표\n",
    "\n",
    "> **주식 랜덤성**이 있고 참고해야할 사항이 많으므로 **투자 정보**를 **개인의 성향에 맞게 제공**하는 것으로 목표로 하고 있습니다.\n",
    "\n",
    "## 대상\n",
    "\n",
    "> 정확한 주식 예측이 아닌 투자 정보를 제공하는 것을 목적으로 하고 있기 때문에 대상은 **어느 정도 주식을 아는 사람**입니다.\n",
    "\n",
    "## 서비스 예상\n",
    "\n",
    "> 필요한 정보들(기술적 분석, 재무정보, 경제 지표, 기타 외부요인)을 한 곳에서 볼 수 있도록 정보를 제공합니다."
   ]
  },
  {
   "cell_type": "markdown",
   "id": "ff13a68f-3d0e-4292-abe1-e6506cc51376",
   "metadata": {},
   "source": [
    "---"
   ]
  },
  {
   "cell_type": "markdown",
   "id": "4d7d5cf2-a598-431c-bcb4-ecf0341982e4",
   "metadata": {},
   "source": [
    "## 주식 투자 정보 제공\n",
    "- 세미 프로젝트로 나누어 서비스를 배포합니다.\n",
    "- 수집 : api 이용 ( [python 라이브러리 존재] )\n",
    "- 분석 : 필요한 설명변수가 무엇인지 파악 ( 영향을 미치는 변수들 파악 )"
   ]
  },
  {
   "cell_type": "markdown",
   "id": "4b5db3c1-7714-4065-a30d-7c840b37592d",
   "metadata": {},
   "source": [
    "## 세미 프로젝트1 [ 가격이 오름세인가 내림세인가? ]\n",
    "1. 데이터\n",
    "    - 기술적 분석\n",
    "        - 주가 그래프\n",
    "        - 거래량\n",
    "        - 이동평균선\n",
    "1. 이진 분류(오름세, 내림세) : 가격 데이터를 기반으로 오름세 판단\n",
    "2. 회귀 분석 : 실제로는 회귀분석으로 돌아간다. (아직 속성이 하나이기 때문에 결정트리로만 파악하기 어렵다.)\n",
    "3. 기간 : 1주일, 한달, 주기로 판단\n",
    "4. 분야 : 오름세가 포함되어 있는 분야로 넓혀서 판단"
   ]
  },
  {
   "cell_type": "markdown",
   "id": "2d32131d-689f-45d7-9139-daafdd4493dc",
   "metadata": {},
   "source": [
    "## 세미 프로젝트2 [ 오름세 상세 예측 ]\n",
    "1. 데이터\n",
    "    - 회사의 재무정보 [전자공시시스템 링크](https://dart.fss.or.kr/main.do)\n",
    "        - 수익성 지표\n",
    "        - 재무 건정성 지표\n",
    "        - 성장성 지표\n",
    "    - 경제 지표\n",
    "        - 금리\n",
    "        - 인플레이션\n",
    "        - 실업률\n",
    "    - 기타 외부요인\n",
    "        - 경영진 변경\n",
    "        - 정책 변화\n",
    "        - 시장 변화\n",
    "2. 회귀분석 : 오름세로 판단된 품목에 대해 상세 분석\n",
    "3. 재무재표 등 데이터를 추가하여 판단할 수 있는 방법을 추가 "
   ]
  },
  {
   "cell_type": "markdown",
   "id": "887456a0-d395-4cd9-a8c2-dec4c631c376",
   "metadata": {},
   "source": [
    "## 세미 프로젝트3 [ 확률 수치 제공 ]\n",
    "    1. 분류(추천) : 확률의 순서대로 제공"
   ]
  },
  {
   "cell_type": "markdown",
   "id": "129485de-21f1-4c97-9155-a0d17ec98796",
   "metadata": {},
   "source": [
    "---\n",
    "메모\n",
    "\n",
    "- 개인의 성향은 변동성을 3단계로 나누어 매개변수를 조절하여 나타냅니다."
   ]
  }
 ],
 "metadata": {
  "kernelspec": {
   "display_name": "Python 3 (ipykernel)",
   "language": "python",
   "name": "python3"
  },
  "language_info": {
   "codemirror_mode": {
    "name": "ipython",
    "version": 3
   },
   "file_extension": ".py",
   "mimetype": "text/x-python",
   "name": "python",
   "nbconvert_exporter": "python",
   "pygments_lexer": "ipython3",
   "version": "3.7.13"
  }
 },
 "nbformat": 4,
 "nbformat_minor": 5
}
