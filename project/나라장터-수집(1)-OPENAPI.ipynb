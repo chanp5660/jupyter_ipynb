{
 "cells": [
  {
   "cell_type": "markdown",
   "id": "0d73b45f-1790-45bd-90a4-673716b79cde",
   "metadata": {
    "tags": []
   },
   "source": [
    "---\n",
    "layout: post  \n",
    "current: post  \n",
    "cover:  assets/built/images/python-logo.png  \n",
    "navigation: True  \n",
    "title: 나라장터-수집(1)-OPENAPI    \n",
    "date: 2022-07-25 23:43:00 +0900  \n",
    "tags: [project]  \n",
    "class: post-template  \n",
    "subclass: 'post tag-python'  \n",
    "author: chanp5660  \n",
    "---\n",
    "\n",
    "{% include Narasangtu-table-of-contents.html %}"
   ]
  },
  {
   "cell_type": "markdown",
   "id": "1a57b0fe-4147-432f-9e6c-f6648c58dfe4",
   "metadata": {},
   "source": [
    "# 나라장터-수집(1)-OPENAPI\n",
    "\n",
    "> 나라장터에의 낙찰하는 분석을 하게 되는 상황이 생겼는데 통계, 컴공으로서 근거 없는 찍는 것을 믿지 못하고 찍신이 아닌 나 자신을 믿을 수가 없었다. 따라서 이때다 싶어 나라장터 분석 및 예측을 해보기로 했다."
   ]
  },
  {
   "cell_type": "markdown",
   "id": "d9fa7976-d33b-4d0a-9a91-004bacc596d3",
   "metadata": {},
   "source": [
    "## 공공데이터포털 OPENAPI 활용신청\n",
    "\n",
    "- [공공데이터포털 사이트](https://www.data.go.kr/index.do)"
   ]
  },
  {
   "cell_type": "markdown",
   "id": "3d711aed-688f-4e70-a227-c91789813e45",
   "metadata": {},
   "source": [
    "<img src=\"https://user-images.githubusercontent.com/46266247/180806602-701bcead-48f9-44d7-adce-22cf48411c07.png\" width=\"90%\">"
   ]
  },
  {
   "cell_type": "markdown",
   "id": "47aa88e1-f33f-4ff3-912f-555f0c3463ee",
   "metadata": {},
   "source": [
    "- 검색어 : [조달청_나라장터 공공데이터개방표준서비스](https://www.data.go.kr/data/15058815/openapi.do)"
   ]
  },
  {
   "cell_type": "markdown",
   "id": "b72c9087-29eb-476d-a10d-cb183ccd8827",
   "metadata": {},
   "source": [
    "<img src=\"https://user-images.githubusercontent.com/46266247/180806928-08bff0b0-7068-44c2-adc2-a80103d3b828.png\" width=\"100%\">"
   ]
  },
  {
   "cell_type": "markdown",
   "id": "b4731e31-b519-414a-b458-a907a243e73b",
   "metadata": {},
   "source": [
    "- 활용신청 : 안에 내용은 본인의 의도에 맞게 적어 제출하면 등록이 되어 사용가능하다.(바로 사용이 안되면 어느정도 기다렸다가 하면된다.) 다른 데이터는 기관에서 인증을 해주고 나서 해주는 경우도 있다.\n",
    "\n",
    "- 참고문서 : open API 사용법 및 입출력 코드와 설명"
   ]
  },
  {
   "cell_type": "markdown",
   "id": "64ee5bf9-32ba-45bf-8b0d-85092ef93d84",
   "metadata": {},
   "source": [
    "<img src=\"https://user-images.githubusercontent.com/46266247/180846098-3a7ad05d-620e-4b76-95ce-4f26faae64c7.png\" width=\"90%\">"
   ]
  },
  {
   "cell_type": "markdown",
   "id": "407e7b38-b0d3-4f41-b2b5-eb0dcfa0bd59",
   "metadata": {},
   "source": [
    "## OPENAPI URL 만들기"
   ]
  },
  {
   "cell_type": "markdown",
   "id": "a208f159-5f6e-47ce-befa-595f778df258",
   "metadata": {},
   "source": [
    "```python\n",
    "EndPoint = \"http://apis.data.go.kr/1230000/PubDataOpnStdService\"\n",
    "\n",
    "ServiceKey =\"\" # 공공데이터포털에서 받은 인코딩 인증키\n",
    "\n",
    "PageNo = 1 # 페이지번호\n",
    "NumOfRows = 100 # 한 페이지 결과 수\n",
    "Datatype = \"json\" # 오픈API 리턴 타입을 JSON으로 받고 싶을 경우 'json' 으로 지정함\n",
    "bidNtceBgnDt = 202207240000 # 검색하고자하는 입찰공고일시범위 시작 'YYYYMMDDHHMM' (입찰공고일시 범위는 1개월 로 제한)\n",
    "bidNtceEndDt = 202207312359 # 검색하고자하는 입찰공고일시범위 종료 'YYYYMMDDHHMM' (입찰공고일시 범위는 1개월 로 제한)\n",
    "\n",
    "def Info_Version(info_version) : # 데이터셋 개방표준에 따른 입찰공고정보\n",
    "    if info_version == \"입찰\":\n",
    "        return \"getDataSetOpnStdBidPblancInfo\"\n",
    "    elif info_version == \"낙찰\":\n",
    "        return \"getDataSetOpnStdScsbidInfo\"\n",
    "    else : # 계약\n",
    "        return \"getDataSetOpnStdCntrctInfo\"    \n",
    "```"
   ]
  },
  {
   "cell_type": "markdown",
   "id": "b3bb792e-4937-4c74-8971-826244067985",
   "metadata": {},
   "source": [
    "- 테스트 : 결과물로 나오는 URL을 클릭하면 json 파일이 열린다."
   ]
  },
  {
   "cell_type": "markdown",
   "id": "601f8e2e-7bf4-4ca7-a3af-3e86dcbeb74a",
   "metadata": {},
   "source": [
    "```python\n",
    "info_version = \"입찰\"\n",
    "URL = f\"{EndPoint}/{Info_Version(info_version)}?numOfRows={NumOfRows}&pageNo={PageNo}&bidNtceBgnDt={bidNtceBgnDt}&bidNtceEndDt={bidNtceEndDt}&ServiceKey={ServiceKey}&type={Datatype}\"\n",
    "```"
   ]
  },
  {
   "cell_type": "markdown",
   "id": "da55b7e5-1fb0-48f6-a9f2-b91f03ba155b",
   "metadata": {},
   "source": [
    "<img src=\"https://user-images.githubusercontent.com/46266247/180835139-bbcbf0a5-d7b1-4f94-b60c-b5e250625e16.png\" width=\"40%\">"
   ]
  },
  {
   "cell_type": "markdown",
   "id": "a263f719-c1dc-49d9-932d-177caa1aae0c",
   "metadata": {},
   "source": [
    "## 데이터 수집 코드\n",
    "\n",
    "- 본 블로그는 투찰가능업종명 : 산림사업법인(숲가꾸기 및 병해충방제), 산림사업법인(도시숲등 조성, 관리) 관련으로 분석 및 예측한다."
   ]
  },
  {
   "cell_type": "code",
   "execution_count": 1,
   "id": "5ef265a2-28a4-4b44-863f-83031fb5b10c",
   "metadata": {},
   "outputs": [],
   "source": [
    "import requests\n",
    "import pandas as pd\n",
    "import datetime   \n",
    "    \n",
    "def Get_Bid_df(info_version, bidNtceBgnDt, bidNtceEndDt, ServiceKey): # 원하는 기간, 버전에 따른 공고정보 얻기\n",
    "    \n",
    "    # default setting\n",
    "    PageNo = 1 # 페이지번호\n",
    "    NumOfRows = 999 # 한 페이지 결과 수 , 최대 999개 이다.\n",
    "    EndPoint = \"http://apis.data.go.kr/1230000/PubDataOpnStdService\"\n",
    "    Datatype = \"json\" # 오픈API 리턴 타입을 JSON으로 받고 싶을 경우 'json' 으로 지정함\n",
    "    \n",
    "    if info_version == \"입찰\": # 데이터셋 개방표준에 따른 입찰공고정보\n",
    "        info_version_text = \"getDataSetOpnStdBidPblancInfo\"\n",
    "    elif info_version == \"낙찰\":\n",
    "        info_version_text = \"getDataSetOpnStdScsbidInfo\"\n",
    "    else : # 계약\n",
    "        info_version_text = \"getDataSetOpnStdCntrctInfo\"\n",
    "    \n",
    "    \n",
    "    Bid_df =pd.DataFrame()\n",
    "    nnn = 0\n",
    "    while True:\n",
    "        URL = f\"{EndPoint}/{info_version_text}?numOfRows={NumOfRows}&pageNo={PageNo}&bidNtceBgnDt={bidNtceBgnDt}&bidNtceEndDt={bidNtceEndDt}&ServiceKey={ServiceKey}&type={Datatype}\"\n",
    "        response = requests.get(URL)\n",
    "        \n",
    "        # 총 데이터 개수\n",
    "        TotalCount = response.json()[\"response\"][\"body\"][\"totalCount\"]\n",
    "\n",
    "        # 나라장터 입찰공고 DataFrame 생성\n",
    "        bid_df = pd.DataFrame(response.json()[\"response\"][\"body\"][\"items\"])\n",
    "        \n",
    "        # 읽은 데이터의 개수를 확인해서 데이터의 끝인지 확인\n",
    "        if len(bid_df) == 0 : break\n",
    "        \n",
    "        # 목적에 필요한 열을 가져온다. 다운받은 참고문헌을 참조한다.\n",
    "        # 본인의 목적에 따라 수정해야할 부분\n",
    "        bid_df = bid_df.loc[:,[\"bidNtceNm\",\"bidBeginDate\",\"bidBeginTm\",\"bidClseDate\",\"bidClseTm\",\"opengDate\",\"opengTm\",\"asignBdgtAmt\",\"presmptPrce\",\"rgnLmtYn\",\"prtcptPsblRgnNm\",\"bidprcPsblIndstrytyNm\"]]\n",
    "        bid_df = bid_df.rename( columns  = {\"bidNtceNm\":\"입찰공고명\",\"bidBeginDate\":\"입찰개시일자\",\"bidBeginTm\":\"입찰개시시각\",\"bidClseDate\":\"입찰마감일자\",\"bidClseTm\":\"입찰마감시각\",\"opengDate\":\"개찰일자\",\"opengTm\":\"개찰시각\",\"asignBdgtAmt\":\"배정예산금액(설계금액)\",\"presmptPrce\":\"추정가격\",\"rgnLmtYn\":\"지역제한여부\",\"prtcptPsblRgnNm\":\"참가가능지역명\",\"bidprcPsblIndstrytyNm\":\"투찰가능업종명\"})\n",
    "\n",
    "        # 데이터 프레임 병합\n",
    "        Bid_df = pd.concat([Bid_df,bid_df],axis=0)\n",
    "        Bid_df.reset_index(drop=True,inplace=True)\n",
    "\n",
    "        # 페이지 증가\n",
    "        PageNo=str(int(PageNo)+1)\n",
    "    \n",
    "    print(\"----------------------------------\")\n",
    "    print(f\"{info_version} \\n{str(bidNtceBgnDt)[:4]}년 {str(bidNtceBgnDt)[4:6]}월 {str(bidNtceBgnDt)[6:8]}일 - {str(bidNtceEndDt)[:4]}년 {str(bidNtceEndDt)[4:6]}월 {str(bidNtceEndDt)[6:8]}일\")\n",
    "    print(\"----------------------------------\")\n",
    "    \n",
    "    return Bid_df"
   ]
  },
  {
   "cell_type": "code",
   "execution_count": 2,
   "id": "a4073ba5-01e9-4867-bb7b-268fa12c201b",
   "metadata": {},
   "outputs": [],
   "source": [
    "ServiceKey =\"\" # 공공데이터포털에서 받은 인코딩 인증키"
   ]
  },
  {
   "cell_type": "code",
   "execution_count": null,
   "id": "20587252-17e5-4f32-90db-85d1929f74ac",
   "metadata": {},
   "outputs": [],
   "source": [
    "bidNtceBgnDt = 202207260000 # 검색하고자하는 입찰공고일시범위 시작 'YYYYMMDDHHMM' (입찰공고일시 범위는 1개월 로 제한)\n",
    "bidNtceEndDt = 202207312359 # 검색하고자하는 입찰공고일시범위 종료 'YYYYMMDDHHMM' (입찰공고일시 범위는 1개월 로 제한)\n",
    "info_version = \"입찰\"\n",
    "\n",
    "Bid_df = Get_Bid_df(info_version, bidNtceBgnDt, bidNtceEndDt, ServiceKey)"
   ]
  },
  {
   "cell_type": "code",
   "execution_count": null,
   "id": "c7a63d08-b43a-4952-9a53-f4a420f93d72",
   "metadata": {},
   "outputs": [],
   "source": [
    "display(Bid_df.head())"
   ]
  },
  {
   "cell_type": "markdown",
   "id": "b3b6a52c-e809-4404-bb1d-14eb14eaeee1",
   "metadata": {},
   "source": [
    "<img src=\"https://user-images.githubusercontent.com/46266247/181279412-902768c0-7770-4e55-86e6-bbb1c1ba8256.png\" width=\"100%\">"
   ]
  },
  {
   "cell_type": "code",
   "execution_count": 42,
   "id": "5fe5fe81-9671-4e67-a13b-01593d74ac7c",
   "metadata": {},
   "outputs": [],
   "source": [
    "Savefile_path = \"./2022-07-25-나라장터-수집(1)-OPENAPI\" # 저장할 파일 경로\n",
    "Bid_df.to_csv(f\"{Savefile_path}/{info_version}_{bidNtceBgnDt}_{bidNtceEndDt}.csv\",index=False, encoding=\"cp949\") # 인덱스를 없애고 저장한다."
   ]
  },
  {
   "cell_type": "markdown",
   "id": "631eeaf2-74ff-4901-be14-adf128d4f959",
   "metadata": {},
   "source": [
    "<img src=\"https://user-images.githubusercontent.com/46266247/181279690-3d7e4c0a-8c10-47df-a4ce-126951cf5bec.png\" width=\"100%\">"
   ]
  },
  {
   "cell_type": "markdown",
   "id": "8e973608-9211-4cbf-bfa5-b55dfe1f00cd",
   "metadata": {},
   "source": [
    "---\n",
    "# 입찰공고 확인_v2\n",
    "\n",
    "- 매일 본인의 목적에 필요한 공고만 확인하기 위한 필터\n",
    "\n",
    "- 투찰가능업종명, 기간, 참가가능지역, 지역제한 을 기준으로 적용\n",
    "    - 투찰가능업종명 : \"산림사업법인(숲가꾸기 및 병해충방제)\", \"산림사업법인(도시숲등 조성, 관리)\"\n",
    "    - 참가가능지역명 : \"고흥\", \"보성\", \"장흥\", \"여수\", \"순천\"\n",
    "    - 기간 : 프로그램 실행시에 입찰 가능한 공고가 있을 시, 크롤링 기간은 29일 전까지의 기간으로 한다."
   ]
  },
  {
   "cell_type": "code",
   "execution_count": 3,
   "id": "5324acea-4e30-491a-9a86-00248624c116",
   "metadata": {},
   "outputs": [
    {
     "name": "stdout",
     "output_type": "stream",
     "text": [
      "----------------------------------\n",
      "입찰 \n",
      "2022년 08월 01일 - 2022년 08월 04일\n",
      "----------------------------------\n"
     ]
    }
   ],
   "source": [
    "# 기간 : 프로그램 실행시에 입찰 가능한 공고가 있을 시,YYYYMMDDHHMM 형식으로 변환\n",
    "bidNtceBgnDt = datetime.datetime.now()-datetime.timedelta(days=3)\n",
    "bidNtceBgnDt = int(bidNtceBgnDt.strftime(\"%Y%m%d%H%M\")) # 검색하고자하는 입찰공고일시범위 시작 'YYYYMMDDHHMM' (입찰공고일시 범위는 1개월 로 제한)\n",
    "bidNtceEndDt = int(datetime.datetime.now().strftime(\"%Y%m%d%H%M\")) # 검색하고자하는 입찰공고일시범위 종료 'YYYYMMDDHHMM' (입찰공고일시 범위는 1개월 로 제한)\n",
    "\n",
    "info_version = \"입찰\"\n",
    "\n",
    "Bid_df = Get_Bid_df(info_version, bidNtceBgnDt, bidNtceEndDt, ServiceKey)"
   ]
  },
  {
   "cell_type": "code",
   "execution_count": 4,
   "id": "0bd2c6f5-243d-40b1-888c-4b5fc50cc679",
   "metadata": {},
   "outputs": [],
   "source": [
    "# 투찰가능업종명 : [\"산림사업법인(숲가꾸기 및 병해충방제)\", \"산림사업법인(도시숲등 조성, 관리)\"]\n",
    "Active_name = [\"산림사업법인(숲가꾸기 및 병해충방제)\", \"산림사업법인(도시숲등 조성, 관리)\"]\n",
    "\n",
    "# 참가가능지역명 : 고흥\n",
    "Active_local = [\"고흥\"\"순천\"]\n",
    "\n",
    "def Filter(Bid_df, bidNtceEndDt, Active_name, Active_local):\n",
    "    # Active_date_list : 입찰 마감 기간에 프로그램 실행 후에 있는지 확인 \"입찰마감일자\", \"입찰마감시각\"\n",
    "    Active_date_list = []\n",
    "    for i in range(len(Bid_df)):\n",
    "        Active_date_list.append(Bid_df.loc[i,\"입찰마감일자\"].replace(\"-\",\"\")+Bid_df.loc[i,\"입찰마감시각\"].replace(\":\",\"\")>=str(bidNtceEndDt))\n",
    "    Bid_df = Bid_df.loc[Active_date_list,:].reset_index(drop=True)\n",
    "            \n",
    "    # Active_name : 투찰가능업종명 제한\n",
    "    Active_name_list = []\n",
    "\n",
    "    for Check_name in Bid_df[\"투찰가능업종명\"]:\n",
    "        if [1 for x in Active_name if x in Check_name]:\n",
    "            Active_name_list.append(True)\n",
    "        else:\n",
    "            Active_name_list.append(False)\n",
    "    Bid_df = Bid_df.loc[Active_name_list,:].reset_index(drop=True)        \n",
    "    \n",
    "    \n",
    "    # Active_local : 참가가능지역명\n",
    "    Active_local_list = []\n",
    "\n",
    "    for Check_local in Bid_df[\"참가가능지역명\"]:\n",
    "        if [1 for x in Active_local if x in Check_local]:\n",
    "            Active_local_list.append(True)\n",
    "        else:\n",
    "            Active_local_list.append(False)\n",
    "    Bid_df = Bid_df.loc[Active_local_list,:].reset_index(drop=True)\n",
    "    \n",
    "    return Bid_df"
   ]
  },
  {
   "cell_type": "code",
   "execution_count": 12,
   "id": "00e5cc4a-ddb5-418d-a887-3fae793c13ba",
   "metadata": {},
   "outputs": [],
   "source": [
    "# 투찰가능업종명 : [\"산림사업법인(숲가꾸기 및 병해충방제)\", \"산림사업법인(도시숲등 조성, 관리)\"]\n",
    "Active_name = [\"산림사업법인(숲가꾸기 및 병해충방제)\", \"산림사업법인(도시숲등 조성, 관리)\", \"제작자\"]\n",
    "\n",
    "# 참가가능지역명 : 고흥\n",
    "Active_local = [\"고흥\", \"보성\", \"장흥\", \"여수\", \"순천\"]\n",
    "\n",
    "def Filter(Bid_df, bidNtceEndDt, Active_name, Active_local):\n",
    "    # Active_date_list : 입찰 마감 기간에 프로그램 실행 후에 있는지 확인 \"입찰마감일자\", \"입찰마감시각\"\n",
    "    Active_date_list = []\n",
    "    for i in range(len(Bid_df)):\n",
    "        Active_date_list.append(Bid_df.loc[i,\"입찰마감일자\"].replace(\"-\",\"\")+Bid_df.loc[i,\"입찰마감시각\"].replace(\":\",\"\")>=str(bidNtceEndDt))\n",
    "    Bid_df = Bid_df.loc[Active_date_list,:].reset_index(drop=True)\n",
    "            \n",
    "    # Active_name : 투찰가능업종명 제한\n",
    "    Active_name_list = []\n",
    "\n",
    "    for Check_name in Bid_df[\"투찰가능업종명\"]:\n",
    "        if [1 for x in Active_name if x in Check_name]:\n",
    "            Active_name_list.append(True)\n",
    "        else:\n",
    "            Active_name_list.append(False)\n",
    "    Bid_df = Bid_df.loc[Active_name_list,:].reset_index(drop=True)        \n",
    "    \n",
    "    \n",
    "    # Active_local : 참가가능지역명\n",
    "    Active_local_list = []\n",
    "\n",
    "    for Check_local in Bid_df[\"참가가능지역명\"]:\n",
    "        if [1 for x in Active_local if x in Check_local]:\n",
    "            Active_local_list.append(True)\n",
    "        else:\n",
    "            Active_local_list.append(False)\n",
    "    Bid_df = Bid_df.loc[Active_local_list,:].reset_index(drop=True)\n",
    "    \n",
    "    return Bid_df"
   ]
  },
  {
   "cell_type": "code",
   "execution_count": 5,
   "id": "c6345e9f-3c8e-4042-b2e5-b6f63e7ce6bc",
   "metadata": {},
   "outputs": [],
   "source": [
    "Bid_df_filter = Filter(Bid_df, bidNtceEndDt, Active_name, Active_local)"
   ]
  },
  {
   "cell_type": "code",
   "execution_count": null,
   "id": "1f10ae9a-b7c8-424a-a44d-6be7365d449e",
   "metadata": {},
   "outputs": [],
   "source": [
    "Bid_df_filter"
   ]
  },
  {
   "cell_type": "markdown",
   "id": "78d126c0-7299-42d9-9aa5-6cb31d67c756",
   "metadata": {},
   "source": [
    "<img src=\"https://user-images.githubusercontent.com/46266247/182018755-2a49395e-5f1c-4ea0-b3d7-9f5813f5ab9d.png\" width=\"100%\">"
   ]
  }
 ],
 "metadata": {
  "kernelspec": {
   "display_name": "Python 3 (ipykernel)",
   "language": "python",
   "name": "python3"
  },
  "language_info": {
   "codemirror_mode": {
    "name": "ipython",
    "version": 3
   },
   "file_extension": ".py",
   "mimetype": "text/x-python",
   "name": "python",
   "nbconvert_exporter": "python",
   "pygments_lexer": "ipython3",
   "version": "3.7.13"
  }
 },
 "nbformat": 4,
 "nbformat_minor": 5
}
