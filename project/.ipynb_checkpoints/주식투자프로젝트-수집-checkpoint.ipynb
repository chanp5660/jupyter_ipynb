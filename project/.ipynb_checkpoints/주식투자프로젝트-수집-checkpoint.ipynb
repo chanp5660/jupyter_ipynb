{
 "cells": [
  {
   "cell_type": "markdown",
   "id": "b2585d7a-26f1-49f0-b7c5-f3922ef0f3d2",
   "metadata": {
    "tags": []
   },
   "source": [
    "---\n",
    "layout: post  \n",
    "current: post  \n",
    "cover:  assets/built/images/주식투자.png  \n",
    "navigation: True  \n",
    "title: 주식투자-수집   \n",
    "date: 2023-03-12 00:00:00 +0900  \n",
    "tags: [project]  \n",
    "class: post-template  \n",
    "subclass: 'post tag-python'  \n",
    "author: chanp5660  \n",
    "---\n"
   ]
  },
  {
   "cell_type": "markdown",
   "id": "58d5be82-8653-4258-8a09-a1a2cee6175b",
   "metadata": {},
   "source": [
    "# 주식투자 프로젝트 수집\n",
    "\n",
    "> 주식투자 프로젝트에서 필요한 데이터를 수집합니다.  \n",
    "기술적 분석을 위한 데이터를 수집하는 것이므로 회사, 주가 그래프, 거래량을 수집합니다."
   ]
  },
  {
   "cell_type": "markdown",
   "id": "232ab362-d29e-4068-b991-8b94429c8d62",
   "metadata": {},
   "source": [
    "## 회사 선택; Select a Company\n",
    "\n",
    "> 삼성전자를 기준으로 진행합니다.  \n",
    "데이터의 수가 많을 것 같은 상장된지 시간이 오래된 회사를 선택했습니다.\n"
   ]
  },
  {
   "cell_type": "markdown",
   "id": "90847539-85ea-45d9-9100-5529ae1a0a0f",
   "metadata": {},
   "source": [
    "## 주가 그래프 수집; Stock Price Acquisition With Python\n",
    "\n",
    "> Python 라이브러리를 이용해서 선택한 회사에 대한 주가 그래프를 수집합니다."
   ]
  },
  {
   "cell_type": "markdown",
   "id": "4411d807-0b3b-400b-a86f-12126710a0dd",
   "metadata": {},
   "source": [
    "[FinanceDataReader 라이브러리 간단한 사용법](https://chanp5660.github.io//FinanceDataReader)"
   ]
  },
  {
   "cell_type": "markdown",
   "id": "7799e1d5-ae96-45d5-8247-f311ccc4c13e",
   "metadata": {},
   "source": [
    "라이브러리 로드"
   ]
  },
  {
   "cell_type": "code",
   "execution_count": 26,
   "id": "783549a4-61f2-4b40-85c2-494c1cf35b27",
   "metadata": {},
   "outputs": [
    {
     "name": "stdout",
     "output_type": "stream",
     "text": [
      "0.9.50\n"
     ]
    }
   ],
   "source": [
    "import matplotlib.pyplot as plt\n",
    "\n",
    "plt.rcParams['font.family'] = 'HYHeadLine-Medium'\n",
    "plt.rcParams['figure.figsize'] = (14,4)\n",
    "plt.rcParams['lines.linewidth'] = 2\n",
    "plt.rcParams['axes.grid'] = True\n",
    "\n",
    "plt.rcParams['axes.unicode_minus'] = False\n",
    "\n",
    "import FinanceDataReader as fdr\n",
    "print(fdr.__version__)"
   ]
  },
  {
   "cell_type": "markdown",
   "id": "619cba7a-8d39-4490-b93a-5f123be564e8",
   "metadata": {},
   "source": [
    "---\n",
    "한국거래소 상장종목 전체 KRX"
   ]
  },
  {
   "cell_type": "code",
   "execution_count": 5,
   "id": "f8d3195b-bfa9-4761-b343-12d0d83ad443",
   "metadata": {},
   "outputs": [
    {
     "name": "stdout",
     "output_type": "stream",
     "text": [
      "2707\n"
     ]
    }
   ],
   "source": [
    "df_krx = fdr.StockListing('KRX')\n",
    "print(len(df_krx))"
   ]
  },
  {
   "cell_type": "code",
   "execution_count": 6,
   "id": "441e6e35-5224-47d1-9b99-5745fc253463",
   "metadata": {},
   "outputs": [
    {
     "data": {
      "text/html": [
       "<div>\n",
       "<style scoped>\n",
       "    .dataframe tbody tr th:only-of-type {\n",
       "        vertical-align: middle;\n",
       "    }\n",
       "\n",
       "    .dataframe tbody tr th {\n",
       "        vertical-align: top;\n",
       "    }\n",
       "\n",
       "    .dataframe thead th {\n",
       "        text-align: right;\n",
       "    }\n",
       "</style>\n",
       "<table border=\"1\" class=\"dataframe\">\n",
       "  <thead>\n",
       "    <tr style=\"text-align: right;\">\n",
       "      <th></th>\n",
       "      <th>Code</th>\n",
       "      <th>ISU_CD</th>\n",
       "      <th>Name</th>\n",
       "      <th>Market</th>\n",
       "      <th>Dept</th>\n",
       "      <th>Close</th>\n",
       "      <th>ChangeCode</th>\n",
       "      <th>Changes</th>\n",
       "      <th>ChagesRatio</th>\n",
       "      <th>Open</th>\n",
       "      <th>High</th>\n",
       "      <th>Low</th>\n",
       "      <th>Volume</th>\n",
       "      <th>Amount</th>\n",
       "      <th>Marcap</th>\n",
       "      <th>Stocks</th>\n",
       "      <th>MarketId</th>\n",
       "    </tr>\n",
       "  </thead>\n",
       "  <tbody>\n",
       "    <tr>\n",
       "      <th>0</th>\n",
       "      <td>005930</td>\n",
       "      <td>KR7005930003</td>\n",
       "      <td>삼성전자</td>\n",
       "      <td>KOSPI</td>\n",
       "      <td></td>\n",
       "      <td>59900</td>\n",
       "      <td>1</td>\n",
       "      <td>100</td>\n",
       "      <td>0.17</td>\n",
       "      <td>59200</td>\n",
       "      <td>60200</td>\n",
       "      <td>59100</td>\n",
       "      <td>10611939</td>\n",
       "      <td>633331744600</td>\n",
       "      <td>357589974745000</td>\n",
       "      <td>5969782550</td>\n",
       "      <td>STK</td>\n",
       "    </tr>\n",
       "    <tr>\n",
       "      <th>1</th>\n",
       "      <td>373220</td>\n",
       "      <td>KR7373220003</td>\n",
       "      <td>LG에너지솔루션</td>\n",
       "      <td>KOSPI</td>\n",
       "      <td></td>\n",
       "      <td>576000</td>\n",
       "      <td>1</td>\n",
       "      <td>11000</td>\n",
       "      <td>1.95</td>\n",
       "      <td>561000</td>\n",
       "      <td>578000</td>\n",
       "      <td>558000</td>\n",
       "      <td>499942</td>\n",
       "      <td>285799756000</td>\n",
       "      <td>134784000000000</td>\n",
       "      <td>234000000</td>\n",
       "      <td>STK</td>\n",
       "    </tr>\n",
       "    <tr>\n",
       "      <th>2</th>\n",
       "      <td>000660</td>\n",
       "      <td>KR7000660001</td>\n",
       "      <td>SK하이닉스</td>\n",
       "      <td>KOSPI</td>\n",
       "      <td></td>\n",
       "      <td>79000</td>\n",
       "      <td>2</td>\n",
       "      <td>-100</td>\n",
       "      <td>-0.13</td>\n",
       "      <td>76700</td>\n",
       "      <td>80200</td>\n",
       "      <td>76700</td>\n",
       "      <td>4804196</td>\n",
       "      <td>379790459748</td>\n",
       "      <td>57512186835000</td>\n",
       "      <td>728002365</td>\n",
       "      <td>STK</td>\n",
       "    </tr>\n",
       "    <tr>\n",
       "      <th>3</th>\n",
       "      <td>207940</td>\n",
       "      <td>KR7207940008</td>\n",
       "      <td>삼성바이오로직스</td>\n",
       "      <td>KOSPI</td>\n",
       "      <td></td>\n",
       "      <td>790000</td>\n",
       "      <td>1</td>\n",
       "      <td>12000</td>\n",
       "      <td>1.54</td>\n",
       "      <td>772000</td>\n",
       "      <td>796000</td>\n",
       "      <td>771000</td>\n",
       "      <td>60191</td>\n",
       "      <td>47387536000</td>\n",
       "      <td>56227460000000</td>\n",
       "      <td>71174000</td>\n",
       "      <td>STK</td>\n",
       "    </tr>\n",
       "    <tr>\n",
       "      <th>4</th>\n",
       "      <td>051910</td>\n",
       "      <td>KR7051910008</td>\n",
       "      <td>LG화학</td>\n",
       "      <td>KOSPI</td>\n",
       "      <td></td>\n",
       "      <td>730000</td>\n",
       "      <td>1</td>\n",
       "      <td>9000</td>\n",
       "      <td>1.25</td>\n",
       "      <td>716000</td>\n",
       "      <td>731000</td>\n",
       "      <td>707000</td>\n",
       "      <td>224294</td>\n",
       "      <td>161777544800</td>\n",
       "      <td>51532410390000</td>\n",
       "      <td>70592343</td>\n",
       "      <td>STK</td>\n",
       "    </tr>\n",
       "  </tbody>\n",
       "</table>\n",
       "</div>"
      ],
      "text/plain": [
       "     Code        ISU_CD      Name Market Dept   Close ChangeCode  Changes  \\\n",
       "0  005930  KR7005930003      삼성전자  KOSPI        59900          1      100   \n",
       "1  373220  KR7373220003  LG에너지솔루션  KOSPI       576000          1    11000   \n",
       "2  000660  KR7000660001    SK하이닉스  KOSPI        79000          2     -100   \n",
       "3  207940  KR7207940008  삼성바이오로직스  KOSPI       790000          1    12000   \n",
       "4  051910  KR7051910008      LG화학  KOSPI       730000          1     9000   \n",
       "\n",
       "   ChagesRatio    Open    High     Low    Volume        Amount  \\\n",
       "0         0.17   59200   60200   59100  10611939  633331744600   \n",
       "1         1.95  561000  578000  558000    499942  285799756000   \n",
       "2        -0.13   76700   80200   76700   4804196  379790459748   \n",
       "3         1.54  772000  796000  771000     60191   47387536000   \n",
       "4         1.25  716000  731000  707000    224294  161777544800   \n",
       "\n",
       "            Marcap      Stocks MarketId  \n",
       "0  357589974745000  5969782550      STK  \n",
       "1  134784000000000   234000000      STK  \n",
       "2   57512186835000   728002365      STK  \n",
       "3   56227460000000    71174000      STK  \n",
       "4   51532410390000    70592343      STK  "
      ]
     },
     "metadata": {},
     "output_type": "display_data"
    }
   ],
   "source": [
    "display(df_krx.head())"
   ]
  },
  {
   "cell_type": "markdown",
   "id": "37379c3c-4d37-4bce-93ce-037c207992c2",
   "metadata": {},
   "source": [
    "---\n",
    "삼성전자의 주가그래프 살펴보기\n",
    "- 변수 이름\n",
    "    - Open : 일일 시가 (시작 주가)\n",
    "    - High : 당일의 주가 최고점\n",
    "    - Low : 당일의 주가 최저점\n",
    "    - Close : 일일 종가 (마지막 주가)\n",
    "    - Vloumne : 거래량\n",
    "    - Change : 당일 가격변동\n",
    "        - 계산식 : (일일 종가 - 일일 시가) / 일일 시가 * 100"
   ]
  },
  {
   "cell_type": "code",
   "execution_count": 15,
   "id": "6bbe3308-25f9-4dea-8c8f-b50eae2fac07",
   "metadata": {},
   "outputs": [
    {
     "data": {
      "text/html": [
       "<div>\n",
       "<style scoped>\n",
       "    .dataframe tbody tr th:only-of-type {\n",
       "        vertical-align: middle;\n",
       "    }\n",
       "\n",
       "    .dataframe tbody tr th {\n",
       "        vertical-align: top;\n",
       "    }\n",
       "\n",
       "    .dataframe thead th {\n",
       "        text-align: right;\n",
       "    }\n",
       "</style>\n",
       "<table border=\"1\" class=\"dataframe\">\n",
       "  <thead>\n",
       "    <tr style=\"text-align: right;\">\n",
       "      <th></th>\n",
       "      <th>Open</th>\n",
       "      <th>High</th>\n",
       "      <th>Low</th>\n",
       "      <th>Close</th>\n",
       "      <th>Volume</th>\n",
       "      <th>Change</th>\n",
       "    </tr>\n",
       "    <tr>\n",
       "      <th>Date</th>\n",
       "      <th></th>\n",
       "      <th></th>\n",
       "      <th></th>\n",
       "      <th></th>\n",
       "      <th></th>\n",
       "      <th></th>\n",
       "    </tr>\n",
       "  </thead>\n",
       "  <tbody>\n",
       "    <tr>\n",
       "      <th>1998-11-28</th>\n",
       "      <td>1292</td>\n",
       "      <td>1321</td>\n",
       "      <td>1289</td>\n",
       "      <td>1318</td>\n",
       "      <td>264480</td>\n",
       "      <td>NaN</td>\n",
       "    </tr>\n",
       "    <tr>\n",
       "      <th>1998-11-30</th>\n",
       "      <td>1335</td>\n",
       "      <td>1335</td>\n",
       "      <td>1268</td>\n",
       "      <td>1276</td>\n",
       "      <td>320470</td>\n",
       "      <td>-0.031866</td>\n",
       "    </tr>\n",
       "    <tr>\n",
       "      <th>1998-12-01</th>\n",
       "      <td>1254</td>\n",
       "      <td>1254</td>\n",
       "      <td>1162</td>\n",
       "      <td>1197</td>\n",
       "      <td>877940</td>\n",
       "      <td>-0.061912</td>\n",
       "    </tr>\n",
       "    <tr>\n",
       "      <th>1998-12-02</th>\n",
       "      <td>1206</td>\n",
       "      <td>1225</td>\n",
       "      <td>1168</td>\n",
       "      <td>1226</td>\n",
       "      <td>531220</td>\n",
       "      <td>0.024227</td>\n",
       "    </tr>\n",
       "    <tr>\n",
       "      <th>1998-12-03</th>\n",
       "      <td>1260</td>\n",
       "      <td>1293</td>\n",
       "      <td>1227</td>\n",
       "      <td>1264</td>\n",
       "      <td>910940</td>\n",
       "      <td>0.030995</td>\n",
       "    </tr>\n",
       "  </tbody>\n",
       "</table>\n",
       "</div>"
      ],
      "text/plain": [
       "            Open  High   Low  Close  Volume    Change\n",
       "Date                                                 \n",
       "1998-11-28  1292  1321  1289   1318  264480       NaN\n",
       "1998-11-30  1335  1335  1268   1276  320470 -0.031866\n",
       "1998-12-01  1254  1254  1162   1197  877940 -0.061912\n",
       "1998-12-02  1206  1225  1168   1226  531220  0.024227\n",
       "1998-12-03  1260  1293  1227   1264  910940  0.030995"
      ]
     },
     "metadata": {},
     "output_type": "display_data"
    }
   ],
   "source": [
    "# 가독성이 좋게 코드 부분에 회사 이름을 적을 수 있도록 합니다.\n",
    "name_code_trans = {name:code for code,name in df_krx[['Code','Name']].values}\n",
    "df = fdr.DataReader(name_code_trans['삼성전자'])\n",
    "display(df.head())"
   ]
  },
  {
   "cell_type": "markdown",
   "id": "b2f12329-252a-4042-8dab-3534b2b5a296",
   "metadata": {},
   "source": [
    "---\n",
    "삼성전자, 2021년 "
   ]
  },
  {
   "cell_type": "code",
   "execution_count": 16,
   "id": "a5e6a688-694e-437f-8037-e07a55981399",
   "metadata": {},
   "outputs": [
    {
     "data": {
      "text/html": [
       "<div>\n",
       "<style scoped>\n",
       "    .dataframe tbody tr th:only-of-type {\n",
       "        vertical-align: middle;\n",
       "    }\n",
       "\n",
       "    .dataframe tbody tr th {\n",
       "        vertical-align: top;\n",
       "    }\n",
       "\n",
       "    .dataframe thead th {\n",
       "        text-align: right;\n",
       "    }\n",
       "</style>\n",
       "<table border=\"1\" class=\"dataframe\">\n",
       "  <thead>\n",
       "    <tr style=\"text-align: right;\">\n",
       "      <th></th>\n",
       "      <th>Open</th>\n",
       "      <th>High</th>\n",
       "      <th>Low</th>\n",
       "      <th>Close</th>\n",
       "      <th>Volume</th>\n",
       "      <th>Change</th>\n",
       "    </tr>\n",
       "    <tr>\n",
       "      <th>Date</th>\n",
       "      <th></th>\n",
       "      <th></th>\n",
       "      <th></th>\n",
       "      <th></th>\n",
       "      <th></th>\n",
       "      <th></th>\n",
       "    </tr>\n",
       "  </thead>\n",
       "  <tbody>\n",
       "    <tr>\n",
       "      <th>2021-01-04</th>\n",
       "      <td>81000</td>\n",
       "      <td>84400</td>\n",
       "      <td>80200</td>\n",
       "      <td>83000</td>\n",
       "      <td>38655276</td>\n",
       "      <td>0.024691</td>\n",
       "    </tr>\n",
       "    <tr>\n",
       "      <th>2021-01-05</th>\n",
       "      <td>81600</td>\n",
       "      <td>83900</td>\n",
       "      <td>81600</td>\n",
       "      <td>83900</td>\n",
       "      <td>35335669</td>\n",
       "      <td>0.010843</td>\n",
       "    </tr>\n",
       "    <tr>\n",
       "      <th>2021-01-06</th>\n",
       "      <td>83300</td>\n",
       "      <td>84500</td>\n",
       "      <td>82100</td>\n",
       "      <td>82200</td>\n",
       "      <td>42089013</td>\n",
       "      <td>-0.020262</td>\n",
       "    </tr>\n",
       "    <tr>\n",
       "      <th>2021-01-07</th>\n",
       "      <td>82800</td>\n",
       "      <td>84200</td>\n",
       "      <td>82700</td>\n",
       "      <td>82900</td>\n",
       "      <td>32644642</td>\n",
       "      <td>0.008516</td>\n",
       "    </tr>\n",
       "    <tr>\n",
       "      <th>2021-01-08</th>\n",
       "      <td>83300</td>\n",
       "      <td>90000</td>\n",
       "      <td>83000</td>\n",
       "      <td>88800</td>\n",
       "      <td>59013307</td>\n",
       "      <td>0.071170</td>\n",
       "    </tr>\n",
       "  </tbody>\n",
       "</table>\n",
       "</div>"
      ],
      "text/plain": [
       "             Open   High    Low  Close    Volume    Change\n",
       "Date                                                      \n",
       "2021-01-04  81000  84400  80200  83000  38655276  0.024691\n",
       "2021-01-05  81600  83900  81600  83900  35335669  0.010843\n",
       "2021-01-06  83300  84500  82100  82200  42089013 -0.020262\n",
       "2021-01-07  82800  84200  82700  82900  32644642  0.008516\n",
       "2021-01-08  83300  90000  83000  88800  59013307  0.071170"
      ]
     },
     "metadata": {},
     "output_type": "display_data"
    }
   ],
   "source": [
    "df = fdr.DataReader(name_code_trans['삼성전자'],'2021')\n",
    "display(df.head())"
   ]
  },
  {
   "cell_type": "markdown",
   "id": "d5ed51df-7d69-4578-8c84-84b5eea68ea3",
   "metadata": {},
   "source": [
    "---\n",
    "그래프로 표현하기"
   ]
  },
  {
   "cell_type": "code",
   "execution_count": null,
   "id": "e5f1e5ab-e94a-460c-9dc3-137de622b624",
   "metadata": {},
   "outputs": [],
   "source": [
    "df['Close'].plot()\n",
    "plt.show()"
   ]
  },
  {
   "cell_type": "markdown",
   "id": "56e26a7d-538f-47c8-a779-343346292778",
   "metadata": {},
   "source": [
    "<img src='https://user-images.githubusercontent.com/46266247/225679882-5e5767de-aec6-4668-a84c-7e2046c77202.png' width=\"100%\">"
   ]
  },
  {
   "cell_type": "code",
   "execution_count": null,
   "id": "ca967973-c299-4a91-8a91-99051e6fd697",
   "metadata": {},
   "outputs": [],
   "source": [
    "df['Open'].plot()\n",
    "plt.show()"
   ]
  },
  {
   "cell_type": "markdown",
   "id": "4a64a7e3-264e-4d9d-8319-c5f8d5c12329",
   "metadata": {},
   "source": [
    "<img src='https://user-images.githubusercontent.com/46266247/225679888-9d35c8a3-c7a1-426b-91ad-a9636e699c88.png' width=\"100%\">"
   ]
  },
  {
   "cell_type": "code",
   "execution_count": 27,
   "id": "8bfeca8b-b365-4339-b480-d7d54214c860",
   "metadata": {},
   "outputs": [
    {
     "data": {
      "image/png": "[encoded data removed]",
      "text/plain": [
       "<Figure size 1400x400 with 1 Axes>"
      ]
     },
     "metadata": {},
     "output_type": "display_data"
    }
   ],
   "source": [
    "df['Change'].plot()\n",
    "plt.show()"
   ]
  },
  {
   "cell_type": "markdown",
   "id": "93a0c81c-9bfa-428c-8db1-2da2d48dd7f3",
   "metadata": {},
   "source": [
    "궁금\n",
    "- 변동성(절대값으로 크기만 비교)과 거래량의 관계는?"
   ]
  }
 ],
 "metadata": {
  "kernelspec": {
   "display_name": "Python 3 (ipykernel)",
   "language": "python",
   "name": "python3"
  },
  "language_info": {
   "codemirror_mode": {
    "name": "ipython",
    "version": 3
   },
   "file_extension": ".py",
   "mimetype": "text/x-python",
   "name": "python",
   "nbconvert_exporter": "python",
   "pygments_lexer": "ipython3",
   "version": "3.7.13"
  }
 },
 "nbformat": 4,
 "nbformat_minor": 5
}
