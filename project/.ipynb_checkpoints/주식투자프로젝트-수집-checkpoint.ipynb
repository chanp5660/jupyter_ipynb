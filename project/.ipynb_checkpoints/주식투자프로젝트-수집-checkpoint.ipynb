{
 "cells": [
  {
   "cell_type": "markdown",
   "id": "b2585d7a-26f1-49f0-b7c5-f3922ef0f3d2",
   "metadata": {
    "tags": []
   },
   "source": [
    "---\n",
    "layout: post  \n",
    "current: post  \n",
    "cover:  assets/built/images/주식투자.png  \n",
    "navigation: True  \n",
    "title: 주식투자-수집   \n",
    "date: 2023-03-12 00:00:00 +0900  \n",
    "tags: [project]  \n",
    "class: post-template  \n",
    "subclass: 'post tag-python'  \n",
    "author: chanp5660  \n",
    "---\n"
   ]
  },
  {
   "cell_type": "markdown",
   "id": "58d5be82-8653-4258-8a09-a1a2cee6175b",
   "metadata": {},
   "source": [
    "# 주식투자 프로젝트 수집\n",
    "\n",
    "> 주식투자 프로젝트에서 필요한 데이터를 수집합니다.  \n",
    "기술적 분석을 위한 데이터를 수집하는 것이므로 회사, 주가 그래프, 거래량을 수집합니다."
   ]
  },
  {
   "cell_type": "markdown",
   "id": "232ab362-d29e-4068-b991-8b94429c8d62",
   "metadata": {},
   "source": [
    "## 회사 선택; Select a Company\n",
    "\n",
    "> 삼성전자를 기준으로 진행합니다.  \n",
    "데이터의 수가 많을 것 같은 상장된지 시간이 오래된 회사를 선택했습니다.\n"
   ]
  },
  {
   "cell_type": "markdown",
   "id": "90847539-85ea-45d9-9100-5529ae1a0a0f",
   "metadata": {},
   "source": [
    "## 주가 그래프 수집; Stock Price Acquisition With Python\n",
    "\n",
    "> Python 라이브러리를 이용해서 선택한 회사에 대한 주가 그래프를 수집합니다."
   ]
  },
  {
   "cell_type": "markdown",
   "id": "4411d807-0b3b-400b-a86f-12126710a0dd",
   "metadata": {},
   "source": [
    "[FinanceDataReader 라이브러리 간단한 사용법](https://chanp5660.github.io//FinanceDataReader)"
   ]
  },
  {
   "cell_type": "code",
   "execution_count": null,
   "id": "783549a4-61f2-4b40-85c2-494c1cf35b27",
   "metadata": {},
   "outputs": [],
   "source": []
  }
 ],
 "metadata": {
  "kernelspec": {
   "display_name": "Python 3 (ipykernel)",
   "language": "python",
   "name": "python3"
  },
  "language_info": {
   "codemirror_mode": {
    "name": "ipython",
    "version": 3
   },
   "file_extension": ".py",
   "mimetype": "text/x-python",
   "name": "python",
   "nbconvert_exporter": "python",
   "pygments_lexer": "ipython3",
   "version": "3.7.13"
  }
 },
 "nbformat": 4,
 "nbformat_minor": 5
}
