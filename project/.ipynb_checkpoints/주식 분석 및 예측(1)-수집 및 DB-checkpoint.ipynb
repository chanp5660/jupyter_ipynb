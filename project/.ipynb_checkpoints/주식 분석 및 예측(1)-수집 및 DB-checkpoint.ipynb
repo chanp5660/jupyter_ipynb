{
 "cells": [
  {
   "cell_type": "markdown",
   "id": "0b34561c-ad59-4596-8319-b66114e48067",
   "metadata": {
    "tags": []
   },
   "source": [
    "---\n",
    "layout: post  \n",
    "current: post  \n",
    "cover:  assets/built/images/python-logo.png  \n",
    "navigation: True  \n",
    "title: 주식 분석 및 예측(1)-수집 및 DB   \n",
    "date: 2022-07-18 20:00:00 +0900  \n",
    "tags: [project]  \n",
    "class: post-template  \n",
    "subclass: 'post tag-python'  \n",
    "author: chanp5660  \n",
    "---\n",
    "\n",
    "{% include Stock-table-of-contents.html %}"
   ]
  },
  {
   "cell_type": "markdown",
   "id": "42d7869d-8a5f-400a-b16d-6a568a6db414",
   "metadata": {},
   "source": [
    "# 주식 분석 및 예측(1)-수집 및 DB\n",
    "\n",
    "- 본 블로그는 주식 가격을 가지고 분석해보면서 예측을 하려는 블로그이다. 많은 블로그들을 참조할 것이며 그에 따라 본 블로그도 공유하려한다."
   ]
  },
  {
   "cell_type": "markdown",
   "id": "0a5b6f4b-58f6-409f-8e33-7a2a8ed88ab6",
   "metadata": {},
   "source": [
    "- 순서\n",
    "    - <a href=\"#FinanceDataReader\">FinanceDataReader 함수</a>\n",
    "        - <a href=\"#StockListing\">.StockListing(market)</a>\n",
    "        - <a href=\"#DataReader\">.DataReader(symbol, start_y_m_d, end_y_m_d)</a>\n"
   ]
  },
  {
   "cell_type": "markdown",
   "id": "9392958b-c8b2-4f16-ba76-c35a45ed74b1",
   "metadata": {},
   "source": [
    "<p id=\"FinanceDataReader\"></p>\n",
    "\n",
    "## FinanceDataReader\n",
    "- [github.com/FinanceData](https://github.com/FinanceData/FinanceDataReader)\n",
    "- [finance.html](https://financedata.github.io/posts/finance-data-reader-users-guide.html)"
   ]
  },
  {
   "cell_type": "markdown",
   "id": "5ec1f663-7265-4e6c-ada7-80e09dec1e41",
   "metadata": {},
   "source": [
    "- **함수 정리**\n",
    "    - FinanceDataReader.StockListing(market)\n",
    "        - market 코드를 넣으면 해당 시장에 상장된 정보를 가져온다.\n",
    "    - FinanceDataReader.DataReader(symbol, start_yyyy)\n",
    "    - FinanceDataReader.DataReader(symbol, start_y_m_d, end_y_m_d)\n",
    "        - 해당 종목의 원하는 범위의 가격 데이터를 수집한다.\n"
   ]
  },
  {
   "cell_type": "code",
   "execution_count": 1,
   "id": "7b451e65-15d1-4ae5-b950-1ae8e2b7fe84",
   "metadata": {
    "collapsed": true,
    "jupyter": {
     "outputs_hidden": true
    },
    "tags": []
   },
   "outputs": [
    {
     "name": "stdout",
     "output_type": "stream",
     "text": [
      "Requirement already satisfied: finance-datareader in c:\\users\\tkd8484\\anaconda3\\envs\\chanp5660\\lib\\site-packages (0.9.34)\n",
      "Requirement already satisfied: pandas>=0.19.2 in c:\\users\\tkd8484\\anaconda3\\envs\\chanp5660\\lib\\site-packages (from finance-datareader) (1.4.2)\n",
      "Requirement already satisfied: tqdm in c:\\users\\tkd8484\\anaconda3\\envs\\chanp5660\\lib\\site-packages (from finance-datareader) (4.64.0)\n",
      "Requirement already satisfied: requests-file in c:\\users\\tkd8484\\anaconda3\\envs\\chanp5660\\lib\\site-packages (from finance-datareader) (1.5.1)\n",
      "Requirement already satisfied: lxml in c:\\users\\tkd8484\\anaconda3\\envs\\chanp5660\\lib\\site-packages (from finance-datareader) (4.9.0)\n",
      "Requirement already satisfied: requests>=2.3.0 in c:\\users\\tkd8484\\anaconda3\\envs\\chanp5660\\lib\\site-packages (from finance-datareader) (2.28.1)\n",
      "Requirement already satisfied: pytz>=2020.1 in c:\\users\\tkd8484\\anaconda3\\envs\\chanp5660\\lib\\site-packages (from pandas>=0.19.2->finance-datareader) (2022.1)\n",
      "Requirement already satisfied: numpy>=1.21.0 in c:\\users\\tkd8484\\anaconda3\\envs\\chanp5660\\lib\\site-packages (from pandas>=0.19.2->finance-datareader) (1.22.3)\n",
      "Requirement already satisfied: python-dateutil>=2.8.1 in c:\\users\\tkd8484\\anaconda3\\envs\\chanp5660\\lib\\site-packages (from pandas>=0.19.2->finance-datareader) (2.8.2)\n",
      "Requirement already satisfied: six>=1.5 in c:\\users\\tkd8484\\anaconda3\\envs\\chanp5660\\lib\\site-packages (from python-dateutil>=2.8.1->pandas>=0.19.2->finance-datareader) (1.16.0)\n",
      "Requirement already satisfied: charset-normalizer<3,>=2 in c:\\users\\tkd8484\\anaconda3\\envs\\chanp5660\\lib\\site-packages (from requests>=2.3.0->finance-datareader) (2.1.0)\n",
      "Requirement already satisfied: urllib3<1.27,>=1.21.1 in c:\\users\\tkd8484\\anaconda3\\envs\\chanp5660\\lib\\site-packages (from requests>=2.3.0->finance-datareader) (1.26.10)\n",
      "Requirement already satisfied: idna<4,>=2.5 in c:\\users\\tkd8484\\anaconda3\\envs\\chanp5660\\lib\\site-packages (from requests>=2.3.0->finance-datareader) (3.3)\n",
      "Requirement already satisfied: certifi>=2017.4.17 in c:\\users\\tkd8484\\anaconda3\\envs\\chanp5660\\lib\\site-packages (from requests>=2.3.0->finance-datareader) (2022.6.15)\n",
      "Requirement already satisfied: colorama in c:\\users\\tkd8484\\anaconda3\\envs\\chanp5660\\lib\\site-packages (from tqdm->finance-datareader) (0.4.5)\n"
     ]
    }
   ],
   "source": [
    "# 설치\n",
    "#!pip install -U finance-datareader"
   ]
  },
  {
   "cell_type": "code",
   "execution_count": 2,
   "id": "4570137b-f5ab-4678-8b46-3bdd0e47b31a",
   "metadata": {},
   "outputs": [],
   "source": [
    "#  차트 설정\n",
    "%matplotlib inline\n",
    "import matplotlib.pyplot as plt\n",
    "\n",
    "plt.rcParams[\"font.family\"] = 'NanumGothic'\n",
    "plt.rcParams[\"figure.figsize\"] = (14,4)\n",
    "plt.rcParams['lines.linewidth'] = 2\n",
    "plt.rcParams[\"axes.grid\"] = True"
   ]
  },
  {
   "cell_type": "code",
   "execution_count": 3,
   "id": "2f742afc-7559-4186-9826-8ee65d688616",
   "metadata": {},
   "outputs": [
    {
     "data": {
      "text/plain": [
       "'0.9.34'"
      ]
     },
     "execution_count": 3,
     "metadata": {},
     "output_type": "execute_result"
    }
   ],
   "source": [
    "import FinanceDataReader as fdr\n",
    "fdr.__version__"
   ]
  },
  {
   "cell_type": "markdown",
   "id": "cf430c7e-b13f-45fa-a60f-c852289de5d1",
   "metadata": {},
   "source": [
    "## 전체 종목 코드(market)\n",
    "\n",
    "- 한국\n",
    "    - KRX : KRX 종목 전체\n",
    "    - KOSPI : KOSPI 종목\n",
    "    - KOSDAQ : KOSDAQ 종목\n",
    "    - KONEX : KONEX 종목\n",
    "    \n",
    "- 미국\n",
    "    - NASDAQ : NASDAQ 종목\n",
    "    - NYSE : 뉴욕 증권거래소 종목\n",
    "    - AMEX : AMEX 종목\n",
    "    - SP500 : S&P 500 종목"
   ]
  },
  {
   "cell_type": "markdown",
   "id": "659a77ac-bee0-43f1-b1ae-642d7a979bf6",
   "metadata": {},
   "source": [
    "<p id=\"StockListing\"></p>\n",
    "\n",
    "\n",
    "- 한국거래소 상장종목 전체 KRX"
   ]
  },
  {
   "cell_type": "code",
   "execution_count": 4,
   "id": "c2d36a84-3379-4adc-81d3-ee286e0b676f",
   "metadata": {},
   "outputs": [
    {
     "name": "stdout",
     "output_type": "stream",
     "text": [
      "한국거래소 상장종목 전체 KRX : 7959\n"
     ]
    },
    {
     "data": {
      "text/html": [
       "<div>\n",
       "<style scoped>\n",
       "    .dataframe tbody tr th:only-of-type {\n",
       "        vertical-align: middle;\n",
       "    }\n",
       "\n",
       "    .dataframe tbody tr th {\n",
       "        vertical-align: top;\n",
       "    }\n",
       "\n",
       "    .dataframe thead th {\n",
       "        text-align: right;\n",
       "    }\n",
       "</style>\n",
       "<table border=\"1\" class=\"dataframe\">\n",
       "  <thead>\n",
       "    <tr style=\"text-align: right;\">\n",
       "      <th></th>\n",
       "      <th>Symbol</th>\n",
       "      <th>Market</th>\n",
       "      <th>Name</th>\n",
       "      <th>Sector</th>\n",
       "      <th>Industry</th>\n",
       "      <th>ListingDate</th>\n",
       "      <th>SettleMonth</th>\n",
       "      <th>Representative</th>\n",
       "      <th>HomePage</th>\n",
       "      <th>Region</th>\n",
       "    </tr>\n",
       "  </thead>\n",
       "  <tbody>\n",
       "    <tr>\n",
       "      <th>0</th>\n",
       "      <td>060310</td>\n",
       "      <td>KOSDAQ</td>\n",
       "      <td>3S</td>\n",
       "      <td>전자부품 제조업</td>\n",
       "      <td>반도체 웨이퍼 캐리어</td>\n",
       "      <td>2002-04-23</td>\n",
       "      <td>03월</td>\n",
       "      <td>김세완</td>\n",
       "      <td>http://www.3sref.com</td>\n",
       "      <td>서울특별시</td>\n",
       "    </tr>\n",
       "    <tr>\n",
       "      <th>1</th>\n",
       "      <td>095570</td>\n",
       "      <td>KOSPI</td>\n",
       "      <td>AJ네트웍스</td>\n",
       "      <td>산업용 기계 및 장비 임대업</td>\n",
       "      <td>렌탈(파렛트, OA장비, 건설장비)</td>\n",
       "      <td>2015-08-21</td>\n",
       "      <td>12월</td>\n",
       "      <td>박대현, 손삼달</td>\n",
       "      <td>http://www.ajnet.co.kr</td>\n",
       "      <td>서울특별시</td>\n",
       "    </tr>\n",
       "    <tr>\n",
       "      <th>2</th>\n",
       "      <td>006840</td>\n",
       "      <td>KOSPI</td>\n",
       "      <td>AK홀딩스</td>\n",
       "      <td>기타 금융업</td>\n",
       "      <td>지주사업</td>\n",
       "      <td>1999-08-11</td>\n",
       "      <td>12월</td>\n",
       "      <td>채형석, 이석주(각자 대표이사)</td>\n",
       "      <td>http://www.aekyunggroup.co.kr</td>\n",
       "      <td>서울특별시</td>\n",
       "    </tr>\n",
       "    <tr>\n",
       "      <th>3</th>\n",
       "      <td>054620</td>\n",
       "      <td>KOSDAQ</td>\n",
       "      <td>APS홀딩스</td>\n",
       "      <td>기타 금융업</td>\n",
       "      <td>인터넷 트래픽 솔루션</td>\n",
       "      <td>2001-12-04</td>\n",
       "      <td>12월</td>\n",
       "      <td>정기로</td>\n",
       "      <td>http://www.apsholdings.co.kr</td>\n",
       "      <td>경기도</td>\n",
       "    </tr>\n",
       "    <tr>\n",
       "      <th>4</th>\n",
       "      <td>265520</td>\n",
       "      <td>KOSDAQ</td>\n",
       "      <td>AP시스템</td>\n",
       "      <td>특수 목적용 기계 제조업</td>\n",
       "      <td>디스플레이 제조 장비</td>\n",
       "      <td>2017-04-07</td>\n",
       "      <td>12월</td>\n",
       "      <td>김영주</td>\n",
       "      <td>http://www.apsystems.co.kr</td>\n",
       "      <td>경기도</td>\n",
       "    </tr>\n",
       "  </tbody>\n",
       "</table>\n",
       "</div>"
      ],
      "text/plain": [
       "   Symbol  Market    Name           Sector             Industry ListingDate  \\\n",
       "0  060310  KOSDAQ      3S         전자부품 제조업          반도체 웨이퍼 캐리어  2002-04-23   \n",
       "1  095570   KOSPI  AJ네트웍스  산업용 기계 및 장비 임대업  렌탈(파렛트, OA장비, 건설장비)  2015-08-21   \n",
       "2  006840   KOSPI   AK홀딩스           기타 금융업                 지주사업  1999-08-11   \n",
       "3  054620  KOSDAQ  APS홀딩스           기타 금융업          인터넷 트래픽 솔루션  2001-12-04   \n",
       "4  265520  KOSDAQ   AP시스템    특수 목적용 기계 제조업          디스플레이 제조 장비  2017-04-07   \n",
       "\n",
       "  SettleMonth     Representative                       HomePage Region  \n",
       "0         03월                김세완           http://www.3sref.com  서울특별시  \n",
       "1         12월           박대현, 손삼달         http://www.ajnet.co.kr  서울특별시  \n",
       "2         12월  채형석, 이석주(각자 대표이사)  http://www.aekyunggroup.co.kr  서울특별시  \n",
       "3         12월                정기로   http://www.apsholdings.co.kr    경기도  \n",
       "4         12월                김영주     http://www.apsystems.co.kr    경기도  "
      ]
     },
     "execution_count": 4,
     "metadata": {},
     "output_type": "execute_result"
    }
   ],
   "source": [
    "df_krx = fdr.StockListing('KRX') \n",
    "print(f\"한국거래소 상장종목 전체 KRX : {len(df_krx)}\")\n",
    "df_krx.head() "
   ]
  },
  {
   "cell_type": "markdown",
   "id": "ce8ab514-498c-4e01-9de5-588dad6279fc",
   "metadata": {},
   "source": [
    "- S&P 500 종목 전체 S&P500"
   ]
  },
  {
   "cell_type": "code",
   "execution_count": 5,
   "id": "341260cc-5a45-4643-9a77-6f0502cbbbc8",
   "metadata": {},
   "outputs": [
    {
     "name": "stdout",
     "output_type": "stream",
     "text": [
      "S&P 500 종목 전체 S&P500 : 503\n"
     ]
    },
    {
     "name": "stderr",
     "output_type": "stream",
     "text": [
      "C:\\Users\\tkd8484\\anaconda3\\envs\\chanp5660\\lib\\site-packages\\FinanceDataReader\\wikipedia\\listing.py:13: FutureWarning: The default value of regex will change from True to False in a future version.\n",
      "  df['Symbol'] = df['Symbol'].str.replace('\\.', '')\n"
     ]
    },
    {
     "data": {
      "text/html": [
       "<div>\n",
       "<style scoped>\n",
       "    .dataframe tbody tr th:only-of-type {\n",
       "        vertical-align: middle;\n",
       "    }\n",
       "\n",
       "    .dataframe tbody tr th {\n",
       "        vertical-align: top;\n",
       "    }\n",
       "\n",
       "    .dataframe thead th {\n",
       "        text-align: right;\n",
       "    }\n",
       "</style>\n",
       "<table border=\"1\" class=\"dataframe\">\n",
       "  <thead>\n",
       "    <tr style=\"text-align: right;\">\n",
       "      <th></th>\n",
       "      <th>Symbol</th>\n",
       "      <th>Name</th>\n",
       "      <th>Sector</th>\n",
       "      <th>Industry</th>\n",
       "    </tr>\n",
       "  </thead>\n",
       "  <tbody>\n",
       "    <tr>\n",
       "      <th>0</th>\n",
       "      <td>MMM</td>\n",
       "      <td>3M</td>\n",
       "      <td>Industrials</td>\n",
       "      <td>Industrial Conglomerates</td>\n",
       "    </tr>\n",
       "    <tr>\n",
       "      <th>1</th>\n",
       "      <td>AOS</td>\n",
       "      <td>A. O. Smith</td>\n",
       "      <td>Industrials</td>\n",
       "      <td>Building Products</td>\n",
       "    </tr>\n",
       "    <tr>\n",
       "      <th>2</th>\n",
       "      <td>ABT</td>\n",
       "      <td>Abbott</td>\n",
       "      <td>Health Care</td>\n",
       "      <td>Health Care Equipment</td>\n",
       "    </tr>\n",
       "    <tr>\n",
       "      <th>3</th>\n",
       "      <td>ABBV</td>\n",
       "      <td>AbbVie</td>\n",
       "      <td>Health Care</td>\n",
       "      <td>Pharmaceuticals</td>\n",
       "    </tr>\n",
       "    <tr>\n",
       "      <th>4</th>\n",
       "      <td>ABMD</td>\n",
       "      <td>Abiomed</td>\n",
       "      <td>Health Care</td>\n",
       "      <td>Health Care Equipment</td>\n",
       "    </tr>\n",
       "  </tbody>\n",
       "</table>\n",
       "</div>"
      ],
      "text/plain": [
       "  Symbol         Name       Sector                  Industry\n",
       "0    MMM           3M  Industrials  Industrial Conglomerates\n",
       "1    AOS  A. O. Smith  Industrials         Building Products\n",
       "2    ABT       Abbott  Health Care     Health Care Equipment\n",
       "3   ABBV       AbbVie  Health Care           Pharmaceuticals\n",
       "4   ABMD      Abiomed  Health Care     Health Care Equipment"
      ]
     },
     "execution_count": 5,
     "metadata": {},
     "output_type": "execute_result"
    }
   ],
   "source": [
    "df_spx = fdr.StockListing('S&P500')\n",
    "\n",
    "print(f\"S&P 500 종목 전체 S&P500 : {len(df_spx)}\")\n",
    "df_spx.head()"
   ]
  },
  {
   "cell_type": "markdown",
   "id": "0f1689cf-6843-4657-acab-b7c38010cad1",
   "metadata": {},
   "source": [
    "<p id=\"DataReader\"></p>\n",
    "\n",
    "\n",
    "- 신라젠, 2021 년"
   ]
  },
  {
   "cell_type": "code",
   "execution_count": 6,
   "id": "9f5acc00-3cfa-4fdb-b4a5-229277945488",
   "metadata": {},
   "outputs": [
    {
     "data": {
      "text/html": [
       "<div>\n",
       "<style scoped>\n",
       "    .dataframe tbody tr th:only-of-type {\n",
       "        vertical-align: middle;\n",
       "    }\n",
       "\n",
       "    .dataframe tbody tr th {\n",
       "        vertical-align: top;\n",
       "    }\n",
       "\n",
       "    .dataframe thead th {\n",
       "        text-align: right;\n",
       "    }\n",
       "</style>\n",
       "<table border=\"1\" class=\"dataframe\">\n",
       "  <thead>\n",
       "    <tr style=\"text-align: right;\">\n",
       "      <th></th>\n",
       "      <th>Open</th>\n",
       "      <th>High</th>\n",
       "      <th>Low</th>\n",
       "      <th>Close</th>\n",
       "      <th>Volume</th>\n",
       "      <th>Change</th>\n",
       "    </tr>\n",
       "    <tr>\n",
       "      <th>Date</th>\n",
       "      <th></th>\n",
       "      <th></th>\n",
       "      <th></th>\n",
       "      <th></th>\n",
       "      <th></th>\n",
       "      <th></th>\n",
       "    </tr>\n",
       "  </thead>\n",
       "  <tbody>\n",
       "    <tr>\n",
       "      <th>2021-01-04</th>\n",
       "      <td>344990</td>\n",
       "      <td>347935</td>\n",
       "      <td>336648</td>\n",
       "      <td>341065</td>\n",
       "      <td>2044341</td>\n",
       "      <td>-0.032033</td>\n",
       "    </tr>\n",
       "    <tr>\n",
       "      <th>2021-01-05</th>\n",
       "      <td>344990</td>\n",
       "      <td>349407</td>\n",
       "      <td>338611</td>\n",
       "      <td>347935</td>\n",
       "      <td>1279470</td>\n",
       "      <td>0.020143</td>\n",
       "    </tr>\n",
       "    <tr>\n",
       "      <th>2021-01-06</th>\n",
       "      <td>350388</td>\n",
       "      <td>352842</td>\n",
       "      <td>346953</td>\n",
       "      <td>346954</td>\n",
       "      <td>995972</td>\n",
       "      <td>-0.002819</td>\n",
       "    </tr>\n",
       "    <tr>\n",
       "      <th>2021-01-07</th>\n",
       "      <td>348425</td>\n",
       "      <td>352842</td>\n",
       "      <td>344500</td>\n",
       "      <td>350880</td>\n",
       "      <td>974596</td>\n",
       "      <td>0.011316</td>\n",
       "    </tr>\n",
       "    <tr>\n",
       "      <th>2021-01-08</th>\n",
       "      <td>352842</td>\n",
       "      <td>363148</td>\n",
       "      <td>349407</td>\n",
       "      <td>360204</td>\n",
       "      <td>1752377</td>\n",
       "      <td>0.026573</td>\n",
       "    </tr>\n",
       "    <tr>\n",
       "      <th>2021-01-11</th>\n",
       "      <td>370018</td>\n",
       "      <td>379342</td>\n",
       "      <td>360203</td>\n",
       "      <td>367074</td>\n",
       "      <td>2674305</td>\n",
       "      <td>0.019073</td>\n",
       "    </tr>\n",
       "    <tr>\n",
       "      <th>2021-01-12</th>\n",
       "      <td>373453</td>\n",
       "      <td>379832</td>\n",
       "      <td>363148</td>\n",
       "      <td>376889</td>\n",
       "      <td>2521867</td>\n",
       "      <td>0.026738</td>\n",
       "    </tr>\n",
       "    <tr>\n",
       "      <th>2021-01-13</th>\n",
       "      <td>372962</td>\n",
       "      <td>382777</td>\n",
       "      <td>368055</td>\n",
       "      <td>374435</td>\n",
       "      <td>2122923</td>\n",
       "      <td>-0.006511</td>\n",
       "    </tr>\n",
       "    <tr>\n",
       "      <th>2021-01-14</th>\n",
       "      <td>359222</td>\n",
       "      <td>367074</td>\n",
       "      <td>344500</td>\n",
       "      <td>345972</td>\n",
       "      <td>3490188</td>\n",
       "      <td>-0.076016</td>\n",
       "    </tr>\n",
       "    <tr>\n",
       "      <th>2021-01-15</th>\n",
       "      <td>342537</td>\n",
       "      <td>343027</td>\n",
       "      <td>319472</td>\n",
       "      <td>322907</td>\n",
       "      <td>3462400</td>\n",
       "      <td>-0.066667</td>\n",
       "    </tr>\n",
       "  </tbody>\n",
       "</table>\n",
       "</div>"
      ],
      "text/plain": [
       "              Open    High     Low   Close   Volume    Change\n",
       "Date                                                         \n",
       "2021-01-04  344990  347935  336648  341065  2044341 -0.032033\n",
       "2021-01-05  344990  349407  338611  347935  1279470  0.020143\n",
       "2021-01-06  350388  352842  346953  346954   995972 -0.002819\n",
       "2021-01-07  348425  352842  344500  350880   974596  0.011316\n",
       "2021-01-08  352842  363148  349407  360204  1752377  0.026573\n",
       "2021-01-11  370018  379342  360203  367074  2674305  0.019073\n",
       "2021-01-12  373453  379832  363148  376889  2521867  0.026738\n",
       "2021-01-13  372962  382777  368055  374435  2122923 -0.006511\n",
       "2021-01-14  359222  367074  344500  345972  3490188 -0.076016\n",
       "2021-01-15  342537  343027  319472  322907  3462400 -0.066667"
      ]
     },
     "execution_count": 6,
     "metadata": {},
     "output_type": "execute_result"
    }
   ],
   "source": [
    "df = fdr.DataReader('068270', '2021')\n",
    "df.head(10)"
   ]
  },
  {
   "cell_type": "markdown",
   "id": "e8dea52a-1518-4629-916f-a3cbf1640108",
   "metadata": {},
   "source": [
    "```python\n",
    "df = fdr.DataReader('068270', '2017')\n",
    "df['Close'].plot()\n",
    "plt.show()\n",
    "```\n",
    "\n",
    "<img src=\"https://user-images.githubusercontent.com/46266247/180197749-540b369a-1e7c-474a-bfa1-02682c1d21a8.png\" width=\"100%\">"
   ]
  },
  {
   "cell_type": "markdown",
   "id": "976a1e0d-21c4-47ce-907f-087829c1ddf4",
   "metadata": {},
   "source": [
    "- 애플(AAPL), 2018-01-01 ~ 2018-05-30"
   ]
  },
  {
   "cell_type": "code",
   "execution_count": 22,
   "id": "5251e669-eae3-4414-a70a-749c6a869da9",
   "metadata": {},
   "outputs": [
    {
     "data": {
      "text/html": [
       "<div>\n",
       "<style scoped>\n",
       "    .dataframe tbody tr th:only-of-type {\n",
       "        vertical-align: middle;\n",
       "    }\n",
       "\n",
       "    .dataframe tbody tr th {\n",
       "        vertical-align: top;\n",
       "    }\n",
       "\n",
       "    .dataframe thead th {\n",
       "        text-align: right;\n",
       "    }\n",
       "</style>\n",
       "<table border=\"1\" class=\"dataframe\">\n",
       "  <thead>\n",
       "    <tr style=\"text-align: right;\">\n",
       "      <th></th>\n",
       "      <th>Close</th>\n",
       "      <th>Open</th>\n",
       "      <th>High</th>\n",
       "      <th>Low</th>\n",
       "      <th>Volume</th>\n",
       "      <th>Change</th>\n",
       "    </tr>\n",
       "    <tr>\n",
       "      <th>Date</th>\n",
       "      <th></th>\n",
       "      <th></th>\n",
       "      <th></th>\n",
       "      <th></th>\n",
       "      <th></th>\n",
       "      <th></th>\n",
       "    </tr>\n",
       "  </thead>\n",
       "  <tbody>\n",
       "    <tr>\n",
       "      <th>2018-05-23</th>\n",
       "      <td>47.09</td>\n",
       "      <td>46.59</td>\n",
       "      <td>47.12</td>\n",
       "      <td>46.44</td>\n",
       "      <td>80230000.0</td>\n",
       "      <td>0.0064</td>\n",
       "    </tr>\n",
       "    <tr>\n",
       "      <th>2018-05-24</th>\n",
       "      <td>47.04</td>\n",
       "      <td>47.19</td>\n",
       "      <td>47.21</td>\n",
       "      <td>46.55</td>\n",
       "      <td>92940000.0</td>\n",
       "      <td>-0.0011</td>\n",
       "    </tr>\n",
       "    <tr>\n",
       "      <th>2018-05-25</th>\n",
       "      <td>47.15</td>\n",
       "      <td>47.06</td>\n",
       "      <td>47.41</td>\n",
       "      <td>46.91</td>\n",
       "      <td>69840000.0</td>\n",
       "      <td>0.0023</td>\n",
       "    </tr>\n",
       "    <tr>\n",
       "      <th>2018-05-29</th>\n",
       "      <td>46.98</td>\n",
       "      <td>46.90</td>\n",
       "      <td>47.19</td>\n",
       "      <td>46.72</td>\n",
       "      <td>90060000.0</td>\n",
       "      <td>-0.0036</td>\n",
       "    </tr>\n",
       "    <tr>\n",
       "      <th>2018-05-30</th>\n",
       "      <td>46.88</td>\n",
       "      <td>46.93</td>\n",
       "      <td>47.00</td>\n",
       "      <td>46.70</td>\n",
       "      <td>74760000.0</td>\n",
       "      <td>-0.0021</td>\n",
       "    </tr>\n",
       "  </tbody>\n",
       "</table>\n",
       "</div>"
      ],
      "text/plain": [
       "            Close   Open   High    Low      Volume  Change\n",
       "Date                                                      \n",
       "2018-05-23  47.09  46.59  47.12  46.44  80230000.0  0.0064\n",
       "2018-05-24  47.04  47.19  47.21  46.55  92940000.0 -0.0011\n",
       "2018-05-25  47.15  47.06  47.41  46.91  69840000.0  0.0023\n",
       "2018-05-29  46.98  46.90  47.19  46.72  90060000.0 -0.0036\n",
       "2018-05-30  46.88  46.93  47.00  46.70  74760000.0 -0.0021"
      ]
     },
     "execution_count": 22,
     "metadata": {},
     "output_type": "execute_result"
    }
   ],
   "source": [
    "df = fdr.DataReader('AAPL', '2018-01-01', '2018-05-30')\n",
    "df.tail()"
   ]
  },
  {
   "cell_type": "markdown",
   "id": "325b375a-c533-4e6e-8f6b-60a988b77c3c",
   "metadata": {},
   "source": [
    "- 애플(AAPL), 2017년~"
   ]
  },
  {
   "cell_type": "markdown",
   "id": "eabc5b4b-a0a8-496b-82e7-6e5d9a1c7965",
   "metadata": {},
   "source": [
    "```python\n",
    "df = fdr.DataReader('AAPL', '2017')\n",
    "df['Close'].plot()\n",
    "plt.show()\n",
    "```\n",
    "\n",
    "<img src=\"https://user-images.githubusercontent.com/46266247/180197751-a041edf5-4e4d-487a-a966-c22d7fbd3fec.png\" witdh=\"100%\">"
   ]
  },
  {
   "cell_type": "code",
   "execution_count": null,
   "id": "7ba23452-c6b7-4256-ae2c-f93576ee41f6",
   "metadata": {},
   "outputs": [],
   "source": []
  },
  {
   "cell_type": "code",
   "execution_count": null,
   "id": "dc339f77-00a3-468f-8242-cffd84dc5104",
   "metadata": {},
   "outputs": [],
   "source": []
  },
  {
   "cell_type": "code",
   "execution_count": null,
   "id": "e65d5db5-452d-47d5-83c5-6b76392dd0a6",
   "metadata": {},
   "outputs": [],
   "source": []
  },
  {
   "cell_type": "code",
   "execution_count": null,
   "id": "e567aeb6-37c5-48c9-be14-231491b361c7",
   "metadata": {},
   "outputs": [],
   "source": []
  },
  {
   "cell_type": "code",
   "execution_count": null,
   "id": "1f45dafb-80a0-45a3-830d-0b518a262509",
   "metadata": {},
   "outputs": [],
   "source": []
  },
  {
   "cell_type": "code",
   "execution_count": null,
   "id": "b045d8e2-ff71-490f-92a1-0051203ff147",
   "metadata": {},
   "outputs": [],
   "source": []
  },
  {
   "cell_type": "code",
   "execution_count": null,
   "id": "dabea02b-9c57-4d20-a80e-a4b63e1fc9f1",
   "metadata": {},
   "outputs": [],
   "source": []
  },
  {
   "cell_type": "code",
   "execution_count": null,
   "id": "94f54d1f-a7af-417a-9d95-103d4346ba4c",
   "metadata": {},
   "outputs": [],
   "source": []
  },
  {
   "cell_type": "code",
   "execution_count": null,
   "id": "dead39f4-1150-48a9-8da3-2913225416c9",
   "metadata": {},
   "outputs": [],
   "source": []
  },
  {
   "cell_type": "markdown",
   "id": "74963cfd-44f3-40b4-b779-0ccdbfee32b1",
   "metadata": {},
   "source": [
    "-- 수정중 --"
   ]
  }
 ],
 "metadata": {
  "kernelspec": {
   "display_name": "Python 3 (ipykernel)",
   "language": "python",
   "name": "python3"
  },
  "language_info": {
   "codemirror_mode": {
    "name": "ipython",
    "version": 3
   },
   "file_extension": ".py",
   "mimetype": "text/x-python",
   "name": "python",
   "nbconvert_exporter": "python",
   "pygments_lexer": "ipython3",
   "version": "3.7.13"
  }
 },
 "nbformat": 4,
 "nbformat_minor": 5
}
