{
 "cells": [
  {
   "cell_type": "markdown",
   "id": "a2aeee26-a8d2-4031-83a3-7d746f95f4e2",
   "metadata": {
    "tags": []
   },
   "source": [
    "---\n",
    "layout: post  \n",
    "current: post  \n",
    "cover:  assets/built/images/python-logo.png  \n",
    "navigation: True  \n",
    "title: 나라장터-네이버메일자동보내기   \n",
    "date: 2022-07-27 16:16:00 +0900  \n",
    "tags: [project]  \n",
    "class: post-template  \n",
    "subclass: 'post tag-python'  \n",
    "author: chanp5660  \n",
    "---\n",
    "\n",
    "{% include Narasangtu-table-of-contents.html %}"
   ]
  },
  {
   "cell_type": "markdown",
   "id": "1a7c7fb3-b24f-4624-927d-be7b9cee373b",
   "metadata": {},
   "source": [
    "# 나라장터-네이버메일자동보내기\n",
    "\n",
    "- 분석한 내용으로 \n",
    "- github action을 이용한 스케줄러를 통해 정보를 매일 얻는다. 또는 새로 생기면 메일가는 형태로 한다."
   ]
  },
  {
   "cell_type": "code",
   "execution_count": null,
   "id": "be58d9df-c0ef-4216-a427-7f7591c5d27e",
   "metadata": {},
   "outputs": [],
   "source": []
  }
 ],
 "metadata": {
  "kernelspec": {
   "display_name": "Python 3 (ipykernel)",
   "language": "python",
   "name": "python3"
  },
  "language_info": {
   "codemirror_mode": {
    "name": "ipython",
    "version": 3
   },
   "file_extension": ".py",
   "mimetype": "text/x-python",
   "name": "python",
   "nbconvert_exporter": "python",
   "pygments_lexer": "ipython3",
   "version": "3.7.13"
  }
 },
 "nbformat": 4,
 "nbformat_minor": 5
}
