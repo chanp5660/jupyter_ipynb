{
 "cells": [
  {
   "cell_type": "markdown",
   "id": "0d73b45f-1790-45bd-90a4-673716b79cde",
   "metadata": {
    "tags": []
   },
   "source": [
    "---\n",
    "layout: post  \n",
    "current: post  \n",
    "cover:  assets/built/images/python-logo.png  \n",
    "navigation: True  \n",
    "title: 나라장터-수집(2)-Selenium   \n",
    "date: 2022-07-25 23:41:00 +0900  \n",
    "tags: [project]  \n",
    "class: post-template  \n",
    "subclass: 'post tag-python'  \n",
    "author: chanp5660  \n",
    "---\n",
    "\n",
    "{% include Narasangtu-table-of-contents.html %}"
   ]
  },
  {
   "cell_type": "markdown",
   "id": "1a57b0fe-4147-432f-9e6c-f6648c58dfe4",
   "metadata": {},
   "source": [
    "# 나라장터-수집(2)-Selenium\n",
    "\n",
    "> 나라장터에의 낙찰하는 분석을 하게 되는 상황이 생겼는데 통계, 컴공으로서 근거 없는 찍는 것을 믿지 못하고 찍신이 아닌 나 자신을 믿을 수가 없었다. 따라서 이때다 싶어 나라장터 분석 및 예측을 해보기로 했다."
   ]
  },
  {
   "cell_type": "markdown",
   "id": "bb6691f0-05cb-4ad9-9407-4b1f546a3eae",
   "metadata": {},
   "source": [
    "- 수집\n",
    "    - openapi 이용\n",
    "    - 공공데이터포털 이용 (https://www.data.go.kr/index.do)\n",
    "- 낙찰\n",
    "    - 원리\n",
    "    - 예측\n"
   ]
  },
  {
   "cell_type": "code",
   "execution_count": null,
   "id": "e2e2657e-1410-4e2f-b252-b8db96369a09",
   "metadata": {},
   "outputs": [],
   "source": []
  }
 ],
 "metadata": {
  "kernelspec": {
   "display_name": "Python 3 (ipykernel)",
   "language": "python",
   "name": "python3"
  },
  "language_info": {
   "codemirror_mode": {
    "name": "ipython",
    "version": 3
   },
   "file_extension": ".py",
   "mimetype": "text/x-python",
   "name": "python",
   "nbconvert_exporter": "python",
   "pygments_lexer": "ipython3",
   "version": "3.7.13"
  }
 },
 "nbformat": 4,
 "nbformat_minor": 5
}
