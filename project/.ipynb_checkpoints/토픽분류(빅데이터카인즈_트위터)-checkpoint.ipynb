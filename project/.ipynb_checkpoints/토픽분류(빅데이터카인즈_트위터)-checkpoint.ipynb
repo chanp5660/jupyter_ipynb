{
 "cells": [
  {
   "cell_type": "markdown",
   "id": "a83dd997-1e86-4b9c-94ef-5755ffa33f60",
   "metadata": {},
   "source": [
    "---\n",
    "layout: post  \n",
    "current: post  \n",
    "cover:  assets/built/images/topic-classification.png  \n",
    "navigation: True  \n",
    "title: 토픽분류(빅데이터카인즈,트위터)  \n",
    "date: 2023-02-07 14:00:00 +0900  \n",
    "tags: [project]  \n",
    "class: post-template  \n",
    "subclass: 'post tag-python'  \n",
    "author: chanp5660  \n",
    "---\n"
   ]
  },
  {
   "cell_type": "markdown",
   "id": "313a642c-2985-422c-842f-31e5afcd5fad",
   "metadata": {},
   "source": [
    "# 토픽분류(빅데이터카인즈, 트위터)"
   ]
  },
  {
   "cell_type": "markdown",
   "id": "3ffcd36c-66f7-44d9-bf40-c717b242eaa5",
   "metadata": {},
   "source": [
    "- LDA를 이용해서 빅데이터카인즈와 트위터에서 2019~2020년의 토픽모델링을 통해 주요 토픽이 무엇인지 파악할 수 있게 한다.\n",
    "- 데이터 수집 방법\n",
    "    - 빅데이터카인즈 : 웹 스크랩핑\n",
    "    - 트위터 : openAPI\n",
    "- 형태소 분석\n",
    "    - "
   ]
  },
  {
   "cell_type": "markdown",
   "id": "a0f231c4-6d95-49c7-92d1-12b97a4dc85d",
   "metadata": {},
   "source": [
    "## 빅데이터카인즈, 트위터, 2019, 2020 "
   ]
  },
  {
   "cell_type": "markdown",
   "id": "39a1ddfa-ee89-46a7-ace4-575f54f81d9b",
   "metadata": {},
   "source": [
    "{% include lda_bigdatakind_twitter1920.html %}"
   ]
  },
  {
   "cell_type": "markdown",
   "id": "ea767a69-e82b-412e-93d9-0ab89dc41c90",
   "metadata": {},
   "source": [
    "### 빅데이터카인즈, 트위터, 2020"
   ]
  },
  {
   "cell_type": "markdown",
   "id": "ef0c5933-7e7a-4fd7-af44-bb0d9753404d",
   "metadata": {},
   "source": [
    "{% include lda_bigdatakind_twitter20.html %}"
   ]
  },
  {
   "cell_type": "markdown",
   "id": "b56683a4-4870-4f1d-8919-5a4ba0f715c5",
   "metadata": {},
   "source": [
    "### 빅데이터카인즈, 트위터, 2019"
   ]
  },
  {
   "cell_type": "markdown",
   "id": "7f4f7819-ed95-456b-8d1a-96fa70cf095f",
   "metadata": {},
   "source": [
    "{% include lda_bigdatakind_twitter19.html %}"
   ]
  },
  {
   "cell_type": "markdown",
   "id": "09aacc41-b6a8-42b6-a2da-c1ee664b2668",
   "metadata": {},
   "source": [
    "## 빅데이터카인즈, 2019, 2020 "
   ]
  },
  {
   "cell_type": "markdown",
   "id": "02e11b15-9e89-437e-95d1-c6634498be89",
   "metadata": {},
   "source": [
    "{% include lda_bigdatakind_1920.html %}"
   ]
  },
  {
   "cell_type": "markdown",
   "id": "1595a5b7-4e38-43a2-9ed6-072aa012f90a",
   "metadata": {},
   "source": [
    "### 빅데이터카인즈, 2020 "
   ]
  },
  {
   "cell_type": "markdown",
   "id": "d05f9d12-99da-4e4f-aa1d-6e5ceddcc115",
   "metadata": {},
   "source": [
    "{% include lda_bigdatakind_20.html %}"
   ]
  },
  {
   "cell_type": "markdown",
   "id": "b5719f95-b689-48bb-b920-5672dbe0f141",
   "metadata": {},
   "source": [
    "### 빅데이터카인즈, 2019 "
   ]
  },
  {
   "cell_type": "markdown",
   "id": "cae9cf42-1a93-478d-9046-ea1cf2ce0582",
   "metadata": {},
   "source": [
    "{% include lda_bigdatakind_19.html %}"
   ]
  },
  {
   "cell_type": "markdown",
   "id": "9a61bc89-80ec-4ae4-b11d-16d17d5dcee4",
   "metadata": {},
   "source": [
    "## 트위터, 2019, 2020 "
   ]
  },
  {
   "cell_type": "markdown",
   "id": "3521e301-237c-4666-93ff-025b3911ab9c",
   "metadata": {},
   "source": [
    "{% include lda_twitter1920.html %}"
   ]
  },
  {
   "cell_type": "markdown",
   "id": "d7eb26b0-8e42-4154-a6f4-5a632dfcadb0",
   "metadata": {},
   "source": [
    "### 트위터, 2020 "
   ]
  },
  {
   "cell_type": "markdown",
   "id": "804fe86d-24ca-4b2c-ae8a-3b14d65300b4",
   "metadata": {},
   "source": [
    "{% include lda_twitter20.html %}"
   ]
  },
  {
   "cell_type": "markdown",
   "id": "07f4c338-cdb2-40d5-a15f-b1760ffc85fb",
   "metadata": {},
   "source": [
    "### 트위터, 2019 "
   ]
  },
  {
   "cell_type": "markdown",
   "id": "ab7d1a1c-f71a-4f02-8963-3c7754a045a6",
   "metadata": {},
   "source": [
    "{% include lda_twitter19.html %}"
   ]
  }
 ],
 "metadata": {
  "kernelspec": {
   "display_name": "Python 3 (ipykernel)",
   "language": "python",
   "name": "python3"
  },
  "language_info": {
   "codemirror_mode": {
    "name": "ipython",
    "version": 3
   },
   "file_extension": ".py",
   "mimetype": "text/x-python",
   "name": "python",
   "nbconvert_exporter": "python",
   "pygments_lexer": "ipython3",
   "version": "3.7.13"
  }
 },
 "nbformat": 4,
 "nbformat_minor": 5
}
