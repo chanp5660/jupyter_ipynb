{
 "cells": [
  {
   "cell_type": "markdown",
   "id": "3556a53b-a2a3-43b7-b897-52be1980e7f1",
   "metadata": {},
   "source": [
    "---\n",
    "layout: post  \n",
    "current: post  \n",
    "cover:  assets/built/images/svm.png  \n",
    "navigation: True  \n",
    "title: 서포트 벡터 머신  \n",
    "date: 2023-02-10 00:00:00 +0900  \n",
    "tags: [ai]  \n",
    "class: post-template  \n",
    "subclass: 'post tag-python'  \n",
    "author: chanp5660  \n",
    "---\n"
   ]
  },
  {
   "cell_type": "markdown",
   "id": "39125a31-a0b7-4df0-80af-991662031498",
   "metadata": {},
   "source": [
    "# 서포트 벡터 머신\n",
    "\n",
    "- support vector machine, SVM\n",
    "- 기계 학습의 분야 중 하나로 패턴 인식\n",
    "\n",
    "# 사용\n",
    "\n",
    "- 자료 분석을 위한 지도 학습 모델\n",
    "- 분류\n",
    "- 회귀분석\n",
    "\n",
    "# 키워드\n",
    "\n",
    "- **비확률적 이진 선형 모델** : 두 카테고리 중 어느 하나에 속한 데이터의 집합이 주어졌을 때, SVM 알고리즘은 주어진 데이터 집합을 바탕으로 하여 새로운 데이터가 어느 카테고리에 속할지 판단하는 비확률적 이진 선형 모델을 만든다. \n",
    "\n",
    "- **가장 큰 폭을 가진 경계** : 만들어진 분류 모델은 데이터가 사상된 공간에서 경계로 표현되는데 SVM 알고리즘은 그 중 가장 큰 폭을 가진 경계를 찾는 알고리즘이다.\n",
    "\n",
    "- **비선형 분류, 커널 트릭** : SVM은 선형 분류와 더불어 비선형 분류에서도 사용될 수 있다. 비선형 분류를 하기 위해서 주어진 데이터를 고차원 특징 공간으로 사상하는 작업이 필요한데, 이를 효율적으로 하기 위해 커널 트릭을 사용하기도 한다."
   ]
  },
  {
   "cell_type": "markdown",
   "id": "b0d749b2-970c-405c-af84-b92f957143e1",
   "metadata": {},
   "source": [
    "# 정의\n",
    "\n",
    "- SVM은 분류 또는 회귀 분석에 사용 가능한 초평면* 또는 초평면들의 집합으로 구성되어 있다.\n",
    "\n",
    "* 초평면 : 3차원의 공간 속의 평면을 가리킴"
   ]
  },
  {
   "cell_type": "markdown",
   "id": "76620a96-5e91-4590-b378-2948b0e1cdcb",
   "metadata": {},
   "source": [
    "# 목표 및 아이디어\n",
    "\n",
    "- 데이터를 분류하는 것은 기계학습에 있어서 일반적인 작업이다.\n",
    "- 주어진 데이터 점들이 두 개의 클래스 안에 각각 속해 있다고 가정했을 때, 새로운 데ㅣ터 점이 두 클래스 중 어느 곳에 속하는지 결정하는 것이 목표이다.\n",
    "- 선형 분류\n",
    "    - 데이터 점이 P-차원 벡터 (p개의 숫자 리스트)로 주어졌을 때, 이러한 데이터 점을 (p-1)-차원의 초평면으로 분류할 수 있는지를 확인하고 싶은 것이다. \n",
    "- 데이터를 분류하는 초평면은 여러 경우가 나올 수 있다. \n",
    "    - 초평면을 선택하는 타당한 방법 중 하나는 두 클래스 사이에서 가장 큰 분류 또는 마진을 가지는 초평면을 선택하는 것이다.\n",
    "    - 그래서 우리는 초평면에서 가장 가까운 각 클래스의 데이터 점들 간의 거리를 최대로 하는 초평면을 선택한다.\n",
    "        - 만약 그런 초평면이 존재할 경우, 그 초평면을 최대 마진 초평면이라 하고 선형 분류기를 최대 마진 분류기라고 한다."
   ]
  },
  {
   "cell_type": "markdown",
   "id": "8499c127-2826-407a-a113-2d94072c56fb",
   "metadata": {},
   "source": [
    "# 참조\n",
    "- [위키피디아](https://ko.wikipedia.org/wiki/서포트_벡터_머신)"
   ]
  }
 ],
 "metadata": {
  "kernelspec": {
   "display_name": "Python 3 (ipykernel)",
   "language": "python",
   "name": "python3"
  },
  "language_info": {
   "codemirror_mode": {
    "name": "ipython",
    "version": 3
   },
   "file_extension": ".py",
   "mimetype": "text/x-python",
   "name": "python",
   "nbconvert_exporter": "python",
   "pygments_lexer": "ipython3",
   "version": "3.7.13"
  }
 },
 "nbformat": 4,
 "nbformat_minor": 5
}
