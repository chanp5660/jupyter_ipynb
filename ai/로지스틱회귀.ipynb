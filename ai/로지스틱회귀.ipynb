{
 "cells": [
  {
   "cell_type": "markdown",
   "id": "243814b4-5acb-4e5c-939b-b20f1b2fc825",
   "metadata": {},
   "source": [
    "---\n",
    "layout: post  \n",
    "current: post  \n",
    "cover:  assets/built/images/로지스틱회귀.png  \n",
    "navigation: True  \n",
    "title: 로지스틱회귀   \n",
    "date: 2023-02-13 00:00:00 +0900  \n",
    "tags: [ai]  \n",
    "class: post-template  \n",
    "subclass: 'post tag-python'  \n",
    "author: chanp5660  \n",
    "---\n"
   ]
  },
  {
   "cell_type": "markdown",
   "id": "9d29db8b-68c3-4d55-b0ae-1a01f074ec3a",
   "metadata": {},
   "source": [
    "# 로지스틱 회귀\n",
    "\n",
    "- **이벤트가 발생할 확률을 결정**하는데 사용되는 통계 모델\n",
    "- 특성 간의 관계를 보여주고 특정 결과의 확률을 계산합니다.\n",
    "\n",
    "# 사용\n",
    "\n",
    "- 머신러닝에서 정확한 예측을 생성하는데 사용\n",
    "- 선형 회귀와 유사하며 대상 변수가 이진입니다. (0,1)\n",
    "\n",
    "# 측정 가능한 항목 \n",
    "\n",
    "- B, 설명 변수, 특성(측정 대상 항목)\n",
    "- Y, 응답 변수, 목표 이진 변수\n",
    "\n",
    "# 예시\n",
    "\n",
    "- 학생이 시험에 합격될지 불합격될지 예측할 때\n",
    "- B, 설명 변수, 특성(측정 대상 항목) : **공부한 시간**\n",
    "- Y, 응답 변수, 목표 이진 변수 : **합격,불합격**\n",
    "\n",
    "# 종류\n",
    "\n",
    "- **이진 로지스틱 회귀** : 0,1 처럼 2가지의 결과\n",
    "- **다항 로지스틱 회귀** : 응답 변수에 순서가 업는 3개 이상의 변수가 포함\n",
    "- **순서 로지스틱 회귀** : 3개 이상의 변수가 포함될 수 있음, 대신 측정에는 순서가 있음, 예를 들어 1~5점으로 평가를 하는 경우\n",
    "\n",
    "# 이미지\n",
    "\n",
    "<img alt=\"로지스틱회귀 위키피디아\" src=\"https://upload.wikimedia.org/wikipedia/commons/thumb/8/88/Logistic-curve.svg/480px-Logistic-curve.svg.png\" width=\"60%\" height=\"60%\" >"
   ]
  },
  {
   "cell_type": "markdown",
   "id": "2e76da1d-47ef-42ff-af0f-bc38f6e2b3cd",
   "metadata": {},
   "source": [
    "# 참조\n",
    "[블로그](https://www.tibco.com/ko/reference-center/what-is-logistic-regression)  \n",
    "[위키피디아](https://ko.wikipedia.org/wiki/로지스틱_회귀)"
   ]
  }
 ],
 "metadata": {
  "kernelspec": {
   "display_name": "Python 3 (ipykernel)",
   "language": "python",
   "name": "python3"
  },
  "language_info": {
   "codemirror_mode": {
    "name": "ipython",
    "version": 3
   },
   "file_extension": ".py",
   "mimetype": "text/x-python",
   "name": "python",
   "nbconvert_exporter": "python",
   "pygments_lexer": "ipython3",
   "version": "3.7.13"
  }
 },
 "nbformat": 4,
 "nbformat_minor": 5
}
