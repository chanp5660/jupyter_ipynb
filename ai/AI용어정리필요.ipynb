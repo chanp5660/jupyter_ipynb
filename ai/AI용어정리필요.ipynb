{
 "cells": [
  {
   "cell_type": "markdown",
   "id": "516682c0-b7f9-44fd-ae48-55c3011434f9",
   "metadata": {},
   "source": [
    "---  \n",
    "layout: post  \n",
    "current: post  \n",
    "cover:  assets/built/images/AI_List.png  \n",
    "navigation: True  \n",
    "title: AI List   \n",
    "date: 2023-02-13 00:00:00 +0900  \n",
    "tags: [ai]  \n",
    "class: post-template  \n",
    "subclass: 'post tag-python'  \n",
    "author: chanp5660  \n",
    "---  "
   ]
  },
  {
   "cell_type": "markdown",
   "id": "ddd2eb93-11ec-4a77-9dd7-b73f3f394d94",
   "metadata": {
    "tags": []
   },
   "source": [
    "# AI 용어 리스트\n",
    "\n",
    "- [지도 학습 (Supervised Learning)](https://chanp5660.github.io/지도학습)\n",
    "    - 회귀 문제\n",
    "        - 선형 회귀 (Linear Regression)\n",
    "        - 의사결정트리 (Decision Tree)\n",
    "        - 랜덤 포레스트 (Random Forest)\n",
    "        - 서포트 벡터 머신 (Support Vector Machine, SVM)\n",
    "        - 신경망 (Neural Network)\n",
    "    - 분류 문제\n",
    "        - 로지스틱 회귀(Logistic Regression)\n",
    "        - 의사결정 나무(Decision Tree)  \n",
    "        - k-최근접 이웃(K-Nearest Neighbor)\n",
    "        - 나이브 베이즈(Naive Bayes)\n",
    "        - 서포트 벡터 머신(Support Vector Machine)\n",
    "        - 인공신경망(Artificial Neural Network)\n",
    "- 비지도 학습 (Unsupervised Learning)\n",
    "- 강화 학습 (Reinforcement Learning)\n",
    "- 준지도 학습 (Semi-supervised Learning)\n",
    "- 전이 학습 (Transfer Learning)\n",
    "- 생성 모델 (Generative Models)\n",
    "- 딥 러닝 (Deep Learning)\n",
    "\n",
    "\n",
    "\n",
    "---------------------\n",
    "\n",
    "\n",
    "## 포스팅 됨 \n",
    "\n",
    "- [서포트벡터머신(SVM)](https://chanp5660.github.io/서포트벡터머신(SVM))\n",
    "- [로지스틱 회귀분석](https://chanp5660.github.io/로지스틱회귀)\n",
    "- [결정경계](https://chanp5660.github.io/결정경계)\n",
    "- [손실함수](https://chanp5660.github.io/손실함수)\n",
    "- [선형분류](https://chanp5660.github.io/선형분류)\n",
    "\n",
    "## 포스팀 안됨\n",
    "\n",
    "> 이동하면서 볼 수 있도록 공부할만한 사이트 링크 걸어둔다.\n",
    "\n",
    "- [GridSearch](https://velog.io/@hyunicecream/GridSearchCV란-어떻게-사용할까)\n",
    "- [이진분류](https://076923.github.io/posts/Python-pytorch-12/)\n",
    "- [다중분류](https://076923.github.io/posts/Python-pytorch-13/)\n",
    "- [소프트맥스 함수](https://syj9700.tistory.com/38)\n",
    "- [확률적경사하강법](https://mangkyu.tistory.com/62)\n",
    "- [ML-데이터수집]()\n",
    "- [Log Loss](https://seoyoungh.github.io/machine-learning/ml-logloss/)\n",
    "- [의사결정트리](https://wooono.tistory.com/104)\n",
    "    - [동영상1](https://www.youtube.com/watch?v=xki7zQDf74I&list=PLpIPLT0Pf7IoTxTCi2MEQ94MZnHaxrP0j&index=24)\n",
    "    - [동영상2](https://www.youtube.com/watch?v=2Rd4AqmLjfU&list=PLpIPLT0Pf7IoTxTCi2MEQ94MZnHaxrP0j&index=23)\n",
    "- [엔트로피]()\n",
    "- [gini index]()\n",
    "- [bias and variance trade-off]()\n",
    "- [bagging;bootstrap aggregating](https://m.blog.naver.com/muzzincys/220201299384)\n",
    "- [boosting]\n",
    "- [out-of-bag]\n",
    "- [앙상블;ensemble]\n",
    "    - 부스팅\n",
    "        - [adaboosting]\n",
    "        - [Gradient Boosting]\n",
    "- [ROC AUC]\n"
   ]
  }
 ],
 "metadata": {
  "kernelspec": {
   "display_name": "Python 3 (ipykernel)",
   "language": "python",
   "name": "python3"
  },
  "language_info": {
   "codemirror_mode": {
    "name": "ipython",
    "version": 3
   },
   "file_extension": ".py",
   "mimetype": "text/x-python",
   "name": "python",
   "nbconvert_exporter": "python",
   "pygments_lexer": "ipython3",
   "version": "3.7.13"
  }
 },
 "nbformat": 4,
 "nbformat_minor": 5
}
