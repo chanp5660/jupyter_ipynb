{
 "cells": [
  {
   "cell_type": "markdown",
   "id": "784f190b-c5de-4fb7-8d42-e9cb03258738",
   "metadata": {},
   "source": [
    "---  \n",
    "layout: post  \n",
    "current: post  \n",
    "cover:  assets/built/images/선형분류.png  \n",
    "navigation: True  \n",
    "title: 선형분류   \n",
    "date: 2023-02-17 00:00:00 +0900  \n",
    "tags: [ai]  \n",
    "class: post-template  \n",
    "subclass: 'post tag-python'  \n",
    "author: chanp5660  \n",
    "---  "
   ]
  },
  {
   "cell_type": "markdown",
   "id": "6696669f-1f6b-4256-ba51-3629f205b528",
   "metadata": {},
   "source": [
    "# 선형분류 Linear Classification\n",
    "\n",
    "- 일차원 혹은 다차원 데이터들을 선형 모델(Linear Model)을 이용하여 클래스들로 분류(Classification)하는 것\n",
    "- 선형함수는 Y = WX+b 형태를 갖춘다.\n",
    "    - Y : 종속변수, 반응변수\n",
    "    - W : 가중치, B, 계수\n",
    "    - X : 독립변수, 설명변수\n",
    "    - b : 편향 벡터, 노이즈\n",
    "- 학습 데이터는 W와 b를 학습시키기 위해 사용됨. 즉, 모델의 W와 b를 구하는 것이 학습의 목표\n",
    "- 예측\n",
    "    - 양수 : 원하는 클래스라고 예측 되는 것\n",
    "    - 음수 : 그 외의 클래스라고 예측 되는 것"
   ]
  },
  {
   "cell_type": "markdown",
   "id": "3d68188c-729d-4099-bdda-2640466983da",
   "metadata": {},
   "source": [
    "# 참조\n",
    "[https://minicokr.com/8](https://minicokr.com/8)  \n",
    "[https://heekangpark.github.io/Stanford_cs231n/03-linear-classification](https://heekangpark.github.io/Stanford_cs231n/03-linear-classification)"
   ]
  }
 ],
 "metadata": {
  "kernelspec": {
   "display_name": "Python 3 (ipykernel)",
   "language": "python",
   "name": "python3"
  },
  "language_info": {
   "codemirror_mode": {
    "name": "ipython",
    "version": 3
   },
   "file_extension": ".py",
   "mimetype": "text/x-python",
   "name": "python",
   "nbconvert_exporter": "python",
   "pygments_lexer": "ipython3",
   "version": "3.7.13"
  }
 },
 "nbformat": 4,
 "nbformat_minor": 5
}
