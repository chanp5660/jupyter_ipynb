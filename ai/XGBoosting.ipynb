{
 "cells": [
  {
   "cell_type": "markdown",
   "id": "b567869d-7f20-4061-a0a3-b96eec2a70d0",
   "metadata": {},
   "source": [
    "---\n",
    "layout: post  \n",
    "current: post  \n",
    "cover:  assets/built/images/XGBoosing.png  \n",
    "navigation: True  \n",
    "title: XGBoosting  \n",
    "date: 2023-03-07 00:00:00 +0900  \n",
    "tags: [ai]  \n",
    "class: post-template  \n",
    "subclass: 'post tag-python'  \n",
    "author: chanp5660  \n",
    "---\n"
   ]
  },
  {
   "cell_type": "markdown",
   "id": "453f513b-7a5d-42ee-9d98-33f80785ddbc",
   "metadata": {},
   "source": [
    "# XGBoosting\n",
    "\n",
    "> ChatGPT로 틀을 만들고 수정"
   ]
  },
  {
   "cell_type": "markdown",
   "id": "5e86accb-3383-4f38-8e62-7391b1977ec3",
   "metadata": {},
   "source": [
    "## XGBoosting 정의\n",
    "\n",
    "- eXtreme Gradient Boosting의 약어\n",
    "- 기계 학습에서 사용되는 강력한 알고리즘 중 하나입니다. \n",
    "- **결정 트리를 기반**으로 하며, 예측 모델의 정확도를 향상시키기 위해 트리를 **연속적으로 훈련**하고 **결합**하는 **그래디언트 부스팅** 방법을 사용합니다.\n",
    "- 고성능 및 정확도와 함께 다양한 유용한 기능을 제공합니다. \n",
    "- 예를 들어, 일반적으로 과적합 문제를 방지하기 위해 규제 매개변수를 조정할 수 있으며, 대규모 데이터셋에 대해서도 효율적으로 처리할 수 있습니다. \n",
    "- feature importance, early stopping, missing value 처리 등 다양한 기능을 제공합니다. \n",
    "- 이러한 이유로 XGBoost는 현재 캐글(Kaggle)과 같은 대회에서 많이 사용되며, 실무에서도 널리 사용되는 기계 학습 알고리즘 중 하나입니다."
   ]
  }
 ],
 "metadata": {
  "kernelspec": {
   "display_name": "Python 3 (ipykernel)",
   "language": "python",
   "name": "python3"
  },
  "language_info": {
   "codemirror_mode": {
    "name": "ipython",
    "version": 3
   },
   "file_extension": ".py",
   "mimetype": "text/x-python",
   "name": "python",
   "nbconvert_exporter": "python",
   "pygments_lexer": "ipython3",
   "version": "3.7.13"
  }
 },
 "nbformat": 4,
 "nbformat_minor": 5
}
