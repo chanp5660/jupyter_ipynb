{
 "cells": [
  {
   "cell_type": "markdown",
   "id": "c513e30e-58af-4128-b504-b097bed5359d",
   "metadata": {},
   "source": [
    "---\n",
    "layout: post  \n",
    "current: post  \n",
    "cover:  assets/built/images/NLPwikidocs-logo.png  \n",
    "navigation: True  \n",
    "title: 머신러닝 워크플로우  \n",
    "date: 2023-02-03 17:05:31 +0900  \n",
    "tags: [AI]  \n",
    "class: post-template  \n",
    "subclass: 'post tag-python'  \n",
    "author: chanp5660  \n",
    "---\n",
    "\n",
    "{% include AI-table-of-contents.html %}"
   ]
  },
  {
   "cell_type": "markdown",
   "id": "6f447005-52df-4ef7-aaea-2b7194d469bf",
   "metadata": {},
   "source": [
    "---"
   ]
  },
  {
   "cell_type": "markdown",
   "id": "330d8d0a-b8e0-4e1f-b4b1-1b33c708cc21",
   "metadata": {},
   "source": [
    "- 워크 플로우 \n",
    "\n",
    "<img src=\"https://wikidocs.net/images/page/31947/%EB%A8%B8%EC%8B%A0_%EB%9F%AC%EB%8B%9D_%EC%9B%8C%ED%81%AC%ED%94%8C%EB%A1%9C%EC%9A%B0.PNG\" width=\"100%\">  \n",
    "\n",
    "\\* 내용 및 이미지 참조 링크 [https://wikidocs.net/31947](https://wikidocs.net/31947)  \n",
    "\n",
    "본 블로그 내용은 워크 플로우에서 **\"전처리 및 정제\"** 부분에 해당 된다."
   ]
  },
  {
   "cell_type": "markdown",
   "id": "816b2c47-a43a-4090-8fd6-1dde6028b25a",
   "metadata": {},
   "source": [
    "# NLP 자연어처리(1) - 텍스트 전처리\n",
    "\n",
    "- 본 블로그는 위키독스에 나와있는 [**딥 러닝을 이용한 자연어 처리 입문**](https://wikidocs.net/book/2155)을 따라하고 실행하면서 나만의 추가 정보들을 넣어가면 진행하기 위한 글이다. 배우려고 하는 사람은 제공된 링크를 타고 가서 배우는게 본 블로그보다 정리가 잘되어 있어 깔끔하고 좋다.\n",
    "\n",
    "- 나만의 해석 \n",
    "    - 모든 부분들에서 잘하면 좋겠지만 \"텍스트 전처리\" 부분은 자연어 처리에서 **가장 중요**하다고 생각한다. 이 부분에서 결과가 만족되지 못한다면 다음 모든 부분에서 절대 만족할 수 없을 것이다."
   ]
  },
  {
   "cell_type": "markdown",
   "id": "7bfeea1c-d445-4d55-aef0-1a68b964c69b",
   "metadata": {},
   "source": [
    "- 텍스트 전처리(Text Preprocessing) [https://wikidocs.net/21694](https://wikidocs.net/21694)  \n",
    "    - <a href=\"#Tokenization\">토큰화(Tokenization)</a>  \n",
    "    - <a href=\"#Cleaning_Normalization\">정제(Cleaning) and 정규화(Normalization)</a>  \n",
    "    - <a href=\"#Stemming_Lemmatization\">어간 추출(Stemming) and 표제어 추출(Lemmatization)</a>  \n",
    "    - <a href=\"#Stopword\">불용어(Stopword)</a>\n",
    "    - <a href=\"#Regular_Expression\">정규 표현식(Regular Expression)</a>\n",
    "    - <a href=\"#Integer_Encoding\">정수 인코딩(Integer Encoding)</a>\n",
    "    - <a href=\"#Padding\">패딩(Padding)</a>\n",
    "    - <a href=\"#One-Hot_Encoding\">원-핫 인코딩(One-Hot Encoding)</a>\n",
    "    - <a href=\"#Splitting_Data\">데이터의 분리(Splitting Data)</a>\n",
    "    - <a href=\"#Text_Preprocessing_Tools_for_Korean_Text\">한국어 전처리 패키지(Text Preprocessing Tools for Korean Text)</a>"
   ]
  },
  {
   "cell_type": "markdown",
   "id": "4407cf5d-2723-4d08-b819-09211cce9473",
   "metadata": {},
   "source": [
    "<p id=\"Tokenization\"></p>  \n",
    "\n",
    "\n",
    "## 토큰화(Tokenization)\n",
    "\n",
    "[https://wikidocs.net/21698](https://wikidocs.net/21698)"
   ]
  },
  {
   "cell_type": "markdown",
   "id": "151b11a7-317a-4101-ad48-b186af3a15b2",
   "metadata": {},
   "source": [
    "- 주어진 코퍼스(corpus)에서 토큰(token)이라고 불리는 단위로 나누는 작업을 토큰화(tokenization)라고 한다.\n",
    "- 코퍼스(corpus) : 말뭉치; 글자들이 묶여있는 단락, 문단 등이라고 생각한다.\n",
    "- 토큰(token) : 상황에 따라 다르지만 의미 있는 부분을 말한다."
   ]
  },
  {
   "cell_type": "markdown",
   "id": "dc6731b7-0e56-4f80-a7f3-b0eaf2948fb4",
   "metadata": {
    "tags": []
   },
   "source": [
    "### _ 1. 단어 토큰화(Word Tokenization)  \n",
    "\n",
    "- 단어를 기준으로 토큰화 작업을 하는 것\n",
    "- 간단한 예시\n",
    "    - \"토큰화! 작업을 하는 것은, 보통 사람마다 기준이 다릅니다.\"\n",
    "    - \"토큰화\", \"작업을\", \"하는\", \"것은\", \"보통\", \"사람마다\", \"기준이\", \"다릅니다\"\n"
   ]
  },
  {
   "cell_type": "markdown",
   "id": "5d1e3a3d-3333-4a8e-a2a4-6212cfc5e7e5",
   "metadata": {
    "tags": []
   },
   "source": [
    "### _ 2. 토큰화 중 생기는 선택의 순간\n",
    "\n",
    "- 어떤 용도로 사용할건지에 따라 토큰화할 기준을 직접 정해야한다.\n",
    "\n",
    "- 간단한 예시\n",
    "    - Don't에 아포스트로피(')가 있는데 어떤 기준으로 토큰화 하는지에 따른 여러 결과가 있다.\n",
    "      - Don't, Don t, Dont, Do n't ( 단어 기준 )\n",
    "      - Jone's, Jone s, Jone, Jones ( 해석 기준 : 가르키는 대상 )\n",
    "      \n",
    "- 기존에 공개된 도구들이 존재하면 이용하는게 좋다. 혹시 원하는 작업이 없다면 직접 설계하여 추가하는 방법도 있다.  \n",
    "\n",
    "- 예시\n",
    "    - NLTK : 영어 코퍼스를 토큰화 하기 위한 도구\n",
    "    ```python\n",
    "    import nltk\n",
    "    nltk.download('punkt') # 처음 하시는 분은 실행해 놔야합니다.\n",
    "    ```"
   ]
  },
  {
   "cell_type": "code",
   "execution_count": 5,
   "id": "d91bd794-e270-45cd-aa1f-3669bec87f33",
   "metadata": {},
   "outputs": [],
   "source": [
    "from nltk.tokenize import word_tokenize # 도구 토큰화1\n",
    "from nltk.tokenize import WordPunctTokenizer # 도구 토큰화2\n",
    "from tensorflow.keras.preprocessing.text import text_to_word_sequence # 도구 토큰화3"
   ]
  },
  {
   "cell_type": "code",
   "execution_count": 8,
   "id": "167aa82f-608c-470b-a6be-262a2607b0e7",
   "metadata": {},
   "outputs": [
    {
     "name": "stdout",
     "output_type": "stream",
     "text": [
      "단어 토큰화1 : ['Do', \"n't\", 'be', 'fooled', 'by', 'the', 'dark', 'sounding', 'name', ',', 'Mr.', 'Jone', \"'s\", 'Orphanage', 'is', 'as', 'cheery', 'as', 'cheery', 'goes', 'for', 'a', 'pastry', 'shop', '.']\n"
     ]
    }
   ],
   "source": [
    "print('단어 토큰화1 :',word_tokenize(\"Don't be fooled by the dark sounding name, Mr. Jone's Orphanage is as cheery as cheery goes for a pastry shop.\"))"
   ]
  },
  {
   "cell_type": "code",
   "execution_count": 9,
   "id": "9a3f53a9-dca1-41a6-8cbe-4f5b9e546993",
   "metadata": {},
   "outputs": [
    {
     "name": "stdout",
     "output_type": "stream",
     "text": [
      "단어 토큰화2 : ['Don', \"'\", 't', 'be', 'fooled', 'by', 'the', 'dark', 'sounding', 'name', ',', 'Mr', '.', 'Jone', \"'\", 's', 'Orphanage', 'is', 'as', 'cheery', 'as', 'cheery', 'goes', 'for', 'a', 'pastry', 'shop', '.']\n"
     ]
    }
   ],
   "source": [
    "print('단어 토큰화2 :',WordPunctTokenizer().tokenize(\"Don't be fooled by the dark sounding name, Mr. Jone's Orphanage is as cheery as cheery goes for a pastry shop.\"))"
   ]
  },
  {
   "cell_type": "code",
   "execution_count": 10,
   "id": "30dabac4-3b81-44ad-a924-4d96213e16c9",
   "metadata": {},
   "outputs": [
    {
     "name": "stdout",
     "output_type": "stream",
     "text": [
      "단어 토큰화3 : [\"don't\", 'be', 'fooled', 'by', 'the', 'dark', 'sounding', 'name', 'mr', \"jone's\", 'orphanage', 'is', 'as', 'cheery', 'as', 'cheery', 'goes', 'for', 'a', 'pastry', 'shop']\n"
     ]
    }
   ],
   "source": [
    "print('단어 토큰화3 :',text_to_word_sequence(\"Don't be fooled by the dark sounding name, Mr. Jone's Orphanage is as cheery as cheery goes for a pastry shop.\"))"
   ]
  },
  {
   "cell_type": "markdown",
   "id": "13aa2fe0-eeab-45e8-aee4-b07ddb056846",
   "metadata": {},
   "source": [
    "- 관찰\n",
    "    - word_tokenize는 Don't를 Do와 n't로 분리하였으며, 반면 Jone's는 Jone과 's로 분리한 것을 확인\n",
    "    - WordPunctTokenizer는 구두점을 별도로 분류하는 특징을 가지고 있어 Don't를 Don과 '와 t로 분리, Jone's를 Jone과 '와 s로 분리한 것을 확인\n",
    "    - text_to_word_sequence(케라스 도구) 에서는 모든 영문을 소문자로 바꾸고 마침표나 컴마, 느낌표 등의 구두점을 제거하지만 단어내에 있는 Don't와 jone's와 같은 경우 아포스트로피는 존재한다.\n"
   ]
  },
  {
   "cell_type": "markdown",
   "id": "7394225d-60cf-48a0-80c2-a6b4658c5653",
   "metadata": {},
   "source": [
    "### _ 3. 토큰화에서 고려해야할 사항  \n",
    "\n",
    "- 어떻게 해결해야 할지는 정해진 것이 아니라 본인의 목적에 따라 결정해야한다.\n",
    "\n",
    "1. 구두점이나 특수 문자를 단순 제외해서는 안 된다.  \n",
    "2. 줄임말과 단어 내에 띄어쓰기가 있는 경우.\n",
    "\n",
    "- 표준 토큰화 예제  \n",
    "    Penn Treebank Tokenization의 규칙에 대해서 소개\n",
    "    - 규칙 1. 하이푼으로 구성된 단어는 하나로 유지한다.\n",
    "    - 규칙 2. doesn't와 같이 아포스트로피로 '접어'가 함께하는 단어는 분리해준다."
   ]
  },
  {
   "cell_type": "code",
   "execution_count": 4,
   "id": "60802073-17e6-4938-800a-72d974997112",
   "metadata": {},
   "outputs": [
    {
     "name": "stdout",
     "output_type": "stream",
     "text": [
      "Starting a home-based restaurant may be an ideal. it doesn't have a food chain or restaurant of their own.\n",
      "\n",
      "트리뱅크 워드토크나이저\n",
      " ['Starting', 'a', 'home-based', 'restaurant', 'may', 'be', 'an', 'ideal.', 'it', 'does', \"n't\", 'have', 'a', 'food', 'chain', 'or', 'restaurant', 'of', 'their', 'own', '.']\n"
     ]
    }
   ],
   "source": [
    "from nltk.tokenize import TreebankWordTokenizer\n",
    "\n",
    "tokenizer = TreebankWordTokenizer()\n",
    "\n",
    "text = \"Starting a home-based restaurant may be an ideal. it doesn't have a food chain or restaurant of their own.\"\n",
    "\n",
    "print(text)\n",
    "print()\n",
    "print('트리뱅크 워드토크나이저\\n',tokenizer.tokenize(text))"
   ]
  },
  {
   "cell_type": "markdown",
   "id": "4145759e-2e77-47da-bc65-c33db1bb682a",
   "metadata": {},
   "source": [
    "- 규칙 1. 하이푼으로 구성된 단어는 하나로 유지한다.\n",
    "    - 'home-based'\n",
    "- 규칙 2. doesn't와 같이 아포스트로피로 '접어'가 함께하는 단어는 분리해준다.\n",
    "    - 'does', \"n't\""
   ]
  },
  {
   "cell_type": "markdown",
   "id": "0867aa99-8119-4124-ba47-1b3fe0b60ab6",
   "metadata": {},
   "source": [
    "### _ 4. 문장 토큰화(Sentence Tokenization)  \n",
    "\n",
    "- 보통 정제되지 않은 코퍼스 내에서 문장 단위로 구분할 때 사용된다.\n",
    "- 어떻게 구분할까?\n",
    "    - 특수문자(., ?, !, 등) 으로 구분한다면?\n",
    "        - 문장의 끝이 아닌 경우도 많다. ex) aaa@naver.com, ph.D, i'm\n",
    "        - 따라서 특수문자로만 구분하는 것은 어려운 일이다.\n",
    "\n",
    "- 제공하는 도구\n",
    "    - NLTK : 영어 문장의 토큰화 pip install NLTK\n",
    "    - KSS : 한국어 문장의 토큰화 pip install KSS\n",
    "\n"
   ]
  },
  {
   "cell_type": "code",
   "execution_count": 5,
   "id": "52c0611a-c783-4418-a186-98820dbe6bfd",
   "metadata": {},
   "outputs": [
    {
     "name": "stdout",
     "output_type": "stream",
     "text": [
      "문장 토큰화1 : ['His barber kept his word.', 'But keeping such a huge secret to himself was driving him crazy.', 'Finally, the barber went up a mountain and almost to the edge of a cliff.', 'He dug a hole in the midst of some reeds.', 'He looked about, to make sure no one was near.']\n"
     ]
    }
   ],
   "source": [
    "from nltk.tokenize import sent_tokenize\n",
    "\n",
    "text = \"His barber kept his word. But keeping such a huge secret to himself was driving him crazy. Finally, the barber went up a mountain and almost to the edge of a cliff. He dug a hole in the midst of some reeds. He looked about, to make sure no one was near.\"\n",
    "print('문장 토큰화1 :',sent_tokenize(text))"
   ]
  },
  {
   "cell_type": "code",
   "execution_count": 6,
   "id": "fb6fff98-5785-4b17-8f71-f4992ab93a4d",
   "metadata": {},
   "outputs": [
    {
     "name": "stdout",
     "output_type": "stream",
     "text": [
      "문장 토큰화2 : ['I am actively looking for Ph.D. students.', 'and you are a Ph.D student.']\n"
     ]
    }
   ],
   "source": [
    "text = \"I am actively looking for Ph.D. students. and you are a Ph.D student.\"\n",
    "print('문장 토큰화2 :',sent_tokenize(text))"
   ]
  },
  {
   "cell_type": "code",
   "execution_count": 11,
   "id": "2ba7d0a1-4f4c-4f9d-a82f-5a417d7c6107",
   "metadata": {},
   "outputs": [
    {
     "name": "stdout",
     "output_type": "stream",
     "text": [
      "한국어 문장 토큰화 : ['딥 러닝 자연어 처리가 재미있기는 합니다.', '그런데 문제는 영어보다 한국어로 할 때 너무 어렵습니다.', '즉, 이제. 해보면 알걸요?']\n"
     ]
    }
   ],
   "source": [
    "import kss\n",
    "\n",
    "text = '딥 러닝 자연어 처리가 재미있기는 합니다. 그런데 문제는 영어보다 한국어로 할 때 너무 어렵습니다. 즉, 이제. 해보면 알걸요?'\n",
    "print('한국어 문장 토큰화 :',kss.split_sentences(text))"
   ]
  },
  {
   "cell_type": "markdown",
   "id": "da490262-e539-4d89-9e30-73777bf45914",
   "metadata": {},
   "source": [
    "- 관찰\n",
    "    - 문장 토큰화1 : \\[\"Finally,\", \"about,\"\\] 처럼 쉼표를 문장구분으로 인정하지 않는다.\n",
    "    - 문장 토큰화2 ; \\[\"ph.D.\", \"ph.D\"\\] 처럼 온점(.)을 문장구분으로 인정하지 않는다.\n",
    "    - KSS : \\[\"즉, 이제. 해보면 알걸요?\"\\] 위 두개 처럼 쓰임은 다르지만 올바르게 구분해주는 것을 볼 수 있다."
   ]
  },
  {
   "cell_type": "markdown",
   "id": "2f0d4bea-823e-4eb4-b2ef-08ecb837fcbf",
   "metadata": {},
   "source": [
    "### _ 5. 한국어에서의 토큰화의 어려움\n",
    "\n",
    "- 영어는 웬만하면 띄어쓰기를 기준으로 하는 띄어쓰기 토큰화를 수행해도 단어 토큰화가 잘 작동한다. (예외도 있다.) \n",
    "- 한국어의 경우에는 띄어쓰기를 기준으로 하는 것은 \"어절 토큰화\"는 단어 단위가 아닌 경우가 많아서 사용하기 어렵다.\n",
    "- 한국어는 교착어 : 조사, 어미 등을 붙여서 말을 만드는 언어를 말합니다.\n",
    "\n",
    "#### __ 5-1) 교착어의 특성\n",
    "- 한국어는 어절이 독립적인 단어로 구성되는 것이 아니라 조사 등의 무언가가 붙어있는 경우가 많아서 이를 전부 분리해줘야 한다는 의미\n",
    "- 형태소 : 뜻을 가진 가장 작은 말의 단위를 말합니다. \n",
    "    - 자립 형태소 : 접사, 어미, 조사와 상관없이 자립하여 사용할 수 있는 형태소. 그 자체로 단어가 된다. 체언(명사, 대명사, 수사), 수식언(관형사, 부사), 감탄사 등이 있다.\n",
    "    - 의존 형태소 : 다른 형태소와 결합하여 사용되는 형태소. 접사, 어미, 조사, 어간를 말한다.\n",
    "\n",
    "- 예시 : 에디가 책을 읽었다 => ['에디가', '책을', '읽었다']\n",
    "- 자립 형태소 : 에디, 책\n",
    "- 의존 형태소 : -가, -을, 읽-, -었, -다\n",
    "\n",
    "- 결론 : 한국어에서는 어절 토큰화보다는 형태소 토큰화를 수행하는게 더 의미있다.\n",
    "\n",
    "#### __ 5-2) 한국어는 띄어쓰기가 영어보다 잘 지켜지지 않는다.\n",
    "- 한국어의 경우 띄어쓰기가 지켜지지 않아도 글을 쉽게 이해할 수 있는 언어라는 점\n",
    "- 예시 \n",
    "    - EX1) 제가이렇게띄어쓰기를전혀하지않고글을썼다고하더라도글을이해할수있습니다.\n",
    "    - EX2) Tobeornottobethatisthequestion\n",
    "- 한국어(모아쓰기 방식)와 영어(풀어쓰기 방식)라는 언어적 특성의 차이에 기인\n",
    "- 결론 : 한국어는 수많은 코퍼스에서 띄어쓰기가 무시되는 경우가 많아 자연어 처리가 어려워졌다는 것입니다."
   ]
  },
  {
   "cell_type": "markdown",
   "id": "739e9287-469d-48d8-8af7-4dc73fa213e0",
   "metadata": {},
   "source": [
    "### _ 6. 품사 태깅(Part-of-speech tagging)\n",
    "\n",
    "- 동음이의어 : 단어 표기는 같지만 단어의 의미가 다르다.\n",
    "- 따라서 단어가 어떤 품사로 쓰였는지 구분한다.\n",
    "- 품사 : 한 언어의 단어들을 그 의미, 형식, 기능에 따라 크게 분류한 것.\n",
    "\n",
    "### _ 7. NLTK와 KoNLPy를 이용한 영어, 한국어 토큰화 실습 \n",
    "- NLTK에서는 Penn Treebank POS Tags라는 기준을 사용하여 품사를 태깅합니다."
   ]
  },
  {
   "cell_type": "code",
   "execution_count": 4,
   "id": "5f4d920f-2362-4076-8716-9a581cdc7e08",
   "metadata": {},
   "outputs": [
    {
     "name": "stdout",
     "output_type": "stream",
     "text": [
      "단어 토큰화 : ['I', 'am', 'actively', 'looking', 'for', 'Ph.D.', 'students', '.', 'and', 'you', 'are', 'a', 'Ph.D.', 'student', '.']\n",
      "품사 태깅 : [('I', 'PRP'), ('am', 'VBP'), ('actively', 'RB'), ('looking', 'VBG'), ('for', 'IN'), ('Ph.D.', 'NNP'), ('students', 'NNS'), ('.', '.'), ('and', 'CC'), ('you', 'PRP'), ('are', 'VBP'), ('a', 'DT'), ('Ph.D.', 'NNP'), ('student', 'NN'), ('.', '.')]\n"
     ]
    }
   ],
   "source": [
    "from nltk.tokenize import word_tokenize\n",
    "from nltk.tag import pos_tag\n",
    "\n",
    "text = \"I am actively looking for Ph.D. students. and you are a Ph.D. student.\"\n",
    "tokenized_sentence = word_tokenize(text)\n",
    "\n",
    "print('단어 토큰화 :',tokenized_sentence)\n",
    "print('품사 태깅 :',pos_tag(tokenized_sentence))"
   ]
  },
  {
   "cell_type": "markdown",
   "id": "019cbe61-6fcd-46c4-b324-d6f20d8f9507",
   "metadata": {},
   "source": [
    "- Penn Treebank POG Tags에서 PRP는 인칭 대명사, VBP는 동사, RB는 부사, VBG는 현재부사, IN은 전치사, NNP는 고유 명사, NNS는 복수형 명사, CC는 접속사, DT는 관사\n",
    "\n",
    "- 한국어는 [KoNLPy(코엔엘파이)](https://konlpy.org/ko/latest/)라는 파이썬 패키지\n",
    "    - Okt(Open Korea Text)\n",
    "    - 메캅(Mecab)\n",
    "    - 코모란(Komoran)\n",
    "    - 한나눔(Hannanum)\n",
    "    - 꼬꼬마(Kkma)"
   ]
  },
  {
   "cell_type": "markdown",
   "id": "3ca58e00-5a96-4a38-b8c8-0b746345d009",
   "metadata": {},
   "source": [
    "- 기본적인 명령어\n",
    "    - morphs : 형태소 추출\n",
    "    - pos : 품사 태깅(Part-of-speech tagging)\n",
    "    - nouns : 명사 추출"
   ]
  },
  {
   "cell_type": "code",
   "execution_count": 12,
   "id": "233872c6-8d7f-4ad7-9d43-06417a626fa3",
   "metadata": {},
   "outputs": [],
   "source": [
    "from konlpy.tag import Okt\n",
    "from konlpy.tag import Kkma\n",
    "from konlpy.tag import Komoran\n",
    "from konlpy.tag import Hannanum\n",
    "\n",
    "okt = Okt()\n",
    "kkma = Kkma()\n",
    "komoran = Komoran()\n",
    "hannanum = Hannanum()"
   ]
  },
  {
   "cell_type": "code",
   "execution_count": 13,
   "id": "853bca48-4275-4a29-8a1d-330baae946d3",
   "metadata": {},
   "outputs": [
    {
     "name": "stdout",
     "output_type": "stream",
     "text": [
      "OKT 형태소 분석 : ['열심히', '코딩', '한', '당신', ',', '연휴', '에는', '여행', '을', '가봐요']\n",
      "OKT 품사 태깅 : [('열심히', 'Adverb'), ('코딩', 'Noun'), ('한', 'Josa'), ('당신', 'Noun'), (',', 'Punctuation'), ('연휴', 'Noun'), ('에는', 'Josa'), ('여행', 'Noun'), ('을', 'Josa'), ('가봐요', 'Verb')]\n",
      "OKT 명사 추출 : ['코딩', '당신', '연휴', '여행']\n"
     ]
    }
   ],
   "source": [
    "print('OKT 형태소 분석 :',okt.morphs(\"열심히 코딩한 당신, 연휴에는 여행을 가봐요\"))\n",
    "print('OKT 품사 태깅 :',okt.pos(\"열심히 코딩한 당신, 연휴에는 여행을 가봐요\"))\n",
    "print('OKT 명사 추출 :',okt.nouns(\"열심히 코딩한 당신, 연휴에는 여행을 가봐요\")) "
   ]
  },
  {
   "cell_type": "code",
   "execution_count": 4,
   "id": "697831f7-fe58-4ba6-a3cc-ed305c635511",
   "metadata": {},
   "outputs": [
    {
     "name": "stdout",
     "output_type": "stream",
     "text": [
      "꼬꼬마 형태소 분석 : ['열심히', '코딩', '하', 'ㄴ', '당신', ',', '연휴', '에', '는', '여행', '을', '가보', '아요']\n",
      "꼬꼬마 품사 태깅 : [('열심히', 'MAG'), ('코딩', 'NNG'), ('하', 'XSV'), ('ㄴ', 'ETD'), ('당신', 'NP'), (',', 'SP'), ('연휴', 'NNG'), ('에', 'JKM'), ('는', 'JX'), ('여행', 'NNG'), ('을', 'JKO'), ('가보', 'VV'), ('아요', 'EFN')]\n",
      "꼬꼬마 명사 추출 : ['코딩', '당신', '연휴', '여행']\n"
     ]
    }
   ],
   "source": [
    "print('꼬꼬마 형태소 분석 :',kkma.morphs(\"열심히 코딩한 당신, 연휴에는 여행을 가봐요\"))\n",
    "print('꼬꼬마 품사 태깅 :',kkma.pos(\"열심히 코딩한 당신, 연휴에는 여행을 가봐요\"))\n",
    "print('꼬꼬마 명사 추출 :',kkma.nouns(\"열심히 코딩한 당신, 연휴에는 여행을 가봐요\"))  "
   ]
  },
  {
   "cell_type": "code",
   "execution_count": 14,
   "id": "6a2656e4-8022-4922-9884-0f8ed1a2677b",
   "metadata": {},
   "outputs": [
    {
     "name": "stdout",
     "output_type": "stream",
     "text": [
      "꼬꼬마 형태소 분석 : ['열심히', '코', '딩', '하', 'ㄴ', '당신', ',', '연휴', '에', '는', '여행', '을', '가', '아', '보', '아요']\n",
      "꼬꼬마 품사 태깅 : [('열심히', 'MAG'), ('코', 'NNG'), ('딩', 'MAG'), ('하', 'XSV'), ('ㄴ', 'ETM'), ('당신', 'NNP'), (',', 'SP'), ('연휴', 'NNG'), ('에', 'JKB'), ('는', 'JX'), ('여행', 'NNG'), ('을', 'JKO'), ('가', 'VV'), ('아', 'EC'), ('보', 'VX'), ('아요', 'EC')]\n",
      "꼬꼬마 명사 추출 : ['코', '당신', '연휴', '여행']\n"
     ]
    }
   ],
   "source": [
    "print('꼬꼬마 형태소 분석 :',komoran.morphs(\"열심히 코딩한 당신, 연휴에는 여행을 가봐요\"))\n",
    "print('꼬꼬마 품사 태깅 :',komoran.pos(\"열심히 코딩한 당신, 연휴에는 여행을 가봐요\"))\n",
    "print('꼬꼬마 명사 추출 :',komoran.nouns(\"열심히 코딩한 당신, 연휴에는 여행을 가봐요\"))  "
   ]
  },
  {
   "cell_type": "code",
   "execution_count": 15,
   "id": "9b48fe6b-8090-4d92-9d70-d302af5ac9ad",
   "metadata": {},
   "outputs": [
    {
     "name": "stdout",
     "output_type": "stream",
     "text": [
      "꼬꼬마 형태소 분석 : ['열심히', '코딩', '하', 'ㄴ', '당신', ',', '연휴', '에는', '여행', '을', '가', '아', '보', '아']\n",
      "꼬꼬마 품사 태깅 : [('열심히', 'M'), ('코딩', 'N'), ('하', 'X'), ('ㄴ', 'E'), ('당신', 'N'), (',', 'S'), ('연휴', 'N'), ('에는', 'J'), ('여행', 'N'), ('을', 'J'), ('가', 'P'), ('아', 'E'), ('보', 'P'), ('아', 'E')]\n",
      "꼬꼬마 명사 추출 : ['코딩', '당신', '연휴', '여행']\n"
     ]
    }
   ],
   "source": [
    "print('꼬꼬마 형태소 분석 :',hannanum.morphs(\"열심히 코딩한 당신, 연휴에는 여행을 가봐요\"))\n",
    "print('꼬꼬마 품사 태깅 :',hannanum.pos(\"열심히 코딩한 당신, 연휴에는 여행을 가봐요\"))\n",
    "print('꼬꼬마 명사 추출 :',hannanum.nouns(\"열심히 코딩한 당신, 연휴에는 여행을 가봐요\"))  "
   ]
  },
  {
   "cell_type": "markdown",
   "id": "2a500f93-b644-4822-a0a0-e1bca64fe194",
   "metadata": {},
   "source": [
    "- Mecab은 실행하는데 추가 설치가 필요한 부분들이 있다. 전에 해본적이 있었는데 환경이 바뀌면서 다시 설치하려니 부딪히는 부분들이 있어 아직 해결하지 못했다.\n",
    "\n",
    "```python\n",
    "from konlpy.tag import Mecab\n",
    "mecab = Mecab()\n",
    "```\n"
   ]
  },
  {
   "cell_type": "markdown",
   "id": "74106398-1cfa-4a1e-a310-dd2e0972c978",
   "metadata": {},
   "source": [
    "<p id=\"Cleaning_Normalization\"></p>  \n",
    "\n",
    "\n",
    "## 정제(Cleaning) and 정규화(Normalization)\n",
    "\n",
    "[https://wikidocs.net/21693](https://wikidocs.net/21693)"
   ]
  },
  {
   "cell_type": "markdown",
   "id": "71c64483-7d42-4529-a4b8-5cf9f24d5290",
   "metadata": {},
   "source": [
    "- 정제(cleaning) : 갖고 있는 코퍼스로부터 노이즈 데이터를 제거한다.\n",
    "- 정규화(normalization) : 표현 방법이 다른 단어들을 통합시켜서 같은 단어로 만들어준다.\n",
    "\n",
    "- 토큰화 : 코퍼스에서 용도에 맞게 토큰을 분류하는 작업\n",
    "- 토큰화 작업 **전, 후**에는 텍스트 데이터를 용도에 맞게 정제(cleaning) 및 정규화(normalization)하는 일이 항상 함께\n",
    "\n",
    "- 결론적으로 정제와 정규화는 일종의 합의점을 찾기도 한다."
   ]
  },
  {
   "cell_type": "markdown",
   "id": "5f12b248-9835-43d6-ac60-678f24c28f60",
   "metadata": {},
   "source": [
    "### _ 1. 규칙에 기반한 표기가 다른 단어들의 통합\n",
    "- 직접 정한 규칙 적용\n",
    "- 같은 의미를 같은 다른 표기를 하나의 단어로 표기하는 방법\n",
    "- 예시 : US 와 USA는 같은 의미이므로 같은 표기로 나타내는게 좋다."
   ]
  },
  {
   "cell_type": "markdown",
   "id": "415e5b6c-c6fd-4ed8-91d8-a7688c9d8f48",
   "metadata": {},
   "source": [
    "### _ 2. 대, 소문자 통합\n",
    "- 영어권에서 사용하는 방법으로 대,소문자를 통합하여 단어의 개수를 줄이는 방법이다.\n",
    "- 예외도 있다. 대문자의 의미가 있을 때인데, US와 us는 다른 뜻을 가지고 있다. 고유 이름은 대문자로 유지되는 것이 옳다.\n",
    "- 만약 예외 사항에 대한 큰 고려가 없을 때는 전체 소문자로 바꾸는 것이 실용적일 수 있다."
   ]
  },
  {
   "cell_type": "markdown",
   "id": "ebb94f39-973a-4809-87b5-924309ad0df3",
   "metadata": {},
   "source": [
    "### _ 3. 불필요한 단어의 제거\n",
    "- 불필요한 단어는 자연어가 아닌 글자(특수 문자)도 있지만 분석하는 목적에 맞지 않은 불필요한 데이터도 말한다.\n",
    "\n",
    "#### __ 3-1) 등장 빈도가 적은 단어\n",
    "- 텍스트 데이터에서 너무 적게 등장해서 자연어 처리에 도움이 되지 않는 단어들이 존재한다. 스팸 메일 분류에서 전체 데이터에 5번 정도 나온 단어는 분류하는데 도움이 될 가능성이 적다. (물론 확실히 스팸 또는 정상 메일인지 알 수 있는 단어일수도 있다.)\n",
    "\n",
    "#### __ 3-2) 길이가 짧은 단어\n",
    "- 영어권과 한국어는 언어의 특징에 따라 다른 관점이 존재한다.\n",
    "- 영어권\n",
    "    - 길이가 짧은 단어는 대부분 불용어에 해당되므로 의미없는 단어들을 제거하는데 효과를 볼 수 있다.\n",
    "    - 구두점들까지도 한꺼번에 제거할 수 있다.\n",
    "- 한국어\n",
    "    - 영어권에 상대적으로 한국어는 한 단어에 대한 글자수는 "
   ]
  },
  {
   "cell_type": "markdown",
   "id": "97c3dc10-1506-467f-877c-263c012b733b",
   "metadata": {},
   "source": [
    "<p id=\"Stemming_Lemmatization\"></p>  \n",
    "\n",
    "\n",
    "## 어간 추출(Stemming) and 표제어 추출(Lemmatization)\n",
    "\n",
    "[https://wikidocs.net/21707](https://wikidocs.net/21707)"
   ]
  },
  {
   "cell_type": "markdown",
   "id": "9cc31692-f8bb-4a4b-907e-d7e5c462f78d",
   "metadata": {},
   "source": [
    "<p id=\"Stopword\"></p>  \n",
    "\n",
    "\n",
    "## 불용어(Stopword)\n",
    "\n",
    "[https://wikidocs.net/22530](https://wikidocs.net/22530)"
   ]
  },
  {
   "cell_type": "markdown",
   "id": "cc97c6bb-8085-4bc1-9700-765a5f57bb39",
   "metadata": {},
   "source": [
    "<p id=\"Regular_Expression\"></p>  \n",
    "\n",
    "\n",
    "## 정규 표현식(Regular Expression)\n",
    "\n",
    "[https://wikidocs.net/21703](https://wikidocs.net/22530)"
   ]
  },
  {
   "cell_type": "markdown",
   "id": "220de683-49c3-4e67-862c-5c2f0350b8f1",
   "metadata": {},
   "source": [
    "<p id=\"Integer_Encoding\"></p>  \n",
    "\n",
    "\n",
    "## 정수 인코딩(Integer Encoding)\n",
    "\n",
    "[https://wikidocs.net/31766](https://wikidocs.net/31766)"
   ]
  },
  {
   "cell_type": "markdown",
   "id": "fefdfe56-e5d2-495a-b4ad-8d33b539100b",
   "metadata": {},
   "source": [
    "<p id=\"Padding\"></p>  \n",
    "\n",
    "\n",
    "## 패딩(Padding)\n",
    "\n",
    "[https://wikidocs.net/83544](https://wikidocs.net/83544)"
   ]
  },
  {
   "cell_type": "markdown",
   "id": "0c8b572c-3483-4c74-a54d-f0436388e2f0",
   "metadata": {},
   "source": [
    "<p id=\"One-Hot_Encoding\"></p>  \n",
    "\n",
    "\n",
    "## 원-핫 인코딩(One-Hot Encoding)\n",
    "\n",
    "[https://wikidocs.net/22647](https://wikidocs.net/22647)"
   ]
  },
  {
   "cell_type": "markdown",
   "id": "1117719b-fe3c-4a08-b94c-391958499346",
   "metadata": {},
   "source": [
    "<p id=\"Splitting_Data\"></p>  \n",
    "\n",
    "\n",
    "## 데이터의 분리(Splitting Data)\n",
    "\n",
    "[https://wikidocs.net/33274](https://wikidocs.net/33274)"
   ]
  },
  {
   "cell_type": "markdown",
   "id": "5c394e01-c1b9-4283-b84b-8e9aa776f8ec",
   "metadata": {},
   "source": [
    "<p id=\"Text_Preprocessing_Tools_for_Korean_Text\"></p>  \n",
    "\n",
    "\n",
    "## 한국어 전처리 패키지(Text Preprocessing Tools for Korean Text)\n",
    "\n",
    "[https://wikidocs.net/92961(https://wikidocs.net/92961)"
   ]
  }
 ],
 "metadata": {
  "kernelspec": {
   "display_name": "Python 3 (ipykernel)",
   "language": "python",
   "name": "python3"
  },
  "language_info": {
   "codemirror_mode": {
    "name": "ipython",
    "version": 3
   },
   "file_extension": ".py",
   "mimetype": "text/x-python",
   "name": "python",
   "nbconvert_exporter": "python",
   "pygments_lexer": "ipython3",
   "version": "3.7.13"
  }
 },
 "nbformat": 4,
 "nbformat_minor": 5
}
