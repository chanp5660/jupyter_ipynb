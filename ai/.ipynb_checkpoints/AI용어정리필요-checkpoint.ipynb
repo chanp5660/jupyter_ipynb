{
 "cells": [
  {
   "cell_type": "markdown",
   "id": "516682c0-b7f9-44fd-ae48-55c3011434f9",
   "metadata": {},
   "source": [
    "---  \n",
    "layout: post  \n",
    "current: post  \n",
    "cover:  assets/built/images/AI_List.png  \n",
    "navigation: True  \n",
    "title: AI List   \n",
    "date: 2023-02-13 00:00:00 +0900  \n",
    "tags: [ai]  \n",
    "class: post-template  \n",
    "subclass: 'post tag-python'  \n",
    "author: chanp5660  \n",
    "---  "
   ]
  },
  {
   "cell_type": "markdown",
   "id": "ddd2eb93-11ec-4a77-9dd7-b73f3f394d94",
   "metadata": {
    "tags": []
   },
   "source": [
    "# AI 용어정리\n",
    "\n",
    "- 필요한 정도까지만 포스팅(시간이 오래걸림)\n",
    "\n",
    "## 포스팅 됨 \n",
    "\n",
    "- [서포트벡터머신(SVM)](https://chanp5660.github.io/서포트벡터머신(SVM))\n",
    "- [로지스틱 회귀분석](https://chanp5660.github.io/로지스틱회귀)\n",
    "- [결정경계](https://chanp5660.github.io/결정경계)\n",
    "- [손실함수](https://chanp5660.github.io/손실함수)\n",
    "- [선형분류](https://chanp5660.github.io/선형분류)\n",
    "\n",
    "## 포스팀 안됨\n",
    "\n",
    "> 이동하면서 볼 수 있도록 공부할만한 사이트 링크 걸어둔다.\n",
    "\n",
    "- [GridSearch](https://velog.io/@hyunicecream/GridSearchCV란-어떻게-사용할까)\n",
    "- [이진분류](https://076923.github.io/posts/Python-pytorch-12/)\n",
    "- [다중분류](https://076923.github.io/posts/Python-pytorch-13/)\n",
    "- [소프트맥스 함수](https://syj9700.tistory.com/38)\n",
    "- [확률적경사하강법](https://mangkyu.tistory.com/62)\n",
    "- [ML-데이터수집]()\n",
    "- [Log Loss](https://seoyoungh.github.io/machine-learning/ml-logloss/)"
   ]
  }
 ],
 "metadata": {
  "kernelspec": {
   "display_name": "Python 3 (ipykernel)",
   "language": "python",
   "name": "python3"
  },
  "language_info": {
   "codemirror_mode": {
    "name": "ipython",
    "version": 3
   },
   "file_extension": ".py",
   "mimetype": "text/x-python",
   "name": "python",
   "nbconvert_exporter": "python",
   "pygments_lexer": "ipython3",
   "version": "3.7.13"
  }
 },
 "nbformat": 4,
 "nbformat_minor": 5
}
