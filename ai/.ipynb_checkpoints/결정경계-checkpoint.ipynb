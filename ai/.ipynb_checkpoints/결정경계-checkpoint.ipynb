{
 "cells": [
  {
   "cell_type": "markdown",
   "id": "976b3274-91fa-4dad-8081-b5755b861673",
   "metadata": {},
   "source": [
    "---  \n",
    "layout: post  \n",
    "current: post  \n",
    "cover:  assets/built/images/결정경계.png  \n",
    "navigation: True  \n",
    "title: 결정경계   \n",
    "date: 2023-02-17 00:00:00 +0900  \n",
    "tags: [ai]  \n",
    "class: post-template  \n",
    "subclass: 'post tag-python'  \n",
    "author: chanp5660  \n",
    "---  "
   ]
  },
  {
   "cell_type": "markdown",
   "id": "adb64a04-f9b6-4030-874e-6e51295dd3a2",
   "metadata": {},
   "source": [
    "# 결정경계 Decision Boundaries\n",
    "\n",
    "- 뜻 풀이 그대로 분류를 **결정**하기 위한 **경계**\n",
    "- 종류\n",
    "    - 선형 결정경계\n",
    "        - SVM\n",
    "    - 비선형 결정경계\n",
    "- [이미지 참조](https://www.oreilly.com/library/view/data-analysis-with/9781788393720/7ef9ff0a-000c-44e1-ad6a-d352e0744c74.xhtml)"
   ]
  }
 ],
 "metadata": {
  "kernelspec": {
   "display_name": "Python 3 (ipykernel)",
   "language": "python",
   "name": "python3"
  },
  "language_info": {
   "codemirror_mode": {
    "name": "ipython",
    "version": 3
   },
   "file_extension": ".py",
   "mimetype": "text/x-python",
   "name": "python",
   "nbconvert_exporter": "python",
   "pygments_lexer": "ipython3",
   "version": "3.7.13"
  }
 },
 "nbformat": 4,
 "nbformat_minor": 5
}
