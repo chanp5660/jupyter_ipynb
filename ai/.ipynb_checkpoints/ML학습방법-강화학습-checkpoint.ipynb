{
 "cells": [
  {
   "cell_type": "markdown",
   "id": "f58680b5-0480-487e-952b-8503620d7a9c",
   "metadata": {},
   "source": [
    "---\n",
    "layout: post  \n",
    "current: post  \n",
    "cover:  assets/built/images/ML학습방법.png  \n",
    "navigation: True  \n",
    "title: 머신러닝-강화학습  \n",
    "date: 2023-02-12 00:00:00 +0900  \n",
    "tags: [ai]  \n",
    "class: post-template  \n",
    "subclass: 'post tag-python'  \n",
    "author: chanp5660  \n",
    "---\n"
   ]
  },
  {
   "cell_type": "markdown",
   "id": "527f7a50-ae48-4086-9798-6fd184136198",
   "metadata": {},
   "source": [
    "# 머신러닝 학습방법 - 강화학습\n"
   ]
  },
  {
   "cell_type": "code",
   "execution_count": null,
   "id": "f2165a27-afcb-407e-996a-08c2c307f89e",
   "metadata": {},
   "outputs": [],
   "source": []
  }
 ],
 "metadata": {
  "kernelspec": {
   "display_name": "Python 3 (ipykernel)",
   "language": "python",
   "name": "python3"
  },
  "language_info": {
   "codemirror_mode": {
    "name": "ipython",
    "version": 3
   },
   "file_extension": ".py",
   "mimetype": "text/x-python",
   "name": "python",
   "nbconvert_exporter": "python",
   "pygments_lexer": "ipython3",
   "version": "3.7.13"
  }
 },
 "nbformat": 4,
 "nbformat_minor": 5
}
