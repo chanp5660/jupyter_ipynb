{
 "cells": [
  {
   "cell_type": "markdown",
   "id": "516682c0-b7f9-44fd-ae48-55c3011434f9",
   "metadata": {},
   "source": [
    "---  \n",
    "layout: post  \n",
    "current: post  \n",
    "cover:  assets/built/images/용어정리필요.png  \n",
    "navigation: True  \n",
    "title: 용어정리필요   \n",
    "date: 2023-02-13 00:00:00 +0900  \n",
    "tags: [ai]  \n",
    "class: post-template  \n",
    "subclass: 'post tag-python'  \n",
    "author: chanp5660  \n",
    "---  "
   ]
  },
  {
   "cell_type": "markdown",
   "id": "ddd2eb93-11ec-4a77-9dd7-b73f3f394d94",
   "metadata": {},
   "source": [
    "# 용어정리\n",
    "\n",
    "> 필요한 용어 정리는 한번 하자  \n",
    "필요한 정보까지만 포스팅하자 ( 깊게 하려니 너무 오래 걸린다. )\n",
    "차근차근 하자\n",
    "\n",
    "## 포스팅 됨 \n",
    "\n",
    "- [SVM](https://chanp5660.github.io/서포트벡터머신(SVM))\n",
    "- [로지스틱 회귀분석](https://chanp5660.github.io/로지스틱회귀)\n",
    "\n",
    "## 포스팀 안됨\n",
    "\n",
    "> 이동하면서 볼 수 있도록 공부할만한 사이트 링크 걸어둔다.\n",
    "\n",
    "- [손실함수](https://heytech.tistory.com/361)\n",
    "- [GridSearch](https://velog.io/@hyunicecream/GridSearchCV란-어떻게-사용할까)"
   ]
  }
 ],
 "metadata": {
  "kernelspec": {
   "display_name": "Python 3 (ipykernel)",
   "language": "python",
   "name": "python3"
  },
  "language_info": {
   "codemirror_mode": {
    "name": "ipython",
    "version": 3
   },
   "file_extension": ".py",
   "mimetype": "text/x-python",
   "name": "python",
   "nbconvert_exporter": "python",
   "pygments_lexer": "ipython3",
   "version": "3.7.13"
  }
 },
 "nbformat": 4,
 "nbformat_minor": 5
}
