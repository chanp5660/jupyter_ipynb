{
 "cells": [
  {
   "cell_type": "markdown",
   "id": "c3e9e32b-9522-47de-8c54-9dc51cc9cbd6",
   "metadata": {},
   "source": [
    "---\n",
    "layout: post  \n",
    "current: post  \n",
    "cover:  assets/built/images/비지도학습.png  \n",
    "navigation: True  \n",
    "title: 비지도학습  \n",
    "date: 2023-02-25 00:00:00 +0900  \n",
    "tags: [ai]  \n",
    "class: post-template  \n",
    "subclass: 'post tag-python'  \n",
    "author: chanp5660  \n",
    "---\n"
   ]
  },
  {
   "cell_type": "markdown",
   "id": "a82ed371-0e5e-42d0-84b7-2a5c5ad2e54b",
   "metadata": {},
   "source": [
    "# 비지도학습 (Unsupervised Learning)\n",
    "\n",
    "> 기본적으로 ChatGPT를 이용하여 틀을 잡고 만들어갈 것이며, 하나씩 해결해나가는 느낌으로 ML을 복습 및 검토한다."
   ]
  },
  {
   "cell_type": "markdown",
   "id": "889d2588-b0a6-4d92-90c3-286756c1e46c",
   "metadata": {},
   "source": [
    "## 비지도학습 정의\n",
    "\n",
    "- **레이블(정답)** 된 데이터 **없이** **입력 데이터만**으로 **패턴을 학습**하는 머신러닝의 한 분야입니다. \n",
    "- 데이터의 구조나 패턴을 찾아내기 위해 데이터를 **자동**으로 **클러스터링**하거나, **차원 축소**, **밀도 추정**, **이상치 탐색** 등 다양한 방법이 사용될 수 있습니다. \n",
    "- **사용** : 데이터 분석, 데이터 전처리, 데이터 시각화, 추천 시스템, 이미지/음성/텍스트 처리, 생성 모델링 등"
   ]
  },
  {
   "cell_type": "markdown",
   "id": "0ef27311-cb7d-43d8-b02a-1c515dbc3262",
   "metadata": {},
   "source": [
    "## 해결 알고리즘 종류  \n",
    "\n",
    "- 군집화(Clustering)\n",
    "    > 데이터들을 서로 유사한 특징을 가진 그룹으로 나누는 알고리즘   \n",
    "    K-Means, Hierarchical Clustering 등\n",
    "- 차원 축소(Dimensionality Reduction)\n",
    "    > 고차원 데이터를 저차원 데이터로 변환하는 알고리즘   \n",
    "    PCA, t-SNE, LLE 등이 있습니다.\n",
    "- 이상치 탐지(Outlier Detection)\n",
    "    > 데이터셋에서 이상치를 탐지하는 알고리즘   \n",
    "    Isolation Forest, One-Class SVM 등\n",
    "- 연관 규칙 학습(Association Rule Learning)\n",
    "    > 데이터에서 자주 발생하는 규칙을 찾아내는 알고리즘   \n",
    "    Apriori, FP-Growth 등\n",
    "- 생성 모델(Generative Model)\n",
    "    > 데이터셋을 생성하는 확률 모델을 학습하는 알고리즘   \n",
    "    GAN, VAE 등\n",
    "- 클러스터링(Curver Clustering)\n",
    "    > 곡선으로 이루어진 클러스터링 방법으로 이전의 클러스터링 방법들과는 차별화된 특성   \n",
    "    OPTICS, DBSCAN 등"
   ]
  }
 ],
 "metadata": {
  "kernelspec": {
   "display_name": "Python 3 (ipykernel)",
   "language": "python",
   "name": "python3"
  },
  "language_info": {
   "codemirror_mode": {
    "name": "ipython",
    "version": 3
   },
   "file_extension": ".py",
   "mimetype": "text/x-python",
   "name": "python",
   "nbconvert_exporter": "python",
   "pygments_lexer": "ipython3",
   "version": "3.7.13"
  }
 },
 "nbformat": 4,
 "nbformat_minor": 5
}
