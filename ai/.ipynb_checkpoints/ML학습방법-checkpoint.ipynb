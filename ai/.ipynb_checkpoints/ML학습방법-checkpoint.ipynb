{
 "cells": [
  {
   "cell_type": "markdown",
   "id": "1a9e2233-30ef-466c-89e7-8848a0283490",
   "metadata": {},
   "source": [
    "---\n",
    "layout: post  \n",
    "current: post  \n",
    "cover:  assets/built/images/ML학습방법.png  \n",
    "navigation: True  \n",
    "title: 머신러닝학습방법  \n",
    "date: 2023-02-12 00:00:00 +0900  \n",
    "tags: [ai]  \n",
    "class: post-template  \n",
    "subclass: 'post tag-python'  \n",
    "author: chanp5660  \n",
    "---\n"
   ]
  },
  {
   "cell_type": "markdown",
   "id": "527f7a50-ae48-4086-9798-6fd184136198",
   "metadata": {},
   "source": [
    "# 머신러닝 학습방법  \n",
    "\n"
   ]
  },
  {
   "cell_type": "markdown",
   "id": "e795fd2c-e0e9-4c4c-b837-c247cf4285b6",
   "metadata": {},
   "source": [
    "# 종류\n",
    "\n",
    "## 지도 학습\n",
    "\n",
    "- 데이터에서 반복적으로 학습하는 알고리즘을 사용하여 컴퓨터가 어디를 찾아봐야 하는 지를 명시적으로 프로그래밍하지 않고도 숨겨진 통찰력을 찾을 수 있도록 하는 데이터 분석 방법\n",
    "\n",
    "## 비지도 학습\n",
    "\n",
    "- 지도 학습과는 달리 정답 라벨이 없는 데이터를 비슷한 특징끼리 군집화 하여 새로운 데이터에 대한 결과를 예측하는 방법\n",
    "\n",
    "## 강화 학습\n",
    "\n",
    "- 행동 심리학에서 나온 이론으로 분류할 수 있는 데이터가 존재하는 것도 아니고 데이터가 있어도 정답이 따로 정해져 있지 않으며 자신이 한 행동에 대해 보상(reward)를 받으며 학습하는 것\n"
   ]
  },
  {
   "cell_type": "markdown",
   "id": "88cd23f1-119e-4fc2-9eac-7d0cba0b7bf0",
   "metadata": {},
   "source": [
    "# 일반적인 단계\n",
    "\n",
    "1. 데이터분류 X,Y, train, dev, test 데이터를 분류\n",
    "2. 분류기 인스턴스화\n",
    "3. 하이퍼 파라미터 수정\n",
    "4. fit (training, 학습, 훈련)\n",
    "5. predict (예측, 테스트, develop)\n",
    "6. score (평가)"
   ]
  },
  {
   "cell_type": "markdown",
   "id": "934db148-4365-49d6-98a5-5cade0420428",
   "metadata": {},
   "source": [
    "------\n",
    "추가 포스팅 하여 링크 추가 시켜야하는 것\n",
    "\n",
    "[https://blogs.nvidia.co.kr/2018/09/03/supervised-unsupervised-learning/](https://blogs.nvidia.co.kr/2018/09/03/supervised-unsupervised-learning/)\n",
    "- 지도학습\n",
    "- 비지도학습\n",
    "- 강화학습"
   ]
  }
 ],
 "metadata": {
  "kernelspec": {
   "display_name": "Python 3 (ipykernel)",
   "language": "python",
   "name": "python3"
  },
  "language_info": {
   "codemirror_mode": {
    "name": "ipython",
    "version": 3
   },
   "file_extension": ".py",
   "mimetype": "text/x-python",
   "name": "python",
   "nbconvert_exporter": "python",
   "pygments_lexer": "ipython3",
   "version": "3.7.13"
  }
 },
 "nbformat": 4,
 "nbformat_minor": 5
}
