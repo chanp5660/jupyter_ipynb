{
 "cells": [
  {
   "cell_type": "markdown",
   "id": "2f8a0c16-26fc-4234-86dd-5ce27717d378",
   "metadata": {},
   "source": [
    "---  \n",
    "layout: post  \n",
    "current: post  \n",
    "cover:  assets/built/images/손실함수.png  \n",
    "navigation: True  \n",
    "title: 손실함수   \n",
    "date: 2023-02-17 00:00:00 +0900  \n",
    "tags: [ai]  \n",
    "class: post-template  \n",
    "subclass: 'post tag-python'  \n",
    "author: chanp5660  \n",
    "---  "
   ]
  },
  {
   "cell_type": "markdown",
   "id": "1bb99d35-6fc6-48de-8f32-38cb96312be0",
   "metadata": {},
   "source": [
    "# 손실함수 Loss Function\n",
    "\n",
    "- 지도학습 시 알고리즘이 예측한 값과 실제 정답의 차이를 비교하기 위한 함수를 뜻함\n",
    "- 알고리즘이 잘못 예측한 정도\n",
    "- 길잡이 역할;손실함수를 최소화 하여 최적화 하려고 함\n",
    "- 목적함수(Objective Function)이라고도 함\n",
    "- 모델의 성능 척도(Performance Measure)와는 다른 개념\n",
    "    - 성능 척도 : **학습된** 알고리즘의 성능을 정략적으로 평가하기 위한 지표로써 정확도, F1점수, 정밀도 등이 있음\n",
    "    - 손실 함수 : **학습 중**에 학습이 얼마나 잘 되고 있는지 평가하기 위한 지표"
   ]
  },
  {
   "cell_type": "markdown",
   "id": "27c75336-8024-47f6-88e3-b61306cfd7d8",
   "metadata": {},
   "source": [
    "# 참조\n",
    "[https://heytech.tistory.com/361](https://heytech.tistory.com/361)"
   ]
  }
 ],
 "metadata": {
  "kernelspec": {
   "display_name": "Python 3 (ipykernel)",
   "language": "python",
   "name": "python3"
  },
  "language_info": {
   "codemirror_mode": {
    "name": "ipython",
    "version": 3
   },
   "file_extension": ".py",
   "mimetype": "text/x-python",
   "name": "python",
   "nbconvert_exporter": "python",
   "pygments_lexer": "ipython3",
   "version": "3.7.13"
  }
 },
 "nbformat": 4,
 "nbformat_minor": 5
}
