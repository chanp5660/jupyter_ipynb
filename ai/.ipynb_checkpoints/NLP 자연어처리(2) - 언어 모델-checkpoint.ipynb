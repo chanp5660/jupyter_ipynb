{
 "cells": [
  {
   "cell_type": "markdown",
   "id": "c513e30e-58af-4128-b504-b097bed5359d",
   "metadata": {},
   "source": [
    "---\n",
    "layout: post  \n",
    "current: post  \n",
    "cover:  assets/built/images/NLPwikidocs-logo.png  \n",
    "navigation: True  \n",
    "title: NLP 자연어처리(2) - 언어 모델  \n",
    "date: 2022-07-22 22:00:00 +0900  \n",
    "tags: [deeplearning, python]  \n",
    "class: post-template  \n",
    "subclass: 'post tag-python'  \n",
    "author: chanp5660  \n",
    "---\n",
    "\n",
    "{% include NLP-table-of-contents.html %}"
   ]
  },
  {
   "cell_type": "markdown",
   "id": "816b2c47-a43a-4090-8fd6-1dde6028b25a",
   "metadata": {},
   "source": [
    "# NLP 자연어처리(2) - 언어 모델\n",
    "\n",
    "- 본 블로그는 위키독스에 나와있는 [**딥 러닝을 이용한 자연어 처리 입문**](https://wikidocs.net/book/2155)을 따라하고 실행하면서 나만의 추가 정보들을 넣어가면 진행하기 위한 글이다. 배우려고 하는 사람은 제공된 링크를 타고 가서 배우는게 본 블로그보다 정리가 잘되어 있어 깔끔하고 좋다."
   ]
  },
  {
   "cell_type": "markdown",
   "id": "7bfeea1c-d445-4d55-aef0-1a68b964c69b",
   "metadata": {},
   "source": [
    "- 언어 모델(Language Model)\n",
    "    - <a href=\"#Language_Model\">언어 모델(Language Model)이란?</a>\n",
    "    - <a href=\"#SLM\">통계적 언어 모델(Statistical Language Model, SLM)</a>\n",
    "    - <a href=\"#Stemming_Lemmatization\">N-gram 언어 모델(N-gram Language Model)</a>\n",
    "    - <a href=\"#Language_Model_for_Korean_Sentences\">한국어에서의 언어 모델(Language Model for Korean Sentences)</a>\n",
    "    - <a href=\"#PPL\">펄플렉서티(Perplexity, PPL)</a>\n",
    "    - <a href=\"#Conditional Probability\">조건부 확률(Conditional Probability)</a>"
   ]
  },
  {
   "cell_type": "markdown",
   "id": "b56de4e1-e813-464f-8175-bee1710ef07b",
   "metadata": {},
   "source": [
    "-- 수정중 --"
   ]
  }
 ],
 "metadata": {
  "kernelspec": {
   "display_name": "Python 3 (ipykernel)",
   "language": "python",
   "name": "python3"
  },
  "language_info": {
   "codemirror_mode": {
    "name": "ipython",
    "version": 3
   },
   "file_extension": ".py",
   "mimetype": "text/x-python",
   "name": "python",
   "nbconvert_exporter": "python",
   "pygments_lexer": "ipython3",
   "version": "3.10.4"
  }
 },
 "nbformat": 4,
 "nbformat_minor": 5
}
