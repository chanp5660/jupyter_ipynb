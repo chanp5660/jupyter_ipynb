{
 "cells": [
  {
   "cell_type": "markdown",
   "id": "83bc2e27-781b-4159-b362-54e5133a100a",
   "metadata": {},
   "source": [
    "---\n",
    "layout: post  \n",
    "current: post  \n",
    "cover:  assets/built/images/ai-logo.jpg  \n",
    "navigation: True  \n",
    "title: 머신러닝 데이터 수집  \n",
    "date: 2023-02-06 17:00:31 +0900  \n",
    "tags: [ai]  \n",
    "class: post-template  \n",
    "subclass: 'post tag-python'  \n",
    "author: chanp5660  \n",
    "---\n",
    "\n",
    "{% include AI-table-of-contents.html %}"
   ]
  },
  {
   "cell_type": "code",
   "execution_count": null,
   "id": "d4c0fc70-9842-4086-b1c4-7223fdf0e25c",
   "metadata": {},
   "outputs": [],
   "source": []
  },
  {
   "cell_type": "code",
   "execution_count": null,
   "id": "f69d4481-e333-4926-ab55-522b5f215d51",
   "metadata": {},
   "outputs": [],
   "source": []
  },
  {
   "cell_type": "markdown",
   "id": "885063dd-01e2-4c3f-85df-6fa2199fa7a2",
   "metadata": {},
   "source": [
    "# 참조 사이트 및 책\n",
    "> [**딥 러닝을 이용한 자연어 처리 입문**](https://wikidocs.net/book/2155) 책을 보고 복습할 겸 작성한 글로 깊고 자세한 공부는 해당 링크를 통해 공부하는 것을 추천드립니다."
   ]
  }
 ],
 "metadata": {
  "kernelspec": {
   "display_name": "Python 3 (ipykernel)",
   "language": "python",
   "name": "python3"
  },
  "language_info": {
   "codemirror_mode": {
    "name": "ipython",
    "version": 3
   },
   "file_extension": ".py",
   "mimetype": "text/x-python",
   "name": "python",
   "nbconvert_exporter": "python",
   "pygments_lexer": "ipython3",
   "version": "3.7.13"
  }
 },
 "nbformat": 4,
 "nbformat_minor": 5
}
