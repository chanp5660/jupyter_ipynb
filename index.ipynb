{
 "cells": [
  {
   "cell_type": "markdown",
   "id": "97fa6fdf-1b31-4289-98f5-bfc4170fd217",
   "metadata": {},
   "source": [
    "---  \n",
    "layout: page  \n",
    "current: about  \n",
    "title: Engineer Chanp5660 blog  \n",
    "navigation: true  \n",
    "logo: 'assets/built/images/about_logo.png'  \n",
    "class: page-template  \n",
    "subclass: 'post page'  \n",
    "---"
   ]
  },
  {
   "cell_type": "markdown",
   "id": "e9e68f29-76d2-4973-87f4-2419ab2b1669",
   "metadata": {},
   "source": [
    "\n",
    "---\n",
    "<img alt=\"증명사진\" src = \"https://user-images.githubusercontent.com/46266247/217183999-d49f5b18-e315-4171-852e-4a79e3502488.jpg\" width=\"40%\">\n",
    "\n",
    "> 이름 : **박찬**  \n",
    "생년월일 : 1995.11.26  \n",
    "이메일 : chanp5660@naver.com  \n",
    "블로그 : [https://chanp5660.github.io/](https://chanp5660.github.io/)\n",
    "\n"
   ]
  },
  {
   "cell_type": "markdown",
   "id": "0d8eef28-06c6-43db-a48e-7e24c6a446d4",
   "metadata": {},
   "source": [
    "# 주요 키워드\n",
    "\n",
    "- 통계학, 컴퓨터공학, 시계열 데이터, NLP(형태소분석, 개체명 인식 및 추출), 토픽모델링, 특이치 탐지 및 처리"
   ]
  },
  {
   "cell_type": "markdown",
   "id": "65d52e4d-3344-4ea3-b526-d93017beaea6",
   "metadata": {
    "tags": []
   },
   "source": [
    "## 기술\n",
    "\n",
    "> Python, C, R, \n",
    "Tensorflow, Pytorch, \n",
    "Linux, Git, Github, Jupyter\n",
    "\n",
    "<table border = \"0\">\n",
    "    <tr>\n",
    "        <td><img alt=\"Python\" src =\"https://img.shields.io/badge/Python-3776AB.svg?&style=for-the-badge&logo=Python&logoColor=white\"></td> \n",
    "        <td><img alt=\"R\" src =\"https://img.shields.io/badge/R-276DC3.svg?&style=for-the-badge&logo=R&logoColor=white\"></td>\n",
    "        <td><img alt=\"C\" src =\"https://img.shields.io/badge/C-A8B9CC.svg?&style=for-the-badge&logo=C&logoColor=white\"></td>       \n",
    "    </tr>\n",
    "    <tr>\n",
    "        <td><img alt=\"Tensorflow\" src =\"https://img.shields.io/badge/Tensorflow-FF6F00.svg?&style=for-the-badge&logo=Tensorflow&logoColor=white\" ></td>\n",
    "        <td><img alt=\"Pytorch\" src =\"https://img.shields.io/badge/Pytorch-EE4C2C.svg?&style=for-the-badge&logo=Pytorch&logoColor=white\"></td>\n",
    "        <td><img alt=\"Linux\" src =\"https://img.shields.io/badge/Linux-FCC624.svg?&style=for-the-badge&logo=Linux&logoColor=white\"></td>\n",
    "    </tr>\n",
    "    <tr>\n",
    "        <td><img alt=\"Git\" src =\"https://img.shields.io/badge/Git-F05032.svg?&style=for-the-badge&logo=Git&logoColor=white\" ></td> \n",
    "        <td><img alt=\"Github\" src=\"https://img.shields.io/badge/github-181717?style=for-the-badge&logo=github&logoColor=white\" ></td> \n",
    "        <td><img alt=\"Jupyter\" src =\"https://img.shields.io/badge/Jupyter-F37626.svg?&style=for-the-badge&logo=Jupyter&logoColor=white\" ></td> \n",
    "    </tr>\n",
    "    \n",
    "</table>"
   ]
  },
  {
   "cell_type": "markdown",
   "id": "ad7b7626-c792-4700-b610-318a66f8dfc0",
   "metadata": {},
   "source": [
    "## 학력\n",
    "\n",
    "> 전북대학교 대학원/ 석사 수료  \n",
    "2020년 03월 - 2022년 2월, 전주  \n",
    "학과 : 전자.정보공학부(컴퓨터공학)  \n",
    "전공 : 정보처리/데이터마이닝  \n",
    "\n",
    "> 전북대학교 / 학사 졸업  \n",
    "2014년 03월 - 2020년 02월, 전주  \n",
    "주전공 : 통계학과  \n",
    "부전공 : 컴퓨터공학부  "
   ]
  },
  {
   "cell_type": "markdown",
   "id": "3a88e5f8-0c39-42ea-b2f9-b93e3c14c2c2",
   "metadata": {},
   "source": [
    "## 자격증\n",
    "\n",
    "> 컴퓨터활용능력 1급  \n",
    "워드프로세서  \n",
    "정보처리기능사  \n",
    "태권도 4단  \n",
    "1종보통운전면허"
   ]
  },
  {
   "cell_type": "markdown",
   "id": "cb872959-b257-4055-9260-a74481afccf8",
   "metadata": {},
   "source": [
    "\n",
    "## 병역 사항\n",
    "\n",
    "> 의무경찰 만기 전역  \n",
    "2015년 04월 - 2017년 01월"
   ]
  },
  {
   "cell_type": "markdown",
   "id": "f507278a-d9cc-4042-bba3-0feb73cde041",
   "metadata": {},
   "source": [
    "## 논문\n",
    "\n",
    "> 박찬, & 이경순. (2020). 농산물 가격변동 데이터 특이치 탐지. 한국정보과학회 학술발표논문집, 565-567.  \n",
    "[https://www.dbpia.co.kr/Journal/articleDetail?nodeId=NODE10529713](https://www.dbpia.co.kr/Journal/articleDetail?nodeId=NODE10529713)  \n",
    "  \n",
    ">Park, C., & Lee, K. S. (2020). Named Entity Recognition for Analyzing Factors of Agrifood Price Fluctuation. In Annual Conference on Human and Language Technology (pp. 347-350). Human and Language Technology.  \n",
    "[https://koreascience.kr/article/CFKO202030060856861.page](https://koreascience.kr/article/CFKO202030060856861.page)"
   ]
  },
  {
   "cell_type": "markdown",
   "id": "830b2534-561d-4ceb-a8ed-b89a9ed2c0c1",
   "metadata": {},
   "source": [
    "---\n",
    "## 프로젝트\n",
    "\n",
    "\n",
    "###  범부처 협업 클라우드 혁신사례 창출사업 \n",
    "- **목적** : 관련 업체들의 협업으로 전북 로컬푸드에 정보를 제공 및 예측하여 재고의 손해를 줄이는 것\n",
    "- **맡은 부분** : 온라인 & 소셜 미디어 데이터 기반 가격 예측 서비스\n",
    "\n",
    "\n",
    "####  농산물 가격변동 데이터 특이치 탐지\n",
    "\n",
    "- **목적** : 다른 시계열 데이터와는 보다 농산물 가격변동에 대한 특이치는 중요한 정보이다. 특이치 부분을 어떻게 찾을지 어떤 특징들이 있는지 알아보고  향후 연구에서 농산물 가격을 예측하는데 도움을 준다.\n",
    "- **방법** : 가격 데이터의 특징을 통해 **시계열 분석**을 하고 **특이치 탐지(IQR,Zscore,ARIMA)** 방법을 찾는과정을 거쳐 IQR에 데이터의 특징인 **계절성을 접목**시켜 재배시기 등 영향을 주는 시기로 부분 적용시키는 방법으로 사용한다. \n",
    "\n",
    "\n",
    "#### 소셜 미디어 농산품 가격변동요인 탐지를 위한 지식 구축\n",
    "\n",
    "- 관련 사이트들을 **웹 스크랩핑(selenium, BeautifulSoup)** 하여 **데이터 수집 및 저장**\n",
    "- **문서 유사도(코사인 유사도)** 및 **토픽 모델링(LDA,LSA)** 을 통해 레시피의 식재료 사이의 **상호 관계 파악(PMI점수)** 통한 식재료 **추천**\n",
    "\n",
    "\n",
    "#### 농산물 가격변동요인 탐지를 위한 형태소분석 및 개체명 추출 \n",
    "\n",
    "- 농산물 문서에 대한 **형태소분석**과 **HanBert**기반으로 필요에 의해 **직접 사전(Bio표현 사용)** 을 만들었다.\n",
    "- **BiLSTM-CRF를 이용한 개체명 인식**을 통해 새로운 문서에 대한 개체명을 추출한다. 가격의 상승, 하락에 영향을 미치는 **주요 요인**을 찾는다. 향후 요인 인과관계를 추출을 위한 과정이다.\n"
   ]
  },
  {
   "cell_type": "markdown",
   "id": "ee6b9268-e0d6-4881-abe2-2ac24f6f3162",
   "metadata": {},
   "source": [
    "# 자기소개서\n",
    "\n",
    "## 전공\n",
    "- 학부 : 통계학과(전공), 컴퓨터공학부(부전공) 졸업  \n",
    "- 석사 : 컴퓨터공학부(정보처리데이터마이닝) 수료  \n",
    "\n",
    "## 의미 해석에 재미가 붙다. \n",
    "\n",
    "- 통계학 수업 중 모의 엘포인트 빅데이터 경진대회(5회)에서 쇼핑몰 고객의 카드 소비내역 데이터를 분석하는 팀프로젝트가 맡았습니다. 분석하는 부분을 맡아 실제 데이터를 통해 의미를 찾아가는 과정을 접하면서 흥미가 생겼습니다. \n",
    "- 연령대, 요일에 따른 소비패턴은 한국의 소비패턴과 비슷했지만 성별에 대한 해석에 문제가 제기 할 수 있다는 것을 알게 되었습니다. 단순히 보면  “성별의 소비패턴 차이가 없다.” 라고 해석할 수 있지만  실제 이용 고객은 여성인 주부가 주를 이루었고 남성의 카드를 이용했다는 것으로 해석할수도 있었습니다. \n",
    "- 제게 주어진 데이터의 메타정보를 주의깊게 파악해야한다는 계기가 되었고 분석하고 의미를 붙일 때 가장 중요하게 생각하는 부분입니다.\n",
    "\n",
    "## 통계와 컴퓨터가 협력하다. \n",
    "\n",
    "- 통계학 머신러닝 수업 중 캐글(Kaggle) 플랫폼에서 “House Prices” 집, 주변의 정보의 데이터를 이용해 집 값을 예측하는 팀프로젝트를 하였습니다. \n",
    "- 기존에 경험했던 통계적 기법을 사용하여 적은 데이터로 추론하며 근거를 찾아가며 진행했었다면 Python Scikit-Learn 라이브러리를 이용하여 데이터를 근거로 추론하는 것에 흥미를 느끼게 되었습니다. \n",
    "- 그래서 컴퓨터 기술을 배울 필요를 느끼게 되었고 부전공으로 컴퓨터공학부를 하게 되었습니다. 이 경험이 제겐 통계적 기법과 컴퓨터 기술이 협력하게 되는 계기가 되었습니다.\n",
    "\n",
    "## 전문가의 초석을 다지다.\n",
    "\n",
    "- 졸업을 앞두고 취직을 고민할 때 좋아하는 일과 그동안의 경험으로 방향을 고민한 끝에  인공지능에 대한 부분에 대해 배우고 관련 진로로 세우고 싶었습니다. 그리고 학부생일 때 인연을 맺은 연구실이 텍스트를 다루는 것이 흥미로웠던 저에게 기회가 되어 대학원에 진학하게 되었습니다. 덕분에 기관과 협업하는 경험을 가질 수 있었고 다양한 데이터를 직접 수집하고 처리하는 방법과 리눅스 기반의 서버에서 다양한 프레임워크를 이용한 모델링을 적용해볼 수 있던 경험이었습니다. \n",
    "- 이는 앞으로의 진로에 전문성을 더할 수 있는 기회가 되었습니다. \n",
    "\n",
    "## 시야를 넓히다.\n",
    "\n",
    "- 석사 연구를 할 때 주로 농식품 관련 텍스트와 가격 데이터를 다루었습니다. \n",
    "- 텍스트에 관해서는 새로운 용어들(출하, 반입, 작목, 햇, 파종 등)에 대한 평소에 접하지 못해던 부분에 공부를 해야 데이터를 해석할 수 있어 농산물 관련 사이트 KAMIS, 남도장터 등을 참고하여 쓰이는 용어를 배웠습니다. \n",
    "- 가격 데이터의 변동을 해석하기 위해서는 각 품목에 대한 정보(심는 시기, 재배 시기 등)이 중요했습니다. 그 외에도 심어져 있는 시기의 기상 정보, 병충해 정보, 전년도의 재고, 올해의 출하량에 관련된 정보들도 가격 데이터를 해석하기에 필요한 정보들이었습니다. \n",
    "- 다른 도메인을 공부할수록 기존에 알고 있던 도메인들과 협력하여 더욱 의미있는 결과를 도출할 수 있다는 것을 배울 수 있었습니다.    \n",
    "\n",
    "## 어른들의 의사소통에 대해 배우다. \n",
    "\n",
    "- 석사생 때 학교와 기관이 협업하는 프로젝트에 참여하면서 메일의 답장을 이용한 기록 방법으로 여러 프로젝트를 하더라도 헷갈리지 않고 진행할 수 있었던 방법, 회의 내용을 보고서 형식으로 기록해 다음 회의에서 자연스럽게 이어질 수 있는 방법 등 비즈니스적인 소통 방법에 대해서 배울 수 있었습니다."
   ]
  },
  {
   "cell_type": "markdown",
   "id": "76a21af4-b852-4fb3-88eb-f3099720db9d",
   "metadata": {},
   "source": [
    "---\n",
    "---\n",
    "# 수정 및 메모\n",
    "---\n",
    "\n",
    "# 본인에게 질문\n",
    "\n",
    "## 본인의 장단점\n",
    "\n",
    "## 취미(쉴때 하는 일)\n",
    "- 스포츠(태권도, 수영)\n",
    "- 온라인 게임\n",
    "- 볼링\n",
    "- 코인노래방\n",
    "- 친구집 방문\n",
    "\n",
    "## 실패했던 경험\n",
    "- 석사 연구 중 농식품 가격예측을 장기간으로 예측하지 못했을 때 \n",
    "\n",
    "## 일을 하면서 어려웠던 점, 갈등이 있었던 점\n",
    "\n",
    "## 1년의 공백기 설명"
   ]
  },
  {
   "cell_type": "markdown",
   "id": "49ee91ef-413f-47be-a709-da9a07bee7c4",
   "metadata": {},
   "source": [
    "### 소셜 미디어( 빅카인즈, 트위터) 토픽 모델링(2020년)\n",
    "- 목적 :  빅카인즈와 트위터에서 LDA를 이용하여 해마다 어떤 토픽으로 나뉘는지 특징을 살펴본다.  \n",
    "- [project](https://chanp5660.github.io/토픽모델링(빅데이터카인즈_트위터)#topic=0&lambda=1&term=)\n",
    "\n",
    "\n",
    "### 따릉이 자전거 구역 추가 (달리구) (2019년)\n",
    "- 목적 : 서울 따릉이 데이터를 분석하여 전주에 자전거 설치에 대한 정보를 제공하기 위해\n",
    "- 맡은 부분 : 데이터 수집 및 분석 \n",
    "\n"
   ]
  },
  {
   "cell_type": "markdown",
   "id": "c0b609a5-d99f-4900-996c-1e5a89df0d13",
   "metadata": {},
   "source": [
    "---\n",
    "\n",
    "# 내가 좋아하는 말\n",
    "\n",
    "## 나는 옳은 선택을 하는게 아니라, 내가 선택한 것을 옳게 만든다.\n",
    "- 가장 좋아하는 문장으로 내가 선택한 것에 의심하지 말고 자신감을 가지고 그 선택을 옳게 만들어가는 과정만 있으므로 후회할 시간에 선택한 것에 최선을 다하는 것이 좋다고 생각합니다.\n",
    "- 현재 나를 있게 해준 나의 선택 : 통계학과, 부전공 컴퓨터공학부, 대학원 컴퓨터공학부(정보처리데이터마이닝), 1년간 휴식, 의무경찰, 태권도 4단"
   ]
  },
  {
   "cell_type": "markdown",
   "id": "6c61f981-5fa3-4deb-8fa3-9b7e2c778577",
   "metadata": {
    "tags": []
   },
   "source": [
    "## 블로그 주요 내용\n",
    "\n",
    "- 논문\n",
    "    - 논문 이해를 위한 수학 지식\n",
    "    - 구현을 위한 코딩 능력\n",
    "- 인공지능(머신러닝, 딥러닝) 이론 지식\n",
    "- 개발적 역량(Docker, Linux, git)\n",
    "- 도메인 관련 지식\n",
    "- 프로젝트"
   ]
  }
 ],
 "metadata": {
  "kernelspec": {
   "display_name": "Python 3 (ipykernel)",
   "language": "python",
   "name": "python3"
  },
  "language_info": {
   "codemirror_mode": {
    "name": "ipython",
    "version": 3
   },
   "file_extension": ".py",
   "mimetype": "text/x-python",
   "name": "python",
   "nbconvert_exporter": "python",
   "pygments_lexer": "ipython3",
   "version": "3.7.13"
  },
  "toc-autonumbering": false,
  "toc-showmarkdowntxt": false
 },
 "nbformat": 4,
 "nbformat_minor": 5
}
