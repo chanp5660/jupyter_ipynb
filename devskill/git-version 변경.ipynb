{
 "cells": [
  {
   "cell_type": "markdown",
   "id": "bd6bc110-6a0b-445e-828a-9888752a6e55",
   "metadata": {},
   "source": [
    "---  \n",
    "layout: post  \n",
    "current: post  \n",
    "cover:  assets/built/images/github-logo.png  \n",
    "navigation: True  \n",
    "title: Git-version 변경   \n",
    "date: 2022-07-18 12:50:00 +0900  \n",
    "tags: [devskill,github]  \n",
    "class: post-template  \n",
    "subclass: 'post tag-python'  \n",
    "author: chanp5660  \n",
    "---   "
   ]
  },
  {
   "cell_type": "markdown",
   "id": "2c121737-8e84-4eda-a79e-6ed4aa171f4e",
   "metadata": {},
   "source": [
    "# Git-version 변경\n",
    "\n",
    "> 본인 블로그([chanp5660.github.io](https://chanp5660.github.io)) 에 서브모듈을 통해 빌드를 자동화 하고 싶었는데 Travis가 유료 프로그램으로 변경되면서 [참조블로그](https://moon9342.github.io/) 를 따라 하다가 블로그가 업로드 되지 않는 문제가 생겼다.   \n",
    "**도르마무**가 생각났지만... 현실은 과거를 후회하는 일반인이므로 이성적으로 생각했다.\n",
    "왠걸 최근에 git에 문제가 생긴 폴더를 업로드 해놓은 생각이 들었다.  \n",
    "따라서 **git 장점인 버전관리** 즉, git을 이용해 업로드가 잘 되었던 상황으로 돌아가기로 했다."
   ]
  },
  {
   "cell_type": "markdown",
   "id": "ab63eb7f-a202-4e32-81ca-7541d7672edf",
   "metadata": {},
   "source": [
    "- 준비 \n",
    "    - github 가입 https://chanp5660.github.io/가입-및-프로필\n",
    "    - git 설치 https://taewow.tistory.com/13"
   ]
  },
  {
   "cell_type": "markdown",
   "id": "64afd84d-aeaf-4c3a-9525-b70548a8a960",
   "metadata": {},
   "source": [
    "## git push가 여러번일때 "
   ]
  },
  {
   "cell_type": "markdown",
   "id": "78b63440-b52a-4fea-9c45-c5e611958473",
   "metadata": {},
   "source": [
    "-- 수정 중 --"
   ]
  }
 ],
 "metadata": {
  "kernelspec": {
   "display_name": "Python 3 (ipykernel)",
   "language": "python",
   "name": "python3"
  },
  "language_info": {
   "codemirror_mode": {
    "name": "ipython",
    "version": 3
   },
   "file_extension": ".py",
   "mimetype": "text/x-python",
   "name": "python",
   "nbconvert_exporter": "python",
   "pygments_lexer": "ipython3",
   "version": "3.7.13"
  }
 },
 "nbformat": 4,
 "nbformat_minor": 5
}
