{
 "cells": [
  {
   "cell_type": "markdown",
   "id": "abc00892-24cb-4555-aa48-8c63b01f624b",
   "metadata": {},
   "source": [
    "---  \n",
    "layout: post  \n",
    "current: post  \n",
    "cover:  assets/built/images/github-logo.png  \n",
    "navigation: True  \n",
    "title: Github-가입 및 프로필  \n",
    "date: 2022-07-18 12:50:00 +0900  \n",
    "tags: [devskill,github]  \n",
    "class: post-template  \n",
    "subclass: 'post tag-python'  \n",
    "author: chanp5660  \n",
    "---   \n"
   ]
  },
  {
   "cell_type": "markdown",
   "id": "dd7dc433-83b7-4a0a-bfc3-543030034063",
   "metadata": {
    "tags": []
   },
   "source": [
    "# Github-가입 및 프로필  \n",
    "\n",
    "> Git을 공유하거나 온라인에 보관하기 위해서는 꼭 필요한 Github  \n",
    "\n",
    "\n",
    "## 가입  \n",
    "\n",
    "1. Github 회원가입  [Github-signup](https://github.com/signup?source=login)  \n",
    "\n",
    "2. 가입 이메일,비밀번호 및 닉네임 작성 \n",
    "    - 닉네임으로 겉으로 보이는 상황이 많으므로 신경 써주는게 좋다.\n",
    "    - 가입 이메일로 인증코드가 가면 따라 입력해주면 된다.\n",
    "    - 나머지 설정은 필요할 때 추가하면 되므로 넘어가도 좋다.\n",
    "\n",
    "<img src=\"https://user-images.githubusercontent.com/46266247/179445700-c4339721-92b4-4207-997a-a125bfc79288.png\" width=\"70%\"> \n",
    "\n",
    "3. 처음 화면에서 왼쪽에 초록색 버튼으로 Create repository 를 클릭해준다.\n",
    "    - repository는 하나의 저장소로 하나의 계정으로 주제, 프로젝트 등 상황에 따라 계속 추가할 수 있다.\n",
    "\n",
    "<img src=\"https://user-images.githubusercontent.com/46266247/179446085-b476256a-873a-438d-9f94-ce6898810fa3.png\" width=\"100%\"> \n",
    "\n",
    "4. 아이디를 본인의 닉네임을 또 적어준다. 프로필이 될 ReadMe 파일을 추가해준다.\n",
    "    - 깃허브에서는 특정 아이디 형식에 따라 다른 환경을 제공해주기도 한다.\n",
    "        - 닉네임/닉네임 : 깃허브 프로필에 보여지는 readme를 제공한다.\n",
    "        - 닉네임/닉네임.github.io : 깃허브 블로그 링크를 제공하므로 다음에 githubio 블로그를 만든다면 해당 repository에 저장해서 이용하면 된다.  \n",
    "    - Add a ReadMe file 을 클릭해주어 repository 생성 시 자동으로 추가될 수 있도록 한다.\n",
    "    - 가장 아래 부분에 create repository를 클릭해준다.\n",
    "        \n",
    "<img src=\"https://user-images.githubusercontent.com/46266247/179446481-fda04930-3363-4645-b400-c4d3ac7fba1e.png\" width=\"80%\">\n",
    "\n",
    "5. \"https://github.com/본인닉네임\" 주소로 이동하면 결과 확인 가능하고 오른쪽 연필 모양으로 내용 수정 가능  \n",
    "\n",
    "<img src=\"https://user-images.githubusercontent.com/46266247/179446977-d710c92c-bdc6-4faf-a7f9-f1a865c0ca90.png\" width=\"80%\">\n"
   ]
  }
 ],
 "metadata": {
  "kernelspec": {
   "display_name": "Python 3 (ipykernel)",
   "language": "python",
   "name": "python3"
  },
  "language_info": {
   "codemirror_mode": {
    "name": "ipython",
    "version": 3
   },
   "file_extension": ".py",
   "mimetype": "text/x-python",
   "name": "python",
   "nbconvert_exporter": "python",
   "pygments_lexer": "ipython3",
   "version": "3.7.13"
  }
 },
 "nbformat": 4,
 "nbformat_minor": 5
}
