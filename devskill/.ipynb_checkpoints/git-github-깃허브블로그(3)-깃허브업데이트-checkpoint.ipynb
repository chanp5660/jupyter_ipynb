{
 "cells": [
  {
   "cell_type": "markdown",
   "id": "3ed8cdb4-fee9-4d54-a08d-cfdfc942dce8",
   "metadata": {},
   "source": [
    "---  \n",
    "layout: post  \n",
    "current: post  \n",
    "cover:  assets/built/images/github-logo.png  \n",
    "navigation: True  \n",
    "title: 깃허브블로그(3)-깃허브업데이트   \n",
    "date: 2022-07-17 02:08:00 +0900  \n",
    "tags: [devskill,github]  \n",
    "class: post-template  \n",
    "subclass: 'post tag-python'  \n",
    "author: chanp5660  \n",
    "---   \n",
    "\n",
    "{% include githubblog-table-of-contents.html %}  "
   ]
  },
  {
   "cell_type": "markdown",
   "id": "7ac78526-fb4d-477a-a9b8-7f297d8306e9",
   "metadata": {
    "tags": []
   },
   "source": [
    "# 깃허브블로그(3)-깃허브업데이트"
   ]
  },
  {
   "cell_type": "markdown",
   "id": "41690b86-0838-4f23-b47d-ddb3a5bca28e",
   "metadata": {},
   "source": [
    "\n",
    ">어떤 사람들이 필요한 블로그인가?  \n",
    "    - 로컬에서 수정된 내용들을 깃허브에 업데이트 해야하는 사람   \n",
    "    - 기존 준비 : [https://moon9342.github.io/](https://moon9342.github.io/) 블로그의 깃허브 블로그를 생성한 사람, 로컬에서 해당 블로그를 수정한 사람  \n"
   ]
  },
  {
   "cell_type": "markdown",
   "id": "10ac2649-7834-4259-aa7e-41d4963bbbc8",
   "metadata": {},
   "source": [
    "## 로컬에서 블로그 정리\n",
    "- command 에서 블로그 폴더 위치에서 실행을 한번 해준다  \n",
    "\n",
    "```bash\n",
    "bundle exec jekyll serve\n",
    "```\n",
    "\n"
   ]
  },
  {
   "cell_type": "markdown",
   "id": "539e28d1-17c6-4ecf-9af0-f5dbe5d4512d",
   "metadata": {},
   "source": [
    "## 블로그 업로드\n",
    "- 업로드할 블로그 폴더 위치에서 git bash를 연다.  \n",
    "\n",
    "<img src=\"https://user-images.githubusercontent.com/46266247/179364479-38110f95-5984-405c-b624-3e0d5b6ef754.png\" width=\"50%\">"
   ]
  },
  {
   "cell_type": "markdown",
   "id": "07b15388-9f5f-4054-bafe-ef32d23142c1",
   "metadata": {},
   "source": [
    "- 아래 명령어를 순서대로 입력한다.\n",
    "    - git add -A  : 변경된 내용을 staging Area로 보내주는 역할 [https://june98.tistory.com/23](https://june98.tistory.com/23)\n",
    "    - git commit -m \"업데이트 내용\" : 변경된 내용을 실제 저장하는 역할로 업데이트한 내용을 메모와 함께 저장할 수 있다.\n",
    "    - git push origin master : commit으로 저장된 내용을 업로드 하여 실제 내용을 바꾼다.( 본인의 브런치가 main 일수로 master일수도 있으니 확인해야한다. )\n",
    "```bash\n",
    "    git add -A\n",
    "    git commit -m \"깃허브블로그_업데이트\"\n",
    "    git push origin master\n",
    "```"
   ]
  },
  {
   "cell_type": "markdown",
   "id": "355a17a1-dad5-4cfd-a464-85afd63a1f14",
   "metadata": {},
   "source": [
    "## 결과   \n",
    "- 깃허브에 업로드 된 후 5분 이내로 블로그가 변경된다.\n",
    "<img src=\"https://user-images.githubusercontent.com/46266247/179365549-46137ecd-26d2-4bef-87ca-b2dee1b9286e.png\" width=\"80%\">"
   ]
  }
 ],
 "metadata": {
  "kernelspec": {
   "display_name": "Python 3 (ipykernel)",
   "language": "python",
   "name": "python3"
  },
  "language_info": {
   "codemirror_mode": {
    "name": "ipython",
    "version": 3
   },
   "file_extension": ".py",
   "mimetype": "text/x-python",
   "name": "python",
   "nbconvert_exporter": "python",
   "pygments_lexer": "ipython3",
   "version": "3.7.13"
  }
 },
 "nbformat": 4,
 "nbformat_minor": 5
}
