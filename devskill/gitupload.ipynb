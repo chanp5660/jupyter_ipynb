{
 "cells": [
  {
   "cell_type": "markdown",
   "id": "1d667f70-9afe-4386-bf3d-ebf20f1b73c4",
   "metadata": {},
   "source": [
    "---  \n",
    "layout: post  \n",
    "current: post  \n",
    "cover:  assets/built/images/github-logo.png  \n",
    "navigation: True  \n",
    "title: 깃허브 ipynb 업로드 방법   \n",
    "date: 2022-07-07 02:08:00 +0900  \n",
    "tags: [devskill]  \n",
    "class: post-template   \n",
    "subclass: 'post tag-python'  \n",
    "author: chanp5660   \n",
    "---  \n",
    "\n",
    "{% include githubblog-table-of-contents.html %}  "
   ]
  },
  {
   "cell_type": "markdown",
   "id": "7a9d8963-15c3-47cf-bc8e-8f6715a636b3",
   "metadata": {},
   "source": [
    "# 깃허브 ipynb 업로드 방법"
   ]
  },
  {
   "cell_type": "markdown",
   "id": "a6c53c53-2688-4d5d-842c-d9a7bc14116f",
   "metadata": {},
   "source": [
    "**앞서 준비해야할 것**\n",
    "- Git 아이디가 생성\n",
    "- 저장소 하나이상 생성\n",
    "- 아나콘다 가상환경 및 jupyter lab, Git 설치"
   ]
  },
  {
   "cell_type": "markdown",
   "id": "018c0c5b-90a5-420a-8d2a-4faa8659d93e",
   "metadata": {
    "tags": []
   },
   "source": [
    "## 1. 깃허브 사이트에서 연동할 주소를 가져오기\n",
    "\n",
    "- 아래 사진에서 HTTPs 버튼 클릭 후 오른쪽에 있는 복사 버튼을 클릭하면 URL이 복사가 됨\n",
    "\n",
    "![image](https://user-images.githubusercontent.com/46266247/177748644-6bfc159a-777c-495d-aa2d-4e31037245f9.png)\n",
    "\n",
    "\n",
    "* 추가 참조 (https://www.lainyzine.com/ko/article/how-to-link-github-remote-repository-and-local-git-repository/)"
   ]
  },
  {
   "cell_type": "markdown",
   "id": "2c15c551-85bc-4a13-bdb7-6cd798534ea9",
   "metadata": {},
   "source": [
    "## 2. 변경하거나 추가하는 방법\n",
    "\n",
    "- 반복된 업데이트 명령어(컴퓨터 -> git) \n",
    "    - 하루 처음 명령어\n",
    "        - init : git init\n",
    "        - branch : git branch -m main\n",
    "    - 계속 반복적으로 작성해주어야 하는 명령어\n",
    "        - add : git add -A\n",
    "        - commit : git commit -m \"저장할 메시지\"\n",
    "        - push : git push origin master\n",
    "- 반복된 업데이트 명령어(git -> 컴퓨터)\n",
    "    - pull : git pull\n",
    "\n",
    "* 추가 참조 (https://www.lainyzine.com/ko/article/how-to-link-github-remote-repository-and-local-git-repository/)"
   ]
  },
  {
   "cell_type": "markdown",
   "id": "099c8ef5-cce8-47a7-bf52-5d62a2d9cd81",
   "metadata": {},
   "source": [
    "## 3. ipynb 을 업로드 하는 방법\n",
    "\n",
    "- 검색해봤지만 기존 파일로 바로 업로드 하는 방법을 찾지 못함\n",
    "- jupyter lab 에서 markdown 파일로 저장 후 _posts 에 저장해서 업로드 함"
   ]
  },
  {
   "cell_type": "markdown",
   "id": "777133ca-475c-4b0b-b4e2-1a30bbfef70d",
   "metadata": {},
   "source": [
    "## 4. 이미지 파일 업로드 \n",
    "\n",
    "- 따로 업로드가 안되기 때문에 git의 issue를 이용하거나 이미지 폴더를 이용해서 연결함"
   ]
  },
  {
   "cell_type": "markdown",
   "id": "fb21e543-6bd9-4b38-96db-82f2cdf100c6",
   "metadata": {},
   "source": [
    "## 5. git upload batch 파일 만들기\n",
    "\n",
    "- git init 그리고 git remote 로 원격 설정이 되어 있는 상태에서는 앞으로 계속 add, commit, push 를 통해 버전 업을 해주어야한다. \n",
    "- 편의성을 위해 commit message만 입력 받으면 자동으로 add, commit, push가 되도록 배치파일을 생성한다.\n",
    "\n",
    "- 먼저 .git 파일이 있는 곳으로 이동해주고나서 나머지 명령어들이 실행되어야 하므로 아래와 같은 코드를 \"파일제목.bat\" 로 만들어준다.  \n",
    "\n",
    "```bash\n",
    "set /p message=\"commit message 입력해주세요  :  \"\n",
    "call cd C:\\Users\\tkd8484\\Desktop\\chanp5660\\[GitHubPage]\n",
    "call git add -A\n",
    "call git commit -m \"%message%\"\n",
    "call git push origin master \n",
    "\n",
    "pause\n",
    "```"
   ]
  }
 ],
 "metadata": {
  "kernelspec": {
   "display_name": "Python 3 (ipykernel)",
   "language": "python",
   "name": "python3"
  },
  "language_info": {
   "codemirror_mode": {
    "name": "ipython",
    "version": 3
   },
   "file_extension": ".py",
   "mimetype": "text/x-python",
   "name": "python",
   "nbconvert_exporter": "python",
   "pygments_lexer": "ipython3",
   "version": "3.7.13"
  }
 },
 "nbformat": 4,
 "nbformat_minor": 5
}
