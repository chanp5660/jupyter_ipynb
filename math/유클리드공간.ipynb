{
 "cells": [
  {
   "cell_type": "markdown",
   "id": "dc96dade-f3cb-47f4-aedf-c5ebdfe74f6e",
   "metadata": {},
   "source": [
    "---\n",
    "layout: post  \n",
    "current: post  \n",
    "cover:  assets/built/images/유클리드공간.png  \n",
    "navigation: True  \n",
    "title: 유클리드공간 \n",
    "date: 2023-02-12 00:00:00 +0900  \n",
    "tags: [math]  \n",
    "class: post-template  \n",
    "subclass: 'post tag-python'  \n",
    "author: chanp5660  \n",
    "---\n"
   ]
  },
  {
   "cell_type": "markdown",
   "id": "24ed877f-21a0-460c-a727-e49a20df879d",
   "metadata": {},
   "source": [
    "# 유클리드공간\n",
    "\n",
    "- 유클리드가 연구했던 평면과 공간을 일반화한 것이다.\n",
    "- 거리,길이, 각도를 좌표계에 도입하여, 임의 차원의 공간으로 확장한 것이다.\n",
    "- 이는 표준적인 유한 차원, 실수, 내적 공간이다.\n"
   ]
  },
  {
   "cell_type": "markdown",
   "id": "a08b4f68-1fd2-4815-8778-61270090116f",
   "metadata": {},
   "source": [
    "-------\n",
    "수식을 적는 것이 문제가 생김"
   ]
  }
 ],
 "metadata": {
  "kernelspec": {
   "display_name": "Python 3 (ipykernel)",
   "language": "python",
   "name": "python3"
  },
  "language_info": {
   "codemirror_mode": {
    "name": "ipython",
    "version": 3
   },
   "file_extension": ".py",
   "mimetype": "text/x-python",
   "name": "python",
   "nbconvert_exporter": "python",
   "pygments_lexer": "ipython3",
   "version": "3.7.13"
  }
 },
 "nbformat": 4,
 "nbformat_minor": 5
}
