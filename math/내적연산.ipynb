{
 "cells": [
  {
   "cell_type": "markdown",
   "id": "dc96dade-f3cb-47f4-aedf-c5ebdfe74f6e",
   "metadata": {},
   "source": [
    "---\n",
    "layout: post  \n",
    "current: post  \n",
    "cover:  assets/built/images/내적연산.png  \n",
    "navigation: True  \n",
    "title: 내적연산  \n",
    "date: 2023-02-12 00:00:00 +0900  \n",
    "tags: [math]  \n",
    "class: post-template  \n",
    "subclass: 'post tag-python'  \n",
    "author: chanp5660  \n",
    "---\n"
   ]
  },
  {
   "cell_type": "markdown",
   "id": "24ed877f-21a0-460c-a727-e49a20df879d",
   "metadata": {},
   "source": [
    "# 내적 연산\n",
    "\n",
    "- 선형대수학에서는 스칼라곱(scalar product) 또는 점곱(dot product)은 유클리드 공간의 두 벡터로부터 실수 스칼라를 얻는 연산이다.\n",
    "- 스칼라곱이 유클리드 공간의 내적을 이루므로, 이를 단순히 \"내적\"이라고 부르기도 한다. \n",
    "\n",
    "# 정의\n",
    "- 차원이 n인 유클리드 공간 $\\mathbb{R} ^{n}$ 의 두 벡터 $a,b$ 가 스칼라곱 $a \\cdot b \\in \\mathbb{R}$ 은 두 가지로 정의할 수 있으며, 두 정의는 서로 동치이다."
   ]
  },
  {
   "cell_type": "markdown",
   "id": "3473483c-c812-4b2c-a9b2-d0ac8fd9422b",
   "metadata": {},
   "source": [
    "# 대수적 정의\n",
    "\n",
    "- 두 벡터의 좌표가 각각 ${\\displaystyle \\mathbf {a} =(a_{1},a_{2},\\dots ,a_{n})}$와  ${\\displaystyle \\mathbf {b} =(b_{1},b_{2},\\dots ,b_{n})}$라면, 이 둘의 스칼라곱은 같은 위치의 성분을 곱한 뒤 모두 합하여 얻는 값이다. \n",
    "    - ${\\displaystyle \\mathbf {a} \\cdot \\mathbf {b} =a_{1}b_{1}+a_{2}b_{2}+\\cdots +a_{n}b_{n}}$  \n",
    "\n",
    "- 예를 들어, 두 3차원 벡터 ${\\displaystyle (1,3,-2),(4,2,1)\\in \\mathbb {R} ^{3}}$의 스칼라곱은 다음과 같다.\n",
    "    - ${\\displaystyle (1,3,-2)\\cdot (4,2,1)=1\\times 4+3\\times 2+(-2)\\times 1=8}$"
   ]
  },
  {
   "cell_type": "markdown",
   "id": "93888887-0db3-41c4-8b47-f65394991080",
   "metadata": {},
   "source": [
    "# 기하학적 정의(방향이 들어감)  \n",
    "\n",
    "- 의미를 해석하기에는 무리가 없어 나중에 추가"
   ]
  },
  {
   "cell_type": "markdown",
   "id": "10bb0325-6369-49f7-ab76-d9a32542f55b",
   "metadata": {},
   "source": [
    "# 참조\n",
    "[위키피디아](https://ko.wikipedia.org/wiki/스칼라곱)"
   ]
  }
 ],
 "metadata": {
  "kernelspec": {
   "display_name": "Python 3 (ipykernel)",
   "language": "python",
   "name": "python3"
  },
  "language_info": {
   "codemirror_mode": {
    "name": "ipython",
    "version": 3
   },
   "file_extension": ".py",
   "mimetype": "text/x-python",
   "name": "python",
   "nbconvert_exporter": "python",
   "pygments_lexer": "ipython3",
   "version": "3.7.13"
  }
 },
 "nbformat": 4,
 "nbformat_minor": 5
}
