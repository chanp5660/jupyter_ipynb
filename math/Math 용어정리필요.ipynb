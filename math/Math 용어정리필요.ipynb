{
 "cells": [
  {
   "cell_type": "markdown",
   "id": "c8b7a7a3-7b2d-4fb8-81b4-13f5fe63056b",
   "metadata": {},
   "source": [
    "---\n",
    "layout: post  \n",
    "current: post  \n",
    "cover:  assets/built/images/Math List.png  \n",
    "navigation: True  \n",
    "title: Math List \n",
    "date: 2023-02-20 00:00:00 +0900  \n",
    "tags: [math]  \n",
    "class: post-template  \n",
    "subclass: 'post tag-python'  \n",
    "author: chanp5660  \n",
    "---\n"
   ]
  },
  {
   "cell_type": "markdown",
   "id": "8c7f13dd-70c1-4062-ba40-dbdb8f012745",
   "metadata": {},
   "source": [
    "# Math 용어정리\n",
    "\n",
    "- 필요한 정도까지만 포스팅(시간이 오래걸림)\n",
    "\n",
    "## 포스팅 됨  \n",
    "\n",
    "- [유클리드공간](https://chanp5660.github.io/유클리드공간)\n",
    "- [내적연산](https://chanp5660.github.io/내적연산)\n",
    "\n",
    "## 포스팀 안됨\n",
    "\n",
    "> 이동하면서 볼 수 있도록 공부할만한 사이트 링크 걸어둔다.\n",
    "\n",
    "- [커널함수](https://juggernaut.tistory.com/entry/%EC%BB%A4%EB%84%90-%ED%95%A8%EC%88%98%EC%99%80-%EC%A7%80%EC%A7%80-%EB%B2%A1%ED%84%B0-%EB%A8%B8%EC%8B%A0SVM)"
   ]
  }
 ],
 "metadata": {
  "kernelspec": {
   "display_name": "Python 3 (ipykernel)",
   "language": "python",
   "name": "python3"
  },
  "language_info": {
   "codemirror_mode": {
    "name": "ipython",
    "version": 3
   },
   "file_extension": ".py",
   "mimetype": "text/x-python",
   "name": "python",
   "nbconvert_exporter": "python",
   "pygments_lexer": "ipython3",
   "version": "3.7.13"
  }
 },
 "nbformat": 4,
 "nbformat_minor": 5
}
