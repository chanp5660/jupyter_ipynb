{
 "cells": [
  {
   "cell_type": "markdown",
   "id": "fd0aa1c8-b410-41ac-8d5d-e121b59038ba",
   "metadata": {},
   "source": [
    "---\n",
    "layout: post  \n",
    "current: post  \n",
    "cover:  assets/built/images/CodingTestList.png  \n",
    "navigation: True  \n",
    "title: Coding Test List  \n",
    "date: 2023-02-27 00:00:00 +0900  \n",
    "tags: [programing,python]  \n",
    "class: post-template  \n",
    "subclass: 'post tag-python'  \n",
    "author: chanp5660  \n",
    "---"
   ]
  },
  {
   "cell_type": "markdown",
   "id": "53f19024-7a87-43f2-b752-1068d47d3a79",
   "metadata": {},
   "source": [
    "기본적으로 ChatGPT를 이용하여 틀을 잡고 만든 것# 코딩 테스트\n",
    "\n",
    "> 기본적으로 ChatGPT를 이용하여 틀을 잡고 만든 것"
   ]
  },
  {
   "cell_type": "markdown",
   "id": "fbcbf0fe-64f8-4dc8-8996-66940b5dd43f",
   "metadata": {},
   "source": [
    "## 기업에 자주 나오는 python 알고리즘 코딩 테스트\n",
    "\n",
    "- [문자열 처리](https://chanp5660.github.io/문자열처리)\n",
    "- 배열/리스트 처리\n",
    "- [그래프 이론](https://chanp5660.github.io/그래프이론)\n",
    "- 동적 계획법\n",
    "- 브루트 포스/완전 탐색\n",
    "- 트리 구조\n",
    "\n",
    "\n",
    "## 프로그래머스 코딩테스트 입문\n",
    "- [분수의덧셈](https://chanp5660.github.io/분수의덧셈)\n",
    "- [최빈값구하기](https://chanp5660.github.io/최빈값구하기)\n",
    "\n",
    "\n",
    "## 알고리즘/자료구조\n",
    "- [해시](https://chanp5660.github.io/해시)\n",
    "- [정렬](https://chanp5660.github.io/정렬)\n",
    "\n",
    "## 머신러닝 코딩테스트\n",
    "\n",
    "- [선형회귀](https://chanp5660.github.io/선형회귀)\n",
    "- **알고리즘 구현**: 응시자는 선호하는 프로그래밍에서 처음부터 특정 기계 학습 알고리즘(예: k-평균 클러스터링 또는 선형 회귀)을 구현하도록 요청받을 수 있습니다.  \n",
    "- **기존 알고리즘 수정**: 응시자에게 기존 기계 학습 알고리즘에 대한 코드를 제공하고 특정 문제를 해결하거나 성능을 최적화하기 위해 수정하도록 요청할 수 있습니다.\n",
    "- **디버깅 코드**: 응시자에게 버그나 오류가 포함된 코드를 제공하고 이를 식별하고 수정하도록 요청할 수 있습니다.\n",
    "- **데이터 전처리** : 응시자는 기계 학습 모델에서 사용하기에 적합하도록 데이터를 전처리하고 변환하는 코드를 작성하도록 요청받을 수 있습니다.\n",
    "- **모델 평가**: 응시자는 훈련된 기계 학습을 받을 수 있습니다. 모델을 만들고 주어진 데이터 세트에 대한 성능을 평가하거나 성능을 개선할 방법을 제안하도록 요청했습니다.\n",
    "- **프레임워크별 질문**: 후보자는 다음과 같을 수 있습니다. 특정 모델을 구현하거나 특정 문제를 해결하기 위해 특정 기계 학습 프레임워크 또는 라이브러리(예: TensorFlow 또는 PyTorch)를 사용하도록 요청했습니다.\n",
    "- **수학 및 통계 질문**: 응시자는 다음과 같을 수 있습니다. 최적화 알고리즘, 선형 대수 또는 확률 분포와 같은 기계 학습 개념과 관련된 이론적 질문에 답하도록 요청했습니다."
   ]
  },
  {
   "cell_type": "code",
   "execution_count": null,
   "id": "c0ef9fcd-7965-4200-b52e-459136f6f430",
   "metadata": {},
   "outputs": [],
   "source": []
  }
 ],
 "metadata": {
  "kernelspec": {
   "display_name": "Python 3 (ipykernel)",
   "language": "python",
   "name": "python3"
  },
  "language_info": {
   "codemirror_mode": {
    "name": "ipython",
    "version": 3
   },
   "file_extension": ".py",
   "mimetype": "text/x-python",
   "name": "python",
   "nbconvert_exporter": "python",
   "pygments_lexer": "ipython3",
   "version": "3.7.13"
  }
 },
 "nbformat": 4,
 "nbformat_minor": 5
}
