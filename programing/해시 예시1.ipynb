{
 "cells": [
  {
   "cell_type": "markdown",
   "id": "c7a146ed-f408-4ba7-9229-6bf28c3fee3e",
   "metadata": {},
   "source": [
    "---\n",
    "layout: post  \n",
    "current: post  \n",
    "cover:  assets/built/images/Hash.png  \n",
    "navigation: True  \n",
    "title: Hash example 1  \n",
    "date: 2023-03-01 00:00:00 +0900  \n",
    "tags: [programing,python]  \n",
    "class: post-template  \n",
    "subclass: 'post tag-python'  \n",
    "author: chanp5660  \n",
    "---"
   ]
  },
  {
   "cell_type": "markdown",
   "id": "94a67422-2cc5-442f-9a9b-816e145f7e5d",
   "metadata": {},
   "source": [
    "# 해시 Hash 예시 1\n",
    "\n",
    "> 기본적으로 ChatGPT를 이용하여 틀을 잡고 만든 것"
   ]
  },
  {
   "cell_type": "markdown",
   "id": "474932d8-2d70-4fce-b8f6-e3980f5775e1",
   "metadata": {},
   "source": [
    "### 함수\n",
    "- 해시 테이블 생성\n",
    "    - 크기가 100인 배열 초기화 **__init__**\n",
    "- 해시 코드 생성 **hash_function**\n",
    "    - 각 문자의 아스키 코드 값을 합산\n",
    "- 삽입 함수\n",
    "    - 해시테이블의 주어진 해시 코드값을 인덱스로 **연결리스트**를 이용하여 삽입\n",
    "- 검색 함수\n",
    "    - 해시테이블에서 주어진 해시 코드값으로 인덱스로 연결리스트를 타고 주어진 키 값을 비교하면서 검색"
   ]
  },
  {
   "cell_type": "code",
   "execution_count": 5,
   "id": "134b418e-97e9-4fb5-bb3e-283e3bcbc15a",
   "metadata": {},
   "outputs": [],
   "source": [
    "# 해시 테이블 구현\n",
    "class HashTable:\n",
    "    # 크기가 100인 해시테이블 초기화되는 함수\n",
    "    def __init__(self):\n",
    "        self.size = 100 # 해시 테이블 크기\n",
    "        self.table = [None] * self.size  \n",
    "    \n",
    "    # key 값이 들어오면 해시코드를 알려주는 함수\n",
    "    def hash_function(self, key):\n",
    "        # 각 문자의 아스키 코드 값을 합산하여 해시 코드 생성\n",
    "        hash_code = sum([ord(char) for char in key])\n",
    "        return hash_code % self.size # 크기로 나눈 나머지를 해시 코드로 사용\n",
    "    \n",
    "    # key값에 해당되는 코드로 해시 테이블에 연결리스트로 (key, value)값을 넣어준다.(없으면 연결리스트 생성하고 넣어줌)\n",
    "    def insert(self, key, value):\n",
    "        hash_code = self.hash_function(key)\n",
    "        if not self.table[hash_code]:\n",
    "            self.table[hash_code] = [] # 연결 리스트 생성\n",
    "        self.table[hash_code].append((key,value)) # 연결 리스트에 데이터 삽입\n",
    "        \n",
    "    # 주어진 key값에 해당하는 값을 찾는 함수\n",
    "    # 해당 key의 해시코드로 해시테이블에서 값을 찾는다. (있을 때만 없으면 None 출력)\n",
    "    def search(self, key):\n",
    "        hash_code = self.hash_function(key)\n",
    "        if self.table[hash_code]:\n",
    "            for k,v in self.table[hash_code]:\n",
    "                if k == key:\n",
    "                    return v\n",
    "        return None # 데이터를 찾을 수 없는 경우 None 반환"
   ]
  },
  {
   "cell_type": "code",
   "execution_count": 6,
   "id": "5132f9cc-4baa-4c9c-82b3-1ac841419361",
   "metadata": {},
   "outputs": [
    {
     "name": "stdout",
     "output_type": "stream",
     "text": [
      "10\n",
      "None\n"
     ]
    }
   ],
   "source": [
    "# 예시\n",
    "hash_table = HashTable()\n",
    "hash_table.insert('apple', 10)\n",
    "hash_table.insert('banana', 20)\n",
    "hash_table.insert('orange', 30)\n",
    "\n",
    "print(hash_table.search('apple')) # 10\n",
    "print(hash_table.search('grape')) # None"
   ]
  }
 ],
 "metadata": {
  "kernelspec": {
   "display_name": "Python 3 (ipykernel)",
   "language": "python",
   "name": "python3"
  },
  "language_info": {
   "codemirror_mode": {
    "name": "ipython",
    "version": 3
   },
   "file_extension": ".py",
   "mimetype": "text/x-python",
   "name": "python",
   "nbconvert_exporter": "python",
   "pygments_lexer": "ipython3",
   "version": "3.7.13"
  }
 },
 "nbformat": 4,
 "nbformat_minor": 5
}
