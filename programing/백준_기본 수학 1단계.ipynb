{
 "cells": [
  {
   "cell_type": "markdown",
   "id": "c21f45d9-e693-4767-8903-b4be737b3c49",
   "metadata": {},
   "source": [
    "---\n",
    "layout: post  \n",
    "current: post  \n",
    "cover:  assets/built/images/baekjoon-logo.png  \n",
    "navigation: True  \n",
    "title: 백준-단계별-기본 수학 1단계  \n",
    "date: 2022-07-13 17:00:00 +0900  \n",
    "tags: [programing]  \n",
    "class: post-template  \n",
    "subclass: 'post tag-python'  \n",
    "author: chanp5660  \n",
    "---"
   ]
  },
  {
   "cell_type": "markdown",
   "id": "0e4ae87c-5f81-4a94-8065-e8b4508c779c",
   "metadata": {},
   "source": [
    "# 백준-단계별-기본 수학 1단계  \n",
    "https://www.acmicpc.net/step/8"
   ]
  },
  {
   "cell_type": "markdown",
   "id": "4b103470-9daa-4f10-b06f-335cd436e21d",
   "metadata": {},
   "source": [
    "## 달팽이는 올라가고 싶다 (4-2869)  \n",
    "https://www.acmicpc.net/problem/2869"
   ]
  },
  {
   "cell_type": "markdown",
   "id": "5a7a29f5-5301-471f-a983-a3c6318ede57",
   "metadata": {},
   "source": [
    "- 문제  \n",
    "땅 위에 달팽이가 있다. 이 달팽이는 높이가 V미터인 나무 막대를 올라갈 것이다.  \n",
    "달팽이는 낮에 A미터 올라갈 수 있다. 하지만, 밤에 잠을 자는 동안 B미터 미끄러진다. 또, 정상에 올라간 후에는 미끄러지지 않는다.  \n",
    "달팽이가 나무 막대를 모두 올라가려면, 며칠이 걸리는지 구하는 프로그램을 작성하시오.  \n",
    "\n",
    "- 입력  \n",
    "첫째 줄에 세 정수 A, B, V가 공백으로 구분되어서 주어진다. (1 ≤ B < A ≤ V ≤ 1,000,000,000)  \n",
    "- 출력  \n",
    "첫째 줄에 달팽이가 나무 막대를 모두 올라가는데 며칠이 걸리는지 출력한다.  \n",
    "\n",
    "예제 입력 1   \n",
    "2 1 5  \n",
    "예제 출력 1   \n",
    "4  \n",
    "예제 입력 2    \n",
    "5 1 6  \n",
    "예제 출력 2   \n",
    "2  \n",
    "예제 입력 3   \n",
    "100 99 1000000000  \n",
    "예제 출력 3   \n",
    "999999901  "
   ]
  },
  {
   "cell_type": "markdown",
   "id": "f5a718bb-a045-450d-b4ba-49b1a20dc904",
   "metadata": {},
   "source": [
    "- 코딩 전\n",
    "    - 낮과 밤의 합이 하루에 올라갈 수 있는 높이\n",
    "    - 총 높이를 하루에 올라갈 수 있는 높이로 나누면 된다."
   ]
  },
  {
   "cell_type": "code",
   "execution_count": 8,
   "id": "3386d119-3d20-438f-83d0-d538d82207e8",
   "metadata": {},
   "outputs": [
    {
     "name": "stdin",
     "output_type": "stream",
     "text": [
      " 100 99 1000000000\n"
     ]
    },
    {
     "name": "stdout",
     "output_type": "stream",
     "text": [
      "999999901\n"
     ]
    }
   ],
   "source": [
    "#Day,Night,Height = [2,1,5]\n",
    "Day,Night,Height = [int(x) for x in input().split()]\n",
    "Height_day = Day-Night\n",
    "Height -= Day # 마지막에 정상에 올라간 높이만큼은 제외하고 진행\n",
    "Day_Count = 1+Height/Height_day\n",
    "if int(Day_Count)!=Day_Count:\n",
    "    Day_Count = int(Day_Count)+1\n",
    "else:\n",
    "    Day_Count = int(Day_Count)\n",
    "print(Day_Count)"
   ]
  },
  {
   "cell_type": "markdown",
   "id": "fb474ebb-5403-4b6f-8e12-5a18c77894ea",
   "metadata": {},
   "source": [
    "- 코딩 후\n",
    "    - 정상에 올라간 후에는 미끄러지 않는 조건을 생각하지 않았다.\n",
    "    - 전체 높이에서 하루 올라가는 높이만큼은 제외하고 구한다."
   ]
  },
  {
   "cell_type": "markdown",
   "id": "e6f36ebf-0d3c-44ba-94bf-971bbc0a72c8",
   "metadata": {},
   "source": [
    "---"
   ]
  },
  {
   "cell_type": "markdown",
   "id": "40aa3bd7-b5b6-4d33-8448-4512367afce6",
   "metadata": {},
   "source": [
    "## ACM 호텔 (5-10250)  \n",
    "https://www.acmicpc.net/problem/10250"
   ]
  },
  {
   "cell_type": "markdown",
   "id": "98d5f27e-1656-409d-a8d5-a5c674251f34",
   "metadata": {},
   "source": [
    "ACM 호텔 매니저 지우는 손님이 도착하는 대로 빈 방을 배정하고 있다. 고객 설문조사에 따르면 손님들은 호텔 정문으로부터 걸어서 가장 짧은 거리에 있는 방을 선호한다고 한다. 여러분은 지우를 도와 줄 프로그램을 작성하고자 한다. 즉 설문조사 결과 대로 호텔 정문으로부터 걷는 거리가 가장 짧도록 방을 배정하는 프로그램을 작성하고자 한다.\n",
    "\n",
    "문제를 단순화하기 위해서 호텔은 직사각형 모양이라고 가정하자. 각 층에 W 개의 방이 있는 H 층 건물이라고 가정하자 (1 ≤ H, W ≤ 99). 그리고 엘리베이터는 가장 왼쪽에 있다고 가정하자(그림 1 참고). 이런 형태의 호텔을 H × W 형태 호텔이라고 부른다. 호텔 정문은 일층 엘리베이터 바로 앞에 있는데, 정문에서 엘리베이터까지의 거리는 무시한다. 또 모든 인접한 두 방 사이의 거리는 같은 거리(거리 1)라고 가정하고 호텔의 정면 쪽에만 방이 있다고 가정한다.\n",
    "\n",
    "<img width=\"261\" alt=\"elevator\" src=\"https://user-images.githubusercontent.com/46266247/178699489-65abc955-4ba1-420a-8653-70e933bbf0cf.png\">\n",
    "\n",
    "그림 1. H = 6 이고 W = 12 인 H × W 호텔을 간략하게 나타낸 그림  \n",
    "\n",
    "방 번호는 YXX 나 YYXX 형태인데 여기서 Y 나 YY 는 층 수를 나타내고 XX 는 엘리베이터에서부터 세었을 때의 번호를 나타낸다. 즉, 그림 1 에서 빗금으로 표시한 방은 305 호가 된다.  \n",
    "\n",
    "손님은 엘리베이터를 타고 이동하는 거리는 신경 쓰지 않는다. 다만 걷는 거리가 같을 때에는 아래층의 방을 더 선호한다. 예를 들면 102 호 방보다는 301 호 방을 더 선호하는데, 102 호는 거리 2 만큼 걸어야 하지만 301 호는 거리 1 만큼만 걸으면 되기 때문이다. 같은 이유로 102 호보다 201 호를 더 선호한다.  \n",
    "\n",
    "여러분이 작성할 프로그램은 초기에 모든 방이 비어있다고 가정하에 이 정책에 따라 N 번째로 도착한 손님에게 배정될 방 번호를 계산하는 프로그램이다. 첫 번째 손님은 101 호, 두 번째 손님은 201 호 등과 같이 배정한다. 그림 1 의 경우를 예로 들면, H = 6이므로 10 번째 손님은 402 호에 배정해야 한다.  \n",
    "\n",
    "- 입력  \n",
    "프로그램은 표준 입력에서 입력 데이터를 받는다. 프로그램의 입력은 T 개의 테스트 데이터로 이루어져 있는데 T 는 입력의 맨 첫 줄에 주어진다. 각 테스트 데이터는 한 행으로서 H, W, N, 세 정수를 포함하고 있으며 각각 호텔의 층 수, 각 층의 방 수, 몇 번째 손님인지를 나타낸다(1 ≤ H, W ≤ 99, 1 ≤ N ≤ H × W). \n",
    "\n",
    "- 출력  \n",
    "프로그램은 표준 출력에 출력한다. 각 테스트 데이터마다 정확히 한 행을 출력하는데, 내용은 N 번째 손님에게 배정되어야 하는 방 번호를 출력한다.\n",
    "\n",
    "예제 입력 1   \n",
    "2  \n",
    "6 12 10  \n",
    "30 50 72   \n",
    "\n",
    "예제 출력 1   \n",
    "402  \n",
    "1203  "
   ]
  },
  {
   "cell_type": "markdown",
   "id": "9aa83ccd-9e38-4fb8-8d25-47fc8424a2c4",
   "metadata": {},
   "source": [
    "- 나만의 해석\n",
    "    - 우선순위 호수(W)가 작을수록, 층수(H)가 낮을수록 선호"
   ]
  },
  {
   "cell_type": "code",
   "execution_count": 17,
   "id": "ae83c26c-1ec9-4390-ab04-1082155f716c",
   "metadata": {},
   "outputs": [
    {
     "name": "stdout",
     "output_type": "stream",
     "text": [
      "402\n"
     ]
    }
   ],
   "source": [
    "T = 2\n",
    "\n",
    "H, W, N = [6,12,10] # 호텔의 층 수, 각 층의 방 수, 몇 번째 손님\n",
    "\n",
    "# H/N 나누기 하여 몫이 호수! 나머지가 층수!\n",
    "COUNT = N/H if N/H == int(N/H) else int(N/H)+1 # 올림\n",
    "floor = H if N%H == 0 else N%H # 나누어 떨어지면 꼭대기층이다.\n",
    "\n",
    "print(int(floor*100+COUNT))"
   ]
  },
  {
   "cell_type": "code",
   "execution_count": 9,
   "id": "115cee7a-c20f-4678-a8ea-09501dc5e1a4",
   "metadata": {},
   "outputs": [
    {
     "name": "stdin",
     "output_type": "stream",
     "text": [
      " 2\n",
      " 6 12 10\n"
     ]
    },
    {
     "name": "stdout",
     "output_type": "stream",
     "text": [
      "402\n"
     ]
    },
    {
     "name": "stdin",
     "output_type": "stream",
     "text": [
      " 30 50 72\n"
     ]
    },
    {
     "name": "stdout",
     "output_type": "stream",
     "text": [
      "1203\n"
     ]
    }
   ],
   "source": [
    "# 제출코드\n",
    "T = int(input())\n",
    "\n",
    "for i in range(T):\n",
    "    H, W, N = [int(x) for x in input().split()]# 호텔의 층 수, 각 층의 방 수, 몇 번째 손님\n",
    "\n",
    "    # H/N 나누기 하여 몫이 호수! 나머지가 층수!\n",
    "    COUNT = N/H if N/H == int(N/H) else int(N/H)+1 # 올림\n",
    "    floor = H if N%H == 0 else N%H # 나누어 떨어지면 꼭대기층이다.\n",
    "\n",
    "    print(int(floor*100+COUNT))"
   ]
  },
  {
   "cell_type": "markdown",
   "id": "125711c3-a86b-4d52-ad69-b382f6d1d54f",
   "metadata": {},
   "source": [
    "---"
   ]
  },
  {
   "cell_type": "markdown",
   "id": "b9a6d7c3-f494-4390-9708-c1db5a1f5964",
   "metadata": {},
   "source": [
    "---"
   ]
  },
  {
   "cell_type": "markdown",
   "id": "6f49e2e2-6cb2-4c06-b726-b19db0d7a323",
   "metadata": {},
   "source": [
    "## 부녀회장이 될테야 (6-2775)\n",
    "\n",
    "https://www.acmicpc.net/problem/2775"
   ]
  },
  {
   "cell_type": "markdown",
   "id": "b08be6fb-b143-4ef5-b1f4-0a98ed44c738",
   "metadata": {},
   "source": [
    "- 문제  \n",
    "평소 반상회에 참석하는 것을 좋아하는 주희는 이번 기회에 부녀회장이 되고 싶어 각 층의 사람들을 불러 모아 반상회를 주최하려고 한다.  \n",
    "이 아파트에 거주를 하려면 조건이 있는데, “a층의 b호에 살려면 자신의 아래(a-1)층의 1호부터 b호까지 사람들의 수의 합만큼 사람들을 데려와 살아야 한다” 는 계약 조항을 꼭 지키고 들어와야 한다.  \n",
    "아파트에 비어있는 집은 없고 모든 거주민들이 이 계약 조건을 지키고 왔다고 가정했을 때, 주어지는 양의 정수 k와 n에 대해 k층에 n호에는 몇 명이 살고 있는지 출력하라. 단, 아파트에는 0층부터 있고 각층에는 1호부터 있으며, 0층의 i호에는 i명이 산다.  \n",
    "\n",
    "- 입력  \n",
    "첫 번째 줄에 Test case의 수 T가 주어진다. 그리고 각각의 케이스마다 입력으로 첫 번째 줄에 정수 k, 두 번째 줄에 정수 n이 주어진다  \n",
    "\n",
    "- 출력  \n",
    "각각의 Test case에 대해서 해당 집에 거주민 수를 출력하라.  \n",
    "\n",
    "- 제한  \n",
    "1 ≤ k, n ≤ 14  \n",
    "\n",
    "- 예제 입력 1   \n",
    "2  \n",
    "1  \n",
    "3  \n",
    "2  \n",
    "3  \n",
    "\n",
    "- 예제 출력 1   \n",
    "6  \n",
    "10  "
   ]
  },
  {
   "cell_type": "markdown",
   "id": "d5bee931-e9c1-4bd6-ba16-8391636ea076",
   "metadata": {},
   "source": [
    "- 나만의 해석\n",
    "    - 재귀함수를 이용해서 위의 설명대로 하면 될 것 같다."
   ]
  },
  {
   "cell_type": "code",
   "execution_count": 29,
   "id": "32143a8f-9906-4fda-a9dd-b3686372a8be",
   "metadata": {},
   "outputs": [
    {
     "data": {
      "text/plain": [
       "21"
      ]
     },
     "execution_count": 29,
     "metadata": {},
     "output_type": "execute_result"
    }
   ],
   "source": [
    "def FIND_CT(K,N):\n",
    "    if N==1: #  0층부터 있고 각층에는 1호\n",
    "        return 1\n",
    "    if K==0: #  0층의 i호에는 i명이 산다.\n",
    "        return N\n",
    "    \n",
    "    # 현재 인원은 {FIND_CT(K-1,N) : 아래층인 B} + {FIND_CT(K,N-1) : 1~(B-1)의 합인 왼쪽층(N-1)} 둘의 합이다.\n",
    "    return FIND_CT(K-1,N)+FIND_CT(K,N-1) \n",
    "\n",
    "FIND_CT(1,6)"
   ]
  },
  {
   "cell_type": "code",
   "execution_count": null,
   "id": "9cc91fb3-6e5e-4ead-a982-77983b637436",
   "metadata": {},
   "outputs": [],
   "source": [
    "# 제출코드\n",
    "def FIND_CT(K,N):\n",
    "    if N==1: #  0층부터 있고 각층에는 1호\n",
    "        return 1\n",
    "    if K==0: #  0층의 i호에는 i명이 산다.\n",
    "        return N\n",
    "    \n",
    "    # 현재 인원은 {FIND_CT(K-1,N) : 아래층인 B} + {FIND_CT(K,N-1) : 1~(B-1)의 합인 왼쪽층(N-1)} 둘의 합이다.\n",
    "    return FIND_CT(K-1,N)+FIND_CT(K,N-1) \n",
    "\n",
    "for i in range(int(input())):\n",
    "    K = int(input())\n",
    "    N = int(input())\n",
    "    FIND_CT(K,N)"
   ]
  },
  {
   "cell_type": "markdown",
   "id": "3f911abd-441c-42a1-ac75-9a4b87b3508a",
   "metadata": {},
   "source": [
    "- 재귀함수를 사용하면 시간초과가 나온다.\n",
    "- ~~수학적으로 계산을 해야할 것 같다.~~ 반복문으로 해결해야할 것 같다."
   ]
  },
  {
   "cell_type": "code",
   "execution_count": 56,
   "id": "4bb894e2-4a69-4f86-af68-18448890ccf3",
   "metadata": {},
   "outputs": [
    {
     "name": "stdout",
     "output_type": "stream",
     "text": [
      "10\n",
      "1 4 10 \n",
      "1 3 6 \n"
     ]
    }
   ],
   "source": [
    "ALL_room = [] # 모든 방\n",
    "\n",
    "K,N= 2,3\n",
    "\n",
    "for k in range(0,K+1):\n",
    "    New_floor = [] # 각 층을 추가해준다. K 만큼\n",
    "    for n in range(1,N+1):\n",
    "        # 각 호수에 해당하는 값을 New_floor 층 리스트에 넣어준다.\n",
    "        if n == 1:\n",
    "            New_floor.append(1)\n",
    "        elif k == 0: # 0층에서는 기본 값으로 n을 넣어준다.\n",
    "            New_floor.append(n)\n",
    "        else:\n",
    "            New_floor.append(New_floor[-1]+ALL_room[k-1][n-1])\n",
    "    ALL_room.append(New_floor)\n",
    "    \n",
    "print(ALL_room[K][N-1])            "
   ]
  },
  {
   "cell_type": "code",
   "execution_count": null,
   "id": "ccc1c8cd-46d7-4757-9e94-b040a2b06eca",
   "metadata": {},
   "outputs": [],
   "source": [
    "#제출코드\n",
    "K_list=[]\n",
    "N_list=[]\n",
    "\n",
    "COUNT_input = int(input()) \n",
    "for i in range(COUNT_input):\n",
    "    K_list.append(int(input()))\n",
    "    N_list.append(int(input()))\n",
    "\n",
    "\n",
    "\n",
    "ALL_room = [] # 모든 방\n",
    "\n",
    "K,N= max(K_list),max(N_list)\n",
    "\n",
    "for k in range(0,K+1):\n",
    "    New_floor = [] # 각 층을 추가해준다. K 만큼\n",
    "    for n in range(1,N+1):\n",
    "        # 각 호수에 해당하는 값을 New_floor 층 리스트에 넣어준다.\n",
    "        if n == 1:\n",
    "            New_floor.append(1)\n",
    "        elif k == 0: # 0층에서는 기본 값으로 n을 넣어준다.\n",
    "            New_floor.append(n)\n",
    "        else:\n",
    "            New_floor.append(New_floor[-1]+ALL_room[k-1][n-1])\n",
    "    ALL_room.append(New_floor)\n",
    "    \n",
    "for i in range(COUNT_input):\n",
    "    print(ALL_room[K_list[i]][N_list[i]-1]) "
   ]
  },
  {
   "cell_type": "markdown",
   "id": "d8d69b49-928a-4080-90fd-9bfeb20fe69e",
   "metadata": {},
   "source": [
    "---"
   ]
  },
  {
   "cell_type": "markdown",
   "id": "770cd9b7-8749-4187-88d2-9f4c41feccf3",
   "metadata": {},
   "source": [
    "## 큰 수 A+B (8-10757)\n",
    "\n",
    "https://www.acmicpc.net/problem/10757\n",
    "\n"
   ]
  },
  {
   "cell_type": "markdown",
   "id": "18651a88-45dc-4862-9300-dc5ec3225c63",
   "metadata": {},
   "source": [
    "- 문제  \n",
    "두 정수 A와 B를 입력받은 다음, A+B를 출력하는 프로그램을 작성하시오.  \n",
    "\n",
    "- 입력  \n",
    "첫째 줄에 A와 B가 주어진다. (0 < A,B < 1010000)  \n",
    "\n",
    "- 출력  \n",
    "첫째 줄에 A+B를 출력한다.  \n",
    "\n",
    "- 예제 입력 1   \n",
    "9223372036854775807 9223372036854775808  \n",
    "- 예제 출력 1   \n",
    "18446744073709551615  "
   ]
  },
  {
   "cell_type": "markdown",
   "id": "d533dd99-157e-482d-bb7c-cd488bcd8f11",
   "metadata": {},
   "source": [
    "- 나만의 해석\n",
    "    - ... 없음"
   ]
  },
  {
   "cell_type": "code",
   "execution_count": null,
   "id": "4b348c28-049c-45fb-b643-bff0f0c9dc14",
   "metadata": {},
   "outputs": [],
   "source": [
    "# 제출코드\n",
    "A,B = [int(x) for x in input().split()]\n",
    "print(A+B)"
   ]
  }
 ],
 "metadata": {
  "kernelspec": {
   "display_name": "Python 3 (ipykernel)",
   "language": "python",
   "name": "python3"
  },
  "language_info": {
   "codemirror_mode": {
    "name": "ipython",
    "version": 3
   },
   "file_extension": ".py",
   "mimetype": "text/x-python",
   "name": "python",
   "nbconvert_exporter": "python",
   "pygments_lexer": "ipython3",
   "version": "3.7.13"
  }
 },
 "nbformat": 4,
 "nbformat_minor": 5
}
