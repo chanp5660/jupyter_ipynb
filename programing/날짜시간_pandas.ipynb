{
 "cells": [
  {
   "cell_type": "markdown",
   "id": "cd493d3e-6754-425c-ac86-ddbc131e77d5",
   "metadata": {},
   "source": [
    "---\n",
    "layout: post  \n",
    "current: post  \n",
    "cover:  assets/built/images/날짜시간.png  \n",
    "navigation: True  \n",
    "title: 날짜시간(Pandas)  \n",
    "date: 2023-03-21 00:00:00 +0900  \n",
    "tags: [programing,python]  \n",
    "class: post-template  \n",
    "subclass: 'post tag-python'  \n",
    "author: chanp5660  \n",
    "---"
   ]
  },
  {
   "cell_type": "markdown",
   "id": "858df507-33d4-4991-9c28-af21cd96014a",
   "metadata": {},
   "source": [
    "# 날짜 & 시간 데이터 (Pandas)\n",
    "\n",
    "파이썬에서 날짜 & 시간 데이터를 다루는 방법을 알아보고 실행해 보겠습니다."
   ]
  },
  {
   "cell_type": "markdown",
   "id": "7283e12e-a698-4a5f-ba52-6fbf7884451b",
   "metadata": {},
   "source": [
    "[티스토리 블로그](https://durian9s-coding-tree.tistory.com/8)\n",
    "\n",
    "[데이터 사이언스 스쿨 - 시계열 자료 다루기](https://datascienceschool.net/01%20python/04.08%20%EC%8B%9C%EA%B3%84%EC%97%B4%20%EC%9E%90%EB%A3%8C%20%EB%8B%A4%EB%A3%A8%EA%B8%B0.html#datetimeindex)"
   ]
  },
  {
   "cell_type": "markdown",
   "id": "e465df35-5d50-44b2-aade-d77761e3bad1",
   "metadata": {},
   "source": [
    "# Pandas.dt"
   ]
  },
  {
   "cell_type": "markdown",
   "id": "c04e4839-f728-4f2d-88cc-f533fc247f14",
   "metadata": {},
   "source": [
    "데이터 형식은 datetime64 로 일자와 시간 정보를 제공합니다."
   ]
  },
  {
   "cell_type": "markdown",
   "id": "b03da1dd-68e9-4333-9fd0-ca26989cb765",
   "metadata": {},
   "source": [
    "### pd.to_datetime()"
   ]
  },
  {
   "cell_type": "markdown",
   "id": "5552e898-229d-4cc6-ac0e-12d9ae3a9291",
   "metadata": {},
   "source": [
    "날짜, 시간을 나타내는 문자열을 datetime64 자료형으로 변형합니다."
   ]
  },
  {
   "cell_type": "code",
   "execution_count": null,
   "id": "9293af39-b3f5-4241-9ef3-3e0d886fa5e0",
   "metadata": {},
   "outputs": [],
   "source": []
  },
  {
   "cell_type": "markdown",
   "id": "4d1dc653-b634-459c-abec-d37ce4dc82c3",
   "metadata": {
    "tags": []
   },
   "source": [
    "### pd.date_range()"
   ]
  },
  {
   "cell_type": "markdown",
   "id": "a849c030-9af7-42aa-986c-43c151cb16aa",
   "metadata": {},
   "source": [
    "시작일과 종료일 또는 시작일과 기간을 입력하면 범위 내의 날짜, 시간에 해당되는 datetime64 형식의 데이터를 생성해줍니다."
   ]
  },
  {
   "cell_type": "code",
   "execution_count": null,
   "id": "2c07862c-c36f-45ea-acb4-696a4cc57f18",
   "metadata": {},
   "outputs": [],
   "source": []
  }
 ],
 "metadata": {
  "kernelspec": {
   "display_name": "Python 3 (ipykernel)",
   "language": "python",
   "name": "python3"
  },
  "language_info": {
   "codemirror_mode": {
    "name": "ipython",
    "version": 3
   },
   "file_extension": ".py",
   "mimetype": "text/x-python",
   "name": "python",
   "nbconvert_exporter": "python",
   "pygments_lexer": "ipython3",
   "version": "3.7.13"
  }
 },
 "nbformat": 4,
 "nbformat_minor": 5
}
