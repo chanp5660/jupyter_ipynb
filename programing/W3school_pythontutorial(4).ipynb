{
 "cells": [
  {
   "cell_type": "markdown",
   "id": "688ae14c-9c0b-420a-8e52-92a071e6059c",
   "metadata": {},
   "source": [
    "---\n",
    "layout: post  \n",
    "current: post  \n",
    "cover:  assets/built/images/w3school-logo.png  \n",
    "navigation: True  \n",
    "title: W3school_pythontutorial(4)   \n",
    "date: 2022-07-27 13:46:00 +0900  \n",
    "tags: [programing]  \n",
    "class: post-template  \n",
    "subclass: 'post tag-python'  \n",
    "author: chanp5660  \n",
    "---"
   ]
  },
  {
   "cell_type": "markdown",
   "id": "00aba47f-e13a-41e5-b865-cb3009c558c4",
   "metadata": {},
   "source": [
    "{% include w3python-table-of-contents.html %}"
   ]
  },
  {
   "cell_type": "markdown",
   "id": "582a9e4f-0fb9-423a-8130-c1b37ba44c1d",
   "metadata": {
    "tags": []
   },
   "source": [
    "# W3school_pythontutorial(4)\n",
    "\n",
    "> **내실 다지기** : [w3school](https://www.w3schools.com/) 사이트에서 python tutorial을 처음부터 끝까지 하는 목표로 시작하는 포스팅으로 제공해주는 목차 순서대로 진행한다. 간단한 내용은 제공해준 예제만 실행해본다. 활용해볼 예제는 추가로 간단한 예제를 만들어 실행하는 코드까지 작성하며 내실을 다진다.\n",
    "\n"
   ]
  },
  {
   "cell_type": "markdown",
   "id": "a56063ae-ff90-4cd4-8897-713265600e6b",
   "metadata": {},
   "source": [
    "- 주제    \n",
    "    - <a href=\"#Booleans\">Booleans</a>  \n",
    "    - <a href=\"#Operators\">Operators</a>  \n",
    "    - <a href=\"#Tuples\">Tuples</a>  \n",
    "    - <a href=\"#If_Else\">If Else</a>  \n",
    "    - <a href=\"#While_Loops\">While Loops</a>  \n",
    "    - <a href=\"#For_Loops\">For Loops</a>  \n",
    "    - <a href=\"#Functions\">Functions</a>  \n",
    "    - <a href=\"#Lambda\">Lambda</a>  "
   ]
  },
  {
   "cell_type": "markdown",
   "id": "c8954bb5-911e-49d1-848c-1aa0caa31cbd",
   "metadata": {},
   "source": [
    "<p href=\"#Booleans\"></p>  \n",
    "\n",
    "## Booleans  \n",
    "\n",
    "[Booleans](https://www.w3schools.com/python/python_booleans.asp)"
   ]
  },
  {
   "cell_type": "code",
   "execution_count": 3,
   "id": "0f68102e-be3c-4698-93bf-2e3470dd2838",
   "metadata": {},
   "outputs": [
    {
     "name": "stdout",
     "output_type": "stream",
     "text": [
      "True\n",
      "False\n",
      "False\n"
     ]
    }
   ],
   "source": [
    "### Boolean Values\n",
    "print(10 > 9)\n",
    "print(10 == 9)\n",
    "print(10 < 9)"
   ]
  },
  {
   "cell_type": "code",
   "execution_count": 2,
   "id": "90aac658-e9fb-4609-b7b3-7b043fdc6c0f",
   "metadata": {},
   "outputs": [
    {
     "name": "stdout",
     "output_type": "stream",
     "text": [
      "b is not greater than a\n"
     ]
    }
   ],
   "source": [
    "a = 200\n",
    "b = 33\n",
    "\n",
    "if b > a:\n",
    "    print(\"b is greater than a\")\n",
    "else:\n",
    "    print(\"b is not greater than a\")"
   ]
  },
  {
   "cell_type": "code",
   "execution_count": 5,
   "id": "a69fcc52-f1e7-4e1a-83ef-5493e381cd72",
   "metadata": {},
   "outputs": [
    {
     "name": "stdout",
     "output_type": "stream",
     "text": [
      "True\n",
      "True\n"
     ]
    }
   ],
   "source": [
    "# Evaluate Values and Variables 값은 0을 제외하고는 다 True 이다\n",
    "print(bool(\"Hello\"))\n",
    "print(bool(15))"
   ]
  },
  {
   "cell_type": "code",
   "execution_count": 6,
   "id": "93252d0d-2120-41dd-b0fa-950f78282519",
   "metadata": {},
   "outputs": [
    {
     "name": "stdout",
     "output_type": "stream",
     "text": [
      "True\n",
      "True\n"
     ]
    }
   ],
   "source": [
    "x = \"Hello\"\n",
    "y = 15\n",
    "\n",
    "print(bool(x))\n",
    "print(bool(y))"
   ]
  },
  {
   "cell_type": "code",
   "execution_count": 10,
   "id": "67c5360c-204e-4ccd-9a5e-5e03c546c189",
   "metadata": {},
   "outputs": [
    {
     "name": "stdout",
     "output_type": "stream",
     "text": [
      "True\n",
      "True\n",
      "True\n"
     ]
    }
   ],
   "source": [
    "# Most Values are True\n",
    "print(bool(\"abc\"))\n",
    "print(bool(123))\n",
    "print(bool([\"apple\", \"cherry\", \"banana\"]))"
   ]
  },
  {
   "cell_type": "code",
   "execution_count": 6,
   "id": "17348bdc-e43e-4ccd-b73e-e3424728d917",
   "metadata": {},
   "outputs": [
    {
     "name": "stdout",
     "output_type": "stream",
     "text": [
      "False\n",
      "False\n",
      "False\n",
      "False\n",
      "False\n",
      "False\n",
      "False\n"
     ]
    }
   ],
   "source": [
    "# Some Values are False\n",
    "print(bool(False))\n",
    "print(bool(None))\n",
    "print(bool(0))\n",
    "print(bool(\"\"))\n",
    "print(bool(()))\n",
    "print(bool([]))\n",
    "print(bool({}))"
   ]
  },
  {
   "cell_type": "code",
   "execution_count": 14,
   "id": "f464e0f7-e141-4b8b-8f6b-b7b690827dfc",
   "metadata": {},
   "outputs": [
    {
     "name": "stdout",
     "output_type": "stream",
     "text": [
      "False\n"
     ]
    }
   ],
   "source": [
    "class myclass():\n",
    "    def __len__(self):\n",
    "        return 0\n",
    "\n",
    "myobj = myclass()\n",
    "print(bool(myobj))"
   ]
  },
  {
   "cell_type": "code",
   "execution_count": 7,
   "id": "3a4c8525-2271-4642-b236-b620e80b930b",
   "metadata": {},
   "outputs": [
    {
     "name": "stdout",
     "output_type": "stream",
     "text": [
      "True\n"
     ]
    }
   ],
   "source": [
    "# Functions can Return a Boolean\n",
    "def myFunction() :\n",
    "    return True\n",
    "\n",
    "print(myFunction())"
   ]
  },
  {
   "cell_type": "code",
   "execution_count": 9,
   "id": "be1ba5d3-0608-4b10-a6fe-6788a4335ab3",
   "metadata": {},
   "outputs": [
    {
     "name": "stdout",
     "output_type": "stream",
     "text": [
      "YES!\n"
     ]
    }
   ],
   "source": [
    "def myFunction() :\n",
    "    return True\n",
    "\n",
    "if myFunction():\n",
    "    print(\"YES!\")\n",
    "else:\n",
    "    print(\"NO!\")"
   ]
  },
  {
   "cell_type": "code",
   "execution_count": 10,
   "id": "9a85ca69-d9ed-4c4b-9249-1866b5344c7f",
   "metadata": {},
   "outputs": [
    {
     "name": "stdout",
     "output_type": "stream",
     "text": [
      "True\n"
     ]
    }
   ],
   "source": [
    "x = 200\n",
    "print(isinstance(x, int))"
   ]
  },
  {
   "cell_type": "markdown",
   "id": "6b6d934f-0608-41ba-a6a5-05274b7023bf",
   "metadata": {},
   "source": [
    "<p href=\"#Operators\"></p>  \n",
    "\n",
    "## Operators  \n",
    "\n",
    "[Operators](https://www.w3schools.com/python/python_operators.asp)"
   ]
  },
  {
   "cell_type": "markdown",
   "id": "ff09147d-8f63-42a6-8f89-f2c03986c7fe",
   "metadata": {},
   "source": [
    "### Operators_산술 연산자\n",
    "\n",
    "- 산술 연산자는 일반적인 수학 연산을 수행하기 위해 숫자 값과 함께 사용됩니다.\n",
    "\n",
    "<img src=\"https://user-images.githubusercontent.com/46266247/181168361-0770a0e0-6f83-466c-a9b6-bac8e4668da3.png\" width=\"50%\">"
   ]
  },
  {
   "cell_type": "code",
   "execution_count": 11,
   "id": "053054e0-5eb0-436f-993f-e1bfd13e8110",
   "metadata": {},
   "outputs": [
    {
     "name": "stdout",
     "output_type": "stream",
     "text": [
      "15\n"
     ]
    }
   ],
   "source": [
    "print(10 + 5)"
   ]
  },
  {
   "cell_type": "code",
   "execution_count": 12,
   "id": "927659e6-5824-412d-acf5-102c639623f8",
   "metadata": {},
   "outputs": [
    {
     "name": "stdout",
     "output_type": "stream",
     "text": [
      "5\n"
     ]
    }
   ],
   "source": [
    "print(10-5)"
   ]
  },
  {
   "cell_type": "code",
   "execution_count": 13,
   "id": "fafb402b-3584-4122-9233-fb59c2598d46",
   "metadata": {},
   "outputs": [
    {
     "name": "stdout",
     "output_type": "stream",
     "text": [
      "50\n"
     ]
    }
   ],
   "source": [
    "print(10*5)"
   ]
  },
  {
   "cell_type": "code",
   "execution_count": 36,
   "id": "9e08becc-0eb6-4b49-a931-e20befcffe72",
   "metadata": {},
   "outputs": [
    {
     "name": "stdout",
     "output_type": "stream",
     "text": [
      "2.0\n"
     ]
    }
   ],
   "source": [
    "print(10/5) # 나누기 float 형으로 나온다."
   ]
  },
  {
   "cell_type": "code",
   "execution_count": 15,
   "id": "a9c57e55-b8a1-485a-864a-e8a574904610",
   "metadata": {},
   "outputs": [
    {
     "name": "stdout",
     "output_type": "stream",
     "text": [
      "0\n"
     ]
    }
   ],
   "source": [
    "print(10%5) # 나머지"
   ]
  },
  {
   "cell_type": "code",
   "execution_count": 16,
   "id": "f129948d-1abf-4e4b-854c-d61856112aa0",
   "metadata": {},
   "outputs": [
    {
     "name": "stdout",
     "output_type": "stream",
     "text": [
      "100000\n"
     ]
    }
   ],
   "source": [
    "print(10**5) # 제곱수"
   ]
  },
  {
   "cell_type": "code",
   "execution_count": 19,
   "id": "60877d9e-c0ea-42bd-b1a7-b610f6181c82",
   "metadata": {},
   "outputs": [
    {
     "name": "stdout",
     "output_type": "stream",
     "text": [
      "3\n"
     ]
    }
   ],
   "source": [
    "print(10//3) # 3.9 결과를 가장 가까운 정수로 (내림)"
   ]
  },
  {
   "cell_type": "markdown",
   "id": "337c7928-dcf9-4794-b1dd-7182bc6ae8ab",
   "metadata": {},
   "source": [
    "### Operators_할당 연산자\n",
    "\n",
    "- 할당 연산자는 변수에 값을 할당하는 데 사용됩니다.\n",
    "\n",
    "<img src=\"https://user-images.githubusercontent.com/46266247/181168641-7415b27a-26b4-4d1f-b55a-dac93646832e.png\" width=\"60%\">"
   ]
  },
  {
   "cell_type": "code",
   "execution_count": 21,
   "id": "84bff1a7-0367-4761-b152-82a1e6f23c5a",
   "metadata": {},
   "outputs": [
    {
     "name": "stdout",
     "output_type": "stream",
     "text": [
      "5\n"
     ]
    }
   ],
   "source": [
    "x = 5;print(x)"
   ]
  },
  {
   "cell_type": "code",
   "execution_count": 31,
   "id": "c138bdd7-65d2-4529-bc77-27565ce6768d",
   "metadata": {},
   "outputs": [
    {
     "name": "stdout",
     "output_type": "stream",
     "text": [
      "8\n"
     ]
    }
   ],
   "source": [
    "x = 5\n",
    "x += 3;print(x)"
   ]
  },
  {
   "cell_type": "code",
   "execution_count": 32,
   "id": "0d53fb6d-f3e0-4bf5-a06e-81ede23473be",
   "metadata": {},
   "outputs": [
    {
     "name": "stdout",
     "output_type": "stream",
     "text": [
      "2\n"
     ]
    }
   ],
   "source": [
    "x = 5\n",
    "x -= 3;print(x)"
   ]
  },
  {
   "cell_type": "code",
   "execution_count": 33,
   "id": "90a6e2b5-3c69-48ac-951a-80462418e4d4",
   "metadata": {},
   "outputs": [
    {
     "name": "stdout",
     "output_type": "stream",
     "text": [
      "15\n"
     ]
    }
   ],
   "source": [
    "x = 5\n",
    "x *= 3;print(x)"
   ]
  },
  {
   "cell_type": "code",
   "execution_count": 34,
   "id": "0b29a272-0f37-44a6-a69d-9785bf3fab3a",
   "metadata": {},
   "outputs": [
    {
     "name": "stdout",
     "output_type": "stream",
     "text": [
      "1.6666666666666667\n"
     ]
    }
   ],
   "source": [
    "x = 5\n",
    "x /= 3;print(x)"
   ]
  },
  {
   "cell_type": "code",
   "execution_count": 35,
   "id": "39510174-c3a5-4d09-8bd9-a71b4ec6253d",
   "metadata": {},
   "outputs": [
    {
     "name": "stdout",
     "output_type": "stream",
     "text": [
      "2\n"
     ]
    }
   ],
   "source": [
    "x = 5\n",
    "x %= 3;print(x)"
   ]
  },
  {
   "cell_type": "code",
   "execution_count": 28,
   "id": "5ac1bc16-8dfe-4362-b6ba-6615eaad8e7b",
   "metadata": {},
   "outputs": [
    {
     "name": "stdout",
     "output_type": "stream",
     "text": [
      "1\n"
     ]
    }
   ],
   "source": [
    "x = 5\n",
    "x //= 3;print(x)"
   ]
  },
  {
   "cell_type": "code",
   "execution_count": 30,
   "id": "83222c90-3373-4fb3-a55e-e5b15929edba",
   "metadata": {},
   "outputs": [
    {
     "name": "stdout",
     "output_type": "stream",
     "text": [
      "125\n"
     ]
    }
   ],
   "source": [
    "x = 5 \n",
    "x **= 3;print(x)"
   ]
  },
  {
   "cell_type": "code",
   "execution_count": 46,
   "id": "2eabcd0c-4887-4ab7-86e6-4ba88e78c557",
   "metadata": {},
   "outputs": [
    {
     "name": "stdout",
     "output_type": "stream",
     "text": [
      "1\n"
     ]
    }
   ],
   "source": [
    "# 비트별 논리곱(Bitwise And)\n",
    "x = 5 \n",
    "x &= 3;print(x)"
   ]
  },
  {
   "cell_type": "code",
   "execution_count": 39,
   "id": "a767b490-ee42-4527-a140-fd9fbd472854",
   "metadata": {},
   "outputs": [
    {
     "name": "stdout",
     "output_type": "stream",
     "text": [
      "7\n"
     ]
    }
   ],
   "source": [
    "# 비트별 논리합(Bitwise Or) or_(a, b)\n",
    "x = 5 \n",
    "x |= 3;print(x)"
   ]
  },
  {
   "cell_type": "code",
   "execution_count": 48,
   "id": "7564b21e-35ff-4f20-b0b0-b82e4fd42707",
   "metadata": {},
   "outputs": [
    {
     "name": "stdout",
     "output_type": "stream",
     "text": [
      "6\n"
     ]
    }
   ],
   "source": [
    "# 비트별 배타적 논리합(Bitwise Exclusive Or) 잘 쓰지 않는다.\n",
    "x = 5\n",
    "x ^= 3;print(x)"
   ]
  },
  {
   "cell_type": "code",
   "execution_count": 53,
   "id": "f1fc9405-af5a-4d07-ba5a-55c3c8843a3b",
   "metadata": {},
   "outputs": [
    {
     "name": "stdout",
     "output_type": "stream",
     "text": [
      "3\n"
     ]
    }
   ],
   "source": [
    "# 비트 이동\n",
    "x = 25\n",
    "x >>= 3;print(x)"
   ]
  },
  {
   "cell_type": "code",
   "execution_count": 54,
   "id": "dcc2049e-da8b-4132-af70-0310f320c62e",
   "metadata": {},
   "outputs": [
    {
     "name": "stdout",
     "output_type": "stream",
     "text": [
      "40\n"
     ]
    }
   ],
   "source": [
    "x = 5\n",
    "x <<= 3;print(x)"
   ]
  },
  {
   "cell_type": "markdown",
   "id": "8bb6682b-50c6-46ae-a2ba-e8a851979359",
   "metadata": {},
   "source": [
    "### Operators_비교 연산자\n",
    "\n",
    "<img src=\"https://user-images.githubusercontent.com/46266247/181172299-3cdd9e3c-f005-4186-9108-b8c0fbcf4313.png\" width=\"60%\">"
   ]
  },
  {
   "cell_type": "code",
   "execution_count": 56,
   "id": "5d3b2c17-36a8-40d8-a0ef-462b6d6c38dc",
   "metadata": {},
   "outputs": [],
   "source": [
    "x, y = 3,5"
   ]
  },
  {
   "cell_type": "code",
   "execution_count": 57,
   "id": "1f54ba9e-bc4f-4d27-aa5d-37ac02c72536",
   "metadata": {},
   "outputs": [
    {
     "data": {
      "text/plain": [
       "False"
      ]
     },
     "execution_count": 57,
     "metadata": {},
     "output_type": "execute_result"
    }
   ],
   "source": [
    "x == y"
   ]
  },
  {
   "cell_type": "code",
   "execution_count": 59,
   "id": "a78980b5-19f9-42e8-ac78-3e2473c3413d",
   "metadata": {},
   "outputs": [
    {
     "data": {
      "text/plain": [
       "True"
      ]
     },
     "execution_count": 59,
     "metadata": {},
     "output_type": "execute_result"
    }
   ],
   "source": [
    "x != y"
   ]
  },
  {
   "cell_type": "code",
   "execution_count": 60,
   "id": "2d710368-7cdd-43d3-9805-9630f57b6b10",
   "metadata": {},
   "outputs": [
    {
     "data": {
      "text/plain": [
       "False"
      ]
     },
     "execution_count": 60,
     "metadata": {},
     "output_type": "execute_result"
    }
   ],
   "source": [
    "x > y"
   ]
  },
  {
   "cell_type": "code",
   "execution_count": 61,
   "id": "0c66910b-e0e4-4890-b77b-49f574818b95",
   "metadata": {},
   "outputs": [
    {
     "data": {
      "text/plain": [
       "True"
      ]
     },
     "execution_count": 61,
     "metadata": {},
     "output_type": "execute_result"
    }
   ],
   "source": [
    "x < y"
   ]
  },
  {
   "cell_type": "code",
   "execution_count": 62,
   "id": "5096427c-21eb-43b7-bb73-370802b613dc",
   "metadata": {},
   "outputs": [
    {
     "data": {
      "text/plain": [
       "False"
      ]
     },
     "execution_count": 62,
     "metadata": {},
     "output_type": "execute_result"
    }
   ],
   "source": [
    "x >= y"
   ]
  },
  {
   "cell_type": "code",
   "execution_count": 63,
   "id": "0d3b3912-47a0-44e2-a77a-b78b202c020a",
   "metadata": {},
   "outputs": [
    {
     "data": {
      "text/plain": [
       "True"
      ]
     },
     "execution_count": 63,
     "metadata": {},
     "output_type": "execute_result"
    }
   ],
   "source": [
    "x <= y"
   ]
  },
  {
   "cell_type": "markdown",
   "id": "783ae948-1ee4-4172-9cbc-1fb3471f4c15",
   "metadata": {},
   "source": [
    "### Operators_논리 연산자\n",
    "\n",
    "- 논리 연산자는 조건문을 결합하는 데 사용됩니다.\n",
    "\n",
    "<img src=\"https://user-images.githubusercontent.com/46266247/181172968-c7c4d075-dc37-44f4-beeb-0ba07f202036.png\" width=\"60%\">"
   ]
  },
  {
   "cell_type": "code",
   "execution_count": 64,
   "id": "fc9a47d7-2f79-4a40-afb2-e321226564cf",
   "metadata": {},
   "outputs": [
    {
     "name": "stdout",
     "output_type": "stream",
     "text": [
      "True\n"
     ]
    }
   ],
   "source": [
    "x = 5\n",
    "print(x > 3 and x < 10)"
   ]
  },
  {
   "cell_type": "code",
   "execution_count": 65,
   "id": "9269739d-0f3b-41b9-b3a1-1c3e2c135daa",
   "metadata": {},
   "outputs": [
    {
     "name": "stdout",
     "output_type": "stream",
     "text": [
      "True\n"
     ]
    }
   ],
   "source": [
    "x = 5\n",
    "print(x > 3 or x < 4)"
   ]
  },
  {
   "cell_type": "code",
   "execution_count": 66,
   "id": "8f06d4ba-ffeb-4395-8eb4-a05d9c16fc25",
   "metadata": {},
   "outputs": [
    {
     "name": "stdout",
     "output_type": "stream",
     "text": [
      "False\n"
     ]
    }
   ],
   "source": [
    "x = 5\n",
    "print(not(x > 3 and x < 10))"
   ]
  },
  {
   "cell_type": "markdown",
   "id": "9d33f763-893b-498b-ba85-2684f07a90ee",
   "metadata": {},
   "source": [
    "### Operators_Identity Operators\n",
    "\n",
    "- Identity Operators는 객체를 비교하는 데 사용됩니다. 동일한 경우가 아니라 실제로 동일한 객체이고 동일한 메모리 위치를 사용하는 경우입니다.\n",
    "\n",
    "<img src=\"https://user-images.githubusercontent.com/46266247/181174165-2b00eac9-023f-400a-96de-08e291355280.png\" width=\"70%\">"
   ]
  },
  {
   "cell_type": "code",
   "execution_count": 67,
   "id": "69a48689-2256-4d07-abb5-60c1ca52536d",
   "metadata": {},
   "outputs": [],
   "source": [
    "x = [\"apple\", \"banana\"]\n",
    "y = [\"apple\", \"banana\"]\n",
    "z = x"
   ]
  },
  {
   "cell_type": "code",
   "execution_count": 68,
   "id": "0fbd651b-2cbd-45f2-a5eb-4f4d1b63315c",
   "metadata": {},
   "outputs": [
    {
     "name": "stdout",
     "output_type": "stream",
     "text": [
      "True\n"
     ]
    }
   ],
   "source": [
    "print(x is z)"
   ]
  },
  {
   "cell_type": "code",
   "execution_count": 69,
   "id": "42ae20b9-2680-436d-b0da-fc08ab1e4f56",
   "metadata": {},
   "outputs": [
    {
     "name": "stdout",
     "output_type": "stream",
     "text": [
      "False\n"
     ]
    }
   ],
   "source": [
    "print(x is y)"
   ]
  },
  {
   "cell_type": "code",
   "execution_count": 70,
   "id": "0157d746-9081-4f2e-854d-99c9d7ba7367",
   "metadata": {},
   "outputs": [
    {
     "name": "stdout",
     "output_type": "stream",
     "text": [
      "True\n"
     ]
    }
   ],
   "source": [
    "print(x == y)"
   ]
  },
  {
   "cell_type": "markdown",
   "id": "69d00401-f25a-4aaf-b895-8406603f56d2",
   "metadata": {},
   "source": [
    "### Operators_Membership Operators\n",
    "\n",
    "- Membership 연산자는 시퀀스가 개체에 표시되는지 테스트하는 데 사용됩니다.\n",
    "\n",
    "<img src=\"https://user-images.githubusercontent.com/46266247/181174432-1413e08a-07db-4433-9f01-aba499f6542b.png\" width=\"70%\">"
   ]
  },
  {
   "cell_type": "code",
   "execution_count": 71,
   "id": "4a789d15-1b74-484c-9f35-7b128ecbd317",
   "metadata": {},
   "outputs": [
    {
     "name": "stdout",
     "output_type": "stream",
     "text": [
      "True\n"
     ]
    }
   ],
   "source": [
    "x = [\"apple\", \"banana\"]\n",
    "print(\"banana\" in x)"
   ]
  },
  {
   "cell_type": "code",
   "execution_count": 72,
   "id": "76138d55-8944-4457-91ec-8853d2fd9892",
   "metadata": {},
   "outputs": [
    {
     "name": "stdout",
     "output_type": "stream",
     "text": [
      "True\n"
     ]
    }
   ],
   "source": [
    "x = [\"apple\", \"banana\"]\n",
    "print(\"pineapple\" not in x)"
   ]
  },
  {
   "cell_type": "markdown",
   "id": "3ff69d44-7a2e-48e4-be4d-3236ff25bd93",
   "metadata": {},
   "source": [
    "### Operators_Bitwise Operators\n",
    "\n",
    "- 비트 연산자는 (이진) 숫자를 비교하는 데 사용됩니다. 잘 사용되진 않는다.\n",
    "\n",
    "<img src=\"https://user-images.githubusercontent.com/46266247/181174840-ac3f368d-e499-4b02-8725-1f18bc4235f0.png\" width=\"70%\">"
   ]
  },
  {
   "cell_type": "markdown",
   "id": "2cf93f99-e690-4c5c-980d-aaeb2e62f9e9",
   "metadata": {},
   "source": [
    "<p href=\"#If_Else\"></p>  \n",
    "\n",
    "## If Else  \n",
    "\n",
    "[If Else](https://www.w3schools.com/python/python_conditions.asp)"
   ]
  },
  {
   "cell_type": "markdown",
   "id": "83a9f8d2-2a74-402f-af60-9de286fa844b",
   "metadata": {},
   "source": [
    "<p href=\"#While_Loops\"></p>  \n",
    "\n",
    "## While_Loops \n",
    "\n",
    "[While Loops](https://www.w3schools.com/python/python_while_loops.asp)"
   ]
  },
  {
   "cell_type": "markdown",
   "id": "198e4680-c544-4f57-a093-19e4a6caa129",
   "metadata": {},
   "source": [
    "<p href=\"#For_Loops\"></p>  \n",
    "\n",
    "## For_Loops  \n",
    "\n",
    "[For Loops](https://www.w3schools.com/python/python_for_loops.asp)"
   ]
  },
  {
   "cell_type": "markdown",
   "id": "28dec26c-6332-4858-969b-a718cf34d4e7",
   "metadata": {},
   "source": [
    "<p href=\"#Functions\"></p>  \n",
    "\n",
    "## Functions  \n",
    "\n",
    "[Functions](https://www.w3schools.com/python/python_functions.asp)"
   ]
  },
  {
   "cell_type": "markdown",
   "id": "f14e7f59-9917-491f-a5d1-6da5ec404827",
   "metadata": {},
   "source": [
    "<p href=\"#Lambda\"></p>  \n",
    "\n",
    "## Lambda  \n",
    "\n",
    "[Lambda](https://www.w3schools.com/python/python_lambda.asp)"
   ]
  },
  {
   "cell_type": "markdown",
   "id": "3dd7047d-7e00-482a-893d-1fb086ee3e22",
   "metadata": {},
   "source": [
    "<p id=\"check1\"></p>\n",
    "\n",
    "## Booleans  \n",
    "\n",
    "> [Python Booleans](https://www.w3schools.com/python/python_booleans.asp)"
   ]
  }
 ],
 "metadata": {
  "kernelspec": {
   "display_name": "Python 3 (ipykernel)",
   "language": "python",
   "name": "python3"
  },
  "language_info": {
   "codemirror_mode": {
    "name": "ipython",
    "version": 3
   },
   "file_extension": ".py",
   "mimetype": "text/x-python",
   "name": "python",
   "nbconvert_exporter": "python",
   "pygments_lexer": "ipython3",
   "version": "3.7.13"
  }
 },
 "nbformat": 4,
 "nbformat_minor": 5
}
