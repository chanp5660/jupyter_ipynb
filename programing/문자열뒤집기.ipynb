{
 "cells": [
  {
   "cell_type": "markdown",
   "id": "a27e3e9b-5e5a-4af6-b63a-528b1c8f369b",
   "metadata": {},
   "source": [
    "---\n",
    "layout: post  \n",
    "current: post  \n",
    "cover:  assets/built/images/문자열뒤집기.png  \n",
    "navigation: True  \n",
    "title: 문자열뒤집기  \n",
    "date: 2023-02-27 00:00:00 +0900  \n",
    "tags: [programing,python]  \n",
    "class: post-template  \n",
    "subclass: 'post tag-python'  \n",
    "author: chanp5660  \n",
    "---"
   ]
  },
  {
   "cell_type": "markdown",
   "id": "a9f98fdf-02b1-4e7b-9586-27f904eacad8",
   "metadata": {},
   "source": [
    "# 문자열뒤집기\n",
    "\n",
    "> 기본적으로 ChatGPT를 이용하여 틀을 잡고 만든 것"
   ]
  },
  {
   "cell_type": "markdown",
   "id": "c0a99c1a-24c3-404e-a4a2-195b9d68a22b",
   "metadata": {},
   "source": [
    "> 문자열을 뒤집는 문제로, 입력으로 주어진 문자열을 뒤집어 출력해야 합니다. "
   ]
  },
  {
   "cell_type": "markdown",
   "id": "7b6fd0e3-d0c1-42cb-9c6a-68f2b1e3d7b7",
   "metadata": {},
   "source": [
    "---\n",
    "## 문자열 뒤집기 1\n",
    "\n",
    "> 주어진 문자열을 뒤집어 출력하라"
   ]
  },
  {
   "cell_type": "code",
   "execution_count": 2,
   "id": "38507740-1475-457b-8b01-7a2d598875a8",
   "metadata": {},
   "outputs": [
    {
     "name": "stdout",
     "output_type": "stream",
     "text": [
      "olleh\n"
     ]
    }
   ],
   "source": [
    "def reverse_string(s):\n",
    "    return s[::-1]\n",
    "\n",
    "# Example\n",
    "s = \"hello\"\n",
    "print(reverse_string(s))  # Output: \"olleh\""
   ]
  },
  {
   "cell_type": "markdown",
   "id": "aafd01ae-c247-472f-b4a9-d626acc264da",
   "metadata": {},
   "source": [
    "- 위 코드에서 s[::-1]은 문자열 슬라이싱을 이용하여 문자열을 뒤집습니다."
   ]
  },
  {
   "cell_type": "markdown",
   "id": "26f6ff91-a2f9-4e7b-95b6-76e7b0ef2a7a",
   "metadata": {
    "tags": []
   },
   "source": [
    "---\n",
    "## 문자열 뒤집기 2\n",
    ">  주어진 문자열에서 공백을 제거하고, 단어의 순서를 뒤집어 출력하는 함수 reverse_words를 작성하세요.   \n",
    "단, 공백은 하나만 남겨두어야 합니다.  \n",
    "예시: \" hello world \" → \"world hello\""
   ]
  },
  {
   "cell_type": "code",
   "execution_count": 12,
   "id": "5e5bea53-ff58-436c-a914-08259550c34e",
   "metadata": {},
   "outputs": [
    {
     "name": "stdout",
     "output_type": "stream",
     "text": [
      "World Hello\n"
     ]
    }
   ],
   "source": [
    "def reverse_words(s):\n",
    "    # 공백을 기준으로 문자열을 나눈다. (공백 제거)\n",
    "    words = s.split()\n",
    "    \n",
    "    # 단어의 순서를 뒤집는다. \n",
    "    words = words[::-1]\n",
    "    \n",
    "    # 단어사이에 공백을 하나 추가한다.\n",
    "    words = ' '.join(words)\n",
    "    \n",
    "    return words\n",
    "\n",
    "s = \"   Hello   World   \"\n",
    "print(reverse_words(s))"
   ]
  }
 ],
 "metadata": {
  "kernelspec": {
   "display_name": "Python 3 (ipykernel)",
   "language": "python",
   "name": "python3"
  },
  "language_info": {
   "codemirror_mode": {
    "name": "ipython",
    "version": 3
   },
   "file_extension": ".py",
   "mimetype": "text/x-python",
   "name": "python",
   "nbconvert_exporter": "python",
   "pygments_lexer": "ipython3",
   "version": "3.7.13"
  }
 },
 "nbformat": 4,
 "nbformat_minor": 5
}
