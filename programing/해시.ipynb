{
 "cells": [
  {
   "cell_type": "markdown",
   "id": "c7a146ed-f408-4ba7-9229-6bf28c3fee3e",
   "metadata": {},
   "source": [
    "---\n",
    "layout: post  \n",
    "current: post  \n",
    "cover:  assets/built/images/Hash.png  \n",
    "navigation: True  \n",
    "title: Hash  \n",
    "date: 2023-03-01 00:00:00 +0900  \n",
    "tags: [programing,python]  \n",
    "class: post-template  \n",
    "subclass: 'post tag-python'  \n",
    "author: chanp5660  \n",
    "---"
   ]
  },
  {
   "cell_type": "markdown",
   "id": "94a67422-2cc5-442f-9a9b-816e145f7e5d",
   "metadata": {},
   "source": [
    "# 해시 Hash\n",
    "\n",
    "> 기본적으로 ChatGPT를 이용하여 틀을 잡고 만든 것"
   ]
  },
  {
   "cell_type": "markdown",
   "id": "959bb9c2-01c5-42c5-b85e-cab1850394d4",
   "metadata": {},
   "source": [
    "# 해시란\n",
    "\n",
    "- 일반적으로 **빠른 데이터 검색**을 위해 사용되는 **데이터 구조**로 많이 사용\n",
    "- 해시는 **키-값** 쌍으로 데이터를 저장\n",
    "    - **각 키에 대해 고유한 해시 코드를 생성**하여 데이터를 저장하고 검색\n",
    "    - 이를 통해 매우 빠른 검색 시간을 달성\n",
    "- 문자열 검색, 문자열 비교, 중복 항목 찾기 및 빈번한 항목 찾기와 같은 일부 문제에 사용\n",
    "- **해시 테이블**은 배열과 같은 데이터 구조로 구현\n",
    "    - 배열의 인덱스를 계산하기 위해 해시 함수가 사용\n",
    "    - 키를 입력으로 받아 해시 코드를 반환\n",
    "    - 일반적으로 입력 키의 각 문자의 아스키 코드 값을 합산한 후, 배열의 크기로 나눈 나머지 값을 해시 코드로 사용\n",
    "- **해시 충돌**은 서로 다른 두 입력 키에 대해 동일한 해시 코드가 생성되는 경우\n",
    "    - 해결하기 위해 해시 충돌 해결 기법 중 하나는 **해시 버킷(Bucket)** 을 사용\n",
    "    - **해시 버킷**은 각각의 인덱스에 대해 연결 리스트와 같은 구조\n",
    "    - **충돌이 발생한 경우** 같은 버킷에 연결 리스트를 추가하여 다른 입력 키와의 충돌을 방지\n",
    "- **암호학적 해시(cryptographic hash)가 사용**\n",
    "    - **보안** 및 **무결성 검사**를 위해 사용\n",
    "    - 입력 메시지의 고유한 고정 크기 출력 값을 생성\n",
    "    - 이러한 함수는 해시 테이블에서 사용되는 **일반적인 해시 함수와는 다름**"
   ]
  },
  {
   "cell_type": "markdown",
   "id": "5ba9247c-e7e8-48cf-9e65-2b380bd2bd89",
   "metadata": {},
   "source": [
    "# 참조 영상\n",
    "\n",
    "- [해시-해시테이블-해싱 5분만에 이해하기 - Gunny](https://www.youtube.com/watch?v=xls6jEZNA7Y)\n",
    "- 확실히 이미지로 인식하는게 더 좋은 것 같다. 간단하게 다룬 내용으로 개념만 이해하기"
   ]
  },
  {
   "cell_type": "markdown",
   "id": "9ad12b98-7ad7-4566-abc5-9af52bef1c7c",
   "metadata": {},
   "source": [
    "## python 예제\n",
    "\n",
    "- [해시 예제1](https://chanp5660.github.io/해시-예제1)\n",
    "- [해시 예제2](https://chanp5660.github.io/해시-예제2)"
   ]
  }
 ],
 "metadata": {
  "kernelspec": {
   "display_name": "Python 3 (ipykernel)",
   "language": "python",
   "name": "python3"
  },
  "language_info": {
   "codemirror_mode": {
    "name": "ipython",
    "version": 3
   },
   "file_extension": ".py",
   "mimetype": "text/x-python",
   "name": "python",
   "nbconvert_exporter": "python",
   "pygments_lexer": "ipython3",
   "version": "3.7.13"
  }
 },
 "nbformat": 4,
 "nbformat_minor": 5
}
