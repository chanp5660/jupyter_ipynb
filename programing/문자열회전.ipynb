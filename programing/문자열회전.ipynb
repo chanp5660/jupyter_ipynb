{
 "cells": [
  {
   "cell_type": "markdown",
   "id": "a27e3e9b-5e5a-4af6-b63a-528b1c8f369b",
   "metadata": {},
   "source": [
    "---\n",
    "layout: post  \n",
    "current: post  \n",
    "cover:  assets/built/images/문자열회전.png  \n",
    "navigation: True  \n",
    "title: 문자열회전  \n",
    "date: 2023-02-28 00:00:00 +0900  \n",
    "tags: [programing,python]  \n",
    "class: post-template  \n",
    "subclass: 'post tag-python'  \n",
    "author: chanp5660  \n",
    "---"
   ]
  },
  {
   "cell_type": "markdown",
   "id": "a9f98fdf-02b1-4e7b-9586-27f904eacad8",
   "metadata": {},
   "source": [
    "# 문자열회전\n",
    "\n",
    "> 기본적으로 ChatGPT를 이용하여 틀을 잡고 만든 것"
   ]
  },
  {
   "cell_type": "markdown",
   "id": "640d53a8-cd90-4b54-94a7-b85e8b000405",
   "metadata": {},
   "source": [
    "> 두 문자열이 서로 순열인지 확인하는 알고리즘  \n",
    "해석 : 각 문자가 중복 없이 모두 서로에게 존재 하는 것"
   ]
  },
  {
   "cell_type": "code",
   "execution_count": 2,
   "id": "ecc1433d-0981-4d32-8456-15e5dfd30d60",
   "metadata": {},
   "outputs": [],
   "source": [
    "def solution(numer1, denom1, numer2, denom2):\n",
    "    answer = [numer1*denom1+numer2*denom2, denom1*denom2]\n",
    "    \n",
    "    while True:\n",
    "        check = 1 \n",
    "        for i in range(2,min(answer)+1):\n",
    "            if answer[0] % i and answer[1] % i:\n",
    "                answer = [x//i for x in answer]\n",
    "                print(answer)\n",
    "                check = 0\n",
    "                break\n",
    "        if check : break\n",
    "\n",
    "    return answer"
   ]
  },
  {
   "cell_type": "code",
   "execution_count": 3,
   "id": "71fb14f2-bb75-4a99-b31e-eeed30d6e91f",
   "metadata": {},
   "outputs": [
    {
     "data": {
      "text/plain": [
       "[4, 2]"
      ]
     },
     "execution_count": 3,
     "metadata": {},
     "output_type": "execute_result"
    }
   ],
   "source": [
    "solution(1,2,3,4)"
   ]
  },
  {
   "cell_type": "code",
   "execution_count": 4,
   "id": "ba32227b-0bd4-4e21-b01f-4b3ce6b0bc75",
   "metadata": {},
   "outputs": [],
   "source": [
    "[numer1, denom1, numer2, denom2] = [1,2,3,4]"
   ]
  },
  {
   "cell_type": "code",
   "execution_count": 16,
   "id": "1d41cfc0-2e67-4563-928f-37697b4143ae",
   "metadata": {},
   "outputs": [],
   "source": [
    "answer = [numer1*denom1+numer2*denom2, denom1*denom2]"
   ]
  },
  {
   "cell_type": "code",
   "execution_count": 17,
   "id": "bef5ae22-ef9f-44dd-a7cf-f327527bdb57",
   "metadata": {},
   "outputs": [
    {
     "data": {
      "text/plain": [
       "[14, 8]"
      ]
     },
     "execution_count": 17,
     "metadata": {},
     "output_type": "execute_result"
    }
   ],
   "source": [
    "answer"
   ]
  },
  {
   "cell_type": "code",
   "execution_count": 18,
   "id": "6de0961f-7e5e-45d6-84d9-dc0a7138c5db",
   "metadata": {},
   "outputs": [
    {
     "name": "stdout",
     "output_type": "stream",
     "text": [
      "[4, 2] 3\n"
     ]
    }
   ],
   "source": [
    "for i in range(2,min(answer)+1):\n",
    "    if answer[0] % i and answer[1] % i:\n",
    "        answer = [x//i for x in answer]\n",
    "        print(answer,i )\n",
    "        break"
   ]
  },
  {
   "cell_type": "code",
   "execution_count": null,
   "id": "e24777f2-5449-44f8-94c1-62399739ce01",
   "metadata": {},
   "outputs": [],
   "source": []
  }
 ],
 "metadata": {
  "kernelspec": {
   "display_name": "Python 3 (ipykernel)",
   "language": "python",
   "name": "python3"
  },
  "language_info": {
   "codemirror_mode": {
    "name": "ipython",
    "version": 3
   },
   "file_extension": ".py",
   "mimetype": "text/x-python",
   "name": "python",
   "nbconvert_exporter": "python",
   "pygments_lexer": "ipython3",
   "version": "3.7.13"
  }
 },
 "nbformat": 4,
 "nbformat_minor": 5
}
