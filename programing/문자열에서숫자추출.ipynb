{
 "cells": [
  {
   "cell_type": "markdown",
   "id": "a27e3e9b-5e5a-4af6-b63a-528b1c8f369b",
   "metadata": {},
   "source": [
    "---\n",
    "layout: post  \n",
    "current: post  \n",
    "cover:  assets/built/images/문자열에서숫자추출.png  \n",
    "navigation: True  \n",
    "title: 문자열에서 숫자 추출  \n",
    "date: 2023-02-28 00:00:00 +0900  \n",
    "tags: [programing,python]  \n",
    "class: post-template  \n",
    "subclass: 'post tag-python'  \n",
    "author: chanp5660  \n",
    "---"
   ]
  },
  {
   "cell_type": "markdown",
   "id": "a9f98fdf-02b1-4e7b-9586-27f904eacad8",
   "metadata": {},
   "source": [
    "# 문자열에서 숫자 추출\n",
    "\n",
    "> 기본적으로 ChatGPT를 이용하여 틀을 잡고 만든 것"
   ]
  },
  {
   "cell_type": "markdown",
   "id": "e3eb8d3f-043d-49c1-afe9-be87f85ce5b6",
   "metadata": {},
   "source": [
    "> 문자열에서 숫자만 추출하는 문제  \n",
    "문자열에서 숫자만 추출하여 출력"
   ]
  },
  {
   "cell_type": "markdown",
   "id": "916bb72a-9309-42a3-aa70-57d8a1b74134",
   "metadata": {},
   "source": [
    "## 문자열에서 숫자 추출 1\n",
    "\n",
    "> 문자열에서 숫자만 출력하세요. (정규표현식 사용)"
   ]
  },
  {
   "cell_type": "code",
   "execution_count": 3,
   "id": "08feef6f-7dc5-47b0-aa97-6923cec886e0",
   "metadata": {},
   "outputs": [
    {
     "name": "stdout",
     "output_type": "stream",
     "text": [
      "[12, 2222]\n"
     ]
    }
   ],
   "source": [
    "import re\n",
    "\n",
    "def extract_numbers(s):\n",
    "    # 숫자가 하나라도 들어가는 연속된 문자를 찾는다.\n",
    "    numbers = re.findall(\"[0-9]+\",s)\n",
    "    # 각 원소는 문자열로 되어 있어 정수형으로 변환해준다.\n",
    "    return [int(x) for x in numbers]\n",
    "\n",
    "print(extract_numbers(\"12hahahah2222hey\"))"
   ]
  },
  {
   "cell_type": "markdown",
   "id": "f842d482-7746-4b6e-bf43-e128e45a89d2",
   "metadata": {},
   "source": [
    "- 함수\n",
    "    - re 라이브러리의 findall 함수를 사용해서 특정 패턴을 정규표현식으로 찾아 해당 되는 문자들을 리스트로 저장\n",
    "    - 리스트 내 for문을 이용하여 int 형으로 각 문자를 숫자로 변경해준다.\n",
    "- 알고리즘\n",
    "    1. 숫자가 하나라도 들어가는 연속된 문자를 찾는다.\n",
    "    2. 각 원소는 문자열로 되어 있어 정수형으로 변환해준다."
   ]
  },
  {
   "cell_type": "markdown",
   "id": "32a62fc3-fc5a-42a7-8547-148c16760815",
   "metadata": {},
   "source": [
    "- 추가 함수\n",
    "    - isdigit를 사용\n",
    "    ```{python}\n",
    "    if c.isdigit() # 모든 문자가 숫자형인지 확인\n",
    "    ```"
   ]
  }
 ],
 "metadata": {
  "kernelspec": {
   "display_name": "Python 3 (ipykernel)",
   "language": "python",
   "name": "python3"
  },
  "language_info": {
   "codemirror_mode": {
    "name": "ipython",
    "version": 3
   },
   "file_extension": ".py",
   "mimetype": "text/x-python",
   "name": "python",
   "nbconvert_exporter": "python",
   "pygments_lexer": "ipython3",
   "version": "3.7.13"
  }
 },
 "nbformat": 4,
 "nbformat_minor": 5
}
