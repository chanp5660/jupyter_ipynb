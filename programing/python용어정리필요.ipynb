{
 "cells": [
  {
   "cell_type": "markdown",
   "id": "c21f45d9-e693-4767-8903-b4be737b3c49",
   "metadata": {},
   "source": [
    "---\n",
    "layout: post  \n",
    "current: post  \n",
    "cover:  assets/built/images/Python_List.png  \n",
    "navigation: True  \n",
    "title: Python List  \n",
    "date: 2023-02-22 00:00:00 +0900  \n",
    "tags: [programing,python]  \n",
    "class: post-template  \n",
    "subclass: 'post tag-python'  \n",
    "author: chanp5660  \n",
    "---"
   ]
  },
  {
   "cell_type": "markdown",
   "id": "3a44d078-65d8-498b-a042-a2d3048b6b61",
   "metadata": {
    "jp-MarkdownHeadingCollapsed": true,
    "tags": []
   },
   "source": [
    "# Python 용어정리\n",
    "\n",
    "- 필요한 정도까지만 포스팅(시간이 오래걸림)\n",
    "\n",
    "## 포스팅 됨 \n",
    "\n",
    "## 포스팀 안됨\n",
    "\n",
    "> 이동하면서 볼 수 있도록 공부할만한 사이트 링크 걸어둔다.\n",
    "\n",
    "- [LogisticRegression](https://velog.io/@gayeon/데이터-분석-초보자를-위한-Logistic-Regression-with-Scikit-Learn)\n",
    "- [GridSearchCV](https://velog.io/@hyunicecream/GridSearchCV란-어떻게-사용할까)\n",
    "- [SDGClassifier](https://inuplace.tistory.com/516)\n",
    "- [train_test_split](https://wikidocs.net/43332)"
   ]
  }
 ],
 "metadata": {
  "kernelspec": {
   "display_name": "Python 3 (ipykernel)",
   "language": "python",
   "name": "python3"
  },
  "language_info": {
   "codemirror_mode": {
    "name": "ipython",
    "version": 3
   },
   "file_extension": ".py",
   "mimetype": "text/x-python",
   "name": "python",
   "nbconvert_exporter": "python",
   "pygments_lexer": "ipython3",
   "version": "3.7.13"
  }
 },
 "nbformat": 4,
 "nbformat_minor": 5
}
