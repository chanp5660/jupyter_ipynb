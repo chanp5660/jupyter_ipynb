{
 "cells": [
  {
   "cell_type": "markdown",
   "id": "c21f45d9-e693-4767-8903-b4be737b3c49",
   "metadata": {},
   "source": [
    "---\n",
    "layout: post  \n",
    "current: post  \n",
    "cover:  assets/built/images/baekjoon-logo.png  \n",
    "navigation: True  \n",
    "title: 백준-단계별-재귀  \n",
    "date: 2022-08-13 11:27:00 +0900  \n",
    "tags: [programing]  \n",
    "class: post-template  \n",
    "subclass: 'post tag-python'  \n",
    "author: chanp5660  \n",
    "---"
   ]
  },
  {
   "cell_type": "markdown",
   "id": "0e4ae87c-5f81-4a94-8065-e8b4508c779c",
   "metadata": {},
   "source": [
    "# 백준-단계별-재귀  \n",
    "[https://www.acmicpc.net/step/19](https://www.acmicpc.net/step/19)"
   ]
  },
  {
   "cell_type": "markdown",
   "id": "06b7260f-c79e-402a-83c7-1284d2ab7ca3",
   "metadata": {},
   "source": [
    "- 재귀\n",
    "    - <a href=\"#2\">팩토리얼 (1-10872)</a>\n",
    "    - <a href=\"#3\">피보나치 수 5 (2-10870)</a>\n",
    "    - <a href=\"#4\">재귀함수가 뭔가요? (3-17478)</a>\n",
    "    - <a href=\"#5\">별 찍기 - 10 (4-2447)</a>\n",
    "    - <a href=\"#6\">하노이 탑 이동 순서 (5-11729)</a>"
   ]
  },
  {
   "cell_type": "markdown",
   "id": "75ec9016-f0e4-416b-93d8-1612c8360e11",
   "metadata": {},
   "source": [
    "<p id=\"2\"></p>\n",
    "\n",
    "## 팩토리얼 (1-10872)  \n",
    "[https://www.acmicpc.net/problem/10872](https://www.acmicpc.net/problem/10872)"
   ]
  },
  {
   "cell_type": "markdown",
   "id": "e0e39aed-bc91-4026-879b-07f328718c21",
   "metadata": {},
   "source": [
    "- 문제  \n",
    "0보다 크거나 같은 정수 N이 주어진다. 이때, N!을 출력하는 프로그램을 작성하시오.  \n",
    "\n",
    "- 입력  \n",
    "첫째 줄에 정수 N(0 ≤ N ≤ 12)이 주어진다.  \n",
    "\n",
    "- 출력  \n",
    "첫째 줄에 N!을 출력한다.  \n",
    "\n",
    "- 예제 입력 1   \n",
    "10  \n",
    "- 예제 출력 1   \n",
    "3628800  \n",
    "- 예제 입력 2   \n",
    "0  \n",
    "- 예제 출력 2   \n",
    "1  "
   ]
  },
  {
   "cell_type": "code",
   "execution_count": 2,
   "id": "0ff13b21-5d83-434e-a578-90678414db40",
   "metadata": {},
   "outputs": [
    {
     "name": "stdout",
     "output_type": "stream",
     "text": [
      "3628800\n"
     ]
    }
   ],
   "source": [
    "N = 10\n",
    "\n",
    "def factorial(N):\n",
    "    if N <= 1:\n",
    "        return 1\n",
    "    else:\n",
    "        return N*factorial(N-1)\n",
    "\n",
    "print(factorial(N))"
   ]
  },
  {
   "cell_type": "markdown",
   "id": "0addfedc-e18f-4c48-b56e-20c50ea2e691",
   "metadata": {},
   "source": [
    "<p id=\"3\"></p>\n",
    "\n",
    "## 피보나치 수 5 (2-10870)  \n",
    "[https://www.acmicpc.net/problem/10870](https://www.acmicpc.net/problem/10870)"
   ]
  },
  {
   "cell_type": "markdown",
   "id": "548b386c-dbe7-4d11-9d5d-d7bb2f623b8c",
   "metadata": {},
   "source": [
    "- 문제  \n",
    "피보나치 수는 0과 1로 시작한다. 0번째 피보나치 수는 0이고, 1번째 피보나치 수는 1이다. 그 다음 2번째 부터는 바로 앞 두 피보나치 수의 합이 된다.  \n",
    "이를 식으로 써보면 Fn = Fn-1 + Fn-2 (n ≥ 2)가 된다.  \n",
    "n=17일때 까지 피보나치 수를 써보면 다음과 같다.  \n",
    "0, 1, 1, 2, 3, 5, 8, 13, 21, 34, 55, 89, 144, 233, 377, 610, 987, 1597  \n",
    "n이 주어졌을 때, n번째 피보나치 수를 구하는 프로그램을 작성하시오.  \n",
    "\n",
    "- 입력  \n",
    "첫째 줄에 n이 주어진다. n은 20보다 작거나 같은 자연수 또는 0이다.  \n",
    "\n",
    "- 출력  \n",
    "첫째 줄에 n번째 피보나치 수를 출력한다.  \n",
    "\n",
    "- 예제 입력 1   \n",
    "10  \n",
    "- 예제 출력 1   \n",
    "55  "
   ]
  },
  {
   "cell_type": "code",
   "execution_count": 10,
   "id": "b1767558-c33d-48d8-a116-fb10aed67100",
   "metadata": {},
   "outputs": [
    {
     "name": "stdout",
     "output_type": "stream",
     "text": [
      "0\n",
      "1\n",
      "1\n",
      "2\n",
      "3\n",
      "5\n",
      "8\n",
      "13\n",
      "21\n",
      "34\n",
      "55\n",
      "89\n",
      "144\n",
      "233\n",
      "377\n",
      "610\n",
      "987\n",
      "1597\n"
     ]
    }
   ],
   "source": [
    "def fibo(N):\n",
    "    if N == 0:\n",
    "        return 0\n",
    "    elif N == 1:\n",
    "        return 1\n",
    "    \n",
    "    return fibo(N-1) + fibo(N-2)\n",
    "\n",
    "N = 10\n",
    "print(fibo(N))"
   ]
  },
  {
   "cell_type": "markdown",
   "id": "61bd01f7-b8f6-42e3-a5a1-cbdc4b508250",
   "metadata": {},
   "source": [
    "<p id=\"4\"></p>\n",
    "\n",
    "## 재귀함수가 뭔가요? (3-17478)  \n",
    "[https://www.acmicpc.net/problem/17478](https://www.acmicpc.net/problem/17478)"
   ]
  },
  {
   "cell_type": "markdown",
   "id": "49b7e785-9137-42d7-8c5a-003347881e44",
   "metadata": {},
   "source": [
    "- 문제  \n",
    "평소에 질문을 잘 받아주기로 유명한 중앙대학교의 JH 교수님은 학생들로부터 재귀함수가 무엇인지에 대하여 많은 질문을 받아왔다.  \n",
    "매번 질문을 잘 받아주셨던 JH 교수님이지만 그는 중앙대학교가 자신과 맞는가에 대한 고민을 항상 해왔다.  \n",
    "중앙대학교와 자신의 길이 맞지 않다고 생각한 JH 교수님은 결국 중앙대학교를 떠나기로 결정하였다.  \n",
    "떠나기 전까지도 제자들을 생각하셨던 JH 교수님은 재귀함수가 무엇인지 물어보는 학생들을 위한 작은 선물로 자동 응답 챗봇을 준비하기로 했다.  \n",
    "JH 교수님이 만들 챗봇의 응답을 출력하는 프로그램을 만들어보자.  \n",
    "\n",
    "- 입력  \n",
    "교수님이 출력을 원하는 재귀 횟수 N(1 ≤ N ≤ 50)이 주어진다.  \n",
    "\n",
    "- 출력  \n",
    "출력 예시를 보고 재귀 횟수에 따른 챗봇의 응답을 출력한다.  \n",
    "\n",
    "- 예제 입력 1   \n",
    "2  \n",
    "- 예제 출력 1   \n",
    "어느 한 컴퓨터공학과 학생이 유명한 교수님을 찾아가 물었다.  \n",
    "\"재귀함수가 뭔가요?\"  \n",
    "\"잘 들어보게. 옛날옛날 한 산 꼭대기에 이세상 모든 지식을 통달한 선인이 있었어.  \n",
    "마을 사람들은 모두 그 선인에게 수많은 질문을 했고, 모두 지혜롭게 대답해 주었지.  \n",
    "그의 답은 대부분 옳았다고 하네. 그런데 어느 날, 그 선인에게 한 선비가 찾아와서 물었어.\"  \n",
    "____\"재귀함수가 뭔가요?\"  \n",
    "____\"잘 들어보게. 옛날옛날 한 산 꼭대기에 이세상 모든 지식을 통달한 선인이 있었어.  \n",
    "____마을 사람들은 모두 그 선인에게 수많은 질문을 했고, 모두 지혜롭게 대답해 주었지.  \n",
    "____그의 답은 대부분 옳았다고 하네. 그런데 어느 날, 그 선인에게 한 선비가 찾아와서 물었어.\"  \n",
    "________\"재귀함수가 뭔가요?\"  \n",
    "________\"재귀함수는 자기 자신을 호출하는 함수라네\"  \n",
    "________라고 답변하였지.  \n",
    "____라고 답변하였지.  \n",
    "라고 답변하였지.  \n",
    "- 예제 입력 2   \n",
    "4  \n",
    "- 예제 출력 2   \n",
    "어느 한 컴퓨터공학과 학생이 유명한 교수님을 찾아가 물었다.  \n",
    "\"재귀함수가 뭔가요?\"  \n",
    "\"잘 들어보게. 옛날옛날 한 산 꼭대기에 이세상 모든 지식을 통달한 선인이 있었어.  \n",
    "마을 사람들은 모두 그 선인에게 수많은 질문을 했고, 모두 지혜롭게 대답해 주었지.  \n",
    "그의 답은 대부분 옳았다고 하네. 그런데 어느 날, 그 선인에게 한 선비가 찾아와서 물었어.\"  \n",
    "____\"재귀함수가 뭔가요?\"  \n",
    "____\"잘 들어보게. 옛날옛날 한 산 꼭대기에 이세상 모든 지식을 통달한 선인이 있었어.  \n",
    "____마을 사람들은 모두 그 선인에게 수많은 질문을 했고, 모두 지혜롭게 대답해 주었지.  \n",
    "____그의 답은 대부분 옳았다고 하네. 그런데 어느 날, 그 선인에게 한 선비가 찾아와서 물었어.\"  \n",
    "________\"재귀함수가 뭔가요?\"  \n",
    "________\"잘 들어보게. 옛날옛날 한 산 꼭대기에 이세상 모든 지식을 통달한 선인이 있었어.  \n",
    "________마을 사람들은 모두 그 선인에게 수많은 질문을 했고, 모두 지혜롭게 대답해 주었지.  \n",
    "________그의 답은 대부분 옳았다고 하네. 그런데 어느 날, 그 선인에게 한 선비가 찾아와서 물었어.\"  \n",
    "____________\"재귀함수가 뭔가요?\"  \n",
    "____________\"잘 들어보게. 옛날옛날 한 산 꼭대기에 이세상 모든 지식을 통달한 선인이 있었어.  \n",
    "____________마을 사람들은 모두 그 선인에게 수많은 질문을 했고, 모두 지혜롭게 대답해 주었지.  \n",
    "____________그의 답은 대부분 옳았다고 하네. 그런데 어느 날, 그 선인에게 한 선비가 찾아와서 물었어.\"  \n",
    "________________\"재귀함수가 뭔가요?\"  \n",
    "________________\"재귀함수는 자기 자신을 호출하는 함수라네\"  \n",
    "________________라고 답변하였지.  \n",
    "____________라고 답변하였지.  \n",
    "________라고 답변하였지.  \n",
    "____라고 답변하였지.  \n",
    "라고 답변하였지.  "
   ]
  },
  {
   "cell_type": "code",
   "execution_count": 8,
   "id": "92eef623-c029-42b8-aec4-38a098f4de7d",
   "metadata": {},
   "outputs": [
    {
     "name": "stdout",
     "output_type": "stream",
     "text": [
      "어느 한 컴퓨터공학과 학생이 유명한 교수님을 찾아가 물었다.\n",
      "\"재귀함수가 뭔가요?\"\n",
      "\"잘 들어보게. 옛날옛날 한 산 꼭대기에 이세상 모든 지식을 통달한 선인이 있었어.\n",
      "마을 사람들은 모두 그 선인에게 수많은 질문을 했고, 모두 지혜롭게 대답해 주었지.\n",
      "그의 답은 대부분 옳았다고 하네. 그런데 어느 날, 그 선인에게 한 선비가 찾아와서 물었어.\"\n",
      "____\"재귀함수가 뭔가요?\"\n",
      "____\"잘 들어보게. 옛날옛날 한 산 꼭대기에 이세상 모든 지식을 통달한 선인이 있었어.\n",
      "____마을 사람들은 모두 그 선인에게 수많은 질문을 했고, 모두 지혜롭게 대답해 주었지.\n",
      "____그의 답은 대부분 옳았다고 하네. 그런데 어느 날, 그 선인에게 한 선비가 찾아와서 물었어.\"\n",
      "________\"재귀함수가 뭔가요?\"\n",
      "________\"잘 들어보게. 옛날옛날 한 산 꼭대기에 이세상 모든 지식을 통달한 선인이 있었어.\n",
      "________마을 사람들은 모두 그 선인에게 수많은 질문을 했고, 모두 지혜롭게 대답해 주었지.\n",
      "________그의 답은 대부분 옳았다고 하네. 그런데 어느 날, 그 선인에게 한 선비가 찾아와서 물었어.\"\n",
      "____________\"재귀함수가 뭔가요?\"\n",
      "____________\"잘 들어보게. 옛날옛날 한 산 꼭대기에 이세상 모든 지식을 통달한 선인이 있었어.\n",
      "____________마을 사람들은 모두 그 선인에게 수많은 질문을 했고, 모두 지혜롭게 대답해 주었지.\n",
      "____________그의 답은 대부분 옳았다고 하네. 그런데 어느 날, 그 선인에게 한 선비가 찾아와서 물었어.\"\n",
      "________________\"재귀함수가 뭔가요?\"\n",
      "________________\"재귀함수는 자기 자신을 호출하는 함수라네\"\n",
      "________________라고 답변하였지.\n",
      "____________라고 답변하였지.\n",
      "________라고 답변하였지.\n",
      "____라고 답변하였지.\n",
      "라고 답변하였지.\n"
     ]
    }
   ],
   "source": [
    "def REPEAT(repeat):\n",
    "    result = \"\"\n",
    "    for i in range(repeat):\n",
    "        result+= \"____\"\n",
    "    return result\n",
    "\n",
    "def Auto_Answer(N,repeat=0):\n",
    "    result = REPEAT(repeat)\n",
    "    if N == 0 :\n",
    "        print(f'{result}\"재귀함수가 뭔가요?\"')\n",
    "        print(f'{result}\"재귀함수는 자기 자신을 호출하는 함수라네\"')\n",
    "        \n",
    "    elif N >= 1 :\n",
    "        print(f'{result}\"재귀함수가 뭔가요?\"')\n",
    "        print(f'{result}\"잘 들어보게. 옛날옛날 한 산 꼭대기에 이세상 모든 지식을 통달한 선인이 있었어.')\n",
    "        print(f'{result}마을 사람들은 모두 그 선인에게 수많은 질문을 했고, 모두 지혜롭게 대답해 주었지.')\n",
    "        print(f'{result}그의 답은 대부분 옳았다고 하네. 그런데 어느 날, 그 선인에게 한 선비가 찾아와서 물었어.\"')\n",
    "        Auto_Answer(N-1,repeat+1)\n",
    "    \n",
    "    print(f'{result}라고 답변하였지.')\n",
    "    \n",
    "print(\"어느 한 컴퓨터공학과 학생이 유명한 교수님을 찾아가 물었다.\")\n",
    "N = 4\n",
    "Auto_Answer(N)"
   ]
  },
  {
   "cell_type": "markdown",
   "id": "ea9172a7-7f25-4582-900a-3b39fde61adf",
   "metadata": {},
   "source": [
    "<p id=\"5\"></p>\n",
    "\n",
    "## 별 찍기 - 10 (4-2447)  \n",
    "[https://www.acmicpc.net/problem/2447](https://www.acmicpc.net/problem/2447)"
   ]
  },
  {
   "cell_type": "markdown",
   "id": "5d81f4f4-d1d2-45f4-8596-2f81ee1ce583",
   "metadata": {},
   "source": [
    "- 문제  \n",
    "재귀적인 패턴으로 별을 찍어 보자. N이 3의 거듭제곱(3, 9, 27, ...)이라고 할 때, 크기 N의 패턴은 N×N 정사각형 모양이다.  \n",
    "크기 3의 패턴은 가운데에 공백이 있고, 가운데를 제외한 모든 칸에 별이 하나씩 있는 패턴이다.  \n",
    "***  \n",
    "* *  \n",
    "***  \n",
    "N이 3보다 클 경우, 크기 N의 패턴은 공백으로 채워진 가운데의 (N/3)×(N/3) 정사각형을 크기 N/3의 패턴으로 둘러싼 형태이다. 예를 들어 크기 27의 패턴은 예제 출력 1과 같다.  \n",
    "  \n",
    "- 입력  \n",
    "첫째 줄에 N이 주어진다. N은 3의 거듭제곱이다. 즉 어떤 정수 k에 대해 N=3k이며, 이때 1 ≤ k < 8이다.  \n",
    "\n",
    "- 출력  \n",
    "첫째 줄부터 N번째 줄까지 별을 출력한다.  \n",
    "\n",
    "- 예제 입력 1   \n",
    "27  \n",
    "- 예제 출력 1   "
   ]
  },
  {
   "cell_type": "markdown",
   "id": "c7608a56-1787-4eba-ac43-1799ce7c313a",
   "metadata": {},
   "source": [
    "<img src=\"https://user-images.githubusercontent.com/46266247/184469830-65a44a68-9f6b-4d9b-9d70-149171cecc0c.png\" width=\"20%\">"
   ]
  },
  {
   "cell_type": "code",
   "execution_count": null,
   "id": "26ae4710-1582-40fb-a0ed-0da84c14cabf",
   "metadata": {},
   "outputs": [],
   "source": [
    "# 하나의 셋트\n",
    "def pattern_star(N_LIST,N):\n",
    "    "
   ]
  },
  {
   "cell_type": "code",
   "execution_count": 23,
   "id": "4cc1c6fc-3517-4136-af4f-6d4edd1666f2",
   "metadata": {},
   "outputs": [
    {
     "name": "stdout",
     "output_type": "stream",
     "text": [
      "***\n",
      "* *\n",
      "***\n"
     ]
    }
   ],
   "source": [
    "N = 3\n",
    "N_LIST = []\n",
    "    \n",
    "N_LIST.append(\"*\"*3)\n",
    "N_LIST.append(\"*\"*1+\" \"*1+\"*\"*1)\n",
    "N_LIST.append(\"*\"*3)\n",
    "for i in N_LIST:\n",
    "    print(i)"
   ]
  },
  {
   "cell_type": "code",
   "execution_count": 27,
   "id": "0fc8ead5-515e-423a-b172-b010308800d5",
   "metadata": {},
   "outputs": [
    {
     "name": "stdout",
     "output_type": "stream",
     "text": [
      "*********\n",
      "* ** ** *\n",
      "*********\n"
     ]
    }
   ],
   "source": [
    "N = 3\n",
    "N_LIST = []\n",
    "    \n",
    "for i in range(N):\n",
    "    N_LIST.append(\"\")\n",
    "    \n",
    "for i in range(N):\n",
    "    N_LIST[0] += \"*\"*3\n",
    "    N_LIST[1] += \"*\"*1+\" \"*1+\"*\"*1\n",
    "    N_LIST[2] += \"*\"*3\n",
    "    \n",
    "for i in N_LIST:\n",
    "    print(i)"
   ]
  },
  {
   "cell_type": "code",
   "execution_count": 34,
   "id": "443a7d55-9904-429e-a05b-79f94578447c",
   "metadata": {},
   "outputs": [],
   "source": [
    "def Make_map(N):\n",
    "    N_LIST = []\n",
    "    for i in range(N):\n",
    "        N_LIST.append(\"\")\n",
    "    return N_LIST"
   ]
  },
  {
   "cell_type": "code",
   "execution_count": 37,
   "id": "47b51790-6c46-4adb-b8bf-9deee905a0fc",
   "metadata": {},
   "outputs": [],
   "source": [
    "def Repeat_1(N,start_n,N_LIST):\n",
    "    for i in range(N//3):\n",
    "        N_LIST[start_n] += \"*\"*3\n",
    "        N_LIST[start_n+1] += \"*\"*1+\" \"*1+\"*\"*1\n",
    "        N_LIST[start_n+2] += \"*\"*3\n",
    "    return N_LIST"
   ]
  },
  {
   "cell_type": "code",
   "execution_count": 39,
   "id": "2939428b-9b57-4dc2-9059-50e5715a5d02",
   "metadata": {},
   "outputs": [
    {
     "name": "stdout",
     "output_type": "stream",
     "text": [
      "*********\n",
      "* ** ** *\n",
      "*********\n",
      "\n",
      "\n",
      "\n",
      "*********\n",
      "* ** ** *\n",
      "*********\n"
     ]
    }
   ],
   "source": [
    "N = 9\n",
    "\n",
    "N_LIST = Make_map(N)\n",
    "    \n",
    "start_n = 0\n",
    "N_LIST = Repeat_1(N,start_n,N_LIST)\n",
    "\n",
    "start_n = 6\n",
    "N_LIST = Repeat_1(N,start_n,N_LIST)\n",
    "    \n",
    "\n",
    "for i in N_LIST:\n",
    "    print(i)\n",
    "    "
   ]
  },
  {
   "cell_type": "code",
   "execution_count": 10,
   "id": "e0b3bbd0-0aa6-458d-8f7d-c21de37c480f",
   "metadata": {},
   "outputs": [
    {
     "name": "stdout",
     "output_type": "stream",
     "text": [
      "[[], [], [], [], [], [], [], [], []]\n"
     ]
    }
   ],
   "source": [
    "N = 9\n",
    "N_LIST = []\n",
    "for i in range(N):\n",
    "    N_LIST.append([])\n"
   ]
  },
  {
   "cell_type": "markdown",
   "id": "f3ecae02-4085-4556-bb5e-7a8038e599c0",
   "metadata": {},
   "source": [
    "<p id=\"6\"></p>\n",
    "\n",
    "## 하노이 탑 이동 순서 (5-11729)  \n",
    "[https://www.acmicpc.net/problem/11729](https://www.acmicpc.net/problem/11729)"
   ]
  }
 ],
 "metadata": {
  "kernelspec": {
   "display_name": "Python 3 (ipykernel)",
   "language": "python",
   "name": "python3"
  },
  "language_info": {
   "codemirror_mode": {
    "name": "ipython",
    "version": 3
   },
   "file_extension": ".py",
   "mimetype": "text/x-python",
   "name": "python",
   "nbconvert_exporter": "python",
   "pygments_lexer": "ipython3",
   "version": "3.7.13"
  }
 },
 "nbformat": 4,
 "nbformat_minor": 5
}
