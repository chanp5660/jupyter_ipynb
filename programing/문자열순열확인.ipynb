{
 "cells": [
  {
   "cell_type": "markdown",
   "id": "a27e3e9b-5e5a-4af6-b63a-528b1c8f369b",
   "metadata": {},
   "source": [
    "---\n",
    "layout: post  \n",
    "current: post  \n",
    "cover:  assets/built/images/문자열순열확인.png  \n",
    "navigation: True  \n",
    "title: 문자열순열확인  \n",
    "date: 2023-02-27 00:00:00 +0900  \n",
    "tags: [programing,python]  \n",
    "class: post-template  \n",
    "subclass: 'post tag-python'  \n",
    "author: chanp5660  \n",
    "---"
   ]
  },
  {
   "cell_type": "markdown",
   "id": "a9f98fdf-02b1-4e7b-9586-27f904eacad8",
   "metadata": {},
   "source": [
    "# 문자열순열확인\n",
    "\n",
    "> 기본적으로 ChatGPT를 이용하여 틀을 잡고 만든 것"
   ]
  },
  {
   "cell_type": "markdown",
   "id": "640d53a8-cd90-4b54-94a7-b85e8b000405",
   "metadata": {},
   "source": [
    "> 두 문자열이 서로 순열인지 확인하는 알고리즘  \n",
    "해석 : 각 문자가 중복 없이 모두 서로에게 존재 하는 것"
   ]
  },
  {
   "cell_type": "code",
   "execution_count": 12,
   "id": "826c5725-4d90-418a-8696-cb19969fbe1d",
   "metadata": {},
   "outputs": [
    {
     "name": "stdout",
     "output_type": "stream",
     "text": [
      "True\n",
      "True\n",
      "False\n",
      "False\n"
     ]
    }
   ],
   "source": [
    "def is_premutation(str1, str2):\n",
    "    # 두 문자열의 길이가 같지 않으면 순열이 아니다.\n",
    "    if len(str1) != len(str2):\n",
    "        return False\n",
    "    \n",
    "    # 각 문자열에서 문자의 개수를 셀 수 있도록 딕셔너리를 생성해준다.\n",
    "    freq1 = {}\n",
    "    freq2 = {}\n",
    "    \n",
    "    # 각 문자에 대한 빈도를 세어준다.\n",
    "    for i in range(len(str1)):\n",
    "        # str1에 대한 빈도 추가\n",
    "        freq1[str1[i]] = freq1.get(str1[i],0) + 1\n",
    "        # str2에 대한 빈도 추가\n",
    "        freq2[str2[i]] = freq2.get(str2[i],0) + 1\n",
    "        \n",
    "    # 두 딕셔너리가 같은지 확인\n",
    "    return freq1 == freq2\n",
    "\n",
    "print(is_permutation(\"abc\", \"cba\"))\n",
    "print(is_permutation(\"abcd\", \"abdc\"))\n",
    "print(is_permutation(\"aaa\", \"aab\"))\n",
    "print(is_permutation(\"hello\", \"world\"))"
   ]
  },
  {
   "cell_type": "markdown",
   "id": "a1eadce9-16a5-44c6-a7c3-95c7a97548bc",
   "metadata": {},
   "source": [
    "- 함수\n",
    "    1. is_permutation 함수는 str1 및 str2의 두 문자열을 사용합니다. \n",
    "    2. 입력으로 str1이 str2의 순열이면 True를 반환하고 그렇지 않으면 False를 반환합니다.\n",
    "- 알고리즘\n",
    "    1. 두 문자열이 동일한지 확인합니다.   \n",
    "    길이가 같지 않으면 서로 순열이 될 수 없으므로 함수는 False를 반환합니다.\n",
    "    2. freq1 및 < code>freq2, 두 문자열에 각 문자의 빈도를 저장합니다.   \n",
    "    사전의 get 메서드는 주어진 키에 대한 값을 가져오는 데 사용되며 키가 존재하지 않으면 기본값(이 경우 0)을 반환합니다.\n",
    "    3. 문자열의 각 문자를 반복하여 두 문자열의 각 문자에 대한 빈도를 업데이트합니다.  \n",
    "    str1의 각 문자에 대한 빈도 수는 사전 freq1에 저장되고 str2의 각 문자에 대한 빈도 수는 사전에 저장됩니다. freq2.\n",
    "    4. == 연산자를 사용하여 두 사전이 동일한지 확인합니다.   \n",
    "    두 사전의 키와 값이 같으면 두 문자열이 서로 순열이므로 함수는 True를 반환합니다.   \n",
    "    두 사전이 같지 않으면 두 문자열이 서로 순열이 아니므로 함수는 False를 반환합니다."
   ]
  }
 ],
 "metadata": {
  "kernelspec": {
   "display_name": "Python 3 (ipykernel)",
   "language": "python",
   "name": "python3"
  },
  "language_info": {
   "codemirror_mode": {
    "name": "ipython",
    "version": 3
   },
   "file_extension": ".py",
   "mimetype": "text/x-python",
   "name": "python",
   "nbconvert_exporter": "python",
   "pygments_lexer": "ipython3",
   "version": "3.7.13"
  }
 },
 "nbformat": 4,
 "nbformat_minor": 5
}
