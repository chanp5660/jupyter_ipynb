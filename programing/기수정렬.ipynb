{
 "cells": [
  {
   "cell_type": "markdown",
   "id": "742cd07b-9b02-4029-b5cd-aee66f5e235c",
   "metadata": {},
   "source": [
    "---\n",
    "layout: post  \n",
    "current: post  \n",
    "cover:  assets/built/images/기수정렬.png  \n",
    "navigation: True  \n",
    "title: 기수정렬  \n",
    "date: 2023-04-15 00:00:00 +0900  \n",
    "tags: [programing,python]  \n",
    "class: post-template  \n",
    "subclass: 'post tag-python'  \n",
    "author: chanp5660  \n",
    "---"
   ]
  },
  {
   "cell_type": "markdown",
   "id": "d5e9867d-9e6d-4e62-899c-2ee0c364379e",
   "metadata": {},
   "source": [
    "# 기수정렬(Radix Sort)"
   ]
  },
  {
   "cell_type": "markdown",
   "id": "653972b6-78c7-4b27-924e-719e23f06e3e",
   "metadata": {},
   "source": [
    "기수정렬은 정렬 알고리즘의 하나로, 비교 기반 정렬 알고리즘과 달리 **자리값**을 기준으로 정렬하는 방식입니다.\n",
    "\n",
    "주로 정수, 문자열을 정렬하는데 사용됩니다.\n",
    "\n",
    "일반적으로 LSD(Least Significant Digit)와 MSD(Most Significant Digit)로 분류됩니다.  \n",
    "LSD 기수정렬은 가장 낮은 자리수부터 시작하여 정렬하는 것입니다.  \n",
    "MSD 기수정렬은 가장 높은 자리수부터 시작하여 정렬하는 것입니다.\n",
    "\n",
    "안정 정렬(Stable Sort)이기 때문에 같은 값이 있을 경우에도 원래의 상대적인 위치가 유지됩니다.  \n",
    "또한, 시간 복잡도는 O(d * (n + k))입니다.  \n",
    "여기서 d는 정렬할 자리수, n은 정렬할 숫자의 개수, k는 사용하는 기수(진법)의 크기를 나타냅니다.\n",
    "\n",
    "데이터의 자리수를 기준으로 비교하고 정렬하기 때문에 데이터의 길이가 짧을수록 정렬의 시간이 짧아집니다.  \n",
    "비교 데이터의 자리수가 모두 동일해야합니다.\n",
    "\n",
    "예를 들어, 정수형 데이터를 LSD 기수정렬 해보겠습니다.  \n",
    "10, 21, 33, 45, 51, 62, 78, 83, 92 를 기수정렬로 정렬해보겠습니다.\n",
    "\n",
    "일의 자리부터 비교하여 정렬합니다.\n",
    "10, 21, 51, 62, 92, 33, 83, 45, 78\n",
    "\n",
    "십의 자리를 비교하여 정렬합니다.\n",
    "10, 21, 33, 45, 51, 62, 78, 83, 92\n",
    "\n",
    "\n",
    "\n",
    "추천 사이트\n",
    "[위키독스 기수정렬](https://ko.wikipedia.org/wiki/%EA%B8%B0%EC%88%98_%EC%A0%95%EB%A0%AC)\n",
    "[네이버 블로그 - 자료구조 기수정렬](https://blog.naver.com/PostView.nhn?blogId=isaac7263&logNo=221568908590)"
   ]
  },
  {
   "cell_type": "markdown",
   "id": "976c15db-0a28-431f-bd16-3a1db2491cfd",
   "metadata": {},
   "source": [
    "## LSD 예시1 \n",
    "\n",
    "장점 : 코드를 보고 이해하기 쉽습니다.  \n",
    "단점 : 메모리 효율이 좋지 않습니다."
   ]
  },
  {
   "cell_type": "code",
   "execution_count": 10,
   "id": "73a85f26-b930-4ca6-abd2-f82032bc76c0",
   "metadata": {},
   "outputs": [],
   "source": [
    "def radix_sort_lsd(arr):\n",
    "    # 입력된 리스트에서 최대값을 찾습니다.\n",
    "    max_val = max(arr)\n",
    "    \n",
    "    # 각 자리수를 기준으로 정렬합니다.\n",
    "    digit = 1\n",
    "    while max_val // digit > 0:\n",
    "        arr = radix_sort_lsd_helper(arr, digit)\n",
    "        digit *= 10 # digit의 자리수를 늘려가며 비교합니다.\n",
    "        \n",
    "    return arr\n",
    "\n",
    "# 주어진 배열의 특정 자리수의 정렬을 합니다.\n",
    "def radix_sort_lsd_helper(arr, digit):\n",
    "    # 배열을 담을 수 있는 배열을 생성합니다.\n",
    "    bucket_list = [[] for _ in range(10)] # 0~9, 10개만 가능합니다.\n",
    "    \n",
    "    for i in arr:\n",
    "        Index_arr = i // digit\n",
    "        Index_arr = Index_arr % 10\n",
    "        bucket_list[Index_arr].append(i)\n",
    "        \n",
    "    arr = []\n",
    "    for bucket in bucket_list:\n",
    "        arr += bucket\n",
    "        \n",
    "    return arr\n"
   ]
  },
  {
   "cell_type": "code",
   "execution_count": 11,
   "id": "fc7edf69-6485-42c3-891b-0e53c73aa0f8",
   "metadata": {},
   "outputs": [
    {
     "name": "stdout",
     "output_type": "stream",
     "text": [
      "[2, 24, 45, 66, 75, 90, 170, 802]\n"
     ]
    }
   ],
   "source": [
    "arr = [170, 45, 75, 90, 802, 24, 2, 66]\n",
    "sorted_arr = radix_sort_lsd(arr)\n",
    "print(sorted_arr)"
   ]
  },
  {
   "cell_type": "markdown",
   "id": "7d4aa9d4-0f88-4a7f-833f-6320c7b802e8",
   "metadata": {},
   "source": [
    "## LSD 예시2\n",
    "\n",
    "장점 : 메모리 효율이 좋습니다.  \n",
    "단점 : 코드를 이해하기 어렵습니다.\n",
    "\n",
    "누적합을 이용해서 인덱스 위치를 찾아 정렬해줍니다."
   ]
  },
  {
   "cell_type": "code",
   "execution_count": 33,
   "id": "18fe018b-a948-4087-ac21-5eaa86af4dcb",
   "metadata": {},
   "outputs": [],
   "source": [
    "def radix_sort_lsd(arr):\n",
    "    # 입력된 리스트에서 최대값을 찾습니다.\n",
    "    max_val = max(arr)\n",
    "\n",
    "    # 각 자리수를 기준으로 정렬합니다.\n",
    "    digit = 1\n",
    "    while max_val // digit > 0:\n",
    "        arr = radix_sort_lsd_helper(arr, digit)\n",
    "        digit *= 10\n",
    "\n",
    "    return arr\n",
    "\n",
    "def radix_sort_lsd_helper(arr, digit):\n",
    "    # 각 자리수를 기준으로 숫자를 세어 정렬합니다.\n",
    "    count_list = [0] * 10\n",
    "    for val in arr:\n",
    "        idx = (val // digit) % 10\n",
    "        count_list[idx] += 1\n",
    "        \n",
    "    # 누적합 리스트를 구합니다.\n",
    "    for i in range(1, len(count_list)):\n",
    "        count_list[i] += count_list[i-1]\n",
    "\n",
    "    # 버킷 리스트를 구합니다.\n",
    "    bucket_list = [0] * len(arr)\n",
    "    for val in reversed(arr):\n",
    "        idx = (val // digit) % 10\n",
    "        count_list[idx] -= 1\n",
    "        bucket_list[count_list[idx]] = val\n",
    "\n",
    "    return bucket_list"
   ]
  },
  {
   "cell_type": "code",
   "execution_count": 34,
   "id": "52e62c3b-f575-4af4-83fc-a15e716801cb",
   "metadata": {},
   "outputs": [
    {
     "name": "stdout",
     "output_type": "stream",
     "text": [
      "[2, 24, 45, 66, 75, 90, 170, 802]\n"
     ]
    }
   ],
   "source": [
    "arr = [170, 45, 75, 90, 802, 24, 2, 66]\n",
    "sorted_arr = radix_sort_lsd(arr)\n",
    "print(sorted_arr)"
   ]
  }
 ],
 "metadata": {
  "kernelspec": {
   "display_name": "Python 3 (ipykernel)",
   "language": "python",
   "name": "python3"
  },
  "language_info": {
   "codemirror_mode": {
    "name": "ipython",
    "version": 3
   },
   "file_extension": ".py",
   "mimetype": "text/x-python",
   "name": "python",
   "nbconvert_exporter": "python",
   "pygments_lexer": "ipython3",
   "version": "3.7.13"
  }
 },
 "nbformat": 4,
 "nbformat_minor": 5
}
