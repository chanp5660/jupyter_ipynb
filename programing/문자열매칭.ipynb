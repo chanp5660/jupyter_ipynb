{
 "cells": [
  {
   "cell_type": "markdown",
   "id": "a27e3e9b-5e5a-4af6-b63a-528b1c8f369b",
   "metadata": {},
   "source": [
    "---\n",
    "layout: post  \n",
    "current: post  \n",
    "cover:  assets/built/images/문자열매칭.png  \n",
    "navigation: True  \n",
    "title: 문자열매칭  \n",
    "date: 2023-02-28 00:00:00 +0900  \n",
    "tags: [programing,python]  \n",
    "class: post-template  \n",
    "subclass: 'post tag-python'  \n",
    "author: chanp5660  \n",
    "---"
   ]
  },
  {
   "cell_type": "markdown",
   "id": "a9f98fdf-02b1-4e7b-9586-27f904eacad8",
   "metadata": {},
   "source": [
    "# 문자열매칭\n",
    "\n",
    "> 기본적으로 ChatGPT를 이용하여 틀을 잡고 만든 것"
   ]
  },
  {
   "cell_type": "markdown",
   "id": "9078cdc9-f813-48bb-b30e-88a98fde86c2",
   "metadata": {},
   "source": [
    "## 문자열매칭 1 (KMP 알고리즘; Knuth-Morris-Pratt)\n",
    "\n",
    "> 문자열에 다른 문자열이 어디에 있는지 인덱스를 출력한다."
   ]
  },
  {
   "cell_type": "code",
   "execution_count": 7,
   "id": "f62969ca-2b96-4a9d-ac51-43cd5943df5d",
   "metadata": {},
   "outputs": [],
   "source": [
    "def kmp(text, pattern):\n",
    "    n, m = len(text), len(pattern)\n",
    "    # 접두사와 접미사가 일치하는 위치를 계산합니다\n",
    "    lps = compute_lps(pattern)\n",
    "    # 패턴 문자열과 텍스트 문자열을 비교합니다\n",
    "    i, j = 0, 0\n",
    "    while i < n:\n",
    "        # 겹치면 둘다 진행\n",
    "        if pattern[j] == text[i]:\n",
    "            i += 1\n",
    "            j += 1\n",
    "        # 겹치는 부분이 패턴의 길이와 같다면 해당 인덱스를 출력한다.\n",
    "        if j == m:\n",
    "            return i - j\n",
    "        # 겹치는 부분이 끝났을 때 lps에 계산된 정도만 이동한다.\n",
    "        elif i < n and pattern[j] != text[i]:\n",
    "            if j != 0:\n",
    "                j = lps[j-1]\n",
    "            else:\n",
    "                i += 1\n",
    "    return -1\n",
    "\n",
    "def compute_lps(pattern):\n",
    "    m = len(pattern)\n",
    "    # 접두사와 접미사가 일치하는 위치를 저장할 리스트를 초기화합니다\n",
    "    lps = [0] * m\n",
    "    len_lps = 0\n",
    "    i = 1\n",
    "    while i < m:\n",
    "        # 겹치면 다음 문자도 같이 확인\n",
    "        if pattern[i] == pattern[len_lps]:\n",
    "            len_lps += 1\n",
    "            lps[i] = len_lps\n",
    "            i += 1\n",
    "        # 겹치는게 끝나면 겹치기 시작했던 바로 그 전값으로 시작 001123에서 끝났으면 123 전의 1에서 시작\n",
    "        # 이때, i는 변하지 않고 \n",
    "        elif len_lps != 0:\n",
    "            len_lps = lps[len_lps-1]\n",
    "        else:\n",
    "        # 겹치지 않고 len_lps도 0이라면 처음부터 일치하는 문자열을 또 찾아야한다.\n",
    "            lps[i] = 0\n",
    "            i += 1\n",
    "    return lps"
   ]
  },
  {
   "cell_type": "markdown",
   "id": "370692fe-e318-44fd-8c3a-6b26eb868a49",
   "metadata": {},
   "source": [
    "- 알고리즘\n",
    "    1. 접미사와 접두사가 일치하는 위치를 계산한다. ( compute_lps )\n",
    "        - 접두사와 접미사가 일치하는 위치를 저장할 리스트를 초기화합니다.\n",
    "        - 겹치면 다음 문자도 같이 확인합니다.\n",
    "        - 겹치는게 끝나면 겹치기 시작했던 바로 그 전 값으로 시작, 001123에서 끝났으면 123 전의 1에서 시작\n",
    "        - 이때, i는 변하지 않는다. (기존 문자열을 가리키는 값)\n",
    "        - 겹치지 않고 len_lps도 0이라면 처음부터 일치하는 문자열을 또 찾아야한다.\n",
    "    2. 패턴 텍스트 문자열을 비교한다.\n",
    "        - 겹치는 부분이 패턴의 길이와 같다면 해당 인덱스를 출력한다.\n",
    "        - 겹치는 부분이 끝났을 때 lps에 계산된 정도만 이동한다."
   ]
  }
 ],
 "metadata": {
  "kernelspec": {
   "display_name": "Python 3 (ipykernel)",
   "language": "python",
   "name": "python3"
  },
  "language_info": {
   "codemirror_mode": {
    "name": "ipython",
    "version": 3
   },
   "file_extension": ".py",
   "mimetype": "text/x-python",
   "name": "python",
   "nbconvert_exporter": "python",
   "pygments_lexer": "ipython3",
   "version": "3.7.13"
  }
 },
 "nbformat": 4,
 "nbformat_minor": 5
}
