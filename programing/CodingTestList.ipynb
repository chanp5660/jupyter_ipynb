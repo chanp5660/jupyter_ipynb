{
 "cells": [
  {
   "cell_type": "markdown",
   "id": "fd0aa1c8-b410-41ac-8d5d-e121b59038ba",
   "metadata": {},
   "source": [
    "---\n",
    "layout: post  \n",
    "current: post  \n",
    "cover:  assets/built/images/CodingTestList.png  \n",
    "navigation: True  \n",
    "title: Coding Test List  \n",
    "date: 2023-02-27 00:00:00 +0900  \n",
    "tags: [programing,python]  \n",
    "class: post-template  \n",
    "subclass: 'post tag-python'  \n",
    "author: chanp5660  \n",
    "---"
   ]
  },
  {
   "cell_type": "markdown",
   "id": "53f19024-7a87-43f2-b752-1068d47d3a79",
   "metadata": {},
   "source": [
    "# 코딩 테스트\n",
    "\n",
    "> 기본적으로 ChatGPT를 이용하여 틀을 잡고 만든 것"
   ]
  },
  {
   "cell_type": "markdown",
   "id": "fbcbf0fe-64f8-4dc8-8996-66940b5dd43f",
   "metadata": {},
   "source": [
    "## 기업에 자주 나오는 python 알고리즘 코딩 테스트\n",
    "\n",
    "- [문자열 처리](https://chanp5660.github.io/문자열처리)\n",
    "- 배열/리스트 처리\n",
    "- 그래프 이론\n",
    "- 동적 계획법\n",
    "- 브루트 포스/완전 탐색\n",
    "- 트리 구조\n",
    "\n",
    "\n",
    "## 프로그래머스 코딩테스트 입문\n",
    "- [분수의덧셈]()\n"
   ]
  }
 ],
 "metadata": {
  "kernelspec": {
   "display_name": "Python 3 (ipykernel)",
   "language": "python",
   "name": "python3"
  },
  "language_info": {
   "codemirror_mode": {
    "name": "ipython",
    "version": 3
   },
   "file_extension": ".py",
   "mimetype": "text/x-python",
   "name": "python",
   "nbconvert_exporter": "python",
   "pygments_lexer": "ipython3",
   "version": "3.7.13"
  }
 },
 "nbformat": 4,
 "nbformat_minor": 5
}
