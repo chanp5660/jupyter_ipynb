{
 "cells": [
  {
   "cell_type": "markdown",
   "id": "1dac9b17-de8b-4f1a-a393-c126ce684f5c",
   "metadata": {
    "tags": []
   },
   "source": [
    "---\n",
    "layout: post  \n",
    "current: post  \n",
    "cover:  assets/built/images/문자열처리.png  \n",
    "navigation: True  \n",
    "title: 문자열처리  \n",
    "date: 2023-02-27 00:00:00 +0900  \n",
    "tags: [programing,python]  \n",
    "class: post-template  \n",
    "subclass: 'post tag-python'  \n",
    "author: chanp5660  \n",
    "---"
   ]
  },
  {
   "cell_type": "markdown",
   "id": "769f954d-46c9-41f7-afcf-9ebcc978af3a",
   "metadata": {},
   "source": [
    "# 문자열처리\n",
    "\n",
    "> 기본적으로 ChatGPT를 이용하여 틀을 잡고 만든 것"
   ]
  },
  {
   "cell_type": "markdown",
   "id": "5c961d2d-c977-4232-aba1-a2be26407e2f",
   "metadata": {},
   "source": [
    "> 문자열 처리 문제는 문자열을 다루는 방법에 대한 이해가 필요합니다.   \n",
    "대부분 **문자열의 길이**와 **문자열에서 찾을 문자열의 길이** 등에 따라   \n",
    "**시간 복잡도**가 크게 차이나기 때문에, 문자열 처리 알고리즘에 대한   \n",
    "이해와 효율적인 알고리즘을 개발할 수 있는 능력이 필요합니다."
   ]
  },
  {
   "cell_type": "markdown",
   "id": "a40dae68-e224-45d1-97ce-ccc6c9fc5aff",
   "metadata": {},
   "source": [
    "- [문자열 뒤집기](https://chanp5660.github.io/문자열뒤집기)\n",
    "- [문자열 압축](https://chanp5660.github.io/문자열압축)\n",
    "- [문자열 회전](https://chanp5660.github.io/문자열회전)\n",
    "- [문자열 비교](https://chanp5660.github.io/문자열비교)\n",
    "- [문자열에서 숫자 추출](https://chanp5660.github.io/문자열에서숫자추출)\n",
    "- [문자열 매칭](https://chanp5660.github.io/문자열매칭)\n",
    "- 문자열 편집\n",
    "- 문자열 분할"
   ]
  },
  {
   "cell_type": "markdown",
   "id": "0a9666aa-1b3e-4554-a305-ae892fc41312",
   "metadata": {},
   "source": [
    "문자열 회전: 문자열을 회전시키는 문제로, 입력으로 주어진 문자열을 왼쪽으로 회전시키고 회전시킨 문자열을 출력해야 합니다. 예를 들어, \"hello\"가 입력으로 주어졌을 때 \"elloh\"로 출력합니다.\n",
    "\n",
    "문자열 비교: 두 개의 문자열을 비교하는 문제로, 두 개의 문자열이 같은지 판별하고 같다면 True를, 다르다면 False를 출력해야 합니다. 예를 들어, \"hello\"와 \"world\"가 입력으로 주어졌을 때 False를 출력합니다.\n",
    "\n",
    "문자열에서 숫자 추출: 문자열에서 숫자만 추출하는 문제로, 문자열에서 숫자만 추출하여 출력해야 합니다. 예를 들어, \"abc123def456\"이 입력으로 주어졌을 때 \"123456\"으로 출력합니다."
   ]
  }
 ],
 "metadata": {
  "kernelspec": {
   "display_name": "Python 3 (ipykernel)",
   "language": "python",
   "name": "python3"
  },
  "language_info": {
   "codemirror_mode": {
    "name": "ipython",
    "version": 3
   },
   "file_extension": ".py",
   "mimetype": "text/x-python",
   "name": "python",
   "nbconvert_exporter": "python",
   "pygments_lexer": "ipython3",
   "version": "3.7.13"
  }
 },
 "nbformat": 4,
 "nbformat_minor": 5
}
