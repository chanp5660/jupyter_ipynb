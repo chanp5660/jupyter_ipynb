{
 "cells": [
  {
   "cell_type": "markdown",
   "id": "1c00365f-2478-470d-ad17-7862c8ff323f",
   "metadata": {},
   "source": [
    "---\n",
    "layout: post  \n",
    "current: post  \n",
    "cover:  assets/built/images/baekjoon-logo.png  \n",
    "navigation: True  \n",
    "title: 백준-단계별-입출력과 사칙연산  \n",
    "date: 2022-07-06 17:00:00 +0900  \n",
    "tags: [programing]  \n",
    "class: post-template  \n",
    "subclass: 'post tag-python'  \n",
    "author: chanp5660  \n",
    "---"
   ]
  },
  {
   "cell_type": "markdown",
   "id": "e158292d-2d09-4961-aa67-a1eba0af1c3b",
   "metadata": {},
   "source": [
    "# 백준-단계별-입출력과 사칙연산  \n",
    "https://www.acmicpc.net/step/1"
   ]
  },
  {
   "cell_type": "markdown",
   "id": "5a69b0f3-3730-4082-85af-fc8985a3b1ac",
   "metadata": {
    "tags": []
   },
   "source": [
    "## ??! (10-10926)\n",
    "https://www.acmicpc.net/problem/10926\n",
    "\n",
    "- 문제  \n",
    "준하는 사이트에 회원가입을 하다가 joonas라는 아이디가 이미 존재하는 것을 보고 놀랐다. 준하는 놀람을 ??!로 표현한다. 준하가 가입하려고 하는 사이트에 이미 존재하는 아이디가 주어졌을 때, 놀람을 표현하는 프로그램을 작성하시오.\n",
    "\n",
    "- 입력  \n",
    "첫째 줄에 준하가 가입하려고 하는 사이트에 이미 존재하는 아이디가 주어진다. 아이디는 알파벳 소문자로만 이루어져 있으며, 길이는 50자를 넘지 않는다.\n",
    "\n",
    "- 출력  \n",
    "첫째 줄에 준하의 놀람을 출력한다. 놀람은 아이디 뒤에 ??!를 붙여서 나타낸다.\n",
    "\n",
    "|예제 입력|예제 출력|\n",
    "|---|---|\n",
    "|joonas|joonas??!|\n",
    "|baekjoon|baekjoon??!|"
   ]
  },
  {
   "cell_type": "markdown",
   "id": "fc2ce3c4-5e3e-450d-9ceb-c7343b080cb6",
   "metadata": {},
   "source": [
    "- 코딩 전\n",
    "    - 입력 받은 문장에 ??! 를 붙여 출력"
   ]
  },
  {
   "cell_type": "code",
   "execution_count": 1,
   "id": "993827f4-34e4-4908-b115-ebc3c9cf0426",
   "metadata": {},
   "outputs": [
    {
     "name": "stdin",
     "output_type": "stream",
     "text": [
      " dwqdq\n"
     ]
    },
    {
     "name": "stdout",
     "output_type": "stream",
     "text": [
      "dwqdq??!\n"
     ]
    }
   ],
   "source": [
    "String = input()\n",
    "String += \"??!\"\n",
    "print(String)"
   ]
  },
  {
   "cell_type": "markdown",
   "id": "5894f860-34f8-4c62-8890-891776037ba6",
   "metadata": {},
   "source": [
    "- 코딩 후\n",
    "    - ... 없음"
   ]
  },
  {
   "cell_type": "markdown",
   "id": "0b063e6b-f833-494e-b007-450432d707dd",
   "metadata": {},
   "source": [
    "---"
   ]
  },
  {
   "cell_type": "markdown",
   "id": "9243a91c-02d4-49cd-8b34-02df63caaa74",
   "metadata": {},
   "source": [
    "## 1998년생인 내가 태국에서는 2541년생?! (11-18108)\n",
    "https://www.acmicpc.net/problem/18108"
   ]
  },
  {
   "cell_type": "markdown",
   "id": "5ada415b-bfc5-48b5-8d9d-83497c3d646b",
   "metadata": {},
   "source": [
    "- 문제  \n",
    "ICPC Bangkok Regional에 참가하기 위해 수완나품 국제공항에 막 도착한 팀 레드시프트 일행은 눈을 믿을 수 없었다. 공항의 대형 스크린에 올해가 2562년이라고 적혀 있던 것이었다.  \n",
    "불교 국가인 태국은 불멸기원(佛滅紀元), 즉 석가모니가 열반한 해를 기준으로 연도를 세는 불기를 사용한다. 반면, 우리나라는 서기 연도를 사용하고 있다. 불기 연도가 주어질 때 이를 서기 연도로 바꿔 주는 프로그램을 작성하시오.  \n",
    "  \n",
    "- 입력  \n",
    "서기 연도를 알아보고 싶은 불기 연도 y가 주어진다. (1000 ≤ y ≤ 3000)  \n",
    "  \n",
    "- 출력  \n",
    "불기 연도를 서기 연도로 변환한 결과를 출력한다.  \n",
    "\n",
    "\n",
    "|예제 입력|예제 출력|\n",
    "|---|---|\n",
    "|2541|1998|"
   ]
  },
  {
   "cell_type": "markdown",
   "id": "0968e4f0-ea2e-47c5-8b7d-9e1cf290385b",
   "metadata": {},
   "source": [
    "- 코딩전\n",
    "    - 현재 예제에서 차이나는 만큼만 입력받은 불기 연도에 더해 서기 연도를 출력한다."
   ]
  },
  {
   "cell_type": "code",
   "execution_count": 3,
   "id": "83689402-e4c9-4efa-8cd3-0ef7301dfa9c",
   "metadata": {},
   "outputs": [
    {
     "name": "stdin",
     "output_type": "stream",
     "text": [
      " 2541\n"
     ]
    },
    {
     "name": "stdout",
     "output_type": "stream",
     "text": [
      "1998\n"
     ]
    }
   ],
   "source": [
    "DIFF = 2541-1998\n",
    "BOLL_GI = int(input())\n",
    "SEO_GI = BOLL_GI - DIFF\n",
    "print(SEO_GI)"
   ]
  },
  {
   "cell_type": "markdown",
   "id": "4c0bb029-8770-4450-bb61-c18d6d035044",
   "metadata": {},
   "source": [
    "- 코딩 후\n",
    "    - ...없음"
   ]
  },
  {
   "cell_type": "markdown",
   "id": "eaf79147-a2cf-4bf1-8abe-5d77242cb191",
   "metadata": {},
   "source": [
    "---"
   ]
  }
 ],
 "metadata": {
  "kernelspec": {
   "display_name": "Python 3 (ipykernel)",
   "language": "python",
   "name": "python3"
  },
  "language_info": {
   "codemirror_mode": {
    "name": "ipython",
    "version": 3
   },
   "file_extension": ".py",
   "mimetype": "text/x-python",
   "name": "python",
   "nbconvert_exporter": "python",
   "pygments_lexer": "ipython3",
   "version": "3.7.13"
  }
 },
 "nbformat": 4,
 "nbformat_minor": 5
}
