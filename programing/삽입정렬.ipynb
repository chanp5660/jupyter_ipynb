{
 "cells": [
  {
   "cell_type": "markdown",
   "id": "c7a146ed-f408-4ba7-9229-6bf28c3fee3e",
   "metadata": {},
   "source": [
    "---\n",
    "layout: post  \n",
    "current: post  \n",
    "cover:  assets/built/images/삽입정렬.png  \n",
    "navigation: True  \n",
    "title: 삽입정렬  \n",
    "date: 2023-03-01 00:00:00 +0900  \n",
    "tags: [programing,python]  \n",
    "class: post-template  \n",
    "subclass: 'post tag-python'  \n",
    "author: chanp5660  \n",
    "---"
   ]
  },
  {
   "cell_type": "markdown",
   "id": "94a67422-2cc5-442f-9a9b-816e145f7e5d",
   "metadata": {},
   "source": [
    "# 삽입정렬 Insertion Sorting\n",
    "\n",
    "> 기본적으로 ChatGPT를 이용하여 틀을 잡고 만든 것"
   ]
  },
  {
   "cell_type": "markdown",
   "id": "6e67e30b-9072-4a60-b113-398c065865e4",
   "metadata": {},
   "source": [
    "> 정렬되지 않은 원소를 정렬된 부분집합에 삽입하는 방법으로 **이미 정렬된 배열**에 **새로운 원소**를 **추가**할 때 효율적으로 작동하는 알고리즘"
   ]
  },
  {
   "cell_type": "markdown",
   "id": "a05c5243-0e07-4c3c-a49f-ae50d9b0f6d1",
   "metadata": {},
   "source": [
    "## 삽입정렬 1"
   ]
  },
  {
   "cell_type": "code",
   "execution_count": 6,
   "id": "8b18a843-4957-4b28-b8b7-9444550ed737",
   "metadata": {},
   "outputs": [],
   "source": [
    "def insertion_sort(arr):\n",
    "    # 모든 요소를 비교하기 위해 n-2번 반복\n",
    "    for i in range(1, len(arr)):\n",
    "        key = arr[i] # 삽입할 원소\n",
    "        j = i - 1 # 정렬된 배열의 크기 + 삽입할 원소\n",
    "        # j -> 0 범위로 줄여가면서 key값보다 작을 때까지 또는 j만큼 반복이 끝났을 때 종료\n",
    "        while j >= 0 and arr[j] > key:\n",
    "            arr[j+1] = arr[i]\n",
    "            j -= 1\n",
    "        arr[j+1] = key\n",
    "    return arr"
   ]
  },
  {
   "cell_type": "code",
   "execution_count": 7,
   "id": "635f1e84-e556-48c8-86ad-9a7630710b96",
   "metadata": {},
   "outputs": [
    {
     "name": "stdout",
     "output_type": "stream",
     "text": [
      "[1, 1, 1, 1, 1, 3]\n"
     ]
    }
   ],
   "source": [
    "arr = [5, 2, 4, 6, 1, 3]\n",
    "print(insertion_sort(arr))"
   ]
  },
  {
   "cell_type": "markdown",
   "id": "0051c055-a798-45d9-b980-b6053357d76b",
   "metadata": {},
   "source": [
    "- 알고리즘\n",
    "    - 첫번째 반복문\n",
    "        - 모든 요소를 비교하기 위해 1~n 범위로 비교한다.\n",
    "    - 두번쨰 반복문\n",
    "        - 정렬된 배열의 크기 + 삽입할 원소의 크기만큼 반복\n",
    "        - j -> 0 범위로 줄여가면서 key값보다 작을 떄까지 또는 j만큼 반복이 끝났을 때 종료\n",
    "    - 마지막 Swap\n",
    "        - 두번째 반복문이 끝나면 j+1 인덱스의 위치에 값이 들어갈 위치가 된다.\n",
    "- 시간복잡도\n",
    "    - 최선의 경우 O(N)으로 굉장히 빠른편에 속한다.\n",
    "    - 최악의 경우 O(N^2)으로 굉장히 느려 최선의 경우와 차이가 많이 난다.\n",
    "    - 정렬되어 있는 데이터라도 삽입순서에 따라 성능차이가 나므로 데이터의 상태가 성능의 주요요인이다."
   ]
  }
 ],
 "metadata": {
  "kernelspec": {
   "display_name": "Python 3 (ipykernel)",
   "language": "python",
   "name": "python3"
  },
  "language_info": {
   "codemirror_mode": {
    "name": "ipython",
    "version": 3
   },
   "file_extension": ".py",
   "mimetype": "text/x-python",
   "name": "python",
   "nbconvert_exporter": "python",
   "pygments_lexer": "ipython3",
   "version": "3.7.13"
  }
 },
 "nbformat": 4,
 "nbformat_minor": 5
}
