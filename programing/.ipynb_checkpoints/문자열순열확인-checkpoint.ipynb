{
 "cells": [
  {
   "cell_type": "markdown",
   "id": "a27e3e9b-5e5a-4af6-b63a-528b1c8f369b",
   "metadata": {},
   "source": [
    "---\n",
    "layout: post  \n",
    "current: post  \n",
    "cover:  assets/built/images/문자열순열확인.png  \n",
    "navigation: True  \n",
    "title: 문자열순열확인  \n",
    "date: 2023-02-27 00:00:00 +0900  \n",
    "tags: [programing,python]  \n",
    "class: post-template  \n",
    "subclass: 'post tag-python'  \n",
    "author: chanp5660  \n",
    "---"
   ]
  },
  {
   "cell_type": "markdown",
   "id": "a9f98fdf-02b1-4e7b-9586-27f904eacad8",
   "metadata": {},
   "source": [
    "# 문자열순열확인\n",
    "\n",
    "> 기본적으로 ChatGPT를 이용하여 틀을 잡고 만든 것"
   ]
  },
  {
   "cell_type": "markdown",
   "id": "640d53a8-cd90-4b54-94a7-b85e8b000405",
   "metadata": {},
   "source": [
    "> 두 문자열이 서로 순열인지 확인하는 알고리즘"
   ]
  },
  {
   "cell_type": "code",
   "execution_count": 5,
   "id": "8e277f0b-6981-4e9d-823c-33ec541a7cd9",
   "metadata": {},
   "outputs": [
    {
     "name": "stdout",
     "output_type": "stream",
     "text": [
      "True\n",
      "True\n",
      "False\n",
      "False\n"
     ]
    }
   ],
   "source": [
    "def is_permutation(s1,s2):\n",
    "    \n",
    "    # s1이 s2의 순열인지 확인한다.\n",
    "    for c in s1:\n",
    "        if c not in s2:\n",
    "            return False\n",
    "    \n",
    "    # s2이 s1의 순열인지 확인한다.\n",
    "    for c in s2:\n",
    "        if c not in s1:\n",
    "            return False\n",
    "    \n",
    "    return True\n",
    "    \n",
    "print(is_permutation(\"abc\", \"cba\"))\n",
    "print(is_permutation(\"abcd\", \"abdc\"))\n",
    "print(is_permutation(\"aaa\", \"aab\"))\n",
    "print(is_permutation(\"hello\", \"world\"))"
   ]
  },
  {
   "cell_type": "code",
   "execution_count": 10,
   "id": "a76e1cee-f933-4e1d-9cee-657c6b50a35c",
   "metadata": {},
   "outputs": [
    {
     "name": "stdout",
     "output_type": "stream",
     "text": [
      "False\n"
     ]
    }
   ],
   "source": [
    "print(is_permutation(\"abcd\", \"abdcc\"))"
   ]
  },
  {
   "cell_type": "code",
   "execution_count": 9,
   "id": "07fde6fd-b155-495b-92d6-b093fca2dceb",
   "metadata": {
    "tags": []
   },
   "outputs": [],
   "source": [
    "def is_permutation(str1, str2):\n",
    "    # If the two strings have different lengths, they cannot be permutations of each other\n",
    "    if len(str1) != len(str2):\n",
    "        return False\n",
    "\n",
    "    # Create dictionaries to store the frequency of each character in both strings\n",
    "    freq1 = {}\n",
    "    freq2 = {}\n",
    "\n",
    "    # Update the frequencies for each character in both strings\n",
    "    for i in range(len(str1)):\n",
    "        # Update the frequency count for the character in str1\n",
    "        freq1[str1[i]] = freq1.get(str1[i], 0) + 1\n",
    "        \n",
    "        # Update the frequency count for the character in str2\n",
    "        freq2[str2[i]] = freq2.get(str2[i], 0) + 1\n",
    "\n",
    "    # Check if the two dictionaries are equal\n",
    "    return freq1 == freq2"
   ]
  },
  {
   "cell_type": "markdown",
   "id": "a1eadce9-16a5-44c6-a7c3-95c7a97548bc",
   "metadata": {},
   "source": [
    "is_permutation 함수는 str1 및 str2의 두 문자열을 사용합니다. , 입력으로 str1이 str2의 순열이면 True를 반환하고 그렇지 않으면 False를 반환합니다.\n",
    "\n",
    "알고리즘은 먼저 두 문자열이 동일한지 확인합니다. 길이가 같지 않으면 서로 순열이 될 수 없으므로 함수는 False를 반환합니다.\n",
    "\n",
    "다음으로 알고리즘은 freq1 및 < code>freq2, 두 문자열에 각 문자의 빈도를 저장합니다. 사전의 get 메서드는 주어진 키에 대한 값을 가져오는 데 사용되며 키가 존재하지 않으면 기본값(이 경우 0)을 반환합니다.\n",
    "\n",
    " \n",
    "알고리즘은 문자열의 각 문자를 반복하여 두 문자열의 각 문자에 대한 빈도를 업데이트합니다. str1의 각 문자에 대한 빈도 수는 사전 freq1에 저장되고 str2의 각 문자에 대한 빈도 수는 사전에 저장됩니다. freq2.\n",
    "\n",
    "마지막으로 알고리즘은 == 연산자를 사용하여 두 사전이 동일한지 확인합니다. 두 사전의 키와 값이 같으면 두 문자열이 서로 순열이므로 함수는 True를 반환합니다. 두 사전이 같지 않으면 두 문자열이 서로 순열이 아니므로 함수는 False를 반환합니다."
   ]
  }
 ],
 "metadata": {
  "kernelspec": {
   "display_name": "Python 3 (ipykernel)",
   "language": "python",
   "name": "python3"
  },
  "language_info": {
   "codemirror_mode": {
    "name": "ipython",
    "version": 3
   },
   "file_extension": ".py",
   "mimetype": "text/x-python",
   "name": "python",
   "nbconvert_exporter": "python",
   "pygments_lexer": "ipython3",
   "version": "3.7.13"
  }
 },
 "nbformat": 4,
 "nbformat_minor": 5
}
