{
 "cells": [
  {
   "cell_type": "markdown",
   "id": "c7a146ed-f408-4ba7-9229-6bf28c3fee3e",
   "metadata": {},
   "source": [
    "---\n",
    "layout: post  \n",
    "current: post  \n",
    "cover:  assets/built/images/정렬.png  \n",
    "navigation: True  \n",
    "title: 정렬  \n",
    "date: 2023-03-01 00:00:00 +0900  \n",
    "tags: [programing,python]  \n",
    "class: post-template  \n",
    "subclass: 'post tag-python'  \n",
    "author: chanp5660  \n",
    "---"
   ]
  },
  {
   "cell_type": "markdown",
   "id": "94a67422-2cc5-442f-9a9b-816e145f7e5d",
   "metadata": {},
   "source": [
    "# 정렬 Sorting\n",
    "\n",
    "> 기본적으로 ChatGPT를 이용하여 틀을 잡고 만든 것"
   ]
  },
  {
   "cell_type": "markdown",
   "id": "de4b2268-25b9-4748-b180-0b7daf2d05f6",
   "metadata": {},
   "source": [
    "> 컴퓨터 분야에서 중요시되는 문제 가운데 하나로 어떤 데이터들이 주어졌을 때 이를 **정해진 순서**대로 **나열**하는 문제로   \n",
    "실제 컴퓨터 분야에서 사용하는 데이터의 경우 **숫자의 순서나 어휘**의 **순서대로 정렬**한 다음 사용해야 되는 경우가 거의 항상 발생하는데 이걸 얼마나 **효과적으로 해결**할 수 있느냐가 **정렬 문제의 핵심**"
   ]
  },
  {
   "cell_type": "markdown",
   "id": "5ba9247c-e7e8-48cf-9e65-2b380bd2bd89",
   "metadata": {
    "tags": []
   },
   "source": [
    "# 개념 이해하기 좋은 영상\n",
    "\n",
    "- [어? 재밌네? 정렬 알고리즘, 한방에 이해하기!](https://www.youtube.com/watch?v=Bor_CRWEIXo)"
   ]
  },
  {
   "cell_type": "markdown",
   "id": "9ad12b98-7ad7-4566-abc5-9af52bef1c7c",
   "metadata": {},
   "source": [
    "## python 예제\n",
    "\n",
    "- [선택정렬](https://chanp5660.github.io/선택정렬)\n",
    "- [삽입정렬](https://chanp5660.github.io/삽입정렬)\n",
    "- [버블정렬](https://chanp5660.github.io/버블정렬)\n",
    "- 병합정렬\n",
    "- 힙정렬\n",
    "- 퀵정렬\n",
    "- 기수정렬\n"
   ]
  }
 ],
 "metadata": {
  "kernelspec": {
   "display_name": "Python 3 (ipykernel)",
   "language": "python",
   "name": "python3"
  },
  "language_info": {
   "codemirror_mode": {
    "name": "ipython",
    "version": 3
   },
   "file_extension": ".py",
   "mimetype": "text/x-python",
   "name": "python",
   "nbconvert_exporter": "python",
   "pygments_lexer": "ipython3",
   "version": "3.7.13"
  }
 },
 "nbformat": 4,
 "nbformat_minor": 5
}
