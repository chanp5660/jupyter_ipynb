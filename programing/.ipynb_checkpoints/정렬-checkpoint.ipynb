{
 "cells": [
  {
   "cell_type": "markdown",
   "id": "c7a146ed-f408-4ba7-9229-6bf28c3fee3e",
   "metadata": {},
   "source": [
    "---\n",
    "layout: post  \n",
    "current: post  \n",
    "cover:  assets/built/images/정렬.png  \n",
    "navigation: True  \n",
    "title: 정렬  \n",
    "date: 2023-03-01 00:00:00 +0900  \n",
    "tags: [programing,python]  \n",
    "class: post-template  \n",
    "subclass: 'post tag-python'  \n",
    "author: chanp5660  \n",
    "---"
   ]
  },
  {
   "cell_type": "markdown",
   "id": "94a67422-2cc5-442f-9a9b-816e145f7e5d",
   "metadata": {},
   "source": [
    "# 정렬 Sorting\n",
    "\n",
    "> 기본적으로 ChatGPT를 이용하여 틀을 잡고 만든 것"
   ]
  },
  {
   "cell_type": "markdown",
   "id": "5ba9247c-e7e8-48cf-9e65-2b380bd2bd89",
   "metadata": {},
   "source": [
    "# 참조 영상\n",
    "\n",
    "- [해시-해시테이블-해싱 5분만에 이해하기 - Gunny](https://www.youtube.com/watch?v=xls6jEZNA7Y)\n",
    "- 확실히 이미지로 인식하는게 더 좋은 것 같다. 간단하게 다룬 내용으로 개념만 이해하기"
   ]
  },
  {
   "cell_type": "markdown",
   "id": "9ad12b98-7ad7-4566-abc5-9af52bef1c7c",
   "metadata": {},
   "source": [
    "## python 예제\n",
    "\n",
    "- 선택정렬\n",
    "- 삽입정렬\n",
    "- 버블정렬\n",
    "- 병합정렬\n",
    "- 힙정렬\n",
    "- 퀵정렬\n",
    "- 기수정렬\n"
   ]
  }
 ],
 "metadata": {
  "kernelspec": {
   "display_name": "Python 3 (ipykernel)",
   "language": "python",
   "name": "python3"
  },
  "language_info": {
   "codemirror_mode": {
    "name": "ipython",
    "version": 3
   },
   "file_extension": ".py",
   "mimetype": "text/x-python",
   "name": "python",
   "nbconvert_exporter": "python",
   "pygments_lexer": "ipython3",
   "version": "3.7.13"
  }
 },
 "nbformat": 4,
 "nbformat_minor": 5
}
