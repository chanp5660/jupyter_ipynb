{
 "cells": [
  {
   "cell_type": "markdown",
   "id": "4786329c-b044-4089-8580-89770c03dc49",
   "metadata": {},
   "source": [
    "---\n",
    "layout: post  \n",
    "current: post  \n",
    "cover:  assets/built/images/fractions_Fraction.png  \n",
    "navigation: True  \n",
    "title: fractions Fraction  \n",
    "date: 2023-02-28 00:00:00 +0900  \n",
    "tags: [programing,python]  \n",
    "class: post-template  \n",
    "subclass: 'post tag-python'  \n",
    "author: chanp5660  \n",
    "---"
   ]
  },
  {
   "cell_type": "markdown",
   "id": "dc7e6891-dd87-4ad3-be6b-64d2ad3e9b7d",
   "metadata": {},
   "source": [
    "# 분수표현 fractions Fraction\n",
    "\n",
    "> python fractions 라이브러리에서 Fraction 제공하여 분수표현으로 사용할 수 있다.  \n",
    "math.gcd(int1, int2)"
   ]
  },
  {
   "cell_type": "code",
   "execution_count": 15,
   "id": "146e3b17-96ba-452a-bcb6-8f24651033eb",
   "metadata": {},
   "outputs": [
    {
     "name": "stdout",
     "output_type": "stream",
     "text": [
      "5\n"
     ]
    }
   ],
   "source": [
    "import math \n",
    "print(math.gcd(10, 15))"
   ]
  },
  {
   "cell_type": "code",
   "execution_count": 16,
   "id": "3ff70e83-4f4d-4cd6-b9cd-cd31c1b5062f",
   "metadata": {},
   "outputs": [
    {
     "name": "stdout",
     "output_type": "stream",
     "text": [
      "9\n"
     ]
    }
   ],
   "source": [
    "print(math.gcd(-9, -81))"
   ]
  }
 ],
 "metadata": {
  "kernelspec": {
   "display_name": "Python 3 (ipykernel)",
   "language": "python",
   "name": "python3"
  },
  "language_info": {
   "codemirror_mode": {
    "name": "ipython",
    "version": 3
   },
   "file_extension": ".py",
   "mimetype": "text/x-python",
   "name": "python",
   "nbconvert_exporter": "python",
   "pygments_lexer": "ipython3",
   "version": "3.7.13"
  }
 },
 "nbformat": 4,
 "nbformat_minor": 5
}
