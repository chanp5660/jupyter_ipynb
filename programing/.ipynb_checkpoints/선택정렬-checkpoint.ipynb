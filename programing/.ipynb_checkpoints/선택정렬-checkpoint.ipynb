{
 "cells": [
  {
   "cell_type": "markdown",
   "id": "c7a146ed-f408-4ba7-9229-6bf28c3fee3e",
   "metadata": {},
   "source": [
    "---\n",
    "layout: post  \n",
    "current: post  \n",
    "cover:  assets/built/images/선택정렬.png  \n",
    "navigation: True  \n",
    "title: 선택정렬  \n",
    "date: 2023-03-01 00:00:00 +0900  \n",
    "tags: [programing,python]  \n",
    "class: post-template  \n",
    "subclass: 'post tag-python'  \n",
    "author: chanp5660  \n",
    "---"
   ]
  },
  {
   "cell_type": "markdown",
   "id": "94a67422-2cc5-442f-9a9b-816e145f7e5d",
   "metadata": {},
   "source": [
    "# 선택정렬 selection Sorting\n",
    "\n",
    "> 주어진 리스트에서 최소값을 찾아 맨 앞에 위치한 원소와 자리를 바꾸고, 그 다음으로 작은 값을 찾아 그 다음 위치에 위치시키는 과정을 반복하여 정렬하는 알고리즘"
   ]
  },
  {
   "cell_type": "markdown",
   "id": "a05c5243-0e07-4c3c-a49f-ae50d9b0f6d1",
   "metadata": {},
   "source": [
    "## 선택정렬 1"
   ]
  },
  {
   "cell_type": "code",
   "execution_count": 17,
   "id": "b23ff70a-0490-4d8c-9162-96c742f1a6ab",
   "metadata": {},
   "outputs": [],
   "source": [
    "def selection_sort(arr):\n",
    "    n = len(arr)\n",
    "    # 배열의 모든 요소를 순회\n",
    "    for i in range(n-1):\n",
    "        # 최소값의 인덱스를 찾음\n",
    "        min_idx = i\n",
    "        for j in range(i+1,n):\n",
    "            if arr[min_idx] > arr[j] :\n",
    "                min_idx = j\n",
    "        # 현재 인덱스와 최소값의 인덱스를 swap\n",
    "        arr[min_idx], arr[i] = arr[i], arr[min_idx]\n",
    "    return arr"
   ]
  },
  {
   "cell_type": "code",
   "execution_count": 16,
   "id": "0ea50a56-a10a-46ca-9972-aa7ebe36d341",
   "metadata": {},
   "outputs": [
    {
     "data": {
      "text/plain": [
       "[11, 12, 22, 25, 64]"
      ]
     },
     "execution_count": 16,
     "metadata": {},
     "output_type": "execute_result"
    }
   ],
   "source": [
    "arr = [64, 25, 12, 22, 11]\n",
    "selection_sort(arr)"
   ]
  },
  {
   "cell_type": "markdown",
   "id": "c68a7be6-fd40-42c7-b89f-79d5368073b7",
   "metadata": {},
   "source": [
    "- 알고리즘\n",
    "    - 첫번째 반복문\n",
    "        - 모든 요소를 비교하기 위해 n-1번 비교한다.\n",
    "        - n번째는 n-1에서 정해지기 때문에 할 필요가 없다.\n",
    "    - 두번째 반복문\n",
    "        - i 이상의 인덱스에서 최소값을 가진 인덱스(min_idx)를 구한다.\n",
    "        - 범위는 i ~ n까지의 원소 중에 비교하면 된다.\n",
    "            - 두번째 반복문 시작전 min_idx = 1 는 범위의 첫번째 인자를 최소값으로 초기화 시키고 시작한다는 의미이다.\n",
    "    - Swap\n",
    "        - 두번째 반복문이 끝나면 범위 안에 최소값인 인덱스를 알 수 있다.\n",
    "        - 범위의 첫번째 인자 i와 최소값의 인덱스 min_index를 서로 교체한다.\n",
    "\n",
    "- 시간복잡도\n",
    "    - O(n^2)\n",
    "    - 버블정렬보다는 빠르다. ( 교환이 많이 일어나야하는 자료에 유리 )\n",
    "    - 리스트가 길수록 오래걸린다."
   ]
  }
 ],
 "metadata": {
  "kernelspec": {
   "display_name": "Python 3 (ipykernel)",
   "language": "python",
   "name": "python3"
  },
  "language_info": {
   "codemirror_mode": {
    "name": "ipython",
    "version": 3
   },
   "file_extension": ".py",
   "mimetype": "text/x-python",
   "name": "python",
   "nbconvert_exporter": "python",
   "pygments_lexer": "ipython3",
   "version": "3.7.13"
  }
 },
 "nbformat": 4,
 "nbformat_minor": 5
}
