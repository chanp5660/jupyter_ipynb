{
 "cells": [
  {
   "cell_type": "markdown",
   "id": "c9360bd0-7594-49bb-ad90-230b83aae972",
   "metadata": {
    "tags": []
   },
   "source": [
    "---\n",
    "layout: post  \n",
    "current: post  \n",
    "cover:  assets/built/images/분수의덧셈.png  \n",
    "navigation: True  \n",
    "title: 분수의덧셈  \n",
    "date: 2023-02-28 00:00:00 +0900  \n",
    "tags: [programing,python]  \n",
    "class: post-template  \n",
    "subclass: 'post tag-python'  \n",
    "author: chanp5660  \n",
    "---"
   ]
  },
  {
   "cell_type": "markdown",
   "id": "313eb413-397e-404f-bc85-401fa7005aea",
   "metadata": {},
   "source": [
    "# 분수의 덧셈\n",
    "\n",
    "[프로그래머스-분수의덧셈](https://school.programmers.co.kr/learn/courses/30/lessons/120808)"
   ]
  },
  {
   "cell_type": "markdown",
   "id": "02351451-9428-4519-b016-411907758116",
   "metadata": {},
   "source": [
    "> 분자, 분모가 다른 2개의 분수를 덧셈하고 기약분수 만드는 문제"
   ]
  },
  {
   "cell_type": "code",
   "execution_count": 4,
   "id": "150e2e31-73ca-4595-8e0c-2b38f35c7f5e",
   "metadata": {},
   "outputs": [
    {
     "data": {
      "text/plain": [
       "[13, 4]"
      ]
     },
     "execution_count": 4,
     "metadata": {},
     "output_type": "execute_result"
    }
   ],
   "source": [
    "# 내 코드\n",
    "def solution(numer1, denom1, numer2, denom2):\n",
    "    # 분모 둘의 곱하고 그에 따라 반대 분모와 분자에 곱해 더 해준다.\n",
    "    answer = [numer1*denom2+numer2*denom1, denom1*denom2]\n",
    "    \n",
    "    # 기약 분수 \n",
    "    while True:\n",
    "        # 기약 분수가 될 때까지 반복한다.\n",
    "        check = 1 \n",
    "        # 분모, 분자의 최소공약수를 찾아서 각각 최소공약수로 나누어준다.\n",
    "        for i in range(2,min(answer)+1):\n",
    "            if not answer[0] % i and not answer[1] % i :\n",
    "                answer = [x//i for x in answer]\n",
    "                check = 0\n",
    "                break\n",
    "        # 최소공약수가 발견되지 않으면 정지\n",
    "        if check : break \n",
    "    return answer\n",
    "\n",
    "solution(3,4,5,2)"
   ]
  },
  {
   "cell_type": "markdown",
   "id": "a1b4f447-1e64-4788-87e9-fe38005adec2",
   "metadata": {},
   "source": [
    "- 함수\n",
    "    - 3/4 + 5/2 = 3/4 + 10/4 = 13/4 (기약분수)\n",
    "- 알고리즘\n",
    "    1. 분모 둘의 곱하고 그에 따라 반대 분모와 분자에 곱해 더 해준다.\n",
    "    2. 기약 분수가 될 때까지 아래 과정을 반복한다.\n",
    "    3. 분모, 분자의 최소공약수를 찾아서 각각 최소공약수로 나누어준다.\n",
    "    4. 최소공약수가 발견되지 않으면 정지\n"
   ]
  },
  {
   "cell_type": "markdown",
   "id": "e0200059-e101-4b9b-b6c5-391704ae7417",
   "metadata": {},
   "source": [
    "- 추가 방법\n",
    "    - [math의 gcd를 사용](https://chanp5660.github.io/math-gcd)\n",
    "        ```{python}\n",
    "        import math\n",
    "        math.gcd(10, 15) # return 5 \n",
    "        ```\n",
    "    - [fractions의 Fraction을 사용](https://chanp5660.github.io/fractions-Fraction)\n",
    "        ```{python}\n",
    "        from fractions import Fraction\n",
    "        Fraction(1, 5) # 1/5\n",
    "        Fraction(\"1/5\") # 1/5\n",
    "        ```"
   ]
  }
 ],
 "metadata": {
  "kernelspec": {
   "display_name": "Python 3 (ipykernel)",
   "language": "python",
   "name": "python3"
  },
  "language_info": {
   "codemirror_mode": {
    "name": "ipython",
    "version": 3
   },
   "file_extension": ".py",
   "mimetype": "text/x-python",
   "name": "python",
   "nbconvert_exporter": "python",
   "pygments_lexer": "ipython3",
   "version": "3.7.13"
  }
 },
 "nbformat": 4,
 "nbformat_minor": 5
}
