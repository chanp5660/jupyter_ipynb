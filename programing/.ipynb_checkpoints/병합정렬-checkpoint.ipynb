{
 "cells": [
  {
   "cell_type": "markdown",
   "id": "c7a146ed-f408-4ba7-9229-6bf28c3fee3e",
   "metadata": {},
   "source": [
    "---\n",
    "layout: post  \n",
    "current: post  \n",
    "cover:  assets/built/images/병합정렬.png  \n",
    "navigation: True  \n",
    "title: 병합정렬  \n",
    "date: 2023-03-02 00:00:00 +0900  \n",
    "tags: [programing,python]  \n",
    "class: post-template  \n",
    "subclass: 'post tag-python'  \n",
    "author: chanp5660  \n",
    "---"
   ]
  },
  {
   "cell_type": "markdown",
   "id": "94a67422-2cc5-442f-9a9b-816e145f7e5d",
   "metadata": {},
   "source": [
    "# 병합정렬 Merge Sorting\n",
    "\n",
    "> 기본적으로 ChatGPT를 이용하여 틀을 잡고 만든 것"
   ]
  },
  {
   "cell_type": "markdown",
   "id": "6e67e30b-9072-4a60-b113-398c065865e4",
   "metadata": {},
   "source": [
    "> 분할 정복(divide and conquer) 알고리즘의 대표적인 예시로, 배열을 두 부분으로 분할한 뒤, 각각을 재귀적으로 정렬하여, 합쳐서 정렬된 배열을 생성하는 방법"
   ]
  },
  {
   "cell_type": "markdown",
   "id": "a05c5243-0e07-4c3c-a49f-ae50d9b0f6d1",
   "metadata": {},
   "source": [
    "## 병합정렬 1"
   ]
  },
  {
   "cell_type": "code",
   "execution_count": 2,
   "id": "15f23a67-cabb-42f9-b712-1a9f24735d9f",
   "metadata": {},
   "outputs": [],
   "source": [
    "def merge_sort(arr):\n",
    "    # 병합하기 위한 함수로 입력된 배열은 오름차순으로 정렬된다.\n",
    "    \n",
    "    # 병합의 최소 조건은 배열의 크기가 2 이상\n",
    "    if len(arr) <= 1:\n",
    "        return arr\n",
    "    \n",
    "    # 분할 지점 설정 \n",
    "    mid = len(arr) // 2\n",
    "    left = arr[:mid]\n",
    "    right = arr[mid:]\n",
    "    \n",
    "    # 재귀적으로 분할된 구역을 나눈다.\n",
    "    left = merge_sort(left)\n",
    "    right = merge_sort(right)\n",
    "    \n",
    "    return merge( left, right )\n",
    "\n",
    "def merge(left, right):\n",
    "    # 정렬하기 위한 함수로 입련된 두 개의 배열을 순차적으로 비교해가면 하나의 새로운 오름차순으로 정렬된 배열을 만든다.\n",
    "    \n",
    "    result = [] # 정렬된 숫자\n",
    "    i = 0 # left index\n",
    "    j = 0 # right index\n",
    "    \n",
    "    # 한쪽씩 비교하면서 작은 수를 result에 집어 넣는다.\n",
    "    while i < len(left) and j < len(right) :\n",
    "        if left[i] <= right[j] :\n",
    "            result.append(left[i])\n",
    "            i += 1\n",
    "        else:\n",
    "            result.append(right[j])\n",
    "            j+=1\n",
    "    \n",
    "    # 남은 것이 있으면 result에 추가 정리\n",
    "    result += left[i:]\n",
    "    result += right[j:]\n",
    "    \n",
    "    return result"
   ]
  },
  {
   "cell_type": "markdown",
   "id": "e9d6deaa-3457-4fff-b50f-50a235f592df",
   "metadata": {},
   "source": [
    "- 알고리즘\n",
    "    - merge_sort(arr) : 입력된 배열을 오름차순으로 정렬하여 출력하는 함수\n",
    "        - 병합정렬의 최소 조건은 배열의 크기가 2개 이상인 기준\n",
    "        - 왼쪽과 오른쪽 부분으로 분할하여 정렬하는데 일반적으로 전체 길이의 절반의 인덱스를 기준\n",
    "    - merge(left, right) : 입력된 두 개의 배열을 순차적으로 비교해가면 하나의 새로운 배열을 만든다. 기준으로 오름차순으로 만든다.\n",
    "        - 왼쪽, 오른쪽 각각의 인덱스를 만들어줘 순차적으로 비교할 수 있도록 함\n",
    "        - 한쪽의 배열의 정렬이 끝나면 나머지 한쪽의 배열을 최종 배열 오른쪽에 추가하여 완성\n",
    "        "
   ]
  }
 ],
 "metadata": {
  "kernelspec": {
   "display_name": "Python 3 (ipykernel)",
   "language": "python",
   "name": "python3"
  },
  "language_info": {
   "codemirror_mode": {
    "name": "ipython",
    "version": 3
   },
   "file_extension": ".py",
   "mimetype": "text/x-python",
   "name": "python",
   "nbconvert_exporter": "python",
   "pygments_lexer": "ipython3",
   "version": "3.7.13"
  }
 },
 "nbformat": 4,
 "nbformat_minor": 5
}
