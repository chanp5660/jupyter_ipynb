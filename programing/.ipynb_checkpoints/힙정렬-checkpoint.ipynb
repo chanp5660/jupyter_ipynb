{
 "cells": [
  {
   "cell_type": "markdown",
   "id": "aa49ff60-fa00-4ff1-b03a-584e3f1afe47",
   "metadata": {},
   "source": [
    "---\n",
    "layout: post  \n",
    "current: post  \n",
    "cover:  assets/built/images/힙정렬.png  \n",
    "navigation: True  \n",
    "title: 힙정렬  \n",
    "date: 2023-03-29 00:00:00 +0900  \n",
    "tags: [programing,python]  \n",
    "class: post-template  \n",
    "subclass: 'post tag-python'  \n",
    "author: chanp5660  \n",
    "---"
   ]
  },
  {
   "cell_type": "markdown",
   "id": "25b8386a-a770-40b1-a2c3-f6165a01e550",
   "metadata": {},
   "source": [
    "# 힙정렬 Heap Sorting\n",
    "\n",
    "> 힙정렬(Heap Sort)은 완전 이진트리 구조를 이용한 정렬 알고리즘으로서, 선택정렬(Selection Sort)의 개선된 버전으로 볼 수 있습니다. 힙정렬은 정렬되지 않은 리스트를 최대 힙(Max Heap)이나 최소 힙(Min Heap)으로 만든 다음, 루트 노드를 추출하여 정렬된 리스트에 추가하는 방식으로 동작합니다."
   ]
  },
  {
   "cell_type": "markdown",
   "id": "3a5ed18a-009a-4cd9-ab0c-c6ab975ede4c",
   "metadata": {},
   "source": [
    "## 일반적인 단계\n",
    "\n",
    "1. 주어진 리스트를 최대 힙 또는 최소 힙으로 만듭니다.   \n",
    "이를 위해서는 주어진 리스트를 이진 트리로 변환하고, 트리의 루트부터 시작하여 각 노드가 자식 노드보다 크거나 작은지 확인하면서 재배치합니다.  \n",
    "이러한 과정을 \"힙 만들기(heapify)\"라고 합니다.  \n",
    "\n",
    "2. 최대 힙 또는 최소 힙에서 루트 노드를 추출하고, 정렬된 리스트에 추가합니다.  \n",
    "추출한 노드를 리스트의 맨 뒤에 배치합니다.\n",
    "\n",
    "3. 남은 노드들에 대해 1과 2의 과정을 반복합니다.\n",
    "\n",
    "4. 리스트가 완전히 정렬될 때까지 1~3의 과정을 반복합니다."
   ]
  },
  {
   "cell_type": "markdown",
   "id": "c264c696-0f92-4396-8c53-d31c827869f1",
   "metadata": {},
   "source": [
    "## 시간 복잡도\n",
    "\n",
    "이 알고리즘의 시간 복잡도는 O(nlogn)으로, 안정적인 정렬 알고리즘 중에서는 빠른 편에 속합니다.  \n",
    "최악의 경우에도 O(nlogn)을 보장하기 때문에 대부분의 경우에 효율적인 정렬 알고리즘으로 사용됩니다."
   ]
  },
  {
   "cell_type": "markdown",
   "id": "46b45fd7-fed3-4650-979e-bf2a03af6896",
   "metadata": {},
   "source": [
    "## 힙정렬 1 (최대 힙으로 만들기)"
   ]
  },
  {
   "cell_type": "code",
   "execution_count": null,
   "id": "93d96168-b0aa-4fd2-9ce6-18f30ba853e1",
   "metadata": {},
   "outputs": [],
   "source": [
    "def heap_sort(arr):\n",
    "    n = len(arr)\n",
    "    \n",
    "    # 최대 힙으로 만들기\n",
    "    for i in range(n // 2 - 1, -1, -1):\n",
    "        heapify(arr, n , i)\n",
    "        \n",
    "    # 추출과 정렬\n",
    "    for i in range(n - 1, 0 , -1):\n",
    "        arr[0], arr[i] = arr[i], arr[0]\n",
    "        heapify(arr, i, 0)\n",
    "        \n",
    "    return arr\n",
    "        "
   ]
  },
  {
   "cell_type": "code",
   "execution_count": 8,
   "id": "0c6e07d1-2bc8-4ddd-8694-a5f320d75326",
   "metadata": {},
   "outputs": [],
   "source": [
    "def heap_sort(arr):\n",
    "    n = len(arr)\n",
    "    \n",
    "    # 최대 힙으로 만들기\n",
    "    for i in range(n // 2 - 1, -1, -1):\n",
    "        heapify(arr, n , i)\n",
    "    print(\"최대 힙으로 만들기\")    \n",
    "    print(arr)\n",
    "    # 추출과 정렬\n",
    "    for i in range(n - 1, 0, -1):\n",
    "        arr[0], arr[i] = arr[i], arr[0]\n",
    "        heapify(arr, i, 0)\n",
    "        \n",
    "    return arr\n",
    "\n",
    "def heapify(arr, n, i):\n",
    "    largest = i # 루트 노드\n",
    "    left = 2 * i + 1  # 왼쪽 자식 노드\n",
    "    right = 2 * i + 2  # 오른쪽 자식 노드\n",
    "    \n",
    "    # 왼쪽 자식과 비교\n",
    "    if left < n and arr[left] > arr[largest]:\n",
    "        largest = left\n",
    "        \n",
    "    # 오른쪽 자식과 비교\n",
    "    if right < n and arr[right] > arr[largest]:\n",
    "        largest = right\n",
    "        \n",
    "    # 루트 노드 변경\n",
    "    if largest != i:\n",
    "        arr[i], arr[largest] = arr[largest], arr[i]\n",
    "        heapify(arr,n,largest)"
   ]
  },
  {
   "cell_type": "code",
   "execution_count": 9,
   "id": "3c359d3d-574f-4b45-8550-6adee6e1c34a",
   "metadata": {},
   "outputs": [
    {
     "name": "stdout",
     "output_type": "stream",
     "text": [
      "최대 힙으로 만들기\n",
      "[5, 4, 1, 2, 3]\n"
     ]
    }
   ],
   "source": [
    "arr = [ 3, 4 , 1, 2, 5]\n",
    "arr_sort = heap_sort(arr)"
   ]
  },
  {
   "cell_type": "code",
   "execution_count": 11,
   "id": "b5aa7949-bc78-48c4-97e1-b50af4cdd4b1",
   "metadata": {},
   "outputs": [
    {
     "name": "stdout",
     "output_type": "stream",
     "text": [
      "추출 및 정렬\n",
      "[1, 2, 3, 4, 5]\n"
     ]
    }
   ],
   "source": [
    "print(\"추출 및 정렬\")\n",
    "print(arr_sort)"
   ]
  }
 ],
 "metadata": {
  "kernelspec": {
   "display_name": "Python 3 (ipykernel)",
   "language": "python",
   "name": "python3"
  },
  "language_info": {
   "codemirror_mode": {
    "name": "ipython",
    "version": 3
   },
   "file_extension": ".py",
   "mimetype": "text/x-python",
   "name": "python",
   "nbconvert_exporter": "python",
   "pygments_lexer": "ipython3",
   "version": "3.7.13"
  }
 },
 "nbformat": 4,
 "nbformat_minor": 5
}
