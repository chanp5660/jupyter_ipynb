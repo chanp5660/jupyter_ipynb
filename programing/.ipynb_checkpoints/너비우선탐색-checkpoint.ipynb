{
 "cells": [
  {
   "cell_type": "markdown",
   "id": "25570136-b0b2-465f-b31b-3830cb0eae47",
   "metadata": {
    "tags": []
   },
   "source": [
    "---\n",
    "layout: post  \n",
    "current: post  \n",
    "cover:  assets/built/images/너비우선탐색.png  \n",
    "navigation: True  \n",
    "title: 너비우선탐색  \n",
    "date: 2023-02-28 00:00:00 +0900  \n",
    "tags: [programing,python]  \n",
    "class: post-template  \n",
    "subclass: 'post tag-python'  \n",
    "author: chanp5660  \n",
    "---"
   ]
  },
  {
   "cell_type": "markdown",
   "id": "0b3b1c32-0772-44ac-876e-ebca18bcb8fc",
   "metadata": {},
   "source": [
    "# 너비 우선 탐색 BFS ; Breadth First Search\n",
    "\n",
    "> 기본적으로 ChatGPT를 이용하여 틀을 잡고 만든 것"
   ]
  },
  {
   "cell_type": "markdown",
   "id": "508fba98-bb88-4c13-8bad-91cc63c44a18",
   "metadata": {},
   "source": [
    "> 너비 우선 탐색  \n",
    "맹목적 탐색방법의 하나로 시작 정점을 방문한 후 시작 정점에 인접한 모든 정점들을 우선 방문하는 방법     \n",
    "더 이상 방문하지 않은 정점이 없을 때까지 방문하지 않은 모든 정점들에 대해서도 너비 우선 검색을 적용"
   ]
  },
  {
   "cell_type": "markdown",
   "id": "f893cb79-97fa-4a09-8728-0edcc78e6b0b",
   "metadata": {},
   "source": [
    "## 너비우선탐색 1 \n",
    "\n",
    "질문: bfs(graph, start) 무방향 그래프와 시작 정점 start를 나타내는 사전 그래프를 가져와서 방문한 정점 목록을 너비 우선 순서로 반환합니다.\n",
    "\n",
    " 그래프의 꼭짓점에 0에서 N-1까지의 정수 레이블이 지정되어 있다고 가정합니다. 여기서 N은 꼭짓점의 총 개수입니다. graph 사전은 리스트의 리스트로 표현되며, 여기서 graph[i]는 정점 i에 인접한 정점의 리스트입니다.\n",
    "\n",
    "For 예를 들어 정점이 0, 1, 2, 3이고 가장자리가 (0, 1), (0, 2), (1, 2), (2, 3)인 그래프는 [[ 1, 2], [0, 2], [0, 1, 3], [2]].\n",
    "\n",
    "그래프가 연결되어 있고 정점에 번호가 매겨져 있다고 가정할 수 있습니다. 0부터 순차적으로 시작합니다.\n"
   ]
  },
  {
   "cell_type": "code",
   "execution_count": 3,
   "id": "1f34e8d1-1f30-4a40-8329-0343eecb516d",
   "metadata": {},
   "outputs": [],
   "source": [
    "def bfs(graph, start):\n",
    "    # 방문 배열 생성 및 초기화\n",
    "    visited = [False] * len(graph)\n",
    "    # queue 배열 생성 및 방문할 노드 추가 start 추가\n",
    "    queue = [start]\n",
    "    # 첫 방문\n",
    "    visited[start] = True\n",
    "    # 방문한 리스트 작성, 순서 중요\n",
    "    result = []\n",
    "    \n",
    "    # 이제 방문할 노드가 없으면 그만 둔다.\n",
    "    while queue:\n",
    "        # 가장 먼저 들어간 노드 방문\n",
    "        vertex = queue.pop(0)\n",
    "        # 방문한 리스트에 방문한 노드 추가\n",
    "        result.append(vertex)\n",
    "        \n",
    "        # 방문한 노드에서 bfs 반복할 수 있도록 queue에 추가\n",
    "        for neighbor in graph[vertex]:\n",
    "            \n",
    "            # 방문하게 될 때 한번 방문 했던 곳은 또 방문하지 않는다.\n",
    "            if not visited[neighbor]:\n",
    "                # 방문한 노드에 True \n",
    "                visited[neighbor] = True\n",
    "                # 다음에 방문한 정점을 queue에 추가한다.\n",
    "                queue.append(neighbor) \n",
    "    return result"
   ]
  },
  {
   "cell_type": "code",
   "execution_count": 4,
   "id": "d5f8a6c5-ef8e-4797-8720-9fb210c35f21",
   "metadata": {},
   "outputs": [
    {
     "name": "stdout",
     "output_type": "stream",
     "text": [
      "[0, 1, 2, 3]\n"
     ]
    }
   ],
   "source": [
    "graph = [[1, 2], [0, 2], [0, 1, 3], [2]]\n",
    "start = 0\n",
    "print(bfs(graph, start)) # Output: [0, 1, 2, 3]"
   ]
  },
  {
   "cell_type": "markdown",
   "id": "7195758d-ff24-42bf-a8f8-7cebb70205af",
   "metadata": {},
   "source": [
    "- 알고리즘\n",
    "    1. 지금까지 방문한 정점을 추적하기 위해 방문한 목록을 초기화하는 것으로 시작 visited\n",
    "    2. 여전히 방문해야 하는 정점을 추적하기 위한 목록 대기열.  queue\n",
    "    3. 또한 빈 목록 result를 초기화하여 방문한 정점을 순서대로 저장\n",
    "    4. 먼저 시작 정점 start를 방문하여 대기열에 추가하여 방문한 것으로 표시\n",
    "    5. 대기열에 정점이 있는 한 계속되는 루프에 들어감 \n",
    "    6. 반복할 때마다 큐에서 다음 정점을 빼서 result 목록에 추가하고 이웃을 탐색\n",
    "    7. 방문하지 않은 각 이웃에 대해 방문한 것으로 표시하고 대기열에 추가한 다음 계속\n",
    "    8. 그래프에서 도달 가능한 모든 정점을 방문하면 방문한 정점 목록을 너비 우선 순서로 반환"
   ]
  }
 ],
 "metadata": {
  "kernelspec": {
   "display_name": "Python 3 (ipykernel)",
   "language": "python",
   "name": "python3"
  },
  "language_info": {
   "codemirror_mode": {
    "name": "ipython",
    "version": 3
   },
   "file_extension": ".py",
   "mimetype": "text/x-python",
   "name": "python",
   "nbconvert_exporter": "python",
   "pygments_lexer": "ipython3",
   "version": "3.7.13"
  }
 },
 "nbformat": 4,
 "nbformat_minor": 5
}
