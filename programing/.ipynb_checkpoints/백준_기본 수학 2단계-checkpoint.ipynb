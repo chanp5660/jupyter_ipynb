{
 "cells": [
  {
   "cell_type": "markdown",
   "id": "c21f45d9-e693-4767-8903-b4be737b3c49",
   "metadata": {},
   "source": [
    "---\n",
    "layout: post  \n",
    "current: post  \n",
    "cover:  assets/built/images/baekjoon-logo.png  \n",
    "navigation: True  \n",
    "title: 백준-단계별-기본 수학 2단계  \n",
    "date: 2022-07-22 13:39:00 +0900  \n",
    "tags: [programing]  \n",
    "class: post-template  \n",
    "subclass: 'post tag-python'  \n",
    "author: chanp5660  \n",
    "---"
   ]
  },
  {
   "cell_type": "markdown",
   "id": "0e4ae87c-5f81-4a94-8065-e8b4508c779c",
   "metadata": {},
   "source": [
    "# 백준-단계별-기본 수학 2단계  \n",
    "https://www.acmicpc.net/step/10"
   ]
  },
  {
   "cell_type": "markdown",
   "id": "06b7260f-c79e-402a-83c7-1284d2ab7ca3",
   "metadata": {},
   "source": [
    "- 기본 수학 2단계\n",
    "    - <a href=\"#2\">소수 찾기 (1-1978)</a>\n",
    "    - <a href=\"#3\">소수 (2-2581)</a>\n",
    "    - <a href=\"#4\">소인수분해 (3-11653)</a>\n",
    "    - <a href=\"#5\">소수 구하기 (4-1929)</a>\n",
    "    - <a href=\"#6\">베르트랑 공준 (5-4948)</a>\n",
    "    - <a href=\"#7\">골드바흐의 추측 (6-9020)</a>"
   ]
  },
  {
   "cell_type": "markdown",
   "id": "6a9ab4b4-33fe-4d17-8e4d-6fe18aeff4c7",
   "metadata": {},
   "source": [
    "# 기억해야하는 부분\n",
    "- 소수 확인 범위는 해당 숫자의 제곱근까지 나누어보면 된다.( 효율적 )\n",
    "- 소인수분해 부분에서 같은 숫자로 나누어지지 않을 때까지 하는 것이 핵심, 사람이 하는 것처럼"
   ]
  },
  {
   "cell_type": "markdown",
   "id": "fcb02fba-d6b6-4884-a8d6-383aa757dc72",
   "metadata": {},
   "source": [
    "<p id=\"2\"></p>\n",
    "\n",
    "## 소수 찾기 (1-1978)\n",
    "https://www.acmicpc.net/problem/1978"
   ]
  },
  {
   "cell_type": "markdown",
   "id": "3aa44b3f-5336-4c03-a702-bcfa802f16e6",
   "metadata": {},
   "source": [
    "- 문제  \n",
    "주어진 수 N개 중에서 소수가 몇 개인지 찾아서 출력하는 프로그램을 작성하시오.  \n",
    "\n",
    "- 입력  \n",
    "첫 줄에 수의 개수 N이 주어진다. N은 100이하이다. 다음으로 N개의 수가 주어지는데 수는 1,000 이하의 자연수이다.  \n",
    "\n",
    "- 출력  \n",
    "주어진 수들 중 소수의 개수를 출력한다.  \n",
    "\n",
    "- 예제 입력 1   \n",
    "4  \n",
    "1 3 5 7  \n",
    "- 예제 출력 1   \n",
    "3  "
   ]
  },
  {
   "cell_type": "code",
   "execution_count": 51,
   "id": "7270c52e-adc9-46dd-b20d-3e55b30ec36c",
   "metadata": {
    "tags": []
   },
   "outputs": [
    {
     "name": "stdout",
     "output_type": "stream",
     "text": [
      "2 3 5 7 11 13 17 19 23 29 31 37 41 43 47 53 59 61 67 71 73 79 83 89 97 "
     ]
    }
   ],
   "source": [
    "def Check_prime_number(num):\n",
    "    if num <= 1 : return 0 # 1 보다 큰 수 \n",
    "    # 소수란 1보다 큰 자연수 중 약수가 1과 자신인 것\n",
    "    half_num = num/2 # 본인의 반 안에 약수가 존재하으로 2로 나눈다.\n",
    "    half_num = int(half_num if half_num == int(half_num) else half_num+1) # 올림\n",
    "\n",
    "    for i in range(2,half_num+1): # half_num 본인도 포함해야 한다.\n",
    "        if not num%i: # 나누어 떨어지면 0 이므로 False\n",
    "            return 0\n",
    "    return 1 # 소수\n",
    "\n",
    "for i in range(1, 100):\n",
    "    if Check_prime_number(i):\n",
    "        print(i, end = \" \")\n",
    "        "
   ]
  },
  {
   "cell_type": "code",
   "execution_count": 31,
   "id": "53587f03-fca4-4bf1-bfde-a8a0693f1c91",
   "metadata": {},
   "outputs": [
    {
     "name": "stdin",
     "output_type": "stream",
     "text": [
      " 4\n",
      " 1 3 5 7\n"
     ]
    },
    {
     "name": "stdout",
     "output_type": "stream",
     "text": [
      "3\n"
     ]
    }
   ],
   "source": [
    "# 제출코드 \n",
    "def Check_prime_number(num):\n",
    "    if num <= 1 : return 0 # 1과 2를 제외한 짝수 제외\n",
    "    # 소수란 1보다 큰 자연수 중 약수가 1과 자신인 것\n",
    "    half_num = num/2 # 본인의 반 안에 약수가 존재하으로 2로 나눈다.\n",
    "    half_num = int(half_num if half_num == int(half_num) else half_num+1) # 올림\n",
    "\n",
    "    for i in range(2,half_num+1): # half_num 본인도 포함해야 한다.\n",
    "        if not num%i:# 나누어 떨어지면 0 이므로 False\n",
    "            return 0\n",
    "    return 1\n",
    "\n",
    "repeat_num = int(input())\n",
    "prime_count = 0\n",
    "INPUT_INT_list = [int(x) for x in input().split()] # map(int, input().split()) 같은 의미\n",
    "for i in range(repeat_num):\n",
    "    prime_count += Check_prime_number(INPUT_INT_list[i])\n",
    "print(prime_count)"
   ]
  },
  {
   "cell_type": "markdown",
   "id": "983bf63f-a05f-459b-99ec-40351bcedd13",
   "metadata": {},
   "source": [
    "<p id=\"3\"></p>\n",
    "\n",
    "## 소수 (2-2581)\n",
    "https://www.acmicpc.net/problem/2581"
   ]
  },
  {
   "cell_type": "markdown",
   "id": "7dbea5f3-8d4f-463c-a24d-5ee923b9c212",
   "metadata": {},
   "source": [
    "- 문제  \n",
    "자연수 M과 N이 주어질 때 M이상 N이하의 자연수 중 소수인 것을 모두 골라 이들 소수의 합과 최솟값을 찾는 프로그램을 작성하시오.  \n",
    "예를 들어 M=60, N=100인 경우 60이상 100이하의 자연수 중 소수는 61, 67, 71, 73, 79, 83, 89, 97 총 8개가 있으므로, 이들 소수의 합은 620이고, 최솟값은 61이 된다.  \n",
    "\n",
    "- 입력  \n",
    "입력의 첫째 줄에 M이, 둘째 줄에 N이 주어진다.  \n",
    "M과 N은 10,000이하의 자연수이며, M은 N보다 작거나 같다.  \n",
    "\n",
    "- 출력  \n",
    "M이상 N이하의 자연수 중 소수인 것을 모두 찾아 첫째 줄에 그 합을, 둘째 줄에 그 중 최솟값을 출력한다.   \n",
    "단, M이상 N이하의 자연수 중 소수가 없을 경우는 첫째 줄에 -1을 출력한다.  \n",
    "\n",
    "- 예제 입력 1   \n",
    "60  \n",
    "100  \n",
    "- 예제 출력 1   \n",
    "620  \n",
    "61  \n",
    "- 예제 입력 2   \n",
    "64  \n",
    "65  \n",
    "- 예제 출력 2   \n",
    "-1  "
   ]
  },
  {
   "cell_type": "markdown",
   "id": "96ba51bd-2e7a-43e7-b576-8f1adc5e4b5b",
   "metadata": {},
   "source": [
    "- 나만의 해석 \n",
    "    - 앞 선 문제인 소수 찾기 (1-1978)에서 만든 함수를 이용한다.\n",
    "    - 단, M이상 N이하의 자연수 중 소수가 없을 경우는 첫째 줄에 -1을 출력한다. 해당 문구에 대한 조건문을 꼭 넣어준다."
   ]
  },
  {
   "cell_type": "code",
   "execution_count": 5,
   "id": "ac6fd8b0-e5b9-4608-9682-3cc351f27455",
   "metadata": {},
   "outputs": [
    {
     "name": "stdin",
     "output_type": "stream",
     "text": [
      " 60\n",
      " 100\n"
     ]
    },
    {
     "name": "stdout",
     "output_type": "stream",
     "text": [
      "620\n",
      "61\n"
     ]
    }
   ],
   "source": [
    "# 제출코드 \n",
    "def Check_prime_number(num):\n",
    "    if num <= 1 : return 0 # 1과 2를 제외한 짝수 제외\n",
    "    # 소수란 1보다 큰 자연수 중 약수가 1과 자신인 것\n",
    "    half_num = num/2 # 본인의 반 안에 약수가 존재하으로 2로 나눈다.\n",
    "    half_num = int(half_num if half_num == int(half_num) else half_num+1) # 올림\n",
    "\n",
    "    for i in range(2,half_num+1): # half_num 본인도 포함해야 한다.\n",
    "        if not num%i:# 나누어 떨어지면 0 이므로 False\n",
    "            return 0\n",
    "    return 1\n",
    "\n",
    "M = int(input())\n",
    "N = int(input())\n",
    "\n",
    "prime_list = []\n",
    "\n",
    "for i in range(M,N+1):\n",
    "    if Check_prime_number(i) == 1:\n",
    "        prime_list.append(i)\n",
    "        \n",
    "if len(prime_list) == 0 : print(-1)\n",
    "else:\n",
    "    print(sum(prime_list))\n",
    "    print(min(prime_list))\n"
   ]
  },
  {
   "cell_type": "markdown",
   "id": "01bddb13-b2cd-48a6-8fce-42b39631d442",
   "metadata": {},
   "source": [
    "<p id=\"4\"></p>\n",
    "\n",
    "## 소인수분해 (3-11653)\n",
    "https://www.acmicpc.net/problem/11653"
   ]
  },
  {
   "cell_type": "markdown",
   "id": "6e1fb2fb-9aaf-4d1c-a7bf-aed34f480eab",
   "metadata": {},
   "source": [
    "- 문제  \n",
    "정수 N이 주어졌을 때, 소인수분해하는 프로그램을 작성하시오.  \n",
    "\n",
    "- 입력  \n",
    "첫째 줄에 정수 N (1 ≤ N ≤ 10,000,000)이 주어진다.  \n",
    "\n",
    "- 출력  \n",
    "N의 소인수분해 결과를 한 줄에 하나씩 오름차순으로 출력한다. N이 1인 경우 아무것도 출력하지 않는다.  \n",
    "\n",
    "- 예제 입력 1   \n",
    "72  \n",
    "- 예제 출력 1   \n",
    "2  \n",
    "2  \n",
    "2  \n",
    "3  \n",
    "3  \n",
    "- 예제 입력 2   \n",
    "3  \n",
    "- 예제 출력 2   \n",
    "3  \n",
    "- 예제 입력 3   \n",
    "6  \n",
    "- 예제 출력 3   \n",
    "2  \n",
    "3  \n",
    "- 예제 입력 4   \n",
    "2  \n",
    "- 예제 출력 4   \n",
    "2  \n",
    "- 예제 입력 5   \n",
    "9991  \n",
    "- 예제 출력 5   \n",
    "97  \n",
    "103  "
   ]
  },
  {
   "cell_type": "markdown",
   "id": "31f17f01-29eb-42a7-9d59-9b1b8079b3e4",
   "metadata": {},
   "source": [
    "- 나만의 해석\n",
    "    - 입력된 수보다 2부터 1/2 작은 상태일 때까지 나누어지지 않으면 끝이 난다.\n",
    "    - 작은 숫자부터 높여가며 나누어지지 않을때까지 while 문을 통해 반복해 진행한다."
   ]
  },
  {
   "cell_type": "code",
   "execution_count": 20,
   "id": "6cd99561-4ad4-4f41-b7bc-f6881d251331",
   "metadata": {},
   "outputs": [
    {
     "name": "stdout",
     "output_type": "stream",
     "text": [
      "2\n",
      "2\n",
      "2\n",
      "3\n",
      "3\n"
     ]
    }
   ],
   "source": [
    "#N = int(input())\n",
    "N = 72\n",
    "\n",
    "M = 2 # 나눌 수\n",
    "\n",
    "while N != 1: # 입력값이 1이 될 때까지 아래와 같은 과정을 반복한다.\n",
    "    if N % M == 0 : # 나누어떨어지면\n",
    "        print(M) # 나누어떨어지는 수는 소수인 인수이다.\n",
    "        N = N // M # M 으로 나눈 몫을 저장하여 N이 1이 될때까지 반복한다.\n",
    "    else:\n",
    "        M += 1 # M으로 나누어지지 않는다면 1 증가하여 나눈다."
   ]
  },
  {
   "cell_type": "markdown",
   "id": "20e89e2f-4b2e-45b0-9346-1b6c2d8db9b7",
   "metadata": {},
   "source": [
    "<p id=\"5\"></p>\n",
    "\n",
    "## 소수 구하기 (4-1929)\n",
    "https://www.acmicpc.net/problem/1929"
   ]
  },
  {
   "cell_type": "markdown",
   "id": "dfd78f67-e19d-4007-b90a-a1be50482e54",
   "metadata": {},
   "source": [
    "- 문제  \n",
    "M이상 N이하의 소수를 모두 출력하는 프로그램을 작성하시오.  \n",
    "\n",
    "- 입력  \n",
    "첫째 줄에 자연수 M과 N이 빈 칸을 사이에 두고 주어진다. (1 ≤ M ≤ N ≤ 1,000,000) M이상 N이하의 소수가 하나 이상 있는 입력만 주어진다.  \n",
    "\n",
    "- 출력  \n",
    "한 줄에 하나씩, 증가하는 순서대로 소수를 출력한다.  \n",
    "\n",
    "- 예제 입력 1   \n",
    "3 16  \n",
    "- 예제 출력 1   \n",
    "3  \n",
    "5  \n",
    "7  \n",
    "11  \n",
    "13  "
   ]
  },
  {
   "cell_type": "markdown",
   "id": "e4a56275-8ffb-4cd9-8ce4-f317a98a1a14",
   "metadata": {},
   "source": [
    "- 나만의 해석\n",
    "    - 반복해서 직접 구하는 코드는 시간초과가 발생하므로 최소한으로 확인하는 코드로 작성해야한다.\n",
    "    - **핵심!!!** 소수구하기의 범위는 해당 수의 제곱근 범위까지만 나누어 확인해주면 된다. 그러면 계산 양이 확 줄어든다."
   ]
  },
  {
   "cell_type": "code",
   "execution_count": 12,
   "id": "c29cc6b2-8c24-43b9-a891-1c8cee72ff37",
   "metadata": {},
   "outputs": [
    {
     "name": "stdout",
     "output_type": "stream",
     "text": [
      "3\n",
      "5\n",
      "7\n",
      "11\n",
      "13\n"
     ]
    }
   ],
   "source": [
    "# 제출코드 \n",
    "#M,N = map(int,input().split())\n",
    "M = 3\n",
    "N = 16\n",
    "\n",
    "def isPrime(num):\n",
    "    if num == 1 : return False # 1이면 소수가 아니므로 Fasle 출력한다.\n",
    "    \n",
    "    Last_num = int(num**(1/2))\n",
    "    \n",
    "    for i in range(2,Last_num+1):\n",
    "        if num % i == 0:\n",
    "            return False\n",
    "    return True\n",
    "\n",
    "for i in range(M,N+1):\n",
    "    if isPrime(i):\n",
    "        print(i)\n"
   ]
  },
  {
   "cell_type": "markdown",
   "id": "dc56abbf-8097-4b5a-a21c-d57b429ad4cf",
   "metadata": {},
   "source": [
    "<p id=\"6\"></p>\n",
    "\n",
    "## 베르트랑 공준 (5-4948)\n",
    "https://www.acmicpc.net/problem/4948"
   ]
  },
  {
   "cell_type": "markdown",
   "id": "da82f0a5-c4ca-4123-9914-5872944b00ca",
   "metadata": {},
   "source": [
    "- 문제  \n",
    "베르트랑 공준은 임의의 자연수 n에 대하여, n보다 크고, 2n보다 작거나 같은 소수는 적어도 하나 존재한다는 내용을 담고 있다.  \n",
    "이 명제는 조제프 베르트랑이 1845년에 추측했고, 파프누티 체비쇼프가 1850년에 증명했다.  \n",
    "예를 들어, 10보다 크고, 20보다 작거나 같은 소수는 4개가 있다. (11, 13, 17, 19) 또, 14보다 크고, 28보다 작거나 같은 소수는 3개가 있다. (17,19, 23)  \n",
    "자연수 n이 주어졌을 때, n보다 크고, 2n보다 작거나 같은 소수의 개수를 구하는 프로그램을 작성하시오.   \n",
    "\n",
    "- 입력  \n",
    "입력은 여러 개의 테스트 케이스로 이루어져 있다. 각 케이스는 n을 포함하는 한 줄로 이루어져 있다.  \n",
    "입력의 마지막에는 0이 주어진다.  \n",
    "\n",
    "- 출력  \n",
    "각 테스트 케이스에 대해서, n보다 크고, 2n보다 작거나 같은 소수의 개수를 출력한다.  \n",
    "\n",
    "- 제한  \n",
    "1 ≤ n ≤ 123,456  \n",
    "\n",
    "- 예제 입력 1   \n",
    "1  \n",
    "10  \n",
    "13  \n",
    "100  \n",
    "1000  \n",
    "10000  \n",
    "100000  \n",
    "0  \n",
    "\n",
    "- 예제 출력 1   \n",
    "1  \n",
    "4  \n",
    "3  \n",
    "21  \n",
    "135  \n",
    "1033  \n",
    "8392  "
   ]
  },
  {
   "cell_type": "markdown",
   "id": "7594c106-cacd-4fd8-bb90-aba698dbf7fc",
   "metadata": {},
   "source": [
    "- 주의 깊게 봐야하는 것\n",
    "    - 0이 되면 종료\n",
    "    - n 초과 2n 이하"
   ]
  },
  {
   "cell_type": "code",
   "execution_count": 1,
   "id": "744612d3-e11f-4420-bd46-5bbdd1d9a7b8",
   "metadata": {},
   "outputs": [
    {
     "name": "stdin",
     "output_type": "stream",
     "text": [
      " 1\n"
     ]
    },
    {
     "name": "stdout",
     "output_type": "stream",
     "text": [
      "1\n"
     ]
    },
    {
     "name": "stdin",
     "output_type": "stream",
     "text": [
      " 10\n"
     ]
    },
    {
     "name": "stdout",
     "output_type": "stream",
     "text": [
      "4\n"
     ]
    },
    {
     "name": "stdin",
     "output_type": "stream",
     "text": [
      " 13\n"
     ]
    },
    {
     "name": "stdout",
     "output_type": "stream",
     "text": [
      "3\n"
     ]
    },
    {
     "name": "stdin",
     "output_type": "stream",
     "text": [
      " 100\n"
     ]
    },
    {
     "name": "stdout",
     "output_type": "stream",
     "text": [
      "21\n"
     ]
    },
    {
     "name": "stdin",
     "output_type": "stream",
     "text": [
      " 1000\n"
     ]
    },
    {
     "name": "stdout",
     "output_type": "stream",
     "text": [
      "135\n"
     ]
    },
    {
     "name": "stdin",
     "output_type": "stream",
     "text": [
      " 10000\n"
     ]
    },
    {
     "name": "stdout",
     "output_type": "stream",
     "text": [
      "1033\n"
     ]
    },
    {
     "name": "stdin",
     "output_type": "stream",
     "text": [
      " 100000\n"
     ]
    },
    {
     "name": "stdout",
     "output_type": "stream",
     "text": [
      "8392\n"
     ]
    },
    {
     "name": "stdin",
     "output_type": "stream",
     "text": [
      " 0\n"
     ]
    }
   ],
   "source": [
    "def isPrime(num):\n",
    "    if num == 1 : return False # 1이면 소수가 아니므로 Fasle 출력한다.\n",
    "    \n",
    "    Last_num = int(num**(1/2))\n",
    "    \n",
    "    for i in range(2,Last_num+1):\n",
    "        if num % i == 0:\n",
    "            return False\n",
    "    return True\n",
    "\n",
    "n = int(input())\n",
    "#n = 1\n",
    "\n",
    "while n != 0:\n",
    "    count_prime = 0\n",
    "    for i in range(n+1,2*n+1):\n",
    "        if isPrime(i):count_prime+=1\n",
    "    print(count_prime)\n",
    "    n = int(input())"
   ]
  },
  {
   "cell_type": "markdown",
   "id": "10a9dbb5-6785-4456-a1fc-c25d0a6be719",
   "metadata": {},
   "source": [
    "- 시간초과로 인해 최대까지 소수를 미리 구하는 방법으로 최대한 반복을 제외하고 진행했다.\n",
    "- 미리 구하는 범위에서 소수는 n의 범위가 아닌 2\\*n 까지 구해주어야 한다."
   ]
  },
  {
   "cell_type": "code",
   "execution_count": 10,
   "id": "f8be3723-4241-484b-a954-0f5bf39f1f47",
   "metadata": {},
   "outputs": [
    {
     "name": "stdin",
     "output_type": "stream",
     "text": [
      " 100000\n"
     ]
    },
    {
     "name": "stdout",
     "output_type": "stream",
     "text": [
      "8392\n"
     ]
    },
    {
     "name": "stdin",
     "output_type": "stream",
     "text": [
      " 0\n"
     ]
    }
   ],
   "source": [
    "# 제출코드 \n",
    "def isPrime(num):\n",
    "    if num == 1 : return False # 1이면 소수가 아니므로 Fasle 출력한다.\n",
    "    \n",
    "    Last_num = int(num**(1/2))\n",
    "    \n",
    "    for i in range(2,Last_num+1):\n",
    "        if num % i == 0:\n",
    "            return False\n",
    "    return True\n",
    "\n",
    "# 제한 1 ≤ n ≤ 123,456\n",
    "prime_list = []\n",
    "max_limit = 123456*2+1\n",
    "for i in range(2,max_limit):\n",
    "    if isPrime(i):\n",
    "        prime_list.append(i)\n",
    "\n",
    "\n",
    "while True:\n",
    "    n = int(input())\n",
    "    if n == 0 : break\n",
    "    \n",
    "    check_prime = [1 if x > n and x <= 2*n else 0 for x in prime_list]\n",
    "    print(sum(check_prime))\n",
    "  "
   ]
  },
  {
   "cell_type": "markdown",
   "id": "f099863b-0608-4098-bf50-852435b8f5ad",
   "metadata": {},
   "source": [
    "<p id=\"7\"></p>\n",
    "\n",
    "## 골드바흐의 추측 (6-9020)\n",
    "https://www.acmicpc.net/problem/9020"
   ]
  },
  {
   "cell_type": "markdown",
   "id": "8f7462be-cad8-41ce-bb9a-95597bd0fa39",
   "metadata": {},
   "source": [
    "- 문제  \n",
    "1보다 큰 자연수 중에서  1과 자기 자신을 제외한 약수가 없는 자연수를 소수라고 한다. 예를 들어, 5는 1과 5를 제외한 약수가 없기 때문에 소수이다. 하지만, 6은 6 = 2 × 3 이기 때문에 소수가 아니다.  \n",
    "골드바흐의 추측은 유명한 정수론의 미해결 문제로, 2보다 큰 모든 짝수는 두 소수의 합으로 나타낼 수 있다는 것이다. 이러한 수를 골드바흐 수라고 한다. 또, 짝수를 두 소수의 합으로 나타내는 표현을 그 수의 골드바흐 파티션이라고 한다. 예를 들면, 4 = 2 + 2, 6 = 3 + 3, 8 = 3 + 5, 10 = 5 + 5, 12 = 5 + 7, 14 = 3 + 11, 14 = 7 + 7이다. 10000보다 작거나 같은 모든 짝수 n에 대한 골드바흐 파티션은 존재한다.  \n",
    "2보다 큰 짝수 n이 주어졌을 때, n의 골드바흐 파티션을 출력하는 프로그램을 작성하시오. 만약 가능한 n의 골드바흐 파티션이 여러 가지인 경우에는 두 소수의 차이가 가장 작은 것을 출력한다.  \n",
    "\n",
    "- 입력  \n",
    "첫째 줄에 테스트 케이스의 개수 T가 주어진다. 각 테스트 케이스는 한 줄로 이루어져 있고 짝수 n이 주어진다.  \n",
    "\n",
    "- 출력  \n",
    "각 테스트 케이스에 대해서 주어진 n의 골드바흐 파티션을 출력한다. 출력하는 소수는 작은 것부터 먼저 출력하며, 공백으로 구분한다.  \n",
    "\n",
    "- 제한  \n",
    "4 ≤ n ≤ 10,000  \n",
    "\n",
    "- 예제 입력 1   \n",
    "3  \n",
    "8  \n",
    "10  \n",
    "16  \n",
    "\n",
    "- 예제 출력 1   \n",
    "3 5  \n",
    "5 5  \n",
    "5 11  "
   ]
  },
  {
   "cell_type": "markdown",
   "id": "bac5a181-b34f-470b-9e6b-03908d1ed606",
   "metadata": {},
   "source": [
    "- 중요한 부분\n",
    "    - 2보다 큰 짝수 n이 주어졌을 때, n의 골드바흐 파티션을 출력하는 프로그램을 작성\n",
    "    - 가능한 n의 골드바흐 파티션이 여러 가지인 경우에는 두 소수의 차이가 가장 작은 것을 출력"
   ]
  },
  {
   "cell_type": "code",
   "execution_count": 13,
   "id": "4a2e6c8c-d504-4279-9f39-1e623a3e8f51",
   "metadata": {},
   "outputs": [
    {
     "name": "stdout",
     "output_type": "stream",
     "text": [
      "3 5\n"
     ]
    }
   ],
   "source": [
    "def isPrime(num):\n",
    "    if num == 1 : return False # 1이면 소수가 아니므로 Fasle 출력한다.\n",
    "    \n",
    "    Last_num = int(num**(1/2))\n",
    "    \n",
    "    for i in range(2,Last_num+1):\n",
    "        if num % i == 0:\n",
    "            return False\n",
    "    return True\n",
    "\n",
    "\n",
    "# 제한 4 ≤ n ≤ 10,000\n",
    "prime_list = []\n",
    "for i in range(2,10001):\n",
    "    if isPrime(i):\n",
    "        prime_list.append(i)\n",
    "\n",
    "# T 입력, 테스트 개수\n",
    "# T = int(input())\n",
    "T = 3\n",
    "\n",
    "# N = int(input())\n",
    "N = 8\n",
    "diff_min = 10000\n",
    "goldbarh = []\n",
    "for x in prime_list:\n",
    "    for y in prime_list:\n",
    "        diff_tmp = abs(x-y)\n",
    "        if x+y == N and diff_min > diff_tmp :\n",
    "            diff_min = diff_tmp\n",
    "            goldbarh = [x,y]\n",
    "            \n",
    "print(*[x for x in goldbarh])"
   ]
  },
  {
   "cell_type": "code",
   "execution_count": 15,
   "id": "dbc6b050-7758-4bea-aaa6-f2e443bdb971",
   "metadata": {},
   "outputs": [
    {
     "name": "stdin",
     "output_type": "stream",
     "text": [
      " 3\n",
      " 8\n"
     ]
    },
    {
     "name": "stdout",
     "output_type": "stream",
     "text": [
      "3 5\n"
     ]
    },
    {
     "name": "stdin",
     "output_type": "stream",
     "text": [
      " 10\n"
     ]
    },
    {
     "name": "stdout",
     "output_type": "stream",
     "text": [
      "5 5\n"
     ]
    },
    {
     "name": "stdin",
     "output_type": "stream",
     "text": [
      " 16\n"
     ]
    },
    {
     "name": "stdout",
     "output_type": "stream",
     "text": [
      "5 11\n"
     ]
    }
   ],
   "source": [
    "# 제출코드\n",
    "def isPrime(num):\n",
    "    if num == 1 : return False # 1이면 소수가 아니므로 Fasle 출력한다.\n",
    "    \n",
    "    Last_num = int(num**(1/2))\n",
    "    \n",
    "    for i in range(2,Last_num+1):\n",
    "        if num % i == 0:\n",
    "            return False\n",
    "    return True\n",
    "\n",
    "\n",
    "# 제한 4 ≤ n ≤ 10,000\n",
    "prime_list = []\n",
    "for i in range(2,10001):\n",
    "    if isPrime(i):\n",
    "        prime_list.append(i)\n",
    "\n",
    "# T 입력, 테스트 개수\n",
    "T = int(input())\n",
    "\n",
    "for i in range(T):\n",
    "    N = int(input())\n",
    "    tmp_prime_list = [x for x in prime_list if x<=N]\n",
    "    diff_min = 10000\n",
    "    goldbarh = []\n",
    "    for x in tmp_prime_list:\n",
    "        for y in tmp_prime_list:\n",
    "            diff_tmp = abs(x-y)\n",
    "            if x+y == N and diff_min > diff_tmp :\n",
    "                diff_min = diff_tmp\n",
    "                goldbarh = [x,y]\n",
    "\n",
    "    print(*[x for x in goldbarh])"
   ]
  },
  {
   "cell_type": "markdown",
   "id": "9d8db501-b9ed-4824-93bc-f7ea9b36e0ef",
   "metadata": {},
   "source": [
    "- 시간초과 발생\n",
    "    - 소수 합을 구하는 과정이 T 만큼 반복돼서 생기는 문제인 것 같다.\n",
    "    - T 시간동안 한번만 돌아가도 구할 수 있도록 dict 를 이용해본다."
   ]
  },
  {
   "cell_type": "code",
   "execution_count": 20,
   "id": "8bec8da4-4c7b-4ca5-8bd2-ddfb676ea8d2",
   "metadata": {},
   "outputs": [
    {
     "name": "stdin",
     "output_type": "stream",
     "text": [
      " 3\n",
      " 8\n",
      " 10\n",
      " 16\n"
     ]
    },
    {
     "name": "stdout",
     "output_type": "stream",
     "text": [
      "3 5\n",
      "5 5\n",
      "5 11\n"
     ]
    }
   ],
   "source": [
    "# 제출코드\n",
    "def isPrime(num):\n",
    "    if num == 1 : return False # 1이면 소수가 아니므로 Fasle 출력한다.\n",
    "    \n",
    "    Last_num = int(num**(1/2))\n",
    "    \n",
    "    for i in range(2,Last_num+1):\n",
    "        if num % i == 0:\n",
    "            return False\n",
    "    return True\n",
    "\n",
    "\n",
    "# 제한 4 ≤ n ≤ 10,000\n",
    "prime_list = []\n",
    "for i in range(2,10001):\n",
    "    if isPrime(i):\n",
    "        prime_list.append(i)\n",
    "\n",
    "# T 입력, 테스트 개수\n",
    "T = int(input())\n",
    "N = list()\n",
    "for i in range(T):\n",
    "    N.append(int(input()))\n",
    "             \n",
    "# result_list : 각 T의 diff_min 과 goldbarh를 저장하여 한번의 for문 반복으로 문제를 해결한다.\n",
    "result_list = list()\n",
    "\n",
    "for i in range(T):\n",
    "    result_list.append({\"diff_min\":10000,\"goldbarh\":[]})\n",
    "\n",
    "\n",
    "# 입력 받은 N의 값 중 최대로 소수 범위 조정             \n",
    "prime_list = [x for x in prime_list if x<=max(N)]\n",
    "\n",
    "for x in prime_list:\n",
    "\n",
    "    for y in prime_list:\n",
    "        diff_tmp = abs(x-y)\n",
    "\n",
    "        for z in range(T):\n",
    "            if x+y == N[z] and result_list[z][\"diff_min\"] > diff_tmp :\n",
    "                result_list[z][\"diff_min\"] = diff_tmp\n",
    "                result_list[z][\"goldbarh\"] = [x,y]\n",
    "\n",
    "for i in result_list:\n",
    "    print(*[x for x in i[\"goldbarh\"]])"
   ]
  },
  {
   "cell_type": "markdown",
   "id": "2eebd47d-da67-4d86-8913-1d8b59a6783b",
   "metadata": {},
   "source": [
    "- 시간초과 발생\n",
    "    - **가능한 n의 골드바흐 파티션이 여러 가지인 경우에는 두 소수의 차이가 가장 작은 것을 출력**하는 것이면  \n",
    "    n/2 부터 내려가는 방법으로 찾고 찾으면 바로 출력하는 방법으로 비교 횟수를 줄여야겠다.\n",
    "    \n",
    "- 추후 여러가지 시도 실패 후 [구글링](https://velog.io/@jieuihong/%EB%B0%B1%EC%A4%80-9020-%EA%B3%A8%EB%93%9C%EB%B0%94%ED%9D%90%EC%9D%98-%EC%B6%94%EC%B8%A1%EC%8B%A4%EB%B2%841-Python)\n",
    "    - 찾은 방법이 여러가지 있었지만 지금까지 해온 코드 방향과 가장 비슷한 코드 방법으로 가져왔다.\n",
    "    - 신기한 방법으로는 에라토스테네스의 체 를 이용한 방법도 있었다.   \n",
    "    \n",
    "- 방법 설명\n",
    "    - N/2 부분에서 좌우 +1,-1로 멀어지면서 소수인지 확인하면서 합이 맞으면 출력한다.\n",
    "    \n",
    "- 기존 코드에 활용하는 방법\n",
    "    - 결과 두개의 값은 N/2 와의 차이가 같으므로 인덱스를 하나씩 줄이고 늘리고 하면서 확인하면 괜찮을 것 같다."
   ]
  },
  {
   "cell_type": "code",
   "execution_count": 1,
   "id": "41a8d7f9-36ea-46e4-9489-fe9f42a8c7d2",
   "metadata": {},
   "outputs": [
    {
     "name": "stdin",
     "output_type": "stream",
     "text": [
      " 3\n",
      " 8\n"
     ]
    },
    {
     "name": "stdout",
     "output_type": "stream",
     "text": [
      "3 5\n"
     ]
    },
    {
     "name": "stdin",
     "output_type": "stream",
     "text": [
      " 10\n"
     ]
    },
    {
     "name": "stdout",
     "output_type": "stream",
     "text": [
      "5 5\n"
     ]
    },
    {
     "name": "stdin",
     "output_type": "stream",
     "text": [
      " 16\n"
     ]
    },
    {
     "name": "stdout",
     "output_type": "stream",
     "text": [
      "5 11\n"
     ]
    }
   ],
   "source": [
    "# 제출코드\n",
    "def isPrime(num):\n",
    "    if num == 1 : return False # 1이면 소수가 아니므로 Fasle 출력한다.\n",
    "    \n",
    "    Last_num = int(num**(1/2))\n",
    "    \n",
    "    for i in range(2,Last_num+1):\n",
    "        if num % i == 0:\n",
    "            return False\n",
    "    return True\n",
    "\n",
    "\n",
    "# T 입력, 테스트 개수\n",
    "T = int(input())\n",
    "\n",
    "for i in range(T):\n",
    "    N = int(input())\n",
    "    \n",
    "    half_N_a = half_N_b = N//2\n",
    "    while True:\n",
    "        if isPrime(half_N_a) and isPrime(half_N_b):\n",
    "            print(half_N_a,half_N_b)\n",
    "            break\n",
    "        else:\n",
    "            half_N_a-=1\n",
    "            half_N_b+=1\n",
    "        "
   ]
  }
 ],
 "metadata": {
  "kernelspec": {
   "display_name": "Python 3 (ipykernel)",
   "language": "python",
   "name": "python3"
  },
  "language_info": {
   "codemirror_mode": {
    "name": "ipython",
    "version": 3
   },
   "file_extension": ".py",
   "mimetype": "text/x-python",
   "name": "python",
   "nbconvert_exporter": "python",
   "pygments_lexer": "ipython3",
   "version": "3.7.13"
  }
 },
 "nbformat": 4,
 "nbformat_minor": 5
}
