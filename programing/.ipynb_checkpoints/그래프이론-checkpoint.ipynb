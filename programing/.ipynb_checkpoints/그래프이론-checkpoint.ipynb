{
 "cells": [
  {
   "cell_type": "markdown",
   "id": "1dac9b17-de8b-4f1a-a393-c126ce684f5c",
   "metadata": {
    "tags": []
   },
   "source": [
    "---\n",
    "layout: post  \n",
    "current: post  \n",
    "cover:  assets/built/images/그래프이론.png  \n",
    "navigation: True  \n",
    "title: 그래프이론  \n",
    "date: 2023-02-28 00:00:00 +0900  \n",
    "tags: [programing,python]  \n",
    "class: post-template  \n",
    "subclass: 'post tag-python'  \n",
    "author: chanp5660  \n",
    "---"
   ]
  },
  {
   "cell_type": "markdown",
   "id": "769f954d-46c9-41f7-afcf-9ebcc978af3a",
   "metadata": {},
   "source": [
    "# 그래프이론\n",
    "\n",
    "> 기본적으로 ChatGPT를 이용하여 틀을 잡고 만든 것"
   ]
  },
  {
   "cell_type": "markdown",
   "id": "9464650e-764b-4080-89ef-f96a1fa67141",
   "metadata": {},
   "source": [
    "1. [BFS,너비우선탐색](https://chanp5660.github.io/너비우선탐색)\n",
    "2. [DFS,깊이우선탐색](https://chanp5660.github.io/깊이우선탐색)\n",
    "3. 최단 경로\n",
    "4. 최소 스패닝 트리\n",
    "5. [연결된 구성요소](https://chanp5660.github.io/연결된구성요소)\n",
    "6. 토폴로지 정렬\n",
    "7. 최대 흐름\n",
    "8. Eulerian Path/Circuit\n",
    "9. 이분 그래프\n",
    "10. Hamiltonian Path/Circuit\n",
    "11. 그래프 색상 지정\n",
    "12. 여행하는 세일즈맨 문제"
   ]
  },
  {
   "cell_type": "markdown",
   "id": "7989b5eb-c0a4-4e38-b40c-c71129701767",
   "metadata": {},
   "source": [
    "1. 최단 경로: 가중 간선이 있는 그래프에서 두 정점 사이의 최단 경로를 찾습니다. 이에 대한 일반적인 알고리즘에는 Dijkstra의 알고리즘과 Bellman-Ford 알고리즘이 포함됩니다.\n",
    "\n",
    "2. 최소 스패닝 트리: 가중 에지가 있는 그래프가 주어지면 다음의 하위 집합인 최소 스패닝 트리를 찾습니다. 모든 정점을 최소 총 가중치로 연결하는 모서리. 이에 대한 일반적인 알고리즘에는 Kruskal의 알고리즘과 Prim의 알고리즘이 포함됩니다.\n",
    "\n",
    "3. 연결된 구성요소: 그래프가 주어졌을 때 모든 정점이 서로 연결되어 있는 하위 그래프인 모든 연결된 구성요소를 찾습니다. . 이것은 깊이 우선 또는 너비 우선 검색으로 해결할 수 있습니다.\n",
    "\n",
    "4. 토폴로지 정렬: 방향성 비순환 그래프가 주어지면 정점의 방향을 유지하는 방식으로 정점을 정렬합니다. 가장자리. 이는 Kahn의 알고리즘이나 깊이 우선 검색을 사용하여 수행할 수 있습니다.\n",
    "\n",
    "5. 최대 흐름: 가장자리에 용량이 있는 그래프가 주어지면 보낼 수 있는 최대 흐름량을 찾습니다. 소스 정점에서 싱크 정점으로. 이는 Ford-Fulkerson 알고리즘 또는 Edmonds-Karp 알고리즘을 사용하여 해결할 수 있습니다.\n",
    "\n",
    "6. Eulerian Path/Circuit: 주어진 그래프에서 모든 에지를 정확히 가로지르는 경로 또는 회로를 찾습니다. 한 번. 그래프에 차수가 홀수인 정점이 정확히 두 개 있으면 오일러 경로가 존재하고, 모든 정점의 차수가 짝수이면 오일러 회로가 존재합니다. 이는 Fleury의 알고리즘 또는 Hierholzer의 알고리즘을 사용하여 해결할 수 있습니다.\n",
    "\n",
    "7. 이분 그래프: 무방향 그래프가 있을 때, 이분인지 확인합니다. 즉, 동일한 세트의 두 정점이 모서리로 연결되지 않도록 해당 정점을 두 세트로 나눌 수 있음을 의미합니다. 이는 깊이 우선 검색 또는 너비 우선 검색을 사용하여 해결할 수 있습니다.\n",
    "\n",
    "8. Hamiltonian Path/Circuit: 주어진 그래프에서 모든 정점을 정확히 방문하는 경로 또는 회로를 찾습니다. 한 번. 이것은 잘 알려진 NP-완전 문제이므로 일반적으로 이를 해결할 수 있는 효율적인 알고리즘은 알려져 있지 않습니다. 그러나 대략적인 솔루션을 찾는 데 사용할 수 있는 휴리스틱 알고리즘이 있습니다.\n",
    "\n",
    "9. 그래프 색상 지정: 무방향 그래프가 주어졌을 때 인접한 두 꼭지점이 서로 겹치지 않도록 꼭지점에 색상을 할당합니다. 가능한 최소한의 색상을 사용하여 동일한 색상. 이것은 잘 알려진 NP-완전 문제이기도 하지만 근사해를 찾는 데 사용할 수 있는 휴리스틱 알고리즘이 몇 가지 있습니다.\n",
    "\n",
    "10. 여행하는 세일즈맨 문제: 가중 에지, 모든 꼭짓점을 정확히 한 번 방문하는 가장 짧은 해밀턴 회로를 찾습니다. 이것은 잘 알려진 또 다른 NP-완전 문제이지만 이를 해결하는 데 사용할 수 있는 몇 가지 정확하고 근사한 알고리즘이 있습니다."
   ]
  }
 ],
 "metadata": {
  "kernelspec": {
   "display_name": "Python 3 (ipykernel)",
   "language": "python",
   "name": "python3"
  },
  "language_info": {
   "codemirror_mode": {
    "name": "ipython",
    "version": 3
   },
   "file_extension": ".py",
   "mimetype": "text/x-python",
   "name": "python",
   "nbconvert_exporter": "python",
   "pygments_lexer": "ipython3",
   "version": "3.7.13"
  }
 },
 "nbformat": 4,
 "nbformat_minor": 5
}
