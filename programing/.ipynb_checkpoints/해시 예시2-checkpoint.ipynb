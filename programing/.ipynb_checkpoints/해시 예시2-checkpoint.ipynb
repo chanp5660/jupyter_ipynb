{
 "cells": [
  {
   "cell_type": "markdown",
   "id": "c7a146ed-f408-4ba7-9229-6bf28c3fee3e",
   "metadata": {},
   "source": [
    "---\n",
    "layout: post  \n",
    "current: post  \n",
    "cover:  assets/built/images/Hash.png  \n",
    "navigation: True  \n",
    "title: Hash example 2  \n",
    "date: 2023-03-01 00:00:00 +0900  \n",
    "tags: [programing,python]  \n",
    "class: post-template  \n",
    "subclass: 'post tag-python'  \n",
    "author: chanp5660  \n",
    "---"
   ]
  },
  {
   "cell_type": "markdown",
   "id": "94a67422-2cc5-442f-9a9b-816e145f7e5d",
   "metadata": {},
   "source": [
    "# 해시 Hash 예시 2\n",
    "\n",
    "> 기본적으로 ChatGPT를 이용하여 틀을 잡고 만든 것"
   ]
  },
  {
   "cell_type": "markdown",
   "id": "474932d8-2d70-4fce-b8f6-e3980f5775e1",
   "metadata": {},
   "source": [
    "### 함수\n",
    "- 해시 테이블 생성\n",
    "    - 크기가 100인 배열 초기화 **__init__**\n",
    "- 해시 코드 생성 **hash_function**\n",
    "    - 각 문자의 아스키 코드 값을 합산\n",
    "- 삽입 함수\n",
    "    - 해시테이블의 주어진 해시 코드값을 인덱스로 **연결리스트**를 이용하여 삽입\n",
    "- 검색 함수\n",
    "    - 해시테이블에서 주어진 해시 코드값으로 인덱스로 연결리스트를 타고 주어진 키 값을 비교하면서 검색\n",
    "- 삭제 함수\n",
    "    - 검색함수와 과정은 비슷하나 enumerate를 사용하여 index도 같이 구해서 del 로 편하게 삭제"
   ]
  },
  {
   "cell_type": "code",
   "execution_count": 19,
   "id": "6ee5cda3-eb94-4936-9972-1d714f008e54",
   "metadata": {},
   "outputs": [],
   "source": [
    "class HashTable:\n",
    "    # 해시테이블 초기화\n",
    "    def __init__(self):\n",
    "        self.max_size = 100\n",
    "        self.table = [ [] for _ in range(self.max_size) ]\n",
    "    # 해시코드 생성\n",
    "    # 기준 : 아스키코드 합산\n",
    "    def get_hash_key(self, key):\n",
    "        hash_key = 0\n",
    "        for char in key:\n",
    "            hash_key += ord(char)\n",
    "        return hash_key % self.max_size\n",
    "    # 삽입 함수\n",
    "    # 연결리스트로 해시테블에 해당 인덱스에 추가 \n",
    "    def add(self, key, value):\n",
    "        hash_key = self.get_hash_key(key)\n",
    "        for index, item in enumerate(self.table[hash_key]):\n",
    "            if item[0] == key:\n",
    "                self.table[hash_key][index] = (key,value)\n",
    "                return\n",
    "        self.table[hash_key].append((key,value))\n",
    "        \n",
    "    # 검색 함수\n",
    "    # 해시테이블에서 키값의 해시코드를 찾아서 출력하거나 없으면 None 출력\n",
    "    def get(self,key):\n",
    "        hash_key = self.get_hash_key(key)\n",
    "        for item in self.table[hash_key]:\n",
    "            if item[0] == key:\n",
    "                return item[1]\n",
    "        return None\n",
    "    # 삭제 함수\n",
    "    def delete(self,key):\n",
    "        hash_key = self.get_hash_key(key)\n",
    "        for index, item in enumerate(self.table[hash_key]):\n",
    "            if item[0] == key:\n",
    "                del self.table[hash_key][index]\n",
    "                return"
   ]
  },
  {
   "cell_type": "code",
   "execution_count": 20,
   "id": "a9492164-030c-4502-85c4-23ecaafe0de1",
   "metadata": {},
   "outputs": [
    {
     "name": "stdout",
     "output_type": "stream",
     "text": [
      "(apple, 10) 삽입\n",
      "(banana, 20) 삽입\n",
      "(orange, 30) 삽입\n",
      "\n",
      "apple 검색 : 10\n",
      "grape 검색 : None\n",
      "\n",
      "apple 삭제\n",
      "\n",
      "apple 검색 : None\n"
     ]
    }
   ],
   "source": [
    "# 예시\n",
    "# 해시테이블 생성\n",
    "hash_table = HashTable()\n",
    "\n",
    "# 삽입\n",
    "print(\"(apple, 10) 삽입\")\n",
    "hash_table.add('apple', 10)\n",
    "print(\"(banana, 20) 삽입\")\n",
    "hash_table.add('banana', 20)\n",
    "print(\"(orange, 30) 삽입\")\n",
    "hash_table.add('orange', 30)\n",
    "print()\n",
    "\n",
    "# 검색\n",
    "print(\"apple 검색 :\",hash_table.get('apple')) # 10\n",
    "print(\"grape 검색 :\",hash_table.get('grape')) # None\n",
    "print()\n",
    "\n",
    "# 삭제\n",
    "print(\"apple 삭제\")\n",
    "hash_table.delete(\"apple\") # apple 삭제\n",
    "print()\n",
    "# 검색\n",
    "print(\"apple 검색 :\",hash_table.get('apple'))"
   ]
  }
 ],
 "metadata": {
  "kernelspec": {
   "display_name": "Python 3 (ipykernel)",
   "language": "python",
   "name": "python3"
  },
  "language_info": {
   "codemirror_mode": {
    "name": "ipython",
    "version": 3
   },
   "file_extension": ".py",
   "mimetype": "text/x-python",
   "name": "python",
   "nbconvert_exporter": "python",
   "pygments_lexer": "ipython3",
   "version": "3.7.13"
  }
 },
 "nbformat": 4,
 "nbformat_minor": 5
}
