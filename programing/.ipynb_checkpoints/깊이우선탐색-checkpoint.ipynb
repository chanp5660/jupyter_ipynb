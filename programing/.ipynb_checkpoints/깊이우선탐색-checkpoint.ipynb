{
 "cells": [
  {
   "cell_type": "markdown",
   "id": "25570136-b0b2-465f-b31b-3830cb0eae47",
   "metadata": {
    "tags": []
   },
   "source": [
    "---\n",
    "layout: post  \n",
    "current: post  \n",
    "cover:  assets/built/images/깊이우선탐색.png  \n",
    "navigation: True  \n",
    "title: 깊이우선탐색  \n",
    "date: 2023-02-28 00:00:00 +0900  \n",
    "tags: [programing,python]  \n",
    "class: post-template  \n",
    "subclass: 'post tag-python'  \n",
    "author: chanp5660  \n",
    "---"
   ]
  },
  {
   "cell_type": "markdown",
   "id": "0b3b1c32-0772-44ac-876e-ebca18bcb8fc",
   "metadata": {},
   "source": [
    "# 깊이 우선 탐색 DFS ; Depth First Search\n",
    "\n",
    "> 기본적으로 ChatGPT를 이용하여 틀을 잡고 만든 것"
   ]
  },
  {
   "cell_type": "markdown",
   "id": "508fba98-bb88-4c13-8bad-91cc63c44a18",
   "metadata": {},
   "source": [
    "> 깊이 우선 탐색  \n",
    "맹목적 탐색방법의 하나로 탐색트리의 최근에 첨가된 노드를 선택  \n",
    "이 노드에 적용 가능한 동작자 중 하나를 적용하여 트리에 다음 수준의 한 개의 자식노드를 첨가  \n",
    "첨가된 자식 노드가 목표노드일 때까지 앞의 자식 노드의 첨가 과정을 반복해 가는 방식"
   ]
  },
  {
   "cell_type": "markdown",
   "id": "6f9ca395-90ec-41ac-b6b6-b39a7dbab6ab",
   "metadata": {},
   "source": [
    "## 깊이 우선 탐색\n",
    "문제: dfs(graph, start) 함수를 작성하세요. 이 함수는 무방향 그래프를 나타내는 딕셔너리 graph와 시작 정점 start를 인자로 받습니다. 함수는 깊이 우선 순서대로 방문한 정점들의 리스트를 반환합니다.\n",
    "\n",
    "그래프의 정점들은 0부터 N-1까지의 정수 라벨링을 가지며, graph 딕셔너리는 리스트의 리스트로 표현됩니다. graph[i]는 정점 i에 인접한 정점들의 리스트입니다.\n",
    "\n",
    "예를 들어, 정점 라벨이 0, 1, 2, 3이고 간선이 (0, 1), (0, 2), (1, 2), (2, 3)인 그래프는 [[1, 2], [0, 2], [0, 1, 3], [2]]로 표현됩니다.\n",
    "\n",
    "그래프가 연결되어 있으며, 정점이 0부터 시작하여 순차적으로 라벨링됩니다."
   ]
  },
  {
   "cell_type": "markdown",
   "id": "c64612a7-5a74-49c9-871c-2b3b1d6968df",
   "metadata": {},
   "source": [
    "질문: dfs(graph, start) 함수 작성 )는 무방향 그래프와 시작 정점 start를 나타내는 사전 그래프를 가져옵니다. 함수는 깊이 우선 검색 알고리즘을 사용하여 방문 순서대로 방문한 정점 목록을 반환해야 합니다.\n",
    "\n",
    "그래프의 정점은 0에서 N-1까지 레이블이 지정되고 그래프 사전은 목록의 목록으로 표현됩니다. graph[i]는 정점 i에 인접한 정점 목록입니다.\n",
    "\n",
    "예를 들어 정점 레이블이 0, 1, 2, 3이고 가장자리가 (0, 1)인 그래프 , (0, 2), (1, 2), (2, 3)은 <코드>[[1, 2], [0, 2], [0, 1, 3], [2]]로 나타낼 수 있다. .\n",
    "\n",
    "그래프가 연결되고 꼭지점에 0부터 순차적으로 레이블이 지정됩니다."
   ]
  },
  {
   "cell_type": "markdown",
   "id": "1de690df-1521-4855-8394-66d100c2a8bf",
   "metadata": {},
   "source": []
  },
  {
   "cell_type": "code",
   "execution_count": null,
   "id": "19541b09-52f2-425c-88b2-89ca4f4ba808",
   "metadata": {},
   "outputs": [],
   "source": [
    "def dfs(graph, start):\n",
    "    visited = [False] * len(graph)\n",
    "    result = []\n",
    "    \n",
    "    def explore(vertex):\n",
    "        visited[vertex] = True\n",
    "        result.append(vertex)\n",
    "        \n",
    "        for neighbor in graph[vertex]:\n",
    "            if not visited[neighbor]:\n",
    "                explore(neighbor)\n",
    "    \n",
    "    explore(start)\n",
    "    return result"
   ]
  },
  {
   "cell_type": "code",
   "execution_count": null,
   "id": "f53cd681-ecd7-4b29-b251-0ec7770ae02d",
   "metadata": {},
   "outputs": [],
   "source": [
    "graph = [[1, 2], [0, 2], [0, 1, 3], [2]]\n",
    "start = 0\n",
    "print(dfs(graph, start)) # Output: [0, 1, 2, 3]"
   ]
  },
  {
   "cell_type": "markdown",
   "id": "c93b04d4-04ee-4231-9bf0-8f7af7bb2a0a",
   "metadata": {},
   "source": [
    "In this solution, we initialize a visited list to keep track of the visited vertices, and a result list to store the vertices in the order they are visited using DFS.\n",
    "\n",
    "To start the search, we define an inner function explore that takes a vertex as an argument and visits it. The explore function marks the vertex as visited in the visited list, appends it to the result list, and then recursively calls itself for each unvisited neighbor of the vertex.\n",
    "\n",
    "Finally, we call the explore function on the starting vertex start and return the result list.\n",
    "\n",
    "So, the dfs function returns the list of visited vertices in the order of their visit using DFS."
   ]
  },
  {
   "cell_type": "markdown",
   "id": "797125db-99fa-4c3a-8477-c7d75e767202",
   "metadata": {},
   "source": [
    "이 솔루션에서는 방문한 목록을 초기화하여 방문한 정점을 추적하고 결과< /code> DFS를 사용하여 방문한 순서대로 꼭짓점을 저장하는 목록.\n",
    "\n",
    "검색을 시작하려면 꼭짓점을 인수로 사용하는 내부 함수 explore를 정의하고 방문합니다. explore 함수는 정점을 visited 목록에서 방문한 것으로 표시하고 result 목록에 추가한 다음 방문하지 않은 각 이웃에 대해 재귀적으로 자신을 호출합니다. \n",
    "\n",
    "마지막으로 시작 정점 start에서 explore 함수를 호출하고 result 목록을 반환합니다. \n",
    "\n",
    "따라서 dfs 함수는 DFS를 사용하여 방문 순서대로 방문한 정점 목록을 반환합니다."
   ]
  }
 ],
 "metadata": {
  "kernelspec": {
   "display_name": "Python 3 (ipykernel)",
   "language": "python",
   "name": "python3"
  },
  "language_info": {
   "codemirror_mode": {
    "name": "ipython",
    "version": 3
   },
   "file_extension": ".py",
   "mimetype": "text/x-python",
   "name": "python",
   "nbconvert_exporter": "python",
   "pygments_lexer": "ipython3",
   "version": "3.7.13"
  }
 },
 "nbformat": 4,
 "nbformat_minor": 5
}
