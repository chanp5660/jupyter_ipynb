{
 "cells": [
  {
   "cell_type": "markdown",
   "id": "a27e3e9b-5e5a-4af6-b63a-528b1c8f369b",
   "metadata": {},
   "source": [
    "---\n",
    "layout: post  \n",
    "current: post  \n",
    "cover:  assets/built/images/문자열압축.png  \n",
    "navigation: True  \n",
    "title: 문자열압축  \n",
    "date: 2023-02-27 00:00:00 +0900  \n",
    "tags: [programing,python]  \n",
    "class: post-template  \n",
    "subclass: 'post tag-python'  \n",
    "author: chanp5660  \n",
    "---"
   ]
  },
  {
   "cell_type": "markdown",
   "id": "a9f98fdf-02b1-4e7b-9586-27f904eacad8",
   "metadata": {},
   "source": [
    "# 문자열압축\n",
    "\n",
    "> 기본적으로 ChatGPT를 이용하여 틀을 잡고 만든 것"
   ]
  },
  {
   "cell_type": "markdown",
   "id": "c0a99c1a-24c3-404e-a4a2-195b9d68a22b",
   "metadata": {},
   "source": [
    "> 문자열을 압축하는 문제로, 같은 문자가 반복되는 경우   \n",
    "그 반복되는 문자의 개수를 숫자로 표현하여 압축된 문자열을 출력해야 합니다."
   ]
  },
  {
   "cell_type": "markdown",
   "id": "1a1f488f-4657-4af7-95f3-9c937dfab2c0",
   "metadata": {},
   "source": [
    "## 문자열압축 1\n",
    "\n",
    "> 문자열에서 같은 문자가 반복되는 경우   \n",
    "그 반복되는 문자의 개수를 숫자로 표현하여   \n",
    "압축한 문자열을 출력하는 함수 compress_string을 작성하세요.  \n",
    "예시: \"aaabbcccc\" → \"a3b2c4\""
   ]
  },
  {
   "cell_type": "code",
   "execution_count": 12,
   "id": "4ef993de-ce9b-485c-8848-6f52687e7c0b",
   "metadata": {},
   "outputs": [
    {
     "name": "stdout",
     "output_type": "stream",
     "text": [
      "a3b2c4\n"
     ]
    }
   ],
   "source": [
    "def compress_string(s):\n",
    "    result = \"\"\n",
    "    count = 1\n",
    "    \n",
    "    for i in range(len(s)-1):\n",
    "        if s[i] == s[i+1]:\n",
    "            count+=1\n",
    "        else:\n",
    "            result += s[i]+str(count)\n",
    "            count=1\n",
    "    result += s[-1]+str(count)\n",
    "    return result\n",
    "        \n",
    "s = \"aaabbcccc\"   \n",
    "print(compress_string(s))"
   ]
  },
  {
   "cell_type": "markdown",
   "id": "8cd7540d-c3ec-4d55-9a3e-ed3a81cc8a34",
   "metadata": {},
   "source": [
    "## 문자열압축 2\n",
    "> 문자열을 입력받아서 **연속된 중복 문자열**을 제거하고,   \n",
    "제거한 결과를 반환하는 remove_duplicates 함수를 작성하세요.   \n",
    "\n",
    ">예를 들어, 문자열 \"aabbccddeeff\"를 입력받으면 \"abcdef\"를 반환해야 합니다.  \n",
    "\n",
    "> 제한 사항:  \n",
    "입력 문자열의 길이는 1000 이하입니다.  \n",
    "문자열은 알파벳 소문자로만 이루어져 있습니다."
   ]
  },
  {
   "cell_type": "code",
   "execution_count": 19,
   "id": "f94b3031-63ba-42e1-82d9-ed3235f541a2",
   "metadata": {},
   "outputs": [
    {
     "name": "stdout",
     "output_type": "stream",
     "text": [
      "abcdef\n"
     ]
    }
   ],
   "source": [
    "def remove_duplicates(s):\n",
    "    if not s:return \"\"\n",
    "        \n",
    "    result = \"\"\n",
    "    \n",
    "    for i in range(len(s)-1):\n",
    "        if s[i]!=s[i+1]:\n",
    "            result+=s[i]\n",
    "    # 마지막 문자 추가\n",
    "    result += s[-1]\n",
    "    \n",
    "    return result\n",
    "\n",
    "s = \"aabbccddeeff\"\n",
    "print(remove_duplicates(s))"
   ]
  },
  {
   "cell_type": "markdown",
   "id": "9eaca36a-fc3c-4e6a-a8c8-e0c4ced07bab",
   "metadata": {},
   "source": [
    "- 알고리즘\n",
    "    1. 문자열을 처음부터 순회하면서, 현재 문자와 이전 문자가 같은지 확인합니다. \n",
    "    2. 같은 경우 중복 문자열에 추가하지 않고, 다른 경우 중복 문자열에 추가합니다. \n",
    "    3. 마지막 중복문자는 추가되지 않으므로 추가해준다.\n",
    "    4. 중복 문자열이 모두 추가되면 최종 결과 문자열에 이어붙입니다."
   ]
  }
 ],
 "metadata": {
  "kernelspec": {
   "display_name": "Python 3 (ipykernel)",
   "language": "python",
   "name": "python3"
  },
  "language_info": {
   "codemirror_mode": {
    "name": "ipython",
    "version": 3
   },
   "file_extension": ".py",
   "mimetype": "text/x-python",
   "name": "python",
   "nbconvert_exporter": "python",
   "pygments_lexer": "ipython3",
   "version": "3.7.13"
  }
 },
 "nbformat": 4,
 "nbformat_minor": 5
}
