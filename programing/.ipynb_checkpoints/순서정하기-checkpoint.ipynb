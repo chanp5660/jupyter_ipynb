{
 "cells": [
  {
   "cell_type": "markdown",
   "id": "3fec3990-c1f9-4f86-890b-9998349cabc7",
   "metadata": {},
   "source": [
    "---\n",
    "layout: post  \n",
    "current: post  \n",
    "cover:  assets/built/images/순서정하기.png  \n",
    "navigation: True  \n",
    "title: 순서정하기  \n",
    "date: 2023-03-12 00:00:00 +0900  \n",
    "tags: [programing,python]  \n",
    "class: post-template  \n",
    "subclass: 'post tag-python'  \n",
    "author: chanp5660  \n",
    "---"
   ]
  },
  {
   "cell_type": "markdown",
   "id": "ebc2c0c6-c8c7-4be5-8a85-02883d384760",
   "metadata": {},
   "source": [
    "# 순서정하기\n",
    "\n",
    "- [프로그래머스-진료순서정하기](https://school.programmers.co.kr/learn/courses/30/lessons/120835)"
   ]
  },
  {
   "cell_type": "markdown",
   "id": "ac66bea2-af8d-4f75-ae2c-66dd20e8841e",
   "metadata": {},
   "source": [
    "> 주어진 배열에서 큰 숫자의 위치에 순서대로 숫자를 채워 출력합니다.\n",
    "\n",
    "- 조건\n",
    "    - 중복된 원소 없음\n",
    "    - 1 <= 입력된 배열의 길이 <= 10\n",
    "    - 1 <= 입력된 배열의 원소 <= 100\n",
    "    \n",
    "- 예\n",
    "|input | result|\n",
    "|------|------|\n",
    "|[3, 76, 24]|[3, 1, 2]|\n",
    "|[1, 2, 3, 4, 5, 6, 7]|[7, 6, 5, 4, 3, 2, 1]|\n",
    "|[30, 10, 23, 6, 100]|[2, 4, 3, 5, 1]|"
   ]
  },
  {
   "cell_type": "markdown",
   "id": "ddbcaf98-966c-4ef8-a8bf-400e52ffc07f",
   "metadata": {},
   "source": [
    "- 아래의 코드는 sorted에서 이미 O(NlogN) 정도의 시간이 든다고 가정합니다.\n",
    "- 그리고 반복문에서 index를 계속 부르게 되므로 계속 부르게 되므로 O(N^2)의 시간복잡도를 가지게 됩니다."
   ]
  },
  {
   "cell_type": "markdown",
   "id": "0ead8d41-5f4a-43dd-9d1e-f28ee61f565c",
   "metadata": {},
   "source": [
    "```{python}\n",
    "def solution(emergency):\n",
    "    sorted_list = sorted(emergency,reverse=True)\n",
    "    answer = [sorted_list.index(x)+1 for x in emergency]\n",
    "    return answer\n",
    "```"
   ]
  },
  {
   "cell_type": "markdown",
   "id": "b9984dca-58e0-485e-ac21-373e8fdbbfcb",
   "metadata": {},
   "source": [
    "- 이를 시간복잡도의 효율을 생각해서 dict을 사용하여 코드를 작성해봅니다."
   ]
  },
  {
   "cell_type": "markdown",
   "id": "2bac86c0-7002-4da7-bb55-d308e9b0996a",
   "metadata": {},
   "source": [
    "```{python}\n",
    "def solution(emergency):\n",
    "    dict_sorted = {e : i+1 for i,e in enumerate(sorted(emergency)[::-1])}\n",
    "    return [dict_sorted[x] for x in emergency]\n",
    "```"
   ]
  },
  {
   "cell_type": "markdown",
   "id": "42e80635-ddbe-474d-ac3a-75fceeeaafe4",
   "metadata": {},
   "source": [
    "- 오름차순으로 정렬하는 것은 sorted 함수에 [::-1]로 표현해주었다.\n",
    "    - sorted에 reverse = True 매개변수를 집어 넣어주어도 됩니다.\n",
    "- {} 반복문을 List Comprehension 방법으로 표현합니다.\n",
    "    - enumerate 를 사용하여 인덱스를 순서로 표현합니다.\n",
    "    - 값을 순서대로 넣어주는 방법으로 진행합니다.\n",
    "- 만들어진 dict 에서 배열 원소를 입력받아 해당 인덱스를 출력합니다.\n",
    "- 이와 같은 방법으로 기존의 시간 복잡도보다 훨씬 줄어든 O(NlogN)의 모습으로 실행할 수 있습니다."
   ]
  }
 ],
 "metadata": {
  "kernelspec": {
   "display_name": "Python 3 (ipykernel)",
   "language": "python",
   "name": "python3"
  },
  "language_info": {
   "codemirror_mode": {
    "name": "ipython",
    "version": 3
   },
   "file_extension": ".py",
   "mimetype": "text/x-python",
   "name": "python",
   "nbconvert_exporter": "python",
   "pygments_lexer": "ipython3",
   "version": "3.7.13"
  }
 },
 "nbformat": 4,
 "nbformat_minor": 5
}
