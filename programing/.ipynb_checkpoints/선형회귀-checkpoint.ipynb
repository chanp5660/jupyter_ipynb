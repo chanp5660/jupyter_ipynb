{
 "cells": [
  {
   "cell_type": "markdown",
   "id": "87b491ff-367e-4dfc-9b21-7eb24478ce46",
   "metadata": {},
   "source": [
    "---\n",
    "layout: post  \n",
    "current: post  \n",
    "cover:  assets/built/images/선형회귀.png  \n",
    "navigation: True  \n",
    "title: 선형회귀  \n",
    "date: 2023-03-02 00:00:00 +0900  \n",
    "tags: [programing,python]  \n",
    "class: post-template  \n",
    "subclass: 'post tag-python'  \n",
    "author: chanp5660  \n",
    "---"
   ]
  },
  {
   "cell_type": "markdown",
   "id": "0f43e23a-9300-4638-a72f-1aa6b25dd698",
   "metadata": {},
   "source": [
    "# 선형회귀\n",
    "\n",
    "> 기본적으로 ChatGPT를 이용하여 틀을 잡고 만든 것"
   ]
  },
  {
   "cell_type": "markdown",
   "id": "b578a817-6f8d-4fdf-901e-3fec5df8991e",
   "metadata": {},
   "source": [
    "# 선형회귀 1\n",
    "> 주어진 데이터에 대해 선형 회귀 모델을 구현하고, 새로운 입력값에 대해 예측을 수행하는 함수를 작성하시오."
   ]
  },
  {
   "cell_type": "code",
   "execution_count": 4,
   "id": "416fbbd4-eea2-4a34-a7a4-91da87136472",
   "metadata": {},
   "outputs": [
    {
     "name": "stdout",
     "output_type": "stream",
     "text": [
      "[12.93333333 14.1030303  15.27272727]\n"
     ]
    }
   ],
   "source": [
    "import numpy as np\n",
    "\n",
    "class LinearRegression:\n",
    "    def __init__(self):\n",
    "        self.coefficients = None\n",
    "\n",
    "    def fit(self, X, y):\n",
    "        # Add a column of 1s to the input X\n",
    "        X = np.c_[np.ones(X.shape[0]), X]\n",
    "\n",
    "        # Calculate the coefficients using the normal equation\n",
    "        self.coefficients = np.linalg.inv(X.T @ X) @ X.T @ y\n",
    "\n",
    "    def predict(self, X):\n",
    "        # Add a column of 1s to the input X\n",
    "        X = np.c_[np.ones(X.shape[0]), X]\n",
    "\n",
    "        # Calculate the predicted values using the learned coefficients\n",
    "        y_pred = X @ self.coefficients\n",
    "\n",
    "        return y_pred\n",
    "    \n",
    "\n",
    "# 테스트 데이터 생성\n",
    "x = np.array([0, 1, 2, 3, 4, 5, 6, 7, 8, 9])\n",
    "y = np.array([1, 3, 2, 5, 7, 8, 8, 9, 10, 12])\n",
    "\n",
    "lr = LinearRegression()\n",
    "lr.fit(x,y)\n",
    "\n",
    "# 새로운 값 예측\n",
    "x_new = np.array([[10], [11], [12]])\n",
    "y_new = lr.predict(x_new)\n",
    "\n",
    "print(y_new)\n"
   ]
  },
  {
   "cell_type": "markdown",
   "id": "57c4b160-6bc9-47fa-93af-5c150d334da9",
   "metadata": {},
   "source": [
    "## 선형회귀 2\n",
    "> 주어진 데이터에 대해 sklearn 선형회귀 모델을 사용하여 새로운 입력값에 대해 예측을 수행하는 함수를 작성하시오."
   ]
  },
  {
   "cell_type": "code",
   "execution_count": 3,
   "id": "051ca152-9d28-4389-986d-fe528b944ef4",
   "metadata": {},
   "outputs": [
    {
     "name": "stdout",
     "output_type": "stream",
     "text": [
      "[12.93333333 14.1030303  15.27272727]\n"
     ]
    }
   ],
   "source": [
    "import numpy as np\n",
    "from sklearn.linear_model import LinearRegression\n",
    "\n",
    "# 테스트 데이터 생성\n",
    "x = np.array([0, 1, 2, 3, 4, 5, 6, 7, 8, 9])\n",
    "y = np.array([1, 3, 2, 5, 7, 8, 8, 9, 10, 12])\n",
    "\n",
    "# 선형 회귀 모델 학습\n",
    "model = LinearRegression()\n",
    "model.fit(x.reshape(-1, 1), y)\n",
    "\n",
    "# 새로운 값 예측\n",
    "x_new = np.array([[10], [11], [12]])\n",
    "y_new = model.predict(x_new)\n",
    "\n",
    "print(y_new)"
   ]
  }
 ],
 "metadata": {
  "kernelspec": {
   "display_name": "Python 3 (ipykernel)",
   "language": "python",
   "name": "python3"
  },
  "language_info": {
   "codemirror_mode": {
    "name": "ipython",
    "version": 3
   },
   "file_extension": ".py",
   "mimetype": "text/x-python",
   "name": "python",
   "nbconvert_exporter": "python",
   "pygments_lexer": "ipython3",
   "version": "3.7.13"
  }
 },
 "nbformat": 4,
 "nbformat_minor": 5
}
