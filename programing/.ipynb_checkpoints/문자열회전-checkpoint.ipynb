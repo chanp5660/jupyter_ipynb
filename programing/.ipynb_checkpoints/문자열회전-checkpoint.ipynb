{
 "cells": [
  {
   "cell_type": "markdown",
   "id": "a27e3e9b-5e5a-4af6-b63a-528b1c8f369b",
   "metadata": {},
   "source": [
    "---\n",
    "layout: post  \n",
    "current: post  \n",
    "cover:  assets/built/images/문자열회전.png  \n",
    "navigation: True  \n",
    "title: 문자열회전  \n",
    "date: 2023-02-28 00:00:00 +0900  \n",
    "tags: [programing,python]  \n",
    "class: post-template  \n",
    "subclass: 'post tag-python'  \n",
    "author: chanp5660  \n",
    "---"
   ]
  },
  {
   "cell_type": "markdown",
   "id": "a9f98fdf-02b1-4e7b-9586-27f904eacad8",
   "metadata": {},
   "source": [
    "# 문자열회전\n",
    "\n",
    "> 기본적으로 ChatGPT를 이용하여 틀을 잡고 만든 것"
   ]
  },
  {
   "cell_type": "markdown",
   "id": "640d53a8-cd90-4b54-94a7-b85e8b000405",
   "metadata": {},
   "source": [
    "> 두 문자열이 서로 순열인지 확인하는 알고리즘  \n",
    "해석 : 각 문자가 중복 없이 모두 서로에게 존재 하는 것"
   ]
  }
 ],
 "metadata": {
  "kernelspec": {
   "display_name": "Python 3 (ipykernel)",
   "language": "python",
   "name": "python3"
  },
  "language_info": {
   "codemirror_mode": {
    "name": "ipython",
    "version": 3
   },
   "file_extension": ".py",
   "mimetype": "text/x-python",
   "name": "python",
   "nbconvert_exporter": "python",
   "pygments_lexer": "ipython3",
   "version": "3.7.13"
  }
 },
 "nbformat": 4,
 "nbformat_minor": 5
}
