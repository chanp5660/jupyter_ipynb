{
 "cells": [
  {
   "cell_type": "markdown",
   "id": "a27e3e9b-5e5a-4af6-b63a-528b1c8f369b",
   "metadata": {},
   "source": [
    "---\n",
    "layout: post  \n",
    "current: post  \n",
    "cover:  assets/built/images/문자열회전.png  \n",
    "navigation: True  \n",
    "title: 문자열회전  \n",
    "date: 2023-02-28 00:00:00 +0900  \n",
    "tags: [programing,python]  \n",
    "class: post-template  \n",
    "subclass: 'post tag-python'  \n",
    "author: chanp5660  \n",
    "---"
   ]
  },
  {
   "cell_type": "markdown",
   "id": "a9f98fdf-02b1-4e7b-9586-27f904eacad8",
   "metadata": {},
   "source": [
    "# 문자열회전\n",
    "\n",
    "> 기본적으로 ChatGPT를 이용하여 틀을 잡고 만든 것"
   ]
  },
  {
   "cell_type": "markdown",
   "id": "640d53a8-cd90-4b54-94a7-b85e8b000405",
   "metadata": {},
   "source": [
    "> 문자열을 회전시키는 문제   \n",
    "입력으로 주어진 문자열을 왼쪽으로 회전시키고   \n",
    "회전시킨 문자열을 출력해야 합니다."
   ]
  },
  {
   "cell_type": "markdown",
   "id": "03eced17-9efa-4bc0-9e04-f90264d47446",
   "metadata": {},
   "source": [
    "---\n",
    "## 문자열회전 1\n",
    "\n",
    "> 주어진 두 개의 문자열이 서로 회전 관계에 있는지 확인하는 알고리즘 작성  \n",
    "예) \"waterbottle\"과 \"erbottlewat\"은 서로 회전 관계"
   ]
  },
  {
   "cell_type": "code",
   "execution_count": 18,
   "id": "3450856f-cf92-4e95-94c3-e923d8957b6c",
   "metadata": {},
   "outputs": [
    {
     "name": "stdout",
     "output_type": "stream",
     "text": [
      "True\n",
      "True\n"
     ]
    }
   ],
   "source": [
    "def is_rotation(str1, str2):\n",
    "    # 두 문자열의 길이가 같지 않으면 회전관계가 성립되지 않는다.\n",
    "    if len(str1) != len(str1) : return False\n",
    "    \n",
    "    # str1 문자열을 이어붙여 반복되는 새로운 문자열을 만든다.\n",
    "    # str2의 문자열을 새로운 문자열에 포함되는 문자열인지 확인한다.\n",
    "    new_str = str1+str1\n",
    "    return str2 in new_str\n",
    "\n",
    "print(is_rotation(\"abc\",\"bca\"))\n",
    "print(is_rotation(\"waterbottle\",\"erbottlewat\"))"
   ]
  },
  {
   "cell_type": "markdown",
   "id": "306ad802-e71e-4cdb-b09e-067c4e686567",
   "metadata": {},
   "source": [
    "- 함수\n",
    "    - 문자열 더하기나 곱하기를 사용하여 반복된 문자를 생성한다.\n",
    "    - 문자나 문자열이 다른 문자열에 속해 있는지 in 함수로 확인한다.\n",
    "- 알고리즘\n",
    "    - 두 문자열의 길이가 같지 않으면 회전조건을 만족시킬 수 없다.\n",
    "    - 문자열 하나를 반복하여 새로운 문자열을 만든다.\n",
    "    - 새로운 문자열에 남은 문자열이 속해 있는지 확인한다."
   ]
  }
 ],
 "metadata": {
  "kernelspec": {
   "display_name": "Python 3 (ipykernel)",
   "language": "python",
   "name": "python3"
  },
  "language_info": {
   "codemirror_mode": {
    "name": "ipython",
    "version": 3
   },
   "file_extension": ".py",
   "mimetype": "text/x-python",
   "name": "python",
   "nbconvert_exporter": "python",
   "pygments_lexer": "ipython3",
   "version": "3.7.13"
  }
 },
 "nbformat": 4,
 "nbformat_minor": 5
}
