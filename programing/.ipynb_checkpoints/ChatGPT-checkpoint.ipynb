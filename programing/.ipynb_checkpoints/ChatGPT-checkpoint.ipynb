{
 "cells": [
  {
   "cell_type": "markdown",
   "id": "457b39e7-a10f-406f-a798-63b6b39f1285",
   "metadata": {},
   "source": [
    "---\n",
    "layout: post  \n",
    "current: post  \n",
    "cover:  assets/built/images/ChatGPT.png  \n",
    "navigation: True  \n",
    "title: ChatGPT  \n",
    "date: 2023-03-04 00:00:00 +0900  \n",
    "tags: [programing,python]  \n",
    "class: post-template  \n",
    "subclass: 'post tag-python'  \n",
    "author: chanp5660  \n",
    "---"
   ]
  },
  {
   "cell_type": "markdown",
   "id": "d3630734-bff1-4863-85a1-ee82ac1f7420",
   "metadata": {
    "tags": []
   },
   "source": [
    "# ChatGPT with Python\n",
    "> python에서 chatGPT 이용하기\n",
    "- 기본 라이브러리 설치는 [github ChatGPT 링크](https://github.com/openai/openai-python)에서 설치\n",
    "- [개인 api_key 링크](https://platform.openai.com/account/api-keys) 는 해당 링크에서 얻으면 됨\n",
    "- model_engine은 여러가지 모델이 있으므로 목적에 따라 원하는 모델로 선택\n"
   ]
  },
  {
   "cell_type": "code",
   "execution_count": 29,
   "id": "a515500f-c35b-4cba-9918-885ef3b0ebef",
   "metadata": {},
   "outputs": [
    {
     "name": "stdout",
     "output_type": "stream",
     "text": [
      "\n",
      "* 그리드 분할(grid partitioning) 방식으로 동작하는 Python 번역(translation) 라이브러리 (자연어 처리를 위한 머신 러닝, 딥 러닝, 컴퓨터 비전 기법을 통해 다국어를 제공합니다).\n",
      "\n",
      "## Grid Partitioning?\n",
      "2차원 평면에서 점들이 떨어져 있는 경우 이들을 균등하게 분할하는 것을 Grid Partitioning(그리드 분할)이라 한다.\n",
      "그리드 분할은 경우에 따라 레벨 트리와 일치하기도 한다. 레벨 트리는 흔히 이야기하는 트리 구조이며, 알려진 구조를 따르지 않고 해당 데이터들이 어떻게 분할되는지를 정의한다.\n",
      "\n",
      "## VTM 연구개발자\n",
      "1. 권요한(?)\n",
      "2. SARC Ref.\n",
      "* SARC: Symmetric Association Rule Compression ,mechanism to use for reducing size of rules without loss of precision\n",
      "3. 마틴 파울러 (Martin Fowler)\n",
      "* 각종 소프트웨어ꡀ들에 대한 오픈소스 라이브러리 저작자.\n",
      "* 그리고도 고객사 기술 저작자로도 활동\n",
      "* 영국에서는 종류에 상관없이 소프트웨어 개발자 역격을 많이 공유하고 활동\n",
      "* 기술과 동시에 기술 값양조 증가를 이끈 지식이라고 말한다.\n",
      "* 마틴은 The Pragmatic Programmer이라는 독자적인 프로그래머들을 목표로 한 경험, 조언에 대한 책을 발표했고, 프로그래밍 언어 개발 역사와 동시에 소프트웨어 프로젝트의 관리 구조의 안정적이고 개발하기 쉽게끔 만들고자 했다고 하는 경험을 과시한다.\n",
      "* 많은 소프트웨어의 성공은 프로젝트의 조직과 구조에 있다고 하는 학술적인 것이 아니다.\n",
      "\n",
      "##### Books:\n",
      "\n",
      "Programmatic Components: Reusable Software In The Microsoft .Net Framework.\n",
      "\n",
      "Agile Foundations: Principles, Patterns, And Practices C# Edition\n",
      "\n",
      "UML Distilled Third Edition.\n",
      "\n",
      "Consulting\n",
      "\n",
      "자신이 하는 일을 기반으로하고 있는 저작자는 이렇게 위장하고 논하고자 한다는 것을 서술하고 있다.\n",
      "\n",
      "\n",
      "## FPT 카카오메이커 초대 발표준비\n",
      "카카오메이커는 카카오 블루오션으로 발간된 메일마그일용 책을 말한다.\n",
      "\n",
      "카카오매일 제공 기사에는 과학제목으로 안내장을 명한 것 이외에도 독자들이 업무에 필요하거나 관심이있는, 또는 독해하고 본질적인 내용이 작성된 직접해석문이 포함되어 있다는 것을 준비과정에서 알 수 있었다.\n",
      "\n",
      "전라도과학기술원 인공지능연구소 김문준 교수님을 초대하여\n",
      "Crowd Sourcing이라는 기술의 기초적인 이론, 즉 공동작업의 중요성과 소통과정과\n"
     ]
    }
   ],
   "source": [
    "import openai\n",
    "import os\n",
    "\n",
    "# OpenAI API 인증 정보 설정\n",
    "openai.api_key = \"\"\n",
    "\n",
    "# GPT-3 모델 ID\n",
    "model_engine = \"text-davinci-002\"\n",
    "\n",
    "# 생성할 텍스트 입력\n",
    "prompt = \"ChatGPT가 뭐야?\"\n",
    "\n",
    "# 생성할 텍스트 길이\n",
    "length = 2048\n",
    "\n",
    "# GPT-3 API로 텍스트 생성 요청\n",
    "response = openai.Completion.create(\n",
    "  engine=model_engine,\n",
    "  prompt=prompt,\n",
    "  max_tokens=length\n",
    ")\n",
    "\n",
    "# 생성된 텍스트 출력\n",
    "print(response.choices[0].text)"
   ]
  },
  {
   "cell_type": "markdown",
   "id": "abad367f-28ae-4dbd-88cc-ae176e3041ff",
   "metadata": {},
   "source": [
    "---\n",
    "## 후기\n",
    "\n",
    "> 한국어로는 제대로 이해하지 못하는 것 같고 영어로 질문하면 굉장히 단답형으로 대답해준다. 그리고 가장 큰 단점으로는 했던 질문에 이어서 질문을 할 수 없다는 것이다. 가장 큰 장점이 없는 챗봇은 기존에 나와있는 것도 많았기에 대화형 인공지능의 의미가 없는 것 같다.  \n",
    "그리고 아래 model_engine의 종류를 적었는데 무료라고 나와있는것은 옆에다가 적어놓아지만 다른 것도 실행은 가능한 것 같으니 직접 확인은 해보는게 좋을 것 같다."
   ]
  },
  {
   "cell_type": "markdown",
   "id": "c099a127-dfaf-47ac-8671-c521fc1ac6eb",
   "metadata": {},
   "source": [
    "### model_engine 종류\n",
    "\n",
    "- davinci(무료) : 다양한 태스크를 위한 가장 **최신** 및 가장 **고성능**의 모델. 자연어 처리를 위한 놀라운 결과를 제공하고 이 모델은 주로 일반적인 자연어 처리 태스크에 사용\n",
    "- curie(무료) : **GPT-2** 모델을 기반으로 **대화형 생성 모델**과 **언어 모델링**에서 뛰어난 결과를 제공\n",
    "- babbage(무료) : **GPT-2 모델의 더 작은 버전**으로, 훈련에 사용된 **데이터셋의 크기가 더 작고** 자연어 처리 태스크의 작은 규모에 적합\n",
    "- ada : **GPT-2 모델을 기반**으로 하며, **감성 분석** 및 **텍스트 분류**와 같은 자연어 처리 태스크에 특화됩니다.\n",
    "- text-davinci-002 : **OpenAI**에서 사용 가능한 최신 모델 중 가장 **강력한 모델**로 **대화형 생성 모델** 및 **자연어 이해** 작업에 적합\n",
    "- translation : **번역**작업에 사용되는 모델\n",
    "- davinci-codex : **요약**작업에 사용되는 모델\n",
    "- davinci-instruct-beta : 대화형 **지침 생성**을 위한 모델. 특정 작업에 대한 자세한 지침을 만드는 데 사용\n",
    "- davinci-codex : **고급 코드 생성**을 위한 모델. 이 모델은 코드 작성, 코드 자동 완성 및 코드 이해 작업에 적합\n",
    "- davinci-medical-2 : **의학 분야**의 자연어 처리에 특화된 모델. 이 모델은 진단, 치료 및 의료 데이터 처리와 같은 작업에 사용\n",
    "- content-filter-alpha : **불순물을 제거**하여 적절하지 않은 콘텐츠를 **필터링**하는 데 사용됩니다.\n",
    "- text-davinci-002-001 : 다양한 자연어 처리 태스크에 적합한 모델. 이 모델은 text-davinci-002 모델보다 약간 작은 모델.\n",
    "- davinci-junior : OpenAI API에서 사용 가능한 모델 중 가장 작은 모델 중 하나. 이 모델은 davinci 모델보다 작고 강력한 성능을 제공하지는 않음. 작은 규모의 자연어 처리 작업에 적합"
   ]
  }
 ],
 "metadata": {
  "kernelspec": {
   "display_name": "Python 3 (ipykernel)",
   "language": "python",
   "name": "python3"
  },
  "language_info": {
   "codemirror_mode": {
    "name": "ipython",
    "version": 3
   },
   "file_extension": ".py",
   "mimetype": "text/x-python",
   "name": "python",
   "nbconvert_exporter": "python",
   "pygments_lexer": "ipython3",
   "version": "3.7.13"
  }
 },
 "nbformat": 4,
 "nbformat_minor": 5
}
