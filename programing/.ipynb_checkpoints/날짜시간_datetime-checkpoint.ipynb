{
 "cells": [
  {
   "cell_type": "markdown",
   "id": "cd493d3e-6754-425c-ac86-ddbc131e77d5",
   "metadata": {},
   "source": [
    "---\n",
    "layout: post  \n",
    "current: post  \n",
    "cover:  assets/built/images/날짜시간.png  \n",
    "navigation: True  \n",
    "title: 날짜시간(datetime)  \n",
    "date: 2023-03-24 00:00:00 +0900  \n",
    "tags: [programing,python]  \n",
    "class: post-template  \n",
    "subclass: 'post tag-python'  \n",
    "author: chanp5660  \n",
    "---"
   ]
  },
  {
   "cell_type": "markdown",
   "id": "858df507-33d4-4991-9c28-af21cd96014a",
   "metadata": {},
   "source": [
    "# 날짜 & 시간 데이터 (datatime)\n",
    "\n",
    "파이썬에서 날짜 & 시간 데이터를 다루는 방법을 알아보고 실행해 보겠습니다."
   ]
  },
  {
   "cell_type": "markdown",
   "id": "7283e12e-a698-4a5f-ba52-6fbf7884451b",
   "metadata": {},
   "source": [
    "[참고 블로그 https://www.infoking.site/144](https://www.infoking.site/144)"
   ]
  },
  {
   "cell_type": "markdown",
   "id": "32f6b61c-9c2a-4791-a44a-cddf41752120",
   "metadata": {},
   "source": [
    "## datetime.datetime\n",
    "\n",
    "now() : 현재 시간을 알 수 있습니다."
   ]
  },
  {
   "cell_type": "code",
   "execution_count": 9,
   "id": "4619eb7c-3b2a-4719-a18a-4ec32a81fd7e",
   "metadata": {},
   "outputs": [
    {
     "name": "stdout",
     "output_type": "stream",
     "text": [
      "2023-03-24 00:44:14.470236\n"
     ]
    }
   ],
   "source": [
    "from datetime import datetime,timedelta\n",
    "print(datetime.now())"
   ]
  },
  {
   "cell_type": "markdown",
   "id": "242da623-fd11-4cc6-b146-e734bf4d95f7",
   "metadata": {},
   "source": [
    "### 상세 출력"
   ]
  },
  {
   "cell_type": "code",
   "execution_count": 10,
   "id": "b9644c40-b879-476f-ae85-514d17308f2b",
   "metadata": {},
   "outputs": [
    {
     "name": "stdout",
     "output_type": "stream",
     "text": [
      "년도 : 2023\n",
      "월 : 3\n",
      "일 : 24\n",
      "시 : 0\n",
      "분 : 44\n",
      "초 : 16\n"
     ]
    }
   ],
   "source": [
    "NOW = datetime.now()\n",
    "print(f\"년도 : {NOW.year}\")\n",
    "print(f'월 : {NOW.month}')\n",
    "print(f'일 : {NOW.day}')\n",
    "print(f'시 : {NOW.hour}')\n",
    "print(f'분 : {NOW.minute}')\n",
    "print(f'초 : {NOW.second}')"
   ]
  },
  {
   "cell_type": "markdown",
   "id": "78987a48-fb52-4cbf-ae7c-24a81e24e238",
   "metadata": {},
   "source": [
    "### 날짜 데이터 형식으로 저장 가능"
   ]
  },
  {
   "cell_type": "code",
   "execution_count": 11,
   "id": "3689fc3d-b42e-40b9-b95c-45c5a7ffe091",
   "metadata": {},
   "outputs": [
    {
     "name": "stdout",
     "output_type": "stream",
     "text": [
      "2020-02-25 00:00:00\n"
     ]
    }
   ],
   "source": [
    "DAY = datetime(2020,2,25)\n",
    "print(DAY)"
   ]
  },
  {
   "cell_type": "markdown",
   "id": "e3f233ff-f98a-4108-866c-970b3ee3325e",
   "metadata": {},
   "source": [
    "### 비교 연산자 사용 가능"
   ]
  },
  {
   "cell_type": "code",
   "execution_count": 12,
   "id": "b5419f85-5f02-4c66-a5c1-ed5480b4edb5",
   "metadata": {},
   "outputs": [
    {
     "name": "stdout",
     "output_type": "stream",
     "text": [
      "False\n"
     ]
    }
   ],
   "source": [
    "print(NOW < DAY)"
   ]
  },
  {
   "cell_type": "markdown",
   "id": "35ae03c0-892d-4d5c-857c-1d4e1b2beb5a",
   "metadata": {},
   "source": [
    "### 날짜 연산  \n",
    "\n",
    "**timedelta** 데이터 유형을 사용합니다."
   ]
  },
  {
   "cell_type": "code",
   "execution_count": 15,
   "id": "71924ce6-2153-42f9-806c-138e235b78d4",
   "metadata": {},
   "outputs": [
    {
     "name": "stdout",
     "output_type": "stream",
     "text": [
      "10 18310\n"
     ]
    }
   ],
   "source": [
    "period = timedelta(days=10, hours=5, minutes=5, seconds=10)\n",
    "print(period.days,period.seconds)"
   ]
  },
  {
   "cell_type": "code",
   "execution_count": 17,
   "id": "41db9136-d332-4313-92f0-3ad54b71bc03",
   "metadata": {},
   "outputs": [
    {
     "name": "stdout",
     "output_type": "stream",
     "text": [
      "10 days, 5:05:10\n"
     ]
    }
   ],
   "source": [
    "print(str(period))"
   ]
  },
  {
   "cell_type": "code",
   "execution_count": 21,
   "id": "2c60755b-0617-4e53-85ea-1db7654a6d14",
   "metadata": {},
   "outputs": [
    {
     "name": "stdout",
     "output_type": "stream",
     "text": [
      "2023-04-23 00:57:39.108422\n"
     ]
    }
   ],
   "source": [
    "day_30 = timedelta(days=30)\n",
    "print(datetime.now() + day_30)"
   ]
  },
  {
   "cell_type": "markdown",
   "id": "28e87baf-6a60-4623-b711-b6791fce079d",
   "metadata": {},
   "source": [
    "### 날짜를 문자열로 바꾸기\n",
    "\n",
    "**strftime** 함수를 사용   \n",
    "[링크](https://ponyozzang.tistory.com/626)를 참조하면 포맷 형식 상세 내용을 볼 수 있습니다."
   ]
  },
  {
   "cell_type": "code",
   "execution_count": 22,
   "id": "3922f8ee-2cd7-440a-83cf-6713f203ca6a",
   "metadata": {},
   "outputs": [
    {
     "name": "stdout",
     "output_type": "stream",
     "text": [
      "2023 / 03 / 24  01 : 00 : 00\n"
     ]
    }
   ],
   "source": [
    "s_day = datetime(2023,3,24,1,0,0,0)\n",
    "print(s_day.strftime('%Y / %m / %d  %H : %M : %S'))"
   ]
  },
  {
   "cell_type": "markdown",
   "id": "39a3b288-6ef0-4af9-b5b3-c6de7c9c55d0",
   "metadata": {},
   "source": [
    "### 문자열을 날짜로 바꾸기\n",
    "\n",
    "**strptime** 함수를 사용, strftime의 포맷 형식과 같습니다.\n"
   ]
  },
  {
   "cell_type": "code",
   "execution_count": 23,
   "id": "bae649e3-3f60-4885-b4c7-d1562da56b78",
   "metadata": {},
   "outputs": [
    {
     "name": "stdout",
     "output_type": "stream",
     "text": [
      "2023-01-23 00:00:00\n"
     ]
    }
   ],
   "source": [
    "print(datetime.strptime('20230123','%Y%m%d'))"
   ]
  },
  {
   "cell_type": "markdown",
   "id": "25ffd265-2149-4a4e-8c71-12aa717a30e7",
   "metadata": {},
   "source": [
    "### 날짜 연산에 년, 월 단위 사용하기\n",
    "\n",
    "**dateutil.relativedelta**를 사용"
   ]
  },
  {
   "cell_type": "code",
   "execution_count": 25,
   "id": "ff430a70-51f2-4e44-8357-825a5236617b",
   "metadata": {},
   "outputs": [],
   "source": [
    "from dateutil.relativedelta import relativedelta\n",
    "\n",
    "dif_3m = relativedelta(months = 3)\n",
    "now_3m = datetime.now() - dif_3m"
   ]
  },
  {
   "cell_type": "markdown",
   "id": "0e87739a-b360-425e-becd-fd3ac852495e",
   "metadata": {},
   "source": [
    "### 프로세스 일정시간 정지하기"
   ]
  },
  {
   "cell_type": "code",
   "execution_count": 26,
   "id": "4a4dd264-2edd-477e-99ef-fabb622a5152",
   "metadata": {},
   "outputs": [
    {
     "name": "stdout",
     "output_type": "stream",
     "text": [
      "1\n",
      "2\n"
     ]
    }
   ],
   "source": [
    "import time\n",
    "\n",
    "print(1)\n",
    "time.sleep(10)\n",
    "print(2)"
   ]
  }
 ],
 "metadata": {
  "kernelspec": {
   "display_name": "Python 3 (ipykernel)",
   "language": "python",
   "name": "python3"
  },
  "language_info": {
   "codemirror_mode": {
    "name": "ipython",
    "version": 3
   },
   "file_extension": ".py",
   "mimetype": "text/x-python",
   "name": "python",
   "nbconvert_exporter": "python",
   "pygments_lexer": "ipython3",
   "version": "3.7.13"
  }
 },
 "nbformat": 4,
 "nbformat_minor": 5
}
