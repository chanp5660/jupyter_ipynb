{
 "cells": [
  {
   "cell_type": "markdown",
   "id": "c7a146ed-f408-4ba7-9229-6bf28c3fee3e",
   "metadata": {},
   "source": [
    "---\n",
    "layout: post  \n",
    "current: post  \n",
    "cover:  assets/built/images/버블정렬.png  \n",
    "navigation: True  \n",
    "title: 버블정렬  \n",
    "date: 2023-03-01 00:00:00 +0900  \n",
    "tags: [programing,python]  \n",
    "class: post-template  \n",
    "subclass: 'post tag-python'  \n",
    "author: chanp5660  \n",
    "---"
   ]
  },
  {
   "cell_type": "markdown",
   "id": "94a67422-2cc5-442f-9a9b-816e145f7e5d",
   "metadata": {},
   "source": [
    "# 버블정렬 bubble Sorting\n",
    "\n",
    "> 기본적으로 ChatGPT를 이용하여 틀을 잡고 만든 것"
   ]
  },
  {
   "cell_type": "markdown",
   "id": "6e67e30b-9072-4a60-b113-398c065865e4",
   "metadata": {},
   "source": [
    "> 인접한 두 개의 원소를 비교하여 큰 수를 오른쪽으로, 작은 수를 왼쪽으로 이동시키는 정렬 알고리즘"
   ]
  },
  {
   "cell_type": "markdown",
   "id": "a05c5243-0e07-4c3c-a49f-ae50d9b0f6d1",
   "metadata": {},
   "source": [
    "## 버블정렬 1"
   ]
  },
  {
   "cell_type": "code",
   "execution_count": 1,
   "id": "01b3a08d-9722-4733-bb3c-318cbb60f16e",
   "metadata": {},
   "outputs": [],
   "source": [
    "def bubble_sort(arr):\n",
    "    n = len(arr)\n",
    "    # 반복문을 돌면서 배열의 모든 요소를 비교\n",
    "    for i in range(n-1):\n",
    "        # 각 반복에서 오른쪽 끝에서부터 i번째까지 비교하면서 swap\n",
    "        for j in range(n-i-1):\n",
    "            if arr[j] > arr[j+1]:\n",
    "                arr[j], arr[j+1] = arr[j+1], arr[j] # 한번에 swap 이 가능하다\n",
    "    return arr"
   ]
  },
  {
   "cell_type": "code",
   "execution_count": 2,
   "id": "fa68ae66-7964-4d0a-8742-418af8f02858",
   "metadata": {},
   "outputs": [
    {
     "data": {
      "text/plain": [
       "[11, 12, 22, 25, 34, 64, 90]"
      ]
     },
     "execution_count": 2,
     "metadata": {},
     "output_type": "execute_result"
    }
   ],
   "source": [
    "arr = [64, 34, 25, 12, 22, 11, 90]\n",
    "bubble_sort(arr)"
   ]
  },
  {
   "cell_type": "markdown",
   "id": "2d00dfa7-a588-4962-8dca-d93caba5ce34",
   "metadata": {},
   "source": [
    "- 알고리즘\n",
    "    - 첫번째 반복문\n",
    "        - 모든 요소를 비교하기 위해 n-1번 비교한다. \n",
    "        - n번째는 n-1에서 정해지기 때문에 할 필요가 없다.\n",
    "    - 두번째 반복문\n",
    "        - 오른쪽 끝에서부터 i번째부터 비교하면서 swap한다.\n",
    "        - 0 ~ (n-i-1) 까지만 비교해서 가장 큰수가 두번째 반복문이 끝날 때마다 고정된다.\n",
    "- 시간 복잡도\n",
    "    - 최선의 경우 **O(n)**\n",
    "    - 평균과 최악의 경우 **O(n^2)**\n",
    "    - 이는 정렬할 리스트의 크기가 커질수록 정렬 시간이 길어진다는 것을 의미"
   ]
  }
 ],
 "metadata": {
  "kernelspec": {
   "display_name": "Python 3 (ipykernel)",
   "language": "python",
   "name": "python3"
  },
  "language_info": {
   "codemirror_mode": {
    "name": "ipython",
    "version": 3
   },
   "file_extension": ".py",
   "mimetype": "text/x-python",
   "name": "python",
   "nbconvert_exporter": "python",
   "pygments_lexer": "ipython3",
   "version": "3.7.13"
  }
 },
 "nbformat": 4,
 "nbformat_minor": 5
}
