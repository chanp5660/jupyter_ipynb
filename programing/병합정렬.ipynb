{
 "cells": [
  {
   "cell_type": "markdown",
   "id": "c7a146ed-f408-4ba7-9229-6bf28c3fee3e",
   "metadata": {},
   "source": [
    "---\n",
    "layout: post  \n",
    "current: post  \n",
    "cover:  assets/built/images/병합정렬.png  \n",
    "navigation: True  \n",
    "title: 병합정렬  \n",
    "date: 2023-03-02 00:00:00 +0900  \n",
    "tags: [programing,python]  \n",
    "class: post-template  \n",
    "subclass: 'post tag-python'  \n",
    "author: chanp5660  \n",
    "---"
   ]
  },
  {
   "cell_type": "markdown",
   "id": "94a67422-2cc5-442f-9a9b-816e145f7e5d",
   "metadata": {},
   "source": [
    "# 병합정렬 Merge Sorting\n",
    "\n",
    "> 기본적으로 ChatGPT를 이용하여 틀을 잡고 만든 것"
   ]
  },
  {
   "cell_type": "markdown",
   "id": "6e67e30b-9072-4a60-b113-398c065865e4",
   "metadata": {},
   "source": [
    "> 분할 정복(divide and conquer) 알고리즘의 대표적인 예시로, 배열을 두 부분으로 분할한 뒤, 각각을 재귀적으로 정렬하여, 합쳐서 정렬된 배열을 생성하는 방법"
   ]
  },
  {
   "cell_type": "markdown",
   "id": "a05c5243-0e07-4c3c-a49f-ae50d9b0f6d1",
   "metadata": {},
   "source": [
    "## 병합정렬 1"
   ]
  },
  {
   "cell_type": "code",
   "execution_count": 1,
   "id": "cb4c19ca-a107-40bf-9688-9f2db40259b4",
   "metadata": {},
   "outputs": [],
   "source": [
    "def merge_sort(arr):\n",
    "    # arr가 2개 이상의 원소를 가지고 있을 때만 merge sort 진행\n",
    "    if len(arr) > 1:\n",
    "        # 중앙을 기준으로 나눈다.\n",
    "        mid = len(arr) // 2\n",
    "        left_half = arr[:mid] # 왼쪽 부분\n",
    "        right_half = arr[mid:] # 오른쪽 부분\n",
    "        \n",
    "        merge_sort(left_half) # 재귀적으로 merge sort 한다.\n",
    "        merge_sort(right_half) # 재귀적으로 merge sort 한다.\n",
    "        \n",
    "        i = j = k = 0 # i는 left, j는 오른쪽, k는 병합될 배열\n",
    "        \n",
    "        # 병합하는 과정으로 어느한쪽이 다 배치가 되면 종료\n",
    "        while i < len(left_half) and j < len(right_half):\n",
    "            # 둘 중에 작은 값을 배열에 넣는다.\n",
    "            if left_half[i] < right_half[j]:\n",
    "                arr[k] = left_half[i]\n",
    "                i += 1\n",
    "            else:\n",
    "                arr[k] = right_half[j]\n",
    "                j += 1\n",
    "            k+=1\n",
    "        \n",
    "        # 위의 병합하는 과정일 끝나서 나서 배열에 남아있는 원소들을 병합될 셀에 순서대로 넣어준다.\n",
    "        while i < len(left_half):\n",
    "            arr[k] = left_half[i]\n",
    "            k += 1\n",
    "            i += 1\n",
    "        \n",
    "        while j < len(right_hald):\n",
    "            arr[j] = right_half[j]\n",
    "            k+=1\n",
    "            j+=1\n",
    "        "
   ]
  },
  {
   "cell_type": "markdown",
   "id": "e9d6deaa-3457-4fff-b50f-50a235f592df",
   "metadata": {},
   "source": [
    "- 알고리즘"
   ]
  },
  {
   "cell_type": "code",
   "execution_count": null,
   "id": "ae7cb8e9-7350-496f-b414-fe7be9f42e22",
   "metadata": {},
   "outputs": [],
   "source": []
  },
  {
   "cell_type": "code",
   "execution_count": null,
   "id": "d283b459-d14b-4a92-9781-69daa363221c",
   "metadata": {},
   "outputs": [],
   "source": []
  },
  {
   "cell_type": "code",
   "execution_count": null,
   "id": "81ab8497-6c75-44ce-9b18-115aede57ffd",
   "metadata": {},
   "outputs": [],
   "source": []
  },
  {
   "cell_type": "code",
   "execution_count": null,
   "id": "a85ed5c2-cb0a-44c0-9a8a-541d290261db",
   "metadata": {},
   "outputs": [],
   "source": []
  },
  {
   "cell_type": "markdown",
   "id": "0051c055-a798-45d9-b980-b6053357d76b",
   "metadata": {},
   "source": [
    "- 알고리즘\n",
    "    - 첫번째 반복문\n",
    "        - 모든 요소를 비교하기 위해 1~n 범위로 비교한다.\n",
    "    - 두번쨰 반복문\n",
    "        - 정렬된 배열의 크기 + 삽입할 원소의 크기만큼 반복\n",
    "        - j -> 0 범위로 줄여가면서 key값보다 작을 떄까지 또는 j만큼 반복이 끝났을 때 종료\n",
    "    - 마지막 Swap\n",
    "        - 두번째 반복문이 끝나면 j+1 인덱스의 위치에 값이 들어갈 위치가 된다.\n",
    "- 시간복잡도\n",
    "    - 최선의 경우 O(N)으로 굉장히 빠른편에 속한다.\n",
    "    - 최악의 경우 O(N^2)으로 굉장히 느려 최선의 경우와 차이가 많이 난다.\n",
    "    - 정렬되어 있는 데이터라도 삽입순서에 따라 성능차이가 나므로 데이터의 상태가 성능의 주요요인이다."
   ]
  }
 ],
 "metadata": {
  "kernelspec": {
   "display_name": "Python 3 (ipykernel)",
   "language": "python",
   "name": "python3"
  },
  "language_info": {
   "codemirror_mode": {
    "name": "ipython",
    "version": 3
   },
   "file_extension": ".py",
   "mimetype": "text/x-python",
   "name": "python",
   "nbconvert_exporter": "python",
   "pygments_lexer": "ipython3",
   "version": "3.7.13"
  }
 },
 "nbformat": 4,
 "nbformat_minor": 5
}
