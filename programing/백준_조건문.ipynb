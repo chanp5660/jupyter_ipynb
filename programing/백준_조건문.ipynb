{
 "cells": [
  {
   "cell_type": "markdown",
   "id": "9bf72ced-283a-4c1d-805f-0d8a35895761",
   "metadata": {},
   "source": [
    "---\n",
    "layout: post  \n",
    "current: post  \n",
    "cover:  assets/built/images/baekjoon-logo.png  \n",
    "navigation: True  \n",
    "title: 백준-단계별-조건문  \n",
    "date: 2022-07-06 17:00:00 +0900  \n",
    "tags: [programing]  \n",
    "class: post-template  \n",
    "subclass: 'post tag-python'  \n",
    "author: chanp5660  \n",
    "---"
   ]
  },
  {
   "cell_type": "markdown",
   "id": "cefe077b-d02e-4276-9f05-d021cb3a5458",
   "metadata": {
    "tags": []
   },
   "source": [
    "# 백준-단계별-조건문  \n",
    "https://www.acmicpc.net/step/4"
   ]
  },
  {
   "cell_type": "markdown",
   "id": "5d1e2635-bf55-41e3-9545-e3ed6cacf6a2",
   "metadata": {},
   "source": [
    "## 오븐시계 (6-2525)\n",
    "https://www.acmicpc.net/problem/2525"
   ]
  },
  {
   "cell_type": "markdown",
   "id": "1f05b2c8-47be-43c4-8ea9-97a0661f38cc",
   "metadata": {},
   "source": [
    "- 문제  \n",
    "KOI 전자에서는 건강에 좋고 맛있는 훈제오리구이 요리를 간편하게 만드는 인공지능 오븐을 개발하려고 한다. 인공지능 오븐을 사용하는 방법은 적당한 양의 오리 훈제 재료를 인공지능 오븐에 넣으면 된다. 그러면 인공지능 오븐은 오븐구이가 끝나는 시간을 분 단위로 자동적으로 계산한다.  \n",
    "또한, KOI 전자의 인공지능 오븐 앞면에는 사용자에게 훈제오리구이 요리가 끝나는 시각을 알려 주는 디지털 시계가 있다.  \n",
    "훈제오리구이를 시작하는 시각과 오븐구이를 하는 데 필요한 시간이 분단위로 주어졌을 때, 오븐구이가 끝나는 시각을 계산하는 프로그램을 작성하시오.\n",
    "\n",
    "- 입력  \n",
    "첫째 줄에는 현재 시각이 나온다. 현재 시각은 시 A (0 ≤ A ≤ 23) 와 분 B (0 ≤ B ≤ 59)가 정수로 빈칸을 사이에 두고 순서대로 주어진다. 두 번째 줄에는 요리하는 데 필요한 시간 C (0 ≤ C ≤ 1,000)가 분 단위로 주어진다.   \n",
    "\n",
    "- 출력  \n",
    "첫째 줄에 종료되는 시각의 시와 분을 공백을 사이에 두고 출력한다. (단, 시는 0부터 23까지의 정수, 분은 0부터 59까지의 정수이다. 디지털 시계는 23시 59분에서 1분이 지나면 0시 0분이 된다.)  \n",
    "\n",
    "예제 입력 1   \n",
    "14 30  \n",
    "20  \n",
    "예제 출력 1   \n",
    "14 50  \n",
    "예제 입력 2   \n",
    "17 40  \n",
    "80  \n",
    "예제 출력 2   \n",
    "19 0  \n",
    "예제 입력 3   \n",
    "23 48  \n",
    "25  \n",
    "예제 출력 3   \n",
    "0 13  "
   ]
  },
  {
   "cell_type": "markdown",
   "id": "77d27bf1-b3f0-4bfe-a847-0f39cb32b525",
   "metadata": {},
   "source": [
    "- 코딩 전\n",
    "    - 입력된 시간의 분에 추가로 입력된 분을 더한다.\n",
    "    - 분 범위 60으로 몫(시), 나머지(분)로 분리한다.\n",
    "    - 기존의 시간에 몫(시)를 더한다.\n",
    "    - 시 범위 24으로 몫(하루), 나머지(시)로 분리한다.\n",
    "    - 시 범위의 나머지와 분 범위 시간을 출력한다."
   ]
  },
  {
   "cell_type": "code",
   "execution_count": 1,
   "id": "96c25fd9-ce5c-4f0e-8845-5ad5cd8aa312",
   "metadata": {},
   "outputs": [
    {
     "name": "stdin",
     "output_type": "stream",
     "text": [
      " 14 30\n",
      " 20\n"
     ]
    },
    {
     "name": "stdout",
     "output_type": "stream",
     "text": [
      "14 50\n"
     ]
    }
   ],
   "source": [
    "H,M= [int(x) for x in input().split()]\n",
    "M_COOK = int(input())\n",
    "M +=M_COOK\n",
    "M_quotient = int(M/60)\n",
    "M_reminder = M%60\n",
    "H += M_quotient\n",
    "H_quotient = int(H/24)\n",
    "H_reminder = H%24\n",
    "print(H_reminder,M_reminder)"
   ]
  },
  {
   "cell_type": "markdown",
   "id": "c4de6837-32be-4a7c-b7c9-c8667910340d",
   "metadata": {},
   "source": [
    "- 코딩 후 \n",
    "    - 입력 받는 부분에서 split을 해주어야 string에서 각각의 원소로 분리해서 int형으로 만들어서 적용할 수 있다."
   ]
  },
  {
   "cell_type": "markdown",
   "id": "f2605504-bc5d-4712-b814-c04eacbafec8",
   "metadata": {},
   "source": [
    "---"
   ]
  },
  {
   "cell_type": "markdown",
   "id": "7916c195-af34-4941-9450-f1be49d80663",
   "metadata": {},
   "source": [
    "## 주사위 세개 (7-2480)\n",
    "https://www.acmicpc.net/problem/2480"
   ]
  },
  {
   "cell_type": "markdown",
   "id": "413269e3-2c1f-4fb8-a69e-a73ba765b4fd",
   "metadata": {},
   "source": [
    "---\n",
    "layout : single    \n",
    "title : \"백준_조건문\"  \n",
    "comments : true  \n",
    "categorties : [programing]  \n",
    "tags : [progaraming]  \n",
    "---- 문제  \n",
    "1에서부터 6까지의 눈을 가진 3개의 주사위를 던져서 다음과 같은 규칙에 따라 상금을 받는 게임이 있다.  \n",
    "같은 눈이 3개가 나오면 10,000원+(같은 눈)×1,000원의 상금을 받게 된다.  \n",
    "같은 눈이 2개만 나오는 경우에는 1,000원+(같은 눈)×100원의 상금을 받게 된다.  \n",
    "모두 다른 눈이 나오는 경우에는 (그 중 가장 큰 눈)×100원의 상금을 받게 된다.   \n",
    "예를 들어, 3개의 눈 3, 3, 6이 주어지면 상금은 1,000+3×100으로 계산되어 1,300원을 받게 된다. 또 3개의 눈이 2, 2, 2로 주어지면 10,000+2×1,000 으로 계산되어 12,000원을 받게 된다. 3개의 눈이 6, 2, 5로 주어지면 그중 가장 큰 값이 6이므로 6×100으로 계산되어 600원을 상금으로 받게 된다.\n",
    "3개 주사위의 나온 눈이 주어질 때, 상금을 계산하는 프로그램을 작성 하시오.\n",
    "\n",
    "- 입력  \n",
    "첫째 줄에 3개의 눈이 빈칸을 사이에 두고 각각 주어진다.  \n",
    "\n",
    "- 출력  \n",
    "첫째 줄에 게임의 상금을 출력 한다. \n",
    "\n",
    "예제 입력 1   \n",
    "3 3 6  \n",
    "예제 출력 1   \n",
    "1300  \n",
    "예제 입력 2   \n",
    "2 2 2  \n",
    "예제 출력 2   \n",
    "12000  \n",
    "예제 입력 3   \n",
    "6 2 5  \n",
    "예제 출력 3   \n",
    "600  "
   ]
  },
  {
   "cell_type": "markdown",
   "id": "33ff2b65-d6ae-421c-be3e-9bdec0f9fbf0",
   "metadata": {},
   "source": [
    "- 코딩 전\n",
    "    - 가장 작은 요소 부분의 조건부터 조건문을 걸어준다.\n",
    "    - 우선 순위 ( 같은 눈이 3개, 같은 눈이 2개, 모두 다른 눈)\n",
    "    - 주어진 조건 순서대로 작성한 후 계산"
   ]
  },
  {
   "cell_type": "code",
   "execution_count": 3,
   "id": "48818a99-cc17-423d-a1f5-9bed61587a08",
   "metadata": {},
   "outputs": [
    {
     "name": "stdin",
     "output_type": "stream",
     "text": [
      " 2 2 2\n"
     ]
    },
    {
     "name": "stdout",
     "output_type": "stream",
     "text": [
      "12000\n"
     ]
    }
   ],
   "source": [
    "#int_1,int_2,int_3 = [1,2,3]\n",
    "int_1,int_2,int_3 = [int(x) for x in input().split()]\n",
    "Money = 0\n",
    "if int_1 == int_2 and int_2 == int_3:\n",
    "    Money = 10000+int_1*1000\n",
    "elif int_1 == int_2 or int_1 == int_3:\n",
    "    Money = 1000+int_1*100\n",
    "elif int_2 == int_3 :\n",
    "    Money = 1000+int_2*100\n",
    "else:\n",
    "    Money = max([int_1,int_2,int_3])*100\n",
    "print(Money)\n"
   ]
  },
  {
   "cell_type": "markdown",
   "id": "71e5e710-2634-40eb-904a-7ef45eb2ef91",
   "metadata": {},
   "source": [
    "- 코딩 후\n",
    "    - 리스트 형식으로 받아서 비교를 해도 깔끔할 것 같다."
   ]
  },
  {
   "cell_type": "code",
   "execution_count": 1,
   "id": "07c3c718-39a3-4d82-8440-d31ff08b995a",
   "metadata": {
    "tags": []
   },
   "outputs": [
    {
     "name": "stdin",
     "output_type": "stream",
     "text": [
      " 2 2 2\n"
     ]
    },
    {
     "name": "stdout",
     "output_type": "stream",
     "text": [
      "12000\n"
     ]
    }
   ],
   "source": [
    "## 리스트로 입력 받기 ###\n",
    "#int_1,int_2,int_3 = [1,2,3]\n",
    "int_list = [int(x) for x in input().split()]\n",
    "Money = 0\n",
    "if int_list[0] == int_list[1] and int_list[1] == int_list[2]:\n",
    "    Money = 10000+int_list[0]*1000\n",
    "elif int_list[0] == int_list[1] or int_list[0] == int_list[2]:\n",
    "    Money = 1000+int_list[0]*100\n",
    "elif int_list[1] == int_list[2] :\n",
    "    Money = 1000+int_list[1]*100\n",
    "else:\n",
    "    Money = max([int_list[0],int_list[1],int_list[2]])*100\n",
    "print(Money)\n"
   ]
  },
  {
   "cell_type": "markdown",
   "id": "f077aae8-ce19-4373-a7ba-f28e57c17760",
   "metadata": {},
   "source": [
    "- 코딩 수정 후 ( 리스트로 입력 받음 )\n",
    "    - 입력 받은 개수가 3개라 가독성이 떨어지므로 기존의 코드가 더 보기 좋다."
   ]
  }
 ],
 "metadata": {
  "kernelspec": {
   "display_name": "Python 3 (ipykernel)",
   "language": "python",
   "name": "python3"
  },
  "language_info": {
   "codemirror_mode": {
    "name": "ipython",
    "version": 3
   },
   "file_extension": ".py",
   "mimetype": "text/x-python",
   "name": "python",
   "nbconvert_exporter": "python",
   "pygments_lexer": "ipython3",
   "version": "3.7.13"
  }
 },
 "nbformat": 4,
 "nbformat_minor": 5
}
