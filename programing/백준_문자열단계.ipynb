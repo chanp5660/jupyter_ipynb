{
 "cells": [
  {
   "cell_type": "markdown",
   "id": "165bff55-ffca-4075-b8d0-ab0f85248863",
   "metadata": {},
   "source": [
    "---\n",
    "layout: post  \n",
    "current: post  \n",
    "cover:  assets/built/images/baekjoon-logo.png  \n",
    "navigation: True  \n",
    "title: 백준-단계별-문자열단계  \n",
    "date: 2022-07-07 17:00:00 +0900  \n",
    "tags: [programing]  \n",
    "class: post-template  \n",
    "subclass: 'post tag-python'  \n",
    "author: chanp5660  \n",
    "---"
   ]
  },
  {
   "cell_type": "markdown",
   "id": "bf46f0c2-6e21-4dc8-bc21-3a381458a43a",
   "metadata": {},
   "source": [
    "# 백준-단계별-문자열단계  \n",
    "https://www.acmicpc.net/step/7"
   ]
  },
  {
   "cell_type": "markdown",
   "id": "7e9000c4-4fbd-4af9-97b6-ecf4174b5cee",
   "metadata": {},
   "source": [
    "## 크로아티아 알파벳 (9-2941)\n",
    "\n",
    "https://www.acmicpc.net/problem/2941"
   ]
  },
  {
   "cell_type": "markdown",
   "id": "a16ff5a0-d59b-44ac-a45e-ef2fa95f5c05",
   "metadata": {},
   "source": [
    "- 예전에는 운영체제에서 크로아티아 알파벳을 입력할 수가 없었다. 따라서, 다음과 같이 크로아티아 알파벳을 변경해서 입력했다.\n",
    "\n",
    "|크로아티아 알파벳|변경|\n",
    "|---|---|\n",
    "|č|c=|\n",
    "|ć|c-|\n",
    "|dž|dz=|\n",
    "|đ|d-|\n",
    "|lj|lj|\n",
    "|nj|nj|\n",
    "|š|s=|\n",
    "|ž|z=|  \n",
    "\n",
    "- 예를 들어, ljes=njak은 크로아티아 알파벳 6개(lj, e, š, nj, a, k)로 이루어져 있다. 단어가 주어졌을 때, 몇 개의 크로아티아 알파벳으로 이루어져 있는지 출력한다.  \n",
    "dž는 무조건 하나의 알파벳으로 쓰이고, d와 ž가 분리된 것으로 보지 않는다. lj와 nj도 마찬가지이다. 위 목록에 없는 알파벳은 한 글자씩 센다.\n",
    "\n",
    "- 입력  \n",
    "첫째 줄에 최대 100글자의 단어가 주어진다. 알파벳 소문자와 '-', '='로만 이루어져 있다.  \n",
    "단어는 크로아티아 알파벳으로 이루어져 있다. 문제 설명의 표에 나와있는 알파벳은 변경된 형태로 입력된다.  \n",
    "\n",
    "- 출력  \n",
    "입력으로 주어진 단어가 몇 개의 크로아티아 알파벳으로 이루어져 있는지 출력한다.  \n",
    "\n",
    "예제 입력 1   \n",
    "ljes=njak  \n",
    "예제 출력 1   \n",
    "6  \n",
    "예제 입력 2   \n",
    "ddz=z=  \n",
    "예제 출력 2   \n",
    "3  \n",
    "예제 입력 3   \n",
    "nljj  \n",
    "예제 출력 3   \n",
    "3  \n",
    "예제 입력 4   \n",
    "c=c=  \n",
    "예제 출력 4   \n",
    "2  \n",
    "예제 입력 5   \n",
    "dz=ak  \n",
    "예제 출력 5   \n",
    "3  \n"
   ]
  },
  {
   "cell_type": "markdown",
   "id": "6dc067d1-8b9f-488c-95a1-7e814cb714bb",
   "metadata": {},
   "source": [
    "- 방법\n",
    "    - count 함수를 사용하여 제공되는 문자에 해당 단어가 몇개 포함되어 있는지에 따라 추가된 글자수를 빼준다."
   ]
  },
  {
   "cell_type": "code",
   "execution_count": 23,
   "id": "3673be2f-a7af-4a22-999b-8e042737ac16",
   "metadata": {},
   "outputs": [
    {
     "name": "stdout",
     "output_type": "stream",
     "text": [
      "3\n"
     ]
    }
   ],
   "source": [
    "#String = input()\n",
    "String = \"nljj\"\n",
    "Word_list = [\"c=\",\"c-\",\"dz=\",\"d-\",\"lj\",\"nj\",\"s=\",\"z=\"]\n",
    "STR_count = len(String)\n",
    "\n",
    "for word in Word_list:\n",
    "    word_ct = String.count(word)\n",
    "    if word_ct: # 있다면? 몇개?\n",
    "        STR_count -= (len(word)-1)*word_ct\n",
    "        String = String.replace(word,\",\") # 했던 것은 중복으로 될 수 있으므로 없애준다. dz= , z=\n",
    "\n",
    "print(STR_count)"
   ]
  }
 ],
 "metadata": {
  "kernelspec": {
   "display_name": "Python 3 (ipykernel)",
   "language": "python",
   "name": "python3"
  },
  "language_info": {
   "codemirror_mode": {
    "name": "ipython",
    "version": 3
   },
   "file_extension": ".py",
   "mimetype": "text/x-python",
   "name": "python",
   "nbconvert_exporter": "python",
   "pygments_lexer": "ipython3",
   "version": "3.7.13"
  }
 },
 "nbformat": 4,
 "nbformat_minor": 5
}
