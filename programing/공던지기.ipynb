{
 "cells": [
  {
   "cell_type": "markdown",
   "id": "51561530-497f-41f4-8a3d-73708a2c6332",
   "metadata": {},
   "source": [
    "---\n",
    "layout: post  \n",
    "current: post  \n",
    "cover:  assets/built/images/공던지기.png  \n",
    "navigation: True  \n",
    "title: 공던지기  \n",
    "date: 2023-04-12 00:00:00 +0900  \n",
    "tags: [programing,python]  \n",
    "class: post-template  \n",
    "subclass: 'post tag-python'  \n",
    "author: chanp5660  \n",
    "---"
   ]
  },
  {
   "cell_type": "markdown",
   "id": "9541308c-a8e2-46f8-a903-eae182b482ab",
   "metadata": {},
   "source": [
    "# 공던지기 문제\n",
    "\n",
    "[프로그래머스-공던지기](https://school.programmers.co.kr/learn/courses/30/lessons/120843)\n",
    "\n",
    "문제\n",
    "1. 배열 arr와 공던지는 횟수인 k개가 주어집니다.\n",
    "2. 배열의 인덱스 0 -> 2 -> 4  이런식으로 2칸씩 이동합니다.\n",
    "3. 단, 배열의 크기 n 을 넘으로 그만큼 0 인덱스에서 다시 시작합니다.\n",
    "\n",
    "출력  \n",
    "마지막 공을 던지는 인덱스\n",
    "\n",
    "해결 알고리즘\n",
    "1. 마지막 공을 던지는 인덱스 이므로 k-1 번 반복합니다.\n",
    "2. 배열의 2칸씩 이동하므로 기존 인덱스에 +2를 해줍니다.\n",
    "3. 배열의 크기를 넘으면 안 되므로 (인덱스 값 % n)을 통해 조절해줍니다.\n",
    "\n",
    "해당 코드를 작성하면\n",
    "\n",
    "```\n",
    "def solution(numbers, k):\n",
    "    answer = 0\n",
    "    n = len(numbers)\n",
    "    for i in range(k-1):\n",
    "        answer = (answer+2) % n \n",
    "    return numbers[answer]\n",
    "```\n",
    "\n",
    "위와 같이 작성할 수 있습니다.\n",
    "\n",
    "더 간략하게 알고리즘을 작성해봅니다.\n",
    "1. 2칸씩 (k-1)번 움직이는 것이므로 총 2*(k-1) 만큼 움직인다.\n",
    "2. 총 이동 인덱스를 n으로 나머지를 구해줍니다.\n",
    "\n",
    "```\n",
    "def solution(number, k):\n",
    "    return number[ (2 * (k-1)) % len(number)]\n",
    "```"
   ]
  }
 ],
 "metadata": {
  "kernelspec": {
   "display_name": "Python 3 (ipykernel)",
   "language": "python",
   "name": "python3"
  },
  "language_info": {
   "codemirror_mode": {
    "name": "ipython",
    "version": 3
   },
   "file_extension": ".py",
   "mimetype": "text/x-python",
   "name": "python",
   "nbconvert_exporter": "python",
   "pygments_lexer": "ipython3",
   "version": "3.7.13"
  }
 },
 "nbformat": 4,
 "nbformat_minor": 5
}
