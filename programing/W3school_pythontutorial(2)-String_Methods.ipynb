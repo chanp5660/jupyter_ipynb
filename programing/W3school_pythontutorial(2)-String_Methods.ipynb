{
 "cells": [
  {
   "cell_type": "markdown",
   "id": "688ae14c-9c0b-420a-8e52-92a071e6059c",
   "metadata": {},
   "source": [
    "---\n",
    "layout: post  \n",
    "current: post  \n",
    "cover:  assets/built/images/w3school-logo.png  \n",
    "navigation: True  \n",
    "title: W3school_pythontutorial(2)-String_Methods  \n",
    "date: 2022-07-20 12:00:00 +0900  \n",
    "tags: [programing]  \n",
    "class: post-template  \n",
    "subclass: 'post tag-python'  \n",
    "author: chanp5660  \n",
    "---"
   ]
  },
  {
   "cell_type": "markdown",
   "id": "00aba47f-e13a-41e5-b865-cb3009c558c4",
   "metadata": {},
   "source": [
    "{% include w3python-table-of-contents.html %}"
   ]
  },
  {
   "cell_type": "markdown",
   "id": "582a9e4f-0fb9-423a-8130-c1b37ba44c1d",
   "metadata": {
    "tags": []
   },
   "source": [
    "# W3school_pythontutorial(2)-String_Methods\n",
    "\n",
    "> **내실 다지기** : [w3school](https://www.w3schools.com/) 사이트에서 python tutorial을 처음부터 끝까지 하는 목표로 시작하는 포스팅으로 제공해주는 목차 순서대로 진행한다. 간단한 내용은 제공해준 예제만 실행해본다. 활용해볼 예제는 추가로 간단한 예제를 만들어 실행하는 코드까지 작성하며 내실을 다진다.\n",
    "\n"
   ]
  },
  {
   "cell_type": "markdown",
   "id": "a56063ae-ff90-4cd4-8897-713265600e6b",
   "metadata": {},
   "source": [
    "- String_Methods\n",
    "    - <a href=\"#capitalize\">capitalize</a>  \n",
    "    - <a href=\"#casefold\">casefold</a>  \n",
    "    - <a href=\"#center\">center</a>\n",
    "    - <a href=\"#count\">count</a>\n",
    "    - <a href=\"#encode\">encode</a>\n",
    "    - <a href=\"#endswith\">endswith</a>\n",
    "    - <a href=\"#expandtabs\">expandtabs</a>\n",
    "    - <a href=\"#find\">find</a>\n",
    "    - <a href=\"#format\">format</a>\n",
    "    - <a href=\"#index\">index</a>\n",
    "    - <a href=\"#isalnum\">isalnum</a>\n",
    "    - <a href=\"#isalpha\">isalpha</a>\n",
    "    - <a href=\"#isdecimal\">isdecimal</a>\n",
    "    - <a href=\"#isdigit\">isdigit</a>\n",
    "    - <a href=\"#isidentifier\">isidentifier</a>\n",
    "    - <a href=\"#islower\">islower</a>\n",
    "    - <a href=\"#isnumeric\">isnumeric</a>   -- 여기까지 완성\n",
    "    - <a href=\"#isprintable\">isprintable</a>\n",
    "    - <a href=\"#isspace\">isspace</a>\n",
    "    - <a href=\"#istitle\">istitle</a>\n",
    "    - <a href=\"#isupper\">isupper</a>\n",
    "    - <a href=\"#join\">join</a>\n",
    "    - <a href=\"#ljust\">ljust</a>\n",
    "    - <a href=\"#lower\">lower</a>\n",
    "    - <a href=\"#lstrip\">lstrip</a>\n",
    "    - <a href=\"#maketrans\">maketrans</a>\n",
    "    - <a href=\"#partition\">partition</a>\n",
    "    - <a href=\"#replace\">replace</a>\n",
    "    - <a href=\"#rfind\">rfind</a>\n",
    "    - <a href=\"#rindex\">rindex</a>\n",
    "    - <a href=\"#rjust\">rjust</a>\n",
    "    - <a href=\"#rpartition\">rpartition</a>\n",
    "    - <a href=\"#rsplit\">rsplit</a>\n",
    "    - <a href=\"#rstrip\">rstrip</a>\n",
    "    - <a href=\"#split\">split</a>\n",
    "    - <a href=\"#splitlines\">splitlines</a>\n",
    "    - <a href=\"#startswith\">startswith</a>\n",
    "    - <a href=\"#strip\">strip</a>\n",
    "    - <a href=\"#swapcase\">swapcase</a>\n",
    "    - <a href=\"#title\">title</a>\n",
    "    - <a href=\"#translate\">translate</a>\n",
    "    - <a href=\"#upper\">upper</a>\n",
    "    - <a href=\"#zfill\">zfill</a>"
   ]
  },
  {
   "cell_type": "markdown",
   "id": "a716c449-cde0-410a-836a-19ef767b61c8",
   "metadata": {},
   "source": [
    "<p id=\"String_Methods\"></p>\n",
    "\n",
    "## String Methods\n",
    "\n",
    "> [Python - String Methods](https://www.w3schools.com/python/python_strings_methods.asp) 내실 다지기 이므로 모든 함수를 실행해본다.\n"
   ]
  },
  {
   "cell_type": "markdown",
   "id": "875ce29a-36ad-45e9-93f6-8db4719024e0",
   "metadata": {},
   "source": [
    "<p id=\"capitalize\"></p>\n",
    "\n",
    "## string.capitalize()\n",
    "\n",
    "- 문자열의 첫 단어를 대문자로 바꾼다."
   ]
  },
  {
   "cell_type": "code",
   "execution_count": 23,
   "id": "f0278bfb-0630-4e30-a675-a366e6fcf439",
   "metadata": {},
   "outputs": [
    {
     "name": "stdout",
     "output_type": "stream",
     "text": [
      "Hello, and welcome to my world.\n"
     ]
    }
   ],
   "source": [
    "txt = \"hello, and welcome to my world.\"\n",
    "\n",
    "x = txt.capitalize()\n",
    "\n",
    "print (x)"
   ]
  },
  {
   "cell_type": "markdown",
   "id": "2ada5249-953b-4634-8d1b-682ed3d04f20",
   "metadata": {},
   "source": [
    "<p id=\"casefold\"></p>\n",
    "\n",
    "## string.casefold()\n",
    "\n",
    "- 문자열을 소문자로 바꾸어주는 함수인데 lower()보다 더 공격적이다. [예시로 독일어 casefold()는'ß'를\"ss\"로 변환](https://www.delftstack.com/ko/howto/python/case-insensitive-string-comparison-in-python/)"
   ]
  },
  {
   "cell_type": "code",
   "execution_count": 15,
   "id": "4af5e1ac-f6be-438f-aa89-8d88790424d2",
   "metadata": {},
   "outputs": [
    {
     "name": "stdout",
     "output_type": "stream",
     "text": [
      "hello, and welcome to my world!\n"
     ]
    }
   ],
   "source": [
    "txt = \"Hello, And Welcome To My World!\"\n",
    "\n",
    "x = txt.casefold()\n",
    "\n",
    "print(x)"
   ]
  },
  {
   "cell_type": "markdown",
   "id": "fbcbdcfe-bc5d-4498-9c4d-33a70bd6b126",
   "metadata": {},
   "source": [
    "<p id=\"center\"></p>\n",
    "\n",
    "## string.center(length, character)\n",
    "\n",
    "- 문자열을 소문자로 바꾸어주는 함수인데 lower()보다 더 공격적이다. [예시로 독일어 casefold()는'ß'를\"ss\"로 변환](https://www.delftstack.com/ko/howto/python/case-insensitive-string-comparison-in-python/)"
   ]
  },
  {
   "cell_type": "code",
   "execution_count": 16,
   "id": "c6be7eb8-4e3d-4cd8-932a-c5bb7951f3d2",
   "metadata": {},
   "outputs": [
    {
     "name": "stdout",
     "output_type": "stream",
     "text": [
      "       banana       \n"
     ]
    }
   ],
   "source": [
    "txt = \"banana\"\n",
    "\n",
    "x = txt.center(20)\n",
    "\n",
    "print(x)"
   ]
  },
  {
   "cell_type": "code",
   "execution_count": 33,
   "id": "cd1a3fbc-8460-4a94-bc10-759b9fa7cd77",
   "metadata": {},
   "outputs": [
    {
     "name": "stdout",
     "output_type": "stream",
     "text": [
      "OOOOOOObananaOOOOOOO\n"
     ]
    }
   ],
   "source": [
    "txt = \"banana\"\n",
    "\n",
    "x = txt.center(20, \"O\")\n",
    "\n",
    "print(x)"
   ]
  },
  {
   "cell_type": "markdown",
   "id": "a1acc596-d289-4561-be62-97c8a6e0a50c",
   "metadata": {},
   "source": [
    "<p id=\"count\"></p>\n",
    "\n",
    "## string.count(value, start, end)\n",
    "\n",
    "- 해당 문자열에서 특정 단어가 몇개 있는지 확인할 수 있는 함수"
   ]
  },
  {
   "cell_type": "code",
   "execution_count": 17,
   "id": "45edf0aa-3313-4ed3-8b1c-40522e88335c",
   "metadata": {},
   "outputs": [
    {
     "name": "stdout",
     "output_type": "stream",
     "text": [
      "2\n"
     ]
    }
   ],
   "source": [
    "txt = \"I love apples, apple are my favorite fruit\"\n",
    "\n",
    "x = txt.count(\"apple\")\n",
    "\n",
    "print(x)"
   ]
  },
  {
   "cell_type": "code",
   "execution_count": 38,
   "id": "39dcb89f-8c63-4a2f-8977-4d9b65aa5f48",
   "metadata": {},
   "outputs": [
    {
     "name": "stdout",
     "output_type": "stream",
     "text": [
      "1\n"
     ]
    }
   ],
   "source": [
    "txt = \"I love apples, apple are my favorite fruit\"\n",
    "\n",
    "x = txt.count(\"apple\", 10, 24)\n",
    "\n",
    "print(x)"
   ]
  },
  {
   "cell_type": "markdown",
   "id": "307d039c-e23e-4443-bb88-00d966ca4c17",
   "metadata": {},
   "source": [
    "<p id=\"encode\"></p>\n",
    "\n",
    "## string.encode(encoding=encoding, errors=errors)\n",
    "\n",
    "- Default is UTF-8 문자열을 인코딩 한다."
   ]
  },
  {
   "cell_type": "code",
   "execution_count": 18,
   "id": "bffc93fa-eb3a-45fd-b800-6b4f053510ee",
   "metadata": {},
   "outputs": [
    {
     "name": "stdout",
     "output_type": "stream",
     "text": [
      "b'My name is St\\xc3\\xa5le'\n"
     ]
    }
   ],
   "source": [
    "txt = \"My name is Ståle\"\n",
    "\n",
    "x = txt.encode()\n",
    "\n",
    "print(x)"
   ]
  },
  {
   "cell_type": "code",
   "execution_count": 41,
   "id": "76bf7a80-c075-49dd-8a19-0c9e6319c2da",
   "metadata": {},
   "outputs": [
    {
     "name": "stdout",
     "output_type": "stream",
     "text": [
      "b'My name is St\\\\xe5le'\n",
      "b'My name is Stle'\n",
      "b'My name is St\\\\N{LATIN SMALL LETTER A WITH RING ABOVE}le'\n",
      "b'My name is St?le'\n",
      "b'My name is St&#229;le'\n"
     ]
    }
   ],
   "source": [
    "txt = \"My name is Ståle\"\n",
    "\n",
    "print(txt.encode(encoding=\"ascii\",errors=\"backslashreplace\"))\n",
    "print(txt.encode(encoding=\"ascii\",errors=\"ignore\"))\n",
    "print(txt.encode(encoding=\"ascii\",errors=\"namereplace\"))\n",
    "print(txt.encode(encoding=\"ascii\",errors=\"replace\"))\n",
    "print(txt.encode(encoding=\"ascii\",errors=\"xmlcharrefreplace\"))"
   ]
  },
  {
   "cell_type": "markdown",
   "id": "c031bcb0-393d-49a2-872d-7a2ea6a10bbb",
   "metadata": {},
   "source": [
    "<p id=\"endswith\"></p>\n",
    "\n",
    "## string.endswith(value, start, end)\n",
    "\n",
    "- 문자열이 지정된 값으로 끝나면 True를 반환하고 그렇지 않으면 False를 반환합니다."
   ]
  },
  {
   "cell_type": "code",
   "execution_count": 19,
   "id": "bce8a5e6-0697-4b59-8b00-a9b1cf321faf",
   "metadata": {},
   "outputs": [
    {
     "name": "stdout",
     "output_type": "stream",
     "text": [
      "True\n"
     ]
    }
   ],
   "source": [
    "txt = \"Hello, welcome to my world.\"\n",
    "\n",
    "x = txt.endswith(\".\")\n",
    "\n",
    "print(x)"
   ]
  },
  {
   "cell_type": "code",
   "execution_count": 44,
   "id": "fa48824e-3425-4970-9aaa-c42a7da4e357",
   "metadata": {},
   "outputs": [
    {
     "name": "stdout",
     "output_type": "stream",
     "text": [
      "True\n"
     ]
    }
   ],
   "source": [
    "txt = \"Hello, welcome to my world.\"\n",
    "\n",
    "x = txt.endswith(\"my world.\")\n",
    "\n",
    "print(x)"
   ]
  },
  {
   "cell_type": "code",
   "execution_count": 45,
   "id": "c7d42c39-ddc6-47ff-a57d-d4dcd48908ab",
   "metadata": {},
   "outputs": [
    {
     "name": "stdout",
     "output_type": "stream",
     "text": [
      "False\n"
     ]
    }
   ],
   "source": [
    "txt = \"Hello, welcome to my world.\"\n",
    "\n",
    "x = txt.endswith(\"my world.\", 5, 11)\n",
    "\n",
    "print(x)"
   ]
  },
  {
   "cell_type": "markdown",
   "id": "9b2f754d-1066-4b3a-b950-689275f5fe36",
   "metadata": {},
   "source": [
    "<p id=\"expandtabs\"></p>\n",
    "\n",
    "## string.expandtabs(tabsize)\n",
    "\n",
    "- 탭의 크기를 조절해준다."
   ]
  },
  {
   "cell_type": "code",
   "execution_count": 20,
   "id": "bf9c14c8-7cf9-465a-9971-80837cb704a7",
   "metadata": {},
   "outputs": [
    {
     "name": "stdout",
     "output_type": "stream",
     "text": [
      "H e l l o\n"
     ]
    }
   ],
   "source": [
    "txt = \"H\\te\\tl\\tl\\to\"\n",
    "\n",
    "x =  txt.expandtabs(2)\n",
    "\n",
    "print(x)"
   ]
  },
  {
   "cell_type": "code",
   "execution_count": 49,
   "id": "3116271b-dade-4ce8-9057-a76b9094fb8a",
   "metadata": {},
   "outputs": [
    {
     "name": "stdout",
     "output_type": "stream",
     "text": [
      "H\te\tl\tl\to\n",
      "H       e       l       l       o\n",
      "H e l l o\n",
      "H   e   l   l   o\n",
      "H         e         l         l         o\n"
     ]
    }
   ],
   "source": [
    "txt = \"H\\te\\tl\\tl\\to\"\n",
    "\n",
    "print(txt)\n",
    "print(txt.expandtabs())\n",
    "print(txt.expandtabs(2))\n",
    "print(txt.expandtabs(4))\n",
    "print(txt.expandtabs(10))"
   ]
  },
  {
   "cell_type": "markdown",
   "id": "5f6bafc9-6114-4787-85bc-ac0497c2acd1",
   "metadata": {},
   "source": [
    "<p id=\"find\"></p>\n",
    "\n",
    "## string.find(value, start, end)\n",
    "\n",
    "- 특정 문자열이 어디 있는지 확인, 오류시 -1 출력"
   ]
  },
  {
   "cell_type": "code",
   "execution_count": 21,
   "id": "3febf325-3577-46ea-a8ac-b332cc09ec78",
   "metadata": {},
   "outputs": [
    {
     "name": "stdout",
     "output_type": "stream",
     "text": [
      "7\n"
     ]
    }
   ],
   "source": [
    "txt = \"Hello, welcome to my world.\"\n",
    "\n",
    "x = txt.find(\"welcome\")\n",
    "\n",
    "print(x)"
   ]
  },
  {
   "cell_type": "markdown",
   "id": "0243f55c-5d31-4240-a1e6-d709a17954e0",
   "metadata": {},
   "source": [
    "<p id=\"index\"></p>\n",
    "\n",
    "## string.index(value, start, end)\n",
    "\n",
    "- 특정 문자열이 어디 있는지 확인, 오류시 에러 출력"
   ]
  },
  {
   "cell_type": "code",
   "execution_count": 22,
   "id": "6668b765-aee7-4650-9f2b-0e95322bcdb7",
   "metadata": {},
   "outputs": [
    {
     "name": "stdout",
     "output_type": "stream",
     "text": [
      "1\n"
     ]
    }
   ],
   "source": [
    "txt = \"Hello, welcome to my world.\"\n",
    "\n",
    "x = txt.index(\"e\")\n",
    "\n",
    "print(x)"
   ]
  },
  {
   "cell_type": "code",
   "execution_count": 63,
   "id": "274aa363-f1d9-4d32-a648-246b9e0b5107",
   "metadata": {},
   "outputs": [
    {
     "name": "stdout",
     "output_type": "stream",
     "text": [
      "-1\n"
     ]
    },
    {
     "ename": "ValueError",
     "evalue": "substring not found",
     "output_type": "error",
     "traceback": [
      "\u001b[1;31m---------------------------------------------------------------------------\u001b[0m",
      "\u001b[1;31mValueError\u001b[0m                                Traceback (most recent call last)",
      "Input \u001b[1;32mIn [63]\u001b[0m, in \u001b[0;36m<cell line: 4>\u001b[1;34m()\u001b[0m\n\u001b[0;32m      1\u001b[0m txt \u001b[38;5;241m=\u001b[39m \u001b[38;5;124m\"\u001b[39m\u001b[38;5;124mHello, welcome to my world.\u001b[39m\u001b[38;5;124m\"\u001b[39m\n\u001b[0;32m      3\u001b[0m \u001b[38;5;28mprint\u001b[39m(txt\u001b[38;5;241m.\u001b[39mfind(\u001b[38;5;124m\"\u001b[39m\u001b[38;5;124mq\u001b[39m\u001b[38;5;124m\"\u001b[39m))\n\u001b[1;32m----> 4\u001b[0m \u001b[38;5;28mprint\u001b[39m(\u001b[43mtxt\u001b[49m\u001b[38;5;241;43m.\u001b[39;49m\u001b[43mindex\u001b[49m\u001b[43m(\u001b[49m\u001b[38;5;124;43m\"\u001b[39;49m\u001b[38;5;124;43mq\u001b[39;49m\u001b[38;5;124;43m\"\u001b[39;49m\u001b[43m)\u001b[49m)\n",
      "\u001b[1;31mValueError\u001b[0m: substring not found"
     ]
    }
   ],
   "source": [
    "txt = \"Hello, welcome to my world.\"\n",
    "\n",
    "print(txt.find(\"q\"))\n",
    "print(txt.index(\"q\"))"
   ]
  },
  {
   "cell_type": "markdown",
   "id": "d3d94bd4-170e-47ac-bf42-f27203f0226a",
   "metadata": {},
   "source": [
    "<p id=\"format\"></p>\n",
    "\n",
    "## string.format(value1, value2...)\n",
    "\n",
    "- 양이 많으므로 따로 추후 블로그에 다룬다."
   ]
  },
  {
   "cell_type": "markdown",
   "id": "91218816-2b39-4df6-984a-dd69832e8f3b",
   "metadata": {},
   "source": [
    "<p id=\"isalnum\"></p>\n",
    "\n",
    "## string.isalnum()\n",
    "\n",
    "- 문자열이 숫자와 알파벳으로만 이루어졌는지 확인하는 함수"
   ]
  },
  {
   "cell_type": "code",
   "execution_count": 23,
   "id": "b4a333f0-ebd7-46b9-b2e3-3b670d006c50",
   "metadata": {},
   "outputs": [
    {
     "name": "stdout",
     "output_type": "stream",
     "text": [
      "True\n"
     ]
    }
   ],
   "source": [
    "txt = \"Company12\"\n",
    "\n",
    "x = txt.isalnum()\n",
    "\n",
    "print(x)"
   ]
  },
  {
   "cell_type": "code",
   "execution_count": 69,
   "id": "a8c78c60-1f07-482d-bf1a-0c0e0529b652",
   "metadata": {},
   "outputs": [
    {
     "name": "stdout",
     "output_type": "stream",
     "text": [
      "False\n"
     ]
    }
   ],
   "source": [
    "txt = \"Company 12\" # 빈칸이 들어가 있어서 False\n",
    "\n",
    "x = txt.isalnum()\n",
    "\n",
    "print(x)"
   ]
  },
  {
   "cell_type": "markdown",
   "id": "b9633c48-55bc-4741-af45-4fc9628e0bc9",
   "metadata": {},
   "source": [
    "<p id=\"isalpha\"></p>\n",
    "\n",
    "## string.isalpha()\n",
    "\n",
    "- 알파벳으로 이루어져있는지 확인"
   ]
  },
  {
   "cell_type": "code",
   "execution_count": 24,
   "id": "fe77982e-32c8-4afb-a5a6-55328eee7170",
   "metadata": {},
   "outputs": [
    {
     "name": "stdout",
     "output_type": "stream",
     "text": [
      "True\n"
     ]
    }
   ],
   "source": [
    "txt = \"CompanyX\"\n",
    "\n",
    "x = txt.isalpha()\n",
    "\n",
    "print(x)"
   ]
  },
  {
   "cell_type": "code",
   "execution_count": 73,
   "id": "70eb48ee-6ca3-4a1c-aeb8-0c0e315b3810",
   "metadata": {},
   "outputs": [
    {
     "name": "stdout",
     "output_type": "stream",
     "text": [
      "False\n"
     ]
    }
   ],
   "source": [
    "txt = \"Company10\"\n",
    "\n",
    "x = txt.isalpha()\n",
    "\n",
    "print(x)"
   ]
  },
  {
   "cell_type": "markdown",
   "id": "157d8b81-9832-4216-97d7-dfd3abe099ab",
   "metadata": {},
   "source": [
    "<p id=\"isdecimal\"></p>\n",
    "\n",
    "## string.isdecimal()\n",
    "\n",
    "- 유니코드 문자열에서만 사용되며 모든 문자가 소수(0-9)이면 True를 반환합니다."
   ]
  },
  {
   "cell_type": "code",
   "execution_count": 25,
   "id": "a5345e32-65b6-4573-b542-ab7d395fedb5",
   "metadata": {},
   "outputs": [
    {
     "name": "stdout",
     "output_type": "stream",
     "text": [
      "True\n"
     ]
    }
   ],
   "source": [
    "txt = \"\\u0033\" #unicode for 3\n",
    "\n",
    "x = txt.isdecimal()\n",
    "\n",
    "print(x)"
   ]
  },
  {
   "cell_type": "code",
   "execution_count": 75,
   "id": "93a587fc-3cbf-45ec-9bd3-30d7aa6c5466",
   "metadata": {},
   "outputs": [
    {
     "name": "stdout",
     "output_type": "stream",
     "text": [
      "True\n",
      "False\n"
     ]
    }
   ],
   "source": [
    "a = \"\\u0030\" #unicode for 0\n",
    "b = \"\\u0047\" #unicode for G\n",
    "\n",
    "print(a.isdecimal())\n",
    "print(b.isdecimal())"
   ]
  },
  {
   "cell_type": "markdown",
   "id": "145ca0e9-4bd6-4002-9b85-8ce882f8f028",
   "metadata": {},
   "source": [
    "<p id=\"isdigit\"></p>\n",
    "\n",
    "## string.isdigit()\n",
    "\n",
    "- 숫자인지 확인"
   ]
  },
  {
   "cell_type": "code",
   "execution_count": 26,
   "id": "63a996c6-a9ac-4dac-89d9-d6e3be595ea7",
   "metadata": {},
   "outputs": [
    {
     "name": "stdout",
     "output_type": "stream",
     "text": [
      "True\n"
     ]
    }
   ],
   "source": [
    "txt = \"50800\"\n",
    "\n",
    "x = txt.isdigit()\n",
    "\n",
    "print(x)"
   ]
  },
  {
   "cell_type": "code",
   "execution_count": 85,
   "id": "7be070ae-4ffd-497b-ae56-b10ab8832e27",
   "metadata": {},
   "outputs": [
    {
     "name": "stdout",
     "output_type": "stream",
     "text": [
      "True\n",
      "True\n"
     ]
    }
   ],
   "source": [
    "a = \"\\u0030\" #unicode for 0\n",
    "b = \"\\u00B2\" #unicode for ²\n",
    "\n",
    "print(a.isdigit())\n",
    "print(b.isdigit())"
   ]
  },
  {
   "cell_type": "markdown",
   "id": "369a14d7-4e73-4a24-8095-50cacc6fec30",
   "metadata": {},
   "source": [
    "<p id=\"isidentifier\"></p>\n",
    "\n",
    "## string.isidentifier()\n",
    "\n",
    "- 문자열이 유효한 식별자이면 True를 반환하고 그렇지 않으면 False를 반환\n",
    "- 유효한 식별자 영숫자(az) 및 (0-9) 또는 밑줄(_)만 포함하는 경우 유효한 식별자, 숫자로 시작하거나 공백을 포함할 수 없습니다."
   ]
  },
  {
   "cell_type": "code",
   "execution_count": 27,
   "id": "1651b87e-08c3-47c9-9028-4823ea4e4b07",
   "metadata": {},
   "outputs": [
    {
     "name": "stdout",
     "output_type": "stream",
     "text": [
      "True\n"
     ]
    }
   ],
   "source": [
    "txt = \"Demo\"\n",
    "\n",
    "x = txt.isidentifier()\n",
    "\n",
    "print(x)"
   ]
  },
  {
   "cell_type": "code",
   "execution_count": 88,
   "id": "1ccf58da-536b-4695-afe1-9b3e38c654e4",
   "metadata": {},
   "outputs": [
    {
     "name": "stdout",
     "output_type": "stream",
     "text": [
      "True\n",
      "True\n",
      "False\n",
      "False\n"
     ]
    }
   ],
   "source": [
    "a = \"MyFolder\"\n",
    "b = \"Demo002\"\n",
    "c = \"2bring\"\n",
    "d = \"my demo\"\n",
    "\n",
    "print(a.isidentifier())\n",
    "print(b.isidentifier())\n",
    "print(c.isidentifier())\n",
    "print(d.isidentifier())"
   ]
  },
  {
   "cell_type": "markdown",
   "id": "0fa514b6-0925-429b-9f6c-2027d5fe6abe",
   "metadata": {},
   "source": [
    "<p id=\"islower\"></p>\n",
    "\n",
    "## string.islower()\n",
    "\n",
    "- 알파벳 문자열을 소문자로 바꾸어준다."
   ]
  },
  {
   "cell_type": "code",
   "execution_count": 28,
   "id": "d0df8439-3516-4dc3-b401-d463b3cc8ffd",
   "metadata": {},
   "outputs": [
    {
     "name": "stdout",
     "output_type": "stream",
     "text": [
      "True\n"
     ]
    }
   ],
   "source": [
    "txt = \"hello world!\"\n",
    "\n",
    "x = txt.islower()\n",
    "\n",
    "print(x)"
   ]
  },
  {
   "cell_type": "code",
   "execution_count": 90,
   "id": "61f08475-c0c1-4952-a00e-a97e29e0b275",
   "metadata": {},
   "outputs": [
    {
     "name": "stdout",
     "output_type": "stream",
     "text": [
      "False\n",
      "True\n",
      "False\n"
     ]
    }
   ],
   "source": [
    "a = \"Hello world!\"\n",
    "b = \"hello 123\"\n",
    "c = \"mynameisPeter\"\n",
    "\n",
    "print(a.islower())\n",
    "print(b.islower())\n",
    "print(c.islower())"
   ]
  },
  {
   "cell_type": "markdown",
   "id": "60d4dd99-e6da-47da-be3d-c7cb72e97ab9",
   "metadata": {},
   "source": [
    "<p id=\"isloisnumericwer\"></p>\n",
    "\n",
    "## string.isnumeric()\n",
    "\n",
    "- 숫자로만 이루어져있는지, 음수 소수도 안된다."
   ]
  },
  {
   "cell_type": "code",
   "execution_count": 29,
   "id": "5ac10298-eb94-4aa9-89a1-9d36fdd70500",
   "metadata": {},
   "outputs": [
    {
     "name": "stdout",
     "output_type": "stream",
     "text": [
      "True\n"
     ]
    }
   ],
   "source": [
    "txt = \"565543\"\n",
    "\n",
    "x = txt.isnumeric()\n",
    "\n",
    "print(x)"
   ]
  },
  {
   "cell_type": "code",
   "execution_count": 92,
   "id": "f01f9f7d-71d4-4ab5-b42d-7a9fb32537b4",
   "metadata": {},
   "outputs": [
    {
     "name": "stdout",
     "output_type": "stream",
     "text": [
      "True\n",
      "True\n",
      "False\n",
      "False\n",
      "False\n"
     ]
    }
   ],
   "source": [
    "a = \"\\u0030\" #unicode for 0\n",
    "b = \"\\u00B2\" #unicode for &sup2;\n",
    "c = \"10km2\"\n",
    "d = \"-1\"\n",
    "e = \"1.5\"\n",
    "\n",
    "print(a.isnumeric())\n",
    "print(b.isnumeric())\n",
    "print(c.isnumeric())\n",
    "print(d.isnumeric())\n",
    "print(e.isnumeric())"
   ]
  }
 ],
 "metadata": {
  "kernelspec": {
   "display_name": "Python 3 (ipykernel)",
   "language": "python",
   "name": "python3"
  },
  "language_info": {
   "codemirror_mode": {
    "name": "ipython",
    "version": 3
   },
   "file_extension": ".py",
   "mimetype": "text/x-python",
   "name": "python",
   "nbconvert_exporter": "python",
   "pygments_lexer": "ipython3",
   "version": "3.7.13"
  }
 },
 "nbformat": 4,
 "nbformat_minor": 5
}
