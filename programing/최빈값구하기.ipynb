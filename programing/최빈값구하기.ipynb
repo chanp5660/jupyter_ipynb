{
 "cells": [
  {
   "cell_type": "markdown",
   "id": "c9360bd0-7594-49bb-ad90-230b83aae972",
   "metadata": {
    "tags": []
   },
   "source": [
    "---\n",
    "layout: post  \n",
    "current: post  \n",
    "cover:  assets/built/images/최빈값구하기.png  \n",
    "navigation: True  \n",
    "title: 최빈값구하기  \n",
    "date: 2023-03-01 00:00:00 +0900  \n",
    "tags: [programing,python]  \n",
    "class: post-template  \n",
    "subclass: 'post tag-python'  \n",
    "author: chanp5660  \n",
    "---"
   ]
  },
  {
   "cell_type": "markdown",
   "id": "313eb413-397e-404f-bc85-401fa7005aea",
   "metadata": {},
   "source": [
    "# 최빈값 구하기\n",
    "\n",
    "[프로그래머스-최빈값구하기](https://school.programmers.co.kr/learn/courses/30/lessons/120812)\n",
    "\n",
    "> 주어진 배열에서 빈도수가 가장 많은 원소를 출력, 최빈값이 2개 이상일 경우는 -1 출력"
   ]
  },
  {
   "cell_type": "code",
   "execution_count": 1,
   "id": "02836a2e-40b7-46d9-b18e-257b3aefd6a9",
   "metadata": {},
   "outputs": [
    {
     "name": "stdout",
     "output_type": "stream",
     "text": [
      "2\n",
      "-1\n"
     ]
    }
   ],
   "source": [
    "def solution(array):\n",
    "    # 딕셔너리를 사용해서 각 원소마다 빈도수를 구해준다.\n",
    "    # set을 사용하여 나타낼수도 있지만 효율적으로는 O(N)만 사용하는게 가장 좋을 것 같았다.\n",
    "    tmp_dict = {}\n",
    "    for i in array:\n",
    "        tmp_dict[i] = tmp_dict.get(i,0) + 1\n",
    "    \n",
    "    # 원소와 빈도수를 각각의 리스트에 저장해준다.\n",
    "    keys_list = list(tmp_dict.keys())\n",
    "    values_list = list(tmp_dict.values())\n",
    "    \n",
    "    # 최빈값이 여러개인지 확인 후 출력\n",
    "    if values_list.count(max(values_list)) > 1: return -1\n",
    "    else : return keys_list[values_list.index(max(values_list))]\n",
    "\n",
    "a = [1,1,2,2,2,3,3,4]\n",
    "b = [1,1,2,2]\n",
    "\n",
    "print(solution(a))\n",
    "print(solution(b))"
   ]
  },
  {
   "cell_type": "markdown",
   "id": "a95009f5-985c-4a1c-8b71-b6816efd2035",
   "metadata": {},
   "source": [
    "- 알고리즘\n",
    "    - 리스트를 딕셔너리형태로 변형하여 각 원소마다 빈도수를 구한다.\n",
    "        - dict get을 사용하여 초기화 및 빈도 증가\n",
    "    - 최대 빈도수가 겹치는 숫자가 있는지 확인하고 출력한다.\n",
    "        - count와 max를 사용해서 최대빈도수의 개수를 확인\n",
    "        - index를 사용하여 최대빈도수의 원소를 확인\n",
    "        \n",
    "- 추가 정보\n",
    "> 풀이 추천 1등의 풀이에서는 내장함수 set을 사용하여 원소값의 중복을 제거하고 해당 원소를 하나씩 없애보면서 최빈값만 남을 때까지 반복한다. 최빈값의 중복이 있다면 마지막에 같이 없어져 array의 길이가 0이 되므로 -1을 출력해준다.\n",
    "```{python}\n",
    "def solution(array):\n",
    "    while len(array) != 0:\n",
    "        for i, a in enumerate(set(array)):\n",
    "            array.remove(a)\n",
    "        if i == 0: return a\n",
    "    return -1\n",
    "```"
   ]
  }
 ],
 "metadata": {
  "kernelspec": {
   "display_name": "Python 3 (ipykernel)",
   "language": "python",
   "name": "python3"
  },
  "language_info": {
   "codemirror_mode": {
    "name": "ipython",
    "version": 3
   },
   "file_extension": ".py",
   "mimetype": "text/x-python",
   "name": "python",
   "nbconvert_exporter": "python",
   "pygments_lexer": "ipython3",
   "version": "3.7.13"
  }
 },
 "nbformat": 4,
 "nbformat_minor": 5
}
